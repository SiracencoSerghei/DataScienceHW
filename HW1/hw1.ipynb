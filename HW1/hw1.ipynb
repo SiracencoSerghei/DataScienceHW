{
  "cells": [
    {
      "cell_type": "markdown",
      "metadata": {
        "colab_type": "text",
        "id": "view-in-github"
      },
      "source": [
        "<a href=\"https://colab.research.google.com/github/SiracencoSerghei/DataScienceHW/blob/main/HW1/hw1.ipynb\" target=\"_parent\"><img src=\"https://colab.research.google.com/assets/colab-badge.svg\" alt=\"Open In Colab\"/></a>"
      ]
    },
    {
      "cell_type": "markdown",
      "metadata": {
        "canvas": {
          "comments": [],
          "componentType": "CodeCell",
          "copiedOriginId": null,
          "diskcache": false,
          "headerColor": "transparent",
          "id": "6e8f50ac-5414-46bf-a3a9-944acafebfbf",
          "isComponent": false,
          "name": "",
          "parents": []
        },
        "id": "toKWwe6qpcAp",
        "tags": []
      },
      "source": [
        "# Home Work 1"
      ]
    },
    {
      "cell_type": "code",
      "execution_count": 1,
      "metadata": {
        "canvas": {
          "comments": [],
          "componentType": "CodeCell",
          "copiedOriginId": null,
          "diskcache": false,
          "headerColor": "transparent",
          "id": "80afa2d1-cc62-41da-9b95-2e62ccaf1573",
          "isComponent": false,
          "name": "",
          "parents": []
        },
        "id": "omXS55IcptG-"
      },
      "outputs": [],
      "source": [
        "import numpy as np"
      ]
    },
    {
      "cell_type": "markdown",
      "metadata": {
        "canvas": {
          "comments": [],
          "componentType": "CodeCell",
          "copiedOriginId": null,
          "diskcache": false,
          "headerColor": "transparent",
          "id": "ba9e285d-853b-4e68-a3ba-72f84b0a4b18",
          "isComponent": false,
          "name": "",
          "parents": []
        },
        "id": "fJQaFj-opplC"
      },
      "source": [
        "## Task 1"
      ]
    },
    {
      "cell_type": "markdown",
      "metadata": {
        "canvas": {
          "comments": [],
          "componentType": "CodeCell",
          "copiedOriginId": null,
          "diskcache": false,
          "headerColor": "transparent",
          "id": "e9b4dc89-3354-480a-8e4b-07b263167e39",
          "isComponent": false,
          "name": "",
          "parents": []
        },
        "id": "BX-CYUjsIRcm"
      },
      "source": [
        "###     Create a one-dimensional array (vector) with the first 10 natural numbers and print its value.\n",
        "###     Створіть одновимірний масив (вектор) з першими 10-ма натуральними числами та виведіть його значення."
      ]
    },
    {
      "cell_type": "code",
      "execution_count": null,
      "metadata": {
        "canvas": {
          "comments": [],
          "componentType": "CodeCell",
          "copiedOriginId": null,
          "diskcache": false,
          "headerColor": "transparent",
          "id": "e558968d-9dee-44c6-ac1d-d187c6df135d",
          "isComponent": false,
          "name": "",
          "parents": []
        },
        "id": "_GJK-1SkIRcm",
        "outputId": "274ce4a5-fb53-41eb-b6d8-d8a6b5eb77db"
      },
      "outputs": [
        {
          "name": "stdout",
          "output_type": "stream",
          "text": [
            "task=array([ 1,  2,  3,  4,  5,  6,  7,  8,  9, 10])\n",
            "task_1=array([ 1,  2,  3,  4,  5,  6,  7,  8,  9, 10])\n",
            "task_1_1=array([ 1,  2,  3,  4,  5,  6,  7,  8,  9, 10])\n",
            "task_1_2=array([ 1,  2,  3,  4,  5,  6,  7,  8,  9, 10])\n",
            "task_1_3=array([ 1,  2,  3,  4,  5,  6,  7,  8,  9, 10])\n",
            "task_1_4=array([ 1,  2,  3,  4,  5,  6,  7,  8,  9, 10])\n"
          ]
        }
      ],
      "source": [
        "import numpy as np\n",
        "\n",
        "lst = [1, 2, 3, 4, 5, 6, 7, 8, 9, 10]\n",
        "task = np.array(lst)\n",
        "print(f\"{task=}\")\n",
        "tpl = (1, 2, 3, 4, 5, 6, 7, 8, 9, 10)\n",
        "task_1 = np.array(tpl)\n",
        "print(f\"{task_1=}\")\n",
        "task_1_1 = np.array([i for i in range(1, 10 + 1)])\n",
        "print(f\"{task_1_1=}\")\n",
        "task_1_2 = np.arange(1, 11)\n",
        "print(f\"{task_1_2=}\")\n",
        "task_1_3 = np.linspace(1, 10, num=10, dtype=int)\n",
        "print(f\"{task_1_3=}\")\n",
        "iterable = (i for i in range(1, 11))\n",
        "task_1_4 = np.fromiter(iterable, int)\n",
        "print(f\"{task_1_4=}\")"
      ]
    },
    {
      "cell_type": "markdown",
      "metadata": {
        "canvas": {
          "comments": [],
          "componentType": "CodeCell",
          "copiedOriginId": null,
          "diskcache": false,
          "headerColor": "transparent",
          "id": "ec930467-6807-48b2-b10b-cee3153e1bf9",
          "isComponent": false,
          "name": "",
          "parents": []
        },
        "id": "k9uEnbteIRcm"
      },
      "source": [
        "## Task 2"
      ]
    },
    {
      "cell_type": "markdown",
      "metadata": {
        "canvas": {
          "comments": [],
          "componentType": "CodeCell",
          "copiedOriginId": null,
          "diskcache": false,
          "headerColor": "transparent",
          "id": "96d81e03-849f-4e93-ac8b-1df15bcb7471",
          "isComponent": false,
          "name": "",
          "parents": []
        },
        "id": "ui1jmxzHIRcm"
      },
      "source": [
        "\n",
        "###     Create a two-dimensional 3x3 array (matrix), fill it with zeros, and print its value.\n",
        "###     Створіть двовимірний масив (матрицю) розміром 3x3, заповніть його нулями та виведіть його значення."
      ]
    },
    {
      "cell_type": "code",
      "execution_count": 2,
      "metadata": {
        "canvas": {
          "comments": [],
          "componentType": "CodeCell",
          "copiedOriginId": null,
          "diskcache": false,
          "headerColor": "transparent",
          "id": "667fe9fd-e65d-4e01-be0f-f1bee4f87a55",
          "isComponent": false,
          "name": "",
          "parents": []
        },
        "colab": {
          "base_uri": "https://localhost:8080/"
        },
        "id": "rZtMnJOlIRcm",
        "outputId": "772f05ce-e1e7-453f-dcf2-1dee143e1b1a"
      },
      "outputs": [
        {
          "name": "stdout",
          "output_type": "stream",
          "text": [
            "task_2=array([[0., 0., 0.],\n",
            "       [0., 0., 0.],\n",
            "       [0., 0., 0.]])\n",
            "matrix=array([[0., 0., 0.],\n",
            "       [0., 0., 0.],\n",
            "       [0., 0., 0.]])\n",
            "matrix_0=array([[0, 0, 0],\n",
            "       [0, 0, 0],\n",
            "       [0, 0, 0]])\n"
          ]
        }
      ],
      "source": [
        "tup = (3, 3)\n",
        "task_2 = np.zeros(tup)\n",
        "# task_2\n",
        "print(f\"{task_2=}\")\n",
        "matrix = np.zeros(9).reshape(3, 3)\n",
        "print(f\"{matrix=}\")\n",
        "arr = np.array([[1, 2, 3], [4, 5, 6], [7, 8, 9]])\n",
        "matrix_0 = np.zeros_like(arr)\n",
        "print(f\"{matrix_0=}\")"
      ]
    },
    {
      "cell_type": "markdown",
      "metadata": {
        "canvas": {
          "comments": [],
          "componentType": "CodeCell",
          "copiedOriginId": null,
          "diskcache": false,
          "headerColor": "transparent",
          "id": "057deaa3-a1d4-4fc8-a9ca-f4dbaf103568",
          "isComponent": false,
          "name": "",
          "parents": []
        },
        "id": "rYKQs9q9IRcn"
      },
      "source": [
        "## Task 3"
      ]
    },
    {
      "cell_type": "markdown",
      "metadata": {
        "canvas": {
          "comments": [],
          "componentType": "CodeCell",
          "copiedOriginId": null,
          "diskcache": false,
          "headerColor": "transparent",
          "id": "b23edc1a-d4be-4324-a93f-12f6e12b8a0d",
          "isComponent": false,
          "name": "",
          "parents": []
        },
        "id": "BNByky6cIRcn"
      },
      "source": [
        "### Create a 5x5 array, fill it with random integers ranging from 1 to 10, and output its value.\n",
        "### Створіть масив розміром 5x5, заповніть його випадковими цілими числами в діапазоні від 1 до 10 та виведіть його значення."
      ]
    },
    {
      "cell_type": "code",
      "execution_count": 3,
      "metadata": {
        "canvas": {
          "comments": [],
          "componentType": "CodeCell",
          "copiedOriginId": null,
          "diskcache": false,
          "headerColor": "transparent",
          "id": "ab16a68a-a3df-4a4c-a4fb-0abaf8152200",
          "isComponent": false,
          "name": "",
          "parents": []
        },
        "colab": {
          "base_uri": "https://localhost:8080/"
        },
        "id": "dWELc-P2IRcn",
        "outputId": "85cc9b71-4819-494c-e73e-97a1e6b68ef9"
      },
      "outputs": [
        {
          "name": "stdout",
          "output_type": "stream",
          "text": [
            "t_3_1=array([[ 2,  6,  9, 10,  5],\n",
            "       [ 8,  4,  5,  4,  4],\n",
            "       [ 8,  9,  4,  4,  1],\n",
            "       [ 3,  5,  1,  7, 10],\n",
            "       [ 4,  6,  1,  1,  6]])\n",
            "t_3_2=array([[7, 1, 5, 3, 5],\n",
            "       [9, 3, 8, 6, 7],\n",
            "       [8, 3, 8, 7, 6],\n",
            "       [8, 5, 9, 5, 7],\n",
            "       [8, 6, 6, 4, 9]])\n"
          ]
        }
      ],
      "source": [
        "t_3_1 = np.random.randint(1, 11, size=(5, 5))\n",
        "print(f\"{t_3_1=}\")\n",
        "random_generator = np.random.default_rng()\n",
        "t_3_2 = random_generator.integers(1, 11, size=(5, 5))\n",
        "print(f\"{t_3_2=}\")"
      ]
    },
    {
      "cell_type": "markdown",
      "metadata": {
        "canvas": {
          "comments": [],
          "componentType": "CodeCell",
          "copiedOriginId": null,
          "diskcache": false,
          "headerColor": "transparent",
          "id": "44cdb9a8-1203-4b77-8a2d-85f9fefe185e",
          "isComponent": false,
          "name": "",
          "parents": []
        },
        "id": "-glNXu4LIRcn"
      },
      "source": [
        "## Task 4"
      ]
    },
    {
      "cell_type": "markdown",
      "metadata": {
        "canvas": {
          "comments": [],
          "componentType": "CodeCell",
          "copiedOriginId": null,
          "diskcache": false,
          "headerColor": "transparent",
          "id": "433c217c-ec4d-4cde-b77e-f812405d2a2e",
          "isComponent": false,
          "name": "",
          "parents": []
        },
        "id": "afLQhvXTIRcn"
      },
      "source": [
        "### Create a 4x4 array, fill it with random real numbers in the range from 0 to 1, and output its value.\n",
        "### Створіть масив розміром 4x4, заповніть його випадковими дійсними числами в діапазоні від 0 до 1 та виведіть його значення."
      ]
    },
    {
      "cell_type": "code",
      "execution_count": 4,
      "metadata": {
        "canvas": {
          "comments": [],
          "componentType": "CodeCell",
          "copiedOriginId": null,
          "diskcache": false,
          "headerColor": "transparent",
          "id": "63dc3c6b-4534-442b-842d-8694d1fcd61d",
          "isComponent": false,
          "name": "",
          "parents": []
        },
        "colab": {
          "base_uri": "https://localhost:8080/"
        },
        "id": "ZjHFldbUIRcn",
        "outputId": "2d00ec06-ab88-4779-e9b0-02c6ebf9c0e8"
      },
      "outputs": [
        {
          "name": "stdout",
          "output_type": "stream",
          "text": [
            "t_4_1=array([[0.1522787 , 0.84804817, 0.12309103, 0.78545967],\n",
            "       [0.08722371, 0.90573449, 0.35395634, 0.28450667],\n",
            "       [0.54447657, 0.79910479, 0.6377015 , 0.45129785],\n",
            "       [0.03561721, 0.36313297, 0.81469934, 0.86403594]])\n",
            "t_4_2=array([[0.32471228, 0.34777673, 0.89267378, 0.17497854],\n",
            "       [0.675717  , 0.92768222, 0.39419173, 0.40299489],\n",
            "       [0.20863376, 0.16520891, 0.59747642, 0.85168209],\n",
            "       [0.79912448, 0.04863081, 0.66442266, 0.09523431]])\n",
            "t_4_3=array([[0.4750967 , 0.30222116, 0.57795279, 0.95093387],\n",
            "       [0.7707863 , 0.15529924, 0.24291076, 0.79927274],\n",
            "       [0.91585316, 0.47031173, 0.92338681, 0.62603873],\n",
            "       [0.42909274, 0.8810961 , 0.44956914, 0.52086908]])\n",
            "t_4_4=array([[0.05133234, 0.54270584, 0.9635352 , 0.11862646],\n",
            "       [0.40605548, 0.06399454, 0.50180756, 0.10885083],\n",
            "       [0.44345085, 0.23005691, 0.8517567 , 0.13952803],\n",
            "       [0.48096353, 0.70504122, 0.41964908, 0.17843083]])\n"
          ]
        }
      ],
      "source": [
        "t_4_1 = np.random.random((4, 4))\n",
        "print(f\"{t_4_1=}\")\n",
        "t_4_2 = np.random.rand(4, 4)\n",
        "print(f\"{t_4_2=}\")\n",
        "t_4_3 = np.random.uniform(0, 1, (4, 4))\n",
        "print(f\"{t_4_3=}\")\n",
        "t_4_4 = random_generator.random((4, 4))\n",
        "print(f\"{t_4_4=}\")"
      ]
    },
    {
      "cell_type": "markdown",
      "metadata": {
        "id": "a4e63wgfIRcn"
      },
      "source": [
        "## Task 5"
      ]
    },
    {
      "cell_type": "markdown",
      "metadata": {
        "id": "h0Io04sKIRcn"
      },
      "source": [
        "### Create two one-dimensional arrays of size 5, fill them with random integers in the range from 1 to 10, and perform element-wise addition, subtraction, and multiplication operations on them.\n",
        "### Створіть два одновимірних масиви розміром 5, заповніть їх випадковими цілими числами в діапазоні від 1 до 10 та виконайте на них поелементні операції додавання, віднімання та множення."
      ]
    },
    {
      "cell_type": "code",
      "execution_count": 5,
      "metadata": {
        "colab": {
          "base_uri": "https://localhost:8080/"
        },
        "id": "Jnz8ElejIRcn",
        "outputId": "69fc8bdb-f975-41e9-a7ef-77c4e31d5b2b"
      },
      "outputs": [
        {
          "name": "stdout",
          "output_type": "stream",
          "text": [
            "Array 1: [7 8 2 3 6]\n",
            "Array 2: [8 3 3 2 4]\n",
            "Addition: [15 11  5  5 10]\n",
            "Subtraction: [-1  5 -1  1  2]\n",
            "Multiplication: [56 24  6  6 24]\n"
          ]
        }
      ],
      "source": [
        "task_5_1 = np.random.randint(1, 11, size=5)\n",
        "task_5_2 = np.random.randint(1, 11, size=5)\n",
        "# Print the arrays\n",
        "print(\"Array 1:\", task_5_1)\n",
        "print(\"Array 2:\", task_5_2)\n",
        "add = task_5_1 + task_5_2\n",
        "substr = task_5_1 - task_5_2\n",
        "multipl = task_5_1 * task_5_2\n",
        "# Print the results\n",
        "print(\"Addition:\", add)\n",
        "print(\"Subtraction:\", substr)\n",
        "print(\"Multiplication:\", multipl)"
      ]
    },
    {
      "cell_type": "markdown",
      "metadata": {
        "id": "ZF5B07KBIRcn"
      },
      "source": [
        "## Task 6"
      ]
    },
    {
      "cell_type": "markdown",
      "metadata": {
        "id": "yzKDbEvrIRco"
      },
      "source": [
        "### Create two vectors of size 7, fill with arbitrary numbers and find their scalar product(dot product).\n",
        "### Створіть два вектори розміром 7, заповніть довільними числами та знайдіть їх скалярний добуток."
      ]
    },
    {
      "cell_type": "code",
      "execution_count": 6,
      "metadata": {
        "colab": {
          "base_uri": "https://localhost:8080/"
        },
        "id": "Rrz6nglaIRco",
        "outputId": "e7ab2e0e-6740-40ae-f7b1-39c9161ad32a"
      },
      "outputs": [
        {
          "name": "stdout",
          "output_type": "stream",
          "text": [
            "task_6_1=array([1, 2, 3, 4, 5, 6, 7])\n",
            "task_6_2=array([ 9. , 10.5, 12. , 13.5, 15. , 16.5, 18. ])\n",
            "np.dot(task_6_1, task_6_2) = 420.0\n",
            "np.sum(task_6_1*task_6_2) = 420.0\n"
          ]
        }
      ],
      "source": [
        "task_6_1 = np.arange(1, 8)\n",
        "task_6_2 = np.linspace(9, 18, num=7)\n",
        "print(f\"{task_6_1=}\")\n",
        "print(f\"{task_6_2=}\")\n",
        "print(f\"{np.dot(task_6_1, task_6_2) = }\")\n",
        "print(f\"{np.sum(task_6_1*task_6_2) = }\")"
      ]
    },
    {
      "cell_type": "markdown",
      "metadata": {
        "id": "nB7V-leYIRco"
      },
      "source": [
        "## Task 7"
      ]
    },
    {
      "cell_type": "markdown",
      "metadata": {
        "id": "8hGnqTWSIRco"
      },
      "source": [
        "### Create two matrices of size 2x2 and 2x3, fill them with random integers between 1 and 10, and multiply them together.\n",
        "### Створіть дві матриці розміром 2x2 та 2x3, заповніть їх випадковими цілими числами в діапазоні від 1 до 10 та перемножте їх між собою."
      ]
    },
    {
      "cell_type": "code",
      "execution_count": 7,
      "metadata": {
        "colab": {
          "base_uri": "https://localhost:8080/"
        },
        "id": "a9O4Z2ibIRco",
        "outputId": "9f2e24b1-53b2-4ab4-f51b-90a491193f7c"
      },
      "outputs": [
        {
          "name": "stdout",
          "output_type": "stream",
          "text": [
            "task_7_1 = array([[ 8,  4],\n",
            "       [10,  2]])\n",
            "task_7_2 = array([[ 3,  4,  9],\n",
            "       [10,  5,  9]])\n",
            "res = array([[ 64,  52, 108],\n",
            "       [ 50,  50, 108]])\n"
          ]
        }
      ],
      "source": [
        "def create_rand_matrix(num_rows, num_cols):\n",
        "    matrix = np.random.randint(1, 11, size=(num_rows, num_cols))\n",
        "    return matrix\n",
        "\n",
        "\n",
        "task_7_1 = create_rand_matrix(2, 2)\n",
        "task_7_2 = create_rand_matrix(2, 3)\n",
        "print(f\"{task_7_1 = }\")\n",
        "print(f\"{task_7_2 = }\")\n",
        "\n",
        "res = np.dot(task_7_1, task_7_2)\n",
        "print(f\"{res = }\")"
      ]
    },
    {
      "cell_type": "markdown",
      "metadata": {
        "id": "cENxvO9pIRco"
      },
      "source": [
        "## Task 8"
      ]
    },
    {
      "cell_type": "markdown",
      "metadata": {
        "id": "Nq2dFX3AIRco"
      },
      "source": [
        "### Create a 3x3 matrix, fill it with random integers from 1 to 10, and find its inverse.\n",
        "### Створіть матрицю розміром 3x3, заповніть її випадковими цілими числами в діапазоні від 1 до 10 та знайдіть її обернену матрицю."
      ]
    },
    {
      "cell_type": "code",
      "execution_count": 8,
      "metadata": {
        "colab": {
          "base_uri": "https://localhost:8080/"
        },
        "id": "BYBSb74DIRco",
        "outputId": "da479810-91c6-4839-9472-56aad03a6d25"
      },
      "outputs": [
        {
          "name": "stdout",
          "output_type": "stream",
          "text": [
            "task_8 = array([[10,  6,  3],\n",
            "       [10,  1,  4],\n",
            "       [ 2,  8,  9]])\n",
            "I = array([[ 0.04713115,  0.06147541, -0.04303279],\n",
            "       [ 0.16803279, -0.17213115,  0.0204918 ],\n",
            "       [-0.15983607,  0.13934426,  0.10245902]])\n",
            "task_8 = array([[10,  6,  3],\n",
            "       [10,  1,  4],\n",
            "       [ 2,  8,  9]])\n"
          ]
        }
      ],
      "source": [
        "task_8 = create_rand_matrix(3, 3)\n",
        "print(f\"{task_8 = }\")\n",
        "I = np.linalg.inv(task_8)\n",
        "print(f\"{I = }\")\n",
        "print(f\"{task_8 = }\")"
      ]
    },
    {
      "cell_type": "markdown",
      "metadata": {
        "id": "udrzfVOdIRco"
      },
      "source": [
        "# Task 9"
      ]
    },
    {
      "cell_type": "markdown",
      "metadata": {
        "id": "sfhQYOJfIRcp"
      },
      "source": [
        "### Create a 4x4 matrix, fill it with random real numbers ranging from 0 to 1, and transpose it.\n",
        "### Створіть матрицю розміром 4x4, заповніть її випадковими дійсними числами в діапазоні від 0 до 1 та транспонуйте її."
      ]
    },
    {
      "cell_type": "code",
      "execution_count": 9,
      "metadata": {
        "colab": {
          "base_uri": "https://localhost:8080/"
        },
        "id": "9laSCzgjIRcp",
        "outputId": "5fc452da-1407-400e-f745-3652067ffcc4"
      },
      "outputs": [
        {
          "name": "stdout",
          "output_type": "stream",
          "text": [
            "task_9 = array([[0.57311631, 0.96514021, 0.16315454, 0.95377746],\n",
            "       [0.45122773, 0.16403928, 0.33657421, 0.77521392],\n",
            "       [0.08520148, 0.36479029, 0.09777107, 0.40199488],\n",
            "       [0.0813676 , 0.34225248, 0.70501249, 0.0820656 ]])\n",
            "Transpose = array([[0.57311631, 0.45122773, 0.08520148, 0.0813676 ],\n",
            "       [0.96514021, 0.16403928, 0.36479029, 0.34225248],\n",
            "       [0.16315454, 0.33657421, 0.09777107, 0.70501249],\n",
            "       [0.95377746, 0.77521392, 0.40199488, 0.0820656 ]])\n"
          ]
        }
      ],
      "source": [
        "task_9 = np.random.random((4, 4))\n",
        "print(f\"{task_9 = }\")\n",
        "Transpose = task_9.T\n",
        "print(f\"{Transpose = }\")"
      ]
    },
    {
      "cell_type": "markdown",
      "metadata": {
        "id": "u3x65iNRIRcp"
      },
      "source": [
        "# Task 10"
      ]
    },
    {
      "cell_type": "markdown",
      "metadata": {
        "id": "m6pv-4zrIRcp"
      },
      "source": [
        "### Create a 3x4 matrix and a 4 vector, fill them with random integers ranging from 1 to 10, and multiply the matrix by the vector.\n",
        "### Створіть матрицю розміром 3x4 та вектор розміром 4, заповніть їх випадковими цілими числами в діапазоні від 1 до 10 та перемножте матрицю на вектор."
      ]
    },
    {
      "cell_type": "code",
      "execution_count": 10,
      "metadata": {
        "colab": {
          "base_uri": "https://localhost:8080/"
        },
        "id": "JJc5ts4bIRcp",
        "outputId": "d9da4582-9179-478f-a5bf-e2b2c9e5f155"
      },
      "outputs": [
        {
          "name": "stdout",
          "output_type": "stream",
          "text": [
            "matrix_task_10 = array([[ 6,  5,  3, 10],\n",
            "       [10,  7,  7,  7],\n",
            "       [ 3,  7,  1,  6]])\n",
            "vector_task_10 = array([2, 7, 3, 6])\n",
            "res_task_10 =array([116, 132,  94])\n"
          ]
        }
      ],
      "source": [
        "matrix_task_10 = create_rand_matrix(3, 4)\n",
        "vector_task_10 = np.random.randint(1, 11, size=4)\n",
        "print(f\"{matrix_task_10 = }\")\n",
        "print(f\"{vector_task_10 = }\")\n",
        "res_task_10 = np.dot(matrix_task_10, vector_task_10)\n",
        "print(f\"{res_task_10 =}\")"
      ]
    },
    {
      "cell_type": "markdown",
      "metadata": {
        "id": "d2PvLVYUIRcp"
      },
      "source": [
        "# TASK 11"
      ]
    },
    {
      "cell_type": "markdown",
      "metadata": {
        "id": "EqC9HFvMIRcp"
      },
      "source": [
        "### Create a matrix of size 2x3 and a vector of size 3, fill them with random real numbers ranging from 0 to 1, and multiply the matrix by the vector.\n",
        "### Створіть матрицю розміром 2x3 та вектор розміром 3, заповніть їх випадковими дійсними числами в діапазоні від 0 до 1 та перемножте матрицю на вектор."
      ]
    },
    {
      "cell_type": "code",
      "execution_count": 11,
      "metadata": {
        "colab": {
          "base_uri": "https://localhost:8080/"
        },
        "id": "6--HiMKJIRcp",
        "outputId": "972c03e8-3db9-4d21-e24f-ebfd93cbc019"
      },
      "outputs": [
        {
          "name": "stdout",
          "output_type": "stream",
          "text": [
            "matrix_task_11 = array([[0.09283433, 0.86864703, 0.17268586],\n",
            "       [0.17784387, 0.36990568, 0.80303793]])\n",
            "vector_task_11 = array([0.44186936, 0.46955865, 0.6829931 ])\n",
            "res_task_11 = array([0.56684462, 0.80074553])\n"
          ]
        }
      ],
      "source": [
        "matrix_task_11 = np.random.random((2, 3))\n",
        "vector_task_11 = np.random.random(3)\n",
        "print(f\"{matrix_task_11 = }\")\n",
        "print(f\"{vector_task_11 = }\")\n",
        "res_task_11 = np.dot(matrix_task_11, vector_task_11)\n",
        "print(f\"{res_task_11 = }\")"
      ]
    },
    {
      "cell_type": "markdown",
      "metadata": {
        "id": "2sL3n7dUIRcq"
      },
      "source": [
        "## Task 12"
      ]
    },
    {
      "cell_type": "markdown",
      "metadata": {
        "id": "4TvZPcmlIRcq"
      },
      "source": [
        "### Create two 2x2 matrices, fill them with random integers in the range from 1 to 10, and perform their element-wise multiplication.\n",
        "### Створіть дві матриці розміром 2x2, заповніть їх випадковими цілими числами в діапазоні від 1 до 10 та виконайте їхнє поелементне множення."
      ]
    },
    {
      "cell_type": "code",
      "execution_count": 12,
      "metadata": {
        "colab": {
          "base_uri": "https://localhost:8080/"
        },
        "id": "oNXBy87rIRcq",
        "outputId": "69f7c19f-16b5-4a48-de3c-1b960e2a6622"
      },
      "outputs": [
        {
          "name": "stdout",
          "output_type": "stream",
          "text": [
            "matrix_12_1 = array([[ 1, 10],\n",
            "       [ 5, 10]])\n",
            "matrix_12_2 = array([[4, 3],\n",
            "       [4, 2]])\n",
            "element_wise_mult = array([[ 4, 30],\n",
            "       [20, 20]])\n"
          ]
        }
      ],
      "source": [
        "matrix_12_1 = create_rand_matrix(2, 2)\n",
        "matrix_12_2 = create_rand_matrix(2, 2)\n",
        "print(f\"{matrix_12_1 = }\")\n",
        "print(f\"{matrix_12_2 = }\")\n",
        "element_wise_mult = matrix_12_1 * matrix_12_2\n",
        "print(f\"{element_wise_mult = }\")"
      ]
    },
    {
      "cell_type": "markdown",
      "metadata": {
        "id": "rdpfLi6CIRcq"
      },
      "source": [
        "## Task 13"
      ]
    },
    {
      "cell_type": "markdown",
      "metadata": {
        "id": "pSTzbqowIRct"
      },
      "source": [
        "### Create two 2x2 matrices, fill them with random integers ranging from 1 to 10, and find their product.\n",
        "### Створіть дві матриці розміром 2x2, заповніть їх випадковими цілими числами в діапазоні від 1 до 10 та знайдіть їх добуток."
      ]
    },
    {
      "cell_type": "code",
      "execution_count": 13,
      "metadata": {
        "colab": {
          "base_uri": "https://localhost:8080/"
        },
        "id": "oF2NZjXQIRct",
        "outputId": "d47c045f-5880-4905-dbe1-12095dc67afe"
      },
      "outputs": [
        {
          "name": "stdout",
          "output_type": "stream",
          "text": [
            "matrix_13_1 = array([[10,  8],\n",
            "       [ 8,  8]])\n",
            "matrix_13_2 = array([[7, 8],\n",
            "       [4, 9]])\n",
            "prod = array([[102, 152],\n",
            "       [ 88, 136]])\n"
          ]
        }
      ],
      "source": [
        "matrix_13_1 = np.random.randint(1, 11, (2, 2))\n",
        "matrix_13_2 = np.random.randint(1, 11, (2, 2))\n",
        "print(f\"{matrix_13_1 = }\")\n",
        "print(f\"{matrix_13_2 = }\")\n",
        "prod = np.dot(matrix_13_1, matrix_13_2)\n",
        "print(f\"{prod = }\")"
      ]
    },
    {
      "cell_type": "markdown",
      "metadata": {
        "id": "R0UIFEFwIRct"
      },
      "source": [
        "## Task 14"
      ]
    },
    {
      "cell_type": "markdown",
      "metadata": {
        "id": "Z0dhUbVRIRct"
      },
      "source": [
        "### Create a 5x5 matrix, fill it with random integers ranging from 1 to 100, and find the sum of the matrix elements.\n",
        "### Створіть матрицю розміром 5x5, заповніть її випадковими цілими числами в діапазоні від 1 до 100 та знайдіть суму елементів матриці."
      ]
    },
    {
      "cell_type": "code",
      "execution_count": 14,
      "metadata": {
        "colab": {
          "base_uri": "https://localhost:8080/"
        },
        "id": "TJmGrSgPIRct",
        "outputId": "abc01bfc-d944-4394-c00e-5385acb5d6d6"
      },
      "outputs": [
        {
          "name": "stdout",
          "output_type": "stream",
          "text": [
            "matrix_14 = array([[ 30,  54,  77,  21,  37],\n",
            "       [ 89,  91, 100,  93,  48],\n",
            "       [ 92,  53,  36,  45,  96],\n",
            "       [ 54,  69,  90,  61,  93],\n",
            "       [  5,  82,  87,  17,  23]])\n",
            "sum1 = 1543\n",
            "sum2 = 1543\n"
          ]
        }
      ],
      "source": [
        "matrix_14 = np.random.randint(1, 101, (5, 5))\n",
        "print(f\"{matrix_14 = }\")\n",
        "sum1 = np.sum(matrix_14)\n",
        "print(f\"{sum1 = }\")\n",
        "sum2 = matrix_14.sum()\n",
        "print(f\"{sum2 = }\")"
      ]
    },
    {
      "cell_type": "markdown",
      "metadata": {
        "id": "pY8hSepkIRct"
      },
      "source": [
        "## Task 15"
      ]
    },
    {
      "cell_type": "markdown",
      "metadata": {
        "id": "DtWQp5nZIRcu"
      },
      "source": [
        "### Create two 4x4 matrices, fill them with random integers ranging from 1 to 10, and find their difference.\n",
        "### Створіть дві матриці розміром 4x4, заповніть їх випадковими цілими числами в діапазоні від 1 до 10 та знайдіть їхню різницю."
      ]
    },
    {
      "cell_type": "code",
      "execution_count": 15,
      "metadata": {
        "colab": {
          "base_uri": "https://localhost:8080/"
        },
        "id": "xzzwfqgeIRcu",
        "outputId": "d87092fc-0d53-4d52-8dcd-09303d782f79"
      },
      "outputs": [
        {
          "name": "stdout",
          "output_type": "stream",
          "text": [
            "matrix_15_1 = array([[ 8,  6,  8,  3],\n",
            "       [ 4,  2, 10,  8],\n",
            "       [ 4,  2, 10,  2],\n",
            "       [ 3,  2,  2,  6]])\n",
            "matrix_15_2 = array([[8, 3, 3, 9],\n",
            "       [4, 1, 1, 2],\n",
            "       [2, 6, 5, 2],\n",
            "       [2, 7, 9, 2]])\n",
            "diff = array([[ 0,  3,  5, -6],\n",
            "       [ 0,  1,  9,  6],\n",
            "       [ 2, -4,  5,  0],\n",
            "       [ 1, -5, -7,  4]])\n"
          ]
        }
      ],
      "source": [
        "matrix_15_1 = np.random.randint(1, 11, (4, 4))\n",
        "matrix_15_2 = np.random.randint(1, 11, (4, 4))\n",
        "diff = matrix_15_1 - matrix_15_2\n",
        "print(f\"{matrix_15_1 = }\")\n",
        "print(f\"{matrix_15_2 = }\")\n",
        "print(f\"{diff = }\")"
      ]
    },
    {
      "cell_type": "markdown",
      "metadata": {
        "id": "eguN49FRIRcu"
      },
      "source": [
        "## Task 16"
      ]
    },
    {
      "cell_type": "markdown",
      "metadata": {
        "id": "EGengpnBIRcu"
      },
      "source": [
        "### Create a 3x3 matrix, fill it with random real numbers ranging from 0 to 1, and find the column vector containing the sum of the elements of each row of the matrix.\n",
        "### Створіть матрицю розміром 3x3, заповніть її випадковими дійсними числами в діапазоні від 0 до 1 та знайдіть вектор-стовпчик, що містить суму елементів кожного рядка матриці."
      ]
    },
    {
      "cell_type": "code",
      "execution_count": 16,
      "metadata": {
        "colab": {
          "base_uri": "https://localhost:8080/"
        },
        "id": "6KIGg0drIRcu",
        "outputId": "c55d698d-d099-4047-e5c9-cc67f6fc8fc0"
      },
      "outputs": [
        {
          "name": "stdout",
          "output_type": "stream",
          "text": [
            "matrix_16 = array([[4.25860967e-01, 6.25992636e-01, 8.61572880e-01],\n",
            "       [7.78256279e-04, 4.11766938e-01, 6.42561199e-01],\n",
            "       [1.74896297e-01, 1.09062167e-02, 3.60246474e-01]])\n",
            "matrix_shape = (3, 3)\n",
            "column_v_of_sum = array([[1.91342648],\n",
            "       [1.05510639],\n",
            "       [0.54604899]])\n",
            "column_v_of_sum2 = array([[1.91342648],\n",
            "       [1.05510639],\n",
            "       [0.54604899]])\n",
            "column_v_of_sum3 = array([[1.91342648],\n",
            "       [1.05510639],\n",
            "       [0.54604899]])\n"
          ]
        }
      ],
      "source": [
        "matrix_16 = np.random.random((3, 3))\n",
        "print(f\"{matrix_16 = }\")\n",
        "matrix_shape = matrix_16.shape\n",
        "print(f\"{matrix_shape = }\")\n",
        "column_v_of_sum = np.array([sum(row) for row in matrix_16]).reshape(-1, 1)\n",
        "print(f\"{column_v_of_sum = }\")\n",
        "column_v_of_sum2 = np.array(\n",
        "    [matrix_16[i].sum() for i in range(matrix_shape[0])]\n",
        ").reshape(-1, 1)\n",
        "print(f\"{column_v_of_sum2 = }\")\n",
        "column_v_of_sum3 = matrix_16.sum(axis=1).reshape(-1, 1)\n",
        "print(f\"{column_v_of_sum3 = }\")"
      ]
    },
    {
      "cell_type": "markdown",
      "metadata": {
        "id": "SUdf-wA-IRcu"
      },
      "source": [
        "## task 17"
      ]
    },
    {
      "cell_type": "markdown",
      "metadata": {
        "id": "QpW1zKLlIRcu"
      },
      "source": [
        "### Create a 3x4 matrix with arbitrary integers and create a matrix with the squares of these numbers.\n",
        "### Створіть матрицю розміром 3x4 з довільними цілими числами і створінь матрицю з квадратами цих чисел."
      ]
    },
    {
      "cell_type": "code",
      "execution_count": 17,
      "metadata": {
        "colab": {
          "base_uri": "https://localhost:8080/"
        },
        "id": "nkDuK4vfIRcu",
        "outputId": "3af0cb3a-4a69-4bda-b29e-6270e88df32c"
      },
      "outputs": [
        {
          "name": "stdout",
          "output_type": "stream",
          "text": [
            "matrix_17 = array([[9, 5, 6, 7],\n",
            "       [9, 8, 7, 4],\n",
            "       [2, 6, 8, 9]])\n",
            "square_matrix = array([[81, 25, 36, 49],\n",
            "       [81, 64, 49, 16],\n",
            "       [ 4, 36, 64, 81]])\n",
            "squared_matrix = array([[81, 25, 36, 49],\n",
            "       [81, 64, 49, 16],\n",
            "       [ 4, 36, 64, 81]])\n"
          ]
        }
      ],
      "source": [
        "matrix_17 = np.random.randint(1, 11, size=(3, 4))\n",
        "print(f\"{matrix_17 = }\")\n",
        "square_matrix = np.square(matrix_17)\n",
        "print(f\"{square_matrix = }\")\n",
        "squared_matrix = matrix_17**2\n",
        "print(f\"{squared_matrix = }\")"
      ]
    },
    {
      "cell_type": "markdown",
      "metadata": {
        "id": "v6dJcWw-IRcu"
      },
      "source": [
        "## task 18"
      ]
    },
    {
      "cell_type": "markdown",
      "metadata": {
        "id": "og_Fk01CIRcu"
      },
      "source": [
        "### Create a vector of size 4, fill it with random integers ranging from 1 to 50, and find the vector with the square roots of these numbers.\n",
        "### Створіть вектор розміром 4, заповніть його випадковими цілими числами в діапазоні від 1 до 50 та знайдіть вектор з квадратними коренями цих чисел."
      ]
    },
    {
      "cell_type": "code",
      "execution_count": 18,
      "metadata": {
        "colab": {
          "base_uri": "https://localhost:8080/"
        },
        "id": "jt_jNpkTIRcv",
        "outputId": "68dd8b34-b031-47b3-a6e9-e584e2a59fa3"
      },
      "outputs": [
        {
          "name": "stdout",
          "output_type": "stream",
          "text": [
            "vector_18 = array([ 1,  4, 30, 17])\n",
            "sq_root_1 = array([1.        , 2.        , 5.47722558, 4.12310563])\n",
            "sq_root_2 = array([1.        , 2.        , 5.47722558, 4.12310563])\n"
          ]
        }
      ],
      "source": [
        "vector_18 = np.random.randint(1, 51, size=4)\n",
        "print(f\"{vector_18 = }\")\n",
        "sq_root_1 = vector_18 ** (1 / 2)\n",
        "print(f\"{sq_root_1 = }\")\n",
        "sq_root_2 = np.sqrt(vector_18)\n",
        "print(f\"{sq_root_2 = }\")"
      ]
    }
  ],
  "metadata": {
    "canvas": {
      "colorPalette": [
        "inherit",
        "inherit",
        "inherit",
        "inherit",
        "inherit",
        "inherit",
        "inherit",
        "inherit",
        "inherit",
        "inherit"
      ],
      "parameters": []
    },
    "colab": {
      "include_colab_link": true,
      "provenance": []
    },
    "kernelspec": {
      "display_name": "Python 3 (ipykernel)",
      "language": "python",
      "name": "python3"
    },
    "language_info": {
      "codemirror_mode": {
        "name": "ipython",
        "version": 3
      },
      "file_extension": ".py",
      "mimetype": "text/x-python",
      "name": "python",
      "nbconvert_exporter": "python",
      "pygments_lexer": "ipython3",
      "version": "3.9.7"
    }
  },
  "nbformat": 4,
  "nbformat_minor": 0
}
