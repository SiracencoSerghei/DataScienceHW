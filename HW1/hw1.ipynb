{
 "cells": [
  {
   "cell_type": "markdown",
   "metadata": {
    "canvas": {
     "comments": [],
     "componentType": "CodeCell",
     "copiedOriginId": null,
     "diskcache": false,
     "headerColor": "transparent",
     "id": "6e8f50ac-5414-46bf-a3a9-944acafebfbf",
     "isComponent": false,
     "name": "",
     "parents": []
    },
    "id": "toKWwe6qpcAp",
    "tags": []
   },
   "source": [
    "# Home Work 1"
   ]
  },
  {
   "cell_type": "code",
   "execution_count": 4,
   "metadata": {
    "canvas": {
     "comments": [],
     "componentType": "CodeCell",
     "copiedOriginId": null,
     "diskcache": false,
     "headerColor": "transparent",
     "id": "80afa2d1-cc62-41da-9b95-2e62ccaf1573",
     "isComponent": false,
     "name": "",
     "parents": []
    },
    "id": "omXS55IcptG-"
   },
   "outputs": [],
   "source": [
    "import numpy as np"
   ]
  },
  {
   "cell_type": "markdown",
   "metadata": {
    "canvas": {
     "comments": [],
     "componentType": "CodeCell",
     "copiedOriginId": null,
     "diskcache": false,
     "headerColor": "transparent",
     "id": "ba9e285d-853b-4e68-a3ba-72f84b0a4b18",
     "isComponent": false,
     "name": "",
     "parents": []
    },
    "id": "fJQaFj-opplC"
   },
   "source": [
    "## Task 1"
   ]
  },
  {
   "cell_type": "markdown",
   "metadata": {
    "canvas": {
     "comments": [],
     "componentType": "CodeCell",
     "copiedOriginId": null,
     "diskcache": false,
     "headerColor": "transparent",
     "id": "e9b4dc89-3354-480a-8e4b-07b263167e39",
     "isComponent": false,
     "name": "",
     "parents": []
    }
   },
   "source": [
    "###     Create a one-dimensional array (vector) with the first 10 natural numbers and print its value."
   ]
  },
  {
   "cell_type": "code",
   "execution_count": 5,
   "metadata": {
    "canvas": {
     "comments": [],
     "componentType": "CodeCell",
     "copiedOriginId": null,
     "diskcache": false,
     "headerColor": "transparent",
     "id": "e558968d-9dee-44c6-ac1d-d187c6df135d",
     "isComponent": false,
     "name": "",
     "parents": []
    }
   },
   "outputs": [
    {
     "name": "stdout",
     "output_type": "stream",
     "text": [
      "task=array([ 1,  2,  3,  4,  5,  6,  7,  8,  9, 10])\n",
      "task_1=array([ 1,  2,  3,  4,  5,  6,  7,  8,  9, 10])\n",
      "task_1_1=array([ 1,  2,  3,  4,  5,  6,  7,  8,  9, 10])\n",
      "task_1_2=array([ 1,  2,  3,  4,  5,  6,  7,  8,  9, 10])\n",
      "task_1_3=array([ 1,  2,  3,  4,  5,  6,  7,  8,  9, 10])\n",
      "task_1_4=array([ 1,  2,  3,  4,  5,  6,  7,  8,  9, 10])\n"
     ]
    }
   ],
   "source": [
    "import numpy as np\n",
    "\n",
    "lst = [1, 2, 3, 4, 5, 6, 7, 8, 9, 10]\n",
    "task = np.array(lst)\n",
    "print(f\"{task=}\")\n",
    "tpl = (1, 2, 3, 4, 5, 6, 7, 8, 9, 10)\n",
    "task_1 = np.array(tpl)\n",
    "print(f\"{task_1=}\")\n",
    "task_1_1 = np.array([i for i in range(1, 10 + 1)])\n",
    "print(f\"{task_1_1=}\")\n",
    "task_1_2 = np.arange(1, 11)\n",
    "print(f\"{task_1_2=}\")\n",
    "task_1_3 = np.linspace(1, 10, num=10, dtype=int)\n",
    "print(f\"{task_1_3=}\")\n",
    "iterable = (i for i in range(1, 11))\n",
    "task_1_4 = np.fromiter(iterable, int)\n",
    "print(f\"{task_1_4=}\")"
   ]
  },
  {
   "cell_type": "markdown",
   "metadata": {
    "canvas": {
     "comments": [],
     "componentType": "CodeCell",
     "copiedOriginId": null,
     "diskcache": false,
     "headerColor": "transparent",
     "id": "ec930467-6807-48b2-b10b-cee3153e1bf9",
     "isComponent": false,
     "name": "",
     "parents": []
    }
   },
   "source": [
    "## Task 2"
   ]
  },
  {
   "cell_type": "markdown",
   "metadata": {
    "canvas": {
     "comments": [],
     "componentType": "CodeCell",
     "copiedOriginId": null,
     "diskcache": false,
     "headerColor": "transparent",
     "id": "96d81e03-849f-4e93-ac8b-1df15bcb7471",
     "isComponent": false,
     "name": "",
     "parents": []
    }
   },
   "source": [
    "\n",
    "###     Create a two-dimensional 3x3 array (matrix), fill it with zeros, and print its value."
   ]
  },
  {
   "cell_type": "code",
   "execution_count": 6,
   "metadata": {
    "canvas": {
     "comments": [],
     "componentType": "CodeCell",
     "copiedOriginId": null,
     "diskcache": false,
     "headerColor": "transparent",
     "id": "667fe9fd-e65d-4e01-be0f-f1bee4f87a55",
     "isComponent": false,
     "name": "",
     "parents": []
    }
   },
   "outputs": [
    {
     "name": "stdout",
     "output_type": "stream",
     "text": [
      "task_2=array([[0., 0., 0.],\n",
      "       [0., 0., 0.],\n",
      "       [0., 0., 0.]])\n",
      "matrix=array([[0., 0., 0.],\n",
      "       [0., 0., 0.],\n",
      "       [0., 0., 0.]])\n",
      "matrix_0=array([[0, 0, 0],\n",
      "       [0, 0, 0],\n",
      "       [0, 0, 0]])\n"
     ]
    }
   ],
   "source": [
    "tup = (3, 3)\n",
    "task_2 = np.zeros(tup)\n",
    "# task_2\n",
    "print(f\"{task_2=}\")\n",
    "matrix = np.zeros(9).reshape(3, 3)\n",
    "print(f\"{matrix=}\")\n",
    "arr = np.array([[1, 2, 3], [4, 5, 6], [7, 8, 9]])\n",
    "matrix_0 = np.zeros_like(arr)\n",
    "print(f\"{matrix_0=}\")"
   ]
  },
  {
   "cell_type": "markdown",
   "metadata": {
    "canvas": {
     "comments": [],
     "componentType": "CodeCell",
     "copiedOriginId": null,
     "diskcache": false,
     "headerColor": "transparent",
     "id": "057deaa3-a1d4-4fc8-a9ca-f4dbaf103568",
     "isComponent": false,
     "name": "",
     "parents": []
    }
   },
   "source": [
    "## Task 3"
   ]
  },
  {
   "cell_type": "markdown",
   "metadata": {
    "canvas": {
     "comments": [],
     "componentType": "CodeCell",
     "copiedOriginId": null,
     "diskcache": false,
     "headerColor": "transparent",
     "id": "b23edc1a-d4be-4324-a93f-12f6e12b8a0d",
     "isComponent": false,
     "name": "",
     "parents": []
    }
   },
   "source": [
    "### Create a 5x5 array, fill it with random integers ranging from 1 to 10, and output its value."
   ]
  },
  {
   "cell_type": "code",
   "execution_count": 7,
   "metadata": {
    "canvas": {
     "comments": [],
     "componentType": "CodeCell",
     "copiedOriginId": null,
     "diskcache": false,
     "headerColor": "transparent",
     "id": "ab16a68a-a3df-4a4c-a4fb-0abaf8152200",
     "isComponent": false,
     "name": "",
     "parents": []
    }
   },
   "outputs": [
    {
     "name": "stdout",
     "output_type": "stream",
     "text": [
      "t_3_1=array([[ 7,  2,  3,  5,  5],\n",
      "       [ 9,  8,  4,  9,  4],\n",
      "       [ 3,  9,  6,  9, 10],\n",
      "       [ 9,  9,  1,  5, 10],\n",
      "       [ 6,  1,  2,  3, 10]])\n",
      "t_3_2=array([[ 4,  9,  6,  5,  8],\n",
      "       [ 2,  8, 10,  7,  3],\n",
      "       [ 3,  5, 10,  4,  1],\n",
      "       [ 2,  5,  9, 10,  2],\n",
      "       [ 9,  3,  9,  6,  9]])\n"
     ]
    }
   ],
   "source": [
    "t_3_1 = np.random.randint(1, 11, size=(5, 5))\n",
    "print(f\"{t_3_1=}\")\n",
    "random_generator = np.random.default_rng()\n",
    "t_3_2 = random_generator.integers(1, 11, size=(5, 5))\n",
    "print(f\"{t_3_2=}\")"
   ]
  },
  {
   "cell_type": "markdown",
   "metadata": {
    "canvas": {
     "comments": [],
     "componentType": "CodeCell",
     "copiedOriginId": null,
     "diskcache": false,
     "headerColor": "transparent",
     "id": "44cdb9a8-1203-4b77-8a2d-85f9fefe185e",
     "isComponent": false,
     "name": "",
     "parents": []
    }
   },
   "source": [
    "## Task 4"
   ]
  },
  {
   "cell_type": "markdown",
   "metadata": {
    "canvas": {
     "comments": [],
     "componentType": "CodeCell",
     "copiedOriginId": null,
     "diskcache": false,
     "headerColor": "transparent",
     "id": "433c217c-ec4d-4cde-b77e-f812405d2a2e",
     "isComponent": false,
     "name": "",
     "parents": []
    }
   },
   "source": [
    "### Create a 4x4 array, fill it with random real numbers in the range from 0 to 1, and output its value."
   ]
  },
  {
   "cell_type": "code",
   "execution_count": 8,
   "metadata": {
    "canvas": {
     "comments": [],
     "componentType": "CodeCell",
     "copiedOriginId": null,
     "diskcache": false,
     "headerColor": "transparent",
     "id": "63dc3c6b-4534-442b-842d-8694d1fcd61d",
     "isComponent": false,
     "name": "",
     "parents": []
    }
   },
   "outputs": [
    {
     "name": "stdout",
     "output_type": "stream",
     "text": [
      "t_4_1=array([[0.2345729 , 0.6457204 , 0.7200808 , 0.66008181],\n",
      "       [0.4476412 , 0.87199831, 0.01488591, 0.45796165],\n",
      "       [0.48644465, 0.60786867, 0.71629075, 0.28287045],\n",
      "       [0.84055853, 0.65434912, 0.01054993, 0.4247017 ]])\n",
      "t_4_2=array([[0.76447248, 0.30445842, 0.93951979, 0.19447085],\n",
      "       [0.3544428 , 0.11917829, 0.70616158, 0.01693116],\n",
      "       [0.08016754, 0.65345283, 0.17508622, 0.88150139],\n",
      "       [0.94941983, 0.67139367, 0.91977889, 0.89435616]])\n",
      "t_4_3=array([[0.10679642, 0.7919965 , 0.5604419 , 0.30086345],\n",
      "       [0.70751603, 0.37523147, 0.83589335, 0.29356112],\n",
      "       [0.79631493, 0.02456535, 0.15806975, 0.41192583],\n",
      "       [0.34915275, 0.63622338, 0.34812957, 0.25264765]])\n",
      "t_4_4=array([[0.31818568, 0.49140894, 0.43097315, 0.38040707],\n",
      "       [0.63877087, 0.99300281, 0.05919269, 0.2235647 ],\n",
      "       [0.429467  , 0.86669946, 0.3356644 , 0.93787281],\n",
      "       [0.15864449, 0.95489021, 0.22539552, 0.5425793 ]])\n"
     ]
    }
   ],
   "source": [
    "t_4_1 = np.random.random((4, 4))\n",
    "print(f\"{t_4_1=}\")\n",
    "t_4_2 = np.random.rand(4, 4)\n",
    "print(f\"{t_4_2=}\")\n",
    "t_4_3 = np.random.uniform(0, 1, (4, 4))\n",
    "print(f\"{t_4_3=}\")\n",
    "t_4_4 = random_generator.random((4, 4))\n",
    "print(f\"{t_4_4=}\")"
   ]
  },
  {
   "cell_type": "markdown",
   "metadata": {},
   "source": [
    "## Task 5"
   ]
  },
  {
   "cell_type": "markdown",
   "metadata": {},
   "source": [
    "### Create two one-dimensional arrays of size 5, fill them with random integers in the range from 1 to 10, and perform element-wise addition, subtraction, and multiplication operations on them."
   ]
  },
  {
   "cell_type": "code",
   "execution_count": 9,
   "metadata": {},
   "outputs": [
    {
     "name": "stdout",
     "output_type": "stream",
     "text": [
      "Array 1: [ 7  3 10  7  1]\n",
      "Array 2: [ 1 10  3  7  7]\n",
      "Addition: [ 8 13 13 14  8]\n",
      "Subtraction: [ 6 -7  7  0 -6]\n",
      "Multiplication: [ 7 30 30 49  7]\n"
     ]
    }
   ],
   "source": [
    "task_5_1 = np.random.randint(1, 11, size=5)\n",
    "task_5_2 = np.random.randint(1, 11, size=5)\n",
    "# Print the arrays\n",
    "print(\"Array 1:\", task_5_1)\n",
    "print(\"Array 2:\", task_5_2)\n",
    "add = task_5_1 + task_5_2\n",
    "substr = task_5_1 - task_5_2\n",
    "multipl = task_5_1 * task_5_2\n",
    "# Print the results\n",
    "print(\"Addition:\", add)\n",
    "print(\"Subtraction:\", substr)\n",
    "print(\"Multiplication:\", multipl)"
   ]
  },
  {
   "cell_type": "markdown",
   "metadata": {},
   "source": [
    "## Task 6"
   ]
  },
  {
   "cell_type": "markdown",
   "metadata": {},
   "source": [
    "### Create two vectors of size 7, fill with arbitrary numbers and find their scalar product(dot product)."
   ]
  },
  {
   "cell_type": "code",
   "execution_count": 10,
   "metadata": {},
   "outputs": [
    {
     "name": "stdout",
     "output_type": "stream",
     "text": [
      "task_6_1=array([1, 2, 3, 4, 5, 6, 7])\n",
      "task_6_2=array([ 9. , 10.5, 12. , 13.5, 15. , 16.5, 18. ])\n",
      "np.dot(task_6_1, task_6_2) = 420.0\n",
      "np.sum(task_6_1*task_6_2) = 420.0\n"
     ]
    }
   ],
   "source": [
    "task_6_1 = np.arange(1, 8)\n",
    "task_6_2 = np.linspace(9, 18, num=7)\n",
    "print(f\"{task_6_1=}\")\n",
    "print(f\"{task_6_2=}\")\n",
    "print(f\"{np.dot(task_6_1, task_6_2) = }\")\n",
    "print(f\"{np.sum(task_6_1*task_6_2) = }\")"
   ]
  },
  {
   "cell_type": "markdown",
   "metadata": {},
   "source": [
    "## Task 7"
   ]
  },
  {
   "cell_type": "markdown",
   "metadata": {},
   "source": [
    "### Create two matrices of size 2x2 and 2x3, fill them with random integers between 1 and 10, and multiply them together."
   ]
  },
  {
   "cell_type": "code",
   "execution_count": 11,
   "metadata": {},
   "outputs": [
    {
     "name": "stdout",
     "output_type": "stream",
     "text": [
      "task_7_1 = array([[5, 6],\n",
      "       [9, 9]])\n",
      "task_7_2 = array([[5, 3, 6],\n",
      "       [8, 6, 1]])\n",
      "res = array([[ 73,  51,  36],\n",
      "       [117,  81,  63]])\n"
     ]
    }
   ],
   "source": [
    "def create_rand_matrix(num_rows, num_cols):\n",
    "    matrix = np.random.randint(1, 11, size=(num_rows, num_cols))\n",
    "    return matrix\n",
    "\n",
    "\n",
    "task_7_1 = create_rand_matrix(2, 2)\n",
    "task_7_2 = create_rand_matrix(2, 3)\n",
    "print(f\"{task_7_1 = }\")\n",
    "print(f\"{task_7_2 = }\")\n",
    "\n",
    "res = np.dot(task_7_1, task_7_2)\n",
    "print(f\"{res = }\")"
   ]
  },
  {
   "cell_type": "markdown",
   "metadata": {},
   "source": [
    "## Task 8"
   ]
  },
  {
   "cell_type": "markdown",
   "metadata": {},
   "source": [
    "### Create a 3x3 matrix, fill it with random integers from 1 to 10, and find its inverse."
   ]
  },
  {
   "cell_type": "code",
   "execution_count": 25,
   "metadata": {},
   "outputs": [
    {
     "name": "stdout",
     "output_type": "stream",
     "text": [
      "task_8 = array([[9, 5, 3],\n",
      "       [2, 5, 8],\n",
      "       [9, 5, 7]])\n",
      "I = array([[-0.03571429, -0.14285714,  0.17857143],\n",
      "       [ 0.41428571,  0.25714286, -0.47142857],\n",
      "       [-0.25      ,  0.        ,  0.25      ]])\n",
      "task_8 = array([[9, 5, 3],\n",
      "       [2, 5, 8],\n",
      "       [9, 5, 7]])\n"
     ]
    }
   ],
   "source": [
    "task_8 = create_rand_matrix(3, 3)\n",
    "print(f\"{task_8 = }\")\n",
    "I = np.linalg.inv(task_8)\n",
    "print(f\"{I = }\")\n",
    "print(f\"{task_8 = }\")"
   ]
  },
  {
   "cell_type": "markdown",
   "metadata": {},
   "source": [
    "# Task 9"
   ]
  },
  {
   "cell_type": "markdown",
   "metadata": {},
   "source": [
    "### Create a 4x4 matrix, fill it with random real numbers ranging from 0 to 1, and transpose it."
   ]
  },
  {
   "cell_type": "code",
   "execution_count": 13,
   "metadata": {},
   "outputs": [
    {
     "name": "stdout",
     "output_type": "stream",
     "text": [
      "task_9 = array([[0.25826609, 0.76526594, 0.0017419 , 0.8247214 ],\n",
      "       [0.65460349, 0.51767925, 0.52054237, 0.42674782],\n",
      "       [0.92997955, 0.69910961, 0.80767167, 0.59112598],\n",
      "       [0.59728153, 0.02168812, 0.31214023, 0.13445049]])\n",
      "Transpose = array([[0.25826609, 0.65460349, 0.92997955, 0.59728153],\n",
      "       [0.76526594, 0.51767925, 0.69910961, 0.02168812],\n",
      "       [0.0017419 , 0.52054237, 0.80767167, 0.31214023],\n",
      "       [0.8247214 , 0.42674782, 0.59112598, 0.13445049]])\n"
     ]
    }
   ],
   "source": [
    "task_9 = np.random.random((4, 4))\n",
    "print(f\"{task_9 = }\")\n",
    "Transpose = task_9.T\n",
    "print(f\"{Transpose = }\")"
   ]
  },
  {
   "cell_type": "markdown",
   "metadata": {},
   "source": [
    "# Task 10"
   ]
  },
  {
   "cell_type": "markdown",
   "metadata": {},
   "source": [
    "### Create a 3x4 matrix and a 4 vector, fill them with random integers ranging from 1 to 10, and multiply the matrix by the vector."
   ]
  },
  {
   "cell_type": "code",
   "execution_count": 14,
   "metadata": {},
   "outputs": [
    {
     "name": "stdout",
     "output_type": "stream",
     "text": [
      "matrix_task_10 = array([[ 1,  8,  2,  3],\n",
      "       [ 8,  7,  2,  5],\n",
      "       [ 8,  2,  9, 10]])\n",
      "vector_task_10 = array([7, 7, 5, 4])\n",
      "res_task_10 =array([ 85, 135, 155])\n"
     ]
    }
   ],
   "source": [
    "matrix_task_10 = create_rand_matrix(3, 4)\n",
    "vector_task_10 = np.random.randint(1, 11, size=4)\n",
    "print(f\"{matrix_task_10 = }\")\n",
    "print(f\"{vector_task_10 = }\")\n",
    "res_task_10 = np.dot(matrix_task_10, vector_task_10)\n",
    "print(f\"{res_task_10 =}\")"
   ]
  },
  {
   "cell_type": "markdown",
   "metadata": {},
   "source": [
    "# tASK 11"
   ]
  },
  {
   "cell_type": "markdown",
   "metadata": {},
   "source": [
    "### Create a matrix of size 2x3 and a vector of size 3, fill them with random real numbers ranging from 0 to 1, and multiply the matrix by the vector."
   ]
  },
  {
   "cell_type": "code",
   "execution_count": 15,
   "metadata": {},
   "outputs": [
    {
     "name": "stdout",
     "output_type": "stream",
     "text": [
      "matrix_task_11 = array([[0.76403048, 0.22754726, 0.94136452],\n",
      "       [0.80219032, 0.98817974, 0.2537738 ]])\n",
      "vector_task_11 = array([0.6473927 , 0.02457416, 0.8333022 ])\n",
      "res_task_11 = array([1.28466067, 0.75508612])\n"
     ]
    }
   ],
   "source": [
    "matrix_task_11 = np.random.random((2, 3))\n",
    "vector_task_11 = np.random.random(3)\n",
    "print(f\"{matrix_task_11 = }\")\n",
    "print(f\"{vector_task_11 = }\")\n",
    "res_task_11 = np.dot(matrix_task_11, vector_task_11)\n",
    "print(f\"{res_task_11 = }\")"
   ]
  },
  {
   "cell_type": "markdown",
   "metadata": {},
   "source": [
    "## Task 12"
   ]
  },
  {
   "cell_type": "markdown",
   "metadata": {},
   "source": [
    "### Create two 2x2 matrices, fill them with random integers in the range from 1 to 10, and perform their element-wise multiplication."
   ]
  },
  {
   "cell_type": "code",
   "execution_count": 16,
   "metadata": {},
   "outputs": [
    {
     "name": "stdout",
     "output_type": "stream",
     "text": [
      "matrix_12_1 = array([[1, 8],\n",
      "       [9, 4]])\n",
      "matrix_12_2 = array([[ 4, 10],\n",
      "       [ 5,  5]])\n",
      "element_wise_mult = array([[ 4, 80],\n",
      "       [45, 20]])\n"
     ]
    }
   ],
   "source": [
    "matrix_12_1 = create_rand_matrix(2, 2)\n",
    "matrix_12_2 = create_rand_matrix(2, 2)\n",
    "print(f\"{matrix_12_1 = }\")\n",
    "print(f\"{matrix_12_2 = }\")\n",
    "element_wise_mult = matrix_12_1 * matrix_12_2\n",
    "print(f\"{element_wise_mult = }\")"
   ]
  },
  {
   "cell_type": "markdown",
   "metadata": {},
   "source": [
    "## Task 13"
   ]
  },
  {
   "cell_type": "markdown",
   "metadata": {},
   "source": [
    "### Create two 2x2 matrices, fill them with random integers ranging from 1 to 10, and find their product."
   ]
  },
  {
   "cell_type": "code",
   "execution_count": 17,
   "metadata": {},
   "outputs": [
    {
     "name": "stdout",
     "output_type": "stream",
     "text": [
      "matrix_13_1 = array([[9, 7],\n",
      "       [7, 4]])\n",
      "matrix_13_2 = array([[10,  8],\n",
      "       [ 6,  3]])\n",
      "prod = array([[132,  93],\n",
      "       [ 94,  68]])\n"
     ]
    }
   ],
   "source": [
    "matrix_13_1 = np.random.randint(1, 11, (2, 2))\n",
    "matrix_13_2 = np.random.randint(1, 11, (2, 2))\n",
    "print(f\"{matrix_13_1 = }\")\n",
    "print(f\"{matrix_13_2 = }\")\n",
    "prod = np.dot(matrix_13_1, matrix_13_2)\n",
    "print(f\"{prod = }\")"
   ]
  },
  {
   "cell_type": "markdown",
   "metadata": {},
   "source": [
    "## Task 14"
   ]
  },
  {
   "cell_type": "markdown",
   "metadata": {},
   "source": [
    "### Create a 5x5 matrix, fill it with random integers ranging from 1 to 100, and find the sum of the matrix elements."
   ]
  },
  {
   "cell_type": "code",
   "execution_count": 18,
   "metadata": {},
   "outputs": [
    {
     "name": "stdout",
     "output_type": "stream",
     "text": [
      "matrix_14 = array([[65, 39, 75, 29, 40],\n",
      "       [51, 99, 67, 28, 86],\n",
      "       [ 4, 41, 43, 13,  3],\n",
      "       [24, 10, 86, 75, 81],\n",
      "       [80, 17,  6, 68, 82]])\n",
      "sum1 = 1212\n",
      "sum2 = 1212\n"
     ]
    }
   ],
   "source": [
    "matrix_14 = np.random.randint(1, 101, (5, 5))\n",
    "print(f\"{matrix_14 = }\")\n",
    "sum1 = np.sum(matrix_14)\n",
    "print(f\"{sum1 = }\")\n",
    "sum2 = matrix_14.sum()\n",
    "print(f\"{sum2 = }\")"
   ]
  },
  {
   "cell_type": "markdown",
   "metadata": {},
   "source": [
    "## Task 15"
   ]
  },
  {
   "cell_type": "markdown",
   "metadata": {},
   "source": [
    "### Create two 4x4 matrices, fill them with random integers ranging from 1 to 10, and find their difference."
   ]
  },
  {
   "cell_type": "code",
   "execution_count": 19,
   "metadata": {},
   "outputs": [
    {
     "name": "stdout",
     "output_type": "stream",
     "text": [
      "matrix_15_1 = array([[ 8,  3,  3,  6],\n",
      "       [ 9,  6,  4,  1],\n",
      "       [ 9,  7,  8,  3],\n",
      "       [ 9,  9,  8, 10]])\n",
      "matrix_15_2 = array([[1, 5, 8, 1],\n",
      "       [3, 8, 5, 7],\n",
      "       [8, 3, 6, 2],\n",
      "       [3, 1, 6, 2]])\n",
      "diff = array([[ 7, -2, -5,  5],\n",
      "       [ 6, -2, -1, -6],\n",
      "       [ 1,  4,  2,  1],\n",
      "       [ 6,  8,  2,  8]])\n"
     ]
    }
   ],
   "source": [
    "matrix_15_1 = np.random.randint(1, 11, (4, 4))\n",
    "matrix_15_2 = np.random.randint(1, 11, (4, 4))\n",
    "diff = matrix_15_1 - matrix_15_2\n",
    "print(f\"{matrix_15_1 = }\")\n",
    "print(f\"{matrix_15_2 = }\")\n",
    "print(f\"{diff = }\")"
   ]
  },
  {
   "cell_type": "markdown",
   "metadata": {},
   "source": [
    "## Task 16"
   ]
  },
  {
   "cell_type": "markdown",
   "metadata": {},
   "source": [
    "### Create a 3x3 matrix, fill it with random real numbers ranging from 0 to 1, and find the column vector containing the sum of the elements of each row of the matrix."
   ]
  },
  {
   "cell_type": "code",
   "execution_count": 26,
   "metadata": {},
   "outputs": [
    {
     "name": "stdout",
     "output_type": "stream",
     "text": [
      "matrix_16 = array([[0.02461792, 0.11465318, 0.9053648 ],\n",
      "       [0.7163134 , 0.23155903, 0.34561306],\n",
      "       [0.36759598, 0.91580346, 0.36375868]])\n",
      "matrix_shape = (3, 3)\n",
      "column_v_of_sum = array([[1.0446359 ],\n",
      "       [1.29348549],\n",
      "       [1.64715812]])\n",
      "column_v_of_sum2 = array([[1.0446359 ],\n",
      "       [1.29348549],\n",
      "       [1.64715812]])\n",
      "column_v_of_sum3 = array([[1.0446359 ],\n",
      "       [1.29348549],\n",
      "       [1.64715812]])\n"
     ]
    }
   ],
   "source": [
    "matrix_16 = np.random.random((3, 3))\n",
    "print(f\"{matrix_16 = }\")\n",
    "matrix_shape = matrix_16.shape\n",
    "print(f\"{matrix_shape = }\")\n",
    "column_v_of_sum = np.array([sum(row) for row in matrix_16]).reshape(-1, 1)\n",
    "print(f\"{column_v_of_sum = }\")\n",
    "column_v_of_sum2 = np.array(\n",
    "    [matrix_16[i].sum() for i in range(matrix_shape[0])]\n",
    ").reshape(-1, 1)\n",
    "print(f\"{column_v_of_sum2 = }\")\n",
    "column_v_of_sum3 = matrix_16.sum(axis=1).reshape(-1, 1)\n",
    "print(f\"{column_v_of_sum3 = }\")"
   ]
  },
  {
   "cell_type": "code",
   "execution_count": null,
   "metadata": {},
   "outputs": [],
   "source": []
  },
  {
   "cell_type": "markdown",
   "metadata": {},
   "source": [
    "## task 17"
   ]
  },
  {
   "cell_type": "markdown",
   "metadata": {},
   "source": [
    "### Create a 3x4 matrix with arbitrary integers and create a matrix with the squares of these numbers."
   ]
  },
  {
   "cell_type": "code",
   "execution_count": 21,
   "metadata": {},
   "outputs": [
    {
     "name": "stdout",
     "output_type": "stream",
     "text": [
      "matrix_17 = array([[2, 9, 1, 1],\n",
      "       [6, 7, 6, 7],\n",
      "       [8, 2, 9, 2]])\n",
      "square_matrix = array([[ 4, 81,  1,  1],\n",
      "       [36, 49, 36, 49],\n",
      "       [64,  4, 81,  4]])\n",
      "squared_matrix = array([[ 4, 81,  1,  1],\n",
      "       [36, 49, 36, 49],\n",
      "       [64,  4, 81,  4]])\n"
     ]
    }
   ],
   "source": [
    "matrix_17 = np.random.randint(1, 11, size=(3, 4))\n",
    "print(f\"{matrix_17 = }\")\n",
    "square_matrix = np.square(matrix_17)\n",
    "print(f\"{square_matrix = }\")\n",
    "squared_matrix = matrix_17**2\n",
    "print(f\"{squared_matrix = }\")"
   ]
  },
  {
   "cell_type": "markdown",
   "metadata": {},
   "source": [
    "## task 18"
   ]
  },
  {
   "cell_type": "markdown",
   "metadata": {},
   "source": [
    "### Create a vector of size 4, fill it with random integers ranging from 1 to 50, and find the vector with the square roots of these numbers."
   ]
  },
  {
   "cell_type": "code",
   "execution_count": 22,
   "metadata": {},
   "outputs": [
    {
     "name": "stdout",
     "output_type": "stream",
     "text": [
      "vector_18 = array([40, 29, 19, 49])\n",
      "sq_root_1 = array([6.32455532, 5.38516481, 4.35889894, 7.        ])\n",
      "sq_root_2 = array([6.32455532, 5.38516481, 4.35889894, 7.        ])\n"
     ]
    }
   ],
   "source": [
    "vector_18 = np.random.randint(1, 51, size=4)\n",
    "print(f\"{vector_18 = }\")\n",
    "sq_root_1 = vector_18 ** (1 / 2)\n",
    "print(f\"{sq_root_1 = }\")\n",
    "sq_root_2 = np.sqrt(vector_18)\n",
    "print(f\"{sq_root_2 = }\")"
   ]
  }
 ],
 "metadata": {
  "canvas": {
   "colorPalette": [
    "inherit",
    "inherit",
    "inherit",
    "inherit",
    "inherit",
    "inherit",
    "inherit",
    "inherit",
    "inherit",
    "inherit"
   ],
   "parameters": []
  },
  "colab": {
   "provenance": []
  },
  "kernelspec": {
   "display_name": "Python 3 (ipykernel)",
   "language": "python",
   "name": "python3"
  },
  "language_info": {
   "codemirror_mode": {
    "name": "ipython",
    "version": 3
   },
   "file_extension": ".py",
   "mimetype": "text/x-python",
   "name": "python",
   "nbconvert_exporter": "python",
   "pygments_lexer": "ipython3",
   "version": "3.9.7"
  }
 },
 "nbformat": 4,
 "nbformat_minor": 4
}
