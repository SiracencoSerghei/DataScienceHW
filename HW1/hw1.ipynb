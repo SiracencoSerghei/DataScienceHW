{
  "cells": [
    {
      "cell_type": "markdown",
      "metadata": {
        "colab_type": "text",
        "id": "view-in-github"
      },
      "source": [
        "<a href=\"https://colab.research.google.com/github/SiracencoSerghei/DataScienceHW/blob/main/HW1/hw1.ipynb\" target=\"_parent\"><img src=\"https://colab.research.google.com/assets/colab-badge.svg\" alt=\"Open In Colab\"/></a>\n"
      ]
    },
    {
      "cell_type": "markdown",
      "metadata": {
        "canvas": {
          "comments": [],
          "componentType": "CodeCell",
          "copiedOriginId": null,
          "diskcache": false,
          "headerColor": "transparent",
          "id": "6e8f50ac-5414-46bf-a3a9-944acafebfbf",
          "isComponent": false,
          "name": "",
          "parents": []
        },
        "id": "toKWwe6qpcAp",
        "tags": []
      },
      "source": [
        "# Home Work 1\n"
      ]
    },
    {
      "cell_type": "code",
      "execution_count": 93,
      "metadata": {
        "canvas": {
          "comments": [],
          "componentType": "CodeCell",
          "copiedOriginId": null,
          "diskcache": false,
          "headerColor": "transparent",
          "id": "80afa2d1-cc62-41da-9b95-2e62ccaf1573",
          "isComponent": false,
          "name": "",
          "parents": []
        },
        "id": "omXS55IcptG-"
      },
      "outputs": [],
      "source": [
        "import numpy as np\n",
        "import pandas as pd"
      ]
    },
    {
      "cell_type": "markdown",
      "metadata": {
        "canvas": {
          "comments": [],
          "componentType": "CodeCell",
          "copiedOriginId": null,
          "diskcache": false,
          "headerColor": "transparent",
          "id": "ba9e285d-853b-4e68-a3ba-72f84b0a4b18",
          "isComponent": false,
          "name": "",
          "parents": []
        },
        "id": "fJQaFj-opplC"
      },
      "source": [
        "## Task 1\n"
      ]
    },
    {
      "cell_type": "markdown",
      "metadata": {
        "canvas": {
          "comments": [],
          "componentType": "CodeCell",
          "copiedOriginId": null,
          "diskcache": false,
          "headerColor": "transparent",
          "id": "e9b4dc89-3354-480a-8e4b-07b263167e39",
          "isComponent": false,
          "name": "",
          "parents": []
        },
        "id": "BX-CYUjsIRcm"
      },
      "source": [
        "### Create a one-dimensional array (vector) with the first 10 natural numbers and print its value.\n",
        "\n",
        "### Створіть одновимірний масив (вектор) з першими 10-ма натуральними числами та виведіть його значення.\n"
      ]
    },
    {
      "cell_type": "code",
      "execution_count": 41,
      "metadata": {
        "canvas": {
          "comments": [],
          "componentType": "CodeCell",
          "copiedOriginId": null,
          "diskcache": false,
          "headerColor": "transparent",
          "id": "e558968d-9dee-44c6-ac1d-d187c6df135d",
          "isComponent": false,
          "name": "",
          "parents": []
        },
        "colab": {
          "base_uri": "https://localhost:8080/"
        },
        "id": "_GJK-1SkIRcm",
        "outputId": "d4d68bcd-dae3-4b69-fd76-b07fdcac2533"
      },
      "outputs": [
        {
          "name": "stdout",
          "output_type": "stream",
          "text": [
            "task=array([ 1,  2,  3,  4,  5,  6,  7,  8,  9, 10])\n",
            "task_1=array([ 1,  2,  3,  4,  5,  6,  7,  8,  9, 10])\n",
            "task_1_1=array([ 1,  2,  3,  4,  5,  6,  7,  8,  9, 10])\n",
            "task_1_2=array([ 1,  2,  3,  4,  5,  6,  7,  8,  9, 10])\n",
            "task_1_3=array([ 1,  2,  3,  4,  5,  6,  7,  8,  9, 10])\n",
            "task_1_4=array([ 1,  2,  3,  4,  5,  6,  7,  8,  9, 10])\n"
          ]
        }
      ],
      "source": [
        "import numpy as np\n",
        "\n",
        "lst = [1, 2, 3, 4, 5, 6, 7, 8, 9, 10]\n",
        "task = np.array(lst)\n",
        "print(f\"{task=}\")\n",
        "tpl = (1, 2, 3, 4, 5, 6, 7, 8, 9, 10)\n",
        "task_1 = np.array(tpl)\n",
        "print(f\"{task_1=}\")\n",
        "task_1_1 = np.array([i for i in range(1, 10 + 1)])\n",
        "print(f\"{task_1_1=}\")\n",
        "task_1_2 = np.arange(1, 11)\n",
        "print(f\"{task_1_2=}\")\n",
        "task_1_3 = np.linspace(1, 10, num=10, dtype=int)\n",
        "print(f\"{task_1_3=}\")\n",
        "iterable = (i for i in range(1, 11))\n",
        "task_1_4 = np.fromiter(iterable, int)\n",
        "print(f\"{task_1_4=}\")"
      ]
    },
    {
      "cell_type": "markdown",
      "metadata": {
        "canvas": {
          "comments": [],
          "componentType": "CodeCell",
          "copiedOriginId": null,
          "diskcache": false,
          "headerColor": "transparent",
          "id": "ec930467-6807-48b2-b10b-cee3153e1bf9",
          "isComponent": false,
          "name": "",
          "parents": []
        },
        "id": "k9uEnbteIRcm"
      },
      "source": [
        "## Task 2\n"
      ]
    },
    {
      "cell_type": "markdown",
      "metadata": {
        "canvas": {
          "comments": [],
          "componentType": "CodeCell",
          "copiedOriginId": null,
          "diskcache": false,
          "headerColor": "transparent",
          "id": "96d81e03-849f-4e93-ac8b-1df15bcb7471",
          "isComponent": false,
          "name": "",
          "parents": []
        },
        "id": "ui1jmxzHIRcm"
      },
      "source": [
        "### Create a two-dimensional 3x3 array (matrix), fill it with zeros, and print its value.\n",
        "\n",
        "### Створіть двовимірний масив (матрицю) розміром 3x3, заповніть його нулями та виведіть його значення.\n"
      ]
    },
    {
      "cell_type": "code",
      "execution_count": 42,
      "metadata": {
        "canvas": {
          "comments": [],
          "componentType": "CodeCell",
          "copiedOriginId": null,
          "diskcache": false,
          "headerColor": "transparent",
          "id": "667fe9fd-e65d-4e01-be0f-f1bee4f87a55",
          "isComponent": false,
          "name": "",
          "parents": []
        },
        "colab": {
          "base_uri": "https://localhost:8080/"
        },
        "id": "rZtMnJOlIRcm",
        "outputId": "cc5bdb93-e0ee-426f-e711-d677e5060fd2"
      },
      "outputs": [
        {
          "name": "stdout",
          "output_type": "stream",
          "text": [
            "task_2=array([[0., 0., 0.],\n",
            "       [0., 0., 0.],\n",
            "       [0., 0., 0.]])\n",
            "matrix=array([[0., 0., 0.],\n",
            "       [0., 0., 0.],\n",
            "       [0., 0., 0.]])\n",
            "matrix_0=array([[0, 0, 0],\n",
            "       [0, 0, 0],\n",
            "       [0, 0, 0]])\n"
          ]
        }
      ],
      "source": [
        "tup = (3, 3)\n",
        "task_2 = np.zeros(tup)\n",
        "# task_2\n",
        "print(f\"{task_2=}\")\n",
        "matrix = np.zeros(9).reshape(3, 3)\n",
        "print(f\"{matrix=}\")\n",
        "arr = np.array([[1, 2, 3], [4, 5, 6], [7, 8, 9]])\n",
        "matrix_0 = np.zeros_like(arr)\n",
        "print(f\"{matrix_0=}\")"
      ]
    },
    {
      "cell_type": "markdown",
      "metadata": {
        "canvas": {
          "comments": [],
          "componentType": "CodeCell",
          "copiedOriginId": null,
          "diskcache": false,
          "headerColor": "transparent",
          "id": "057deaa3-a1d4-4fc8-a9ca-f4dbaf103568",
          "isComponent": false,
          "name": "",
          "parents": []
        },
        "id": "rYKQs9q9IRcn"
      },
      "source": [
        "## Task 3\n"
      ]
    },
    {
      "cell_type": "markdown",
      "metadata": {
        "canvas": {
          "comments": [],
          "componentType": "CodeCell",
          "copiedOriginId": null,
          "diskcache": false,
          "headerColor": "transparent",
          "id": "b23edc1a-d4be-4324-a93f-12f6e12b8a0d",
          "isComponent": false,
          "name": "",
          "parents": []
        },
        "id": "BNByky6cIRcn"
      },
      "source": [
        "### Create a 5x5 array, fill it with random integers ranging from 1 to 10, and output its value.\n",
        "\n",
        "### Створіть масив розміром 5x5, заповніть його випадковими цілими числами в діапазоні від 1 до 10 та виведіть його значення.\n"
      ]
    },
    {
      "cell_type": "code",
      "execution_count": 43,
      "metadata": {
        "canvas": {
          "comments": [],
          "componentType": "CodeCell",
          "copiedOriginId": null,
          "diskcache": false,
          "headerColor": "transparent",
          "id": "ab16a68a-a3df-4a4c-a4fb-0abaf8152200",
          "isComponent": false,
          "name": "",
          "parents": []
        },
        "colab": {
          "base_uri": "https://localhost:8080/"
        },
        "id": "dWELc-P2IRcn",
        "outputId": "49f8e9f5-2c0b-412a-d64a-983f6ac87d85"
      },
      "outputs": [
        {
          "name": "stdout",
          "output_type": "stream",
          "text": [
            "t_3_1=array([[ 4,  8,  2,  2,  8],\n",
            "       [ 8,  1,  3, 10, 10],\n",
            "       [ 4,  3,  6,  9,  2],\n",
            "       [ 1,  8,  7,  3,  1],\n",
            "       [ 9,  3,  6,  2,  9]])\n",
            "t_3_2=array([[10,  5,  3,  2, 10],\n",
            "       [10,  1,  1,  3,  2],\n",
            "       [ 4,  2,  1,  8, 10],\n",
            "       [ 3,  2,  2,  6,  2],\n",
            "       [ 6,  3,  7,  6, 10]])\n"
          ]
        }
      ],
      "source": [
        "t_3_1 = np.random.randint(1, 11, size=(5, 5))\n",
        "print(f\"{t_3_1=}\")\n",
        "random_generator = np.random.default_rng()\n",
        "t_3_2 = random_generator.integers(1, 11, size=(5, 5))\n",
        "print(f\"{t_3_2=}\")"
      ]
    },
    {
      "cell_type": "markdown",
      "metadata": {
        "canvas": {
          "comments": [],
          "componentType": "CodeCell",
          "copiedOriginId": null,
          "diskcache": false,
          "headerColor": "transparent",
          "id": "44cdb9a8-1203-4b77-8a2d-85f9fefe185e",
          "isComponent": false,
          "name": "",
          "parents": []
        },
        "id": "-glNXu4LIRcn"
      },
      "source": [
        "## Task 4\n"
      ]
    },
    {
      "cell_type": "markdown",
      "metadata": {
        "canvas": {
          "comments": [],
          "componentType": "CodeCell",
          "copiedOriginId": null,
          "diskcache": false,
          "headerColor": "transparent",
          "id": "433c217c-ec4d-4cde-b77e-f812405d2a2e",
          "isComponent": false,
          "name": "",
          "parents": []
        },
        "id": "afLQhvXTIRcn"
      },
      "source": [
        "### Create a 4x4 array, fill it with random real numbers in the range from 0 to 1, and output its value.\n",
        "\n",
        "### Створіть масив розміром 4x4, заповніть його випадковими дійсними числами в діапазоні від 0 до 1 та виведіть його значення.\n"
      ]
    },
    {
      "cell_type": "code",
      "execution_count": 44,
      "metadata": {
        "canvas": {
          "comments": [],
          "componentType": "CodeCell",
          "copiedOriginId": null,
          "diskcache": false,
          "headerColor": "transparent",
          "id": "63dc3c6b-4534-442b-842d-8694d1fcd61d",
          "isComponent": false,
          "name": "",
          "parents": []
        },
        "colab": {
          "base_uri": "https://localhost:8080/"
        },
        "id": "ZjHFldbUIRcn",
        "outputId": "231db1e1-d995-43be-8560-68ce6ed0f1f4"
      },
      "outputs": [
        {
          "name": "stdout",
          "output_type": "stream",
          "text": [
            "t_4_1=array([[0.74247969, 0.63018394, 0.58184219, 0.02043913],\n",
            "       [0.21002658, 0.54468488, 0.76911517, 0.25069523],\n",
            "       [0.28589569, 0.85239509, 0.97500649, 0.88485329],\n",
            "       [0.35950784, 0.59885895, 0.35479561, 0.34019022]])\n",
            "t_4_2=array([[0.17808099, 0.23769421, 0.04486228, 0.50543143],\n",
            "       [0.37625245, 0.5928054 , 0.62994188, 0.14260031],\n",
            "       [0.9338413 , 0.94637988, 0.60229666, 0.38776628],\n",
            "       [0.363188  , 0.20434528, 0.27676506, 0.24653588]])\n",
            "t_4_3=array([[0.173608  , 0.96660969, 0.9570126 , 0.59797368],\n",
            "       [0.73130075, 0.34038522, 0.0920556 , 0.46349802],\n",
            "       [0.50869889, 0.08846017, 0.52803522, 0.99215804],\n",
            "       [0.39503593, 0.33559644, 0.80545054, 0.75434899]])\n",
            "t_4_4=array([[0.5156494 , 0.82172208, 0.27370404, 0.47876944],\n",
            "       [0.32275762, 0.40983628, 0.35655537, 0.79668615],\n",
            "       [0.55799314, 0.97903852, 0.26611701, 0.21753278],\n",
            "       [0.96314775, 0.58118165, 0.71434809, 0.055931  ]])\n"
          ]
        }
      ],
      "source": [
        "t_4_1 = np.random.random((4, 4))\n",
        "print(f\"{t_4_1=}\")\n",
        "t_4_2 = np.random.rand(4, 4)\n",
        "print(f\"{t_4_2=}\")\n",
        "t_4_3 = np.random.uniform(0, 1, (4, 4))\n",
        "print(f\"{t_4_3=}\")\n",
        "t_4_4 = random_generator.random((4, 4))\n",
        "print(f\"{t_4_4=}\")"
      ]
    },
    {
      "cell_type": "markdown",
      "metadata": {
        "id": "a4e63wgfIRcn"
      },
      "source": [
        "## Task 5\n"
      ]
    },
    {
      "cell_type": "markdown",
      "metadata": {
        "id": "h0Io04sKIRcn"
      },
      "source": [
        "### Create two one-dimensional arrays of size 5, fill them with random integers in the range from 1 to 10, and perform element-wise addition, subtraction, and multiplication operations on them.\n",
        "\n",
        "### Створіть два одновимірних масиви розміром 5, заповніть їх випадковими цілими числами в діапазоні від 1 до 10 та виконайте на них поелементні операції додавання, віднімання та множення.\n"
      ]
    },
    {
      "cell_type": "code",
      "execution_count": 45,
      "metadata": {
        "colab": {
          "base_uri": "https://localhost:8080/"
        },
        "id": "Jnz8ElejIRcn",
        "outputId": "34ed678c-b58d-4eac-925b-89955fcd47bf"
      },
      "outputs": [
        {
          "name": "stdout",
          "output_type": "stream",
          "text": [
            "Array 1: [7 3 4 5 9]\n",
            "Array 2: [10  9  6  3  8]\n",
            "Addition: [17 12 10  8 17]\n",
            "Subtraction: [-3 -6 -2  2  1]\n",
            "Multiplication: [70 27 24 15 72]\n"
          ]
        }
      ],
      "source": [
        "task_5_1 = np.random.randint(1, 11, size=5)\n",
        "task_5_2 = np.random.randint(1, 11, size=5)\n",
        "# Print the arrays\n",
        "print(\"Array 1:\", task_5_1)\n",
        "print(\"Array 2:\", task_5_2)\n",
        "add = task_5_1 + task_5_2\n",
        "substr = task_5_1 - task_5_2\n",
        "multipl = task_5_1 * task_5_2\n",
        "# Print the results\n",
        "print(\"Addition:\", add)\n",
        "print(\"Subtraction:\", substr)\n",
        "print(\"Multiplication:\", multipl)"
      ]
    },
    {
      "cell_type": "markdown",
      "metadata": {
        "id": "ZF5B07KBIRcn"
      },
      "source": [
        "## Task 6\n"
      ]
    },
    {
      "cell_type": "markdown",
      "metadata": {
        "id": "yzKDbEvrIRco"
      },
      "source": [
        "### Create two vectors of size 7, fill with arbitrary numbers and find their scalar product(dot product).\n",
        "\n",
        "### Створіть два вектори розміром 7, заповніть довільними числами та знайдіть їх скалярний добуток.\n"
      ]
    },
    {
      "cell_type": "code",
      "execution_count": 46,
      "metadata": {
        "colab": {
          "base_uri": "https://localhost:8080/"
        },
        "id": "Rrz6nglaIRco",
        "outputId": "0329a213-c6c4-4327-da34-1424ad84f1b7"
      },
      "outputs": [
        {
          "name": "stdout",
          "output_type": "stream",
          "text": [
            "task_6_1=array([1, 2, 3, 4, 5, 6, 7])\n",
            "task_6_2=array([ 9. , 10.5, 12. , 13.5, 15. , 16.5, 18. ])\n",
            "np.dot(task_6_1, task_6_2) = np.float64(420.0)\n",
            "np.sum(task_6_1*task_6_2) = np.float64(420.0)\n"
          ]
        }
      ],
      "source": [
        "task_6_1 = np.arange(1, 8)\n",
        "task_6_2 = np.linspace(9, 18, num=7)\n",
        "print(f\"{task_6_1=}\")\n",
        "print(f\"{task_6_2=}\")\n",
        "print(f\"{np.dot(task_6_1, task_6_2) = }\")\n",
        "print(f\"{np.sum(task_6_1*task_6_2) = }\")"
      ]
    },
    {
      "cell_type": "markdown",
      "metadata": {
        "id": "nB7V-leYIRco"
      },
      "source": [
        "## Task 7\n"
      ]
    },
    {
      "cell_type": "markdown",
      "metadata": {
        "id": "8hGnqTWSIRco"
      },
      "source": [
        "### Create two matrices of size 2x2 and 2x3, fill them with random integers between 1 and 10, and multiply them together.\n",
        "\n",
        "### Створіть дві матриці розміром 2x2 та 2x3, заповніть їх випадковими цілими числами в діапазоні від 1 до 10 та перемножте їх між собою.\n"
      ]
    },
    {
      "cell_type": "code",
      "execution_count": 47,
      "metadata": {
        "colab": {
          "base_uri": "https://localhost:8080/"
        },
        "id": "a9O4Z2ibIRco",
        "outputId": "2475ba8b-4d9a-4901-cf8c-eb83a31614b8"
      },
      "outputs": [
        {
          "name": "stdout",
          "output_type": "stream",
          "text": [
            "task_7_1 = array([[ 6, 10],\n",
            "       [ 1, 10]])\n",
            "task_7_2 = array([[9, 7, 3],\n",
            "       [1, 6, 4]])\n",
            "res = array([[ 64, 102,  58],\n",
            "       [ 19,  67,  43]])\n",
            "res_1 = array([[ 64, 102,  58],\n",
            "       [ 19,  67,  43]])\n"
          ]
        }
      ],
      "source": [
        "def create_rand_matrix(num_rows, num_cols):\n",
        "    matrix = np.random.randint(1, 11, size=(num_rows, num_cols))\n",
        "    return matrix\n",
        "\n",
        "\n",
        "task_7_1 = create_rand_matrix(2, 2)\n",
        "task_7_2 = create_rand_matrix(2, 3)\n",
        "print(f\"{task_7_1 = }\")\n",
        "print(f\"{task_7_2 = }\")\n",
        "\n",
        "res = np.dot(task_7_1, task_7_2)\n",
        "res_1 = np.matmul(task_7_1, task_7_2)\n",
        "print(f\"{res = }\")\n",
        "print(f\"{res_1 = }\")"
      ]
    },
    {
      "cell_type": "markdown",
      "metadata": {
        "id": "cENxvO9pIRco"
      },
      "source": [
        "## Task 8\n"
      ]
    },
    {
      "cell_type": "markdown",
      "metadata": {
        "id": "Nq2dFX3AIRco"
      },
      "source": [
        "### Create a 3x3 matrix, fill it with random integers from 1 to 10, and find its inverse.\n",
        "\n",
        "### Створіть матрицю розміром 3x3, заповніть її випадковими цілими числами в діапазоні від 1 до 10 та знайдіть її обернену матрицю.\n"
      ]
    },
    {
      "cell_type": "code",
      "execution_count": 48,
      "metadata": {
        "colab": {
          "base_uri": "https://localhost:8080/"
        },
        "id": "BYBSb74DIRco",
        "outputId": "b1b9bcfc-8713-4e4c-bc7c-dd7611304ee1"
      },
      "outputs": [
        {
          "name": "stdout",
          "output_type": "stream",
          "text": [
            "task_8 = array([[3, 4, 7],\n",
            "       [5, 2, 4],\n",
            "       [2, 5, 9]])\n",
            "I = array([[ 0.28571429,  0.14285714, -0.28571429],\n",
            "       [ 5.28571429, -1.85714286, -3.28571429],\n",
            "       [-3.        ,  1.        ,  2.        ]])\n",
            "task_8 = array([[3, 4, 7],\n",
            "       [5, 2, 4],\n",
            "       [2, 5, 9]])\n"
          ]
        }
      ],
      "source": [
        "task_8 = create_rand_matrix(3, 3)\n",
        "print(f\"{task_8 = }\")\n",
        "I = np.linalg.inv(task_8)\n",
        "print(f\"{I = }\")\n",
        "print(f\"{task_8 = }\")"
      ]
    },
    {
      "cell_type": "markdown",
      "metadata": {
        "id": "udrzfVOdIRco"
      },
      "source": [
        "# Task 9\n"
      ]
    },
    {
      "cell_type": "markdown",
      "metadata": {
        "id": "sfhQYOJfIRcp"
      },
      "source": [
        "### Create a 4x4 matrix, fill it with random real numbers ranging from 0 to 1, and transpose it.\n",
        "\n",
        "### Створіть матрицю розміром 4x4, заповніть її випадковими дійсними числами в діапазоні від 0 до 1 та транспонуйте її.\n"
      ]
    },
    {
      "cell_type": "code",
      "execution_count": 49,
      "metadata": {
        "colab": {
          "base_uri": "https://localhost:8080/"
        },
        "id": "9laSCzgjIRcp",
        "outputId": "1e02c51a-23bc-4206-c9af-cb27513dd6c0"
      },
      "outputs": [
        {
          "name": "stdout",
          "output_type": "stream",
          "text": [
            "task_9 = array([[0.16074455, 0.92349683, 0.95354985, 0.21097842],\n",
            "       [0.36052525, 0.54937526, 0.27183085, 0.46060162],\n",
            "       [0.69616156, 0.5003559 , 0.71607099, 0.52595594],\n",
            "       [0.00139902, 0.39470029, 0.49216697, 0.40288033]])\n",
            "Transpose = array([[0.16074455, 0.36052525, 0.69616156, 0.00139902],\n",
            "       [0.92349683, 0.54937526, 0.5003559 , 0.39470029],\n",
            "       [0.95354985, 0.27183085, 0.71607099, 0.49216697],\n",
            "       [0.21097842, 0.46060162, 0.52595594, 0.40288033]])\n"
          ]
        }
      ],
      "source": [
        "task_9 = np.random.random((4, 4))\n",
        "print(f\"{task_9 = }\")\n",
        "Transpose = task_9.T\n",
        "print(f\"{Transpose = }\")"
      ]
    },
    {
      "cell_type": "markdown",
      "metadata": {
        "id": "u3x65iNRIRcp"
      },
      "source": [
        "# Task 10\n"
      ]
    },
    {
      "cell_type": "markdown",
      "metadata": {
        "id": "m6pv-4zrIRcp"
      },
      "source": [
        "### Create a 3x4 matrix and a 4 vector, fill them with random integers ranging from 1 to 10, and multiply the matrix by the vector.\n",
        "\n",
        "### Створіть матрицю розміром 3x4 та вектор розміром 4, заповніть їх випадковими цілими числами в діапазоні від 1 до 10 та перемножте матрицю на вектор.\n"
      ]
    },
    {
      "cell_type": "code",
      "execution_count": 50,
      "metadata": {
        "colab": {
          "base_uri": "https://localhost:8080/"
        },
        "id": "JJc5ts4bIRcp",
        "outputId": "7004a3c7-7e00-479d-edd7-148f4f2948e0"
      },
      "outputs": [
        {
          "name": "stdout",
          "output_type": "stream",
          "text": [
            "matrix_task_10 = array([[10,  3,  6,  7],\n",
            "       [ 5,  7,  8, 10],\n",
            "       [ 8,  4,  1,  3]])\n",
            "vector_task_10 = array([6, 2, 2, 1])\n",
            "res_task_10 =array([85, 70, 61])\n",
            "res_task_10_1 = array([85, 70, 61])\n"
          ]
        }
      ],
      "source": [
        "matrix_task_10 = create_rand_matrix(3, 4)\n",
        "vector_task_10 = np.random.randint(1, 11, size=4)\n",
        "print(f\"{matrix_task_10 = }\")\n",
        "print(f\"{vector_task_10 = }\")\n",
        "res_task_10 = np.dot(matrix_task_10, vector_task_10)\n",
        "res_task_10_1 = np.matmul(matrix_task_10, vector_task_10)\n",
        "print(f\"{res_task_10 =}\")\n",
        "print(f\"{res_task_10_1 = }\")"
      ]
    },
    {
      "cell_type": "markdown",
      "metadata": {
        "id": "d2PvLVYUIRcp"
      },
      "source": [
        "# TASK 11\n"
      ]
    },
    {
      "cell_type": "markdown",
      "metadata": {
        "id": "EqC9HFvMIRcp"
      },
      "source": [
        "### Create a matrix of size 2x3 and a vector of size 3, fill them with random real numbers ranging from 0 to 1, and multiply the matrix by the vector.\n",
        "\n",
        "### Створіть матрицю розміром 2x3 та вектор розміром 3, заповніть їх випадковими дійсними числами в діапазоні від 0 до 1 та перемножте матрицю на вектор.\n"
      ]
    },
    {
      "cell_type": "code",
      "execution_count": 51,
      "metadata": {
        "colab": {
          "base_uri": "https://localhost:8080/"
        },
        "id": "6--HiMKJIRcp",
        "outputId": "51dcdfc9-e86e-420d-cf8a-f1194d1bd6cb"
      },
      "outputs": [
        {
          "name": "stdout",
          "output_type": "stream",
          "text": [
            "matrix_task_11 = array([[0.95252414, 0.97543482, 0.4269334 ],\n",
            "       [0.49793281, 0.66681832, 0.23361726]])\n",
            "vector_task_11 = array([0.5500211 , 0.98907139, 0.05474645])\n",
            "res_task_11 = array([1.51205614, 0.94619419])\n"
          ]
        }
      ],
      "source": [
        "matrix_task_11 = np.random.random((2, 3))\n",
        "vector_task_11 = np.random.random(3)\n",
        "print(f\"{matrix_task_11 = }\")\n",
        "print(f\"{vector_task_11 = }\")\n",
        "res_task_11 = np.dot(matrix_task_11, vector_task_11)\n",
        "print(f\"{res_task_11 = }\")"
      ]
    },
    {
      "cell_type": "markdown",
      "metadata": {
        "id": "2sL3n7dUIRcq"
      },
      "source": [
        "## Task 12\n"
      ]
    },
    {
      "cell_type": "markdown",
      "metadata": {
        "id": "4TvZPcmlIRcq"
      },
      "source": [
        "### Create two 2x2 matrices, fill them with random integers in the range from 1 to 10, and perform their element-wise multiplication.\n",
        "\n",
        "### Створіть дві матриці розміром 2x2, заповніть їх випадковими цілими числами в діапазоні від 1 до 10 та виконайте їхнє поелементне множення.\n"
      ]
    },
    {
      "cell_type": "code",
      "execution_count": 52,
      "metadata": {
        "colab": {
          "base_uri": "https://localhost:8080/"
        },
        "id": "oNXBy87rIRcq",
        "outputId": "5a655e54-13c0-4642-8b4d-d87a33afc177"
      },
      "outputs": [
        {
          "name": "stdout",
          "output_type": "stream",
          "text": [
            "matrix_12_1 = array([[4, 2],\n",
            "       [1, 7]])\n",
            "matrix_12_2 = array([[6, 3],\n",
            "       [1, 1]])\n",
            "element_wise_mult = array([[24,  6],\n",
            "       [ 1,  7]])\n"
          ]
        }
      ],
      "source": [
        "matrix_12_1 = create_rand_matrix(2, 2)\n",
        "matrix_12_2 = create_rand_matrix(2, 2)\n",
        "print(f\"{matrix_12_1 = }\")\n",
        "print(f\"{matrix_12_2 = }\")\n",
        "element_wise_mult = matrix_12_1 * matrix_12_2\n",
        "print(f\"{element_wise_mult = }\")"
      ]
    },
    {
      "cell_type": "markdown",
      "metadata": {
        "id": "rdpfLi6CIRcq"
      },
      "source": [
        "## Task 13\n"
      ]
    },
    {
      "cell_type": "markdown",
      "metadata": {
        "id": "pSTzbqowIRct"
      },
      "source": [
        "### Create two 2x2 matrices, fill them with random integers ranging from 1 to 10, and find their product.\n",
        "\n",
        "### Створіть дві матриці розміром 2x2, заповніть їх випадковими цілими числами в діапазоні від 1 до 10 та знайдіть їх добуток.\n"
      ]
    },
    {
      "cell_type": "code",
      "execution_count": 53,
      "metadata": {
        "colab": {
          "base_uri": "https://localhost:8080/"
        },
        "id": "oF2NZjXQIRct",
        "outputId": "8f4b78ed-d030-4d16-f5b1-e087fadda069"
      },
      "outputs": [
        {
          "name": "stdout",
          "output_type": "stream",
          "text": [
            "matrix_13_1 = array([[10,  2],\n",
            "       [ 6,  3]])\n",
            "matrix_13_2 = array([[4, 7],\n",
            "       [2, 5]])\n",
            "prod = array([[44, 80],\n",
            "       [30, 57]])\n"
          ]
        }
      ],
      "source": [
        "matrix_13_1 = np.random.randint(1, 11, (2, 2))\n",
        "matrix_13_2 = np.random.randint(1, 11, (2, 2))\n",
        "print(f\"{matrix_13_1 = }\")\n",
        "print(f\"{matrix_13_2 = }\")\n",
        "prod = np.dot(matrix_13_1, matrix_13_2)\n",
        "print(f\"{prod = }\")"
      ]
    },
    {
      "cell_type": "markdown",
      "metadata": {
        "id": "R0UIFEFwIRct"
      },
      "source": [
        "## Task 14\n"
      ]
    },
    {
      "cell_type": "markdown",
      "metadata": {
        "id": "Z0dhUbVRIRct"
      },
      "source": [
        "### Create a 5x5 matrix, fill it with random integers ranging from 1 to 100, and find the sum of the matrix elements.\n",
        "\n",
        "### Створіть матрицю розміром 5x5, заповніть її випадковими цілими числами в діапазоні від 1 до 100 та знайдіть суму елементів матриці.\n"
      ]
    },
    {
      "cell_type": "code",
      "execution_count": 54,
      "metadata": {
        "colab": {
          "base_uri": "https://localhost:8080/"
        },
        "id": "TJmGrSgPIRct",
        "outputId": "1c78a700-caad-40d8-c474-9327087c1ddc"
      },
      "outputs": [
        {
          "name": "stdout",
          "output_type": "stream",
          "text": [
            "matrix_14 = array([[94, 68, 27, 53, 37],\n",
            "       [74, 32, 86, 93, 69],\n",
            "       [84, 72, 62, 94, 37],\n",
            "       [43, 14, 49, 83, 33],\n",
            "       [39, 41, 54, 94, 15]])\n",
            "sum1 = np.int64(1447)\n",
            "sum2 = np.int64(1447)\n"
          ]
        }
      ],
      "source": [
        "matrix_14 = np.random.randint(1, 101, (5, 5))\n",
        "print(f\"{matrix_14 = }\")\n",
        "sum1 = np.sum(matrix_14)\n",
        "print(f\"{sum1 = }\")\n",
        "sum2 = matrix_14.sum()\n",
        "print(f\"{sum2 = }\")"
      ]
    },
    {
      "cell_type": "markdown",
      "metadata": {
        "id": "pY8hSepkIRct"
      },
      "source": [
        "## Task 15\n"
      ]
    },
    {
      "cell_type": "markdown",
      "metadata": {
        "id": "DtWQp5nZIRcu"
      },
      "source": [
        "### Create two 4x4 matrices, fill them with random integers ranging from 1 to 10, and find their difference.\n",
        "\n",
        "### Створіть дві матриці розміром 4x4, заповніть їх випадковими цілими числами в діапазоні від 1 до 10 та знайдіть їхню різницю.\n"
      ]
    },
    {
      "cell_type": "code",
      "execution_count": 55,
      "metadata": {
        "colab": {
          "base_uri": "https://localhost:8080/"
        },
        "id": "xzzwfqgeIRcu",
        "outputId": "b5568a13-47b7-4ba3-fafa-c2f5cb8d9d01"
      },
      "outputs": [
        {
          "name": "stdout",
          "output_type": "stream",
          "text": [
            "matrix_15_1 = array([[ 7,  5,  7,  6],\n",
            "       [ 1,  9,  9,  6],\n",
            "       [10,  4,  3,  9],\n",
            "       [ 8,  2,  5,  7]])\n",
            "matrix_15_2 = array([[ 1,  8,  4, 10],\n",
            "       [ 2,  3,  8,  8],\n",
            "       [ 7,  5,  4,  4],\n",
            "       [ 4,  5,  8,  8]])\n",
            "diff = array([[ 6, -3,  3, -4],\n",
            "       [-1,  6,  1, -2],\n",
            "       [ 3, -1, -1,  5],\n",
            "       [ 4, -3, -3, -1]])\n"
          ]
        }
      ],
      "source": [
        "matrix_15_1 = np.random.randint(1, 11, (4, 4))\n",
        "matrix_15_2 = np.random.randint(1, 11, (4, 4))\n",
        "diff = matrix_15_1 - matrix_15_2\n",
        "print(f\"{matrix_15_1 = }\")\n",
        "print(f\"{matrix_15_2 = }\")\n",
        "print(f\"{diff = }\")"
      ]
    },
    {
      "cell_type": "markdown",
      "metadata": {
        "id": "eguN49FRIRcu"
      },
      "source": [
        "## Task 16\n"
      ]
    },
    {
      "cell_type": "markdown",
      "metadata": {
        "id": "EGengpnBIRcu"
      },
      "source": [
        "### Create a 3x3 matrix, fill it with random real numbers ranging from 0 to 1, and find the column vector containing the sum of the elements of each row of the matrix.\n",
        "\n",
        "### Створіть матрицю розміром 3x3, заповніть її випадковими дійсними числами в діапазоні від 0 до 1 та знайдіть вектор-стовпчик, що містить суму елементів кожного рядка матриці.\n"
      ]
    },
    {
      "cell_type": "code",
      "execution_count": 56,
      "metadata": {
        "colab": {
          "base_uri": "https://localhost:8080/"
        },
        "id": "6KIGg0drIRcu",
        "outputId": "3eaf3917-0b93-42bd-ab59-1e7e46e7a3b9"
      },
      "outputs": [
        {
          "name": "stdout",
          "output_type": "stream",
          "text": [
            "matrix_16 = array([[0.547794  , 0.19797026, 0.25155065],\n",
            "       [0.80938403, 0.92580965, 0.89988772],\n",
            "       [0.43454589, 0.02134634, 0.78510132]])\n",
            "matrix_shape = (3, 3)\n",
            "column_v_of_sum = array([[0.99731492],\n",
            "       [2.6350814 ],\n",
            "       [1.24099354]])\n",
            "column_v_of_sum2 = array([[0.99731492],\n",
            "       [2.6350814 ],\n",
            "       [1.24099354]])\n",
            "column_v_of_sum3 = array([[0.99731492],\n",
            "       [2.6350814 ],\n",
            "       [1.24099354]])\n"
          ]
        }
      ],
      "source": [
        "matrix_16 = np.random.random((3, 3))\n",
        "print(f\"{matrix_16 = }\")\n",
        "matrix_shape = matrix_16.shape\n",
        "print(f\"{matrix_shape = }\")\n",
        "column_v_of_sum = np.array([sum(row) for row in matrix_16]).reshape(-1, 1)\n",
        "print(f\"{column_v_of_sum = }\")\n",
        "column_v_of_sum2 = np.array(\n",
        "    [matrix_16[i].sum() for i in range(matrix_shape[0])]\n",
        ").reshape(-1, 1)\n",
        "print(f\"{column_v_of_sum2 = }\")\n",
        "column_v_of_sum3 = matrix_16.sum(axis=1).reshape(-1, 1)\n",
        "print(f\"{column_v_of_sum3 = }\")"
      ]
    },
    {
      "cell_type": "markdown",
      "metadata": {
        "id": "SUdf-wA-IRcu"
      },
      "source": [
        "## task 17\n"
      ]
    },
    {
      "cell_type": "markdown",
      "metadata": {
        "id": "QpW1zKLlIRcu"
      },
      "source": [
        "### Create a 3x4 matrix with arbitrary integers and create a matrix with the squares of these numbers.\n",
        "\n",
        "### Створіть матрицю розміром 3x4 з довільними цілими числами і створінь матрицю з квадратами цих чисел.\n"
      ]
    },
    {
      "cell_type": "code",
      "execution_count": 57,
      "metadata": {
        "colab": {
          "base_uri": "https://localhost:8080/"
        },
        "id": "nkDuK4vfIRcu",
        "outputId": "aa12fa6d-29ae-44e6-a89e-f136e371d6fa"
      },
      "outputs": [
        {
          "name": "stdout",
          "output_type": "stream",
          "text": [
            "matrix_17 = array([[ 8, 10,  1,  7],\n",
            "       [ 1,  8,  5,  6],\n",
            "       [ 2,  6,  6,  4]])\n",
            "square_matrix = array([[ 64, 100,   1,  49],\n",
            "       [  1,  64,  25,  36],\n",
            "       [  4,  36,  36,  16]])\n",
            "squared_matrix = array([[ 64, 100,   1,  49],\n",
            "       [  1,  64,  25,  36],\n",
            "       [  4,  36,  36,  16]])\n"
          ]
        }
      ],
      "source": [
        "matrix_17 = np.random.randint(1, 11, size=(3, 4))\n",
        "print(f\"{matrix_17 = }\")\n",
        "square_matrix = np.square(matrix_17)\n",
        "print(f\"{square_matrix = }\")\n",
        "squared_matrix = matrix_17**2\n",
        "print(f\"{squared_matrix = }\")"
      ]
    },
    {
      "cell_type": "markdown",
      "metadata": {
        "id": "v6dJcWw-IRcu"
      },
      "source": [
        "## task 18\n"
      ]
    },
    {
      "cell_type": "markdown",
      "metadata": {
        "id": "og_Fk01CIRcu"
      },
      "source": [
        "### Create a vector of size 4, fill it with random integers ranging from 1 to 50, and find the vector with the square roots of these numbers.\n",
        "\n",
        "### Створіть вектор розміром 4, заповніть його випадковими цілими числами в діапазоні від 1 до 50 та знайдіть вектор з квадратними коренями цих чисел.\n"
      ]
    },
    {
      "cell_type": "code",
      "execution_count": 58,
      "metadata": {
        "colab": {
          "base_uri": "https://localhost:8080/"
        },
        "id": "jt_jNpkTIRcv",
        "outputId": "6391a662-3ac4-4824-b9de-0d78cfcf4e38"
      },
      "outputs": [
        {
          "name": "stdout",
          "output_type": "stream",
          "text": [
            "vector_18 = array([21,  4, 38, 11])\n",
            "sq_root_1 = array([4.58257569, 2.        , 6.164414  , 3.31662479])\n",
            "sq_root_2 = array([4.58257569, 2.        , 6.164414  , 3.31662479])\n"
          ]
        }
      ],
      "source": [
        "vector_18 = np.random.randint(1, 51, size=4)\n",
        "print(f\"{vector_18 = }\")\n",
        "sq_root_1 = vector_18 ** (1 / 2)\n",
        "print(f\"{sq_root_1 = }\")\n",
        "sq_root_2 = np.sqrt(vector_18)\n",
        "print(f\"{sq_root_2 = }\")"
      ]
    },
    {
      "cell_type": "markdown",
      "metadata": {
        "id": "Afw8hDhLHObb"
      },
      "source": [
        "# Task 2 (optional)\n",
        "\n",
        "**Use only NumPy to solve all problems**\n",
        "\n",
        "# Завдання 2 (додаткове, за бажанням)\n",
        "\n",
        "**Для вирішення усіх завдань використовуйте лише NumPy**\n"
      ]
    },
    {
      "cell_type": "markdown",
      "metadata": {
        "id": "qxH_NW-oHObc"
      },
      "source": [
        "## 1. Replace all odd numbers in arr with -1 arr = np.array([0, 1, 2, 3, 4, 5, 6, 7, 8, 9])\n",
        "\n",
        "## 1. Замініть усі непарні числа в arr на -1 arr = np.array([0, 1, 2, 3, 4, 5, 6, 7, 8, 9])\n"
      ]
    },
    {
      "cell_type": "code",
      "execution_count": 59,
      "metadata": {
        "colab": {
          "base_uri": "https://localhost:8080/"
        },
        "id": "4JhbOctIHObc",
        "outputId": "aa4429f8-4f80-4a95-ffaa-0cbc8ad1cd62"
      },
      "outputs": [
        {
          "name": "stdout",
          "output_type": "stream",
          "text": [
            "arr = array([0, 1, 2, 3, 4, 5, 6, 7, 8, 9])\n",
            "odd_numers = array([1, 3, 5, 7, 9])\n",
            "arr_2 = array([ 0, -1,  2, -1,  4, -1,  6, -1,  8, -1])\n",
            "arr_3 = array([ 0, -1,  2, -1,  4, -1,  6, -1,  8, -1])\n",
            "arr_4 = array([ 0, -1,  2, -1,  4, -1,  6, -1,  8, -1])\n"
          ]
        }
      ],
      "source": [
        "arr = np.array([0, 1, 2, 3, 4, 5, 6, 7, 8, 9])\n",
        "print(f\"{arr = }\")\n",
        "odd_numers = np.array([num for num in arr if num % 2 == 1])\n",
        "print(f\"{odd_numers = }\")\n",
        "arr_2 = np.where(arr % 2 == 1, -1, arr)\n",
        "print(f\"{arr_2 = }\")\n",
        "arr_3 = np.array([-1 if num % 2 == 1 else num for num in arr])\n",
        "print(f\"{arr_3 = }\")\n",
        "arr_4 = arr.copy()\n",
        "arr_4[arr_4 % 2 == 1] = -1\n",
        "print(f\"{arr_4 = }\")"
      ]
    },
    {
      "cell_type": "markdown",
      "metadata": {},
      "source": [
        "## 2. Create and convert a 1D array to a 2D array with 2 rows\n",
        "\n",
        "## 2. Створіть та перетворіть 1D-масив на 2D-масив із 2 рядками\n"
      ]
    },
    {
      "cell_type": "code",
      "execution_count": 60,
      "metadata": {},
      "outputs": [
        {
          "data": {
            "text/plain": [
              "array([[1, 2, 3],\n",
              "       [4, 5, 6]])"
            ]
          },
          "execution_count": 60,
          "metadata": {},
          "output_type": "execute_result"
        }
      ],
      "source": [
        "arr = np.array([1, 2, 3, 4, 5, 6])\n",
        "\n",
        "arr_2D = arr.reshape(2, 3)\n",
        "arr_2D"
      ]
    },
    {
      "cell_type": "markdown",
      "metadata": {},
      "source": [
        "## 3. Create two two-dimensional arrays a and b, and stack the arrays vertically\n",
        "\n",
        "## 3. Створіть два двовимірні масиви а і b, та складіть масиви їх вертикально\n"
      ]
    },
    {
      "cell_type": "code",
      "execution_count": 61,
      "metadata": {},
      "outputs": [
        {
          "name": "stdout",
          "output_type": "stream",
          "text": [
            "arr_3_2D = array([[ 1,  2,  3],\n",
            "       [ 4,  5,  6],\n",
            "       [ 7,  8,  9],\n",
            "       [10, 11, 12]])\n",
            "arr_3_2D_1 = array([[ 1,  2,  3],\n",
            "       [ 4,  5,  6],\n",
            "       [ 7,  8,  9],\n",
            "       [10, 11, 12]])\n",
            "arr_3_2D_2 = array([[ 1,  2,  3],\n",
            "       [ 4,  5,  6],\n",
            "       [ 7,  8,  9],\n",
            "       [10, 11, 12]])\n"
          ]
        }
      ],
      "source": [
        "arr_1_2D = np.array([[1, 2, 3], [4, 5, 6]])\n",
        "arr_2_2D = np.array([[7, 8, 9], [10, 11, 12]])\n",
        "\n",
        "arr_3_2D = np.concatenate((arr_1_2D, arr_2_2D), axis=0)\n",
        "print(f\"{arr_3_2D = }\")\n",
        "arr_3_2D_1 = np.vstack((arr_1_2D, arr_2_2D))\n",
        "print(f\"{arr_3_2D_1 = }\")\n",
        "arr_3_2D_2 = np.append(arr_1_2D, arr_2_2D, axis=0)\n",
        "print(f\"{arr_3_2D_2 = }\")"
      ]
    },
    {
      "cell_type": "markdown",
      "metadata": {},
      "source": [
        "## 4. Create the following template without hard coding. Use only Numpy functions and the following input array\n",
        "\n",
        "## 4. Створіть наступний шаблон без жорсткого кодування(Hard coding) . Використовуйте лише функції Numpy і наведений нижче масив введення\n",
        "\n",
        "Input:a = np.array([1,2,3])\n",
        "\n",
        "Output:array([1, 1, 1, 2, 2, 2, 3, 3, 3, 1, 2, 3, 1, 2, 3, 1, 2, 3])\n"
      ]
    },
    {
      "cell_type": "code",
      "execution_count": 62,
      "metadata": {},
      "outputs": [
        {
          "name": "stdout",
          "output_type": "stream",
          "text": [
            "repeated = array([1, 1, 1, 2, 2, 2, 3, 3, 3])\n",
            "tiled = array([1, 2, 3, 1, 2, 3, 1, 2, 3])\n",
            "result = array([1, 1, 1, 2, 2, 2, 3, 3, 3, 1, 2, 3, 1, 2, 3, 1, 2, 3])\n"
          ]
        }
      ],
      "source": [
        "import numpy as np\n",
        "\n",
        "a = np.array([1, 2, 3])\n",
        "\n",
        "repeated = np.repeat(a, 3)\n",
        "print(f\"{repeated = }\")\n",
        "\n",
        "tiled = np.tile(a, 3)\n",
        "print(f\"{tiled = }\")\n",
        "\n",
        "result = np.concatenate((repeated, tiled))\n",
        "\n",
        "print(f\"{result = }\")"
      ]
    },
    {
      "cell_type": "markdown",
      "metadata": {},
      "source": [
        "## 5. Get the common elements between a and b\n",
        "\n",
        "## 5. Отримайте спільні елементи між a і b\n",
        "\n",
        "a = np.array([1,2,3,2,3,4,3,4,5,6]) b = np.array([7,2,10,2,7,4,9,4,9,8])\n"
      ]
    },
    {
      "cell_type": "code",
      "execution_count": 63,
      "metadata": {},
      "outputs": [
        {
          "name": "stdout",
          "output_type": "stream",
          "text": [
            "[2 4]\n"
          ]
        }
      ],
      "source": [
        "a = np.array([1, 2, 3, 2, 3, 4, 3, 4, 5, 6])\n",
        "b = np.array([7, 2, 10, 2, 7, 4, 9, 4, 9, 8])\n",
        "\n",
        "common = np.intersect1d(a, b)\n",
        "print(common)"
      ]
    },
    {
      "cell_type": "markdown",
      "metadata": {},
      "source": [
        "## 6. Get the positions of the first 5 maximum values ​​in the given array a\n",
        "\n",
        "## 6. Отримайте позиції перших 5 максимальних значень у заданому масиві a\n",
        "\n",
        "np.random.seed(100)\n",
        "a = np.random.uniform(1,50, 20)\n"
      ]
    },
    {
      "cell_type": "code",
      "execution_count": 64,
      "metadata": {},
      "outputs": [
        {
          "name": "stdout",
          "output_type": "stream",
          "text": [
            "a = array([27.62684215, 14.64009987, 21.80136195, 42.39403048,  1.23122395,\n",
            "        6.95688692, 33.86670515, 41.466785  ,  7.69862289, 29.17957314,\n",
            "       44.67477576, 11.25090398, 10.08108276,  6.31046763, 11.76517714,\n",
            "       48.95256545, 40.77247431,  9.42510962, 40.99501269, 14.42961361])\n",
            "max_5_indices = array([18,  7,  3, 10, 15])\n",
            "top5_indices = array([18,  7,  3, 10, 15])\n"
          ]
        }
      ],
      "source": [
        "np.random.seed(100)\n",
        "a = np.random.uniform(1, 50, 20)\n",
        "print(f\"{a = }\")\n",
        "max_5_indices = np.argsort(a)[-5:]\n",
        "print(f\"{max_5_indices = }\")\n",
        "top5_indices = np.argpartition(a, -5)[-5:]\n",
        "print(f\"{top5_indices = }\")"
      ]
    },
    {
      "cell_type": "markdown",
      "metadata": {},
      "source": [
        "## 7. Remove all NaN values ​​from a one-dimensional array\n",
        "## 7. Вилучіть усі значення NaN із одновимірного масиву\n",
        "\n",
        "а=np.array([1,2,3,np.nan,5,6,7,np.nan])"
      ]
    },
    {
      "cell_type": "code",
      "execution_count": 79,
      "metadata": {},
      "outputs": [
        {
          "name": "stdout",
          "output_type": "stream",
          "text": [
            "arr = array([ 1.,  2.,  3., nan,  5.,  6.,  7., nan])\n",
            "arr_1 = array([False, False, False,  True, False, False, False,  True])\n",
            "arr_2 = array([ True,  True,  True, False,  True,  True,  True, False])\n",
            "arr_no_nan = array([1., 2., 3., 5., 6., 7.])\n",
            "arr_no_nan_1 = array([1., 2., 3., 5., 6., 7.])\n",
            "arr_no_nan_2 = array([1., 2., 3., 5., 6., 7.])\n"
          ]
        }
      ],
      "source": [
        "arr = np.array([1, 2, 3, np.nan, 5, 6, 7, np.nan])\n",
        "print(f\"{arr = }\")\n",
        "\n",
        "arr_1 = np.isnan(arr)\n",
        "print(f\"{arr_1 = }\")\n",
        "arr_2 = np.isfinite(arr)\n",
        "print(f\"{arr_2 = }\")\n",
        "\n",
        "# ~ == not\n",
        "arr_no_nan = arr[~np.isnan(arr)]\n",
        "print(f\"{arr_no_nan = }\")\n",
        "\n",
        "arr_no_nan_1 = arr[np.isfinite(arr)]\n",
        "print(f\"{arr_no_nan_1 = }\")\n",
        "\n",
        "arr_no_nan_2 = np.compress(~np.isnan(arr), arr)\n",
        "print(f\"{arr_no_nan_2 = }\")"
      ]
    },
    {
      "cell_type": "markdown",
      "metadata": {},
      "source": [
        "## 8. Calculate the Euclidean distance between two arrays a and b.\n",
        "## 8. Обчисліть евклідову відстань між двома масивами a і b.\n",
        "\n",
        "a = np.array([1,2,3,4,5]) b = np.array([4,5,6,7,8])\n",
        "\n"
      ]
    },
    {
      "cell_type": "code",
      "execution_count": 81,
      "metadata": {},
      "outputs": [
        {
          "name": "stdout",
          "output_type": "stream",
          "text": [
            "Euclidean distance = 6.708203932499369\n",
            "Euclidean distance = 6.708203932499369\n"
          ]
        }
      ],
      "source": [
        "a = np.array([1,2,3,4,5])\n",
        "b = np.array([4,5,6,7,8])\n",
        "\n",
        "distance = np.sqrt(np.sum((a - b) ** 2))\n",
        "print(f\"Euclidean distance = {distance}\")\n",
        "\n",
        "distance = np.linalg.norm(a - b)\n",
        "print(f\"Euclidean distance = {distance}\")"
      ]
    },
    {
      "cell_type": "markdown",
      "metadata": {},
      "source": [
        "## 9. Find the index of the 5th occurrence of the number 1 in the array x\n",
        "## 9. Знайдіть індекс 5-го повторення числа 1 у масиві x\n",
        "\n",
        "x = np.array([1, 2, 1, 1, 3, 4, 3, 1, 1, 2, 1, 1, 2])"
      ]
    },
    {
      "cell_type": "code",
      "execution_count": 90,
      "metadata": {},
      "outputs": [
        {
          "name": "stdout",
          "output_type": "stream",
          "text": [
            "occurents_of_5th = np.int64(8)\n",
            "fifth = np.int64(8)\n"
          ]
        }
      ],
      "source": [
        "x = np.array([1, 2, 1, 1, 3, 4, 3, 1, 1, 2, 1, 1, 2])\n",
        "\n",
        "occurents_of_5th = np.where(x == 1)[0][4]\n",
        "print(f\"{occurents_of_5th = }\")\n",
        "\n",
        "fifth = np.flatnonzero(x == 1)[4]\n",
        "print(f\"{fifth = }\")"
      ]
    },
    {
      "cell_type": "markdown",
      "metadata": {},
      "source": [
        "## 10. Find the duplicate entries (from the 2nd occurrence onwards) in the given array and mark them as True. The first occurrence must be False.\n",
        "## 10. Знайдіть повторювані записи (від 2-го випадку повторення і далі) у заданому масиві і позначте їх як True. Перше повторення має бути False.\n",
        "\n",
        "# Input np.random.seed(100) a = np.random.randint(0, 5, 10)\n",
        "\n",
        "[0 0 3 0 2 4 2 2 2 2] #Output [False True False True False False True True True True]"
      ]
    },
    {
      "cell_type": "code",
      "execution_count": 94,
      "metadata": {},
      "outputs": [
        {
          "name": "stdout",
          "output_type": "stream",
          "text": [
            "a = array([0, 0, 3, 0, 2, 4, 2, 2, 2, 2])\n",
            "duplicated = array([False,  True, False,  True, False, False,  True,  True,  True,\n",
            "        True])\n",
            "duplicated = array([False,  True, False,  True, False, False,  True,  True,  True,\n",
            "        True])\n"
          ]
        }
      ],
      "source": [
        "np.random.seed(100) \n",
        "a = np.random.randint(0, 5, 10)\n",
        "\n",
        "print(f\"{a = }\")\n",
        "\n",
        "seen = set()\n",
        "duplicated = np.zeros_like(a, dtype=bool)\n",
        "\n",
        "for i, val in enumerate(a):\n",
        "    if val in seen:\n",
        "        duplicated[i] = True\n",
        "    else:\n",
        "        seen.add(val)\n",
        "\n",
        "print(f\"{duplicated = }\")\n",
        "\n",
        "\n",
        "duplicated = pd.Series(a).duplicated(keep=\"first\").to_numpy()\n",
        "print(f\"{duplicated = }\")"
      ]
    }
  ],
  "metadata": {
    "canvas": {
      "colorPalette": [
        "inherit",
        "inherit",
        "inherit",
        "inherit",
        "inherit",
        "inherit",
        "inherit",
        "inherit",
        "inherit",
        "inherit"
      ],
      "parameters": []
    },
    "colab": {
      "include_colab_link": true,
      "provenance": []
    },
    "kernelspec": {
      "display_name": "Python 3 (ipykernel)",
      "language": "python",
      "name": "python3"
    }
  },
  "nbformat": 4,
  "nbformat_minor": 0
}
