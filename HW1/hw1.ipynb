{
  "cells": [
    {
      "cell_type": "markdown",
      "metadata": {
        "id": "view-in-github",
        "colab_type": "text"
      },
      "source": [
        "<a href=\"https://colab.research.google.com/github/SiracencoSerghei/DataScienceHW/blob/main/HW1/hw1.ipynb\" target=\"_parent\"><img src=\"https://colab.research.google.com/assets/colab-badge.svg\" alt=\"Open In Colab\"/></a>"
      ]
    },
    {
      "cell_type": "markdown",
      "metadata": {
        "canvas": {
          "comments": [],
          "componentType": "CodeCell",
          "copiedOriginId": null,
          "diskcache": false,
          "headerColor": "transparent",
          "id": "6e8f50ac-5414-46bf-a3a9-944acafebfbf",
          "isComponent": false,
          "name": "",
          "parents": []
        },
        "id": "toKWwe6qpcAp",
        "tags": []
      },
      "source": [
        "# Home Work 1"
      ]
    },
    {
      "cell_type": "code",
      "execution_count": 1,
      "metadata": {
        "canvas": {
          "comments": [],
          "componentType": "CodeCell",
          "copiedOriginId": null,
          "diskcache": false,
          "headerColor": "transparent",
          "id": "80afa2d1-cc62-41da-9b95-2e62ccaf1573",
          "isComponent": false,
          "name": "",
          "parents": []
        },
        "id": "omXS55IcptG-"
      },
      "outputs": [],
      "source": [
        "import numpy as np"
      ]
    },
    {
      "cell_type": "markdown",
      "metadata": {
        "canvas": {
          "comments": [],
          "componentType": "CodeCell",
          "copiedOriginId": null,
          "diskcache": false,
          "headerColor": "transparent",
          "id": "ba9e285d-853b-4e68-a3ba-72f84b0a4b18",
          "isComponent": false,
          "name": "",
          "parents": []
        },
        "id": "fJQaFj-opplC"
      },
      "source": [
        "## Task 1"
      ]
    },
    {
      "cell_type": "markdown",
      "metadata": {
        "canvas": {
          "comments": [],
          "componentType": "CodeCell",
          "copiedOriginId": null,
          "diskcache": false,
          "headerColor": "transparent",
          "id": "e9b4dc89-3354-480a-8e4b-07b263167e39",
          "isComponent": false,
          "name": "",
          "parents": []
        },
        "id": "BX-CYUjsIRcm"
      },
      "source": [
        "###     Create a one-dimensional array (vector) with the first 10 natural numbers and print its value.\n",
        "###     Створіть одновимірний масив (вектор) з першими 10-ма натуральними числами та виведіть його значення."
      ]
    },
    {
      "cell_type": "code",
      "execution_count": 2,
      "metadata": {
        "canvas": {
          "comments": [],
          "componentType": "CodeCell",
          "copiedOriginId": null,
          "diskcache": false,
          "headerColor": "transparent",
          "id": "e558968d-9dee-44c6-ac1d-d187c6df135d",
          "isComponent": false,
          "name": "",
          "parents": []
        },
        "id": "_GJK-1SkIRcm",
        "outputId": "d4d68bcd-dae3-4b69-fd76-b07fdcac2533",
        "colab": {
          "base_uri": "https://localhost:8080/"
        }
      },
      "outputs": [
        {
          "output_type": "stream",
          "name": "stdout",
          "text": [
            "task=array([ 1,  2,  3,  4,  5,  6,  7,  8,  9, 10])\n",
            "task_1=array([ 1,  2,  3,  4,  5,  6,  7,  8,  9, 10])\n",
            "task_1_1=array([ 1,  2,  3,  4,  5,  6,  7,  8,  9, 10])\n",
            "task_1_2=array([ 1,  2,  3,  4,  5,  6,  7,  8,  9, 10])\n",
            "task_1_3=array([ 1,  2,  3,  4,  5,  6,  7,  8,  9, 10])\n",
            "task_1_4=array([ 1,  2,  3,  4,  5,  6,  7,  8,  9, 10])\n"
          ]
        }
      ],
      "source": [
        "import numpy as np\n",
        "\n",
        "lst = [1, 2, 3, 4, 5, 6, 7, 8, 9, 10]\n",
        "task = np.array(lst)\n",
        "print(f\"{task=}\")\n",
        "tpl = (1, 2, 3, 4, 5, 6, 7, 8, 9, 10)\n",
        "task_1 = np.array(tpl)\n",
        "print(f\"{task_1=}\")\n",
        "task_1_1 = np.array([i for i in range(1, 10 + 1)])\n",
        "print(f\"{task_1_1=}\")\n",
        "task_1_2 = np.arange(1, 11)\n",
        "print(f\"{task_1_2=}\")\n",
        "task_1_3 = np.linspace(1, 10, num=10, dtype=int)\n",
        "print(f\"{task_1_3=}\")\n",
        "iterable = (i for i in range(1, 11))\n",
        "task_1_4 = np.fromiter(iterable, int)\n",
        "print(f\"{task_1_4=}\")"
      ]
    },
    {
      "cell_type": "markdown",
      "metadata": {
        "canvas": {
          "comments": [],
          "componentType": "CodeCell",
          "copiedOriginId": null,
          "diskcache": false,
          "headerColor": "transparent",
          "id": "ec930467-6807-48b2-b10b-cee3153e1bf9",
          "isComponent": false,
          "name": "",
          "parents": []
        },
        "id": "k9uEnbteIRcm"
      },
      "source": [
        "## Task 2"
      ]
    },
    {
      "cell_type": "markdown",
      "metadata": {
        "canvas": {
          "comments": [],
          "componentType": "CodeCell",
          "copiedOriginId": null,
          "diskcache": false,
          "headerColor": "transparent",
          "id": "96d81e03-849f-4e93-ac8b-1df15bcb7471",
          "isComponent": false,
          "name": "",
          "parents": []
        },
        "id": "ui1jmxzHIRcm"
      },
      "source": [
        "\n",
        "###     Create a two-dimensional 3x3 array (matrix), fill it with zeros, and print its value.\n",
        "###     Створіть двовимірний масив (матрицю) розміром 3x3, заповніть його нулями та виведіть його значення."
      ]
    },
    {
      "cell_type": "code",
      "execution_count": 3,
      "metadata": {
        "canvas": {
          "comments": [],
          "componentType": "CodeCell",
          "copiedOriginId": null,
          "diskcache": false,
          "headerColor": "transparent",
          "id": "667fe9fd-e65d-4e01-be0f-f1bee4f87a55",
          "isComponent": false,
          "name": "",
          "parents": []
        },
        "colab": {
          "base_uri": "https://localhost:8080/"
        },
        "id": "rZtMnJOlIRcm",
        "outputId": "cc5bdb93-e0ee-426f-e711-d677e5060fd2"
      },
      "outputs": [
        {
          "output_type": "stream",
          "name": "stdout",
          "text": [
            "task_2=array([[0., 0., 0.],\n",
            "       [0., 0., 0.],\n",
            "       [0., 0., 0.]])\n",
            "matrix=array([[0., 0., 0.],\n",
            "       [0., 0., 0.],\n",
            "       [0., 0., 0.]])\n",
            "matrix_0=array([[0, 0, 0],\n",
            "       [0, 0, 0],\n",
            "       [0, 0, 0]])\n"
          ]
        }
      ],
      "source": [
        "tup = (3, 3)\n",
        "task_2 = np.zeros(tup)\n",
        "# task_2\n",
        "print(f\"{task_2=}\")\n",
        "matrix = np.zeros(9).reshape(3, 3)\n",
        "print(f\"{matrix=}\")\n",
        "arr = np.array([[1, 2, 3], [4, 5, 6], [7, 8, 9]])\n",
        "matrix_0 = np.zeros_like(arr)\n",
        "print(f\"{matrix_0=}\")"
      ]
    },
    {
      "cell_type": "markdown",
      "metadata": {
        "canvas": {
          "comments": [],
          "componentType": "CodeCell",
          "copiedOriginId": null,
          "diskcache": false,
          "headerColor": "transparent",
          "id": "057deaa3-a1d4-4fc8-a9ca-f4dbaf103568",
          "isComponent": false,
          "name": "",
          "parents": []
        },
        "id": "rYKQs9q9IRcn"
      },
      "source": [
        "## Task 3"
      ]
    },
    {
      "cell_type": "markdown",
      "metadata": {
        "canvas": {
          "comments": [],
          "componentType": "CodeCell",
          "copiedOriginId": null,
          "diskcache": false,
          "headerColor": "transparent",
          "id": "b23edc1a-d4be-4324-a93f-12f6e12b8a0d",
          "isComponent": false,
          "name": "",
          "parents": []
        },
        "id": "BNByky6cIRcn"
      },
      "source": [
        "### Create a 5x5 array, fill it with random integers ranging from 1 to 10, and output its value.\n",
        "### Створіть масив розміром 5x5, заповніть його випадковими цілими числами в діапазоні від 1 до 10 та виведіть його значення."
      ]
    },
    {
      "cell_type": "code",
      "execution_count": 4,
      "metadata": {
        "canvas": {
          "comments": [],
          "componentType": "CodeCell",
          "copiedOriginId": null,
          "diskcache": false,
          "headerColor": "transparent",
          "id": "ab16a68a-a3df-4a4c-a4fb-0abaf8152200",
          "isComponent": false,
          "name": "",
          "parents": []
        },
        "colab": {
          "base_uri": "https://localhost:8080/"
        },
        "id": "dWELc-P2IRcn",
        "outputId": "49f8e9f5-2c0b-412a-d64a-983f6ac87d85"
      },
      "outputs": [
        {
          "output_type": "stream",
          "name": "stdout",
          "text": [
            "t_3_1=array([[ 2, 10,  2,  7,  6],\n",
            "       [ 4,  5,  4,  2,  3],\n",
            "       [ 1,  9,  8,  4,  4],\n",
            "       [ 7,  3, 10, 10, 10],\n",
            "       [ 4,  9,  9,  2,  7]])\n",
            "t_3_2=array([[ 7,  7,  2, 10,  5],\n",
            "       [ 2,  3,  3,  6,  1],\n",
            "       [ 4,  6,  9, 10,  1],\n",
            "       [ 2,  1,  6,  8,  1],\n",
            "       [ 9,  9,  4,  6,  7]])\n"
          ]
        }
      ],
      "source": [
        "t_3_1 = np.random.randint(1, 11, size=(5, 5))\n",
        "print(f\"{t_3_1=}\")\n",
        "random_generator = np.random.default_rng()\n",
        "t_3_2 = random_generator.integers(1, 11, size=(5, 5))\n",
        "print(f\"{t_3_2=}\")"
      ]
    },
    {
      "cell_type": "markdown",
      "metadata": {
        "canvas": {
          "comments": [],
          "componentType": "CodeCell",
          "copiedOriginId": null,
          "diskcache": false,
          "headerColor": "transparent",
          "id": "44cdb9a8-1203-4b77-8a2d-85f9fefe185e",
          "isComponent": false,
          "name": "",
          "parents": []
        },
        "id": "-glNXu4LIRcn"
      },
      "source": [
        "## Task 4"
      ]
    },
    {
      "cell_type": "markdown",
      "metadata": {
        "canvas": {
          "comments": [],
          "componentType": "CodeCell",
          "copiedOriginId": null,
          "diskcache": false,
          "headerColor": "transparent",
          "id": "433c217c-ec4d-4cde-b77e-f812405d2a2e",
          "isComponent": false,
          "name": "",
          "parents": []
        },
        "id": "afLQhvXTIRcn"
      },
      "source": [
        "### Create a 4x4 array, fill it with random real numbers in the range from 0 to 1, and output its value.\n",
        "### Створіть масив розміром 4x4, заповніть його випадковими дійсними числами в діапазоні від 0 до 1 та виведіть його значення."
      ]
    },
    {
      "cell_type": "code",
      "execution_count": 5,
      "metadata": {
        "canvas": {
          "comments": [],
          "componentType": "CodeCell",
          "copiedOriginId": null,
          "diskcache": false,
          "headerColor": "transparent",
          "id": "63dc3c6b-4534-442b-842d-8694d1fcd61d",
          "isComponent": false,
          "name": "",
          "parents": []
        },
        "colab": {
          "base_uri": "https://localhost:8080/"
        },
        "id": "ZjHFldbUIRcn",
        "outputId": "231db1e1-d995-43be-8560-68ce6ed0f1f4"
      },
      "outputs": [
        {
          "output_type": "stream",
          "name": "stdout",
          "text": [
            "t_4_1=array([[0.18399899, 0.49315003, 0.5168692 , 0.05537984],\n",
            "       [0.10713529, 0.5161779 , 0.04739278, 0.47975123],\n",
            "       [0.87218992, 0.153131  , 0.80715713, 0.25667441],\n",
            "       [0.06914481, 0.6440549 , 0.38424737, 0.08839601]])\n",
            "t_4_2=array([[0.42468961, 0.56308651, 0.55543389, 0.17865345],\n",
            "       [0.91353474, 0.81918965, 0.73482554, 0.88726874],\n",
            "       [0.92586631, 0.86243378, 0.56713893, 0.64899328],\n",
            "       [0.07753303, 0.70576586, 0.19854564, 0.39247881]])\n",
            "t_4_3=array([[0.81931938, 0.21359235, 0.52497336, 0.39085602],\n",
            "       [0.39108128, 0.7335141 , 0.9772279 , 0.35637749],\n",
            "       [0.68885765, 0.59218341, 0.25592557, 0.65783316],\n",
            "       [0.0189318 , 0.93417703, 0.74444281, 0.53013562]])\n",
            "t_4_4=array([[0.35985395, 0.49731763, 0.08846503, 0.88207689],\n",
            "       [0.9453228 , 0.56325325, 0.88891372, 0.53423552],\n",
            "       [0.95074538, 0.15401651, 0.75361186, 0.52626833],\n",
            "       [0.60992267, 0.8925516 , 0.85067648, 0.32353694]])\n"
          ]
        }
      ],
      "source": [
        "t_4_1 = np.random.random((4, 4))\n",
        "print(f\"{t_4_1=}\")\n",
        "t_4_2 = np.random.rand(4, 4)\n",
        "print(f\"{t_4_2=}\")\n",
        "t_4_3 = np.random.uniform(0, 1, (4, 4))\n",
        "print(f\"{t_4_3=}\")\n",
        "t_4_4 = random_generator.random((4, 4))\n",
        "print(f\"{t_4_4=}\")"
      ]
    },
    {
      "cell_type": "markdown",
      "metadata": {
        "id": "a4e63wgfIRcn"
      },
      "source": [
        "## Task 5"
      ]
    },
    {
      "cell_type": "markdown",
      "metadata": {
        "id": "h0Io04sKIRcn"
      },
      "source": [
        "### Create two one-dimensional arrays of size 5, fill them with random integers in the range from 1 to 10, and perform element-wise addition, subtraction, and multiplication operations on them.\n",
        "### Створіть два одновимірних масиви розміром 5, заповніть їх випадковими цілими числами в діапазоні від 1 до 10 та виконайте на них поелементні операції додавання, віднімання та множення."
      ]
    },
    {
      "cell_type": "code",
      "execution_count": 6,
      "metadata": {
        "colab": {
          "base_uri": "https://localhost:8080/"
        },
        "id": "Jnz8ElejIRcn",
        "outputId": "34ed678c-b58d-4eac-925b-89955fcd47bf"
      },
      "outputs": [
        {
          "output_type": "stream",
          "name": "stdout",
          "text": [
            "Array 1: [10  5  8  8  7]\n",
            "Array 2: [1 9 3 3 7]\n",
            "Addition: [11 14 11 11 14]\n",
            "Subtraction: [ 9 -4  5  5  0]\n",
            "Multiplication: [10 45 24 24 49]\n"
          ]
        }
      ],
      "source": [
        "task_5_1 = np.random.randint(1, 11, size=5)\n",
        "task_5_2 = np.random.randint(1, 11, size=5)\n",
        "# Print the arrays\n",
        "print(\"Array 1:\", task_5_1)\n",
        "print(\"Array 2:\", task_5_2)\n",
        "add = task_5_1 + task_5_2\n",
        "substr = task_5_1 - task_5_2\n",
        "multipl = task_5_1 * task_5_2\n",
        "# Print the results\n",
        "print(\"Addition:\", add)\n",
        "print(\"Subtraction:\", substr)\n",
        "print(\"Multiplication:\", multipl)"
      ]
    },
    {
      "cell_type": "markdown",
      "metadata": {
        "id": "ZF5B07KBIRcn"
      },
      "source": [
        "## Task 6"
      ]
    },
    {
      "cell_type": "markdown",
      "metadata": {
        "id": "yzKDbEvrIRco"
      },
      "source": [
        "### Create two vectors of size 7, fill with arbitrary numbers and find their scalar product(dot product).\n",
        "### Створіть два вектори розміром 7, заповніть довільними числами та знайдіть їх скалярний добуток."
      ]
    },
    {
      "cell_type": "code",
      "execution_count": 7,
      "metadata": {
        "colab": {
          "base_uri": "https://localhost:8080/"
        },
        "id": "Rrz6nglaIRco",
        "outputId": "0329a213-c6c4-4327-da34-1424ad84f1b7"
      },
      "outputs": [
        {
          "output_type": "stream",
          "name": "stdout",
          "text": [
            "task_6_1=array([1, 2, 3, 4, 5, 6, 7])\n",
            "task_6_2=array([ 9. , 10.5, 12. , 13.5, 15. , 16.5, 18. ])\n",
            "np.dot(task_6_1, task_6_2) = np.float64(420.0)\n",
            "np.sum(task_6_1*task_6_2) = np.float64(420.0)\n"
          ]
        }
      ],
      "source": [
        "task_6_1 = np.arange(1, 8)\n",
        "task_6_2 = np.linspace(9, 18, num=7)\n",
        "print(f\"{task_6_1=}\")\n",
        "print(f\"{task_6_2=}\")\n",
        "print(f\"{np.dot(task_6_1, task_6_2) = }\")\n",
        "print(f\"{np.sum(task_6_1*task_6_2) = }\")"
      ]
    },
    {
      "cell_type": "markdown",
      "metadata": {
        "id": "nB7V-leYIRco"
      },
      "source": [
        "## Task 7"
      ]
    },
    {
      "cell_type": "markdown",
      "metadata": {
        "id": "8hGnqTWSIRco"
      },
      "source": [
        "### Create two matrices of size 2x2 and 2x3, fill them with random integers between 1 and 10, and multiply them together.\n",
        "### Створіть дві матриці розміром 2x2 та 2x3, заповніть їх випадковими цілими числами в діапазоні від 1 до 10 та перемножте їх між собою."
      ]
    },
    {
      "cell_type": "code",
      "execution_count": 8,
      "metadata": {
        "colab": {
          "base_uri": "https://localhost:8080/"
        },
        "id": "a9O4Z2ibIRco",
        "outputId": "2475ba8b-4d9a-4901-cf8c-eb83a31614b8"
      },
      "outputs": [
        {
          "output_type": "stream",
          "name": "stdout",
          "text": [
            "task_7_1 = array([[7, 2],\n",
            "       [4, 5]])\n",
            "task_7_2 = array([[10,  8,  3],\n",
            "       [ 6,  1,  7]])\n",
            "res = array([[82, 58, 35],\n",
            "       [70, 37, 47]])\n",
            "res_1 = array([[82, 58, 35],\n",
            "       [70, 37, 47]])\n"
          ]
        }
      ],
      "source": [
        "def create_rand_matrix(num_rows, num_cols):\n",
        "    matrix = np.random.randint(1, 11, size=(num_rows, num_cols))\n",
        "    return matrix\n",
        "\n",
        "\n",
        "task_7_1 = create_rand_matrix(2, 2)\n",
        "task_7_2 = create_rand_matrix(2, 3)\n",
        "print(f\"{task_7_1 = }\")\n",
        "print(f\"{task_7_2 = }\")\n",
        "\n",
        "res = np.dot(task_7_1, task_7_2)\n",
        "res_1 = np.matmul(task_7_1, task_7_2)\n",
        "print(f\"{res = }\")\n",
        "print(f\"{res_1 = }\")"
      ]
    },
    {
      "cell_type": "markdown",
      "metadata": {
        "id": "cENxvO9pIRco"
      },
      "source": [
        "## Task 8"
      ]
    },
    {
      "cell_type": "markdown",
      "metadata": {
        "id": "Nq2dFX3AIRco"
      },
      "source": [
        "### Create a 3x3 matrix, fill it with random integers from 1 to 10, and find its inverse.\n",
        "### Створіть матрицю розміром 3x3, заповніть її випадковими цілими числами в діапазоні від 1 до 10 та знайдіть її обернену матрицю."
      ]
    },
    {
      "cell_type": "code",
      "execution_count": 9,
      "metadata": {
        "colab": {
          "base_uri": "https://localhost:8080/"
        },
        "id": "BYBSb74DIRco",
        "outputId": "b1b9bcfc-8713-4e4c-bc7c-dd7611304ee1"
      },
      "outputs": [
        {
          "output_type": "stream",
          "name": "stdout",
          "text": [
            "task_8 = array([[ 6,  6, 10],\n",
            "       [ 6,  1,  1],\n",
            "       [ 9,  8,  3]])\n",
            "I = array([[-0.01633987,  0.20261438, -0.0130719 ],\n",
            "       [-0.02941176, -0.23529412,  0.17647059],\n",
            "       [ 0.12745098,  0.01960784, -0.09803922]])\n",
            "task_8 = array([[ 6,  6, 10],\n",
            "       [ 6,  1,  1],\n",
            "       [ 9,  8,  3]])\n"
          ]
        }
      ],
      "source": [
        "task_8 = create_rand_matrix(3, 3)\n",
        "print(f\"{task_8 = }\")\n",
        "I = np.linalg.inv(task_8)\n",
        "print(f\"{I = }\")\n",
        "print(f\"{task_8 = }\")"
      ]
    },
    {
      "cell_type": "markdown",
      "metadata": {
        "id": "udrzfVOdIRco"
      },
      "source": [
        "# Task 9"
      ]
    },
    {
      "cell_type": "markdown",
      "metadata": {
        "id": "sfhQYOJfIRcp"
      },
      "source": [
        "### Create a 4x4 matrix, fill it with random real numbers ranging from 0 to 1, and transpose it.\n",
        "### Створіть матрицю розміром 4x4, заповніть її випадковими дійсними числами в діапазоні від 0 до 1 та транспонуйте її."
      ]
    },
    {
      "cell_type": "code",
      "execution_count": 10,
      "metadata": {
        "colab": {
          "base_uri": "https://localhost:8080/"
        },
        "id": "9laSCzgjIRcp",
        "outputId": "1e02c51a-23bc-4206-c9af-cb27513dd6c0"
      },
      "outputs": [
        {
          "output_type": "stream",
          "name": "stdout",
          "text": [
            "task_9 = array([[0.23591825, 0.39635746, 0.70301062, 0.86154307],\n",
            "       [0.30782065, 0.08736876, 0.07805077, 0.70182442],\n",
            "       [0.04060055, 0.53068629, 0.05718824, 0.96483206],\n",
            "       [0.30918657, 0.41314687, 0.99366513, 0.02713417]])\n",
            "Transpose = array([[0.23591825, 0.30782065, 0.04060055, 0.30918657],\n",
            "       [0.39635746, 0.08736876, 0.53068629, 0.41314687],\n",
            "       [0.70301062, 0.07805077, 0.05718824, 0.99366513],\n",
            "       [0.86154307, 0.70182442, 0.96483206, 0.02713417]])\n"
          ]
        }
      ],
      "source": [
        "task_9 = np.random.random((4, 4))\n",
        "print(f\"{task_9 = }\")\n",
        "Transpose = task_9.T\n",
        "print(f\"{Transpose = }\")"
      ]
    },
    {
      "cell_type": "markdown",
      "metadata": {
        "id": "u3x65iNRIRcp"
      },
      "source": [
        "# Task 10"
      ]
    },
    {
      "cell_type": "markdown",
      "metadata": {
        "id": "m6pv-4zrIRcp"
      },
      "source": [
        "### Create a 3x4 matrix and a 4 vector, fill them with random integers ranging from 1 to 10, and multiply the matrix by the vector.\n",
        "### Створіть матрицю розміром 3x4 та вектор розміром 4, заповніть їх випадковими цілими числами в діапазоні від 1 до 10 та перемножте матрицю на вектор."
      ]
    },
    {
      "cell_type": "code",
      "execution_count": 11,
      "metadata": {
        "colab": {
          "base_uri": "https://localhost:8080/"
        },
        "id": "JJc5ts4bIRcp",
        "outputId": "7004a3c7-7e00-479d-edd7-148f4f2948e0"
      },
      "outputs": [
        {
          "output_type": "stream",
          "name": "stdout",
          "text": [
            "matrix_task_10 = array([[ 1,  4,  9,  6],\n",
            "       [ 9,  5,  6,  4],\n",
            "       [10,  4,  5,  5]])\n",
            "vector_task_10 = array([10,  3,  6,  7])\n",
            "res_task_10 =array([118, 169, 177])\n",
            "res_task_10_1 = array([118, 169, 177])\n"
          ]
        }
      ],
      "source": [
        "matrix_task_10 = create_rand_matrix(3, 4)\n",
        "vector_task_10 = np.random.randint(1, 11, size=4)\n",
        "print(f\"{matrix_task_10 = }\")\n",
        "print(f\"{vector_task_10 = }\")\n",
        "res_task_10 = np.dot(matrix_task_10, vector_task_10)\n",
        "res_task_10_1 = np.matmul(matrix_task_10, vector_task_10)\n",
        "print(f\"{res_task_10 =}\")\n",
        "print(f\"{res_task_10_1 = }\")"
      ]
    },
    {
      "cell_type": "markdown",
      "metadata": {
        "id": "d2PvLVYUIRcp"
      },
      "source": [
        "# TASK 11"
      ]
    },
    {
      "cell_type": "markdown",
      "metadata": {
        "id": "EqC9HFvMIRcp"
      },
      "source": [
        "### Create a matrix of size 2x3 and a vector of size 3, fill them with random real numbers ranging from 0 to 1, and multiply the matrix by the vector.\n",
        "### Створіть матрицю розміром 2x3 та вектор розміром 3, заповніть їх випадковими дійсними числами в діапазоні від 0 до 1 та перемножте матрицю на вектор."
      ]
    },
    {
      "cell_type": "code",
      "execution_count": 12,
      "metadata": {
        "colab": {
          "base_uri": "https://localhost:8080/"
        },
        "id": "6--HiMKJIRcp",
        "outputId": "51dcdfc9-e86e-420d-cf8a-f1194d1bd6cb"
      },
      "outputs": [
        {
          "output_type": "stream",
          "name": "stdout",
          "text": [
            "matrix_task_11 = array([[0.89774485, 0.56438578, 0.03239367],\n",
            "       [0.80145048, 0.45854852, 0.51064764]])\n",
            "vector_task_11 = array([0.54496837, 0.28867437, 0.69585158])\n",
            "res_task_11 = array([0.67470745, 0.92447133])\n"
          ]
        }
      ],
      "source": [
        "matrix_task_11 = np.random.random((2, 3))\n",
        "vector_task_11 = np.random.random(3)\n",
        "print(f\"{matrix_task_11 = }\")\n",
        "print(f\"{vector_task_11 = }\")\n",
        "res_task_11 = np.dot(matrix_task_11, vector_task_11)\n",
        "print(f\"{res_task_11 = }\")"
      ]
    },
    {
      "cell_type": "markdown",
      "metadata": {
        "id": "2sL3n7dUIRcq"
      },
      "source": [
        "## Task 12"
      ]
    },
    {
      "cell_type": "markdown",
      "metadata": {
        "id": "4TvZPcmlIRcq"
      },
      "source": [
        "### Create two 2x2 matrices, fill them with random integers in the range from 1 to 10, and perform their element-wise multiplication.\n",
        "### Створіть дві матриці розміром 2x2, заповніть їх випадковими цілими числами в діапазоні від 1 до 10 та виконайте їхнє поелементне множення."
      ]
    },
    {
      "cell_type": "code",
      "execution_count": 13,
      "metadata": {
        "colab": {
          "base_uri": "https://localhost:8080/"
        },
        "id": "oNXBy87rIRcq",
        "outputId": "5a655e54-13c0-4642-8b4d-d87a33afc177"
      },
      "outputs": [
        {
          "output_type": "stream",
          "name": "stdout",
          "text": [
            "matrix_12_1 = array([[4, 5],\n",
            "       [3, 6]])\n",
            "matrix_12_2 = array([[ 4, 10],\n",
            "       [ 3,  3]])\n",
            "element_wise_mult = array([[16, 50],\n",
            "       [ 9, 18]])\n"
          ]
        }
      ],
      "source": [
        "matrix_12_1 = create_rand_matrix(2, 2)\n",
        "matrix_12_2 = create_rand_matrix(2, 2)\n",
        "print(f\"{matrix_12_1 = }\")\n",
        "print(f\"{matrix_12_2 = }\")\n",
        "element_wise_mult = matrix_12_1 * matrix_12_2\n",
        "print(f\"{element_wise_mult = }\")"
      ]
    },
    {
      "cell_type": "markdown",
      "metadata": {
        "id": "rdpfLi6CIRcq"
      },
      "source": [
        "## Task 13"
      ]
    },
    {
      "cell_type": "markdown",
      "metadata": {
        "id": "pSTzbqowIRct"
      },
      "source": [
        "### Create two 2x2 matrices, fill them with random integers ranging from 1 to 10, and find their product.\n",
        "### Створіть дві матриці розміром 2x2, заповніть їх випадковими цілими числами в діапазоні від 1 до 10 та знайдіть їх добуток."
      ]
    },
    {
      "cell_type": "code",
      "execution_count": 14,
      "metadata": {
        "colab": {
          "base_uri": "https://localhost:8080/"
        },
        "id": "oF2NZjXQIRct",
        "outputId": "8f4b78ed-d030-4d16-f5b1-e087fadda069"
      },
      "outputs": [
        {
          "output_type": "stream",
          "name": "stdout",
          "text": [
            "matrix_13_1 = array([[9, 6],\n",
            "       [2, 1]])\n",
            "matrix_13_2 = array([[3, 5],\n",
            "       [6, 9]])\n",
            "prod = array([[63, 99],\n",
            "       [12, 19]])\n"
          ]
        }
      ],
      "source": [
        "matrix_13_1 = np.random.randint(1, 11, (2, 2))\n",
        "matrix_13_2 = np.random.randint(1, 11, (2, 2))\n",
        "print(f\"{matrix_13_1 = }\")\n",
        "print(f\"{matrix_13_2 = }\")\n",
        "prod = np.dot(matrix_13_1, matrix_13_2)\n",
        "print(f\"{prod = }\")"
      ]
    },
    {
      "cell_type": "markdown",
      "metadata": {
        "id": "R0UIFEFwIRct"
      },
      "source": [
        "## Task 14"
      ]
    },
    {
      "cell_type": "markdown",
      "metadata": {
        "id": "Z0dhUbVRIRct"
      },
      "source": [
        "### Create a 5x5 matrix, fill it with random integers ranging from 1 to 100, and find the sum of the matrix elements.\n",
        "### Створіть матрицю розміром 5x5, заповніть її випадковими цілими числами в діапазоні від 1 до 100 та знайдіть суму елементів матриці."
      ]
    },
    {
      "cell_type": "code",
      "execution_count": 15,
      "metadata": {
        "colab": {
          "base_uri": "https://localhost:8080/"
        },
        "id": "TJmGrSgPIRct",
        "outputId": "1c78a700-caad-40d8-c474-9327087c1ddc"
      },
      "outputs": [
        {
          "output_type": "stream",
          "name": "stdout",
          "text": [
            "matrix_14 = array([[28, 16, 46, 54, 26],\n",
            "       [69, 88, 45, 16, 92],\n",
            "       [53,  8, 37, 36, 27],\n",
            "       [32,  8, 92, 36, 67],\n",
            "       [28, 78, 16, 15, 59]])\n",
            "sum1 = np.int64(1072)\n",
            "sum2 = np.int64(1072)\n"
          ]
        }
      ],
      "source": [
        "matrix_14 = np.random.randint(1, 101, (5, 5))\n",
        "print(f\"{matrix_14 = }\")\n",
        "sum1 = np.sum(matrix_14)\n",
        "print(f\"{sum1 = }\")\n",
        "sum2 = matrix_14.sum()\n",
        "print(f\"{sum2 = }\")"
      ]
    },
    {
      "cell_type": "markdown",
      "metadata": {
        "id": "pY8hSepkIRct"
      },
      "source": [
        "## Task 15"
      ]
    },
    {
      "cell_type": "markdown",
      "metadata": {
        "id": "DtWQp5nZIRcu"
      },
      "source": [
        "### Create two 4x4 matrices, fill them with random integers ranging from 1 to 10, and find their difference.\n",
        "### Створіть дві матриці розміром 4x4, заповніть їх випадковими цілими числами в діапазоні від 1 до 10 та знайдіть їхню різницю."
      ]
    },
    {
      "cell_type": "code",
      "execution_count": 16,
      "metadata": {
        "colab": {
          "base_uri": "https://localhost:8080/"
        },
        "id": "xzzwfqgeIRcu",
        "outputId": "b5568a13-47b7-4ba3-fafa-c2f5cb8d9d01"
      },
      "outputs": [
        {
          "output_type": "stream",
          "name": "stdout",
          "text": [
            "matrix_15_1 = array([[ 1,  9,  2,  8],\n",
            "       [ 7,  2,  8,  3],\n",
            "       [10,  7, 10,  2],\n",
            "       [ 3,  7,  1,  2]])\n",
            "matrix_15_2 = array([[ 7,  6,  7,  8],\n",
            "       [ 2, 10,  3,  2],\n",
            "       [ 1,  3,  2,  4],\n",
            "       [ 5,  4,  6,  6]])\n",
            "diff = array([[-6,  3, -5,  0],\n",
            "       [ 5, -8,  5,  1],\n",
            "       [ 9,  4,  8, -2],\n",
            "       [-2,  3, -5, -4]])\n"
          ]
        }
      ],
      "source": [
        "matrix_15_1 = np.random.randint(1, 11, (4, 4))\n",
        "matrix_15_2 = np.random.randint(1, 11, (4, 4))\n",
        "diff = matrix_15_1 - matrix_15_2\n",
        "print(f\"{matrix_15_1 = }\")\n",
        "print(f\"{matrix_15_2 = }\")\n",
        "print(f\"{diff = }\")"
      ]
    },
    {
      "cell_type": "markdown",
      "metadata": {
        "id": "eguN49FRIRcu"
      },
      "source": [
        "## Task 16"
      ]
    },
    {
      "cell_type": "markdown",
      "metadata": {
        "id": "EGengpnBIRcu"
      },
      "source": [
        "### Create a 3x3 matrix, fill it with random real numbers ranging from 0 to 1, and find the column vector containing the sum of the elements of each row of the matrix.\n",
        "### Створіть матрицю розміром 3x3, заповніть її випадковими дійсними числами в діапазоні від 0 до 1 та знайдіть вектор-стовпчик, що містить суму елементів кожного рядка матриці."
      ]
    },
    {
      "cell_type": "code",
      "execution_count": 17,
      "metadata": {
        "colab": {
          "base_uri": "https://localhost:8080/"
        },
        "id": "6KIGg0drIRcu",
        "outputId": "3eaf3917-0b93-42bd-ab59-1e7e46e7a3b9"
      },
      "outputs": [
        {
          "output_type": "stream",
          "name": "stdout",
          "text": [
            "matrix_16 = array([[0.08784743, 0.86304574, 0.82093596],\n",
            "       [0.96370543, 0.71410603, 0.62823651],\n",
            "       [0.771568  , 0.01921103, 0.65739558]])\n",
            "matrix_shape = (3, 3)\n",
            "column_v_of_sum = array([[1.77182912],\n",
            "       [2.30604797],\n",
            "       [1.44817461]])\n",
            "column_v_of_sum2 = array([[1.77182912],\n",
            "       [2.30604797],\n",
            "       [1.44817461]])\n",
            "column_v_of_sum3 = array([[1.77182912],\n",
            "       [2.30604797],\n",
            "       [1.44817461]])\n"
          ]
        }
      ],
      "source": [
        "matrix_16 = np.random.random((3, 3))\n",
        "print(f\"{matrix_16 = }\")\n",
        "matrix_shape = matrix_16.shape\n",
        "print(f\"{matrix_shape = }\")\n",
        "column_v_of_sum = np.array([sum(row) for row in matrix_16]).reshape(-1, 1)\n",
        "print(f\"{column_v_of_sum = }\")\n",
        "column_v_of_sum2 = np.array(\n",
        "    [matrix_16[i].sum() for i in range(matrix_shape[0])]\n",
        ").reshape(-1, 1)\n",
        "print(f\"{column_v_of_sum2 = }\")\n",
        "column_v_of_sum3 = matrix_16.sum(axis=1).reshape(-1, 1)\n",
        "print(f\"{column_v_of_sum3 = }\")"
      ]
    },
    {
      "cell_type": "markdown",
      "metadata": {
        "id": "SUdf-wA-IRcu"
      },
      "source": [
        "## task 17"
      ]
    },
    {
      "cell_type": "markdown",
      "metadata": {
        "id": "QpW1zKLlIRcu"
      },
      "source": [
        "### Create a 3x4 matrix with arbitrary integers and create a matrix with the squares of these numbers.\n",
        "### Створіть матрицю розміром 3x4 з довільними цілими числами і створінь матрицю з квадратами цих чисел."
      ]
    },
    {
      "cell_type": "code",
      "execution_count": 18,
      "metadata": {
        "colab": {
          "base_uri": "https://localhost:8080/"
        },
        "id": "nkDuK4vfIRcu",
        "outputId": "aa12fa6d-29ae-44e6-a89e-f136e371d6fa"
      },
      "outputs": [
        {
          "output_type": "stream",
          "name": "stdout",
          "text": [
            "matrix_17 = array([[ 7, 10,  3,  4],\n",
            "       [ 6,  2, 10,  2],\n",
            "       [ 3,  1,  9,  4]])\n",
            "square_matrix = array([[ 49, 100,   9,  16],\n",
            "       [ 36,   4, 100,   4],\n",
            "       [  9,   1,  81,  16]])\n",
            "squared_matrix = array([[ 49, 100,   9,  16],\n",
            "       [ 36,   4, 100,   4],\n",
            "       [  9,   1,  81,  16]])\n"
          ]
        }
      ],
      "source": [
        "matrix_17 = np.random.randint(1, 11, size=(3, 4))\n",
        "print(f\"{matrix_17 = }\")\n",
        "square_matrix = np.square(matrix_17)\n",
        "print(f\"{square_matrix = }\")\n",
        "squared_matrix = matrix_17**2\n",
        "print(f\"{squared_matrix = }\")"
      ]
    },
    {
      "cell_type": "markdown",
      "metadata": {
        "id": "v6dJcWw-IRcu"
      },
      "source": [
        "## task 18"
      ]
    },
    {
      "cell_type": "markdown",
      "metadata": {
        "id": "og_Fk01CIRcu"
      },
      "source": [
        "### Create a vector of size 4, fill it with random integers ranging from 1 to 50, and find the vector with the square roots of these numbers.\n",
        "### Створіть вектор розміром 4, заповніть його випадковими цілими числами в діапазоні від 1 до 50 та знайдіть вектор з квадратними коренями цих чисел."
      ]
    },
    {
      "cell_type": "code",
      "execution_count": 19,
      "metadata": {
        "colab": {
          "base_uri": "https://localhost:8080/"
        },
        "id": "jt_jNpkTIRcv",
        "outputId": "6391a662-3ac4-4824-b9de-0d78cfcf4e38"
      },
      "outputs": [
        {
          "output_type": "stream",
          "name": "stdout",
          "text": [
            "vector_18 = array([23, 43, 20, 38])\n",
            "sq_root_1 = array([4.79583152, 6.55743852, 4.47213595, 6.164414  ])\n",
            "sq_root_2 = array([4.79583152, 6.55743852, 4.47213595, 6.164414  ])\n"
          ]
        }
      ],
      "source": [
        "vector_18 = np.random.randint(1, 51, size=4)\n",
        "print(f\"{vector_18 = }\")\n",
        "sq_root_1 = vector_18 ** (1 / 2)\n",
        "print(f\"{sq_root_1 = }\")\n",
        "sq_root_2 = np.sqrt(vector_18)\n",
        "print(f\"{sq_root_2 = }\")"
      ]
    },
    {
      "cell_type": "markdown",
      "metadata": {
        "id": "Afw8hDhLHObb"
      },
      "source": [
        "# Task 2 (optional)\n",
        "**Use only NumPy to solve all problems**\n",
        "# Завдання 2 (додаткове, за бажанням)\n",
        "**Для вирішення усіх завдань використовуйте лише NumPy**"
      ]
    },
    {
      "cell_type": "markdown",
      "metadata": {
        "id": "qxH_NW-oHObc"
      },
      "source": [
        "## 1. Replace all odd numbers in arr with -1 arr = np.array([0, 1, 2, 3, 4, 5, 6, 7, 8, 9])\n",
        "## 1. Замініть усі непарні числа в arr на -1 arr = np.array([0, 1, 2, 3, 4, 5, 6, 7, 8, 9])"
      ]
    },
    {
      "cell_type": "code",
      "execution_count": 28,
      "metadata": {
        "id": "4JhbOctIHObc",
        "outputId": "aa4429f8-4f80-4a95-ffaa-0cbc8ad1cd62",
        "colab": {
          "base_uri": "https://localhost:8080/"
        }
      },
      "outputs": [
        {
          "output_type": "stream",
          "name": "stdout",
          "text": [
            "arr = array([0, 1, 2, 3, 4, 5, 6, 7, 8, 9])\n",
            "odd_numers = array([1, 3, 5, 7, 9])\n",
            "arr_2 = array([ 0, -1,  2, -1,  4, -1,  6, -1,  8, -1])\n",
            "arr_3 = array([ 0, -1,  2, -1,  4, -1,  6, -1,  8, -1])\n",
            "arr_4 = array([ 0, -1,  2, -1,  4, -1,  6, -1,  8, -1])\n"
          ]
        }
      ],
      "source": [
        "arr = np.array([0, 1, 2, 3, 4, 5, 6, 7, 8, 9])\n",
        "print(f\"{arr = }\")\n",
        "odd_numers = np.array([num for num in arr if num % 2 == 1])\n",
        "print(f\"{odd_numers = }\")\n",
        "arr_2 = np.where(arr % 2 == 1, -1, arr)\n",
        "print(f\"{arr_2 = }\")\n",
        "arr_3 = np.array([-1 if num % 2 == 1 else num for num in arr])\n",
        "print(f\"{arr_3 = }\")\n",
        "arr_4 = arr.copy()\n",
        "arr_4[arr_4 % 2 == 1] = -1\n",
        "print(f\"{arr_4 = }\")"
      ]
    }
  ],
  "metadata": {
    "canvas": {
      "colorPalette": [
        "inherit",
        "inherit",
        "inherit",
        "inherit",
        "inherit",
        "inherit",
        "inherit",
        "inherit",
        "inherit",
        "inherit"
      ],
      "parameters": []
    },
    "colab": {
      "provenance": [],
      "include_colab_link": true
    },
    "kernelspec": {
      "display_name": "Python 3 (ipykernel)",
      "language": "python",
      "name": "python3"
    },
    "language_info": {
      "codemirror_mode": {
        "name": "ipython",
        "version": 3
      },
      "file_extension": ".py",
      "mimetype": "text/x-python",
      "name": "python",
      "nbconvert_exporter": "python",
      "pygments_lexer": "ipython3",
      "version": "3.9.7"
    }
  },
  "nbformat": 4,
  "nbformat_minor": 0
}