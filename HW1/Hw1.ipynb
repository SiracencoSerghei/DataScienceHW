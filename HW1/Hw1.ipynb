{
 "cells": [
  {
   "cell_type": "markdown",
   "metadata": {
    "id": "toKWwe6qpcAp"
   },
   "source": [
    "# Home Work 1"
   ]
  },
  {
   "cell_type": "code",
   "execution_count": 66,
   "metadata": {
    "id": "omXS55IcptG-"
   },
   "outputs": [],
   "source": [
    "import numpy as np"
   ]
  },
  {
   "cell_type": "markdown",
   "metadata": {
    "id": "fJQaFj-opplC"
   },
   "source": [
    "## Task 1"
   ]
  },
  {
   "cell_type": "markdown",
   "metadata": {},
   "source": [
    "###     Create a one-dimensional array (vector) with the first 10 natural numbers and print its value."
   ]
  },
  {
   "cell_type": "code",
   "execution_count": 67,
   "metadata": {},
   "outputs": [
    {
     "name": "stdout",
     "output_type": "stream",
     "text": [
      "task=array([0, 2, 3, 4, 5, 6, 7, 8, 9])\n",
      "task_1=array([0, 2, 3, 4, 5, 6, 7, 8, 9])\n",
      "task_1_1=array([0, 1, 2, 3, 4, 5, 6, 7, 8, 9])\n",
      "task_1_2=array([0, 1, 2, 3, 4, 5, 6, 7, 8, 9])\n",
      "task_1_3=array([0, 1, 2, 3, 4, 5, 6, 7, 8, 9])\n",
      "task_1_4=array([0, 1, 2, 3, 4, 5, 6, 7, 8, 9])\n"
     ]
    }
   ],
   "source": [
    "import numpy as np\n",
    "lst = [0, 2, 3, 4, 5, 6, 7, 8, 9]\n",
    "task = np.array(lst)\n",
    "print(f\"{task=}\")\n",
    "tpl = (0, 2, 3, 4, 5, 6, 7, 8, 9)\n",
    "task_1 = np.array(tpl)\n",
    "print(f'{task_1=}')\n",
    "task_1_1 = np.array([i for i in range(0,10)])\n",
    "print(f'{task_1_1=}')\n",
    "task_1_2 = np.arange(10)\n",
    "print(f'{task_1_2=}')\n",
    "task_1_3 = np.linspace(0,9, num=10, dtype=int)\n",
    "print(f\"{task_1_3=}\")\n",
    "iterable = (i for i in range(10))\n",
    "task_1_4 = np.fromiter(iterable, int)\n",
    "print(f\"{task_1_4=}\")"
   ]
  },
  {
   "cell_type": "markdown",
   "metadata": {},
   "source": [
    "## Task 2"
   ]
  },
  {
   "cell_type": "markdown",
   "metadata": {},
   "source": [
    "\n",
    "###     Create a two-dimensional 3x3 array (matrix), fill it with zeros, and print its value."
   ]
  },
  {
   "cell_type": "code",
   "execution_count": 68,
   "metadata": {},
   "outputs": [
    {
     "name": "stdout",
     "output_type": "stream",
     "text": [
      "task_2=array([[0., 0., 0.],\n",
      "       [0., 0., 0.],\n",
      "       [0., 0., 0.]])\n",
      "matrix=array([[0., 0., 0.],\n",
      "       [0., 0., 0.],\n",
      "       [0., 0., 0.]])\n",
      "matrix_0=array([[0, 0, 0],\n",
      "       [0, 0, 0],\n",
      "       [0, 0, 0]])\n"
     ]
    }
   ],
   "source": [
    "tup = (3, 3)\n",
    "task_2 = np.zeros(tup)\n",
    "# task_2\n",
    "print(f'{task_2=}')\n",
    "matrix = np.zeros(9).reshape(3, 3)\n",
    "print(f\"{matrix=}\")\n",
    "arr = np.array([[1, 2, 3], [4, 5, 6], [7, 8, 9]])\n",
    "matrix_0 = np.zeros_like(arr)\n",
    "print(f'{matrix_0=}')"
   ]
  },
  {
   "cell_type": "markdown",
   "metadata": {},
   "source": [
    "## Task 3"
   ]
  },
  {
   "cell_type": "markdown",
   "metadata": {},
   "source": [
    "### Create a 5x5 array, fill it with random integers ranging from 1 to 10, and output its value."
   ]
  },
  {
   "cell_type": "code",
   "execution_count": 69,
   "metadata": {},
   "outputs": [
    {
     "name": "stdout",
     "output_type": "stream",
     "text": [
      "t_3_1=array([[ 4,  6,  8,  8,  1],\n",
      "       [ 9,  2,  6,  3,  2],\n",
      "       [ 4,  1,  4,  6,  6],\n",
      "       [ 4,  6,  3,  8, 10],\n",
      "       [ 1,  3,  3,  5, 10]])\n",
      "t_3_2=array([[ 4,  3,  4,  8,  5],\n",
      "       [ 1,  3,  1, 10, 10],\n",
      "       [ 1, 10,  5, 10,  2],\n",
      "       [ 1, 10,  9,  8,  6],\n",
      "       [ 2,  6, 10,  6,  5]])\n"
     ]
    }
   ],
   "source": [
    "t_3_1 = np.random.randint(1, 11, size=(5, 5))\n",
    "print(f'{t_3_1=}')\n",
    "random_generator = np.random.default_rng()\n",
    "t_3_2 = random_generator.integers(1, 11, size=(5, 5))\n",
    "print(f\"{t_3_2=}\")"
   ]
  },
  {
   "cell_type": "markdown",
   "metadata": {},
   "source": [
    "## Task 4"
   ]
  },
  {
   "cell_type": "markdown",
   "metadata": {},
   "source": [
    "### Create a 4x4 array, fill it with random real numbers in the range from 0 to 1, and output its value."
   ]
  },
  {
   "cell_type": "code",
   "execution_count": 71,
   "metadata": {},
   "outputs": [
    {
     "name": "stdout",
     "output_type": "stream",
     "text": [
      "t_4_1=array([[0.56096743, 0.25401426, 0.55080798, 0.7602485 ],\n",
      "       [0.30581435, 0.38448684, 0.08131386, 0.01373481],\n",
      "       [0.64563458, 0.63882636, 0.86727413, 0.58339745],\n",
      "       [0.46471637, 0.94027516, 0.97028474, 0.9573983 ]])\n",
      "t_4_2=array([[0.09597538, 0.59856867, 0.90618104, 0.23704652],\n",
      "       [0.78758187, 0.21668878, 0.8707799 , 0.62393535],\n",
      "       [0.48157241, 0.22566289, 0.40158712, 0.1918139 ],\n",
      "       [0.30489836, 0.2149234 , 0.18778798, 0.65675619]])\n",
      "t_4_3=array([[0.03243755, 0.29812211, 0.47018815, 0.59014161],\n",
      "       [0.04194111, 0.02527813, 0.41651018, 0.92128647],\n",
      "       [0.64181018, 0.70864014, 0.9236801 , 0.0194112 ],\n",
      "       [0.30458573, 0.68475135, 0.53779863, 0.10930966]])\n",
      "t_4_4=array([[0.35904299, 0.33513376, 0.64726953, 0.12030915],\n",
      "       [0.49408991, 0.00719921, 0.6332715 , 0.68322901],\n",
      "       [0.3283887 , 0.43776081, 0.90036109, 0.57809736],\n",
      "       [0.41914667, 0.25871761, 0.34396464, 0.44176155]])\n"
     ]
    }
   ],
   "source": [
    "t_4_1 = np.random.random((4, 4))\n",
    "print(f'{t_4_1=}')\n",
    "t_4_2 = np.random.rand(4, 4)\n",
    "print(f\"{t_4_2=}\")\n",
    "t_4_3 = np.random.uniform(0, 1, (4, 4))\n",
    "print(f'{t_4_3=}')\n",
    "t_4_4 = random_generator.random((4, 4))\n",
    "print(f\"{t_4_4=}\")"
   ]
  }
 ],
 "metadata": {
  "colab": {
   "provenance": []
  },
  "kernelspec": {
   "display_name": "Python 3 (ipykernel)",
   "language": "python",
   "name": "python3"
  },
  "language_info": {
   "codemirror_mode": {
    "name": "ipython",
    "version": 3
   },
   "file_extension": ".py",
   "mimetype": "text/x-python",
   "name": "python",
   "nbconvert_exporter": "python",
   "pygments_lexer": "ipython3",
   "version": "3.11.7"
  }
 },
 "nbformat": 4,
 "nbformat_minor": 4
}
