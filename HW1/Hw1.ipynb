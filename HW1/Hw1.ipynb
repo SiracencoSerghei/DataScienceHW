{
 "cells": [
  {
   "cell_type": "markdown",
   "metadata": {
    "canvas": {
     "comments": [],
     "componentType": "CodeCell",
     "copiedOriginId": null,
     "diskcache": false,
     "headerColor": "transparent",
     "id": "6e8f50ac-5414-46bf-a3a9-944acafebfbf",
     "isComponent": false,
     "name": "",
     "parents": []
    },
    "id": "toKWwe6qpcAp",
    "tags": []
   },
   "source": [
    "# Home Work 1"
   ]
  },
  {
   "cell_type": "code",
   "execution_count": 1,
   "metadata": {
    "canvas": {
     "comments": [],
     "componentType": "CodeCell",
     "copiedOriginId": null,
     "diskcache": false,
     "headerColor": "transparent",
     "id": "80afa2d1-cc62-41da-9b95-2e62ccaf1573",
     "isComponent": false,
     "name": "",
     "parents": []
    },
    "id": "omXS55IcptG-"
   },
   "outputs": [],
   "source": [
    "import numpy as np"
   ]
  },
  {
   "cell_type": "markdown",
   "metadata": {
    "canvas": {
     "comments": [],
     "componentType": "CodeCell",
     "copiedOriginId": null,
     "diskcache": false,
     "headerColor": "transparent",
     "id": "ba9e285d-853b-4e68-a3ba-72f84b0a4b18",
     "isComponent": false,
     "name": "",
     "parents": []
    },
    "id": "fJQaFj-opplC"
   },
   "source": [
    "## Task 1"
   ]
  },
  {
   "cell_type": "markdown",
   "metadata": {
    "canvas": {
     "comments": [],
     "componentType": "CodeCell",
     "copiedOriginId": null,
     "diskcache": false,
     "headerColor": "transparent",
     "id": "e9b4dc89-3354-480a-8e4b-07b263167e39",
     "isComponent": false,
     "name": "",
     "parents": []
    }
   },
   "source": [
    "###     Create a one-dimensional array (vector) with the first 10 natural numbers and print its value."
   ]
  },
  {
   "cell_type": "code",
   "execution_count": 2,
   "metadata": {
    "canvas": {
     "comments": [],
     "componentType": "CodeCell",
     "copiedOriginId": null,
     "diskcache": false,
     "headerColor": "transparent",
     "id": "e558968d-9dee-44c6-ac1d-d187c6df135d",
     "isComponent": false,
     "name": "",
     "parents": []
    }
   },
   "outputs": [
    {
     "name": "stdout",
     "output_type": "stream",
     "text": [
      "task=array([0, 2, 3, 4, 5, 6, 7, 8, 9])\n",
      "task_1=array([0, 2, 3, 4, 5, 6, 7, 8, 9])\n",
      "task_1_1=array([0, 1, 2, 3, 4, 5, 6, 7, 8, 9])\n",
      "task_1_2=array([0, 1, 2, 3, 4, 5, 6, 7, 8, 9])\n",
      "task_1_3=array([0, 1, 2, 3, 4, 5, 6, 7, 8, 9])\n",
      "task_1_4=array([0, 1, 2, 3, 4, 5, 6, 7, 8, 9])\n"
     ]
    }
   ],
   "source": [
    "import numpy as np\n",
    "lst = [0, 2, 3, 4, 5, 6, 7, 8, 9]\n",
    "task = np.array(lst)\n",
    "print(f\"{task=}\")\n",
    "tpl = (0, 2, 3, 4, 5, 6, 7, 8, 9)\n",
    "task_1 = np.array(tpl)\n",
    "print(f'{task_1=}')\n",
    "task_1_1 = np.array([i for i in range(0,10)])\n",
    "print(f'{task_1_1=}')\n",
    "task_1_2 = np.arange(10)\n",
    "print(f'{task_1_2=}')\n",
    "task_1_3 = np.linspace(0,9, num=10, dtype=int)\n",
    "print(f\"{task_1_3=}\")\n",
    "iterable = (i for i in range(10))\n",
    "task_1_4 = np.fromiter(iterable, int)\n",
    "print(f\"{task_1_4=}\")"
   ]
  },
  {
   "cell_type": "markdown",
   "metadata": {
    "canvas": {
     "comments": [],
     "componentType": "CodeCell",
     "copiedOriginId": null,
     "diskcache": false,
     "headerColor": "transparent",
     "id": "ec930467-6807-48b2-b10b-cee3153e1bf9",
     "isComponent": false,
     "name": "",
     "parents": []
    }
   },
   "source": [
    "## Task 2"
   ]
  },
  {
   "cell_type": "markdown",
   "metadata": {
    "canvas": {
     "comments": [],
     "componentType": "CodeCell",
     "copiedOriginId": null,
     "diskcache": false,
     "headerColor": "transparent",
     "id": "96d81e03-849f-4e93-ac8b-1df15bcb7471",
     "isComponent": false,
     "name": "",
     "parents": []
    }
   },
   "source": [
    "\n",
    "###     Create a two-dimensional 3x3 array (matrix), fill it with zeros, and print its value."
   ]
  },
  {
   "cell_type": "code",
   "execution_count": 3,
   "metadata": {
    "canvas": {
     "comments": [],
     "componentType": "CodeCell",
     "copiedOriginId": null,
     "diskcache": false,
     "headerColor": "transparent",
     "id": "667fe9fd-e65d-4e01-be0f-f1bee4f87a55",
     "isComponent": false,
     "name": "",
     "parents": []
    }
   },
   "outputs": [
    {
     "name": "stdout",
     "output_type": "stream",
     "text": [
      "task_2=array([[0., 0., 0.],\n",
      "       [0., 0., 0.],\n",
      "       [0., 0., 0.]])\n",
      "matrix=array([[0., 0., 0.],\n",
      "       [0., 0., 0.],\n",
      "       [0., 0., 0.]])\n",
      "matrix_0=array([[0, 0, 0],\n",
      "       [0, 0, 0],\n",
      "       [0, 0, 0]])\n"
     ]
    }
   ],
   "source": [
    "tup = (3, 3)\n",
    "task_2 = np.zeros(tup)\n",
    "# task_2\n",
    "print(f'{task_2=}')\n",
    "matrix = np.zeros(9).reshape(3, 3)\n",
    "print(f\"{matrix=}\")\n",
    "arr = np.array([[1, 2, 3], [4, 5, 6], [7, 8, 9]])\n",
    "matrix_0 = np.zeros_like(arr)\n",
    "print(f'{matrix_0=}')"
   ]
  },
  {
   "cell_type": "markdown",
   "metadata": {
    "canvas": {
     "comments": [],
     "componentType": "CodeCell",
     "copiedOriginId": null,
     "diskcache": false,
     "headerColor": "transparent",
     "id": "057deaa3-a1d4-4fc8-a9ca-f4dbaf103568",
     "isComponent": false,
     "name": "",
     "parents": []
    }
   },
   "source": [
    "## Task 3"
   ]
  },
  {
   "cell_type": "markdown",
   "metadata": {
    "canvas": {
     "comments": [],
     "componentType": "CodeCell",
     "copiedOriginId": null,
     "diskcache": false,
     "headerColor": "transparent",
     "id": "b23edc1a-d4be-4324-a93f-12f6e12b8a0d",
     "isComponent": false,
     "name": "",
     "parents": []
    }
   },
   "source": [
    "### Create a 5x5 array, fill it with random integers ranging from 1 to 10, and output its value."
   ]
  },
  {
   "cell_type": "code",
   "execution_count": 4,
   "metadata": {
    "canvas": {
     "comments": [],
     "componentType": "CodeCell",
     "copiedOriginId": null,
     "diskcache": false,
     "headerColor": "transparent",
     "id": "ab16a68a-a3df-4a4c-a4fb-0abaf8152200",
     "isComponent": false,
     "name": "",
     "parents": []
    }
   },
   "outputs": [
    {
     "name": "stdout",
     "output_type": "stream",
     "text": [
      "t_3_1=array([[ 2,  5,  8,  9,  7],\n",
      "       [10,  3,  2,  4,  4],\n",
      "       [ 5,  6,  5,  8,  8],\n",
      "       [ 5, 10,  6,  3,  9],\n",
      "       [10,  2,  4,  5,  6]])\n",
      "t_3_2=array([[ 3,  7,  6,  2,  1],\n",
      "       [ 1,  5,  7, 10, 10],\n",
      "       [ 6,  1,  9,  9,  4],\n",
      "       [ 7,  2,  7,  9,  7],\n",
      "       [ 3,  2,  2,  6,  2]])\n"
     ]
    }
   ],
   "source": [
    "t_3_1 = np.random.randint(1, 11, size=(5, 5))\n",
    "print(f'{t_3_1=}')\n",
    "random_generator = np.random.default_rng()\n",
    "t_3_2 = random_generator.integers(1, 11, size=(5, 5))\n",
    "print(f\"{t_3_2=}\")"
   ]
  },
  {
   "cell_type": "markdown",
   "metadata": {
    "canvas": {
     "comments": [],
     "componentType": "CodeCell",
     "copiedOriginId": null,
     "diskcache": false,
     "headerColor": "transparent",
     "id": "44cdb9a8-1203-4b77-8a2d-85f9fefe185e",
     "isComponent": false,
     "name": "",
     "parents": []
    }
   },
   "source": [
    "## Task 4"
   ]
  },
  {
   "cell_type": "markdown",
   "metadata": {
    "canvas": {
     "comments": [],
     "componentType": "CodeCell",
     "copiedOriginId": null,
     "diskcache": false,
     "headerColor": "transparent",
     "id": "433c217c-ec4d-4cde-b77e-f812405d2a2e",
     "isComponent": false,
     "name": "",
     "parents": []
    }
   },
   "source": [
    "### Create a 4x4 array, fill it with random real numbers in the range from 0 to 1, and output its value."
   ]
  },
  {
   "cell_type": "code",
   "execution_count": 5,
   "metadata": {
    "canvas": {
     "comments": [],
     "componentType": "CodeCell",
     "copiedOriginId": null,
     "diskcache": false,
     "headerColor": "transparent",
     "id": "63dc3c6b-4534-442b-842d-8694d1fcd61d",
     "isComponent": false,
     "name": "",
     "parents": []
    }
   },
   "outputs": [
    {
     "name": "stdout",
     "output_type": "stream",
     "text": [
      "t_4_1=array([[0.74273701, 0.48552402, 0.77972558, 0.02031639],\n",
      "       [0.17149339, 0.77150238, 0.80997856, 0.65489415],\n",
      "       [0.83790262, 0.62947169, 0.7086505 , 0.98350206],\n",
      "       [0.90885085, 0.50449462, 0.75238874, 0.71176901]])\n",
      "t_4_2=array([[0.40074578, 0.75803318, 0.5962934 , 0.51940703],\n",
      "       [0.38616707, 0.81324912, 0.62599728, 0.96997896],\n",
      "       [0.91872623, 0.64719195, 0.38059349, 0.17972668],\n",
      "       [0.26009117, 0.04579888, 0.94842177, 0.46380678]])\n",
      "t_4_3=array([[0.15011477, 0.14360982, 0.70768308, 0.71111533],\n",
      "       [0.70971598, 0.39966633, 0.03662827, 0.92959106],\n",
      "       [0.6238488 , 0.95095103, 0.0435185 , 0.68004262],\n",
      "       [0.91625114, 0.11836635, 0.17040079, 0.75243079]])\n",
      "t_4_4=array([[0.09437689, 0.18428728, 0.65809876, 0.43729035],\n",
      "       [0.22870364, 0.21275099, 0.67680372, 0.68253787],\n",
      "       [0.0057461 , 0.76424375, 0.29916879, 0.90947505],\n",
      "       [0.2093271 , 0.30213682, 0.24275315, 0.3936465 ]])\n"
     ]
    }
   ],
   "source": [
    "t_4_1 = np.random.random((4, 4))\n",
    "print(f'{t_4_1=}')\n",
    "t_4_2 = np.random.rand(4, 4)\n",
    "print(f\"{t_4_2=}\")\n",
    "t_4_3 = np.random.uniform(0, 1, (4, 4))\n",
    "print(f'{t_4_3=}')\n",
    "t_4_4 = random_generator.random((4, 4))\n",
    "print(f\"{t_4_4=}\")"
   ]
  },
  {
   "cell_type": "markdown",
   "metadata": {},
   "source": [
    "## Task 5"
   ]
  },
  {
   "cell_type": "markdown",
   "metadata": {},
   "source": [
    "### Create two one-dimensional arrays of size 5, fill them with random integers in the range from 1 to 10, and perform element-wise addition, subtraction, and multiplication operations on them."
   ]
  },
  {
   "cell_type": "code",
   "execution_count": 10,
   "metadata": {},
   "outputs": [
    {
     "name": "stdout",
     "output_type": "stream",
     "text": [
      "Array 1: [10  9  6  9  5]\n",
      "Array 2: [1 6 2 9 9]\n",
      "Addition: [11 15  8 18 14]\n",
      "Subtraction: [ 9  3  4  0 -4]\n",
      "Multiplication: [10 54 12 81 45]\n"
     ]
    }
   ],
   "source": [
    "task_5_1 = np.random.randint(1, 11, size=5)\n",
    "task_5_2 = np.random.randint(1, 11, size=5)\n",
    "# Print the arrays\n",
    "print(\"Array 1:\", task_5_1)\n",
    "print(\"Array 2:\", task_5_2)\n",
    "add = task_5_1 + task_5_2\n",
    "substr = task_5_1 - task_5_2\n",
    "multipl = task_5_1 * task_5_2\n",
    "# Print the results\n",
    "print(\"Addition:\", add)\n",
    "print(\"Subtraction:\", substr)\n",
    "print('Multiplication:', multipl)"
   ]
  },
  {
   "cell_type": "markdown",
   "metadata": {},
   "source": [
    "## Task 6"
   ]
  },
  {
   "cell_type": "markdown",
   "metadata": {},
   "source": [
    "### Створіть два вектори розміром 7, заповніть довільними числами та знайдіть їх скалярний добуток."
   ]
  }
 ],
 "metadata": {
  "canvas": {
   "colorPalette": [
    "inherit",
    "inherit",
    "inherit",
    "inherit",
    "inherit",
    "inherit",
    "inherit",
    "inherit",
    "inherit",
    "inherit"
   ],
   "parameters": []
  },
  "colab": {
   "provenance": []
  },
  "kernelspec": {
   "display_name": "Python 3 (ipykernel)",
   "language": "python",
   "name": "python3"
  },
  "language_info": {
   "codemirror_mode": {
    "name": "ipython",
    "version": 3
   },
   "file_extension": ".py",
   "mimetype": "text/x-python",
   "name": "python",
   "nbconvert_exporter": "python",
   "pygments_lexer": "ipython3",
   "version": "3.11.7"
  }
 },
 "nbformat": 4,
 "nbformat_minor": 4
}
