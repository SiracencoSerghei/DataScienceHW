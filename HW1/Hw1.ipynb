{
 "cells": [
  {
   "cell_type": "markdown",
   "metadata": {
    "id": "toKWwe6qpcAp"
   },
   "source": [
    "# Home Work 1"
   ]
  },
  {
   "cell_type": "code",
   "execution_count": 1,
   "metadata": {
    "id": "omXS55IcptG-"
   },
   "outputs": [],
   "source": [
    "import numpy as np"
   ]
  },
  {
   "cell_type": "markdown",
   "metadata": {
    "id": "fJQaFj-opplC"
   },
   "source": [
    "## Task 1"
   ]
  },
  {
   "cell_type": "code",
   "execution_count": 11,
   "metadata": {},
   "outputs": [
    {
     "name": "stdout",
     "output_type": "stream",
     "text": [
      "task_1=array([0, 2, 3, 4, 5, 6, 7, 8, 9])\n",
      "task_1_1=array([0, 1, 2, 3, 4, 5, 6, 7, 8, 9])\n",
      "task_1_2=array([0, 1, 2, 3, 4, 5, 6, 7, 8, 9])\n",
      "task_1_3 = array([0, 1, 2, 3, 4, 5, 6, 7, 8, 9])\n"
     ]
    }
   ],
   "source": [
    "import numpy as np\n",
    "task_1 = np.array([0, 2, 3, 4, 5, 6, 7, 8, 9])\n",
    "print(f'{task_1=}')\n",
    "task_1_1 = np.array([i for i in range(0,10)])\n",
    "print(f'{task_1_1=}')\n",
    "task_1_2 = np.arange(10)\n",
    "print(f'{task_1_2=}')\n",
    "task_1_3 = np.linspace(0,9, num=10, dtype=int)\n",
    "print(f\"{task_1_3=}\")\n"
   ]
  },
  {
   "cell_type": "code",
   "execution_count": null,
   "metadata": {},
   "outputs": [],
   "source": []
  }
 ],
 "metadata": {
  "colab": {
   "provenance": []
  },
  "kernelspec": {
   "display_name": "Python 3 (ipykernel)",
   "language": "python",
   "name": "python3"
  },
  "language_info": {
   "codemirror_mode": {
    "name": "ipython",
    "version": 3
   },
   "file_extension": ".py",
   "mimetype": "text/x-python",
   "name": "python",
   "nbconvert_exporter": "python",
   "pygments_lexer": "ipython3",
   "version": "3.11.7"
  }
 },
 "nbformat": 4,
 "nbformat_minor": 4
}
