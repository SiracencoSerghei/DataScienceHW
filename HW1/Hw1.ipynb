{
 "cells": [
  {
   "cell_type": "markdown",
   "metadata": {
    "canvas": {
     "comments": [],
     "componentType": "CodeCell",
     "copiedOriginId": null,
     "diskcache": false,
     "headerColor": "transparent",
     "id": "6e8f50ac-5414-46bf-a3a9-944acafebfbf",
     "isComponent": false,
     "name": "",
     "parents": []
    },
    "id": "toKWwe6qpcAp",
    "tags": []
   },
   "source": [
    "# Home Work 1"
   ]
  },
  {
   "cell_type": "code",
   "execution_count": 3,
   "metadata": {
    "canvas": {
     "comments": [],
     "componentType": "CodeCell",
     "copiedOriginId": null,
     "diskcache": false,
     "headerColor": "transparent",
     "id": "80afa2d1-cc62-41da-9b95-2e62ccaf1573",
     "isComponent": false,
     "name": "",
     "parents": []
    },
    "id": "omXS55IcptG-"
   },
   "outputs": [],
   "source": [
    "import numpy as np"
   ]
  },
  {
   "cell_type": "markdown",
   "metadata": {
    "canvas": {
     "comments": [],
     "componentType": "CodeCell",
     "copiedOriginId": null,
     "diskcache": false,
     "headerColor": "transparent",
     "id": "ba9e285d-853b-4e68-a3ba-72f84b0a4b18",
     "isComponent": false,
     "name": "",
     "parents": []
    },
    "id": "fJQaFj-opplC"
   },
   "source": [
    "## Task 1"
   ]
  },
  {
   "cell_type": "markdown",
   "metadata": {
    "canvas": {
     "comments": [],
     "componentType": "CodeCell",
     "copiedOriginId": null,
     "diskcache": false,
     "headerColor": "transparent",
     "id": "e9b4dc89-3354-480a-8e4b-07b263167e39",
     "isComponent": false,
     "name": "",
     "parents": []
    }
   },
   "source": [
    "###     Create a one-dimensional array (vector) with the first 10 natural numbers and print its value."
   ]
  },
  {
   "cell_type": "code",
   "execution_count": 21,
   "metadata": {
    "canvas": {
     "comments": [],
     "componentType": "CodeCell",
     "copiedOriginId": null,
     "diskcache": false,
     "headerColor": "transparent",
     "id": "e558968d-9dee-44c6-ac1d-d187c6df135d",
     "isComponent": false,
     "name": "",
     "parents": []
    }
   },
   "outputs": [
    {
     "name": "stdout",
     "output_type": "stream",
     "text": [
      "task=array([0, 1, 2, 3, 4, 5, 6, 7, 8, 9])\n",
      "task_1=array([0, 1, 2, 3, 4, 5, 6, 7, 8, 9])\n",
      "task_1_1=array([0, 1, 2, 3, 4, 5, 6, 7, 8, 9])\n",
      "task_1_2=array([0, 1, 2, 3, 4, 5, 6, 7, 8, 9])\n",
      "task_1_3=array([0, 1, 2, 3, 4, 5, 6, 7, 8, 9])\n",
      "task_1_4=array([0, 1, 2, 3, 4, 5, 6, 7, 8, 9])\n"
     ]
    }
   ],
   "source": [
    "import numpy as np\n",
    "lst = [0, 1, 2, 3, 4, 5, 6, 7, 8, 9]\n",
    "task = np.array(lst)\n",
    "print(f\"{task=}\")\n",
    "tpl = (0, 1, 2, 3, 4, 5, 6, 7, 8, 9)\n",
    "task_1 = np.array(tpl)\n",
    "print(f'{task_1=}')\n",
    "task_1_1 = np.array([i for i in range(0,10)])\n",
    "print(f'{task_1_1=}')\n",
    "task_1_2 = np.arange(10)\n",
    "print(f'{task_1_2=}')\n",
    "task_1_3 = np.linspace(0,9, num=10, dtype=int)\n",
    "print(f\"{task_1_3=}\")\n",
    "iterable = (i for i in range(10))\n",
    "task_1_4 = np.fromiter(iterable, int)\n",
    "print(f\"{task_1_4=}\")"
   ]
  },
  {
   "cell_type": "markdown",
   "metadata": {
    "canvas": {
     "comments": [],
     "componentType": "CodeCell",
     "copiedOriginId": null,
     "diskcache": false,
     "headerColor": "transparent",
     "id": "ec930467-6807-48b2-b10b-cee3153e1bf9",
     "isComponent": false,
     "name": "",
     "parents": []
    }
   },
   "source": [
    "## Task 2"
   ]
  },
  {
   "cell_type": "markdown",
   "metadata": {
    "canvas": {
     "comments": [],
     "componentType": "CodeCell",
     "copiedOriginId": null,
     "diskcache": false,
     "headerColor": "transparent",
     "id": "96d81e03-849f-4e93-ac8b-1df15bcb7471",
     "isComponent": false,
     "name": "",
     "parents": []
    }
   },
   "source": [
    "\n",
    "###     Create a two-dimensional 3x3 array (matrix), fill it with zeros, and print its value."
   ]
  },
  {
   "cell_type": "code",
   "execution_count": 16,
   "metadata": {
    "canvas": {
     "comments": [],
     "componentType": "CodeCell",
     "copiedOriginId": null,
     "diskcache": false,
     "headerColor": "transparent",
     "id": "667fe9fd-e65d-4e01-be0f-f1bee4f87a55",
     "isComponent": false,
     "name": "",
     "parents": []
    }
   },
   "outputs": [
    {
     "name": "stdout",
     "output_type": "stream",
     "text": [
      "task_2=array([[0., 0., 0.],\n",
      "       [0., 0., 0.],\n",
      "       [0., 0., 0.]])\n",
      "matrix=array([[0., 0., 0.],\n",
      "       [0., 0., 0.],\n",
      "       [0., 0., 0.]])\n",
      "matrix_0=array([[0, 0, 0],\n",
      "       [0, 0, 0],\n",
      "       [0, 0, 0]])\n"
     ]
    }
   ],
   "source": [
    "tup = (3, 3)\n",
    "task_2 = np.zeros(tup)\n",
    "# task_2\n",
    "print(f'{task_2=}')\n",
    "matrix = np.zeros(9).reshape(3, 3)\n",
    "print(f\"{matrix=}\")\n",
    "arr = np.array([[1, 2, 3], [4, 5, 6], [7, 8, 9]])\n",
    "matrix_0 = np.zeros_like(arr)\n",
    "print(f'{matrix_0=}')"
   ]
  },
  {
   "cell_type": "markdown",
   "metadata": {
    "canvas": {
     "comments": [],
     "componentType": "CodeCell",
     "copiedOriginId": null,
     "diskcache": false,
     "headerColor": "transparent",
     "id": "057deaa3-a1d4-4fc8-a9ca-f4dbaf103568",
     "isComponent": false,
     "name": "",
     "parents": []
    }
   },
   "source": [
    "## Task 3"
   ]
  },
  {
   "cell_type": "markdown",
   "metadata": {
    "canvas": {
     "comments": [],
     "componentType": "CodeCell",
     "copiedOriginId": null,
     "diskcache": false,
     "headerColor": "transparent",
     "id": "b23edc1a-d4be-4324-a93f-12f6e12b8a0d",
     "isComponent": false,
     "name": "",
     "parents": []
    }
   },
   "source": [
    "### Create a 5x5 array, fill it with random integers ranging from 1 to 10, and output its value."
   ]
  },
  {
   "cell_type": "code",
   "execution_count": 17,
   "metadata": {
    "canvas": {
     "comments": [],
     "componentType": "CodeCell",
     "copiedOriginId": null,
     "diskcache": false,
     "headerColor": "transparent",
     "id": "ab16a68a-a3df-4a4c-a4fb-0abaf8152200",
     "isComponent": false,
     "name": "",
     "parents": []
    }
   },
   "outputs": [
    {
     "name": "stdout",
     "output_type": "stream",
     "text": [
      "t_3_1=array([[ 4, 10,  6,  4,  7],\n",
      "       [ 9,  8,  6,  9,  1],\n",
      "       [ 7, 10, 10,  4, 10],\n",
      "       [ 8,  8,  6,  1,  5],\n",
      "       [ 6,  2,  9,  3,  1]])\n",
      "t_3_2=array([[ 1,  7,  8,  9,  9],\n",
      "       [ 8,  7,  6,  8,  9],\n",
      "       [ 8, 10,  1,  6,  4],\n",
      "       [ 2,  6,  7,  8,  2],\n",
      "       [ 9, 10,  9,  8,  5]])\n"
     ]
    }
   ],
   "source": [
    "t_3_1 = np.random.randint(1, 11, size=(5, 5))\n",
    "print(f'{t_3_1=}')\n",
    "random_generator = np.random.default_rng()\n",
    "t_3_2 = random_generator.integers(1, 11, size=(5, 5))\n",
    "print(f\"{t_3_2=}\")"
   ]
  },
  {
   "cell_type": "markdown",
   "metadata": {
    "canvas": {
     "comments": [],
     "componentType": "CodeCell",
     "copiedOriginId": null,
     "diskcache": false,
     "headerColor": "transparent",
     "id": "44cdb9a8-1203-4b77-8a2d-85f9fefe185e",
     "isComponent": false,
     "name": "",
     "parents": []
    }
   },
   "source": [
    "## Task 4"
   ]
  },
  {
   "cell_type": "markdown",
   "metadata": {
    "canvas": {
     "comments": [],
     "componentType": "CodeCell",
     "copiedOriginId": null,
     "diskcache": false,
     "headerColor": "transparent",
     "id": "433c217c-ec4d-4cde-b77e-f812405d2a2e",
     "isComponent": false,
     "name": "",
     "parents": []
    }
   },
   "source": [
    "### Create a 4x4 array, fill it with random real numbers in the range from 0 to 1, and output its value."
   ]
  },
  {
   "cell_type": "code",
   "execution_count": 18,
   "metadata": {
    "canvas": {
     "comments": [],
     "componentType": "CodeCell",
     "copiedOriginId": null,
     "diskcache": false,
     "headerColor": "transparent",
     "id": "63dc3c6b-4534-442b-842d-8694d1fcd61d",
     "isComponent": false,
     "name": "",
     "parents": []
    }
   },
   "outputs": [
    {
     "name": "stdout",
     "output_type": "stream",
     "text": [
      "t_4_1=array([[0.62197986, 0.85556445, 0.5430023 , 0.26710273],\n",
      "       [0.09691096, 0.87354392, 0.79803858, 0.38661259],\n",
      "       [0.07342176, 0.21762708, 0.33866262, 0.45283472],\n",
      "       [0.91453178, 0.2482768 , 0.1792606 , 0.90124501]])\n",
      "t_4_2=array([[0.38081975, 0.71040626, 0.47326217, 0.59841158],\n",
      "       [0.52808349, 0.06472378, 0.50154692, 0.66854494],\n",
      "       [0.23727991, 0.52445522, 0.65475285, 0.3905583 ],\n",
      "       [0.6833715 , 0.5519092 , 0.59867641, 0.60403515]])\n",
      "t_4_3=array([[0.05300866, 0.90951575, 0.17775163, 0.80755759],\n",
      "       [0.67975971, 0.552153  , 0.85466859, 0.00440286],\n",
      "       [0.62405392, 0.06805482, 0.07944431, 0.5097215 ],\n",
      "       [0.00626543, 0.74459432, 0.78122657, 0.11460988]])\n",
      "t_4_4=array([[0.69939606, 0.10933128, 0.49882269, 0.57919784],\n",
      "       [0.90707193, 0.93342378, 0.39100599, 0.73787063],\n",
      "       [0.34403048, 0.04118128, 0.20075173, 0.17789627],\n",
      "       [0.53595641, 0.95499176, 0.03856361, 0.53274166]])\n"
     ]
    }
   ],
   "source": [
    "t_4_1 = np.random.random((4, 4))\n",
    "print(f'{t_4_1=}')\n",
    "t_4_2 = np.random.rand(4, 4)\n",
    "print(f\"{t_4_2=}\")\n",
    "t_4_3 = np.random.uniform(0, 1, (4, 4))\n",
    "print(f'{t_4_3=}')\n",
    "t_4_4 = random_generator.random((4, 4))\n",
    "print(f\"{t_4_4=}\")"
   ]
  },
  {
   "cell_type": "markdown",
   "metadata": {},
   "source": [
    "## Task 5"
   ]
  },
  {
   "cell_type": "markdown",
   "metadata": {},
   "source": [
    "### Create two one-dimensional arrays of size 5, fill them with random integers in the range from 1 to 10, and perform element-wise addition, subtraction, and multiplication operations on them."
   ]
  },
  {
   "cell_type": "code",
   "execution_count": 19,
   "metadata": {},
   "outputs": [
    {
     "name": "stdout",
     "output_type": "stream",
     "text": [
      "Array 1: [ 3  9 10  2  5]\n",
      "Array 2: [8 3 5 9 9]\n",
      "Addition: [11 12 15 11 14]\n",
      "Subtraction: [-5  6  5 -7 -4]\n",
      "Multiplication: [24 27 50 18 45]\n"
     ]
    }
   ],
   "source": [
    "task_5_1 = np.random.randint(1, 11, size=5)\n",
    "task_5_2 = np.random.randint(1, 11, size=5)\n",
    "# Print the arrays\n",
    "print(\"Array 1:\", task_5_1)\n",
    "print(\"Array 2:\", task_5_2)\n",
    "add = task_5_1 + task_5_2\n",
    "substr = task_5_1 - task_5_2\n",
    "multipl = task_5_1 * task_5_2\n",
    "# Print the results\n",
    "print(\"Addition:\", add)\n",
    "print(\"Subtraction:\", substr)\n",
    "print('Multiplication:', multipl)"
   ]
  },
  {
   "cell_type": "markdown",
   "metadata": {},
   "source": [
    "## Task 6"
   ]
  },
  {
   "cell_type": "markdown",
   "metadata": {},
   "source": [
    "### Create two vectors of size 7, fill with arbitrary numbers and find their scalar product(dot product)."
   ]
  },
  {
   "cell_type": "code",
   "execution_count": 25,
   "metadata": {},
   "outputs": [
    {
     "name": "stdout",
     "output_type": "stream",
     "text": [
      "task_6_1=array([1, 2, 3, 4, 5, 6, 7])\n",
      "task_6_2=array([ 9. , 10.5, 12. , 13.5, 15. , 16.5, 18. ])\n",
      "np.dot(task_6_1, task_6_2) = 420.0\n",
      "np.sum(task_6_1*task_6_2) = 420.0\n"
     ]
    }
   ],
   "source": [
    "task_6_1 = np.arange(1, 8)\n",
    "task_6_2 = np.linspace(9, 18, num=7)\n",
    "print(f'{task_6_1=}')\n",
    "print(f'{task_6_2=}')\n",
    "print(f'{np.dot(task_6_1, task_6_2) = }')\n",
    "print(f'{np.sum(task_6_1*task_6_2) = }')"
   ]
  },
  {
   "cell_type": "markdown",
   "metadata": {},
   "source": [
    "## Task 7"
   ]
  },
  {
   "cell_type": "markdown",
   "metadata": {},
   "source": [
    "### Create two matrices of size 2x2 and 2x3, fill them with random integers between 1 and 10, and multiply them together."
   ]
  },
  {
   "cell_type": "code",
   "execution_count": 9,
   "metadata": {},
   "outputs": [
    {
     "name": "stdout",
     "output_type": "stream",
     "text": [
      "task_7_1 = array([[10,  6],\n",
      "       [ 8,  2]])\n",
      "task_7_2 = array([[10, 10,  2],\n",
      "       [ 1,  2,  4]])\n",
      "res = array([[106, 112,  44],\n",
      "       [ 82,  84,  24]])\n"
     ]
    }
   ],
   "source": [
    "\n",
    "def create_rand_matrix(num_rows, num_cols):\n",
    "    matrix = np.random.randint(1, 11, size=(num_rows, num_cols))\n",
    "    return matrix    \n",
    "\n",
    "task_7_1 = create_rand_matrix(2, 2)\n",
    "task_7_2 = create_rand_matrix(2, 3)\n",
    "print(f\"{task_7_1 = }\")\n",
    "print(f\"{task_7_2 = }\")\n",
    "\n",
    "res = np.dot(task_7_1, task_7_2)\n",
    "print(f'{res = }')"
   ]
  },
  {
   "cell_type": "markdown",
   "metadata": {},
   "source": [
    "## Task 8"
   ]
  },
  {
   "cell_type": "markdown",
   "metadata": {},
   "source": [
    "### Create a 3x3 matrix, fill it with random integers from 1 to 10, and find its inverse."
   ]
  },
  {
   "cell_type": "code",
   "execution_count": 10,
   "metadata": {},
   "outputs": [
    {
     "name": "stdout",
     "output_type": "stream",
     "text": [
      "task_8 = array([[5, 7, 2],\n",
      "       [1, 3, 3],\n",
      "       [1, 8, 1]])\n",
      "Inverse = array([[5, 1, 1],\n",
      "       [7, 3, 8],\n",
      "       [2, 3, 1]])\n"
     ]
    }
   ],
   "source": [
    "task_8 = create_rand_matrix(3, 3)\n",
    "print(f'{task_8 = }')\n",
    "Inverse = task_8.T\n",
    "print(f'{Inverse = }')"
   ]
  },
  {
   "cell_type": "markdown",
   "metadata": {},
   "source": [
    "# Task 9"
   ]
  },
  {
   "cell_type": "markdown",
   "metadata": {},
   "source": [
    "### Create a 4x4 matrix, fill it with random real numbers ranging from 0 to 1, and transpose it."
   ]
  },
  {
   "cell_type": "code",
   "execution_count": 13,
   "metadata": {},
   "outputs": [
    {
     "name": "stdout",
     "output_type": "stream",
     "text": [
      "task_9 = array([[0.44367313, 0.96268798, 0.25712133, 0.67012065],\n",
      "       [0.08547336, 0.28391891, 0.99290559, 0.14459515],\n",
      "       [0.940488  , 0.20365963, 0.32315124, 0.24568606],\n",
      "       [0.90168482, 0.30163072, 0.04664154, 0.12055361]])\n",
      "Transpose = array([[0.44367313, 0.08547336, 0.940488  , 0.90168482],\n",
      "       [0.96268798, 0.28391891, 0.20365963, 0.30163072],\n",
      "       [0.25712133, 0.99290559, 0.32315124, 0.04664154],\n",
      "       [0.67012065, 0.14459515, 0.24568606, 0.12055361]])\n"
     ]
    }
   ],
   "source": [
    "task_9 = np.random.random((4, 4))\n",
    "print(f\"{task_9 = }\")\n",
    "Transpose = task_9.T\n",
    "print(f\"{Transpose = }\")"
   ]
  },
  {
   "cell_type": "markdown",
   "metadata": {},
   "source": [
    "# Task 10"
   ]
  },
  {
   "cell_type": "markdown",
   "metadata": {},
   "source": [
    "### Create a 3x4 matrix and a 4 vector, fill them with random integers ranging from 1 to 10, and multiply the matrix by the vector."
   ]
  },
  {
   "cell_type": "code",
   "execution_count": 18,
   "metadata": {},
   "outputs": [
    {
     "name": "stdout",
     "output_type": "stream",
     "text": [
      "matrix_task_10 = array([[ 4,  7,  3,  2],\n",
      "       [ 2, 10,  5,  3],\n",
      "       [ 8,  6,  9,  6]])\n",
      "vector_task_10 = array([6, 2, 2, 8])\n",
      "res_task_10 =array([ 60,  66, 126])\n"
     ]
    }
   ],
   "source": [
    "matrix_task_10 = create_rand_matrix(3, 4)\n",
    "vector_task_10 = np.random.randint(1, 11, size=4)\n",
    "print(f\"{matrix_task_10 = }\")\n",
    "print(f\"{vector_task_10 = }\")\n",
    "res_task_10 = np.dot(matrix_task_10, vector_task_10)\n",
    "print(f\"{res_task_10 =}\")"
   ]
  },
  {
   "cell_type": "markdown",
   "metadata": {},
   "source": [
    "# tASK 11"
   ]
  },
  {
   "cell_type": "markdown",
   "metadata": {},
   "source": [
    "### Create a matrix of size 2x3 and a vector of size 3, fill them with random real numbers ranging from 0 to 1, and multiply the matrix by the vector."
   ]
  },
  {
   "cell_type": "code",
   "execution_count": 19,
   "metadata": {},
   "outputs": [
    {
     "name": "stdout",
     "output_type": "stream",
     "text": [
      "matrix_task_11 = array([[0.82753033, 0.44239668, 0.96441197],\n",
      "       [0.81812608, 0.62589636, 0.76149603]])\n",
      "vector_task_11 = array([0.18720674, 0.68759041, 0.62700287])\n",
      "res_task_11 = array([1.06379605, 1.06097925])\n"
     ]
    }
   ],
   "source": [
    "matrix_task_11 = np.random.random((2, 3))\n",
    "vector_task_11 = np.random.random(3)\n",
    "print(f\"{matrix_task_11 = }\")\n",
    "print(f\"{vector_task_11 = }\")\n",
    "res_task_11 = np.dot(matrix_task_11, vector_task_11)\n",
    "print(f\"{res_task_11 = }\")"
   ]
  },
  {
   "cell_type": "markdown",
   "metadata": {},
   "source": [
    "## Task 12"
   ]
  },
  {
   "cell_type": "markdown",
   "metadata": {},
   "source": [
    "### Create two 2x2 matrices, fill them with random integers in the range from 1 to 10, and perform their element-wise multiplication."
   ]
  },
  {
   "cell_type": "code",
   "execution_count": 27,
   "metadata": {},
   "outputs": [
    {
     "name": "stdout",
     "output_type": "stream",
     "text": [
      "matrix_12_1 = array([[5, 3],\n",
      "       [2, 5]])\n",
      "matrix_12_2 = array([[ 9,  8],\n",
      "       [10,  1]])\n",
      "element_wise_mult = array([[45, 24],\n",
      "       [20,  5]])\n"
     ]
    }
   ],
   "source": [
    "matrix_12_1 = create_rand_matrix(2, 2)\n",
    "matrix_12_2 = create_rand_matrix(2, 2)\n",
    "print(f\"{matrix_12_1 = }\")\n",
    "print(f\"{matrix_12_2 = }\")\n",
    "element_wise_mult = matrix_12_1 * matrix_12_2\n",
    "print(f\"{element_wise_mult = }\")\n"
   ]
  },
  {
   "cell_type": "markdown",
   "metadata": {},
   "source": [
    "## Task 13"
   ]
  },
  {
   "cell_type": "markdown",
   "metadata": {},
   "source": [
    "### Create two 2x2 matrices, fill them with random integers ranging from 1 to 10, and find their product."
   ]
  },
  {
   "cell_type": "code",
   "execution_count": 35,
   "metadata": {},
   "outputs": [
    {
     "name": "stdout",
     "output_type": "stream",
     "text": [
      "matrix_13_1 = array([[8, 5],\n",
      "       [4, 1]])\n",
      "matrix_13_2 = array([[ 7,  2],\n",
      "       [10,  1]])\n",
      "prod = array([[106,  21],\n",
      "       [ 38,   9]])\n"
     ]
    }
   ],
   "source": [
    "matrix_13_1 = np.random.randint(1, 11, (2, 2))\n",
    "matrix_13_2 = np.random.randint(1, 11, (2, 2))\n",
    "print(f\"{matrix_13_1 = }\")\n",
    "print(f\"{matrix_13_2 = }\")\n",
    "prod = np.dot(matrix_13_1, matrix_13_2)\n",
    "print(f\"{prod = }\")"
   ]
  },
  {
   "cell_type": "markdown",
   "metadata": {},
   "source": [
    "## Task 14"
   ]
  },
  {
   "cell_type": "markdown",
   "metadata": {},
   "source": [
    "### Create a 5x5 matrix, fill it with random integers ranging from 1 to 100, and find the sum of the matrix elements."
   ]
  },
  {
   "cell_type": "code",
   "execution_count": 40,
   "metadata": {},
   "outputs": [
    {
     "name": "stdout",
     "output_type": "stream",
     "text": [
      "matrix_14 = array([[21, 29, 36, 42, 18],\n",
      "       [49, 38, 41, 44, 80],\n",
      "       [55,  1, 40, 39, 22],\n",
      "       [ 9, 98, 79, 58, 70],\n",
      "       [32, 44, 34,  5, 70]])\n",
      "sum1 = 1054\n",
      "sum2 = 1054\n"
     ]
    }
   ],
   "source": [
    "matrix_14 = np.random.randint(1, 101, (5, 5))\n",
    "print(f\"{matrix_14 = }\")\n",
    "sum1 = np.sum(matrix_14)\n",
    "print(f\"{sum1 = }\")\n",
    "sum2 = matrix_14.sum()\n",
    "print(f\"{sum2 = }\")"
   ]
  },
  {
   "cell_type": "markdown",
   "metadata": {},
   "source": [
    "## Task 15"
   ]
  },
  {
   "cell_type": "markdown",
   "metadata": {},
   "source": [
    "### Create two 4x4 matrices, fill them with random integers ranging from 1 to 10, and find their difference."
   ]
  },
  {
   "cell_type": "code",
   "execution_count": 44,
   "metadata": {},
   "outputs": [
    {
     "name": "stdout",
     "output_type": "stream",
     "text": [
      "matrix_15_1 = array([[ 9,  4, 10,  6],\n",
      "       [ 3,  9,  8,  2],\n",
      "       [ 7,  2,  3,  9],\n",
      "       [10,  9, 10,  8]])\n",
      "matrix_15_2 = array([[5, 6, 4, 4],\n",
      "       [2, 5, 8, 6],\n",
      "       [5, 6, 9, 4],\n",
      "       [5, 7, 6, 9]])\n",
      "diff = array([[ 4, -2,  6,  2],\n",
      "       [ 1,  4,  0, -4],\n",
      "       [ 2, -4, -6,  5],\n",
      "       [ 5,  2,  4, -1]])\n"
     ]
    }
   ],
   "source": [
    "matrix_15_1 = np.random.randint(1, 11, (4, 4))\n",
    "matrix_15_2 = np.random.randint(1, 11, (4, 4))\n",
    "diff = matrix_15_1 - matrix_15_2\n",
    "print(f\"{matrix_15_1 = }\")\n",
    "print(f\"{matrix_15_2 = }\")\n",
    "print(f\"{diff = }\")"
   ]
  },
  {
   "cell_type": "markdown",
   "metadata": {},
   "source": [
    "## Task 16"
   ]
  },
  {
   "cell_type": "markdown",
   "metadata": {},
   "source": [
    "### Create a 3x3 matrix, fill it with random real numbers ranging from 0 to 1, and find the column vector containing the sum of the elements of each row of the matrix."
   ]
  },
  {
   "cell_type": "code",
   "execution_count": 55,
   "metadata": {},
   "outputs": [
    {
     "name": "stdout",
     "output_type": "stream",
     "text": [
      "matrix_16 = array([[0.14901096, 0.26834891, 0.09163667],\n",
      "       [0.38592336, 0.72079845, 0.87592684],\n",
      "       [0.54366479, 0.28250126, 0.75034745]])\n",
      "matrix_shape = (3, 3)\n",
      "column_v_of_sum = array([0.50899654, 1.98264865, 1.57651351])\n",
      "column_v_of_sum2 = array([0.50899654, 1.98264865, 1.57651351])\n",
      "column_v_of_sum3 = array([0.50899654, 1.98264865, 1.57651351])\n"
     ]
    }
   ],
   "source": [
    "matrix_16 = np.random.random((3, 3))\n",
    "print(f\"{matrix_16 = }\")\n",
    "matrix_shape = matrix_16.shape\n",
    "print(f\"{matrix_shape = }\")\n",
    "column_v_of_sum = np.array([sum(row) for row in matrix_16])\n",
    "print(f\"{column_v_of_sum = }\")\n",
    "column_v_of_sum2 = np.array([matrix_16[i].sum() for i in range(matrix_shape[0])])\n",
    "print(f\"{column_v_of_sum2 = }\")\n",
    "column_v_of_sum3 = matrix_16.sum(axis=1)\n",
    "print(f\"{column_v_of_sum3 = }\")"
   ]
  },
  {
   "cell_type": "code",
   "execution_count": null,
   "metadata": {},
   "outputs": [],
   "source": []
  }
 ],
 "metadata": {
  "canvas": {
   "colorPalette": [
    "inherit",
    "inherit",
    "inherit",
    "inherit",
    "inherit",
    "inherit",
    "inherit",
    "inherit",
    "inherit",
    "inherit"
   ],
   "parameters": []
  },
  "colab": {
   "provenance": []
  },
  "kernelspec": {
   "display_name": "Python 3 (ipykernel)",
   "language": "python",
   "name": "python3"
  },
  "language_info": {
   "codemirror_mode": {
    "name": "ipython",
    "version": 3
   },
   "file_extension": ".py",
   "mimetype": "text/x-python",
   "name": "python",
   "nbconvert_exporter": "python",
   "pygments_lexer": "ipython3",
   "version": "3.11.7"
  }
 },
 "nbformat": 4,
 "nbformat_minor": 4
}
