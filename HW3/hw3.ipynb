{
  "cells": [
    {
      "cell_type": "markdown",
      "metadata": {
        "colab_type": "text",
        "id": "view-in-github"
      },
      "source": [
        "<a href=\"https://colab.research.google.com/github/SiracencoSerghei/DataScienceHW/blob/main/HW3/hw3.ipynb\" target=\"_parent\"><img src=\"https://colab.research.google.com/assets/colab-badge.svg\" alt=\"Open In Colab\"/></a>"
      ]
    },
    {
      "cell_type": "code",
      "execution_count": 2,
      "metadata": {
        "id": "Jb6SJ4JaRPcB"
      },
      "outputs": [],
      "source": [
        "import numpy as np\n",
        "import pandas as pd\n",
        "from sklearn.linear_model import LinearRegression\n",
        "from sklearn.preprocessing import StandardScaler\n",
        "from sklearn.metrics import mean_squared_error, mean_absolute_error, r2_score\n",
        "\n",
        "import matplotlib.pyplot as plt\n",
        "import seaborn as sns\n",
        "%matplotlib inline"
      ]
    },
    {
      "cell_type": "markdown",
      "metadata": {
        "id": "ViH-tAcTQtp8"
      },
      "source": [
        "# **`Data collection`**"
      ]
    },
    {
      "cell_type": "code",
      "execution_count": 3,
      "metadata": {
        "id": "5effNYrbQ1ht"
      },
      "outputs": [],
      "source": [
        "url = 'https://drive.google.com/uc?id=1-rAa4XT4_fI0dOBlMNuE6a7jB0wln_Qo'\n",
        "\n",
        "# Read the CSV file\n",
        "try:\n",
        "    data = pd.read_csv(url)\n",
        "except Exception as e:\n",
        "    print(f\"Error reading CSV: {e}\")"
      ]
    },
    {
      "cell_type": "markdown",
      "metadata": {
        "id": "ygF19hUbQ_rU"
      },
      "source": [
        "---\n",
        "# **Data analysis.**    Аналіз даних.\n",
        "---"
      ]
    },
    {
      "cell_type": "code",
      "execution_count": 4,
      "metadata": {
        "colab": {
          "base_uri": "https://localhost:8080/",
          "height": 206
        },
        "id": "S-o3nEYMRAfw",
        "outputId": "16e37ad7-0ba2-4e26-d461-a2971ac3ba24"
      },
      "outputs": [
        {
          "data": {
            "text/html": [
              "<div>\n",
              "<style scoped>\n",
              "    .dataframe tbody tr th:only-of-type {\n",
              "        vertical-align: middle;\n",
              "    }\n",
              "\n",
              "    .dataframe tbody tr th {\n",
              "        vertical-align: top;\n",
              "    }\n",
              "\n",
              "    .dataframe thead th {\n",
              "        text-align: right;\n",
              "    }\n",
              "</style>\n",
              "<table border=\"1\" class=\"dataframe\">\n",
              "  <thead>\n",
              "    <tr style=\"text-align: right;\">\n",
              "      <th></th>\n",
              "      <th>price</th>\n",
              "      <th>area</th>\n",
              "      <th>bedrooms</th>\n",
              "      <th>bathrooms</th>\n",
              "      <th>stories</th>\n",
              "      <th>mainroad</th>\n",
              "      <th>guestroom</th>\n",
              "      <th>basement</th>\n",
              "      <th>hotwaterheating</th>\n",
              "      <th>airconditioning</th>\n",
              "      <th>parking</th>\n",
              "      <th>prefarea</th>\n",
              "      <th>furnishingstatus</th>\n",
              "    </tr>\n",
              "  </thead>\n",
              "  <tbody>\n",
              "    <tr>\n",
              "      <th>242</th>\n",
              "      <td>4550000</td>\n",
              "      <td>3640</td>\n",
              "      <td>3</td>\n",
              "      <td>1</td>\n",
              "      <td>2</td>\n",
              "      <td>yes</td>\n",
              "      <td>no</td>\n",
              "      <td>no</td>\n",
              "      <td>no</td>\n",
              "      <td>yes</td>\n",
              "      <td>0</td>\n",
              "      <td>no</td>\n",
              "      <td>furnished</td>\n",
              "    </tr>\n",
              "    <tr>\n",
              "      <th>430</th>\n",
              "      <td>3290000</td>\n",
              "      <td>2500</td>\n",
              "      <td>2</td>\n",
              "      <td>1</td>\n",
              "      <td>1</td>\n",
              "      <td>no</td>\n",
              "      <td>no</td>\n",
              "      <td>no</td>\n",
              "      <td>no</td>\n",
              "      <td>yes</td>\n",
              "      <td>0</td>\n",
              "      <td>no</td>\n",
              "      <td>unfurnished</td>\n",
              "    </tr>\n",
              "    <tr>\n",
              "      <th>354</th>\n",
              "      <td>3780000</td>\n",
              "      <td>8400</td>\n",
              "      <td>2</td>\n",
              "      <td>1</td>\n",
              "      <td>1</td>\n",
              "      <td>yes</td>\n",
              "      <td>no</td>\n",
              "      <td>no</td>\n",
              "      <td>no</td>\n",
              "      <td>no</td>\n",
              "      <td>1</td>\n",
              "      <td>no</td>\n",
              "      <td>furnished</td>\n",
              "    </tr>\n",
              "    <tr>\n",
              "      <th>184</th>\n",
              "      <td>5110000</td>\n",
              "      <td>3000</td>\n",
              "      <td>3</td>\n",
              "      <td>2</td>\n",
              "      <td>2</td>\n",
              "      <td>yes</td>\n",
              "      <td>yes</td>\n",
              "      <td>yes</td>\n",
              "      <td>no</td>\n",
              "      <td>no</td>\n",
              "      <td>0</td>\n",
              "      <td>no</td>\n",
              "      <td>furnished</td>\n",
              "    </tr>\n",
              "    <tr>\n",
              "      <th>66</th>\n",
              "      <td>6930000</td>\n",
              "      <td>13200</td>\n",
              "      <td>2</td>\n",
              "      <td>1</td>\n",
              "      <td>1</td>\n",
              "      <td>yes</td>\n",
              "      <td>no</td>\n",
              "      <td>yes</td>\n",
              "      <td>yes</td>\n",
              "      <td>no</td>\n",
              "      <td>1</td>\n",
              "      <td>no</td>\n",
              "      <td>furnished</td>\n",
              "    </tr>\n",
              "  </tbody>\n",
              "</table>\n",
              "</div>"
            ],
            "text/plain": [
              "       price   area  bedrooms  bathrooms  stories mainroad guestroom basement  \\\n",
              "242  4550000   3640         3          1        2      yes        no       no   \n",
              "430  3290000   2500         2          1        1       no        no       no   \n",
              "354  3780000   8400         2          1        1      yes        no       no   \n",
              "184  5110000   3000         3          2        2      yes       yes      yes   \n",
              "66   6930000  13200         2          1        1      yes        no      yes   \n",
              "\n",
              "    hotwaterheating airconditioning  parking prefarea furnishingstatus  \n",
              "242              no             yes        0       no        furnished  \n",
              "430              no             yes        0       no      unfurnished  \n",
              "354              no              no        1       no        furnished  \n",
              "184              no              no        0       no        furnished  \n",
              "66              yes              no        1       no        furnished  "
            ]
          },
          "execution_count": 4,
          "metadata": {},
          "output_type": "execute_result"
        }
      ],
      "source": [
        "data.sample(5)"
      ]
    },
    {
      "cell_type": "code",
      "execution_count": 5,
      "metadata": {
        "colab": {
          "base_uri": "https://localhost:8080/",
          "height": 492
        },
        "id": "Kx69h5ZQRLaZ",
        "outputId": "4a5273e0-3c5c-444d-82ac-fac72086ab79"
      },
      "outputs": [
        {
          "data": {
            "text/plain": [
              "price               0\n",
              "area                0\n",
              "bedrooms            0\n",
              "bathrooms           0\n",
              "stories             0\n",
              "mainroad            0\n",
              "guestroom           0\n",
              "basement            0\n",
              "hotwaterheating     0\n",
              "airconditioning     0\n",
              "parking             0\n",
              "prefarea            0\n",
              "furnishingstatus    0\n",
              "dtype: int64"
            ]
          },
          "execution_count": 5,
          "metadata": {},
          "output_type": "execute_result"
        }
      ],
      "source": [
        "data[data.isna()].count()"
      ]
    },
    {
      "cell_type": "code",
      "execution_count": 6,
      "metadata": {
        "colab": {
          "base_uri": "https://localhost:8080/"
        },
        "id": "SAOclOKjRWHJ",
        "outputId": "3c5b7269-1e1c-44a5-92e5-e7b705ff12c4"
      },
      "outputs": [
        {
          "name": "stdout",
          "output_type": "stream",
          "text": [
            "<class 'pandas.core.frame.DataFrame'>\n",
            "RangeIndex: 545 entries, 0 to 544\n",
            "Data columns (total 13 columns):\n",
            " #   Column            Non-Null Count  Dtype \n",
            "---  ------            --------------  ----- \n",
            " 0   price             545 non-null    int64 \n",
            " 1   area              545 non-null    int64 \n",
            " 2   bedrooms          545 non-null    int64 \n",
            " 3   bathrooms         545 non-null    int64 \n",
            " 4   stories           545 non-null    int64 \n",
            " 5   mainroad          545 non-null    object\n",
            " 6   guestroom         545 non-null    object\n",
            " 7   basement          545 non-null    object\n",
            " 8   hotwaterheating   545 non-null    object\n",
            " 9   airconditioning   545 non-null    object\n",
            " 10  parking           545 non-null    int64 \n",
            " 11  prefarea          545 non-null    object\n",
            " 12  furnishingstatus  545 non-null    object\n",
            "dtypes: int64(6), object(7)\n",
            "memory usage: 55.5+ KB\n"
          ]
        }
      ],
      "source": [
        "data.info()"
      ]
    },
    {
      "cell_type": "code",
      "execution_count": 27,
      "metadata": {},
      "outputs": [
        {
          "data": {
            "text/plain": [
              "np.int64(0)"
            ]
          },
          "execution_count": 27,
          "metadata": {},
          "output_type": "execute_result"
        }
      ],
      "source": [
        "data.duplicated().sum()"
      ]
    },
    {
      "cell_type": "code",
      "execution_count": 29,
      "metadata": {},
      "outputs": [
        {
          "data": {
            "text/html": [
              "<div>\n",
              "<style scoped>\n",
              "    .dataframe tbody tr th:only-of-type {\n",
              "        vertical-align: middle;\n",
              "    }\n",
              "\n",
              "    .dataframe tbody tr th {\n",
              "        vertical-align: top;\n",
              "    }\n",
              "\n",
              "    .dataframe thead th {\n",
              "        text-align: right;\n",
              "    }\n",
              "</style>\n",
              "<table border=\"1\" class=\"dataframe\">\n",
              "  <thead>\n",
              "    <tr style=\"text-align: right;\">\n",
              "      <th></th>\n",
              "      <th>price</th>\n",
              "      <th>area</th>\n",
              "      <th>bedrooms</th>\n",
              "      <th>bathrooms</th>\n",
              "      <th>stories</th>\n",
              "      <th>parking</th>\n",
              "    </tr>\n",
              "  </thead>\n",
              "  <tbody>\n",
              "    <tr>\n",
              "      <th>price</th>\n",
              "      <td>1.000000</td>\n",
              "      <td>0.535997</td>\n",
              "      <td>0.366494</td>\n",
              "      <td>0.517545</td>\n",
              "      <td>0.420712</td>\n",
              "      <td>0.384394</td>\n",
              "    </tr>\n",
              "    <tr>\n",
              "      <th>area</th>\n",
              "      <td>0.535997</td>\n",
              "      <td>1.000000</td>\n",
              "      <td>0.151858</td>\n",
              "      <td>0.193820</td>\n",
              "      <td>0.083996</td>\n",
              "      <td>0.352980</td>\n",
              "    </tr>\n",
              "    <tr>\n",
              "      <th>bedrooms</th>\n",
              "      <td>0.366494</td>\n",
              "      <td>0.151858</td>\n",
              "      <td>1.000000</td>\n",
              "      <td>0.373930</td>\n",
              "      <td>0.408564</td>\n",
              "      <td>0.139270</td>\n",
              "    </tr>\n",
              "    <tr>\n",
              "      <th>bathrooms</th>\n",
              "      <td>0.517545</td>\n",
              "      <td>0.193820</td>\n",
              "      <td>0.373930</td>\n",
              "      <td>1.000000</td>\n",
              "      <td>0.326165</td>\n",
              "      <td>0.177496</td>\n",
              "    </tr>\n",
              "    <tr>\n",
              "      <th>stories</th>\n",
              "      <td>0.420712</td>\n",
              "      <td>0.083996</td>\n",
              "      <td>0.408564</td>\n",
              "      <td>0.326165</td>\n",
              "      <td>1.000000</td>\n",
              "      <td>0.045547</td>\n",
              "    </tr>\n",
              "    <tr>\n",
              "      <th>parking</th>\n",
              "      <td>0.384394</td>\n",
              "      <td>0.352980</td>\n",
              "      <td>0.139270</td>\n",
              "      <td>0.177496</td>\n",
              "      <td>0.045547</td>\n",
              "      <td>1.000000</td>\n",
              "    </tr>\n",
              "  </tbody>\n",
              "</table>\n",
              "</div>"
            ],
            "text/plain": [
              "              price      area  bedrooms  bathrooms   stories   parking\n",
              "price      1.000000  0.535997  0.366494   0.517545  0.420712  0.384394\n",
              "area       0.535997  1.000000  0.151858   0.193820  0.083996  0.352980\n",
              "bedrooms   0.366494  0.151858  1.000000   0.373930  0.408564  0.139270\n",
              "bathrooms  0.517545  0.193820  0.373930   1.000000  0.326165  0.177496\n",
              "stories    0.420712  0.083996  0.408564   0.326165  1.000000  0.045547\n",
              "parking    0.384394  0.352980  0.139270   0.177496  0.045547  1.000000"
            ]
          },
          "execution_count": 29,
          "metadata": {},
          "output_type": "execute_result"
        }
      ],
      "source": [
        "cor_matrix = data.corr(numeric_only=True)\n",
        "cor_matrix"
      ]
    },
    {
      "cell_type": "code",
      "execution_count": 30,
      "metadata": {},
      "outputs": [
        {
          "data": {
            "text/plain": [
              "price        1.000000\n",
              "area         0.535997\n",
              "bathrooms    0.517545\n",
              "stories      0.420712\n",
              "parking      0.384394\n",
              "bedrooms     0.366494\n",
              "Name: price, dtype: float64"
            ]
          },
          "execution_count": 30,
          "metadata": {},
          "output_type": "execute_result"
        }
      ],
      "source": [
        "cor = cor_matrix[\"price\"].sort_values(ascending=False)\n",
        "cor"
      ]
    },
    {
      "cell_type": "markdown",
      "metadata": {
        "id": "gTg6gB1fRQRJ"
      },
      "source": [
        "---\n",
        "# 1. Write the linear regression hypothesis function in vector form;\n",
        "напишіть функцію гіпотези лінійної регресії у векторному вигляді;\n",
        "---"
      ]
    },
    {
      "cell_type": "markdown",
      "metadata": {
        "id": "u6yko2MdBfGI"
      },
      "source": [
        "$$h(x) = w_0 + w_1*x$$\n",
        "$$h(x_1,x_2) = w_0 + w_1*x_1 + w_2*x_2 $$\n",
        "$$h(x_1,...,x_n) = w_0 + w_1*x_1 + ... + w_n*x_n $$\n",
        "$$ h(x_i) = w0 + \\sum_{i=1}^n w_n*x_n $$"
      ]
    },
    {
      "cell_type": "markdown",
      "metadata": {
        "id": "dF-qtahPBn1M"
      },
      "source": [
        "$$ \\vec{x} = \\begin{pmatrix} 1 \\\\ x_1 \\\\ ..  \\\\ x_n   \\end{pmatrix},\n",
        "\\vec{w} = \\begin{pmatrix} w_0 \\\\ w_1 \\\\ ..\\\\ w_n \\end{pmatrix}$$"
      ]
    },
    {
      "cell_type": "markdown",
      "metadata": {
        "id": "Ch4X-3g4B1fc"
      },
      "source": [
        "$$ h(\\vec{x})= \\vec{x} \\cdot \\vec{w}  $$\n",
        "<!-- $$h(\\overrightarrow{x}) = \\overrightarrow{w} \\cdot  \\overrightarrow{x}$$ -->"
      ]
    },
    {
      "cell_type": "markdown",
      "metadata": {
        "id": "bd6E0a93Yixf"
      },
      "source": [
        "or\n",
        "$$\n",
        "h(\\mathbf{X}) = \\mathbf{w}^T \\mathbf{X}\n",
        "$$\n"
      ]
    },
    {
      "cell_type": "code",
      "execution_count": 7,
      "metadata": {
        "id": "L0kPjILXRXdN"
      },
      "outputs": [],
      "source": [
        "def hypothesis(X, w):\n",
        "  return np.dot(X, w)"
      ]
    },
    {
      "cell_type": "markdown",
      "metadata": {
        "id": "bmLdZEWPTYTx"
      },
      "source": [
        "---\n",
        "# 2. Create a function to calculate the loss function in vector form;\n",
        "створіть функцію для обчислення функції втрат у векторному вигляді;\n",
        "---"
      ]
    },
    {
      "cell_type": "markdown",
      "metadata": {
        "id": "EP9-PogfgTrW"
      },
      "source": [
        "$$\n",
        "Loss = \\frac{1}{2n} \\| Xw - y \\|^2\n",
        "$$\n",
        "or\n",
        "$$\n",
        "J(w_0​,w_1, ... ,w_n)=\\frac{1}{2m} \\sum_{i=1}^{m}​(h(x^{(i)})−y^{(i)})^2  \n",
        "$$\n",
        "\n"
      ]
    },
    {
      "cell_type": "code",
      "execution_count": 8,
      "metadata": {
        "id": "4vaYSqcGTtS2"
      },
      "outputs": [],
      "source": [
        "def loss_func(X, y, w):\n",
        "  m = len(y)\n",
        "  h = hypothesis(X, w)\n",
        "  error = h - y\n",
        "  loss = (1 / (2 * m)) * np.sum((error) ** 2)\n",
        "  return loss"
      ]
    },
    {
      "cell_type": "markdown",
      "metadata": {
        "id": "XeDdzUM30R3p"
      },
      "source": [
        "---\n",
        "# 3. Implement one step of gradient descent;\n",
        "реалізуйте один крок градієнтного спуску;\n",
        "---"
      ]
    },
    {
      "cell_type": "markdown",
      "metadata": {
        "id": "FaVxb9DlOByo"
      },
      "source": [
        "градієнт функції втрат -\n",
        "$$  \n",
        "\\nabla J(\\vec{w}) =\n",
        "\\begin{pmatrix}\n",
        "\\frac{\\partial J(\\vec{w})}{\\partial w_0} \\\\\n",
        "\\frac{\\partial J(\\vec{w})}{\\partial w_1} \\\\\n",
        "\\frac{\\partial J(\\vec{w})}{\\partial w_2} \\\\\n",
        ".. \\\\\n",
        "\\frac{\\partial J(\\vec{w})}{\\partial w_n} \\\\\n",
        "\\end{pmatrix}\n",
        "=\n",
        "\\begin{pmatrix}\n",
        "\\frac{1}{m} \\sum_{i=1}^{m} (h(x^{(i)}) - y^{(i)})\\\\\n",
        "\\frac{1}{m} \\sum_{i=1}^{m} (h(x^{(i)}) - y^{(i)})x_1^{(i)} \\\\\n",
        "\\frac{1}{m} \\sum_{i=1}^{m} (h(x^{(i)}) - y^{(i)})x_2^{(i)} \\\\\n",
        ".. \\\\\n",
        "\\frac{1}{m} \\sum_{i=1}^{m} (h(x^{(i)}) - y^{(i)})x_n^{(i)} \\\\\n",
        "\\end{pmatrix}\n",
        "$$"
      ]
    },
    {
      "cell_type": "markdown",
      "metadata": {
        "id": "rUm_uBPUOz9-"
      },
      "source": [
        "$$\n",
        "\\vec{w}\n",
        "=\\vec{w}^{prev} − α \\nabla J(\\vec{w})\n",
        "$$"
      ]
    },
    {
      "cell_type": "markdown",
      "metadata": {
        "id": "-kPBxbGEPfgC"
      },
      "source": [
        "m — кількість зразків (samples).\n",
        "\n",
        "n — кількість ознак (features) у кожному зразку.\n",
        "\n",
        "$$\n",
        "X_{m,n}=\n",
        "\\begin{bmatrix}\n",
        " 1&  x^{(1)}_{1}&  x^{(1)}_{2}&  …&  x^{(1)}_{n}  \\\\\n",
        " 1&  x^{(2)}_{1}&  x^{(2)}_{2}&  …&  x^{(2)}_{n}  \\\\\n",
        " 1&  x^{(3)}_{1}&  x^{(3)}_{2}&  …&  x^{(3)}_{n}  \\\\\n",
        " \\vdots&   \\vdots&   \\vdots&   \\ddots&  \\vdots&   \\\\\n",
        " 1&  x^{(m)}_{1}&  x^{(m)}_{2}&  …&  x^{(m)}_{n}  \\\\\n",
        "\\end{bmatrix}​​\n",
        "$$"
      ]
    },
    {
      "cell_type": "markdown",
      "metadata": {
        "id": "Nx5SJdubQKJB"
      },
      "source": [
        "$$\n",
        "∇J(\\vec{w})=\\frac{1}{m}​  X^T(X \\vec{w} - \\vec{y}​)\n",
        "$$"
      ]
    },
    {
      "cell_type": "code",
      "execution_count": 9,
      "metadata": {
        "id": "ebdmQe9C269A"
      },
      "outputs": [],
      "source": [
        "def gradient_descent_step(X, y, w, learning_rate=0.001):\n",
        "  m = len(y)\n",
        "  h = hypothesis(X, w)\n",
        "  error = h - y\n",
        "  gradient = (1 / m) * np.dot(X.T, error)\n",
        "  w -= learning_rate * gradient\n",
        "  return w"
      ]
    },
    {
      "cell_type": "code",
      "execution_count": 10,
      "metadata": {
        "id": "h1mvHhJzBUPB"
      },
      "outputs": [],
      "source": [
        "def gradient_descent(X, y, w, num_iterations=1, learning_rate=0.001):\n",
        "  loss_history = np.zeros(num_iterations)\n",
        "  for i in range(num_iterations):\n",
        "      w = gradient_descent_step(X, y, w, learning_rate)\n",
        "      loss_history[i] = loss_func(X, y, w)\n",
        "  return w, loss_history\n"
      ]
    },
    {
      "cell_type": "markdown",
      "metadata": {
        "id": "44priQfzT3GE"
      },
      "source": [
        "# **Data preparing**"
      ]
    },
    {
      "cell_type": "code",
      "execution_count": 11,
      "metadata": {
        "id": "exYU8aqIUC6Y"
      },
      "outputs": [],
      "source": [
        "x_columns = [\"area\", \"bedrooms\",\"bathrooms\"]\n",
        "y_column = \"price\"\n",
        "# data_columns = [y_column] + x_columns\n",
        "# data_columns = [y_column, *x_columns]\n",
        "\n",
        "# Формування матриці ознак X і вектору цільових змінних y\n",
        "X = data[x_columns].values\n",
        "y = data[y_column].values\n",
        "\n",
        "# Масштабування даних\n",
        "scaler = StandardScaler()\n",
        "X = scaler.fit_transform(data[x_columns])\n",
        "y = scaler.fit_transform(data[[y_column]]).flatten()\n",
        "\n"
      ]
    },
    {
      "cell_type": "code",
      "execution_count": null,
      "metadata": {},
      "outputs": [],
      "source": []
    },
    {
      "cell_type": "markdown",
      "metadata": {
        "id": "Wi3LRNqdVqg4"
      },
      "source": [
        "### Adding an Intercept\n",
        "\n",
        "To include the intercept \\( w_0 \\) in our model, we need to add a column of ones to the matrix \\( X \\). This ensures that the linear regression equation:\n",
        "\n",
        "$$\n",
        "y = w_0 + w_1 x_1 + w_2 x_2 + \\dots + w_n x_n\n",
        "$$\n",
        "\n",
        "is represented as:\n",
        "\n",
        "$$\n",
        "y = Xw\n",
        "$$\n",
        "\n",
        "where:\n",
        "\n",
        "- \\( X \\) is the feature matrix augmented with a column of ones:\n",
        "  $$\n",
        "  X = \\begin{bmatrix}\n",
        "  1 & x_{11} & x_{12} & \\dots & x_{1n} \\\\\n",
        "  1 & x_{21} & x_{22} & \\dots & x_{2n} \\\\\n",
        "  \\vdots & \\vdots & \\vdots & \\ddots & \\vdots \\\\\n",
        "  1 & x_{m1} & x_{m2} & \\dots & x_{mn}\n",
        "  \\end{bmatrix}\n",
        "  $$\n",
        "- \\( w \\) is the coefficient vector, including the intercept \\( w_0 \\)."
      ]
    },
    {
      "cell_type": "code",
      "execution_count": 14,
      "metadata": {
        "id": "eHxuMU0ZU38l"
      },
      "outputs": [],
      "source": [
        "\n",
        "# Додавання одиничного стовпця для градієнтного спуску\n",
        "bias_matrix = np.ones((X.shape[0], 1))\n",
        "X_with_bias = np.hstack([bias_matrix, X])\n",
        "\n",
        "# Ініціалізація параметрів w\n",
        "num_features = X_with_bias.shape[1]\n",
        "w = np.zeros(num_features)"
      ]
    },
    {
      "cell_type": "markdown",
      "metadata": {
        "id": "IyALd9ZSWMNN"
      },
      "source": [
        "**One step of gradient descent**\n",
        "\n",
        "один крок градієнтного спуску"
      ]
    },
    {
      "cell_type": "code",
      "execution_count": 15,
      "metadata": {
        "colab": {
          "base_uri": "https://localhost:8080/"
        },
        "id": "ByN7xep6WNJV",
        "outputId": "77a211da-9415-4c68-f571-f2834be936a3"
      },
      "outputs": [
        {
          "name": "stdout",
          "output_type": "stream",
          "text": [
            "One step w (один крок градієнтного спуску):  [1.51560721e-20 5.35997346e-05 3.66494026e-05 5.17545339e-05]\n",
            "One step loss:  [0.49993106]\n"
          ]
        }
      ],
      "source": [
        "# Налаштування параметрів градієнтного спуску\n",
        "learning_rate = 0.0001\n",
        "num_iterations = 1\n",
        "\n",
        "# Запуск градієнтного спуску\n",
        "final_weight, loss_history = gradient_descent(X_with_bias, y, w, num_iterations, learning_rate)\n",
        "\n",
        "print(\"One step w (один крок градієнтного спуску): \", final_weight)\n",
        "print('One step loss: ', loss_history)"
      ]
    },
    {
      "cell_type": "markdown",
      "metadata": {
        "id": "Eo5dSTTpVqCJ"
      },
      "source": [
        "---\n",
        "# 4. Find the best parameters w for the dataset predicting the price of a house depending on the area, number of bathrooms, and number of bedrooms;\n",
        "\n",
        "знайдіть найкращі параметри w для датасету прогнозуючу ціну на будинок залежно від площі, кількості ванних кімнат та кількості спалень;\n",
        "  ---"
      ]
    },
    {
      "cell_type": "code",
      "execution_count": 16,
      "metadata": {
        "colab": {
          "base_uri": "https://localhost:8080/"
        },
        "id": "KVqo6Mz0Xo4E",
        "outputId": "97a59d07-157d-482a-ae07-e73461f9e823"
      },
      "outputs": [
        {
          "name": "stdout",
          "output_type": "stream",
          "text": [
            "Оптимальні параметри w (градієнтний спуск): [1.61621257e-16 3.04066735e-01 1.67122120e-01 2.73243714e-01]\n"
          ]
        }
      ],
      "source": [
        "# Налаштування параметрів градієнтного спуску\n",
        "learning_rate = 0.001\n",
        "num_iterations = 1000\n",
        "\n",
        "# Запуск градієнтного спуску\n",
        "final_weights, loss_history = gradient_descent(X_with_bias, y, w, num_iterations, learning_rate)\n",
        "\n",
        "print(\"Оптимальні параметри w (градієнтний спуск):\", final_weights)\n"
      ]
    },
    {
      "cell_type": "markdown",
      "metadata": {
        "id": "j8D4GXhuXiv-"
      },
      "source": [
        "---\n",
        "# 5. Find these same parameters using an analytical solution\n",
        "знайдіть ці ж параметри за допомогою аналітичного рішення.\n",
        "---"
      ]
    },
    {
      "cell_type": "code",
      "execution_count": 17,
      "metadata": {
        "colab": {
          "base_uri": "https://localhost:8080/"
        },
        "id": "_4mQlyFMXtJN",
        "outputId": "a798397b-b82f-4146-f1f9-16bffb8d542f"
      },
      "outputs": [
        {
          "name": "stdout",
          "output_type": "stream",
          "text": [
            "Коефіцієнти (LinearRegression): [0.43945209 0.16052866 0.37234442]\n",
            "Зміщення (intercept_) (LinearRegression): 3.1636120159920043e-16\n"
          ]
        }
      ],
      "source": [
        "\n",
        "# Навчання моделі LinearRegression\n",
        "model = LinearRegression()\n",
        "model.fit(X, y)\n",
        "\n",
        "# Отримання коефіцієнтів з LinearRegression\n",
        "print(f\"Коефіцієнти (LinearRegression): {model.coef_}\")\n",
        "print(f\"Зміщення (intercept_) (LinearRegression): {model.intercept_}\")\n"
      ]
    },
    {
      "cell_type": "markdown",
      "metadata": {
        "id": "bB2NKo34YGXK"
      },
      "source": [
        "---\n",
        "# 6. Compare the results obtained.\n",
        "порівняйте отримані результати.\n",
        "---"
      ]
    },
    {
      "cell_type": "code",
      "execution_count": 20,
      "metadata": {
        "colab": {
          "base_uri": "https://localhost:8080/"
        },
        "id": "zDrDM6EbYR1b",
        "outputId": "daff55c7-bd95-41f5-d022-02bd95de38ed"
      },
      "outputs": [
        {
          "name": "stdout",
          "output_type": "stream",
          "text": [
            "     Feature  Gradient Descent  Linear Regression\n",
            "0  Intercept          0.000000           0.000000\n",
            "1       area          0.304067           0.439452\n",
            "2   bedrooms          0.167122           0.160529\n",
            "3  bathrooms          0.273244           0.372344\n"
          ]
        }
      ],
      "source": [
        "# Порівняння коефіцієнтів:\n",
        "comparison_coef = pd.DataFrame({\n",
        "    \"Feature\": [\"Intercept\", \"area\", \"bedrooms\", \"bathrooms\"],\n",
        "    \"Gradient Descent\": [final_weights[0], final_weights[1], final_weights[2], final_weights[3]],\n",
        "    \"Linear Regression\": [model.intercept_, model.coef_[0], model.coef_[1], model.coef_[2]]\n",
        "})\n",
        "\n",
        "comparison_coef[[\"Gradient Descent\", \"Linear Regression\"]] = comparison_coef[\n",
        "    [\"Gradient Descent\", \"Linear Regression\"]\n",
        "].round(6)\n",
        "\n",
        "print(comparison_coef)"
      ]
    },
    {
      "cell_type": "markdown",
      "metadata": {
        "id": "theSuNYyZG3f"
      },
      "source": [
        "---\n",
        "# **Prediction**\n",
        "Прогнозування ціни будинка\n",
        "---"
      ]
    },
    {
      "cell_type": "code",
      "execution_count": 21,
      "metadata": {
        "colab": {
          "base_uri": "https://localhost:8080/",
          "height": 206
        },
        "id": "vfBTOiAUY2-f",
        "outputId": "bc36bd88-c046-4179-ff2e-9f9bda07d9ef"
      },
      "outputs": [
        {
          "data": {
            "text/html": [
              "<div>\n",
              "<style scoped>\n",
              "    .dataframe tbody tr th:only-of-type {\n",
              "        vertical-align: middle;\n",
              "    }\n",
              "\n",
              "    .dataframe tbody tr th {\n",
              "        vertical-align: top;\n",
              "    }\n",
              "\n",
              "    .dataframe thead th {\n",
              "        text-align: right;\n",
              "    }\n",
              "</style>\n",
              "<table border=\"1\" class=\"dataframe\">\n",
              "  <thead>\n",
              "    <tr style=\"text-align: right;\">\n",
              "      <th></th>\n",
              "      <th>area</th>\n",
              "      <th>bedrooms</th>\n",
              "      <th>bathrooms</th>\n",
              "      <th>price</th>\n",
              "      <th>Predicted Price (GD)</th>\n",
              "      <th>Predicted Price (LR)</th>\n",
              "    </tr>\n",
              "  </thead>\n",
              "  <tbody>\n",
              "    <tr>\n",
              "      <th>0</th>\n",
              "      <td>7420</td>\n",
              "      <td>4</td>\n",
              "      <td>2</td>\n",
              "      <td>13300000</td>\n",
              "      <td>6525792</td>\n",
              "      <td>7036627</td>\n",
              "    </tr>\n",
              "    <tr>\n",
              "      <th>1</th>\n",
              "      <td>8960</td>\n",
              "      <td>4</td>\n",
              "      <td>4</td>\n",
              "      <td>12250000</td>\n",
              "      <td>8963682</td>\n",
              "      <td>10392021</td>\n",
              "    </tr>\n",
              "    <tr>\n",
              "      <th>2</th>\n",
              "      <td>9960</td>\n",
              "      <td>3</td>\n",
              "      <td>2</td>\n",
              "      <td>12250000</td>\n",
              "      <td>6767932</td>\n",
              "      <td>7591865</td>\n",
              "    </tr>\n",
              "    <tr>\n",
              "      <th>3</th>\n",
              "      <td>7500</td>\n",
              "      <td>4</td>\n",
              "      <td>2</td>\n",
              "      <td>12215000</td>\n",
              "      <td>6546758</td>\n",
              "      <td>7066928</td>\n",
              "    </tr>\n",
              "    <tr>\n",
              "      <th>4</th>\n",
              "      <td>7420</td>\n",
              "      <td>4</td>\n",
              "      <td>1</td>\n",
              "      <td>11410000</td>\n",
              "      <td>5508644</td>\n",
              "      <td>5650578</td>\n",
              "    </tr>\n",
              "  </tbody>\n",
              "</table>\n",
              "</div>"
            ],
            "text/plain": [
              "   area  bedrooms  bathrooms     price  Predicted Price (GD)  \\\n",
              "0  7420         4          2  13300000               6525792   \n",
              "1  8960         4          4  12250000               8963682   \n",
              "2  9960         3          2  12250000               6767932   \n",
              "3  7500         4          2  12215000               6546758   \n",
              "4  7420         4          1  11410000               5508644   \n",
              "\n",
              "   Predicted Price (LR)  \n",
              "0               7036627  \n",
              "1              10392021  \n",
              "2               7591865  \n",
              "3               7066928  \n",
              "4               5650578  "
            ]
          },
          "execution_count": 21,
          "metadata": {},
          "output_type": "execute_result"
        }
      ],
      "source": [
        "\n",
        "# Прогнозування на основі моделі LinearRegression\n",
        "y_pred_lr = model.predict(X)\n",
        "\n",
        "# Прогнозування за допомогою градієнтного спуску\n",
        "y_pred_gd = hypothesis(X_with_bias, final_weights)\n",
        "\n",
        "# Зворотне масштабування прогнозованих значень\n",
        "y_pred_lr_rescaled = scaler.inverse_transform(y_pred_lr.reshape(-1, 1)).flatten()\n",
        "y_pred_gd_rescaled = scaler.inverse_transform(y_pred_gd.reshape(-1, 1)).flatten()\n",
        "\n",
        "# Створення таблиці з фактичними та прогнозованими значеннями для обох моделей\n",
        "predicted_data = data.copy()\n",
        "# predicted_data['Predicted Price (LR)'] = y_pred_lr_rescaled.round()\n",
        "# predicted_data['Predicted Price (GD)'] = y_pred_gd_rescaled.round()\n",
        "predicted_data['Predicted Price (LR)'] = y_pred_lr_rescaled\n",
        "predicted_data['Predicted Price (GD)'] = y_pred_gd_rescaled\n",
        "predicted_data['Predicted Price (LR)'] = predicted_data['Predicted Price (LR)'].apply(lambda x: round(x))\n",
        "predicted_data['Predicted Price (GD)'] = predicted_data['Predicted Price (GD)'].apply(lambda x: round(x))\n",
        "\n",
        "# Виведення таблиці з фактичними та прогнозованими значеннями\n",
        "predicted_data[['area', 'bedrooms', 'bathrooms', 'price', 'Predicted Price (GD)', 'Predicted Price (LR)']].head()\n",
        "\n"
      ]
    },
    {
      "cell_type": "markdown",
      "metadata": {
        "id": "m3SUG4aoZanI"
      },
      "source": [
        "---\n",
        "# Forecast accuracy\n",
        "Точність прогнозу\n",
        "---"
      ]
    },
    {
      "cell_type": "markdown",
      "metadata": {
        "id": "CDe0k4U0Z_EE"
      },
      "source": [
        "1. R^2 (Коефіцієнт детермінації):"
      ]
    },
    {
      "cell_type": "code",
      "execution_count": 22,
      "metadata": {
        "colab": {
          "base_uri": "https://localhost:8080/"
        },
        "id": "HUw53id0Z38U",
        "outputId": "0ecc37e5-d506-4ae5-aa4c-8f46ae469d13"
      },
      "outputs": [
        {
          "name": "stdout",
          "output_type": "stream",
          "text": [
            "R^2 для Linear Regression: -24422660858894.73\n",
            "R^2 для Gradient Descent: -23688466607314.89\n"
          ]
        }
      ],
      "source": [
        "# Обчислення R^2 для Linear Regression\n",
        "r2_lr = r2_score(y, y_pred_lr_rescaled)\n",
        "\n",
        "# Обчислення R^2 для Gradient Descent\n",
        "r2_gd = r2_score(y, y_pred_gd_rescaled)\n",
        "\n",
        "print(f\"R^2 для Linear Regression: {r2_lr}\")\n",
        "print(f\"R^2 для Gradient Descent: {r2_gd}\")"
      ]
    },
    {
      "cell_type": "markdown",
      "metadata": {
        "id": "YNyqDIyjct7A"
      },
      "source": [
        "Отже, негативне значення R² є індикатором того, що наша модель не є адекватною для даного набору даних і потребує додаткового аналізу або вдосконалення."
      ]
    },
    {
      "cell_type": "markdown",
      "metadata": {
        "id": "UF42hpraaS-J"
      },
      "source": [
        "2. МSE (Середньоквадратична помилка) та RMSE (Корінь середньоквадратичної помилки)"
      ]
    },
    {
      "cell_type": "code",
      "execution_count": 23,
      "metadata": {
        "colab": {
          "base_uri": "https://localhost:8080/"
        },
        "id": "dd-2xwoGabnb",
        "outputId": "b1ccf291-2a33-45e0-8717-c725f671b961"
      },
      "outputs": [
        {
          "name": "stdout",
          "output_type": "stream",
          "text": [
            "MSE для Linear Regression: 24422660858895.723\n",
            "RMSE для Linear Regression: 4941928.860161357\n",
            "MSE для Gradient Descent: 23688466607315.883\n",
            "RMSE для Gradient Descent: 4867079.885035367\n"
          ]
        }
      ],
      "source": [
        "\n",
        "# Обчислення MSE для Linear Regression\n",
        "mse_lr = mean_squared_error(y, y_pred_lr_rescaled)\n",
        "rmse_lr = np.sqrt(mse_lr)\n",
        "\n",
        "# Обчислення MSE для Gradient Descent\n",
        "mse_gd = mean_squared_error(y, y_pred_gd_rescaled)\n",
        "rmse_gd = np.sqrt(mse_gd)\n",
        "\n",
        "print(f\"MSE для Linear Regression: {mse_lr}\")\n",
        "print(f\"RMSE для Linear Regression: {rmse_lr}\")\n",
        "print(f\"MSE для Gradient Descent: {mse_gd}\")\n",
        "print(f\"RMSE для Gradient Descent: {rmse_gd}\")"
      ]
    },
    {
      "cell_type": "markdown",
      "metadata": {
        "id": "BCDoVd8Fa3U5"
      },
      "source": [
        "3. MAE (Середня абсолютна помилка)"
      ]
    },
    {
      "cell_type": "code",
      "execution_count": 24,
      "metadata": {
        "colab": {
          "base_uri": "https://localhost:8080/"
        },
        "id": "JlIUNlTja5Wx",
        "outputId": "e5b79fd9-7a41-482e-fcb1-029624cf9fdf"
      },
      "outputs": [
        {
          "name": "stdout",
          "output_type": "stream",
          "text": [
            "MAE для Linear Regression: 4766729.247706422\n",
            "MAE для Gradient Descent: 4766729.247706422\n"
          ]
        }
      ],
      "source": [
        "# Обчислення MAE для Linear Regression\n",
        "mae_lr = mean_absolute_error(y, y_pred_lr_rescaled)\n",
        "\n",
        "# Обчислення MAE для Gradient Descent\n",
        "mae_gd = mean_absolute_error(y, y_pred_gd_rescaled)\n",
        "\n",
        "print(f\"MAE для Linear Regression: {mae_lr}\")\n",
        "print(f\"MAE для Gradient Descent: {mae_gd}\")"
      ]
    },
    {
      "cell_type": "code",
      "execution_count": 25,
      "metadata": {
        "colab": {
          "base_uri": "https://localhost:8080/"
        },
        "id": "SpcvAp7CdeWv",
        "outputId": "5f0cba0d-4cd2-496f-ef53-7f49a704d56d"
      },
      "outputs": [
        {
          "name": "stdout",
          "output_type": "stream",
          "text": [
            "Мінімальна ціна: 1750000\n",
            "Максимальна ціна: 13300000\n"
          ]
        }
      ],
      "source": [
        "min_price = data['price'].min()\n",
        "max_price = data['price'].max()\n",
        "\n",
        "print(f\"Мінімальна ціна: {min_price}\")\n",
        "print(f\"Максимальна ціна: {max_price}\")"
      ]
    },
    {
      "cell_type": "markdown",
      "metadata": {
        "id": "9TMzZIsjkG_3"
      },
      "source": [
        "---\n",
        "# **Visualisation**\n",
        "---"
      ]
    },
    {
      "cell_type": "code",
      "execution_count": null,
      "metadata": {
        "colab": {
          "base_uri": "https://localhost:8080/",
          "height": 725
        },
        "id": "9VT_3WKhZY9X",
        "outputId": "8afc3ff5-1cc7-43ff-d184-de0b3a6ba730"
      },
      "outputs": [
        {
          "data": {
            "image/png": "[encoded data removed]",
            "text/plain": [
              "<Figure size 1400x800 with 1 Axes>"
            ]
          },
          "metadata": {},
          "output_type": "display_data"
        }
      ],
      "source": [
        "\n",
        "plt.figure(figsize=(14, 8))\n",
        "\n",
        "plt.plot(data.index, data['price'], label='Actual Price', color='blue', linestyle='-', marker='o', linewidth=3)\n",
        "\n",
        "plt.plot(predicted_data.index, predicted_data['Predicted Price (GD)'], label='Predicted Price (GD)', color='red', linestyle='--', linewidth=6)\n",
        "\n",
        "plt.plot(predicted_data.index, predicted_data['Predicted Price (LR)'], label='Predicted Price (LR)', color='green', linestyle='-.', linewidth=3)\n",
        "\n",
        "plt.title('Actual vs Predicted Prices', fontsize=16)\n",
        "plt.xlabel('Sample Index', fontsize=14)\n",
        "plt.ylabel('Price', fontsize=14)\n",
        "plt.legend()\n",
        "\n",
        "plt.show()\n",
        "\n"
      ]
    }
  ],
  "metadata": {
    "colab": {
      "include_colab_link": true,
      "provenance": []
    },
    "kernelspec": {
      "display_name": "conda_env_example",
      "language": "python",
      "name": "python3"
    },
    "language_info": {
      "codemirror_mode": {
        "name": "ipython",
        "version": 3
      },
      "file_extension": ".py",
      "mimetype": "text/x-python",
      "name": "python",
      "nbconvert_exporter": "python",
      "pygments_lexer": "ipython3",
      "version": "3.11.11"
    }
  },
  "nbformat": 4,
  "nbformat_minor": 0
}
