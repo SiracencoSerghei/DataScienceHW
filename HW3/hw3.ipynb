{
  "cells": [
    {
      "cell_type": "markdown",
      "metadata": {
        "id": "view-in-github",
        "colab_type": "text"
      },
      "source": [
        "<a href=\"https://colab.research.google.com/github/SiracencoSerghei/DataScienceHW/blob/main/HW3/hw3.ipynb\" target=\"_parent\"><img src=\"https://colab.research.google.com/assets/colab-badge.svg\" alt=\"Open In Colab\"/></a>"
      ]
    },
    {
      "cell_type": "code",
      "execution_count": 187,
      "metadata": {
        "id": "Jb6SJ4JaRPcB"
      },
      "outputs": [],
      "source": [
        "import numpy as np\n",
        "import pandas as pd\n",
        "from sklearn.linear_model import LinearRegression\n",
        "from sklearn.preprocessing import StandardScaler\n",
        "from sklearn.metrics import mean_squared_error, mean_absolute_error, r2_score\n",
        "\n",
        "import matplotlib.pyplot as plt\n",
        "import seaborn as sns\n",
        "%matplotlib inline"
      ]
    },
    {
      "cell_type": "markdown",
      "source": [
        "# **`Data collection`**"
      ],
      "metadata": {
        "id": "ViH-tAcTQtp8"
      }
    },
    {
      "cell_type": "code",
      "source": [
        "url = 'https://drive.google.com/uc?id=1-rAa4XT4_fI0dOBlMNuE6a7jB0wln_Qo'\n",
        "\n",
        "# Read the CSV file\n",
        "try:\n",
        "    data = pd.read_csv(url)\n",
        "except Exception as e:\n",
        "    print(f\"Error reading CSV: {e}\")"
      ],
      "metadata": {
        "id": "5effNYrbQ1ht"
      },
      "execution_count": 188,
      "outputs": []
    },
    {
      "cell_type": "markdown",
      "source": [
        "---\n",
        "# **Data analysis.**    Аналіз даних.\n",
        "---"
      ],
      "metadata": {
        "id": "ygF19hUbQ_rU"
      }
    },
    {
      "cell_type": "code",
      "source": [
        "data.sample(5)"
      ],
      "metadata": {
        "id": "S-o3nEYMRAfw",
        "outputId": "16e37ad7-0ba2-4e26-d461-a2971ac3ba24",
        "colab": {
          "base_uri": "https://localhost:8080/",
          "height": 206
        }
      },
      "execution_count": 189,
      "outputs": [
        {
          "output_type": "execute_result",
          "data": {
            "text/plain": [
              "       price  area  bedrooms  bathrooms  stories mainroad guestroom basement  \\\n",
              "489  2835000  3300         3          1        2       no        no       no   \n",
              "148  5600000  6360         3          1        3      yes        no       no   \n",
              "263  4410000  3968         3          1        2       no        no       no   \n",
              "311  4123000  6060         2          1        1      yes        no      yes   \n",
              "338  3885000  3780         2          1        2      yes       yes      yes   \n",
              "\n",
              "    hotwaterheating airconditioning  parking prefarea furnishingstatus  \n",
              "489              no              no        1       no   semi-furnished  \n",
              "148              no              no        0      yes   semi-furnished  \n",
              "263              no              no        0       no   semi-furnished  \n",
              "311              no              no        1       no   semi-furnished  \n",
              "338              no              no        0       no   semi-furnished  "
            ],
            "text/html": [
              "\n",
              "  <div id=\"df-1318dc81-5e22-4bbe-a27e-70d85c53ccc3\" class=\"colab-df-container\">\n",
              "    <div>\n",
              "<style scoped>\n",
              "    .dataframe tbody tr th:only-of-type {\n",
              "        vertical-align: middle;\n",
              "    }\n",
              "\n",
              "    .dataframe tbody tr th {\n",
              "        vertical-align: top;\n",
              "    }\n",
              "\n",
              "    .dataframe thead th {\n",
              "        text-align: right;\n",
              "    }\n",
              "</style>\n",
              "<table border=\"1\" class=\"dataframe\">\n",
              "  <thead>\n",
              "    <tr style=\"text-align: right;\">\n",
              "      <th></th>\n",
              "      <th>price</th>\n",
              "      <th>area</th>\n",
              "      <th>bedrooms</th>\n",
              "      <th>bathrooms</th>\n",
              "      <th>stories</th>\n",
              "      <th>mainroad</th>\n",
              "      <th>guestroom</th>\n",
              "      <th>basement</th>\n",
              "      <th>hotwaterheating</th>\n",
              "      <th>airconditioning</th>\n",
              "      <th>parking</th>\n",
              "      <th>prefarea</th>\n",
              "      <th>furnishingstatus</th>\n",
              "    </tr>\n",
              "  </thead>\n",
              "  <tbody>\n",
              "    <tr>\n",
              "      <th>489</th>\n",
              "      <td>2835000</td>\n",
              "      <td>3300</td>\n",
              "      <td>3</td>\n",
              "      <td>1</td>\n",
              "      <td>2</td>\n",
              "      <td>no</td>\n",
              "      <td>no</td>\n",
              "      <td>no</td>\n",
              "      <td>no</td>\n",
              "      <td>no</td>\n",
              "      <td>1</td>\n",
              "      <td>no</td>\n",
              "      <td>semi-furnished</td>\n",
              "    </tr>\n",
              "    <tr>\n",
              "      <th>148</th>\n",
              "      <td>5600000</td>\n",
              "      <td>6360</td>\n",
              "      <td>3</td>\n",
              "      <td>1</td>\n",
              "      <td>3</td>\n",
              "      <td>yes</td>\n",
              "      <td>no</td>\n",
              "      <td>no</td>\n",
              "      <td>no</td>\n",
              "      <td>no</td>\n",
              "      <td>0</td>\n",
              "      <td>yes</td>\n",
              "      <td>semi-furnished</td>\n",
              "    </tr>\n",
              "    <tr>\n",
              "      <th>263</th>\n",
              "      <td>4410000</td>\n",
              "      <td>3968</td>\n",
              "      <td>3</td>\n",
              "      <td>1</td>\n",
              "      <td>2</td>\n",
              "      <td>no</td>\n",
              "      <td>no</td>\n",
              "      <td>no</td>\n",
              "      <td>no</td>\n",
              "      <td>no</td>\n",
              "      <td>0</td>\n",
              "      <td>no</td>\n",
              "      <td>semi-furnished</td>\n",
              "    </tr>\n",
              "    <tr>\n",
              "      <th>311</th>\n",
              "      <td>4123000</td>\n",
              "      <td>6060</td>\n",
              "      <td>2</td>\n",
              "      <td>1</td>\n",
              "      <td>1</td>\n",
              "      <td>yes</td>\n",
              "      <td>no</td>\n",
              "      <td>yes</td>\n",
              "      <td>no</td>\n",
              "      <td>no</td>\n",
              "      <td>1</td>\n",
              "      <td>no</td>\n",
              "      <td>semi-furnished</td>\n",
              "    </tr>\n",
              "    <tr>\n",
              "      <th>338</th>\n",
              "      <td>3885000</td>\n",
              "      <td>3780</td>\n",
              "      <td>2</td>\n",
              "      <td>1</td>\n",
              "      <td>2</td>\n",
              "      <td>yes</td>\n",
              "      <td>yes</td>\n",
              "      <td>yes</td>\n",
              "      <td>no</td>\n",
              "      <td>no</td>\n",
              "      <td>0</td>\n",
              "      <td>no</td>\n",
              "      <td>semi-furnished</td>\n",
              "    </tr>\n",
              "  </tbody>\n",
              "</table>\n",
              "</div>\n",
              "    <div class=\"colab-df-buttons\">\n",
              "\n",
              "  <div class=\"colab-df-container\">\n",
              "    <button class=\"colab-df-convert\" onclick=\"convertToInteractive('df-1318dc81-5e22-4bbe-a27e-70d85c53ccc3')\"\n",
              "            title=\"Convert this dataframe to an interactive table.\"\n",
              "            style=\"display:none;\">\n",
              "\n",
              "  <svg xmlns=\"http://www.w3.org/2000/svg\" height=\"24px\" viewBox=\"0 -960 960 960\">\n",
              "    <path d=\"M120-120v-720h720v720H120Zm60-500h600v-160H180v160Zm220 220h160v-160H400v160Zm0 220h160v-160H400v160ZM180-400h160v-160H180v160Zm440 0h160v-160H620v160ZM180-180h160v-160H180v160Zm440 0h160v-160H620v160Z\"/>\n",
              "  </svg>\n",
              "    </button>\n",
              "\n",
              "  <style>\n",
              "    .colab-df-container {\n",
              "      display:flex;\n",
              "      gap: 12px;\n",
              "    }\n",
              "\n",
              "    .colab-df-convert {\n",
              "      background-color: #E8F0FE;\n",
              "      border: none;\n",
              "      border-radius: 50%;\n",
              "      cursor: pointer;\n",
              "      display: none;\n",
              "      fill: #1967D2;\n",
              "      height: 32px;\n",
              "      padding: 0 0 0 0;\n",
              "      width: 32px;\n",
              "    }\n",
              "\n",
              "    .colab-df-convert:hover {\n",
              "      background-color: #E2EBFA;\n",
              "      box-shadow: 0px 1px 2px rgba(60, 64, 67, 0.3), 0px 1px 3px 1px rgba(60, 64, 67, 0.15);\n",
              "      fill: #174EA6;\n",
              "    }\n",
              "\n",
              "    .colab-df-buttons div {\n",
              "      margin-bottom: 4px;\n",
              "    }\n",
              "\n",
              "    [theme=dark] .colab-df-convert {\n",
              "      background-color: #3B4455;\n",
              "      fill: #D2E3FC;\n",
              "    }\n",
              "\n",
              "    [theme=dark] .colab-df-convert:hover {\n",
              "      background-color: #434B5C;\n",
              "      box-shadow: 0px 1px 3px 1px rgba(0, 0, 0, 0.15);\n",
              "      filter: drop-shadow(0px 1px 2px rgba(0, 0, 0, 0.3));\n",
              "      fill: #FFFFFF;\n",
              "    }\n",
              "  </style>\n",
              "\n",
              "    <script>\n",
              "      const buttonEl =\n",
              "        document.querySelector('#df-1318dc81-5e22-4bbe-a27e-70d85c53ccc3 button.colab-df-convert');\n",
              "      buttonEl.style.display =\n",
              "        google.colab.kernel.accessAllowed ? 'block' : 'none';\n",
              "\n",
              "      async function convertToInteractive(key) {\n",
              "        const element = document.querySelector('#df-1318dc81-5e22-4bbe-a27e-70d85c53ccc3');\n",
              "        const dataTable =\n",
              "          await google.colab.kernel.invokeFunction('convertToInteractive',\n",
              "                                                    [key], {});\n",
              "        if (!dataTable) return;\n",
              "\n",
              "        const docLinkHtml = 'Like what you see? Visit the ' +\n",
              "          '<a target=\"_blank\" href=https://colab.research.google.com/notebooks/data_table.ipynb>data table notebook</a>'\n",
              "          + ' to learn more about interactive tables.';\n",
              "        element.innerHTML = '';\n",
              "        dataTable['output_type'] = 'display_data';\n",
              "        await google.colab.output.renderOutput(dataTable, element);\n",
              "        const docLink = document.createElement('div');\n",
              "        docLink.innerHTML = docLinkHtml;\n",
              "        element.appendChild(docLink);\n",
              "      }\n",
              "    </script>\n",
              "  </div>\n",
              "\n",
              "\n",
              "<div id=\"df-94eab461-4ecd-4722-bd29-ceeccc206315\">\n",
              "  <button class=\"colab-df-quickchart\" onclick=\"quickchart('df-94eab461-4ecd-4722-bd29-ceeccc206315')\"\n",
              "            title=\"Suggest charts\"\n",
              "            style=\"display:none;\">\n",
              "\n",
              "<svg xmlns=\"http://www.w3.org/2000/svg\" height=\"24px\"viewBox=\"0 0 24 24\"\n",
              "     width=\"24px\">\n",
              "    <g>\n",
              "        <path d=\"M19 3H5c-1.1 0-2 .9-2 2v14c0 1.1.9 2 2 2h14c1.1 0 2-.9 2-2V5c0-1.1-.9-2-2-2zM9 17H7v-7h2v7zm4 0h-2V7h2v10zm4 0h-2v-4h2v4z\"/>\n",
              "    </g>\n",
              "</svg>\n",
              "  </button>\n",
              "\n",
              "<style>\n",
              "  .colab-df-quickchart {\n",
              "      --bg-color: #E8F0FE;\n",
              "      --fill-color: #1967D2;\n",
              "      --hover-bg-color: #E2EBFA;\n",
              "      --hover-fill-color: #174EA6;\n",
              "      --disabled-fill-color: #AAA;\n",
              "      --disabled-bg-color: #DDD;\n",
              "  }\n",
              "\n",
              "  [theme=dark] .colab-df-quickchart {\n",
              "      --bg-color: #3B4455;\n",
              "      --fill-color: #D2E3FC;\n",
              "      --hover-bg-color: #434B5C;\n",
              "      --hover-fill-color: #FFFFFF;\n",
              "      --disabled-bg-color: #3B4455;\n",
              "      --disabled-fill-color: #666;\n",
              "  }\n",
              "\n",
              "  .colab-df-quickchart {\n",
              "    background-color: var(--bg-color);\n",
              "    border: none;\n",
              "    border-radius: 50%;\n",
              "    cursor: pointer;\n",
              "    display: none;\n",
              "    fill: var(--fill-color);\n",
              "    height: 32px;\n",
              "    padding: 0;\n",
              "    width: 32px;\n",
              "  }\n",
              "\n",
              "  .colab-df-quickchart:hover {\n",
              "    background-color: var(--hover-bg-color);\n",
              "    box-shadow: 0 1px 2px rgba(60, 64, 67, 0.3), 0 1px 3px 1px rgba(60, 64, 67, 0.15);\n",
              "    fill: var(--button-hover-fill-color);\n",
              "  }\n",
              "\n",
              "  .colab-df-quickchart-complete:disabled,\n",
              "  .colab-df-quickchart-complete:disabled:hover {\n",
              "    background-color: var(--disabled-bg-color);\n",
              "    fill: var(--disabled-fill-color);\n",
              "    box-shadow: none;\n",
              "  }\n",
              "\n",
              "  .colab-df-spinner {\n",
              "    border: 2px solid var(--fill-color);\n",
              "    border-color: transparent;\n",
              "    border-bottom-color: var(--fill-color);\n",
              "    animation:\n",
              "      spin 1s steps(1) infinite;\n",
              "  }\n",
              "\n",
              "  @keyframes spin {\n",
              "    0% {\n",
              "      border-color: transparent;\n",
              "      border-bottom-color: var(--fill-color);\n",
              "      border-left-color: var(--fill-color);\n",
              "    }\n",
              "    20% {\n",
              "      border-color: transparent;\n",
              "      border-left-color: var(--fill-color);\n",
              "      border-top-color: var(--fill-color);\n",
              "    }\n",
              "    30% {\n",
              "      border-color: transparent;\n",
              "      border-left-color: var(--fill-color);\n",
              "      border-top-color: var(--fill-color);\n",
              "      border-right-color: var(--fill-color);\n",
              "    }\n",
              "    40% {\n",
              "      border-color: transparent;\n",
              "      border-right-color: var(--fill-color);\n",
              "      border-top-color: var(--fill-color);\n",
              "    }\n",
              "    60% {\n",
              "      border-color: transparent;\n",
              "      border-right-color: var(--fill-color);\n",
              "    }\n",
              "    80% {\n",
              "      border-color: transparent;\n",
              "      border-right-color: var(--fill-color);\n",
              "      border-bottom-color: var(--fill-color);\n",
              "    }\n",
              "    90% {\n",
              "      border-color: transparent;\n",
              "      border-bottom-color: var(--fill-color);\n",
              "    }\n",
              "  }\n",
              "</style>\n",
              "\n",
              "  <script>\n",
              "    async function quickchart(key) {\n",
              "      const quickchartButtonEl =\n",
              "        document.querySelector('#' + key + ' button');\n",
              "      quickchartButtonEl.disabled = true;  // To prevent multiple clicks.\n",
              "      quickchartButtonEl.classList.add('colab-df-spinner');\n",
              "      try {\n",
              "        const charts = await google.colab.kernel.invokeFunction(\n",
              "            'suggestCharts', [key], {});\n",
              "      } catch (error) {\n",
              "        console.error('Error during call to suggestCharts:', error);\n",
              "      }\n",
              "      quickchartButtonEl.classList.remove('colab-df-spinner');\n",
              "      quickchartButtonEl.classList.add('colab-df-quickchart-complete');\n",
              "    }\n",
              "    (() => {\n",
              "      let quickchartButtonEl =\n",
              "        document.querySelector('#df-94eab461-4ecd-4722-bd29-ceeccc206315 button');\n",
              "      quickchartButtonEl.style.display =\n",
              "        google.colab.kernel.accessAllowed ? 'block' : 'none';\n",
              "    })();\n",
              "  </script>\n",
              "</div>\n",
              "\n",
              "    </div>\n",
              "  </div>\n"
            ],
            "application/vnd.google.colaboratory.intrinsic+json": {
              "type": "dataframe",
              "summary": "{\n  \"name\": \"data\",\n  \"rows\": 5,\n  \"fields\": [\n    {\n      \"column\": \"price\",\n      \"properties\": {\n        \"dtype\": \"number\",\n        \"std\": 996011,\n        \"min\": 2835000,\n        \"max\": 5600000,\n        \"num_unique_values\": 5,\n        \"samples\": [\n          5600000,\n          3885000,\n          4410000\n        ],\n        \"semantic_type\": \"\",\n        \"description\": \"\"\n      }\n    },\n    {\n      \"column\": \"area\",\n      \"properties\": {\n        \"dtype\": \"number\",\n        \"std\": 1409,\n        \"min\": 3300,\n        \"max\": 6360,\n        \"num_unique_values\": 5,\n        \"samples\": [\n          6360,\n          3780,\n          3968\n        ],\n        \"semantic_type\": \"\",\n        \"description\": \"\"\n      }\n    },\n    {\n      \"column\": \"bedrooms\",\n      \"properties\": {\n        \"dtype\": \"number\",\n        \"std\": 0,\n        \"min\": 2,\n        \"max\": 3,\n        \"num_unique_values\": 2,\n        \"samples\": [\n          2,\n          3\n        ],\n        \"semantic_type\": \"\",\n        \"description\": \"\"\n      }\n    },\n    {\n      \"column\": \"bathrooms\",\n      \"properties\": {\n        \"dtype\": \"number\",\n        \"std\": 0,\n        \"min\": 1,\n        \"max\": 1,\n        \"num_unique_values\": 1,\n        \"samples\": [\n          1\n        ],\n        \"semantic_type\": \"\",\n        \"description\": \"\"\n      }\n    },\n    {\n      \"column\": \"stories\",\n      \"properties\": {\n        \"dtype\": \"number\",\n        \"std\": 0,\n        \"min\": 1,\n        \"max\": 3,\n        \"num_unique_values\": 3,\n        \"samples\": [\n          2\n        ],\n        \"semantic_type\": \"\",\n        \"description\": \"\"\n      }\n    },\n    {\n      \"column\": \"mainroad\",\n      \"properties\": {\n        \"dtype\": \"category\",\n        \"num_unique_values\": 2,\n        \"samples\": [\n          \"yes\"\n        ],\n        \"semantic_type\": \"\",\n        \"description\": \"\"\n      }\n    },\n    {\n      \"column\": \"guestroom\",\n      \"properties\": {\n        \"dtype\": \"category\",\n        \"num_unique_values\": 2,\n        \"samples\": [\n          \"yes\"\n        ],\n        \"semantic_type\": \"\",\n        \"description\": \"\"\n      }\n    },\n    {\n      \"column\": \"basement\",\n      \"properties\": {\n        \"dtype\": \"category\",\n        \"num_unique_values\": 2,\n        \"samples\": [\n          \"yes\"\n        ],\n        \"semantic_type\": \"\",\n        \"description\": \"\"\n      }\n    },\n    {\n      \"column\": \"hotwaterheating\",\n      \"properties\": {\n        \"dtype\": \"category\",\n        \"num_unique_values\": 1,\n        \"samples\": [\n          \"no\"\n        ],\n        \"semantic_type\": \"\",\n        \"description\": \"\"\n      }\n    },\n    {\n      \"column\": \"airconditioning\",\n      \"properties\": {\n        \"dtype\": \"category\",\n        \"num_unique_values\": 1,\n        \"samples\": [\n          \"no\"\n        ],\n        \"semantic_type\": \"\",\n        \"description\": \"\"\n      }\n    },\n    {\n      \"column\": \"parking\",\n      \"properties\": {\n        \"dtype\": \"number\",\n        \"std\": 0,\n        \"min\": 0,\n        \"max\": 1,\n        \"num_unique_values\": 2,\n        \"samples\": [\n          0\n        ],\n        \"semantic_type\": \"\",\n        \"description\": \"\"\n      }\n    },\n    {\n      \"column\": \"prefarea\",\n      \"properties\": {\n        \"dtype\": \"category\",\n        \"num_unique_values\": 2,\n        \"samples\": [\n          \"yes\"\n        ],\n        \"semantic_type\": \"\",\n        \"description\": \"\"\n      }\n    },\n    {\n      \"column\": \"furnishingstatus\",\n      \"properties\": {\n        \"dtype\": \"category\",\n        \"num_unique_values\": 1,\n        \"samples\": [\n          \"semi-furnished\"\n        ],\n        \"semantic_type\": \"\",\n        \"description\": \"\"\n      }\n    }\n  ]\n}"
            }
          },
          "metadata": {},
          "execution_count": 189
        }
      ]
    },
    {
      "cell_type": "code",
      "source": [
        "data[data.isna()].count()"
      ],
      "metadata": {
        "id": "Kx69h5ZQRLaZ",
        "outputId": "4a5273e0-3c5c-444d-82ac-fac72086ab79",
        "colab": {
          "base_uri": "https://localhost:8080/",
          "height": 492
        }
      },
      "execution_count": 190,
      "outputs": [
        {
          "output_type": "execute_result",
          "data": {
            "text/plain": [
              "price               0\n",
              "area                0\n",
              "bedrooms            0\n",
              "bathrooms           0\n",
              "stories             0\n",
              "mainroad            0\n",
              "guestroom           0\n",
              "basement            0\n",
              "hotwaterheating     0\n",
              "airconditioning     0\n",
              "parking             0\n",
              "prefarea            0\n",
              "furnishingstatus    0\n",
              "dtype: int64"
            ],
            "text/html": [
              "<div>\n",
              "<style scoped>\n",
              "    .dataframe tbody tr th:only-of-type {\n",
              "        vertical-align: middle;\n",
              "    }\n",
              "\n",
              "    .dataframe tbody tr th {\n",
              "        vertical-align: top;\n",
              "    }\n",
              "\n",
              "    .dataframe thead th {\n",
              "        text-align: right;\n",
              "    }\n",
              "</style>\n",
              "<table border=\"1\" class=\"dataframe\">\n",
              "  <thead>\n",
              "    <tr style=\"text-align: right;\">\n",
              "      <th></th>\n",
              "      <th>0</th>\n",
              "    </tr>\n",
              "  </thead>\n",
              "  <tbody>\n",
              "    <tr>\n",
              "      <th>price</th>\n",
              "      <td>0</td>\n",
              "    </tr>\n",
              "    <tr>\n",
              "      <th>area</th>\n",
              "      <td>0</td>\n",
              "    </tr>\n",
              "    <tr>\n",
              "      <th>bedrooms</th>\n",
              "      <td>0</td>\n",
              "    </tr>\n",
              "    <tr>\n",
              "      <th>bathrooms</th>\n",
              "      <td>0</td>\n",
              "    </tr>\n",
              "    <tr>\n",
              "      <th>stories</th>\n",
              "      <td>0</td>\n",
              "    </tr>\n",
              "    <tr>\n",
              "      <th>mainroad</th>\n",
              "      <td>0</td>\n",
              "    </tr>\n",
              "    <tr>\n",
              "      <th>guestroom</th>\n",
              "      <td>0</td>\n",
              "    </tr>\n",
              "    <tr>\n",
              "      <th>basement</th>\n",
              "      <td>0</td>\n",
              "    </tr>\n",
              "    <tr>\n",
              "      <th>hotwaterheating</th>\n",
              "      <td>0</td>\n",
              "    </tr>\n",
              "    <tr>\n",
              "      <th>airconditioning</th>\n",
              "      <td>0</td>\n",
              "    </tr>\n",
              "    <tr>\n",
              "      <th>parking</th>\n",
              "      <td>0</td>\n",
              "    </tr>\n",
              "    <tr>\n",
              "      <th>prefarea</th>\n",
              "      <td>0</td>\n",
              "    </tr>\n",
              "    <tr>\n",
              "      <th>furnishingstatus</th>\n",
              "      <td>0</td>\n",
              "    </tr>\n",
              "  </tbody>\n",
              "</table>\n",
              "</div><br><label><b>dtype:</b> int64</label>"
            ]
          },
          "metadata": {},
          "execution_count": 190
        }
      ]
    },
    {
      "cell_type": "code",
      "source": [
        "data.info()"
      ],
      "metadata": {
        "id": "SAOclOKjRWHJ",
        "outputId": "3c5b7269-1e1c-44a5-92e5-e7b705ff12c4",
        "colab": {
          "base_uri": "https://localhost:8080/"
        }
      },
      "execution_count": 191,
      "outputs": [
        {
          "output_type": "stream",
          "name": "stdout",
          "text": [
            "<class 'pandas.core.frame.DataFrame'>\n",
            "RangeIndex: 545 entries, 0 to 544\n",
            "Data columns (total 13 columns):\n",
            " #   Column            Non-Null Count  Dtype \n",
            "---  ------            --------------  ----- \n",
            " 0   price             545 non-null    int64 \n",
            " 1   area              545 non-null    int64 \n",
            " 2   bedrooms          545 non-null    int64 \n",
            " 3   bathrooms         545 non-null    int64 \n",
            " 4   stories           545 non-null    int64 \n",
            " 5   mainroad          545 non-null    object\n",
            " 6   guestroom         545 non-null    object\n",
            " 7   basement          545 non-null    object\n",
            " 8   hotwaterheating   545 non-null    object\n",
            " 9   airconditioning   545 non-null    object\n",
            " 10  parking           545 non-null    int64 \n",
            " 11  prefarea          545 non-null    object\n",
            " 12  furnishingstatus  545 non-null    object\n",
            "dtypes: int64(6), object(7)\n",
            "memory usage: 55.5+ KB\n"
          ]
        }
      ]
    },
    {
      "cell_type": "markdown",
      "source": [
        "---\n",
        "# 1. Write the linear regression hypothesis function in vector form;\n",
        "напишіть функцію гіпотези лінійної регресії у векторному вигляді;\n",
        "---"
      ],
      "metadata": {
        "id": "gTg6gB1fRQRJ"
      }
    },
    {
      "cell_type": "markdown",
      "source": [
        "$$h(x) = w_0 + w_1*x$$\n",
        "$$h(x_1,x_2) = w_0 + w_1*x_1 + w_2*x_2 $$\n",
        "$$h(x_1,...,x_n) = w_0 + w_1*x_1 + ... + w_n*x_n $$\n",
        "$$ h(x_i) = w0 + \\sum_{i=1}^n w_n*x_n $$"
      ],
      "metadata": {
        "id": "u6yko2MdBfGI"
      }
    },
    {
      "cell_type": "markdown",
      "source": [
        "$$ \\vec{x} = \\begin{pmatrix} 1 \\\\ x_1 \\\\ ..  \\\\ x_n   \\end{pmatrix},\n",
        "\\vec{w} = \\begin{pmatrix} w_0 \\\\ w_1 \\\\ ..\\\\ w_n \\end{pmatrix}$$"
      ],
      "metadata": {
        "id": "dF-qtahPBn1M"
      }
    },
    {
      "cell_type": "markdown",
      "source": [
        "$$ h(\\vec{x})= \\vec{x} \\cdot \\vec{w}  $$\n",
        "<!-- $$h(\\overrightarrow{x}) = \\overrightarrow{w} \\cdot  \\overrightarrow{x}$$ -->"
      ],
      "metadata": {
        "id": "Ch4X-3g4B1fc"
      }
    },
    {
      "cell_type": "markdown",
      "source": [
        "or\n",
        "$$\n",
        "h(\\mathbf{X}) = \\mathbf{w}^T \\mathbf{X}\n",
        "$$\n"
      ],
      "metadata": {
        "id": "bd6E0a93Yixf"
      }
    },
    {
      "cell_type": "code",
      "source": [
        "def hypothesis(X, w):\n",
        "  return np.dot(X, w)"
      ],
      "metadata": {
        "id": "L0kPjILXRXdN"
      },
      "execution_count": 192,
      "outputs": []
    },
    {
      "cell_type": "markdown",
      "source": [
        "---\n",
        "# 2. Create a function to calculate the loss function in vector form;\n",
        "створіть функцію для обчислення функції втрат у векторному вигляді;\n",
        "---"
      ],
      "metadata": {
        "id": "bmLdZEWPTYTx"
      }
    },
    {
      "cell_type": "markdown",
      "source": [
        "$$\n",
        "Loss = \\frac{1}{2n} \\| Xw - y \\|^2\n",
        "$$\n",
        "or\n",
        "$$\n",
        "J(w_0​,w_1, ... ,w_n)=\\frac{1}{2m} \\sum_{i=1}^{m}​(h(x^{(i)})−y^{(i)})^2  \n",
        "$$\n",
        "\n"
      ],
      "metadata": {
        "id": "EP9-PogfgTrW"
      }
    },
    {
      "cell_type": "code",
      "source": [
        "def loss_func(X, y, w):\n",
        "  m = len(y)\n",
        "  h = hypothesis(X, w)\n",
        "  error = h - y\n",
        "  loss = (1 / (2 * m)) * np.sum((error) ** 2)\n",
        "  return loss"
      ],
      "metadata": {
        "id": "4vaYSqcGTtS2"
      },
      "execution_count": 193,
      "outputs": []
    },
    {
      "cell_type": "markdown",
      "source": [
        "---\n",
        "# 3. Implement one step of gradient descent;\n",
        "реалізуйте один крок градієнтного спуску;\n",
        "---"
      ],
      "metadata": {
        "id": "XeDdzUM30R3p"
      }
    },
    {
      "cell_type": "markdown",
      "source": [
        "градієнт функції втрат -\n",
        "$$  \n",
        "\\nabla J(\\vec{w}) =\n",
        "\\begin{pmatrix}\n",
        "\\frac{\\partial J(\\vec{w})}{\\partial w_0} \\\\\n",
        "\\frac{\\partial J(\\vec{w})}{\\partial w_1} \\\\\n",
        "\\frac{\\partial J(\\vec{w})}{\\partial w_2} \\\\\n",
        ".. \\\\\n",
        "\\frac{\\partial J(\\vec{w})}{\\partial w_n} \\\\\n",
        "\\end{pmatrix}\n",
        "=\n",
        "\\begin{pmatrix}\n",
        "\\frac{1}{m} \\sum_{i=1}^{m} (h(x^{(i)}) - y^{(i)})\\\\\n",
        "\\frac{1}{m} \\sum_{i=1}^{m} (h(x^{(i)}) - y^{(i)})x_1^{(i)} \\\\\n",
        "\\frac{1}{m} \\sum_{i=1}^{m} (h(x^{(i)}) - y^{(i)})x_2^{(i)} \\\\\n",
        ".. \\\\\n",
        "\\frac{1}{m} \\sum_{i=1}^{m} (h(x^{(i)}) - y^{(i)})x_n^{(i)} \\\\\n",
        "\\end{pmatrix}\n",
        "$$"
      ],
      "metadata": {
        "id": "FaVxb9DlOByo"
      }
    },
    {
      "cell_type": "markdown",
      "source": [
        "$$\n",
        "\\vec{w}\n",
        "=\\vec{w}^{prev} − α \\nabla J(\\vec{w})\n",
        "$$"
      ],
      "metadata": {
        "id": "rUm_uBPUOz9-"
      }
    },
    {
      "cell_type": "markdown",
      "source": [
        "m — кількість зразків (samples).\n",
        "\n",
        "n — кількість ознак (features) у кожному зразку.\n",
        "\n",
        "$$\n",
        "X_{m,n}=\n",
        "\\begin{bmatrix}\n",
        " 1&  x^{(1)}_{1}&  x^{(1)}_{2}&  …&  x^{(1)}_{n}  \\\\\n",
        " 1&  x^{(2)}_{1}&  x^{(2)}_{2}&  …&  x^{(2)}_{n}  \\\\\n",
        " 1&  x^{(3)}_{1}&  x^{(3)}_{2}&  …&  x^{(3)}_{n}  \\\\\n",
        " \\vdots&   \\vdots&   \\vdots&   \\ddots&  \\vdots&   \\\\\n",
        " 1&  x^{(m)}_{1}&  x^{(m)}_{2}&  …&  x^{(m)}_{n}  \\\\\n",
        "\\end{bmatrix}​​\n",
        "$$"
      ],
      "metadata": {
        "id": "-kPBxbGEPfgC"
      }
    },
    {
      "cell_type": "markdown",
      "source": [
        "$$\n",
        "∇J(\\vec{w})=\\frac{1}{m}​  X^T(X \\vec{w} - \\vec{y}​)\n",
        "$$"
      ],
      "metadata": {
        "id": "Nx5SJdubQKJB"
      }
    },
    {
      "cell_type": "code",
      "source": [
        "def gradient_descent_step(X, y, w, learning_rate=0.001):\n",
        "  m = len(y)\n",
        "  h = hypothesis(X, w)\n",
        "  error = h - y\n",
        "  gradient = (1 / m) * np.dot(X.T, error)\n",
        "  w -= learning_rate * gradient\n",
        "  return w"
      ],
      "metadata": {
        "id": "ebdmQe9C269A"
      },
      "execution_count": 194,
      "outputs": []
    },
    {
      "cell_type": "code",
      "source": [
        "def gradient_descent(X, y, w, num_iterations=1, learning_rate=0.001):\n",
        "  loss_history = np.zeros(num_iterations)\n",
        "  for i in range(num_iterations):\n",
        "      w = gradient_descent_step(X, y, w, learning_rate)\n",
        "      loss_history[i] = loss_func(X, y, w)\n",
        "  return w, loss_history\n"
      ],
      "metadata": {
        "id": "h1mvHhJzBUPB"
      },
      "execution_count": 195,
      "outputs": []
    },
    {
      "cell_type": "markdown",
      "source": [
        "# **Data preparing**"
      ],
      "metadata": {
        "id": "44priQfzT3GE"
      }
    },
    {
      "cell_type": "code",
      "source": [
        "x_columns = [\"area\", \"bedrooms\",\"bathrooms\"]\n",
        "y_column = \"price\"\n",
        "# data_columns = [y_column] + x_columns\n",
        "# data_columns = [y_column, *x_columns]\n",
        "\n",
        "# Формування матриці ознак X і вектору цільових змінних y\n",
        "X = data[x_columns].values\n",
        "y = data[y_column].values\n",
        "\n",
        "# Масштабування даних\n",
        "scaler = StandardScaler()\n",
        "X = scaler.fit_transform(data[x_columns])\n",
        "y = scaler.fit_transform(data[[y_column]]).flatten()\n",
        "\n"
      ],
      "metadata": {
        "id": "exYU8aqIUC6Y"
      },
      "execution_count": 196,
      "outputs": []
    },
    {
      "cell_type": "markdown",
      "source": [
        "### Adding an Intercept\n",
        "\n",
        "To include the intercept \\( w_0 \\) in our model, we need to add a column of ones to the matrix \\( X \\). This ensures that the linear regression equation:\n",
        "\n",
        "$$\n",
        "y = w_0 + w_1 x_1 + w_2 x_2 + \\dots + w_n x_n\n",
        "$$\n",
        "\n",
        "is represented as:\n",
        "\n",
        "$$\n",
        "y = Xw\n",
        "$$\n",
        "\n",
        "where:\n",
        "\n",
        "- \\( X \\) is the feature matrix augmented with a column of ones:\n",
        "  $$\n",
        "  X = \\begin{bmatrix}\n",
        "  1 & x_{11} & x_{12} & \\dots & x_{1n} \\\\\n",
        "  1 & x_{21} & x_{22} & \\dots & x_{2n} \\\\\n",
        "  \\vdots & \\vdots & \\vdots & \\ddots & \\vdots \\\\\n",
        "  1 & x_{m1} & x_{m2} & \\dots & x_{mn}\n",
        "  \\end{bmatrix}\n",
        "  $$\n",
        "- \\( w \\) is the coefficient vector, including the intercept \\( w_0 \\)."
      ],
      "metadata": {
        "id": "Wi3LRNqdVqg4"
      }
    },
    {
      "cell_type": "code",
      "source": [
        "\n",
        "# Додавання одиничного стовпця для градієнтного спуску\n",
        "X_with_bias = np.hstack([np.ones((X.shape[0], 1)), X])\n",
        "\n",
        "# Ініціалізація параметрів w\n",
        "num_features = X_with_bias.shape[1]\n",
        "w = np.zeros(num_features)"
      ],
      "metadata": {
        "id": "eHxuMU0ZU38l"
      },
      "execution_count": 197,
      "outputs": []
    },
    {
      "cell_type": "markdown",
      "source": [
        "**One step of gradient descent**\n",
        "\n",
        "один крок градієнтного спуску"
      ],
      "metadata": {
        "id": "IyALd9ZSWMNN"
      }
    },
    {
      "cell_type": "code",
      "source": [
        "# Налаштування параметрів градієнтного спуску\n",
        "learning_rate = 0.0001\n",
        "num_iterations = 1\n",
        "\n",
        "# Запуск градієнтного спуску\n",
        "final_weight, loss_history = gradient_descent(X_with_bias, y, w, num_iterations, learning_rate)\n",
        "\n",
        "print(\"One step w (один крок градієнтного спуску): \", final_weight)\n",
        "print('One step loss: ', loss_history)"
      ],
      "metadata": {
        "id": "ByN7xep6WNJV",
        "outputId": "77a211da-9415-4c68-f571-f2834be936a3",
        "colab": {
          "base_uri": "https://localhost:8080/"
        }
      },
      "execution_count": 198,
      "outputs": [
        {
          "output_type": "stream",
          "name": "stdout",
          "text": [
            "One step w (один крок градієнтного спуску):  [1.68264994e-20 5.35997346e-05 3.66494026e-05 5.17545339e-05]\n",
            "One step loss:  [0.49993106]\n"
          ]
        }
      ]
    },
    {
      "cell_type": "markdown",
      "source": [
        "---\n",
        "# 4. Find the best parameters w for the dataset predicting the price of a house depending on the area, number of bathrooms, and number of bedrooms;\n",
        "\n",
        "знайдіть найкращі параметри w для датасету прогнозуючу ціну на будинок залежно від площі, кількості ванних кімнат та кількості спалень;\n",
        "  ---"
      ],
      "metadata": {
        "id": "Eo5dSTTpVqCJ"
      }
    },
    {
      "cell_type": "code",
      "source": [
        "# Налаштування параметрів градієнтного спуску\n",
        "learning_rate = 0.001\n",
        "num_iterations = 1000\n",
        "\n",
        "# Запуск градієнтного спуску\n",
        "final_weights, loss_history = gradient_descent(X_with_bias, y, w, num_iterations, learning_rate)\n",
        "\n",
        "print(\"Оптимальні параметри w (градієнтний спуск):\", final_weights)\n"
      ],
      "metadata": {
        "colab": {
          "base_uri": "https://localhost:8080/"
        },
        "id": "KVqo6Mz0Xo4E",
        "outputId": "97a59d07-157d-482a-ae07-e73461f9e823"
      },
      "execution_count": 207,
      "outputs": [
        {
          "output_type": "stream",
          "name": "stdout",
          "text": [
            "Оптимальні параметри w (градієнтний спуск): [1.73824869e-16 3.18539107e-01 1.71657476e-01 2.84713962e-01]\n"
          ]
        }
      ]
    },
    {
      "cell_type": "markdown",
      "source": [
        "---\n",
        "# 5. Find these same parameters using an analytical solution\n",
        "знайдіть ці ж параметри за допомогою аналітичного рішення.\n",
        "---"
      ],
      "metadata": {
        "id": "j8D4GXhuXiv-"
      }
    },
    {
      "cell_type": "code",
      "source": [
        "\n",
        "# Навчання моделі LinearRegression\n",
        "model = LinearRegression()\n",
        "model.fit(X, y)\n",
        "\n",
        "# Отримання коефіцієнтів з LinearRegression\n",
        "print(f\"Коефіцієнти (LinearRegression): {model.coef_}\")\n",
        "print(f\"Зміщення (intercept_) (LinearRegression): {model.intercept_}\")\n"
      ],
      "metadata": {
        "id": "_4mQlyFMXtJN",
        "outputId": "a798397b-b82f-4146-f1f9-16bffb8d542f",
        "colab": {
          "base_uri": "https://localhost:8080/"
        }
      },
      "execution_count": 208,
      "outputs": [
        {
          "output_type": "stream",
          "name": "stdout",
          "text": [
            "Коефіцієнти (LinearRegression): [0.43945209 0.16052866 0.37234442]\n",
            "Зміщення (intercept_) (LinearRegression): 3.163612015992004e-16\n"
          ]
        }
      ]
    },
    {
      "cell_type": "markdown",
      "source": [
        "---\n",
        "# 6. Compare the results obtained.\n",
        "порівняйте отримані результати.\n",
        "---"
      ],
      "metadata": {
        "id": "bB2NKo34YGXK"
      }
    },
    {
      "cell_type": "code",
      "source": [
        "\n",
        "# Порівняння коефіцієнтів:\n",
        "comparison_coef = pd.DataFrame({\n",
        "    \"Feature\": [\"Intercept\", \"area\", \"bedrooms\", \"bathrooms\"],\n",
        "    \"Gradient Descent\": [final_weights[0], final_weights[1], final_weights[2], final_weights[3]],\n",
        "    \"Linear Regression\": [model.intercept_, model.coef_[0], model.coef_[1], model.coef_[2]]\n",
        "})\n",
        "\n",
        "print(comparison_coef)"
      ],
      "metadata": {
        "id": "zDrDM6EbYR1b",
        "outputId": "daff55c7-bd95-41f5-d022-02bd95de38ed",
        "colab": {
          "base_uri": "https://localhost:8080/"
        }
      },
      "execution_count": 209,
      "outputs": [
        {
          "output_type": "stream",
          "name": "stdout",
          "text": [
            "     Feature  Gradient Descent  Linear Regression\n",
            "0  Intercept      1.738249e-16       3.163612e-16\n",
            "1       area      3.185391e-01       4.394521e-01\n",
            "2   bedrooms      1.716575e-01       1.605287e-01\n",
            "3  bathrooms      2.847140e-01       3.723444e-01\n"
          ]
        }
      ]
    },
    {
      "cell_type": "markdown",
      "source": [
        "---\n",
        "# **Prediction**\n",
        "Прогнозування ціни будинка\n",
        "---"
      ],
      "metadata": {
        "id": "theSuNYyZG3f"
      }
    },
    {
      "cell_type": "code",
      "source": [
        "\n",
        "# Прогнозування на основі моделі LinearRegression\n",
        "y_pred_lr = model.predict(X)\n",
        "\n",
        "# Прогнозування за допомогою градієнтного спуску\n",
        "y_pred_gd = hypothesis(X_with_bias, final_weights)\n",
        "\n",
        "# Зворотне масштабування прогнозованих значень\n",
        "y_pred_lr_rescaled = scaler.inverse_transform(y_pred_lr.reshape(-1, 1)).flatten()\n",
        "y_pred_gd_rescaled = scaler.inverse_transform(y_pred_gd.reshape(-1, 1)).flatten()\n",
        "\n",
        "# Створення таблиці з фактичними та прогнозованими значеннями для обох моделей\n",
        "predicted_data = data.copy()\n",
        "# predicted_data['Predicted Price (LR)'] = y_pred_lr_rescaled.round()\n",
        "# predicted_data['Predicted Price (GD)'] = y_pred_gd_rescaled.round()\n",
        "predicted_data['Predicted Price (LR)'] = y_pred_lr_rescaled\n",
        "predicted_data['Predicted Price (GD)'] = y_pred_gd_rescaled\n",
        "predicted_data['Predicted Price (LR)'] = predicted_data['Predicted Price (LR)'].apply(lambda x: round(x))\n",
        "predicted_data['Predicted Price (GD)'] = predicted_data['Predicted Price (GD)'].apply(lambda x: round(x))\n",
        "\n",
        "# Виведення таблиці з фактичними та прогнозованими значеннями\n",
        "predicted_data[['area', 'bedrooms', 'bathrooms', 'price', 'Predicted Price (GD)', 'Predicted Price (LR)']].head()\n",
        "\n"
      ],
      "metadata": {
        "id": "vfBTOiAUY2-f",
        "outputId": "bc36bd88-c046-4179-ff2e-9f9bda07d9ef",
        "colab": {
          "base_uri": "https://localhost:8080/",
          "height": 206
        }
      },
      "execution_count": 215,
      "outputs": [
        {
          "output_type": "execute_result",
          "data": {
            "text/plain": [
              "   area  bedrooms  bathrooms     price  Predicted Price (GD)  \\\n",
              "0  7420         4          2  13300000               6596471   \n",
              "1  8960         4          4  12250000               9138967   \n",
              "2  9960         3          2  12250000               6858800   \n",
              "3  7500         4          2  12215000               6618435   \n",
              "4  7420         4          1  11410000               5536625   \n",
              "\n",
              "   Predicted Price (LR)  \n",
              "0               7036627  \n",
              "1              10392021  \n",
              "2               7591865  \n",
              "3               7066928  \n",
              "4               5650578  "
            ],
            "text/html": [
              "\n",
              "  <div id=\"df-3016ef84-2c0e-4bdf-a833-53bc1c9c7aed\" class=\"colab-df-container\">\n",
              "    <div>\n",
              "<style scoped>\n",
              "    .dataframe tbody tr th:only-of-type {\n",
              "        vertical-align: middle;\n",
              "    }\n",
              "\n",
              "    .dataframe tbody tr th {\n",
              "        vertical-align: top;\n",
              "    }\n",
              "\n",
              "    .dataframe thead th {\n",
              "        text-align: right;\n",
              "    }\n",
              "</style>\n",
              "<table border=\"1\" class=\"dataframe\">\n",
              "  <thead>\n",
              "    <tr style=\"text-align: right;\">\n",
              "      <th></th>\n",
              "      <th>area</th>\n",
              "      <th>bedrooms</th>\n",
              "      <th>bathrooms</th>\n",
              "      <th>price</th>\n",
              "      <th>Predicted Price (GD)</th>\n",
              "      <th>Predicted Price (LR)</th>\n",
              "    </tr>\n",
              "  </thead>\n",
              "  <tbody>\n",
              "    <tr>\n",
              "      <th>0</th>\n",
              "      <td>7420</td>\n",
              "      <td>4</td>\n",
              "      <td>2</td>\n",
              "      <td>13300000</td>\n",
              "      <td>6596471</td>\n",
              "      <td>7036627</td>\n",
              "    </tr>\n",
              "    <tr>\n",
              "      <th>1</th>\n",
              "      <td>8960</td>\n",
              "      <td>4</td>\n",
              "      <td>4</td>\n",
              "      <td>12250000</td>\n",
              "      <td>9138967</td>\n",
              "      <td>10392021</td>\n",
              "    </tr>\n",
              "    <tr>\n",
              "      <th>2</th>\n",
              "      <td>9960</td>\n",
              "      <td>3</td>\n",
              "      <td>2</td>\n",
              "      <td>12250000</td>\n",
              "      <td>6858800</td>\n",
              "      <td>7591865</td>\n",
              "    </tr>\n",
              "    <tr>\n",
              "      <th>3</th>\n",
              "      <td>7500</td>\n",
              "      <td>4</td>\n",
              "      <td>2</td>\n",
              "      <td>12215000</td>\n",
              "      <td>6618435</td>\n",
              "      <td>7066928</td>\n",
              "    </tr>\n",
              "    <tr>\n",
              "      <th>4</th>\n",
              "      <td>7420</td>\n",
              "      <td>4</td>\n",
              "      <td>1</td>\n",
              "      <td>11410000</td>\n",
              "      <td>5536625</td>\n",
              "      <td>5650578</td>\n",
              "    </tr>\n",
              "  </tbody>\n",
              "</table>\n",
              "</div>\n",
              "    <div class=\"colab-df-buttons\">\n",
              "\n",
              "  <div class=\"colab-df-container\">\n",
              "    <button class=\"colab-df-convert\" onclick=\"convertToInteractive('df-3016ef84-2c0e-4bdf-a833-53bc1c9c7aed')\"\n",
              "            title=\"Convert this dataframe to an interactive table.\"\n",
              "            style=\"display:none;\">\n",
              "\n",
              "  <svg xmlns=\"http://www.w3.org/2000/svg\" height=\"24px\" viewBox=\"0 -960 960 960\">\n",
              "    <path d=\"M120-120v-720h720v720H120Zm60-500h600v-160H180v160Zm220 220h160v-160H400v160Zm0 220h160v-160H400v160ZM180-400h160v-160H180v160Zm440 0h160v-160H620v160ZM180-180h160v-160H180v160Zm440 0h160v-160H620v160Z\"/>\n",
              "  </svg>\n",
              "    </button>\n",
              "\n",
              "  <style>\n",
              "    .colab-df-container {\n",
              "      display:flex;\n",
              "      gap: 12px;\n",
              "    }\n",
              "\n",
              "    .colab-df-convert {\n",
              "      background-color: #E8F0FE;\n",
              "      border: none;\n",
              "      border-radius: 50%;\n",
              "      cursor: pointer;\n",
              "      display: none;\n",
              "      fill: #1967D2;\n",
              "      height: 32px;\n",
              "      padding: 0 0 0 0;\n",
              "      width: 32px;\n",
              "    }\n",
              "\n",
              "    .colab-df-convert:hover {\n",
              "      background-color: #E2EBFA;\n",
              "      box-shadow: 0px 1px 2px rgba(60, 64, 67, 0.3), 0px 1px 3px 1px rgba(60, 64, 67, 0.15);\n",
              "      fill: #174EA6;\n",
              "    }\n",
              "\n",
              "    .colab-df-buttons div {\n",
              "      margin-bottom: 4px;\n",
              "    }\n",
              "\n",
              "    [theme=dark] .colab-df-convert {\n",
              "      background-color: #3B4455;\n",
              "      fill: #D2E3FC;\n",
              "    }\n",
              "\n",
              "    [theme=dark] .colab-df-convert:hover {\n",
              "      background-color: #434B5C;\n",
              "      box-shadow: 0px 1px 3px 1px rgba(0, 0, 0, 0.15);\n",
              "      filter: drop-shadow(0px 1px 2px rgba(0, 0, 0, 0.3));\n",
              "      fill: #FFFFFF;\n",
              "    }\n",
              "  </style>\n",
              "\n",
              "    <script>\n",
              "      const buttonEl =\n",
              "        document.querySelector('#df-3016ef84-2c0e-4bdf-a833-53bc1c9c7aed button.colab-df-convert');\n",
              "      buttonEl.style.display =\n",
              "        google.colab.kernel.accessAllowed ? 'block' : 'none';\n",
              "\n",
              "      async function convertToInteractive(key) {\n",
              "        const element = document.querySelector('#df-3016ef84-2c0e-4bdf-a833-53bc1c9c7aed');\n",
              "        const dataTable =\n",
              "          await google.colab.kernel.invokeFunction('convertToInteractive',\n",
              "                                                    [key], {});\n",
              "        if (!dataTable) return;\n",
              "\n",
              "        const docLinkHtml = 'Like what you see? Visit the ' +\n",
              "          '<a target=\"_blank\" href=https://colab.research.google.com/notebooks/data_table.ipynb>data table notebook</a>'\n",
              "          + ' to learn more about interactive tables.';\n",
              "        element.innerHTML = '';\n",
              "        dataTable['output_type'] = 'display_data';\n",
              "        await google.colab.output.renderOutput(dataTable, element);\n",
              "        const docLink = document.createElement('div');\n",
              "        docLink.innerHTML = docLinkHtml;\n",
              "        element.appendChild(docLink);\n",
              "      }\n",
              "    </script>\n",
              "  </div>\n",
              "\n",
              "\n",
              "<div id=\"df-82f615c6-fefe-4666-b0e4-926d6e1b809a\">\n",
              "  <button class=\"colab-df-quickchart\" onclick=\"quickchart('df-82f615c6-fefe-4666-b0e4-926d6e1b809a')\"\n",
              "            title=\"Suggest charts\"\n",
              "            style=\"display:none;\">\n",
              "\n",
              "<svg xmlns=\"http://www.w3.org/2000/svg\" height=\"24px\"viewBox=\"0 0 24 24\"\n",
              "     width=\"24px\">\n",
              "    <g>\n",
              "        <path d=\"M19 3H5c-1.1 0-2 .9-2 2v14c0 1.1.9 2 2 2h14c1.1 0 2-.9 2-2V5c0-1.1-.9-2-2-2zM9 17H7v-7h2v7zm4 0h-2V7h2v10zm4 0h-2v-4h2v4z\"/>\n",
              "    </g>\n",
              "</svg>\n",
              "  </button>\n",
              "\n",
              "<style>\n",
              "  .colab-df-quickchart {\n",
              "      --bg-color: #E8F0FE;\n",
              "      --fill-color: #1967D2;\n",
              "      --hover-bg-color: #E2EBFA;\n",
              "      --hover-fill-color: #174EA6;\n",
              "      --disabled-fill-color: #AAA;\n",
              "      --disabled-bg-color: #DDD;\n",
              "  }\n",
              "\n",
              "  [theme=dark] .colab-df-quickchart {\n",
              "      --bg-color: #3B4455;\n",
              "      --fill-color: #D2E3FC;\n",
              "      --hover-bg-color: #434B5C;\n",
              "      --hover-fill-color: #FFFFFF;\n",
              "      --disabled-bg-color: #3B4455;\n",
              "      --disabled-fill-color: #666;\n",
              "  }\n",
              "\n",
              "  .colab-df-quickchart {\n",
              "    background-color: var(--bg-color);\n",
              "    border: none;\n",
              "    border-radius: 50%;\n",
              "    cursor: pointer;\n",
              "    display: none;\n",
              "    fill: var(--fill-color);\n",
              "    height: 32px;\n",
              "    padding: 0;\n",
              "    width: 32px;\n",
              "  }\n",
              "\n",
              "  .colab-df-quickchart:hover {\n",
              "    background-color: var(--hover-bg-color);\n",
              "    box-shadow: 0 1px 2px rgba(60, 64, 67, 0.3), 0 1px 3px 1px rgba(60, 64, 67, 0.15);\n",
              "    fill: var(--button-hover-fill-color);\n",
              "  }\n",
              "\n",
              "  .colab-df-quickchart-complete:disabled,\n",
              "  .colab-df-quickchart-complete:disabled:hover {\n",
              "    background-color: var(--disabled-bg-color);\n",
              "    fill: var(--disabled-fill-color);\n",
              "    box-shadow: none;\n",
              "  }\n",
              "\n",
              "  .colab-df-spinner {\n",
              "    border: 2px solid var(--fill-color);\n",
              "    border-color: transparent;\n",
              "    border-bottom-color: var(--fill-color);\n",
              "    animation:\n",
              "      spin 1s steps(1) infinite;\n",
              "  }\n",
              "\n",
              "  @keyframes spin {\n",
              "    0% {\n",
              "      border-color: transparent;\n",
              "      border-bottom-color: var(--fill-color);\n",
              "      border-left-color: var(--fill-color);\n",
              "    }\n",
              "    20% {\n",
              "      border-color: transparent;\n",
              "      border-left-color: var(--fill-color);\n",
              "      border-top-color: var(--fill-color);\n",
              "    }\n",
              "    30% {\n",
              "      border-color: transparent;\n",
              "      border-left-color: var(--fill-color);\n",
              "      border-top-color: var(--fill-color);\n",
              "      border-right-color: var(--fill-color);\n",
              "    }\n",
              "    40% {\n",
              "      border-color: transparent;\n",
              "      border-right-color: var(--fill-color);\n",
              "      border-top-color: var(--fill-color);\n",
              "    }\n",
              "    60% {\n",
              "      border-color: transparent;\n",
              "      border-right-color: var(--fill-color);\n",
              "    }\n",
              "    80% {\n",
              "      border-color: transparent;\n",
              "      border-right-color: var(--fill-color);\n",
              "      border-bottom-color: var(--fill-color);\n",
              "    }\n",
              "    90% {\n",
              "      border-color: transparent;\n",
              "      border-bottom-color: var(--fill-color);\n",
              "    }\n",
              "  }\n",
              "</style>\n",
              "\n",
              "  <script>\n",
              "    async function quickchart(key) {\n",
              "      const quickchartButtonEl =\n",
              "        document.querySelector('#' + key + ' button');\n",
              "      quickchartButtonEl.disabled = true;  // To prevent multiple clicks.\n",
              "      quickchartButtonEl.classList.add('colab-df-spinner');\n",
              "      try {\n",
              "        const charts = await google.colab.kernel.invokeFunction(\n",
              "            'suggestCharts', [key], {});\n",
              "      } catch (error) {\n",
              "        console.error('Error during call to suggestCharts:', error);\n",
              "      }\n",
              "      quickchartButtonEl.classList.remove('colab-df-spinner');\n",
              "      quickchartButtonEl.classList.add('colab-df-quickchart-complete');\n",
              "    }\n",
              "    (() => {\n",
              "      let quickchartButtonEl =\n",
              "        document.querySelector('#df-82f615c6-fefe-4666-b0e4-926d6e1b809a button');\n",
              "      quickchartButtonEl.style.display =\n",
              "        google.colab.kernel.accessAllowed ? 'block' : 'none';\n",
              "    })();\n",
              "  </script>\n",
              "</div>\n",
              "\n",
              "    </div>\n",
              "  </div>\n"
            ],
            "application/vnd.google.colaboratory.intrinsic+json": {
              "type": "dataframe",
              "summary": "{\n  \"name\": \"predicted_data[['area', 'bedrooms', 'bathrooms', 'price', 'Predicted Price (GD)', 'Predicted Price (LR)']]\",\n  \"rows\": 5,\n  \"fields\": [\n    {\n      \"column\": \"area\",\n      \"properties\": {\n        \"dtype\": \"number\",\n        \"std\": 1158,\n        \"min\": 7420,\n        \"max\": 9960,\n        \"num_unique_values\": 4,\n        \"samples\": [\n          8960,\n          7500,\n          7420\n        ],\n        \"semantic_type\": \"\",\n        \"description\": \"\"\n      }\n    },\n    {\n      \"column\": \"bedrooms\",\n      \"properties\": {\n        \"dtype\": \"number\",\n        \"std\": 0,\n        \"min\": 3,\n        \"max\": 4,\n        \"num_unique_values\": 2,\n        \"samples\": [\n          3,\n          4\n        ],\n        \"semantic_type\": \"\",\n        \"description\": \"\"\n      }\n    },\n    {\n      \"column\": \"bathrooms\",\n      \"properties\": {\n        \"dtype\": \"number\",\n        \"std\": 1,\n        \"min\": 1,\n        \"max\": 4,\n        \"num_unique_values\": 3,\n        \"samples\": [\n          2,\n          4\n        ],\n        \"semantic_type\": \"\",\n        \"description\": \"\"\n      }\n    },\n    {\n      \"column\": \"price\",\n      \"properties\": {\n        \"dtype\": \"number\",\n        \"std\": 671416,\n        \"min\": 11410000,\n        \"max\": 13300000,\n        \"num_unique_values\": 4,\n        \"samples\": [\n          12250000,\n          11410000\n        ],\n        \"semantic_type\": \"\",\n        \"description\": \"\"\n      }\n    },\n    {\n      \"column\": \"Predicted Price (GD)\",\n      \"properties\": {\n        \"dtype\": \"number\",\n        \"std\": 1325937,\n        \"min\": 5536625,\n        \"max\": 9138967,\n        \"num_unique_values\": 5,\n        \"samples\": [\n          9138967,\n          5536625\n        ],\n        \"semantic_type\": \"\",\n        \"description\": \"\"\n      }\n    },\n    {\n      \"column\": \"Predicted Price (LR)\",\n      \"properties\": {\n        \"dtype\": \"number\",\n        \"std\": 1745245,\n        \"min\": 5650578,\n        \"max\": 10392021,\n        \"num_unique_values\": 5,\n        \"samples\": [\n          10392021,\n          5650578\n        ],\n        \"semantic_type\": \"\",\n        \"description\": \"\"\n      }\n    }\n  ]\n}"
            }
          },
          "metadata": {},
          "execution_count": 215
        }
      ]
    },
    {
      "cell_type": "markdown",
      "source": [
        "---\n",
        "# Forecast accuracy\n",
        "Точність прогнозу\n",
        "---"
      ],
      "metadata": {
        "id": "m3SUG4aoZanI"
      }
    },
    {
      "cell_type": "markdown",
      "source": [
        "1. R^2 (Коефіцієнт детермінації):"
      ],
      "metadata": {
        "id": "CDe0k4U0Z_EE"
      }
    },
    {
      "cell_type": "code",
      "source": [
        "# Обчислення R^2 для Linear Regression\n",
        "r2_lr = r2_score(y, y_pred_lr_rescaled)\n",
        "\n",
        "# Обчислення R^2 для Gradient Descent\n",
        "r2_gd = r2_score(y, y_pred_gd_rescaled)\n",
        "\n",
        "print(f\"R^2 для Linear Regression: {r2_lr}\")\n",
        "print(f\"R^2 для Gradient Descent: {r2_gd}\")"
      ],
      "metadata": {
        "id": "HUw53id0Z38U",
        "outputId": "0ecc37e5-d506-4ae5-aa4c-8f46ae469d13",
        "colab": {
          "base_uri": "https://localhost:8080/"
        }
      },
      "execution_count": 203,
      "outputs": [
        {
          "output_type": "stream",
          "name": "stdout",
          "text": [
            "R^2 для Linear Regression: -24422660858894.727\n",
            "R^2 для Gradient Descent: -22751933946270.055\n"
          ]
        }
      ]
    },
    {
      "cell_type": "markdown",
      "source": [
        "Отже, негативне значення R² є індикатором того, що наша модель не є адекватною для даного набору даних і потребує додаткового аналізу або вдосконалення."
      ],
      "metadata": {
        "id": "YNyqDIyjct7A"
      }
    },
    {
      "cell_type": "markdown",
      "source": [
        "2. МSE (Середньоквадратична помилка) та RMSE (Корінь середньоквадратичної помилки)"
      ],
      "metadata": {
        "id": "UF42hpraaS-J"
      }
    },
    {
      "cell_type": "code",
      "source": [
        "\n",
        "# Обчислення MSE для Linear Regression\n",
        "mse_lr = mean_squared_error(y, y_pred_lr_rescaled)\n",
        "rmse_lr = np.sqrt(mse_lr)\n",
        "\n",
        "# Обчислення MSE для Gradient Descent\n",
        "mse_gd = mean_squared_error(y, y_pred_gd_rescaled)\n",
        "rmse_gd = np.sqrt(mse_gd)\n",
        "\n",
        "print(f\"MSE для Linear Regression: {mse_lr}\")\n",
        "print(f\"RMSE для Linear Regression: {rmse_lr}\")\n",
        "print(f\"MSE для Gradient Descent: {mse_gd}\")\n",
        "print(f\"RMSE для Gradient Descent: {rmse_gd}\")"
      ],
      "metadata": {
        "id": "dd-2xwoGabnb",
        "outputId": "b1ccf291-2a33-45e0-8717-c725f671b961",
        "colab": {
          "base_uri": "https://localhost:8080/"
        }
      },
      "execution_count": 204,
      "outputs": [
        {
          "output_type": "stream",
          "name": "stdout",
          "text": [
            "MSE для Linear Regression: 24422660858895.72\n",
            "RMSE для Linear Regression: 4941928.860161356\n",
            "MSE для Gradient Descent: 22751933946271.047\n",
            "RMSE для Gradient Descent: 4769898.735431503\n"
          ]
        }
      ]
    },
    {
      "cell_type": "markdown",
      "source": [
        "3. MAE (Середня абсолютна помилка)"
      ],
      "metadata": {
        "id": "BCDoVd8Fa3U5"
      }
    },
    {
      "cell_type": "code",
      "source": [
        "# Обчислення MAE для Linear Regression\n",
        "mae_lr = mean_absolute_error(y, y_pred_lr_rescaled)\n",
        "\n",
        "# Обчислення MAE для Gradient Descent\n",
        "mae_gd = mean_absolute_error(y, y_pred_gd_rescaled)\n",
        "\n",
        "print(f\"MAE для Linear Regression: {mae_lr}\")\n",
        "print(f\"MAE для Gradient Descent: {mae_gd}\")"
      ],
      "metadata": {
        "id": "JlIUNlTja5Wx",
        "outputId": "e5b79fd9-7a41-482e-fcb1-029624cf9fdf",
        "colab": {
          "base_uri": "https://localhost:8080/"
        }
      },
      "execution_count": 205,
      "outputs": [
        {
          "output_type": "stream",
          "name": "stdout",
          "text": [
            "MAE для Linear Regression: 4766729.247706422\n",
            "MAE для Gradient Descent: 4766729.247706422\n"
          ]
        }
      ]
    },
    {
      "cell_type": "code",
      "source": [
        "min_price = data['price'].min()\n",
        "max_price = data['price'].max()\n",
        "\n",
        "print(f\"Мінімальна ціна: {min_price}\")\n",
        "print(f\"Максимальна ціна: {max_price}\")"
      ],
      "metadata": {
        "id": "SpcvAp7CdeWv",
        "outputId": "5f0cba0d-4cd2-496f-ef53-7f49a704d56d",
        "colab": {
          "base_uri": "https://localhost:8080/"
        }
      },
      "execution_count": 213,
      "outputs": [
        {
          "output_type": "stream",
          "name": "stdout",
          "text": [
            "Мінімальна ціна: 1750000\n",
            "Максимальна ціна: 13300000\n"
          ]
        }
      ]
    },
    {
      "cell_type": "markdown",
      "source": [
        "---\n",
        "# **Visualisation**\n",
        "---"
      ],
      "metadata": {
        "id": "9TMzZIsjkG_3"
      }
    },
    {
      "cell_type": "code",
      "source": [
        "\n",
        "# Створення графіку з більшим розміром\n",
        "plt.figure(figsize=(14, 8))  # Розміри: ширина 14 дюймів, висота 8 дюймів\n",
        "\n",
        "# Графік для фактичних значень з більшою товщиною лінії\n",
        "plt.plot(data.index, data['price'], label='Actual Price', color='blue', linestyle='-', marker='o', linewidth=3)\n",
        "\n",
        "# Графік для прогнозованих значень за допомогою градієнтного спуску з більшою товщиною лінії\n",
        "plt.plot(predicted_data.index, predicted_data['Predicted Price (GD)'], label='Predicted Price (GD)', color='red', linestyle='--', linewidth=6)\n",
        "\n",
        "# Графік для прогнозованих значень за допомогою LinearRegression з більшою товщиною лінії\n",
        "plt.plot(predicted_data.index, predicted_data['Predicted Price (LR)'], label='Predicted Price (LR)', color='green', linestyle='-.', linewidth=3)\n",
        "\n",
        "# Налаштування графіка\n",
        "plt.title('Actual vs Predicted Prices', fontsize=16)\n",
        "plt.xlabel('Sample Index', fontsize=14)\n",
        "plt.ylabel('Price', fontsize=14)\n",
        "plt.legend()\n",
        "\n",
        "# Відображення графіку\n",
        "plt.show()\n",
        "\n"
      ],
      "metadata": {
        "id": "9VT_3WKhZY9X",
        "outputId": "8afc3ff5-1cc7-43ff-d184-de0b3a6ba730",
        "colab": {
          "base_uri": "https://localhost:8080/",
          "height": 725
        }
      },
      "execution_count": 216,
      "outputs": [
        {
          "output_type": "display_data",
          "data": {
            "text/plain": [
              "<Figure size 1400x800 with 1 Axes>"
            ],
            "image/png": "[encoded data removed]"
          },
          "metadata": {}
        }
      ]
    }
  ],
  "metadata": {
    "language_info": {
      "name": "python"
    },
    "colab": {
      "provenance": [],
      "include_colab_link": true
    },
    "kernelspec": {
      "name": "python3",
      "display_name": "Python 3"
    }
  },
  "nbformat": 4,
  "nbformat_minor": 0
}