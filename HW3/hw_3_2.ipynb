{
 "cells": [
  {
   "cell_type": "code",
   "execution_count": 145,
   "id": "e22b23aa",
   "metadata": {},
   "outputs": [],
   "source": [
    "import pandas as pd\n",
    "import numpy as np\n",
    "import matplotlib.pyplot as plt\n",
    "import seaborn as sns\n",
    "from sklearn.preprocessing import normalize"
   ]
  },
  {
   "cell_type": "markdown",
   "id": "50078a6c",
   "metadata": {},
   "source": [
    "Напишіть функцію гіпотези лінійної регресії у векторному вигляді:"
   ]
  },
  {
   "cell_type": "code",
   "execution_count": 146,
   "id": "05f7fc30",
   "metadata": {},
   "outputs": [],
   "source": [
    "def h(X, w):\n",
    "    return np.dot(X, w)"
   ]
  },
  {
   "cell_type": "markdown",
   "id": "39925772",
   "metadata": {},
   "source": [
    "Створіть функцію для обчислення функції втрат у векторному вигляді:"
   ]
  },
  {
   "cell_type": "code",
   "execution_count": 147,
   "id": "1677a552",
   "metadata": {},
   "outputs": [],
   "source": [
    "def loss_function(X, y, w):\n",
    "    return np.square(h(X, w) - y).sum() / (2 * X.size)"
   ]
  },
  {
   "cell_type": "markdown",
   "id": "a2503586",
   "metadata": {},
   "source": [
    "Реалізуйте один крок градієнтного спуску:"
   ]
  },
  {
   "cell_type": "code",
   "execution_count": 148,
   "id": "ca8b1b35",
   "metadata": {},
   "outputs": [],
   "source": [
    "def gradient_step(X, y, w, learning_rate):\n",
    "    m = len(y)\n",
    "    grad = (X.T @ (h(X, w) - y)) / m\n",
    "    w -= learning_rate * grad\n",
    "    return w"
   ]
  },
  {
   "cell_type": "code",
   "execution_count": 149,
   "id": "9cbad3fa",
   "metadata": {},
   "outputs": [],
   "source": [
    "def gradient(X, y, learning_rate, num_iter, eps):\n",
    "    ones = np.ones((X.shape[0], 1))\n",
    "    X = np.hstack((ones, X))\n",
    "\n",
    "    w = np.zeros(X.shape[1])  # Initialize weights\n",
    "\n",
    "    loss = loss_function(X, y, w)\n",
    "    loss_history = [loss]\n",
    "\n",
    "    for _ in range(num_iter):\n",
    "        w = gradient_step(X, y, w, learning_rate)\n",
    "\n",
    "        loss = loss_function(X, y, w)\n",
    "        if abs(loss - loss_history[-1]) < eps:\n",
    "            loss_history.append(loss)\n",
    "            break\n",
    "\n",
    "        loss_history.append(loss)\n",
    "\n",
    "    return w, loss_history"
   ]
  },
  {
   "cell_type": "markdown",
   "id": "c88e8018",
   "metadata": {},
   "source": [
    "Знайдіть найкращі параметри $\\vec{w}$ для датасету прогнозуючу ціну на будинок залежно від площі, кількості ванних кімнат та кількості спалень;\n",
    "- знайдіть ці ж параметри за допомогою аналітичного рішення;\n",
    "- порівняйте отримані результати"
   ]
  },
  {
   "cell_type": "code",
   "execution_count": 150,
   "id": "ec3870dc",
   "metadata": {},
   "outputs": [],
   "source": [
    "url = \"https://drive.google.com/uc?id=1-rAa4XT4_fI0dOBlMNuE6a7jB0wln_Qo\"\n",
    "\n",
    "# Read the CSV file\n",
    "try:\n",
    "    df = pd.read_csv(url)\n",
    "except Exception as e:\n",
    "    print(f\"Error reading CSV: {e}\")\n",
    "\n",
    "# df"
   ]
  },
  {
   "cell_type": "code",
   "execution_count": 151,
   "id": "1d58a63f",
   "metadata": {},
   "outputs": [],
   "source": [
    "norm = df.copy()\n",
    "columns = [\"price\", \"area\", \"bedrooms\", \"bathrooms\"]\n",
    "for column in columns:\n",
    "    norm[column] = (df[column] - df[column].mean()) / df[column].std()"
   ]
  },
  {
   "cell_type": "code",
   "execution_count": 152,
   "id": "59118240",
   "metadata": {},
   "outputs": [
    {
     "name": "stdout",
     "output_type": "stream",
     "text": [
      "Gradient Descent: [0.     0.4395 0.1606 0.3723]\n"
     ]
    }
   ],
   "source": [
    "X = norm[[\"area\", \"bedrooms\", \"bathrooms\"]].values\n",
    "y = norm[\"price\"].values\n",
    "learning_rate = 0.001\n",
    "num_iter = 100000\n",
    "eps = 1e-12\n",
    "w, loss_history = gradient(X, y, learning_rate, num_iter, eps)\n",
    "print(f\"Gradient Descent: {w.round(4)}\")"
   ]
  },
  {
   "cell_type": "code",
   "execution_count": 153,
   "id": "b299ba2d",
   "metadata": {},
   "outputs": [],
   "source": [
    "# X, y"
   ]
  },
  {
   "cell_type": "code",
   "execution_count": 154,
   "id": "7961d617",
   "metadata": {},
   "outputs": [
    {
     "name": "stdout",
     "output_type": "stream",
     "text": [
      "Analytical Solution: [-0.      0.4395  0.1605  0.3723]\n"
     ]
    }
   ],
   "source": [
    "ones = np.ones(\n",
    "    (X.shape[0], 1)\n",
    ")  # створення стовпчика такого ж розміру, як Х (там будуть зберігатись вільні члени)\n",
    "X = np.hstack((ones, X))  # об*єднання\n",
    "w_analytical = np.linalg.inv(X.T @ X) @ X.T @ y\n",
    "\n",
    "print(f\"Analytical Solution: {w_analytical.round(4)}\")"
   ]
  },
  {
   "cell_type": "code",
   "execution_count": 155,
   "id": "fd5086df",
   "metadata": {},
   "outputs": [
    {
     "name": "stdout",
     "output_type": "stream",
     "text": [
      "Intercept (вільний член): -0.0163\n",
      "Coefficients (коефіцієнти): [0.         0.40082084 0.14213176 0.38208794]\n",
      "Training MAE: 0.4983, MSE: 0.4461, R²: 0.4938\n",
      "Testing MAE: 0.6765, MSE: 0.7861, R²: 0.4559\n"
     ]
    }
   ],
   "source": [
    "from sklearn.model_selection import train_test_split\n",
    "from sklearn.linear_model import LinearRegression\n",
    "from sklearn.metrics import mean_absolute_error, mean_squared_error, r2_score\n",
    "\n",
    "\n",
    "X_train, X_test, y_train, y_test = train_test_split(\n",
    "    X, y, test_size=0.2, random_state=42\n",
    ")\n",
    "\n",
    "lin_reg_model = LinearRegression()\n",
    "lin_reg_model.fit(X_train, y_train)\n",
    "\n",
    "y_train_pred = lin_reg_model.predict(X_train)\n",
    "y_test_pred = lin_reg_model.predict(X_test)\n",
    "\n",
    "print(f\"Intercept (вільний член): {lin_reg_model.intercept_:.4f}\")\n",
    "print(f\"Coefficients (коефіцієнти): {lin_reg_model.coef_}\")\n",
    "\n",
    "train_mae = mean_absolute_error(y_train, y_train_pred)\n",
    "train_mse = mean_squared_error(y_train, y_train_pred)\n",
    "train_r2 = r2_score(y_train, y_train_pred)\n",
    "\n",
    "test_mae = mean_absolute_error(y_test, y_test_pred)\n",
    "test_mse = mean_squared_error(y_test, y_test_pred)\n",
    "test_r2 = r2_score(y_test, y_test_pred)\n",
    "\n",
    "print(f\"Training MAE: {train_mae:.4f}, MSE: {train_mse:.4f}, R²: {train_r2:.4f}\")\n",
    "print(f\"Testing MAE: {test_mae:.4f}, MSE: {test_mse:.4f}, R²: {test_r2:.4f}\")"
   ]
  },
  {
   "cell_type": "code",
   "execution_count": 156,
   "id": "c02b42c9",
   "metadata": {},
   "outputs": [],
   "source": [
    "# Зворотне масштабування для y_test\n",
    "mean_price = df[\"price\"].mean()\n",
    "std_price = df[\"price\"].std()\n",
    "y_test_original = y_test * std_price + mean_price\n",
    "\n",
    "# Зворотне масштабування для y_pred\n",
    "y_pred_original = y_test_pred * std_price + mean_price\n",
    "\n",
    "# Обчислення метрик на оригінальних значеннях\n",
    "mae = mean_absolute_error(y_test_original, y_pred_original)\n",
    "mse = mean_squared_error(y_test_original, y_pred_original)\n",
    "r2 = r2_score(y_test_original, y_pred_original)"
   ]
  },
  {
   "cell_type": "code",
   "execution_count": 157,
   "id": "bf6d0763",
   "metadata": {},
   "outputs": [
    {
     "name": "stdout",
     "output_type": "stream",
     "text": [
      "Test MAE (оригінальні дані): 1265275.6699\n",
      "Test MSE (оригінальні дані): 2750040479309.0522\n",
      "Test R² (оригінальні дані): 0.4559\n"
     ]
    }
   ],
   "source": [
    "print(f\"Test MAE (оригінальні дані): {mae:.4f}\")\n",
    "print(f\"Test MSE (оригінальні дані): {mse:.4f}\")\n",
    "print(f\"Test R² (оригінальні дані): {r2:.4f}\")"
   ]
  },
  {
   "cell_type": "markdown",
   "id": "5e981da7",
   "metadata": {},
   "source": [
    "Варіант 2. Масштабування ознак"
   ]
  },
  {
   "cell_type": "code",
   "execution_count": 158,
   "id": "2b83e71d",
   "metadata": {},
   "outputs": [],
   "source": [
    "import numpy as np\n",
    "import pandas as pd\n",
    "from sklearn.linear_model import LinearRegression\n",
    "from sklearn.metrics import mean_absolute_error, mean_squared_error, r2_score\n",
    "from sklearn.model_selection import train_test_split\n",
    "from sklearn.preprocessing import StandardScaler"
   ]
  },
  {
   "cell_type": "code",
   "execution_count": 159,
   "id": "76610c3a",
   "metadata": {},
   "outputs": [],
   "source": [
    "X = df[[\"area\", \"bedrooms\", \"bathrooms\"]].values\n",
    "y = df[\"price\"].values\n",
    "\n",
    "scaler_X = StandardScaler()\n",
    "X_scaled = scaler_X.fit_transform(X)\n",
    "\n",
    "scaler_y = StandardScaler()\n",
    "y_scaled = scaler_y.fit_transform(y.reshape(-1, 1)).ravel()"
   ]
  },
  {
   "cell_type": "code",
   "execution_count": 160,
   "id": "7869369c",
   "metadata": {},
   "outputs": [],
   "source": [
    "X_train, X_test, y_train, y_test = train_test_split(\n",
    "    X_scaled, y_scaled, test_size=0.2, random_state=42\n",
    ")\n",
    "\n",
    "lin_reg_model = LinearRegression()\n",
    "lin_reg_model.fit(X_train, y_train)\n",
    "\n",
    "y_pred_scaled = lin_reg_model.predict(X_test)"
   ]
  },
  {
   "cell_type": "markdown",
   "id": "702420db",
   "metadata": {},
   "source": [
    "Виведемо метрики моделей для масштабованих даних"
   ]
  },
  {
   "cell_type": "code",
   "execution_count": null,
   "id": "de946811",
   "metadata": {},
   "outputs": [
    {
     "name": "stdout",
     "output_type": "stream",
     "text": [
      "Test MAE (масштабовані дані): 0.6771\n",
      "Test MSE (масштабовані дані): 0.7875\n",
      "Test R² (масштабовані дані): 0.4559\n",
      "Коефіцієнти: [0.4008 0.1421 0.3821]\n",
      "Вільний член (інтерсепт): -0.0163\n"
     ]
    }
   ],
   "source": [
    "mae = mean_absolute_error(y_test, y_pred_scaled)\n",
    "mse = mean_squared_error(y_test, y_pred_scaled)\n",
    "r2 = r2_score(y_test, y_pred_scaled)\n",
    "\n",
    "# Виведення метрик\n",
    "print(f\"Test MAE (масштабовані дані): {mae:.4f}\")\n",
    "print(f\"Test MSE (масштабовані дані): {mse:.4f}\")\n",
    "print(f\"Test R² (масштабовані дані): {r2:.4f}\")\n",
    "\n",
    "# Виведення коефіцієнтів моделі\n",
    "coefficients = lin_reg_model.coef_\n",
    "intercept = lin_reg_model.intercept_\n",
    "\n",
    "# Виведення коефіцієнтів\n",
    "print(f\"Коефіцієнти: {coefficients.round(4)}\")\n",
    "print(f\"Вільний член (інтерсепт): {intercept.round(4)}\")\n",
    "\n",
    "# Intercept (вільний член): -0.0163\n",
    "# Coefficients (коефіцієнти): [0.         0.40082084 0.14213176 0.38208794]\n",
    "# Training MAE: 0.4983, MSE: 0.4461, R²: 0.4938\n",
    "# Testing MAE: 0.6765, MSE: 0.7861, R²: 0.4559"
   ]
  },
  {
   "cell_type": "markdown",
   "id": "1b45a37b",
   "metadata": {},
   "source": [
    "Виконаємо зворотнє масштабування."
   ]
  },
  {
   "cell_type": "code",
   "execution_count": 162,
   "id": "fac8091f",
   "metadata": {},
   "outputs": [
    {
     "name": "stdout",
     "output_type": "stream",
     "text": [
      "Test MAE: 1265275.6699, Test MSE: 2750040479309.0527, Test R²: 0.4559\n"
     ]
    }
   ],
   "source": [
    "# Зворотнє масштабування\n",
    "y_pred_original = scaler_y.inverse_transform(y_pred_scaled.reshape(-1, 1)).ravel()\n",
    "\n",
    "# Обчислення метрик на оригінальній шкалі\n",
    "mae = mean_absolute_error(\n",
    "    scaler_y.inverse_transform(y_test.reshape(-1, 1)), y_pred_original\n",
    ")\n",
    "mse = mean_squared_error(\n",
    "    scaler_y.inverse_transform(y_test.reshape(-1, 1)), y_pred_original\n",
    ")\n",
    "r2 = r2_score(scaler_y.inverse_transform(y_test.reshape(-1, 1)), y_pred_original)\n",
    "\n",
    "print(f\"Test MAE: {mae:.4f}, Test MSE: {mse:.4f}, Test R²: {r2:.4f}\")\n",
    "\n",
    "\n",
    "# Test MAE (оригінальні дані): 1265275.6699\n",
    "# Test MSE (оригінальні дані): 2750040479309.0522\n",
    "# Test R² (оригінальні дані): 0.4559"
   ]
  },
  {
   "cell_type": "code",
   "execution_count": 163,
   "id": "4e6be68e",
   "metadata": {},
   "outputs": [
    {
     "name": "stdout",
     "output_type": "stream",
     "text": [
      "Коефіцієнти: [0.4008 0.1421 0.3821]\n",
      "Вільний член (intersept): -0.0163\n"
     ]
    }
   ],
   "source": [
    "coefficients = lin_reg_model.coef_\n",
    "intercept = lin_reg_model.intercept_\n",
    "\n",
    "print(f\"Коефіцієнти: {coefficients.round(4)}\")\n",
    "print(f\"Вільний член (intersept): {intercept.round(4)}\")"
   ]
  },
  {
   "cell_type": "code",
   "execution_count": 167,
   "id": "3d0ab625",
   "metadata": {},
   "outputs": [
    {
     "name": "stdout",
     "output_type": "stream",
     "text": [
      "\n",
      "Справжні та прогнозовані значення:\n",
      "  Справжні значення Прогнозовані значення\n",
      "0      4_060_000.00          6_383_168.06\n",
      "1      6_650_000.00          6_230_250.35\n",
      "2      3_710_000.00          3_597_885.28\n",
      "3      6_440_000.00          4_289_730.84\n",
      "4      2_800_000.00          3_930_445.61\n"
     ]
    }
   ],
   "source": [
    "results = pd.DataFrame(\n",
    "    {\n",
    "        \"Справжні значення\": scaler_y.inverse_transform(y_test.reshape(-1, 1)).ravel(),\n",
    "        \"Прогнозовані значення\": y_pred_original,\n",
    "    }\n",
    ")\n",
    "\n",
    "results_formatted = results.copy()\n",
    "results_formatted[\"Справжні значення\"] = results_formatted[\"Справжні значення\"].apply(\n",
    "    lambda x: f\"{x:_.2f}\"\n",
    ")\n",
    "results_formatted[\"Прогнозовані значення\"] = results_formatted[\n",
    "    \"Прогнозовані значення\"\n",
    "].apply(lambda x: f\"{x:_.2f}\")\n",
    "\n",
    "print(\"\\nСправжні та прогнозовані значення:\")\n",
    "print(results_formatted.head())"
   ]
  },
  {
   "cell_type": "code",
   "execution_count": 168,
   "id": "abfda380",
   "metadata": {},
   "outputs": [
    {
     "data": {
      "image/png": "[encoded data removed]",
      "text/plain": [
       "<Figure size 1000x600 with 1 Axes>"
      ]
     },
     "metadata": {},
     "output_type": "display_data"
    }
   ],
   "source": [
    "import matplotlib.pyplot as plt\n",
    "import numpy as np\n",
    "\n",
    "plt.figure(figsize=(10, 6))\n",
    "plt.scatter(\n",
    "    y_test_original,\n",
    "    y_pred_original,\n",
    "    color=\"blue\",\n",
    "    label=\"Прогнозовані значення\",\n",
    "    alpha=0.6,\n",
    ")\n",
    "\n",
    "# Ідеальна лінія\n",
    "x_line = np.linspace(y_test_original.min(), y_test_original.max(), 100)\n",
    "plt.plot(x_line, x_line, color=\"red\", linestyle=\"--\", label=\"Ідеальне прогнозування\")\n",
    "\n",
    "plt.title(\"Розподіл справжніх і прогнозованих значень\")\n",
    "plt.xlabel(\"Справжні Значення\")\n",
    "plt.ylabel(\"Прогнозовані Значення\")\n",
    "plt.legend()\n",
    "plt.grid()\n",
    "\n",
    "plt.show()"
   ]
  },
  {
   "cell_type": "markdown",
   "id": "4bc558c9",
   "metadata": {},
   "source": [
    "Якщо ви не масштабували y, але масштабували незалежні змінні X, то немає потреби в зворотному масштабуванні, оскільки цільова змінна (наприклад, ціна) залишається в своїй початковій одиниці вимірювання. Втім, якщо ви масштабували y, то після отримання прогнозів потрібно провести зворотне масштабування, щоб перевести результати назад у початкові одиниці виміру."
   ]
  }
 ],
 "metadata": {
  "kernelspec": {
   "display_name": "conda_env_example",
   "language": "python",
   "name": "python3"
  },
  "language_info": {
   "codemirror_mode": {
    "name": "ipython",
    "version": 3
   },
   "file_extension": ".py",
   "mimetype": "text/x-python",
   "name": "python",
   "nbconvert_exporter": "python",
   "pygments_lexer": "ipython3",
   "version": "3.11.11"
  }
 },
 "nbformat": 4,
 "nbformat_minor": 5
}
