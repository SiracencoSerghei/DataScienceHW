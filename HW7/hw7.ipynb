{
  "cells": [
    {
      "cell_type": "markdown",
      "metadata": {
        "id": "view-in-github",
        "colab_type": "text"
      },
      "source": [
        "<a href=\"https://colab.research.google.com/github/SiracencoSerghei/DataScienceHW/blob/main/HW7/hw7.ipynb\" target=\"_parent\"><img src=\"https://colab.research.google.com/assets/colab-badge.svg\" alt=\"Open In Colab\"/></a>"
      ]
    },
    {
      "cell_type": "code",
      "source": [
        "!pip install scikit-surprise"
      ],
      "metadata": {
        "id": "VJTtEZBZw8HI",
        "outputId": "5aea7cfe-2314-49b1-9f03-cd68421b8204",
        "colab": {
          "base_uri": "https://localhost:8080/"
        }
      },
      "execution_count": 1,
      "outputs": [
        {
          "output_type": "stream",
          "name": "stdout",
          "text": [
            "Collecting scikit-surprise\n",
            "  Downloading scikit_surprise-1.1.4.tar.gz (154 kB)\n",
            "\u001b[?25l     \u001b[90m━━━━━━━━━━━━━━━━━━━━━━━━━━━━━━━━━━━━━━━━\u001b[0m \u001b[32m0.0/154.4 kB\u001b[0m \u001b[31m?\u001b[0m eta \u001b[36m-:--:--\u001b[0m\r\u001b[2K     \u001b[91m━━━━━━━━━━━━━━━━━━━━━━━━━━━━━━━━━━━━━━━\u001b[0m\u001b[91m╸\u001b[0m \u001b[32m153.6/154.4 kB\u001b[0m \u001b[31m5.6 MB/s\u001b[0m eta \u001b[36m0:00:01\u001b[0m\r\u001b[2K     \u001b[90m━━━━━━━━━━━━━━━━━━━━━━━━━━━━━━━━━━━━━━━━\u001b[0m \u001b[32m154.4/154.4 kB\u001b[0m \u001b[31m3.5 MB/s\u001b[0m eta \u001b[36m0:00:00\u001b[0m\n",
            "\u001b[?25h  Installing build dependencies ... \u001b[?25l\u001b[?25hdone\n",
            "  Getting requirements to build wheel ... \u001b[?25l\u001b[?25hdone\n",
            "  Preparing metadata (pyproject.toml) ... \u001b[?25l\u001b[?25hdone\n",
            "Requirement already satisfied: joblib>=1.2.0 in /usr/local/lib/python3.11/dist-packages (from scikit-surprise) (1.4.2)\n",
            "Requirement already satisfied: numpy>=1.19.5 in /usr/local/lib/python3.11/dist-packages (from scikit-surprise) (1.26.4)\n",
            "Requirement already satisfied: scipy>=1.6.0 in /usr/local/lib/python3.11/dist-packages (from scikit-surprise) (1.13.1)\n",
            "Building wheels for collected packages: scikit-surprise\n",
            "  Building wheel for scikit-surprise (pyproject.toml) ... \u001b[?25l\u001b[?25hdone\n",
            "  Created wheel for scikit-surprise: filename=scikit_surprise-1.1.4-cp311-cp311-linux_x86_64.whl size=2505174 sha256=47b476901e39a399306f02275f3d7f114681170da4e5402f61243ef2e68f756c\n",
            "  Stored in directory: /root/.cache/pip/wheels/2a/8f/6e/7e2899163e2d85d8266daab4aa1cdabec7a6c56f83c015b5af\n",
            "Successfully built scikit-surprise\n",
            "Installing collected packages: scikit-surprise\n",
            "Successfully installed scikit-surprise-1.1.4\n"
          ]
        }
      ]
    },
    {
      "cell_type": "code",
      "execution_count": 2,
      "metadata": {
        "vscode": {
          "languageId": "plaintext"
        },
        "id": "Qua-BBIswe0Y"
      },
      "outputs": [],
      "source": [
        "import numpy as np\n",
        "import pandas as pd\n",
        "\n",
        "from surprise import accuracy, Dataset, Reader, SVD, SVDpp, NMF\n",
        "from surprise.model_selection import cross_validate, train_test_split\n",
        "from surprise import Dataset"
      ]
    },
    {
      "cell_type": "code",
      "source": [
        "data = Dataset.load_builtin('ml-100k', prompt=True)"
      ],
      "metadata": {
        "id": "pUMHd8wTw3Yw",
        "colab": {
          "base_uri": "https://localhost:8080/"
        },
        "outputId": "e29fd24f-fe4c-48f9-c6f0-e754bbe16f03"
      },
      "execution_count": 3,
      "outputs": [
        {
          "output_type": "stream",
          "name": "stdout",
          "text": [
            "Dataset ml-100k could not be found. Do you want to download it? [Y/n] y\n",
            "Trying to download dataset from https://files.grouplens.org/datasets/movielens/ml-100k.zip...\n",
            "Done! Dataset ml-100k has been saved to /root/.surprise_data/ml-100k\n"
          ]
        }
      ]
    },
    {
      "cell_type": "code",
      "source": [
        "data"
      ],
      "metadata": {
        "id": "RNqkb1aS4vb1",
        "outputId": "fa543add-acf7-48c9-f6d1-a8ae14d6bdd4",
        "colab": {
          "base_uri": "https://localhost:8080/"
        }
      },
      "execution_count": 4,
      "outputs": [
        {
          "output_type": "execute_result",
          "data": {
            "text/plain": [
              "<surprise.dataset.DatasetAutoFolds at 0x7dc6c1330910>"
            ]
          },
          "metadata": {},
          "execution_count": 4
        }
      ]
    },
    {
      "cell_type": "code",
      "source": [
        "# Отримуємо список рейтингів у вигляді списку кортежів (user, item, rating)\n",
        "raw_ratings = data.raw_ratings\n",
        "\n",
        "# Створюємо DataFrame\n",
        "df = pd.DataFrame(raw_ratings, columns=[\"user_id\", \"item_id\", \"rating\", \"timestamp\"])\n",
        "\n",
        "# Виводимо перші 5 рядків\n",
        "print(df.head())"
      ],
      "metadata": {
        "id": "nrLcR7FlykfF",
        "outputId": "6f815197-7392-47cd-cc56-f67403141fa2",
        "colab": {
          "base_uri": "https://localhost:8080/"
        }
      },
      "execution_count": 5,
      "outputs": [
        {
          "output_type": "stream",
          "name": "stdout",
          "text": [
            "  user_id item_id  rating  timestamp\n",
            "0     196     242     3.0  881250949\n",
            "1     186     302     3.0  891717742\n",
            "2      22     377     1.0  878887116\n",
            "3     244      51     2.0  880606923\n",
            "4     166     346     1.0  886397596\n"
          ]
        }
      ]
    },
    {
      "cell_type": "markdown",
      "source": [
        "---\n",
        "# Використання алгоритму SVD\n",
        "---"
      ],
      "metadata": {
        "id": "91ALSJMXi2gI"
      }
    },
    {
      "cell_type": "code",
      "source": [
        "algo = SVD()\n",
        "\n",
        "# Run 5-fold cross-validation and print results\n",
        "result_svd = cross_validate(algo, data, measures=[\"RMSE\", \"MAE\"], cv=5, verbose=True)\n",
        "result_svd = pd.DataFrame.from_dict(result_svd).mean(axis=0)"
      ],
      "metadata": {
        "id": "BCA7NwZM4QVY",
        "outputId": "9e5ac0d5-16f6-49d9-ebdc-93aea1e180e2",
        "colab": {
          "base_uri": "https://localhost:8080/"
        }
      },
      "execution_count": 13,
      "outputs": [
        {
          "output_type": "stream",
          "name": "stdout",
          "text": [
            "Evaluating RMSE, MAE of algorithm SVD on 5 split(s).\n",
            "\n",
            "                  Fold 1  Fold 2  Fold 3  Fold 4  Fold 5  Mean    Std     \n",
            "RMSE (testset)    0.9326  0.9333  0.9434  0.9321  0.9378  0.9358  0.0043  \n",
            "MAE (testset)     0.7356  0.7357  0.7449  0.7337  0.7415  0.7383  0.0042  \n",
            "Fit time          1.23    1.18    1.23    1.22    1.39    1.25    0.07    \n",
            "Test time         0.09    0.21    0.08    0.29    0.09    0.15    0.09    \n"
          ]
        }
      ]
    },
    {
      "cell_type": "markdown",
      "source": [
        "---\n",
        "# Використання алгоритму SVD++\n",
        "---"
      ],
      "metadata": {
        "id": "8qU2fVPzi55D"
      }
    },
    {
      "cell_type": "code",
      "source": [
        "algoSVDpp = SVDpp()\n",
        "\n",
        "resultSVDpp = cross_validate(algoSVDpp, data, measures=['RMSE', 'MAE'], cv=5, verbose=True)\n",
        "resultSVDpp = pd.DataFrame.from_dict(resultSVDpp).mean(axis=0)"
      ],
      "metadata": {
        "colab": {
          "base_uri": "https://localhost:8080/"
        },
        "id": "ZQtx0SrqihZb",
        "outputId": "cfb7592b-3a65-474b-c723-190c113d007d"
      },
      "execution_count": 14,
      "outputs": [
        {
          "output_type": "stream",
          "name": "stdout",
          "text": [
            "Evaluating RMSE, MAE of algorithm SVDpp on 5 split(s).\n",
            "\n",
            "                  Fold 1  Fold 2  Fold 3  Fold 4  Fold 5  Mean    Std     \n",
            "RMSE (testset)    0.9190  0.9239  0.9201  0.9204  0.9194  0.9206  0.0018  \n",
            "MAE (testset)     0.7193  0.7239  0.7254  0.7224  0.7194  0.7221  0.0024  \n",
            "Fit time          25.51   25.64   25.55   26.90   25.87   25.89   0.52    \n",
            "Test time         4.86    4.27    4.74    4.42    4.44    4.55    0.22    \n"
          ]
        }
      ]
    },
    {
      "cell_type": "markdown",
      "source": [
        "---\n",
        "# Використання алгоритму NMF\n",
        "---"
      ],
      "metadata": {
        "id": "ToP9MbP4j-ke"
      }
    },
    {
      "cell_type": "code",
      "source": [
        "algoNMF = NMF()\n",
        "\n",
        "resultNMF = cross_validate(algoNMF, data, measures=['RMSE', 'MAE'], cv=5, verbose=True)\n",
        "resultNMF = pd.DataFrame.from_dict(resultNMF).mean(axis=0)"
      ],
      "metadata": {
        "colab": {
          "base_uri": "https://localhost:8080/"
        },
        "id": "-55PAOczkBH3",
        "outputId": "3ab5a9e6-3891-46b0-d826-37610751ee48"
      },
      "execution_count": 15,
      "outputs": [
        {
          "output_type": "stream",
          "name": "stdout",
          "text": [
            "Evaluating RMSE, MAE of algorithm NMF on 5 split(s).\n",
            "\n",
            "                  Fold 1  Fold 2  Fold 3  Fold 4  Fold 5  Mean    Std     \n",
            "RMSE (testset)    0.9646  0.9653  0.9603  0.9665  0.9674  0.9648  0.0025  \n",
            "MAE (testset)     0.7596  0.7602  0.7499  0.7604  0.7625  0.7585  0.0044  \n",
            "Fit time          2.27    2.59    2.25    2.30    2.26    2.34    0.13    \n",
            "Test time         0.21    0.08    0.08    0.08    0.08    0.10    0.05    \n"
          ]
        }
      ]
    },
    {
      "cell_type": "markdown",
      "source": [
        "---\n",
        "# Підсумки\n",
        "---"
      ],
      "metadata": {
        "id": "mzi-FnaqlkxJ"
      }
    },
    {
      "cell_type": "code",
      "source": [
        "agg_results = pd.DataFrame({\n",
        "    \"SVD\": result_svd,\n",
        "    \"SVD++\": resultSVDpp,\n",
        "    \"NMF\": resultNMF\n",
        "})\n",
        "\n",
        "print(agg_results)\n"
      ],
      "metadata": {
        "colab": {
          "base_uri": "https://localhost:8080/"
        },
        "id": "pibMdx9bluuR",
        "outputId": "41296bec-9e82-40eb-bda1-9e3034353dbe"
      },
      "execution_count": 25,
      "outputs": [
        {
          "output_type": "stream",
          "name": "stdout",
          "text": [
            "                SVD      SVD++       NMF\n",
            "test_rmse  0.935846   0.920561  0.964826\n",
            "test_mae   0.738280   0.722107  0.758532\n",
            "fit_time   1.247777  25.894733  2.336383\n",
            "test_time  0.151258   4.546071  0.104412\n"
          ]
        }
      ]
    },
    {
      "cell_type": "markdown",
      "source": [
        "# **Висновки**\n",
        "\n",
        "<u>Якщо потрібна найкраща точність:</u> **→ SVD++**\n",
        "\n",
        "✅ Найменші похибки (RMSE = 0.9206, MAE = 0.7221)\n",
        "\n",
        "❌ Дуже повільне навчання (25.89 секунд) і тестування (4.55 секунд).\n",
        "\n",
        "\n",
        "<u>Якщо потрібна швидкість і висока точність:</u> **→ SVD**\n",
        "\n",
        "✅ Достатньо точний (RMSE = 0.9358, MAE = 0.7383)\n",
        "\n",
        "✅ Швидке навчання (1.25 секунди) та тестування (0.15 секунди).\n",
        "\n",
        "<u>Якщо точність не критична, але важлива інтерпретація:</u> **→ NMF**\n",
        "\n",
        "✅ Модель легко інтерпретувати, оскільки базується на матричному розкладі.\n",
        "\n",
        "❌ Найгірша точність (RMSE = 0.9648, MAE = 0.7585).\n",
        "\n",
        "**Рекомендація**\n",
        "\n",
        "Якщо ресурсів обмежено, виберіть SVD — він достатньо точний і швидкий.\n",
        "\n",
        "Якщо найвища точність критична, використовуйте SVD++, але готуйтеся до довгого навчання.\n",
        "\n",
        "NMF підходить лише, якщо потрібна зрозуміла модель, але вона менш точна."
      ],
      "metadata": {
        "id": "euvGjKVqqWd_"
      }
    },
    {
      "cell_type": "markdown",
      "source": [
        "---\n",
        "# Тест передбачення\n",
        "---"
      ],
      "metadata": {
        "id": "80DTft0ms70-"
      }
    },
    {
      "cell_type": "code",
      "source": [
        "# Приклад: передбачення рейтингу для користувача '196' та фільму '242'\n",
        "user_id = '196'\n",
        "item_id = '242'\n",
        "\n",
        "# Викликаємо метод predict() для отримання прогнозу\n",
        "prediction = algo.predict(user_id, item_id)\n",
        "\n",
        "# Виводимо передбачений рейтинг\n",
        "print(f\"Передбачений рейтинг для користувача {user_id} та фільму {item_id} - SVD: {prediction.est:.4f}\")\n",
        "\n",
        "\n",
        "# Для SVD++\n",
        "prediction_svdpp = algoSVDpp.predict(user_id, item_id)\n",
        "print(f\"SVD++: Передбачений рейтинг: {prediction_svdpp.est:.4f}\")\n",
        "\n",
        "# Для NMF\n",
        "prediction_nmf = algoNMF.predict(user_id, item_id)\n",
        "print(f\"NMF: Передбачений рейтинг: {prediction_nmf.est:.4f}\")\n",
        "\n",
        "\n",
        "# Фільтруємо DataFrame за користувачем і фільмом\n",
        "actual_rating = df[(df[\"user_id\"] == user_id) & (df[\"item_id\"] == item_id)]\n",
        "\n",
        "# Якщо запис знайдено, виводимо реальний рейтинг\n",
        "if not actual_rating.empty:\n",
        "    print(f\"Реальний рейтинг користувача {user_id} для фільму {item_id}: {actual_rating['rating'].values[0]}\")\n",
        "else:\n",
        "    print(f\"Користувач {user_id} не оцінював фільм {item_id}\")"
      ],
      "metadata": {
        "id": "oBvcsjzrtB8P",
        "outputId": "be286fa1-5803-4bb1-d395-3eaca3da0a49",
        "colab": {
          "base_uri": "https://localhost:8080/"
        }
      },
      "execution_count": 28,
      "outputs": [
        {
          "output_type": "stream",
          "name": "stdout",
          "text": [
            "Передбачений рейтинг для користувача 196 та фільму 242  SVD: 3.9609\n",
            "SVD++: Передбачений рейтинг: 3.9189\n",
            "NMF: Передбачений рейтинг: 4.1517\n",
            "Реальний рейтинг користувача 196 для фільму 242: 3.0\n"
          ]
        }
      ]
    },
    {
      "cell_type": "markdown",
      "source": [
        "---\n",
        "# **Додаткове завдання з зірочкою**\n",
        "---\n",
        "\n",
        "Алгоритм колабораційної фільтрації"
      ],
      "metadata": {
        "id": "KVNeNaYnr4SU"
      }
    },
    {
      "cell_type": "code",
      "source": [],
      "metadata": {
        "id": "KMuR3wu7sPiD"
      },
      "execution_count": null,
      "outputs": []
    }
  ],
  "metadata": {
    "language_info": {
      "name": "python"
    },
    "colab": {
      "provenance": [],
      "include_colab_link": true
    },
    "kernelspec": {
      "name": "python3",
      "display_name": "Python 3"
    }
  },
  "nbformat": 4,
  "nbformat_minor": 0
}