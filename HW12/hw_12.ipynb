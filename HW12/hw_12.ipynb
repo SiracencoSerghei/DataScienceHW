{
  "cells": [
    {
      "cell_type": "markdown",
      "metadata": {
        "id": "view-in-github",
        "colab_type": "text"
      },
      "source": [
        "<a href=\"https://colab.research.google.com/github/SiracencoSerghei/DataScienceHW/blob/main/HW12/hw_12.ipynb\" target=\"_parent\"><img src=\"https://colab.research.google.com/assets/colab-badge.svg\" alt=\"Open In Colab\"/></a>"
      ]
    },
    {
      "cell_type": "code",
      "execution_count": 5,
      "id": "53325d11",
      "metadata": {
        "id": "53325d11"
      },
      "outputs": [],
      "source": [
        "import spacy\n",
        "import nltk\n",
        "from nltk.corpus import stopwords\n",
        "from nltk.tokenize import word_tokenize, sent_tokenize\n",
        "from string import punctuation\n",
        "from heapq import nlargest"
      ]
    },
    {
      "cell_type": "code",
      "execution_count": 6,
      "id": "dd0c498f",
      "metadata": {
        "id": "dd0c498f",
        "outputId": "9719b0d9-d457-474d-ab88-391702b88b93",
        "colab": {
          "base_uri": "https://localhost:8080/"
        }
      },
      "outputs": [
        {
          "output_type": "stream",
          "name": "stderr",
          "text": [
            "[nltk_data] Downloading package punkt to /root/nltk_data...\n",
            "[nltk_data]   Package punkt is already up-to-date!\n",
            "[nltk_data] Downloading package punkt_tab to /root/nltk_data...\n",
            "[nltk_data]   Unzipping tokenizers/punkt_tab.zip.\n",
            "[nltk_data] Downloading package stopwords to /root/nltk_data...\n",
            "[nltk_data]   Package stopwords is already up-to-date!\n"
          ]
        },
        {
          "output_type": "execute_result",
          "data": {
            "text/plain": [
              "True"
            ]
          },
          "metadata": {},
          "execution_count": 6
        }
      ],
      "source": [
        "# Завантаження англійської моделі SpaCy\n",
        "nlp = spacy.load(\"en_core_web_sm\")\n",
        "\n",
        "# Завантаження необхідних ресурсів NLTK\n",
        "nltk.download(\"punkt\")\n",
        "nltk.download('punkt_tab')  # нові дані для токенізації\n",
        "nltk.download(\"stopwords\")"
      ]
    },
    {
      "cell_type": "code",
      "execution_count": 7,
      "id": "9d32d7c2",
      "metadata": {
        "id": "9d32d7c2"
      },
      "outputs": [],
      "source": [
        "# --- Текст для обробки ---\n",
        "text = \"\"\"The Orbiter Discovery, OV-103, is considered eligible for listing in the National Register of Historic Places (NRHP) in the context of the U.S. Space Shuttle Program (1969-2011) under Criterion A in the areas of Space Exploration and Transportation and under Criterion C in the area of Engineering. Because it has achieved significance within the past fifty years, Criteria Consideration G applies. Under Criterion A, Discovery is significant as the oldest of the three extant orbiter vehicles constructed for the Space Shuttle Program (SSP), the longest running American space program to date; she was the third of five orbiters built by NASA. Unlike the Mercury, Gemini, and Apollo programs, the SSP’s emphasis was on cost effectiveness and reusability, and eventually the construction of a space station. Including her maiden voyage (launched August 30, 1984), Discovery flew to space thirty-nine times, more than any of the other four orbiters; she was also the first orbiter to fly twenty missions. She had the honor of being chosen as the Return to Flight vehicle after both the Challenger and Columbia accidents. Discovery was the first shuttle to fly with the redesigned SRBs, a result of the Challenger accident, and the first shuttle to fly with the Phase II and Block I SSME. Discovery also carried the Hubble Space Telescope to orbit and performed two of the five servicing missions to the observatory. She flew the first and last dedicated Department of Defense (DoD) missions, as well as the first unclassified defense-related mission. In addition, Discovery was vital to the construction of the International Space Station (ISS); she flew thirteen of the thirty-seven total missions flown to the station by a U.S. Space Shuttle. She was the first orbiter to dock to the ISS, and the first to perform an exchange of a resident crew. Under Criterion C, Discovery is significant as a feat of engineering. According to Wayne Hale, a flight director from Johnson Space Center, the Space Shuttle orbiter represents a “huge technological leap from expendable rockets and capsules to a reusable, winged, hypersonic, cargo-carrying spacecraft.” Although her base structure followed a conventional aircraft design, she used advanced materials that both minimized her weight for cargo-carrying purposes and featured low thermal expansion ratios, which provided a stable base for her Thermal Protection System (TPS) materials. The Space Shuttle orbiter also featured the first reusable TPS; all previous spaceflight vehicles had a single-use, ablative heat shield. Other notable engineering achievements of the orbiter included the first reusable orbital propulsion system, and the first two-fault-tolerant Integrated Avionics System. As Hale stated, the Space Shuttle remains “the largest, fastest, winged hypersonic aircraft in history,” having regularly flown at twenty-five times the speed of sound.\n",
        "\"\"\""
      ]
    },
    {
      "cell_type": "code",
      "execution_count": 8,
      "id": "4e526a2e",
      "metadata": {
        "id": "4e526a2e"
      },
      "outputs": [],
      "source": [
        "# --- 1. Токенізація речень ---\n",
        "# Використовуємо NLTK, щоб розбити текст на окремі речення\n",
        "sentence_tokens = sent_tokenize(text)"
      ]
    },
    {
      "cell_type": "code",
      "execution_count": 9,
      "id": "ee4256cc",
      "metadata": {
        "id": "ee4256cc"
      },
      "outputs": [],
      "source": [
        "# --- 2. Лематизація та токенізація слів з SpaCy ---\n",
        "doc = nlp(text)"
      ]
    },
    {
      "cell_type": "code",
      "execution_count": 10,
      "id": "631b8cf6",
      "metadata": {
        "id": "631b8cf6"
      },
      "outputs": [],
      "source": [
        "# --- 3. Список стоп-слів та пунктуації ---\n",
        "stop_words = set(stopwords.words(\"english\"))\n",
        "punctuation_symbols = set(punctuation + \"\\n\\r\\t \")"
      ]
    },
    {
      "cell_type": "code",
      "execution_count": 11,
      "id": "93377b48",
      "metadata": {
        "id": "93377b48",
        "outputId": "4cf4f5b0-0281-41e9-b807-6bc19593544b",
        "colab": {
          "base_uri": "https://localhost:8080/"
        }
      },
      "outputs": [
        {
          "output_type": "execute_result",
          "data": {
            "text/plain": [
              "{'orbiter': 9,\n",
              " 'discovery': 7,\n",
              " 'ov-103': 1,\n",
              " 'consider': 1,\n",
              " 'eligible': 1,\n",
              " 'list': 1,\n",
              " 'national': 1,\n",
              " 'register': 1,\n",
              " 'historic': 1,\n",
              " 'places': 1,\n",
              " 'nrhp': 1,\n",
              " 'context': 1,\n",
              " 'u.s.': 2,\n",
              " 'space': 13,\n",
              " 'shuttle': 8,\n",
              " 'program': 4,\n",
              " '1969': 1,\n",
              " '2011': 1,\n",
              " 'criterion': 4,\n",
              " 'area': 2,\n",
              " 'exploration': 1,\n",
              " 'transportation': 1,\n",
              " 'c': 2,\n",
              " 'engineering': 3,\n",
              " 'achieve': 1,\n",
              " 'significance': 1,\n",
              " 'within': 1,\n",
              " 'past': 1,\n",
              " 'fifty': 1,\n",
              " 'year': 1,\n",
              " 'criteria': 1,\n",
              " 'consideration': 1,\n",
              " 'g': 1,\n",
              " 'apply': 1,\n",
              " 'significant': 2,\n",
              " 'old': 1,\n",
              " 'three': 1,\n",
              " 'extant': 1,\n",
              " 'vehicle': 3,\n",
              " 'construct': 1,\n",
              " 'ssp': 2,\n",
              " 'long': 1,\n",
              " 'running': 1,\n",
              " 'american': 1,\n",
              " 'date': 1,\n",
              " 'third': 1,\n",
              " 'five': 3,\n",
              " 'build': 1,\n",
              " 'nasa': 1,\n",
              " 'unlike': 1,\n",
              " 'mercury': 1,\n",
              " 'gemini': 1,\n",
              " 'apollo': 1,\n",
              " '’s': 1,\n",
              " 'emphasis': 1,\n",
              " 'cost': 1,\n",
              " 'effectiveness': 1,\n",
              " 'reusability': 1,\n",
              " 'eventually': 1,\n",
              " 'construction': 2,\n",
              " 'station': 3,\n",
              " 'include': 2,\n",
              " 'maiden': 1,\n",
              " 'voyage': 1,\n",
              " 'launch': 1,\n",
              " 'august': 1,\n",
              " '30': 1,\n",
              " '1984': 1,\n",
              " 'fly': 8,\n",
              " 'thirty': 2,\n",
              " 'nine': 1,\n",
              " 'time': 2,\n",
              " 'four': 1,\n",
              " 'also': 3,\n",
              " 'first': 10,\n",
              " 'twenty': 2,\n",
              " 'mission': 5,\n",
              " 'honor': 1,\n",
              " 'choose': 1,\n",
              " 'return': 1,\n",
              " 'flight': 2,\n",
              " 'challenger': 2,\n",
              " 'columbia': 1,\n",
              " 'accident': 2,\n",
              " 'redesign': 1,\n",
              " 'srb': 1,\n",
              " 'result': 1,\n",
              " 'phase': 1,\n",
              " 'ii': 1,\n",
              " 'block': 1,\n",
              " 'ssme': 1,\n",
              " 'carry': 3,\n",
              " 'hubble': 1,\n",
              " 'telescope': 1,\n",
              " 'orbit': 1,\n",
              " 'perform': 2,\n",
              " 'two': 2,\n",
              " 'servicing': 1,\n",
              " 'observatory': 1,\n",
              " 'last': 1,\n",
              " 'dedicated': 1,\n",
              " 'department': 1,\n",
              " 'defense': 2,\n",
              " 'dod': 1,\n",
              " 'well': 1,\n",
              " 'unclassified': 1,\n",
              " 'relate': 1,\n",
              " 'addition': 1,\n",
              " 'vital': 1,\n",
              " 'international': 1,\n",
              " 'iss': 2,\n",
              " 'thirteen': 1,\n",
              " 'seven': 1,\n",
              " 'total': 1,\n",
              " 'dock': 1,\n",
              " 'exchange': 1,\n",
              " 'resident': 1,\n",
              " 'crew': 1,\n",
              " 'feat': 1,\n",
              " 'accord': 1,\n",
              " 'wayne': 1,\n",
              " 'hale': 2,\n",
              " 'director': 1,\n",
              " 'johnson': 1,\n",
              " 'center': 1,\n",
              " 'represent': 1,\n",
              " '\"': 4,\n",
              " 'huge': 1,\n",
              " 'technological': 1,\n",
              " 'leap': 1,\n",
              " 'expendable': 1,\n",
              " 'rocket': 1,\n",
              " 'capsule': 1,\n",
              " 'reusable': 3,\n",
              " 'wing': 2,\n",
              " 'hypersonic': 2,\n",
              " 'cargo': 2,\n",
              " 'spacecraft': 1,\n",
              " 'although': 1,\n",
              " 'base': 2,\n",
              " 'structure': 1,\n",
              " 'follow': 1,\n",
              " 'conventional': 1,\n",
              " 'aircraft': 2,\n",
              " 'design': 1,\n",
              " 'use': 2,\n",
              " 'advanced': 1,\n",
              " 'material': 2,\n",
              " 'minimize': 1,\n",
              " 'weight': 1,\n",
              " 'purpose': 1,\n",
              " 'feature': 2,\n",
              " 'low': 1,\n",
              " 'thermal': 2,\n",
              " 'expansion': 1,\n",
              " 'ratio': 1,\n",
              " 'provide': 1,\n",
              " 'stable': 1,\n",
              " 'protection': 1,\n",
              " 'system': 3,\n",
              " 'tps': 2,\n",
              " 'previous': 1,\n",
              " 'spaceflight': 1,\n",
              " 'single': 1,\n",
              " 'ablative': 1,\n",
              " 'heat': 1,\n",
              " 'shield': 1,\n",
              " 'notable': 1,\n",
              " 'achievement': 1,\n",
              " 'orbital': 1,\n",
              " 'propulsion': 1,\n",
              " 'fault': 1,\n",
              " 'tolerant': 1,\n",
              " 'integrated': 1,\n",
              " 'avionics': 1,\n",
              " 'state': 1,\n",
              " 'remain': 1,\n",
              " 'large': 1,\n",
              " 'fast': 1,\n",
              " 'history': 1,\n",
              " 'regularly': 1,\n",
              " 'speed': 1,\n",
              " 'sound': 1}"
            ]
          },
          "metadata": {},
          "execution_count": 11
        }
      ],
      "source": [
        "# --- 4. Розрахунок частоти слів ---\n",
        "word_frequencies = {}\n",
        "for token in doc:\n",
        "    # Перевірка: слово не є стоп-словом та не є пунктуацією\n",
        "    if (\n",
        "        token.text.lower() not in stop_words\n",
        "        and token.text.lower() not in punctuation_symbols\n",
        "    ):\n",
        "        # Лематизоване слово беремо як ключ\n",
        "        word = token.lemma_.lower()\n",
        "        if word not in word_frequencies:\n",
        "            word_frequencies[word] = 1\n",
        "        else:\n",
        "            word_frequencies[word] += 1\n",
        "word_frequencies"
      ]
    },
    {
      "cell_type": "code",
      "execution_count": 12,
      "id": "8b28d60d",
      "metadata": {
        "id": "8b28d60d"
      },
      "outputs": [],
      "source": [
        "# --- 5. Нормалізація частот ---\n",
        "# Ділимо на найбільше значення, щоб отримати вагу в діапазоні 0..1\n",
        "max_freq = max(word_frequencies.values())\n",
        "for word in word_frequencies:\n",
        "    word_frequencies[word] /= max_freq"
      ]
    },
    {
      "cell_type": "code",
      "execution_count": 13,
      "id": "825e3d5c",
      "metadata": {
        "id": "825e3d5c",
        "outputId": "a707dc0e-d6cb-4735-ddb5-2cf4fe5e82b0",
        "colab": {
          "base_uri": "https://localhost:8080/"
        }
      },
      "outputs": [
        {
          "output_type": "execute_result",
          "data": {
            "text/plain": [
              "{'The Orbiter Discovery, OV-103, is considered eligible for listing in the National Register of Historic Places (NRHP) in the context of the U.S. Space Shuttle Program (1969-2011) under Criterion A in the areas of Space Exploration and Transportation and under Criterion C in the area of Engineering.': 6.692307692307692,\n",
              " 'Because it has achieved significance within the past fifty years, Criteria Consideration G applies.': 0.7692307692307692,\n",
              " 'Under Criterion A, Discovery is significant as the oldest of the three extant orbiter vehicles constructed for the Space Shuttle Program (SSP), the longest running American space program to date; she was the third of five orbiters built by NASA.': 7.076923076923076,\n",
              " 'Unlike the Mercury, Gemini, and Apollo programs, the SSP’s emphasis was on cost effectiveness and reusability, and eventually the construction of a space station.': 2.6153846153846154,\n",
              " 'Including her maiden voyage (launched August 30, 1984), Discovery flew to space thirty-nine times, more than any of the other four orbiters; she was also the first orbiter to fly twenty missions.': 6.769230769230771,\n",
              " 'She had the honor of being chosen as the Return to Flight vehicle after both the Challenger and Columbia accidents.': 1.0,\n",
              " 'Discovery was the first shuttle to fly with the redesigned SRBs, a result of the Challenger accident, and the first shuttle to fly with the Phase II and Block I SSME.': 5.384615384615383,\n",
              " 'Discovery also carried the Hubble Space Telescope to orbit and performed two of the five servicing missions to the observatory.': 3.307692307692308,\n",
              " 'She flew the first and last dedicated Department of Defense (DoD) missions, as well as the first unclassified defense-related mission.': 3.7692307692307696,\n",
              " 'In addition, Discovery was vital to the construction of the International Space Station (ISS); she flew thirteen of the thirty-seven total missions flown to the station by a U.S. Space Shuttle.': 6.307692307692308,\n",
              " 'She was the first orbiter to dock to the ISS, and the first to perform an exchange of a resident crew.': 2.8461538461538467,\n",
              " 'Under Criterion C, Discovery is significant as a feat of engineering.': 1.4615384615384615,\n",
              " 'According to Wayne Hale, a flight director from Johnson Space Center, the Space Shuttle orbiter represents a “huge technological leap from expendable rockets and capsules to a reusable, winged, hypersonic, cargo-carrying spacecraft.” Although her base structure followed a conventional aircraft design, she used advanced materials that both minimized her weight for cargo-carrying purposes and featured low thermal expansion ratios, which provided a stable base for her Thermal Protection System (TPS) materials.': 9.461538461538455,\n",
              " 'The Space Shuttle orbiter also featured the first reusable TPS; all previous spaceflight vehicles had a single-use, ablative heat shield.': 4.692307692307692,\n",
              " 'Other notable engineering achievements of the orbiter included the first reusable orbital propulsion system, and the first two-fault-tolerant Integrated Avionics System.': 4.0769230769230775,\n",
              " 'As Hale stated, the Space Shuttle remains “the largest, fastest, winged hypersonic aircraft in history,” having regularly flown at twenty-five times the speed of sound.': 4.615384615384616}"
            ]
          },
          "metadata": {},
          "execution_count": 13
        }
      ],
      "source": [
        "# --- 6. Оцінка ваги речень ---\n",
        "sentence_scores = {}\n",
        "for sent in sentence_tokens:\n",
        "    sent_doc = nlp(sent)  # обробка кожного речення в SpaCy\n",
        "    for token in sent_doc:\n",
        "        lemma = token.lemma_.lower()\n",
        "        if lemma in word_frequencies:\n",
        "            if sent not in sentence_scores:\n",
        "                sentence_scores[sent] = word_frequencies[lemma]\n",
        "            else:\n",
        "                sentence_scores[sent] += word_frequencies[lemma]\n",
        "sentence_scores"
      ]
    },
    {
      "cell_type": "code",
      "execution_count": 14,
      "id": "7bbdbece",
      "metadata": {
        "id": "7bbdbece"
      },
      "outputs": [],
      "source": [
        "# --- 7. Формування summary ---\n",
        "select_length = len(sentence_tokens)\n",
        "summary_sentences = nlargest(select_length, sentence_scores, key=sentence_scores.get)"
      ]
    },
    {
      "cell_type": "code",
      "execution_count": 15,
      "id": "360cec10",
      "metadata": {
        "id": "360cec10",
        "outputId": "a2f8ec52-a414-4161-e53e-be2cd5291150",
        "colab": {
          "base_uri": "https://localhost:8080/"
        }
      },
      "outputs": [
        {
          "output_type": "stream",
          "name": "stdout",
          "text": [
            "----- Summary -----\n",
            "According to Wayne Hale, a flight director from Johnson Space Center, the Space Shuttle orbiter represents a “huge technological leap from expendable rockets and capsules to a reusable, winged, hypersonic, cargo-carrying spacecraft.” Although her base structure followed a conventional aircraft design, she used advanced materials that both minimized her weight for cargo-carrying purposes and featured low thermal expansion ratios, which provided a stable base for her Thermal Protection System (TPS) materials.\n",
            " \n",
            "Under Criterion A, Discovery is significant as the oldest of the three extant orbiter vehicles constructed for the Space Shuttle Program (SSP), the longest running American space program to date; she was the third of five orbiters built by NASA.\n",
            " \n",
            "Including her maiden voyage (launched August 30, 1984), Discovery flew to space thirty-nine times, more than any of the other four orbiters; she was also the first orbiter to fly twenty missions.\n",
            " \n",
            "The Orbiter Discovery, OV-103, is considered eligible for listing in the National Register of Historic Places (NRHP) in the context of the U.S. Space Shuttle Program (1969-2011) under Criterion A in the areas of Space Exploration and Transportation and under Criterion C in the area of Engineering.\n",
            " \n",
            "In addition, Discovery was vital to the construction of the International Space Station (ISS); she flew thirteen of the thirty-seven total missions flown to the station by a U.S. Space Shuttle.\n",
            " \n",
            "Discovery was the first shuttle to fly with the redesigned SRBs, a result of the Challenger accident, and the first shuttle to fly with the Phase II and Block I SSME.\n",
            " \n",
            "The Space Shuttle orbiter also featured the first reusable TPS; all previous spaceflight vehicles had a single-use, ablative heat shield.\n",
            " \n",
            "As Hale stated, the Space Shuttle remains “the largest, fastest, winged hypersonic aircraft in history,” having regularly flown at twenty-five times the speed of sound.\n",
            " \n",
            "Other notable engineering achievements of the orbiter included the first reusable orbital propulsion system, and the first two-fault-tolerant Integrated Avionics System.\n",
            " \n",
            "She flew the first and last dedicated Department of Defense (DoD) missions, as well as the first unclassified defense-related mission.\n",
            " \n",
            "Discovery also carried the Hubble Space Telescope to orbit and performed two of the five servicing missions to the observatory.\n",
            " \n",
            "She was the first orbiter to dock to the ISS, and the first to perform an exchange of a resident crew.\n",
            " \n",
            "Unlike the Mercury, Gemini, and Apollo programs, the SSP’s emphasis was on cost effectiveness and reusability, and eventually the construction of a space station.\n",
            " \n",
            "Under Criterion C, Discovery is significant as a feat of engineering.\n",
            " \n",
            "She had the honor of being chosen as the Return to Flight vehicle after both the Challenger and Columbia accidents.\n",
            " \n",
            "Because it has achieved significance within the past fifty years, Criteria Consideration G applies.\n",
            " \n"
          ]
        }
      ],
      "source": [
        "print(\"----- Summary -----\")\n",
        "for sentence in summary_sentences:\n",
        "    print(sentence)\n",
        "    print(' ')"
      ]
    }
  ],
  "metadata": {
    "kernelspec": {
      "display_name": "conda_env_example",
      "language": "python",
      "name": "python3"
    },
    "language_info": {
      "codemirror_mode": {
        "name": "ipython",
        "version": 3
      },
      "file_extension": ".py",
      "mimetype": "text/x-python",
      "name": "python",
      "nbconvert_exporter": "python",
      "pygments_lexer": "ipython3",
      "version": "3.11.11"
    },
    "colab": {
      "provenance": [],
      "include_colab_link": true
    }
  },
  "nbformat": 4,
  "nbformat_minor": 5
}