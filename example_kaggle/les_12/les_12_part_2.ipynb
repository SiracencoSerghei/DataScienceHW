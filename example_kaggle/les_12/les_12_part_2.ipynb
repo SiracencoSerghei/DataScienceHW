{
 "cells": [
  {
   "cell_type": "markdown",
   "id": "34f013d9",
   "metadata": {},
   "source": [
    "\n",
    "https://www.tensorflow.org/text/tutorials/text_generation\n",
    "\n",
    "https://www.tensorflow.org/text/tutorials/nmt_with_attention\n",
    "\n",
    "https://www.tensorflow.org/text/tutorials/transformer\n"
   ]
  },
  {
   "cell_type": "markdown",
   "id": "1bdacae8",
   "metadata": {},
   "source": []
  },
  {
   "cell_type": "code",
   "execution_count": 1,
   "id": "e2e41a56",
   "metadata": {},
   "outputs": [
    {
     "name": "stderr",
     "output_type": "stream",
     "text": [
      "2025-07-31 14:33:34.640737: I tensorflow/core/util/port.cc:153] oneDNN custom operations are on. You may see slightly different numerical results due to floating-point round-off errors from different computation orders. To turn them off, set the environment variable `TF_ENABLE_ONEDNN_OPTS=0`.\n",
      "2025-07-31 14:33:34.810054: I tensorflow/core/platform/cpu_feature_guard.cc:210] This TensorFlow binary is optimized to use available CPU instructions in performance-critical operations.\n",
      "To enable the following instructions: SSE4.1 SSE4.2 AVX AVX2 AVX512F AVX512_VNNI FMA, in other operations, rebuild TensorFlow with the appropriate compiler flags.\n"
     ]
    }
   ],
   "source": [
    "import numpy as np\n",
    "import pandas as pd\n",
    "import matplotlib.pyplot as plt\n",
    "\n",
    "import tensorflow as tf\n"
   ]
  },
  {
   "cell_type": "markdown",
   "id": "c7c861e2",
   "metadata": {},
   "source": [
    "# Own transformer"
   ]
  },
  {
   "cell_type": "code",
   "execution_count": null,
   "id": "9f4ff93d",
   "metadata": {},
   "outputs": [],
   "source": [
    "# !pip install tf-models-official"
   ]
  },
  {
   "cell_type": "code",
   "execution_count": null,
   "id": "370097cd",
   "metadata": {},
   "outputs": [],
   "source": [
    "import tensorflow_models as tfm"
   ]
  },
  {
   "cell_type": "code",
   "execution_count": null,
   "id": "d66c043f",
   "metadata": {},
   "outputs": [],
   "source": [
    "t = tf.random.normal(shape=(1, 3, 4))\n",
    "display(t)\n",
    "\n",
    "t_layer = tfm.nlp.layers.Transformer(num_attention_heads=4, intermediate_size=4*4, intermediate_activation='relu')\n",
    "display(t_layer(t))\n"
   ]
  }
 ],
 "metadata": {
  "kernelspec": {
   "display_name": "conda_env_example",
   "language": "python",
   "name": "python3"
  },
  "language_info": {
   "codemirror_mode": {
    "name": "ipython",
    "version": 3
   },
   "file_extension": ".py",
   "mimetype": "text/x-python",
   "name": "python",
   "nbconvert_exporter": "python",
   "pygments_lexer": "ipython3",
   "version": "3.11.11"
  }
 },
 "nbformat": 4,
 "nbformat_minor": 5
}
