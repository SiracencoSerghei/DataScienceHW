{
  "cells": [
    {
      "cell_type": "markdown",
      "metadata": {
        "id": "view-in-github",
        "colab_type": "text"
      },
      "source": [
        "<a href=\"https://colab.research.google.com/github/SiracencoSerghei/DataScienceHW/blob/main/example_kaggle/les_12/Module_12_1_NLP.ipynb\" target=\"_parent\"><img src=\"https://colab.research.google.com/assets/colab-badge.svg\" alt=\"Open In Colab\"/></a>"
      ]
    },
    {
      "cell_type": "markdown",
      "id": "6e99d2d2-015d-4305-a487-7a0d0b36a263",
      "metadata": {
        "id": "6e99d2d2-015d-4305-a487-7a0d0b36a263"
      },
      "source": [
        "# Introduction to NLP"
      ]
    },
    {
      "cell_type": "markdown",
      "id": "a4967310-0a20-4ac9-a4ea-72b84ab84237",
      "metadata": {
        "id": "a4967310-0a20-4ac9-a4ea-72b84ab84237"
      },
      "source": [
        "Main building blocks of an NLP application:\n",
        "- tokenization\n",
        "- word embeddings\n",
        "- sequence modeling\n",
        "- common applications"
      ]
    },
    {
      "cell_type": "markdown",
      "id": "1d401f27-7701-44f8-b6bb-0ff5771ee766",
      "metadata": {
        "id": "1d401f27-7701-44f8-b6bb-0ff5771ee766"
      },
      "source": [
        "### Lemmatization\n",
        " Lemmatization reduces words to their base or dictionary form (i.e., lemma)."
      ]
    },
    {
      "cell_type": "code",
      "execution_count": null,
      "id": "5a6d6f60-7b99-46bd-a614-cc3b97261bf1",
      "metadata": {
        "id": "5a6d6f60-7b99-46bd-a614-cc3b97261bf1",
        "outputId": "8724744e-88f0-46e8-bd31-c032ad806874"
      },
      "outputs": [
        {
          "name": "stderr",
          "output_type": "stream",
          "text": [
            "[nltk_data] Downloading package wordnet to\n",
            "[nltk_data]     /Users/nataliakees/nltk_data...\n",
            "[nltk_data]   Package wordnet is already up-to-date!\n"
          ]
        },
        {
          "name": "stdout",
          "output_type": "stream",
          "text": [
            "Original words: ['Running', 'wild', 'cats', 'run', 'in', 'the', 'forest', '.', 'They', 'ran', 'away', 'when', 'they', 'saw', 'a', 'pack', 'of', 'wolves', '.']\n",
            "Lemmatized words: ['Running', 'wild', 'cat', 'run', 'in', 'the', 'forest', '.', 'They', 'ran', 'away', 'when', 'they', 'saw', 'a', 'pack', 'of', 'wolf', '.']\n"
          ]
        }
      ],
      "source": [
        "import nltk\n",
        "from nltk.stem import WordNetLemmatizer\n",
        "nltk.download('wordnet')  # https://www.nltk.org/api/nltk.corpus.reader.wordnet.html\n",
        "\n",
        "# Sample text\n",
        "text = \"Running wild cats run in the forest. They ran away when they saw a pack of wolves.\"\n",
        "\n",
        "# Tokenize the text into words\n",
        "words = nltk.word_tokenize(text)\n",
        "\n",
        "# Initialize WordNetLemmatizer\n",
        "lemmatizer = WordNetLemmatizer()\n",
        "\n",
        "# Lemmatize each word\n",
        "lemmatized_words = [lemmatizer.lemmatize(word) for word in words]\n",
        "\n",
        "print(\"Original words:\", words)\n",
        "print(\"Lemmatized words:\", lemmatized_words)\n"
      ]
    },
    {
      "cell_type": "markdown",
      "id": "a5057eaa-47d4-4774-8a84-0728c85e9416",
      "metadata": {
        "id": "a5057eaa-47d4-4774-8a84-0728c85e9416"
      },
      "source": [
        "### Stemming\n",
        "Stemming is a text processing technique that reduces words to their base or root form, called a stem.\n",
        "Stemming removes suffixes and prefixes from words to achieve this normalization."
      ]
    },
    {
      "cell_type": "code",
      "execution_count": null,
      "id": "363cc498-f594-4b5c-a687-ec6ff22da1bb",
      "metadata": {
        "id": "363cc498-f594-4b5c-a687-ec6ff22da1bb",
        "outputId": "47be2f0d-096e-4622-9f7a-7ecafc31397c"
      },
      "outputs": [
        {
          "name": "stdout",
          "output_type": "stream",
          "text": [
            "Original words: ['Running', 'wild', 'cats', 'run', 'in', 'the', 'forest', '.', 'They', 'ran', 'away', 'when', 'they', 'saw', 'a', 'pack', 'of', 'wolves', '.']\n",
            "Stemmed words: ['run', 'wild', 'cat', 'run', 'in', 'the', 'forest', '.', 'they', 'ran', 'away', 'when', 'they', 'saw', 'a', 'pack', 'of', 'wolv', '.']\n"
          ]
        }
      ],
      "source": [
        "import nltk\n",
        "from nltk.stem import SnowballStemmer\n",
        "\n",
        "# Sample text\n",
        "text = \"Running wild cats run in the forest. They ran away when they saw a pack of wolves.\"\n",
        "\n",
        "# Tokenize the text into words\n",
        "words = nltk.word_tokenize(text)\n",
        "\n",
        "# Initialize PorterStemmer\n",
        "stemmer = SnowballStemmer('english')\n",
        "\n",
        "# Stem each word\n",
        "stemmed_words = [stemmer.stem(word) for word in words]\n",
        "\n",
        "print(\"Original words:\", words)\n",
        "print(\"Stemmed words:\", stemmed_words)"
      ]
    },
    {
      "cell_type": "markdown",
      "id": "234187dc-9920-4507-8336-7cba7aec6a6f",
      "metadata": {
        "id": "234187dc-9920-4507-8336-7cba7aec6a6f"
      },
      "source": [
        "## Tokenization\n",
        "\n",
        "Splitting of texts into single unique units (tokens)."
      ]
    },
    {
      "cell_type": "code",
      "execution_count": null,
      "id": "bae6ab29-41b3-49ea-9bfb-c0658efc68e7",
      "metadata": {
        "id": "bae6ab29-41b3-49ea-9bfb-c0658efc68e7",
        "outputId": "7ddf8659-551b-4168-aac0-70a052f6ae64"
      },
      "outputs": [
        {
          "name": "stdout",
          "output_type": "stream",
          "text": [
            "Character-level tokenization: ['T', 'o', 'k', 'e', 'n', 'i', 'z', 'a', 't', 'i', 'o', 'n', ' ', 'i', 's', ' ', 'a', 'n', ' ', 'i', 'm', 'p', 'o', 'r', 't', 'a', 'n', 't', ' ', 's', 't', 'e', 'p', ' ', 'i', 'n', ' ', 'n', 'a', 't', 'u', 'r', 'a', 'l', ' ', 'l', 'a', 'n', 'g', 'u', 'a', 'g', 'e', ' ', 'p', 'r', 'o', 'c', 'e', 's', 's', 'i', 'n', 'g', '.']\n",
            "Word level tokenization: ['Tokenization', 'is', 'an', 'important', 'step', 'in', 'natural', 'language', 'processing', '.']\n",
            "N-gram level tokenization (2-grams): [('Tokenization', 'is'), ('is', 'an'), ('an', 'important'), ('important', 'step'), ('step', 'in'), ('in', 'natural'), ('natural', 'language'), ('language', 'processing'), ('processing', '.')]\n"
          ]
        },
        {
          "name": "stderr",
          "output_type": "stream",
          "text": [
            "[nltk_data] Downloading package punkt to\n",
            "[nltk_data]     /Users/nataliakees/nltk_data...\n",
            "[nltk_data]   Package punkt is already up-to-date!\n"
          ]
        }
      ],
      "source": [
        "import nltk\n",
        "from nltk.tokenize import word_tokenize\n",
        "from nltk.tokenize import WordPunctTokenizer\n",
        "from nltk.util import ngrams\n",
        "nltk.download('punkt')  # https://www.nltk.org/_modules/nltk/tokenize/punkt.html\n",
        "\n",
        "# Sample text\n",
        "text = \"Tokenization is an important step in natural language processing.\"\n",
        "\n",
        "# Character-level tokenization\n",
        "char_tokens = list(text)\n",
        "print(\"Character-level tokenization:\", char_tokens)\n",
        "\n",
        "# Word level tokenization\n",
        "word_tokens = word_tokenize(text)\n",
        "print(\"Word level tokenization:\", word_tokens)\n",
        "\n",
        "# N-gram level tokenization\n",
        "n = 2\n",
        "n_grams = list(ngrams(word_tokenize(text), n))\n",
        "print(\"N-gram level tokenization (2-grams):\", n_grams)\n"
      ]
    },
    {
      "cell_type": "markdown",
      "id": "b45cd957-67ad-4485-b5af-ec9f44057694",
      "metadata": {
        "id": "b45cd957-67ad-4485-b5af-ec9f44057694"
      },
      "source": [
        "ByteLevelBPE as a Trained Tokenizer:\n",
        "https://towardsdatascience.com/byte-pair-encoding-subword-based-tokenization-algorithm-77828a70bee0"
      ]
    },
    {
      "cell_type": "code",
      "execution_count": null,
      "id": "47f62e32-f98c-4adf-8ab8-4ffb48d9a21a",
      "metadata": {
        "id": "47f62e32-f98c-4adf-8ab8-4ffb48d9a21a",
        "outputId": "534f3442-82ba-4c2b-8ab9-a311969091a7"
      },
      "outputs": [
        {
          "name": "stdout",
          "output_type": "stream",
          "text": [
            "\n",
            "\n",
            "\n",
            "Sub-word level tokenization (Byte-pair encoding): ['Tokenization', 'Ġis', 'Ġan', 'Ġimportant', 'Ġstep', 'Ġin', 'Ġ', 'n', 'at', 'u', 'r', 'a', 'l', 'Ġ', 'l', 'an', 'g', 'u', 'a', 'g', 'e', 'Ġprocess', 'ing', '.', 'Ċ', 'Tokenization', 'Ġis', 'Ġan', 'Ġimportant', 'Ġstep', 'Ġin', 'Ġ', 'N', 'L', 'P', '.', 'Ċ', 'Tokenization', 'Ġis', 'Ġan', 'Ġimportant', 'Ġprocess', '.', 'Ċ', 'P', 'rocess', 'Ġ', 'o', 'f', 'Ġ', 't', 'okeniz', 'ing', 'Ġ', 'te', 'x', 't', 'Ġs', 'e', 'q', 'u', 'en', 'ces', 'Ġis', 'Ġimportant', '.']\n"
          ]
        }
      ],
      "source": [
        "# Trained tokenizer\n",
        "# BPE ensures that the most common words are represented in the vocabulary as a single token while the rare words are broken down\n",
        "# into two or more subword tokens and this is in agreement with what a subword-based tokenization algorithm does.\n",
        "\n",
        "from tokenizers import ByteLevelBPETokenizer\n",
        "\n",
        "# Sample text\n",
        "text = \"\"\"Tokenization is an important step in natural language processing.\n",
        "Tokenization is an important step in NLP.\n",
        "Tokenization is an important process.\n",
        "Process of tokenizing text sequences is important.\"\"\"\n",
        "\n",
        "# Initialize ByteLevelBPETokenizer, used in GPT-2\n",
        "# https://towardsdatascience.com/byte-pair-encoding-subword-based-tokenization-algorithm-77828a70bee0\n",
        "tokenizer = ByteLevelBPETokenizer()\n",
        "\n",
        "# Train tokenizer on text\n",
        "tokenizer.train_from_iterator([text])\n",
        "\n",
        "# Sub-word level tokenization (Byte-pair encoding)\n",
        "subword_tokens = tokenizer.encode(text).tokens\n",
        "print(\"Sub-word level tokenization (Byte-pair encoding):\", subword_tokens)\n"
      ]
    },
    {
      "cell_type": "code",
      "execution_count": null,
      "id": "fb694052-8b7c-4b15-b4e1-11b42e4c9dde",
      "metadata": {
        "id": "fb694052-8b7c-4b15-b4e1-11b42e4c9dde",
        "outputId": "92dc698d-22a8-479d-eb09-50165b806882"
      },
      "outputs": [
        {
          "data": {
            "text/plain": [
              "292"
            ]
          },
          "execution_count": 5,
          "metadata": {},
          "output_type": "execute_result"
        }
      ],
      "source": [
        "len(tokenizer.get_vocab())"
      ]
    },
    {
      "cell_type": "code",
      "execution_count": null,
      "id": "2f295eee-0894-467e-8b52-cfe410905795",
      "metadata": {
        "id": "2f295eee-0894-467e-8b52-cfe410905795",
        "outputId": "87b9fe3d-c90a-41ca-da8e-725caee86b6a"
      },
      "outputs": [
        {
          "data": {
            "text/plain": [
              "{'ä': 160,\n",
              " '?': 30,\n",
              " 'Ë': 135,\n",
              " '¤': 97,\n",
              " 'd': 67,\n",
              " '+': 10,\n",
              " '¿': 123,\n",
              " '4': 19,\n",
              " 'ĸ': 244,\n",
              " 'ô': 176,\n",
              " ']': 60,\n",
              " 'ī': 231,\n",
              " 'ï': 171,\n",
              " 'Ñ': 141,\n",
              " 'R': 49,\n",
              " 'Ę': 212,\n",
              " '-': 12,\n",
              " 'ŀ': 252,\n",
              " 'č': 201,\n",
              " '9': 24,\n",
              " 'Í': 137,\n",
              " 'ě': 215,\n",
              " 'ö': 178,\n",
              " 'è': 164,\n",
              " 'te': 278,\n",
              " 'Û': 151,\n",
              " 'M': 44,\n",
              " 'q': 80,\n",
              " 'ñ': 173,\n",
              " 'L': 43,\n",
              " 'H': 39,\n",
              " 'Ă': 190,\n",
              " 'đ': 205,\n",
              " 't': 83,\n",
              " 'ć': 195,\n",
              " 'm': 76,\n",
              " 'ã': 159,\n",
              " 'Ļ': 247,\n",
              " 'Č': 200,\n",
              " 'ì': 168,\n",
              " '§': 100,\n",
              " 'Tokenizatio': 282,\n",
              " '*': 9,\n",
              " 'ĭ': 233,\n",
              " 'Á': 125,\n",
              " 'Ŀ': 251,\n",
              " 'Ą': 192,\n",
              " 'S': 50,\n",
              " 'Å': 129,\n",
              " 'Ĭ': 232,\n",
              " 'â': 158,\n",
              " 'z': 89,\n",
              " 'á': 157,\n",
              " ';': 26,\n",
              " 'B': 33,\n",
              " \"'\": 6,\n",
              " 'or': 264,\n",
              " '8': 23,\n",
              " '}': 92,\n",
              " '|': 91,\n",
              " 'p': 79,\n",
              " 'oces': 276,\n",
              " 'å': 161,\n",
              " 'Ĩ': 228,\n",
              " 'Ġin': 288,\n",
              " 'g': 70,\n",
              " 'Õ': 145,\n",
              " '¯': 107,\n",
              " 'A': 32,\n",
              " 'Ĳ': 238,\n",
              " 'ĩ': 229,\n",
              " 'ħ': 227,\n",
              " 'okeniz': 271,\n",
              " '¨': 101,\n",
              " 'ª': 103,\n",
              " 'ď': 203,\n",
              " 'ę': 213,\n",
              " 'o': 78,\n",
              " 'Ġs': 279,\n",
              " '$': 3,\n",
              " 'ĥ': 225,\n",
              " '6': 21,\n",
              " 'Ý': 153,\n",
              " 'Q': 48,\n",
              " 'oken': 265,\n",
              " 'ľ': 250,\n",
              " 'Ď': 202,\n",
              " '¼': 120,\n",
              " '&': 5,\n",
              " 'P': 47,\n",
              " '´': 112,\n",
              " '×': 147,\n",
              " 'h': 71,\n",
              " 'þ': 186,\n",
              " 'mp': 263,\n",
              " 'ģ': 223,\n",
              " '@': 31,\n",
              " '²': 110,\n",
              " 'í': 169,\n",
              " 'À': 124,\n",
              " 'Ġstep': 290,\n",
              " 'x': 87,\n",
              " 'ĺ': 246,\n",
              " 'ç': 163,\n",
              " 'e': 68,\n",
              " 'Ç': 131,\n",
              " '³': 111,\n",
              " '¦': 99,\n",
              " 'Tokeniz': 274,\n",
              " '7': 22,\n",
              " 'i': 72,\n",
              " 'V': 53,\n",
              " 'Ġimportan': 272,\n",
              " 'È': 132,\n",
              " '/': 14,\n",
              " 'î': 170,\n",
              " 'ce': 260,\n",
              " '°': 108,\n",
              " 'ces': 269,\n",
              " 's': 82,\n",
              " 'k': 74,\n",
              " 'Ł': 253,\n",
              " 'Ì': 136,\n",
              " 'Į': 234,\n",
              " '{': 90,\n",
              " '·': 115,\n",
              " '!': 0,\n",
              " 'Ø': 148,\n",
              " '¢': 95,\n",
              " 'Ö': 146,\n",
              " 'ù': 181,\n",
              " 'J': 41,\n",
              " '5': 20,\n",
              " 'rocess': 283,\n",
              " 'õ': 177,\n",
              " 'Z': 57,\n",
              " 'Ï': 139,\n",
              " '\"': 1,\n",
              " 'ß': 155,\n",
              " 'µ': 113,\n",
              " 'tan': 266,\n",
              " 'at': 259,\n",
              " 'G': 38,\n",
              " '0': 15,\n",
              " 'v': 85,\n",
              " 'Ġ': 220,\n",
              " 'Ĺ': 245,\n",
              " 'I': 40,\n",
              " 'ð': 172,\n",
              " '1': 16,\n",
              " 'ĵ': 241,\n",
              " 'Ä': 128,\n",
              " 'c': 66,\n",
              " 'Ċ': 198,\n",
              " 'a': 64,\n",
              " '[': 58,\n",
              " 'ÿ': 187,\n",
              " 'n': 77,\n",
              " '½': 121,\n",
              " 'Ħ': 226,\n",
              " 'j': 73,\n",
              " 'Y': 56,\n",
              " 'W': 54,\n",
              " 'ø': 180,\n",
              " '÷': 179,\n",
              " 'F': 37,\n",
              " 'ý': 185,\n",
              " 'İ': 236,\n",
              " 'Þ': 154,\n",
              " 'Ĥ': 224,\n",
              " '=': 28,\n",
              " '\\\\': 59,\n",
              " 'ğ': 219,\n",
              " 'ē': 207,\n",
              " 'Ĕ': 208,\n",
              " 'Ð': 140,\n",
              " ',': 11,\n",
              " 'ĳ': 239,\n",
              " 'roces': 277,\n",
              " 'ă': 191,\n",
              " 'Â': 126,\n",
              " 'io': 275,\n",
              " 'Ľ': 249,\n",
              " 'N': 45,\n",
              " 'à': 156,\n",
              " '¡': 94,\n",
              " 'in': 285,\n",
              " 'Ġan': 280,\n",
              " 'É': 133,\n",
              " 'Ī': 230,\n",
              " 'Æ': 130,\n",
              " 'Ğ': 218,\n",
              " 'Ġimp': 268,\n",
              " 'b': 65,\n",
              " '©': 102,\n",
              " '±': 109,\n",
              " 'an': 257,\n",
              " 'º': 118,\n",
              " 'ł': 254,\n",
              " 'ġ': 221,\n",
              " 'ê': 166,\n",
              " 'ë': 167,\n",
              " 'Î': 138,\n",
              " '¹': 117,\n",
              " 'ĉ': 197,\n",
              " 'tep': 289,\n",
              " '¬': 105,\n",
              " 'y': 88,\n",
              " 'ing': 291,\n",
              " 'Ü': 152,\n",
              " 'en': 258,\n",
              " 'w': 86,\n",
              " '>': 29,\n",
              " 'û': 183,\n",
              " '(': 7,\n",
              " 'Tokenization': 284,\n",
              " 'ė': 211,\n",
              " '¾': 122,\n",
              " '¶': 114,\n",
              " 'ú': 182,\n",
              " 'Ã': 127,\n",
              " '«': 104,\n",
              " 'Ē': 206,\n",
              " 'X': 55,\n",
              " 'l': 75,\n",
              " 'Ê': 134,\n",
              " '£': 96,\n",
              " 'Ô': 144,\n",
              " 'Ġis': 267,\n",
              " 'C': 34,\n",
              " '`': 63,\n",
              " 'E': 36,\n",
              " ':': 25,\n",
              " 'ā': 189,\n",
              " 'ļ': 248,\n",
              " 'Ġi': 256,\n",
              " 'Ā': 188,\n",
              " 'process': 286,\n",
              " 'ķ': 243,\n",
              " 'ċ': 199,\n",
              " 'ı': 237,\n",
              " 'Ù': 149,\n",
              " 'Ú': 150,\n",
              " 'æ': 162,\n",
              " 'D': 35,\n",
              " 'r': 81,\n",
              " 'T': 51,\n",
              " '¥': 98,\n",
              " ')': 8,\n",
              " '~': 93,\n",
              " '.': 13,\n",
              " '%': 4,\n",
              " 'Ĝ': 216,\n",
              " '¸': 116,\n",
              " 'Ó': 143,\n",
              " 'Ġprocess': 287,\n",
              " 'Ĉ': 196,\n",
              " '<': 27,\n",
              " 'atio': 281,\n",
              " '3': 18,\n",
              " 'ò': 174,\n",
              " 'Ò': 142,\n",
              " 'iz': 261,\n",
              " 'Ĵ': 240,\n",
              " 'Ģ': 222,\n",
              " 'ü': 184,\n",
              " 'Ė': 210,\n",
              " '2': 17,\n",
              " 'u': 84,\n",
              " 'Ķ': 242,\n",
              " 'ken': 262,\n",
              " '®': 106,\n",
              " 'ĝ': 217,\n",
              " 'f': 69,\n",
              " 'O': 46,\n",
              " 'é': 165,\n",
              " 'ĕ': 209,\n",
              " 'ortan': 270,\n",
              " 'Ć': 194,\n",
              " '^': 61,\n",
              " '»': 119,\n",
              " '_': 62,\n",
              " 'ó': 175,\n",
              " '#': 2,\n",
              " 'Ń': 255,\n",
              " 'į': 235,\n",
              " 'Ġimportant': 273,\n",
              " 'Ě': 214,\n",
              " 'K': 42,\n",
              " 'ą': 193,\n",
              " 'Đ': 204,\n",
              " 'U': 52}"
            ]
          },
          "execution_count": 6,
          "metadata": {},
          "output_type": "execute_result"
        }
      ],
      "source": [
        "tokenizer.get_vocab()"
      ]
    },
    {
      "cell_type": "code",
      "execution_count": null,
      "id": "8a3209d0-7ebb-47b4-b927-e68f9de6a9dd",
      "metadata": {
        "id": "8a3209d0-7ebb-47b4-b927-e68f9de6a9dd",
        "outputId": "7414380b-e47f-4bcc-85e2-110fbafcfb0b"
      },
      "outputs": [
        {
          "data": {
            "text/plain": [
              "'ce'"
            ]
          },
          "execution_count": 7,
          "metadata": {},
          "output_type": "execute_result"
        }
      ],
      "source": [
        "tokenizer.id_to_token(260)"
      ]
    },
    {
      "cell_type": "markdown",
      "id": "e39e25dd-7f0e-4356-94b3-8854e8cfddf0",
      "metadata": {
        "id": "e39e25dd-7f0e-4356-94b3-8854e8cfddf0"
      },
      "source": [
        "Training your own tokenizer: https://huggingface.co/learn/nlp-course/en/chapter6/8"
      ]
    },
    {
      "cell_type": "code",
      "execution_count": null,
      "id": "c5aaed23-2116-4bd3-94a0-98a006f18a57",
      "metadata": {
        "id": "c5aaed23-2116-4bd3-94a0-98a006f18a57",
        "outputId": "e39b814b-0d5c-422a-da10-cb8144706998"
      },
      "outputs": [
        {
          "name": "stdout",
          "output_type": "stream",
          "text": [
            "hello how are u?\n"
          ]
        }
      ],
      "source": [
        "# Training from scratch\n",
        "## WordPiece Tokenizer: https://huggingface.co/learn/nlp-course/en/chapter6/6\n",
        "\n",
        "from tokenizers import (\n",
        "    decoders,\n",
        "    models,\n",
        "    normalizers,\n",
        "    pre_tokenizers,\n",
        "    processors,\n",
        "    trainers,\n",
        "    Tokenizer,\n",
        ")\n",
        "from tokenizers.pre_tokenizers import Whitespace\n",
        "\n",
        "\n",
        "tokenizer = Tokenizer(models.WordPiece(unk_token=\"[UNK]\"))\n",
        "\n",
        "tokenizer.normalizer = normalizers.Sequence(\n",
        "    [normalizers.NFD(), normalizers.Lowercase(), normalizers.StripAccents()]\n",
        ")\n",
        "\n",
        "print(tokenizer.normalizer.normalize_str(\"Héllò hôw are ü?\"))\n"
      ]
    },
    {
      "cell_type": "code",
      "execution_count": null,
      "id": "18dd3015-b254-4202-a9af-995b389a84df",
      "metadata": {
        "id": "18dd3015-b254-4202-a9af-995b389a84df",
        "outputId": "5e26a28e-ef14-48cf-d153-233ef97765d2"
      },
      "outputs": [
        {
          "data": {
            "text/plain": [
              "[('Let', (0, 3)),\n",
              " (\"'\", (3, 4)),\n",
              " ('s', (4, 5)),\n",
              " ('test', (6, 10)),\n",
              " ('my', (11, 13)),\n",
              " ('pre', (14, 17)),\n",
              " ('-', (17, 18)),\n",
              " ('tokenizer', (18, 27)),\n",
              " ('.', (27, 28))]"
            ]
          },
          "execution_count": 9,
          "metadata": {},
          "output_type": "execute_result"
        }
      ],
      "source": [
        "tokenizer.pre_tokenizer = pre_tokenizers.Whitespace()\n",
        "tokenizer.pre_tokenizer.pre_tokenize_str(\"Let's test my pre-tokenizer.\")"
      ]
    },
    {
      "cell_type": "code",
      "execution_count": null,
      "id": "c438f38d-dfcb-4282-8715-c4d27d31470b",
      "metadata": {
        "id": "c438f38d-dfcb-4282-8715-c4d27d31470b",
        "outputId": "dc40ffc0-0acf-45b0-e412-0a983c3702ca"
      },
      "outputs": [
        {
          "name": "stdout",
          "output_type": "stream",
          "text": [
            "\n",
            "\n",
            "\n"
          ]
        }
      ],
      "source": [
        "corpus = [\n",
        "    \"The quick brown fox jumps over the lazy dog\",\n",
        "    \"The cat sits on the window sill\",\n",
        "    \"The dog barks loudly in the night\",\n",
        "    \"Birds of a feather flock together\",\n",
        "    \"Tokenization is an important step in natural language processing.\",\n",
        "    \"Tokenization is an important step in NLP.\",\n",
        "    \"Tokenization is an important process.\",\n",
        "    \"Process of tokenizing text sequences is important.\"\n",
        "]\n",
        "special_tokens = [\"[UNK]\", \"[PAD]\", \"[CLS]\", \"[SEP]\", \"[MASK]\"]  # BERT\n",
        "trainer = trainers.WordPieceTrainer(vocab_size=1000, special_tokens=special_tokens)\n",
        "tokenizer.train_from_iterator(corpus, trainer=trainer)\n",
        "tokenizer.decoder = decoders.WordPiece(prefix=\"##\")\n",
        "tokenizer.save(\"./tokenizer-trained.json\")\n",
        "#tokenizer = Tokenizer.from_file(\"./tokenizer-trained.json\")"
      ]
    },
    {
      "cell_type": "code",
      "execution_count": null,
      "id": "ef88a6bb-a9c4-4da6-95d8-aa44fb31c462",
      "metadata": {
        "id": "ef88a6bb-a9c4-4da6-95d8-aa44fb31c462",
        "outputId": "a12d3496-95b7-49d7-8c4d-7ae09e7d6a59"
      },
      "outputs": [
        {
          "name": "stdout",
          "output_type": "stream",
          "text": [
            "['the', 'quick', 'brown', 'fox']\n"
          ]
        }
      ],
      "source": [
        "encoding = tokenizer.encode(\"The quick brown fox\")\n",
        "print(encoding.tokens)"
      ]
    },
    {
      "cell_type": "code",
      "execution_count": null,
      "id": "d2061b70-cbb0-4e97-9954-27006a515a6f",
      "metadata": {
        "id": "d2061b70-cbb0-4e97-9954-27006a515a6f",
        "outputId": "e9ed63bf-5123-4cbe-f552-fd08ee161471"
      },
      "outputs": [
        {
          "data": {
            "text/plain": [
              "[57, 161, 149, 150]"
            ]
          },
          "execution_count": 12,
          "metadata": {},
          "output_type": "execute_result"
        }
      ],
      "source": [
        "encoding.ids"
      ]
    },
    {
      "cell_type": "code",
      "execution_count": null,
      "id": "949c5559-483b-44d0-acac-71586d2fb61c",
      "metadata": {
        "id": "949c5559-483b-44d0-acac-71586d2fb61c",
        "outputId": "2d98be19-2052-4f0a-c615-0e7066f857cb"
      },
      "outputs": [
        {
          "data": {
            "text/plain": [
              "'the quick brown fox'"
            ]
          },
          "execution_count": 13,
          "metadata": {},
          "output_type": "execute_result"
        }
      ],
      "source": [
        "tokenizer.decode(encoding.ids)"
      ]
    },
    {
      "cell_type": "code",
      "execution_count": null,
      "id": "5ce50c8a-f62d-44a9-8eb3-6d4cb9372937",
      "metadata": {
        "id": "5ce50c8a-f62d-44a9-8eb3-6d4cb9372937",
        "outputId": "0274f168-fe34-49da-a1d8-dcbde4065899"
      },
      "outputs": [
        {
          "data": {
            "text/plain": [
              "{'##dow': 132,\n",
              " 'lazy': 155,\n",
              " '##u': 42,\n",
              " 'window': 164,\n",
              " '##xt': 136,\n",
              " '##x': 48,\n",
              " '##ather': 140,\n",
              " '##mp': 61,\n",
              " 'h': 13,\n",
              " '##ick': 124,\n",
              " 'c': 8,\n",
              " '##s': 36,\n",
              " 'is': 63,\n",
              " 'step': 97,\n",
              " '##a': 51,\n",
              " 'flock': 152,\n",
              " 'j': 15,\n",
              " 'ov': 113,\n",
              " 'dog': 96,\n",
              " 'sill': 146,\n",
              " '##ro': 65,\n",
              " 'natura': 159,\n",
              " 'langu': 156,\n",
              " 'do': 87,\n",
              " 'n': 19,\n",
              " '##ly': 134,\n",
              " 'd': 9,\n",
              " 'q': 22,\n",
              " 'se': 115,\n",
              " '##quen': 138,\n",
              " '##an': 62,\n",
              " 'pro': 79,\n",
              " '##in': 81,\n",
              " 'text': 163,\n",
              " 'k': 16,\n",
              " '##gh': 125,\n",
              " '##en': 60,\n",
              " 'o': 20,\n",
              " '[UNK]': 0,\n",
              " '##age': 137,\n",
              " 'fo': 102,\n",
              " '##ion': 82,\n",
              " 'tokenization': 85,\n",
              " '##at': 58,\n",
              " 'y': 30,\n",
              " 'import': 73,\n",
              " 'tokenizing': 143,\n",
              " '##cess': 84,\n",
              " '##ep': 92,\n",
              " 'e': 10,\n",
              " 'tokeniz': 75,\n",
              " 'birds': 166,\n",
              " '##ge': 93,\n",
              " 'te': 116,\n",
              " 'bi': 98,\n",
              " 'x': 29,\n",
              " 'toge': 141,\n",
              " '##e': 35,\n",
              " '##her': 94,\n",
              " '##k': 43,\n",
              " '[PAD]': 1,\n",
              " 'nlp': 158,\n",
              " 'm': 18,\n",
              " 'process': 86,\n",
              " '##ock': 122,\n",
              " 'an': 77,\n",
              " 'the': 57,\n",
              " 'ba': 99,\n",
              " '##ing': 95,\n",
              " 'of': 88,\n",
              " '##d': 44,\n",
              " 'g': 12,\n",
              " 'win': 117,\n",
              " 'brown': 149,\n",
              " '##ther': 128,\n",
              " 'r': 23,\n",
              " '##ra': 120,\n",
              " 'on': 112,\n",
              " 'l': 17,\n",
              " '##i': 37,\n",
              " '##z': 54,\n",
              " '##y': 46,\n",
              " '##gu': 126,\n",
              " 'language': 169,\n",
              " 'jumps': 153,\n",
              " '##w': 47,\n",
              " '##iz': 69,\n",
              " 'sits': 145,\n",
              " '##m': 49,\n",
              " '##mps': 142,\n",
              " '##ts': 127,\n",
              " '##ura': 131,\n",
              " 'w': 28,\n",
              " '##n': 38,\n",
              " 'p': 21,\n",
              " 'barks': 167,\n",
              " '##er': 123,\n",
              " 'over': 160,\n",
              " 'nl': 110,\n",
              " '##wn': 135,\n",
              " 'night': 170,\n",
              " 'ju': 105,\n",
              " 'b': 7,\n",
              " 'loud': 154,\n",
              " '##v': 55,\n",
              " 'la': 107,\n",
              " '##ow': 121,\n",
              " '##ken': 70,\n",
              " '##rd': 119,\n",
              " 'bird': 147,\n",
              " '##c': 34,\n",
              " 'fl': 104,\n",
              " '##ll': 133,\n",
              " 'feather': 151,\n",
              " '[CLS]': 2,\n",
              " '##he': 56,\n",
              " 'quick': 161,\n",
              " 'together': 165,\n",
              " 'to': 59,\n",
              " 'fe': 103,\n",
              " 's': 24,\n",
              " '##ces': 74,\n",
              " '##ud': 129,\n",
              " '##f': 52,\n",
              " '##r': 32,\n",
              " '##uen': 130,\n",
              " 't': 25,\n",
              " '##zy': 139,\n",
              " 'important': 76,\n",
              " 'st': 90,\n",
              " '##ation': 83,\n",
              " 'sequen': 162,\n",
              " 'cat': 101,\n",
              " 'v': 27,\n",
              " 'qu': 114,\n",
              " '##ce': 68,\n",
              " 'fox': 150,\n",
              " '##ant': 72,\n",
              " 'bark': 148,\n",
              " 'nat': 111,\n",
              " '.': 5,\n",
              " 'token': 71,\n",
              " 'lo': 106,\n",
              " '##o': 33,\n",
              " '##q': 53,\n",
              " '##t': 40,\n",
              " '[SEP]': 3,\n",
              " 'u': 26,\n",
              " '##p': 50,\n",
              " '##ck': 91,\n",
              " 'processing': 144,\n",
              " 'lan': 108,\n",
              " 'in': 78,\n",
              " 'imp': 64,\n",
              " 'nigh': 157,\n",
              " 'ni': 109,\n",
              " '##l': 45,\n",
              " 'f': 11,\n",
              " 'loudly': 168,\n",
              " 'bro': 100,\n",
              " '##rt': 66,\n",
              " 'si': 89,\n",
              " '##on': 80,\n",
              " 'natural': 171,\n",
              " 'sequences': 172,\n",
              " 'z': 31,\n",
              " '##h': 41,\n",
              " '##ort': 67,\n",
              " 'a': 6,\n",
              " '[MASK]': 4,\n",
              " 'i': 14,\n",
              " '##g': 39,\n",
              " '##rk': 118}"
            ]
          },
          "execution_count": 14,
          "metadata": {},
          "output_type": "execute_result"
        }
      ],
      "source": [
        "tokenizer.get_vocab()"
      ]
    },
    {
      "cell_type": "code",
      "execution_count": null,
      "id": "fd63dae7-9084-4ad6-a161-be3551c351ea",
      "metadata": {
        "id": "fd63dae7-9084-4ad6-a161-be3551c351ea",
        "outputId": "7688da2b-0872-4e29-bb68-a50c79ed82c2"
      },
      "outputs": [
        {
          "data": {
            "text/plain": [
              "173"
            ]
          },
          "execution_count": 15,
          "metadata": {},
          "output_type": "execute_result"
        }
      ],
      "source": [
        "tokenizer.get_vocab_size()"
      ]
    },
    {
      "cell_type": "markdown",
      "id": "fc6b2302-3acd-4c9d-bc74-be65e15798b0",
      "metadata": {
        "id": "fc6b2302-3acd-4c9d-bc74-be65e15798b0"
      },
      "source": [
        "# Text Embeddings\n",
        "\n",
        "https://www.deepset.ai/blog/the-beginners-guide-to-text-embeddings"
      ]
    },
    {
      "cell_type": "markdown",
      "id": "34b9feb1-6368-4405-ae8f-952eb096806b",
      "metadata": {
        "id": "34b9feb1-6368-4405-ae8f-952eb096806b"
      },
      "source": [
        "## Sparse (розріджені) vectors: One hot encoding, Bag of words, Tf-idf"
      ]
    },
    {
      "cell_type": "code",
      "execution_count": null,
      "id": "d2fb9c95-5dfe-4f66-ab23-120fa9f7429f",
      "metadata": {
        "id": "d2fb9c95-5dfe-4f66-ab23-120fa9f7429f",
        "outputId": "7fd6696b-8b05-4694-90fd-b6f459c7d365"
      },
      "outputs": [
        {
          "name": "stdout",
          "output_type": "stream",
          "text": [
            "tokens ['the', 'quick', 'brown', 'fox', 'jumps', 'over', 'the', 'lazy', 'dog']\n",
            "vocab ['brown', 'dog', 'fox', 'jumps', 'lazy', 'over', 'quick', 'the']\n"
          ]
        }
      ],
      "source": [
        "from nltk.tokenize import word_tokenize\n",
        "import numpy as np\n",
        "import nltk\n",
        "\n",
        "# Sample text\n",
        "text = \"The quick brown fox jumps over the lazy dog\"\n",
        "\n",
        "# Tokenize the text\n",
        "tokens = word_tokenize(text.lower())\n",
        "print(\"tokens\", tokens)\n",
        "# Create vocabulary\n",
        "vocab = sorted(set(tokens))\n",
        "print(\"vocab\", vocab)"
      ]
    },
    {
      "cell_type": "code",
      "execution_count": null,
      "id": "fa728d8a-1d86-44d2-b98f-02d03abf471d",
      "metadata": {
        "id": "fa728d8a-1d86-44d2-b98f-02d03abf471d",
        "outputId": "2cdf23b3-9d6a-4560-ab49-175b997ce726"
      },
      "outputs": [
        {
          "data": {
            "text/plain": [
              "[[0, 0, 0, 0, 0, 0, 0, 1],\n",
              " [0, 0, 0, 0, 0, 0, 1, 0],\n",
              " [1, 0, 0, 0, 0, 0, 0, 0],\n",
              " [0, 0, 1, 0, 0, 0, 0, 0],\n",
              " [0, 0, 0, 1, 0, 0, 0, 0],\n",
              " [0, 0, 0, 0, 0, 1, 0, 0],\n",
              " [0, 0, 0, 0, 0, 0, 0, 1],\n",
              " [0, 0, 0, 0, 1, 0, 0, 0],\n",
              " [0, 1, 0, 0, 0, 0, 0, 0]]"
            ]
          },
          "execution_count": 17,
          "metadata": {},
          "output_type": "execute_result"
        }
      ],
      "source": [
        "# Create one-hot encoding\n",
        "one_hot_encoded = []\n",
        "for token in tokens:\n",
        "    one_hot_vector = [0] * len(vocab)\n",
        "    one_hot_vector[vocab.index(token)] = 1\n",
        "    one_hot_encoded.append(one_hot_vector)\n",
        "one_hot_encoded"
      ]
    },
    {
      "cell_type": "code",
      "execution_count": null,
      "id": "9efe46ba-3fc1-40e3-b4ae-45273a9d7068",
      "metadata": {
        "id": "9efe46ba-3fc1-40e3-b4ae-45273a9d7068",
        "outputId": "a7c1a4f9-79cb-401a-dfaf-187d68266583"
      },
      "outputs": [
        {
          "name": "stdout",
          "output_type": "stream",
          "text": [
            "Original text: The quick brown fox jumps over the lazy dog\n",
            "Tokens: ['the', 'quick', 'brown', 'fox', 'jumps', 'over', 'the', 'lazy', 'dog']\n",
            "Vocabulary: ['brown', 'dog', 'fox', 'jumps', 'lazy', 'over', 'quick', 'the']\n",
            "One-hot encoded text:\n",
            " [[0 0 0 0 0 0 0 1]\n",
            " [0 0 0 0 0 0 1 0]\n",
            " [1 0 0 0 0 0 0 0]\n",
            " [0 0 1 0 0 0 0 0]\n",
            " [0 0 0 1 0 0 0 0]\n",
            " [0 0 0 0 0 1 0 0]\n",
            " [0 0 0 0 0 0 0 1]\n",
            " [0 0 0 0 1 0 0 0]\n",
            " [0 1 0 0 0 0 0 0]]\n"
          ]
        }
      ],
      "source": [
        "# Convert to numpy array for easier manipulation\n",
        "one_hot_encoded = np.array(one_hot_encoded)\n",
        "\n",
        "# Print results\n",
        "print(\"Original text:\", text)\n",
        "print(\"Tokens:\", tokens)\n",
        "print(\"Vocabulary:\", vocab)\n",
        "print(\"One-hot encoded text:\\n\", one_hot_encoded)"
      ]
    },
    {
      "cell_type": "code",
      "execution_count": null,
      "id": "b62ce7ac-987a-4448-abc6-ec6456918a3c",
      "metadata": {
        "id": "b62ce7ac-987a-4448-abc6-ec6456918a3c",
        "outputId": "6acd0094-f0fb-4c23-ee8e-d239afeec726"
      },
      "outputs": [
        {
          "name": "stdout",
          "output_type": "stream",
          "text": [
            "Original text: The quick brown fox jumps over the lazy dog\n",
            "Tokens: ['the', 'quick', 'brown', 'fox', 'jumps', 'over', 'the', 'lazy', 'dog']\n",
            "Vocabulary: ['brown', 'dog', 'fox', 'jumps', 'lazy', 'over', 'quick', 'the']\n",
            "Bag of Words:\n",
            " [1. 1. 1. 1. 1. 1. 1. 2.]\n"
          ]
        }
      ],
      "source": [
        "# Bag of words\n",
        "\n",
        "# Initialize Bag of Words\n",
        "bow = np.zeros(len(vocab))\n",
        "\n",
        "# Count occurrences of each word\n",
        "for token in tokens:\n",
        "    bow[vocab.index(token)] += 1\n",
        "\n",
        "# Print results\n",
        "print(\"Original text:\", text)\n",
        "print(\"Tokens:\", tokens)\n",
        "print(\"Vocabulary:\", vocab)\n",
        "print(\"Bag of Words:\\n\", bow)\n",
        "\n",
        "# And just like that, we have managed to encode our text as a vector\n",
        "# (also known as a “bag of words” or “BoW” embedding — because it ignores the order of the words in the sentence)."
      ]
    },
    {
      "cell_type": "code",
      "execution_count": null,
      "id": "3310fa21-a40b-4687-9fc8-18acfc7d2c6f",
      "metadata": {
        "id": "3310fa21-a40b-4687-9fc8-18acfc7d2c6f",
        "outputId": "9a058bec-2fbb-4340-e4dd-5e15addaa360"
      },
      "outputs": [
        {
          "name": "stdout",
          "output_type": "stream",
          "text": [
            "Sample corpus: ['The quick brown fox jumps over the lazy dog', 'The cat sits on the window sill', 'The dog barks loudly in the night', 'Birds of a feather flock together']\n",
            "Vocabulary: ['barks' 'birds' 'brown' 'cat' 'dog' 'feather' 'flock' 'fox' 'in' 'jumps'\n",
            " 'lazy' 'loudly' 'night' 'of' 'on' 'over' 'quick' 'sill' 'sits' 'the'\n",
            " 'together' 'window']\n",
            "TF-IDF matrix:\n",
            " [[0.         0.         0.34812928 0.         0.27446912 0.\n",
            "  0.         0.34812928 0.         0.34812928 0.34812928 0.\n",
            "  0.         0.         0.         0.34812928 0.34812928 0.\n",
            "  0.         0.44441281 0.         0.        ]\n",
            " [0.         0.         0.         0.38837832 0.         0.\n",
            "  0.         0.         0.         0.         0.         0.\n",
            "  0.         0.         0.38837832 0.         0.         0.38837832\n",
            "  0.38837832 0.4957937  0.         0.38837832]\n",
            " [0.39996052 0.         0.         0.         0.31533346 0.\n",
            "  0.         0.         0.39996052 0.         0.         0.39996052\n",
            "  0.39996052 0.         0.         0.         0.         0.\n",
            "  0.         0.51057923 0.         0.        ]\n",
            " [0.         0.4472136  0.         0.         0.         0.4472136\n",
            "  0.4472136  0.         0.         0.         0.         0.\n",
            "  0.         0.4472136  0.         0.         0.         0.\n",
            "  0.         0.         0.4472136  0.        ]]\n"
          ]
        }
      ],
      "source": [
        "# TF-idf\n",
        "# see module 7 lesson 1\n",
        "from sklearn.feature_extraction.text import TfidfVectorizer\n",
        "\n",
        "# Sample corpus\n",
        "corpus = [\n",
        "    \"The quick brown fox jumps over the lazy dog\",\n",
        "    \"The cat sits on the window sill\",\n",
        "    \"The dog barks loudly in the night\",\n",
        "    \"Birds of a feather flock together\"\n",
        "]\n",
        "\n",
        "# Initialize TF-IDF vectorizer\n",
        "tfidf_vectorizer = TfidfVectorizer()\n",
        "\n",
        "# Fit and transform the corpus\n",
        "tfidf_matrix = tfidf_vectorizer.fit_transform(corpus)\n",
        "\n",
        "# Get feature names (vocabulary)\n",
        "vocab = tfidf_vectorizer.get_feature_names_out()\n",
        "\n",
        "# Convert TF-IDF matrix to dense array for easier manipulation\n",
        "tfidf_matrix_dense = tfidf_matrix.toarray()\n",
        "\n",
        "# Print results\n",
        "print(\"Sample corpus:\", corpus)\n",
        "print(\"Vocabulary:\", vocab)\n",
        "print(\"TF-IDF matrix:\\n\", tfidf_matrix_dense)\n"
      ]
    },
    {
      "cell_type": "markdown",
      "id": "0f2d2720-f916-43ac-b2c8-cae5360734b7",
      "metadata": {
        "id": "0f2d2720-f916-43ac-b2c8-cae5360734b7"
      },
      "source": [
        "### Cosine similarity\n"
      ]
    },
    {
      "cell_type": "markdown",
      "id": "e36a7d2c-bc86-4848-83e5-9d4c874a7df9",
      "metadata": {
        "id": "e36a7d2c-bc86-4848-83e5-9d4c874a7df9"
      },
      "source": [
        "![cosine](https://storage.googleapis.com/lds-media/images/cosine-similarity-vectors.original.jpg)\n",
        "Source: https://www.learndatasci.com/glossary/cosine-similarity/"
      ]
    },
    {
      "cell_type": "code",
      "execution_count": null,
      "id": "c1a9e075-7500-4714-a3fd-396ecb8ee86b",
      "metadata": {
        "id": "c1a9e075-7500-4714-a3fd-396ecb8ee86b",
        "outputId": "7a6fa1eb-3c6a-437e-ab4f-32f7d2afd983"
      },
      "outputs": [
        {
          "name": "stdout",
          "output_type": "stream",
          "text": [
            "Vector 1: [[1 2 3]]\n",
            "Vector 2: [[4 5 6]]\n",
            "Cosine similarity: 0.9746318461970762\n"
          ]
        }
      ],
      "source": [
        "# show vector similarity\n",
        "import numpy as np\n",
        "from sklearn.metrics.pairwise import cosine_similarity\n",
        "\n",
        "# Sample vectors\n",
        "vector1 = np.array([1, 2, 3])\n",
        "vector2 = np.array([4, 5, 6])\n",
        "\n",
        "# Reshape the vectors to ensure they are 2D arrays\n",
        "vector1 = vector1.reshape(1, -1)\n",
        "vector2 = vector2.reshape(1, -1)\n",
        "\n",
        "# Compute cosine similarity\n",
        "similarity = cosine_similarity(vector1, vector2)\n",
        "\n",
        "print(\"Vector 1:\", vector1)\n",
        "print(\"Vector 2:\", vector2)\n",
        "print(\"Cosine similarity:\", similarity[0][0])\n"
      ]
    },
    {
      "cell_type": "markdown",
      "id": "43648316-28c7-4fec-a1de-e303ec18c42a",
      "metadata": {
        "id": "43648316-28c7-4fec-a1de-e303ec18c42a"
      },
      "source": [
        "![formula](https://miro.medium.com/v2/resize:fit:1400/format:webp/1*LfW66-WsYkFqWc4XYJbEJg.png)"
      ]
    },
    {
      "cell_type": "code",
      "execution_count": null,
      "id": "9c49fe42-287e-42a6-975b-2516b1cafdc2",
      "metadata": {
        "id": "9c49fe42-287e-42a6-975b-2516b1cafdc2"
      },
      "outputs": [],
      "source": [
        "def cosine_similarity(u, v):\n",
        "    \"\"\"\n",
        "    Cosine similarity reflects the degree of similarity between u and v\n",
        "\n",
        "    Arguments:\n",
        "        u -- a word vector of shape (n,)\n",
        "        v -- a word vector of shape (n,)\n",
        "\n",
        "    Returns:\n",
        "        cosine_similarity -- the cosine similarity between u and v defined by the formula above.\n",
        "    \"\"\"\n",
        "\n",
        "    # Special case. Consider the case u = [0, 0], v=[0, 0]\n",
        "    if np.all(u == v):\n",
        "        return 1\n",
        "\n",
        "    # Compute the dot product between u and v (≈1 line)\n",
        "    dot = np.dot(u, v)\n",
        "    # Compute the L2 norm of u (≈1 line)\n",
        "    norm_u = np.sqrt(np.sum(np.dot(u,u)))\n",
        "\n",
        "    # Compute the L2 norm of v (≈1 line)\n",
        "    norm_v = np.sqrt(np.sum(np.dot(v,v)))\n",
        "\n",
        "    # Avoid division by 0\n",
        "    if np.isclose(norm_u * norm_v, 0, atol=1e-32):\n",
        "        return 0\n",
        "\n",
        "    # Compute the cosine similarity defined by formula (1) (≈1 line)\n",
        "    cosine_similarity = dot / (norm_u * norm_v)\n",
        "\n",
        "    return cosine_similarity"
      ]
    },
    {
      "cell_type": "code",
      "execution_count": null,
      "id": "d96a5729-c023-4cbb-9359-4c7e0063ff3e",
      "metadata": {
        "id": "d96a5729-c023-4cbb-9359-4c7e0063ff3e",
        "outputId": "7f245435-4ad6-4198-97ae-b1fd3921934f"
      },
      "outputs": [
        {
          "data": {
            "image/png": "[encoded data removed]",
            "text/plain": [
              "<Figure size 800x600 with 1 Axes>"
            ]
          },
          "metadata": {},
          "output_type": "display_data"
        }
      ],
      "source": [
        "import numpy as np\n",
        "import matplotlib.pyplot as plt\n",
        "from sklearn.metrics.pairwise import cosine_similarity\n",
        "\n",
        "# Sample text vectors\n",
        "vector1 = np.array([1, 2])\n",
        "vector2 = np.array([4, 5])\n",
        "\n",
        "# Reshape the vectors to ensure they are 2D arrays\n",
        "vector1 = vector1.reshape(1, -1)\n",
        "vector2 = vector2.reshape(1, -1)\n",
        "\n",
        "# Compute cosine similarity\n",
        "similarity = cosine_similarity(vector1, vector2)[0][0]\n",
        "\n",
        "# Plot vectors\n",
        "plt.figure(figsize=(8, 6))\n",
        "plt.plot([0, vector1[0][0]], [0, vector1[0][1]], label='Vector 1', marker='o')\n",
        "plt.plot([0, vector2[0][0]], [0, vector2[0][1]], label='Vector 2', marker='o')\n",
        "plt.xlabel('X')\n",
        "plt.ylabel('Y')\n",
        "plt.title('Visualization of Text Vectors')\n",
        "plt.legend()\n",
        "\n",
        "# Annotate cosine similarity\n",
        "plt.text(1, 4, f'Cosine Similarity: {similarity:.2f}', fontsize=12)\n",
        "\n",
        "# Set aspect ratio to be equal\n",
        "plt.gca().set_aspect('equal', adjustable='box')\n",
        "\n",
        "# Show plot\n",
        "plt.grid()\n",
        "plt.show()\n"
      ]
    },
    {
      "cell_type": "code",
      "execution_count": null,
      "id": "bb49c273-79fa-437f-8a44-ab94535e5173",
      "metadata": {
        "id": "bb49c273-79fa-437f-8a44-ab94535e5173",
        "outputId": "29215af4-6af1-402a-ea4c-e1b8eeabe383"
      },
      "outputs": [
        {
          "data": {
            "image/png": "[encoded data removed]",
            "text/plain": [
              "<Figure size 1500x1000 with 6 Axes>"
            ]
          },
          "metadata": {},
          "output_type": "display_data"
        }
      ],
      "source": [
        "import numpy as np\n",
        "import matplotlib.pyplot as plt\n",
        "from sklearn.feature_extraction.text import TfidfVectorizer\n",
        "from sklearn.decomposition import PCA\n",
        "from sklearn.metrics.pairwise import cosine_similarity\n",
        "\n",
        "# Sample corpus\n",
        "corpus = [\n",
        "    \"The quick brown fox jumps over the lazy dog\",\n",
        "    \"The cat sits on the window sill\",\n",
        "    \"The dog barks loudly in the night\",\n",
        "    \"Birds of a feather flock together\"\n",
        "]\n",
        "\n",
        "# Initialize TF-IDF vectorizer\n",
        "tfidf_vectorizer = TfidfVectorizer()\n",
        "\n",
        "# Fit and transform the corpus\n",
        "tfidf_matrix = tfidf_vectorizer.fit_transform(corpus)\n",
        "\n",
        "# Convert TF-IDF matrix to dense array for easier manipulation\n",
        "tfidf_matrix_dense = tfidf_matrix.toarray()\n",
        "\n",
        "# Compute cosine similarity\n",
        "cos_sim = cosine_similarity(tfidf_matrix_dense)\n",
        "\n",
        "# Perform PCA to reduce dimensions to 2 for visualization\n",
        "pca = PCA(n_components=2)\n",
        "tfidf_matrix_pca = pca.fit_transform(tfidf_matrix_dense)\n",
        "\n",
        "# Plot one graph per pair of text\n",
        "num_pairs = len(corpus) * (len(corpus) - 1) // 2\n",
        "plt.figure(figsize=(15, 10))\n",
        "subplot_index = 1\n",
        "for i in range(len(corpus)):\n",
        "    for j in range(i + 1, len(corpus)):\n",
        "        plt.subplot(2, num_pairs // 2, subplot_index)\n",
        "        plt.scatter(tfidf_matrix_pca[:, 0], tfidf_matrix_pca[:, 1])\n",
        "        plt.plot([tfidf_matrix_pca[i, 0], tfidf_matrix_pca[j, 0]],\n",
        "                 [tfidf_matrix_pca[i, 1], tfidf_matrix_pca[j, 1]],\n",
        "                 linestyle='-', color='red')\n",
        "        plt.xlabel('Principal Component 1')\n",
        "        plt.ylabel('Principal Component 2')\n",
        "        plt.title(f'Cosine Similarity: {cos_sim[i, j]:.2f}')\n",
        "        plt.xticks([])\n",
        "        plt.yticks([])\n",
        "        subplot_index += 1\n",
        "plt.tight_layout()\n",
        "plt.show()\n"
      ]
    },
    {
      "cell_type": "code",
      "execution_count": null,
      "id": "3b6c6036-825a-4277-962a-31f3d8a979ca",
      "metadata": {
        "id": "3b6c6036-825a-4277-962a-31f3d8a979ca",
        "outputId": "d6d8e5e0-7e4d-40b4-83a2-749e0f7e0311"
      },
      "outputs": [
        {
          "name": "stdout",
          "output_type": "stream",
          "text": [
            "Text: The quick brown fox jumps over the lazy dog, \n",
            "The cat sits on the window sill\n",
            "Cosine Similarity: 0.22.\n",
            "\n",
            "Text: The quick brown fox jumps over the lazy dog, \n",
            "The dog barks loudly in the night\n",
            "Cosine Similarity: 0.31.\n",
            "\n",
            "Text: The quick brown fox jumps over the lazy dog, \n",
            "Birds of a feather flock together\n",
            "Cosine Similarity: 0.00.\n",
            "\n",
            "Text: The cat sits on the window sill, \n",
            "The dog barks loudly in the night\n",
            "Cosine Similarity: 0.25.\n",
            "\n",
            "Text: The cat sits on the window sill, \n",
            "Birds of a feather flock together\n",
            "Cosine Similarity: 0.00.\n",
            "\n",
            "Text: The dog barks loudly in the night, \n",
            "Birds of a feather flock together\n",
            "Cosine Similarity: 0.00.\n",
            "\n"
          ]
        }
      ],
      "source": [
        "import numpy as np\n",
        "import matplotlib.pyplot as plt\n",
        "from sklearn.feature_extraction.text import TfidfVectorizer\n",
        "from sklearn.decomposition import PCA\n",
        "from sklearn.metrics.pairwise import cosine_similarity\n",
        "\n",
        "# Sample corpus\n",
        "corpus = [\n",
        "    \"The quick brown fox jumps over the lazy dog\",\n",
        "    \"The cat sits on the window sill\",\n",
        "    \"The dog barks loudly in the night\",\n",
        "    \"Birds of a feather flock together\"\n",
        "]\n",
        "\n",
        "# Initialize TF-IDF vectorizer\n",
        "tfidf_vectorizer = TfidfVectorizer()\n",
        "\n",
        "# Fit and transform the corpus\n",
        "tfidf_matrix = tfidf_vectorizer.fit_transform(corpus)\n",
        "\n",
        "# Convert TF-IDF matrix to dense array for easier manipulation\n",
        "tfidf_matrix_dense = tfidf_matrix.toarray()\n",
        "\n",
        "# Compute cosine similarity\n",
        "cos_sim = cosine_similarity(tfidf_matrix_dense)\n",
        "\n",
        "for i in range(len(corpus)):\n",
        "    for j in range(i + 1, len(corpus)):\n",
        "        print(f'Text: {corpus[i]}, \\n{corpus[j]}\\nCosine Similarity: {cos_sim[i, j]:.2f}.\\n')\n",
        "\n"
      ]
    },
    {
      "cell_type": "code",
      "execution_count": null,
      "id": "08ee51e7-956e-47d8-a738-e1753cd0a43b",
      "metadata": {
        "id": "08ee51e7-956e-47d8-a738-e1753cd0a43b",
        "outputId": "8016e01c-f561-4aa0-d737-b485534a0cc2"
      },
      "outputs": [
        {
          "data": {
            "image/png": "[encoded data removed]",
            "text/plain": [
              "<Figure size 1500x1000 with 6 Axes>"
            ]
          },
          "metadata": {},
          "output_type": "display_data"
        }
      ],
      "source": [
        "import numpy as np\n",
        "import matplotlib.pyplot as plt\n",
        "from sklearn.feature_extraction.text import TfidfVectorizer\n",
        "from sklearn.decomposition import PCA\n",
        "from sklearn.metrics.pairwise import cosine_similarity\n",
        "\n",
        "# Sample corpus\n",
        "corpus = [\n",
        "    \"The quick brown fox jumps over the lazy dog\",\n",
        "    \"The cat sits on the window sill\",\n",
        "    \"The dog barks loudly in the night\",\n",
        "    \"Birds of a feather flock together\"\n",
        "]\n",
        "\n",
        "# Initialize TF-IDF vectorizer\n",
        "tfidf_vectorizer = TfidfVectorizer()\n",
        "\n",
        "# Fit and transform the corpus\n",
        "tfidf_matrix = tfidf_vectorizer.fit_transform(corpus)\n",
        "\n",
        "# Convert TF-IDF matrix to dense array for easier manipulation\n",
        "tfidf_matrix_dense = tfidf_matrix.toarray()\n",
        "\n",
        "# Perform PCA to reduce dimensions to 2 for visualization\n",
        "pca = PCA(n_components=2)\n",
        "tfidf_matrix_pca = pca.fit_transform(tfidf_matrix_dense)\n",
        "\n",
        "# Compute cosine similarity\n",
        "cos_sim = cosine_similarity(tfidf_matrix_pca)\n",
        "\n",
        "# Plot one graph per pair of text\n",
        "num_pairs = len(corpus) * (len(corpus) - 1) // 2\n",
        "plt.figure(figsize=(15, 10))\n",
        "subplot_index = 1\n",
        "for i in range(len(corpus)):\n",
        "    for j in range(i + 1, len(corpus)):\n",
        "        plt.subplot(2, num_pairs // 2, subplot_index)\n",
        "        plt.scatter(tfidf_matrix_pca[:, 0], tfidf_matrix_pca[:, 1])\n",
        "        plt.plot([0, tfidf_matrix_pca[i, 0]],\n",
        "                 [0, tfidf_matrix_pca[i, 1]],\n",
        "                 linestyle='-', color='blue', alpha=0.5)\n",
        "        plt.plot([0, tfidf_matrix_pca[j, 0]],\n",
        "                 [0, tfidf_matrix_pca[j, 1]],\n",
        "                 linestyle='-', color='red', alpha=0.5)\n",
        "        plt.xlabel('Principal Component 1')\n",
        "        plt.ylabel('Principal Component 2')\n",
        "        plt.title(f'Cosine Similarity: {cos_sim[i, j]:.2f}.\\nText: {corpus[i]}, \\n{corpus[j]}')\n",
        "        plt.xticks(np.arange(-0.5, 1.5, 0.5))\n",
        "        plt.yticks(np.arange(-0.5, 1.5, 0.5))\n",
        "        subplot_index += 1\n",
        "plt.tight_layout()\n",
        "plt.show()\n"
      ]
    },
    {
      "cell_type": "markdown",
      "id": "872607d3-09af-4722-b31e-2f34ddc808e4",
      "metadata": {
        "id": "872607d3-09af-4722-b31e-2f34ddc808e4"
      },
      "source": [
        "\n",
        "## Word2Vec\n",
        "https://www.tensorflow.org/text/tutorials/word2vec"
      ]
    },
    {
      "cell_type": "code",
      "execution_count": null,
      "id": "db4d9f05-7a47-483f-abda-bfef1a850fe0",
      "metadata": {
        "id": "db4d9f05-7a47-483f-abda-bfef1a850fe0"
      },
      "outputs": [],
      "source": [
        "from gensim.models import Word2Vec\n",
        "from nltk.tokenize import word_tokenize\n",
        "import nltk\n",
        "\n",
        "# Sample corpus\n",
        "corpus = [\n",
        "    \"The quick brown fox jumps over the lazy dog\",\n",
        "    \"The cat sits on the window sill\",\n",
        "    \"The dog barks loudly in the night\",\n",
        "    \"Birds of a feather flock together\"\n",
        "]\n",
        "\n",
        "# Tokenize the corpus\n",
        "tokenized_corpus = [word_tokenize(doc.lower()) for doc in corpus]\n",
        "\n",
        "# Define Word2Vec model parameters\n",
        "vector_size = 100  # Dimensionality of word vectors\n",
        "window_size = 5  # Context window size\n",
        "min_count = 1  # Minimum frequency count of words\n",
        "\n",
        "# Initialize Word2Vec model\n",
        "model = Word2Vec(\n",
        "    sentences=tokenized_corpus,\n",
        "    vector_size=vector_size,\n",
        "    window=window_size,\n",
        "    min_count=min_count,\n",
        "    sg=1  # Use Skip-gram model\n",
        ")\n",
        "\n",
        "# Train Word2Vec model\n",
        "model.train(tokenized_corpus, total_examples=len(tokenized_corpus), epochs=10)\n",
        "\n",
        "# Save trained model\n",
        "model.save(\"word2vec_model.bin\")\n",
        "\n",
        "# To load the trained model:\n",
        "# loaded_model = Word2Vec.load(\"word2vec_model.bin\")\n"
      ]
    },
    {
      "cell_type": "code",
      "execution_count": null,
      "id": "6e6390a2-fc4b-47ed-a2ea-6443e7753c3b",
      "metadata": {
        "id": "6e6390a2-fc4b-47ed-a2ea-6443e7753c3b",
        "outputId": "a893584a-1e54-4706-e4fe-503175977939"
      },
      "outputs": [
        {
          "data": {
            "text/plain": [
              "0.0"
            ]
          },
          "execution_count": 27,
          "metadata": {},
          "output_type": "execute_result"
        }
      ],
      "source": [
        "model.get_latest_training_loss()"
      ]
    },
    {
      "cell_type": "code",
      "execution_count": null,
      "id": "62e49a33-41b4-4b84-bcf6-ce348c59ecb6",
      "metadata": {
        "id": "62e49a33-41b4-4b84-bcf6-ce348c59ecb6",
        "outputId": "7d2a65f3-71ae-4e27-e0f9-6578caf0625a"
      },
      "outputs": [
        {
          "data": {
            "text/plain": [
              "['the',\n",
              " 'dog',\n",
              " 'on',\n",
              " 'quick',\n",
              " 'brown',\n",
              " 'fox',\n",
              " 'jumps',\n",
              " 'over',\n",
              " 'lazy',\n",
              " 'cat',\n",
              " 'sits',\n",
              " 'together',\n",
              " 'flock',\n",
              " 'sill',\n",
              " 'barks',\n",
              " 'loudly',\n",
              " 'in',\n",
              " 'night',\n",
              " 'birds',\n",
              " 'of',\n",
              " 'a',\n",
              " 'feather',\n",
              " 'window']"
            ]
          },
          "execution_count": 28,
          "metadata": {},
          "output_type": "execute_result"
        }
      ],
      "source": [
        "vocab = model.wv.index_to_key\n",
        "vocab"
      ]
    },
    {
      "cell_type": "code",
      "execution_count": null,
      "id": "55158a2f-4c74-4ac7-8412-a65a97df6424",
      "metadata": {
        "id": "55158a2f-4c74-4ac7-8412-a65a97df6424",
        "outputId": "d92686c3-11c7-4b34-8be9-e827acef0d39"
      },
      "outputs": [
        {
          "data": {
            "text/plain": [
              "{'the': 0,\n",
              " 'dog': 1,\n",
              " 'on': 2,\n",
              " 'quick': 3,\n",
              " 'brown': 4,\n",
              " 'fox': 5,\n",
              " 'jumps': 6,\n",
              " 'over': 7,\n",
              " 'lazy': 8,\n",
              " 'cat': 9,\n",
              " 'sits': 10,\n",
              " 'together': 11,\n",
              " 'flock': 12,\n",
              " 'sill': 13,\n",
              " 'barks': 14,\n",
              " 'loudly': 15,\n",
              " 'in': 16,\n",
              " 'night': 17,\n",
              " 'birds': 18,\n",
              " 'of': 19,\n",
              " 'a': 20,\n",
              " 'feather': 21,\n",
              " 'window': 22}"
            ]
          },
          "execution_count": 29,
          "metadata": {},
          "output_type": "execute_result"
        }
      ],
      "source": [
        "model.wv.key_to_index"
      ]
    },
    {
      "cell_type": "code",
      "execution_count": null,
      "id": "d0b7878d-b1f0-40a9-b635-da38851f23be",
      "metadata": {
        "id": "d0b7878d-b1f0-40a9-b635-da38851f23be",
        "outputId": "aff96c9d-dce1-4913-a72c-885d6199add1"
      },
      "outputs": [
        {
          "name": "stdout",
          "output_type": "stream",
          "text": [
            "Encoded text: [-5.7837130e-03  3.6055234e-03 -1.1196737e-03 -2.8097830e-03\n",
            " -2.8719611e-03 -7.0699293e-04  2.6095505e-03  3.8145164e-03\n",
            " -7.9738325e-05 -5.4969932e-03  6.8189099e-04 -1.4582998e-04\n",
            " -1.3211543e-03 -5.4508923e-03  1.3903377e-03 -6.0473527e-03\n",
            " -1.9872782e-03 -3.0967137e-03 -4.6811528e-03  8.0425956e-04\n",
            " -4.2174198e-03 -4.5109104e-05  4.3470562e-03  8.4203994e-03\n",
            " -6.4081289e-03 -2.5391351e-03  4.1090897e-03 -4.3012709e-03\n",
            " -6.9752458e-04  2.2456504e-03  2.9471819e-03 -7.5734332e-03\n",
            " -3.9005887e-03 -3.9829547e-03  1.9817776e-04  7.4805738e-03\n",
            "  5.9208330e-03  3.5381594e-03  5.3898769e-04  1.3247874e-03\n",
            "  6.3319178e-03 -2.9090638e-03 -4.2396868e-03  1.7294538e-04\n",
            "  9.4775180e-04 -3.3222700e-03 -1.2171406e-03  2.1610172e-03\n",
            " -1.4244010e-04 -1.4622757e-04  3.9652893e-03 -5.8537191e-03\n",
            "  1.7046125e-03  1.1576598e-03 -7.6312432e-03  2.9356885e-03\n",
            "  6.4427285e-03 -2.2514747e-03 -4.1565108e-03 -6.2255692e-03\n",
            "  4.1021248e-03  2.8511437e-03  8.0073569e-03 -6.4787325e-03\n",
            "  5.6215742e-04  1.6493114e-03 -4.0970658e-04  2.2664848e-03\n",
            " -2.8875321e-03 -8.5552642e-03  3.8926641e-03  2.0300383e-03\n",
            "  1.9701226e-03  5.2832584e-03  6.3883403e-04  5.2871415e-03\n",
            " -5.4455949e-03  4.7128513e-03 -2.5366058e-03  2.2575292e-03\n",
            "  1.0458532e-03 -1.5349012e-03  3.4360723e-03 -5.0181551e-03\n",
            " -2.5273790e-03 -2.6176926e-03  4.4689316e-04  5.3753294e-03\n",
            " -2.5152280e-03  1.0179973e-03  1.0599518e-03  4.9833823e-03\n",
            " -4.1055828e-03 -6.8912515e-05  9.0744589e-03  1.7112888e-03\n",
            "  1.3106380e-03 -6.6236723e-03 -1.5099205e-03 -5.3768512e-03]\n"
          ]
        }
      ],
      "source": [
        "# Sample text to encode\n",
        "text = \"This fox is a very quick fox\"\n",
        "\n",
        "# Tokenize the text\n",
        "tokens = word_tokenize(text.lower())\n",
        "\n",
        "# Encode the text\n",
        "word_vectors = [model.wv[word] for word in tokens if word in model.wv.key_to_index.keys()]\n",
        "\n",
        "# Average the word vectors to get the text encoding\n",
        "if word_vectors:\n",
        "    encoded_text = np.mean(word_vectors, axis=0)\n",
        "else:\n",
        "    encoded_text = np.zeros(model.vector_size)  # Default encoding for empty text\n",
        "\n",
        "# Print the encoded text\n",
        "print(\"Encoded text:\", encoded_text)"
      ]
    },
    {
      "cell_type": "code",
      "execution_count": null,
      "id": "9788fb60-7dcc-4559-8de2-b34908c90147",
      "metadata": {
        "id": "9788fb60-7dcc-4559-8de2-b34908c90147",
        "outputId": "78b306b3-e1d5-4a45-a744-a717dc5c78a2"
      },
      "outputs": [
        {
          "data": {
            "text/plain": [
              "array([-8.7303966e-03,  2.1338260e-03, -8.6989487e-04, -9.3153063e-03,\n",
              "       -9.4249453e-03, -1.4130132e-03,  4.4353926e-03,  3.7065155e-03,\n",
              "       -6.5010372e-03, -6.8745739e-03, -4.9988101e-03, -2.2927478e-03,\n",
              "       -7.2501772e-03, -9.6010659e-03, -2.7425932e-03, -8.3613321e-03,\n",
              "       -6.0380176e-03, -5.6690061e-03, -2.3454595e-03, -1.7098236e-03,\n",
              "       -8.9545315e-03, -7.3318754e-04,  8.1551401e-03,  7.6862290e-03,\n",
              "       -7.2053238e-03, -3.6646274e-03,  3.1163865e-03, -9.5714321e-03,\n",
              "        1.4766052e-03,  6.5234560e-03,  5.7482058e-03, -8.7657180e-03,\n",
              "       -4.5163231e-03, -8.1407391e-03,  4.5828525e-05,  9.2666261e-03,\n",
              "        5.9757768e-03,  5.0690323e-03,  5.0621354e-03, -3.2418757e-03,\n",
              "        9.5563205e-03, -7.3593128e-03, -7.2727809e-03, -2.2640207e-03,\n",
              "       -7.7806215e-04, -3.2131982e-03, -5.9398660e-04,  7.4867732e-03,\n",
              "       -6.9700117e-04, -1.6254039e-03,  2.7459452e-03, -8.3612744e-03,\n",
              "        7.8570945e-03,  8.5364711e-03, -9.5832711e-03,  2.4480862e-03,\n",
              "        9.9091465e-03, -7.6650358e-03, -6.9658090e-03, -7.7343341e-03,\n",
              "        8.3918860e-03, -6.8286300e-04,  9.1437800e-03, -8.1588542e-03,\n",
              "        3.7442038e-03,  2.6371577e-03,  7.4225024e-04,  2.3290166e-03,\n",
              "       -7.4681873e-03, -9.3562761e-03,  2.3514798e-03,  6.1465777e-03,\n",
              "        7.9895919e-03,  5.7381527e-03, -7.7733892e-04,  8.3037699e-03,\n",
              "       -9.3365861e-03,  3.4045114e-03,  2.6756845e-04,  3.8561511e-03,\n",
              "        7.3809219e-03, -6.7254063e-03,  5.5867429e-03, -9.5241209e-03,\n",
              "       -8.0368709e-04, -8.6878464e-03, -5.0973990e-03,  9.2846500e-03,\n",
              "       -1.8567530e-03,  2.9145598e-03,  9.0723084e-03,  8.9388005e-03,\n",
              "       -8.2072513e-03, -3.0144947e-03,  9.8873582e-03,  5.1076198e-03,\n",
              "       -1.5868897e-03, -8.6902045e-03,  2.9604919e-03, -6.6736788e-03],\n",
              "      dtype=float32)"
            ]
          },
          "execution_count": 36,
          "metadata": {},
          "output_type": "execute_result"
        }
      ],
      "source": [
        "model.wv[\"fox\"]"
      ]
    },
    {
      "cell_type": "code",
      "execution_count": null,
      "id": "8c25601a-0e03-4e0a-8b25-933005d7bd13",
      "metadata": {
        "id": "8c25601a-0e03-4e0a-8b25-933005d7bd13",
        "outputId": "50c62a34-997b-469b-e34b-bc383f8577c3"
      },
      "outputs": [
        {
          "data": {
            "text/plain": [
              "[array([-8.7303966e-03,  2.1338260e-03, -8.6989487e-04, -9.3153063e-03,\n",
              "        -9.4249453e-03, -1.4130132e-03,  4.4353926e-03,  3.7065155e-03,\n",
              "        -6.5010372e-03, -6.8745739e-03, -4.9988101e-03, -2.2927478e-03,\n",
              "        -7.2501772e-03, -9.6010659e-03, -2.7425932e-03, -8.3613321e-03,\n",
              "        -6.0380176e-03, -5.6690061e-03, -2.3454595e-03, -1.7098236e-03,\n",
              "        -8.9545315e-03, -7.3318754e-04,  8.1551401e-03,  7.6862290e-03,\n",
              "        -7.2053238e-03, -3.6646274e-03,  3.1163865e-03, -9.5714321e-03,\n",
              "         1.4766052e-03,  6.5234560e-03,  5.7482058e-03, -8.7657180e-03,\n",
              "        -4.5163231e-03, -8.1407391e-03,  4.5828525e-05,  9.2666261e-03,\n",
              "         5.9757768e-03,  5.0690323e-03,  5.0621354e-03, -3.2418757e-03,\n",
              "         9.5563205e-03, -7.3593128e-03, -7.2727809e-03, -2.2640207e-03,\n",
              "        -7.7806215e-04, -3.2131982e-03, -5.9398660e-04,  7.4867732e-03,\n",
              "        -6.9700117e-04, -1.6254039e-03,  2.7459452e-03, -8.3612744e-03,\n",
              "         7.8570945e-03,  8.5364711e-03, -9.5832711e-03,  2.4480862e-03,\n",
              "         9.9091465e-03, -7.6650358e-03, -6.9658090e-03, -7.7343341e-03,\n",
              "         8.3918860e-03, -6.8286300e-04,  9.1437800e-03, -8.1588542e-03,\n",
              "         3.7442038e-03,  2.6371577e-03,  7.4225024e-04,  2.3290166e-03,\n",
              "        -7.4681873e-03, -9.3562761e-03,  2.3514798e-03,  6.1465777e-03,\n",
              "         7.9895919e-03,  5.7381527e-03, -7.7733892e-04,  8.3037699e-03,\n",
              "        -9.3365861e-03,  3.4045114e-03,  2.6756845e-04,  3.8561511e-03,\n",
              "         7.3809219e-03, -6.7254063e-03,  5.5867429e-03, -9.5241209e-03,\n",
              "        -8.0368709e-04, -8.6878464e-03, -5.0973990e-03,  9.2846500e-03,\n",
              "        -1.8567530e-03,  2.9145598e-03,  9.0723084e-03,  8.9388005e-03,\n",
              "        -8.2072513e-03, -3.0144947e-03,  9.8873582e-03,  5.1076198e-03,\n",
              "        -1.5868897e-03, -8.6902045e-03,  2.9604919e-03, -6.6736788e-03],\n",
              "       dtype=float32),\n",
              " array([ 0.00257018,  0.00084653, -0.00253944,  0.00935767,  0.00275751,\n",
              "         0.00409565, -0.00118294,  0.0009045 ,  0.00662431, -0.0007265 ,\n",
              "         0.00334151, -0.00067202,  0.0052484 ,  0.00363993,  0.00258253,\n",
              "        -0.00530989, -0.0047081 ,  0.00430802, -0.00590717, -0.00018021,\n",
              "        -0.00063352,  0.00349324, -0.00844227,  0.00881723, -0.00144874,\n",
              "        -0.00533093,  0.00405447, -0.00193549, -0.00776548, -0.0044968 ,\n",
              "        -0.00038773, -0.00894647,  0.00057056,  0.00244179, -0.00322527,\n",
              "         0.0025704 ,  0.0024808 ,  0.00998822,  0.00143051,  0.00202054,\n",
              "         0.00277956, -0.00207787, -0.00869862,  0.00802317, -0.0019747 ,\n",
              "        -0.00969231, -0.006552  , -0.00394586,  0.00395435,  0.00503858,\n",
              "         0.00608601, -0.00677026,  0.00068884, -0.00277528, -0.0052092 ,\n",
              "         0.00698127,  0.00395197, -0.00310651, -0.00827691, -0.00514079,\n",
              "        -0.00064953,  0.00781176,  0.00604419, -0.00845166, -0.00956354,\n",
              "         0.00713384, -0.00232757, -0.00369231,  0.00574983, -0.00584431,\n",
              "         0.00509395, -0.00024243, -0.00687516, -0.00033164,  0.00635899,\n",
              "         0.00929394,  0.00222091,  0.00505009, -0.00497452, -0.00079755,\n",
              "        -0.00531764,  0.00118896, -0.00179321, -0.00363263, -0.00701438,\n",
              "         0.00965443,  0.00297583, -0.00228122, -0.00418409,  0.00771379,\n",
              "        -0.00648185,  0.00312154,  0.00078736,  0.00832288,  0.00683618,\n",
              "        -0.00290865,  0.0025351 , -0.00166607, -0.00945466, -0.00261346],\n",
              "       dtype=float32),\n",
              " array([-8.2442360e-03,  9.3079126e-03, -1.9946479e-04, -1.9661877e-03,\n",
              "         4.6045375e-03, -4.0975935e-03,  2.7503525e-03,  6.9405301e-03,\n",
              "         6.0588135e-03, -7.5123231e-03,  9.3836766e-03,  4.6741967e-03,\n",
              "         3.9673396e-03, -6.2413723e-03,  8.4640076e-03, -2.1568530e-03,\n",
              "         8.8350223e-03, -5.3568641e-03, -8.1265215e-03,  6.8168915e-03,\n",
              "         1.6729007e-03, -2.2073048e-03,  9.5202103e-03,  9.4919056e-03,\n",
              "        -9.7731231e-03,  2.5036419e-03,  6.1491164e-03,  3.8732709e-03,\n",
              "         2.0221742e-03,  4.3248836e-04,  6.8004237e-04, -3.8158237e-03,\n",
              "        -7.1402723e-03, -2.0921347e-03,  3.9263270e-03,  8.8186422e-03,\n",
              "         9.2509799e-03, -5.9736427e-03, -9.3988255e-03,  9.7623635e-03,\n",
              "         3.4354709e-03,  5.1602428e-03,  6.2854285e-03, -2.8033503e-03,\n",
              "         7.3218290e-03,  2.8296295e-03,  2.8714153e-03, -2.3836172e-03,\n",
              "        -3.1301053e-03, -2.3726835e-03,  4.2832550e-03,  7.7933619e-05,\n",
              "        -9.5845768e-03, -9.6670212e-03, -6.1492315e-03, -1.3469196e-04,\n",
              "         2.0006532e-03,  9.4306795e-03,  5.5824826e-03, -4.2928220e-03,\n",
              "         2.7426111e-04,  4.9585369e-03,  7.6976810e-03, -1.1455661e-03,\n",
              "         4.3237577e-03, -5.8109052e-03, -7.9576083e-04,  8.1002153e-03,\n",
              "        -2.3635861e-03, -9.6642012e-03,  5.7737418e-03, -3.9305775e-03,\n",
              "        -1.2235304e-03,  9.9883657e-03, -2.2489778e-03, -4.7529112e-03,\n",
              "        -5.3301193e-03,  6.9922889e-03, -5.7070367e-03,  2.1153658e-03,\n",
              "        -5.2607954e-03,  6.1222450e-03,  4.3640165e-03,  2.6082553e-03,\n",
              "        -1.4877630e-03, -2.7495094e-03,  9.0065431e-03,  5.2132430e-03,\n",
              "        -2.1633164e-03, -9.4709182e-03, -7.4229548e-03, -1.0656143e-03,\n",
              "        -7.9518557e-04, -2.5695413e-03,  9.6869441e-03, -4.6143739e-04,\n",
              "         5.8812317e-03, -7.4482085e-03, -2.5060037e-03, -5.5465866e-03],\n",
              "       dtype=float32),\n",
              " array([-8.7303966e-03,  2.1338260e-03, -8.6989487e-04, -9.3153063e-03,\n",
              "        -9.4249453e-03, -1.4130132e-03,  4.4353926e-03,  3.7065155e-03,\n",
              "        -6.5010372e-03, -6.8745739e-03, -4.9988101e-03, -2.2927478e-03,\n",
              "        -7.2501772e-03, -9.6010659e-03, -2.7425932e-03, -8.3613321e-03,\n",
              "        -6.0380176e-03, -5.6690061e-03, -2.3454595e-03, -1.7098236e-03,\n",
              "        -8.9545315e-03, -7.3318754e-04,  8.1551401e-03,  7.6862290e-03,\n",
              "        -7.2053238e-03, -3.6646274e-03,  3.1163865e-03, -9.5714321e-03,\n",
              "         1.4766052e-03,  6.5234560e-03,  5.7482058e-03, -8.7657180e-03,\n",
              "        -4.5163231e-03, -8.1407391e-03,  4.5828525e-05,  9.2666261e-03,\n",
              "         5.9757768e-03,  5.0690323e-03,  5.0621354e-03, -3.2418757e-03,\n",
              "         9.5563205e-03, -7.3593128e-03, -7.2727809e-03, -2.2640207e-03,\n",
              "        -7.7806215e-04, -3.2131982e-03, -5.9398660e-04,  7.4867732e-03,\n",
              "        -6.9700117e-04, -1.6254039e-03,  2.7459452e-03, -8.3612744e-03,\n",
              "         7.8570945e-03,  8.5364711e-03, -9.5832711e-03,  2.4480862e-03,\n",
              "         9.9091465e-03, -7.6650358e-03, -6.9658090e-03, -7.7343341e-03,\n",
              "         8.3918860e-03, -6.8286300e-04,  9.1437800e-03, -8.1588542e-03,\n",
              "         3.7442038e-03,  2.6371577e-03,  7.4225024e-04,  2.3290166e-03,\n",
              "        -7.4681873e-03, -9.3562761e-03,  2.3514798e-03,  6.1465777e-03,\n",
              "         7.9895919e-03,  5.7381527e-03, -7.7733892e-04,  8.3037699e-03,\n",
              "        -9.3365861e-03,  3.4045114e-03,  2.6756845e-04,  3.8561511e-03,\n",
              "         7.3809219e-03, -6.7254063e-03,  5.5867429e-03, -9.5241209e-03,\n",
              "        -8.0368709e-04, -8.6878464e-03, -5.0973990e-03,  9.2846500e-03,\n",
              "        -1.8567530e-03,  2.9145598e-03,  9.0723084e-03,  8.9388005e-03,\n",
              "        -8.2072513e-03, -3.0144947e-03,  9.8873582e-03,  5.1076198e-03,\n",
              "        -1.5868897e-03, -8.6902045e-03,  2.9604919e-03, -6.6736788e-03],\n",
              "       dtype=float32)]"
            ]
          },
          "execution_count": 37,
          "metadata": {},
          "output_type": "execute_result"
        }
      ],
      "source": [
        "word_vectors"
      ]
    },
    {
      "cell_type": "code",
      "execution_count": null,
      "id": "22ec35aa-f805-4964-b7f6-5004e9bf33b5",
      "metadata": {
        "id": "22ec35aa-f805-4964-b7f6-5004e9bf33b5",
        "outputId": "5c20a108-1dc9-4cf4-fd26-dc32db20afe5"
      },
      "outputs": [
        {
          "name": "stdout",
          "output_type": "stream",
          "text": [
            "[[-3.02164210e-03  1.89832866e-03  2.15289090e-03  3.20686353e-03\n",
            "  -1.11083256e-03 -1.75773562e-03  4.75414470e-03  3.17298039e-03\n",
            "  -3.68613470e-03 -2.75018392e-03  2.37560179e-03 -1.01659715e-03\n",
            "  -1.42359012e-03  1.09140936e-03 -1.29408974e-04 -9.63047380e-04\n",
            "   2.22297013e-03  1.00127282e-03 -4.13676212e-03 -4.52535972e-03\n",
            "   1.43021275e-03  8.96953687e-04  7.52904918e-03  4.00429068e-04\n",
            "  -3.63082770e-04  7.91001366e-04 -5.60646877e-04  8.58399086e-04\n",
            "  -3.03859985e-03  5.15196240e-04  1.63753203e-03 -1.13723904e-03\n",
            "   1.30756141e-03 -3.78204556e-03  2.37615241e-04  1.76724629e-03\n",
            "   2.35172780e-03 -6.21972256e-04 -5.57403779e-04 -8.41784815e-04\n",
            "   1.96546223e-03 -1.19838538e-03 -3.37014510e-03 -1.10164937e-03\n",
            "   2.30246922e-03  2.42356415e-04 -1.98529824e-03  1.56971696e-03\n",
            "   1.45108299e-03  3.83097446e-04 -7.01911747e-04 -1.61443965e-03\n",
            "   6.89904846e-05 -1.11698417e-03 -1.14473468e-03 -8.28506541e-04\n",
            "   1.24320318e-03 -2.05909787e-03 -1.18120201e-03 -5.84182417e-05\n",
            "   3.17209284e-04 -1.12013018e-03  2.05514533e-03 -2.23886129e-03\n",
            "  -5.95707970e-04  2.01425981e-03 -4.39603493e-04  3.99786793e-03\n",
            "  -3.38460552e-03 -6.87575666e-04  1.58764728e-04  2.59259832e-03\n",
            "   1.59104704e-03  1.93803175e-03  3.50761809e-04 -7.12506531e-04\n",
            "  -3.45587381e-04  9.22397419e-04 -8.46466981e-04 -3.14880605e-03\n",
            "  -2.08810228e-03 -1.44078233e-03  2.21371348e-03  4.73005173e-04\n",
            "  -1.51153980e-03 -2.75979587e-03  4.43388522e-03 -6.57696801e-04\n",
            "  -1.90130679e-03 -2.66352563e-05  3.96517426e-04 -5.00267051e-05\n",
            "  -3.74186784e-04 -1.44832931e-03  5.12041198e-03  1.99616933e-03\n",
            "   7.70365295e-04 -3.42723029e-03  1.93765591e-04  4.41728160e-04]\n",
            " [-1.25790387e-03  1.30493846e-03 -2.95026432e-04  3.26136919e-03\n",
            "  -3.59644368e-03 -4.40611131e-03 -1.15553674e-03  3.57832597e-03\n",
            "  -4.71264636e-03 -3.21959867e-03  1.34697219e-03 -1.91814022e-03\n",
            "   5.82945533e-04  1.25710724e-03  2.33888091e-03  2.46531377e-03\n",
            "   2.68111704e-03  8.72130622e-04 -9.89209162e-04 -6.21373951e-03\n",
            "   2.09974940e-03  2.22021900e-03  1.53773080e-03  4.15918417e-04\n",
            "   5.27186925e-03  8.06535303e-04 -2.81823124e-03  3.12373741e-03\n",
            "  -1.27308734e-03  4.64354125e-05 -5.40577457e-04  9.42746759e-04\n",
            "   3.70478374e-03 -1.51043409e-03 -7.51704851e-04  1.21054461e-03\n",
            "   2.83122854e-03 -2.06830111e-04 -1.57232897e-03  8.97922364e-05\n",
            "  -2.57215509e-03  1.28847733e-03 -4.50854003e-03  8.65535258e-05\n",
            "  -1.38509471e-03 -1.62572239e-03 -3.23999813e-03  2.91403010e-03\n",
            "   7.33601744e-04  2.43668491e-03 -1.18694420e-03  1.33274437e-03\n",
            "  -5.48717473e-03  1.94704940e-03  2.28055520e-03 -1.63985242e-03\n",
            "  -2.56588013e-04 -4.33595898e-03 -4.82595322e-04  3.50533100e-03\n",
            "  -2.13604397e-03  9.15621815e-04  2.76091159e-03  2.77769956e-04\n",
            "  -1.50427851e-03  2.34300154e-03 -4.76767571e-04  3.39786202e-04\n",
            "  -8.50062817e-04  1.00828672e-03  1.79805967e-03  4.86439560e-03\n",
            "  -2.30272417e-03 -2.78454297e-03  1.49840512e-03  3.91756510e-03\n",
            "   3.20220413e-03 -7.64583703e-04  3.28168418e-04 -9.86535917e-04\n",
            "   4.77531285e-04  1.46516264e-04  3.68975475e-03  3.99747863e-03\n",
            "  -2.70435750e-03  8.09347664e-04  1.21709204e-03 -4.75045148e-04\n",
            "   3.11224093e-03  2.48610834e-03  1.08452863e-03  3.11602978e-03\n",
            "   1.78585923e-03  1.63850666e-03  3.91269242e-03 -7.14940485e-04\n",
            "  -5.08464465e-04 -2.32323841e-03  2.40800530e-03  2.82448414e-03]\n",
            " [-8.83319124e-04  2.14216509e-03  3.77406389e-03  2.21269554e-03\n",
            "   9.59239143e-04 -4.72053234e-03  2.82025221e-03  6.08935254e-03\n",
            "  -1.47131830e-03 -2.75055575e-03  1.46303349e-03 -6.39841193e-03\n",
            "  -3.55192204e-03  3.38075659e-03 -2.77185743e-03  7.32318382e-04\n",
            "   1.04547979e-03  1.54564972e-03 -1.08998758e-03 -5.51049644e-03\n",
            "   5.43443626e-03  2.74942769e-03  1.84986938e-03 -2.13579135e-03\n",
            "   4.22888203e-04  8.66154791e-04 -5.31226455e-04  6.27028348e-04\n",
            "  -1.80072163e-03 -2.24254327e-03 -2.59693130e-03 -2.28907191e-03\n",
            "   2.16271519e-03 -4.11287416e-03 -5.87777642e-04  1.72415213e-03\n",
            "   5.14693977e-03 -1.75251364e-04 -3.82930448e-04  5.02011913e-04\n",
            "   1.88186101e-03 -2.75947573e-03 -3.78197548e-03  2.02265754e-03\n",
            "   2.03687977e-03  2.81022349e-03 -4.84432001e-03 -4.65934776e-04\n",
            "   3.38528655e-03  2.88507924e-03 -1.11177179e-03  5.18497254e-04\n",
            "   2.22153636e-03  6.77274831e-04  3.11409449e-03  7.90356789e-05\n",
            "   5.05797612e-03 -1.66580605e-03 -8.26345698e-04  5.97246131e-03\n",
            "  -2.60103238e-03 -1.09425758e-03 -2.95448094e-03 -1.40361697e-03\n",
            "   2.70562549e-03  2.19023740e-03 -9.65109968e-04  3.17356503e-03\n",
            "   2.85269273e-03  1.65169651e-03  4.21119243e-04  4.35451839e-05\n",
            "   2.75017438e-03 -1.38732349e-03  3.09688551e-03 -1.00352406e-03\n",
            "   4.74878401e-03 -7.30508124e-04  2.35891202e-03 -2.87174550e-03\n",
            "  -4.50239982e-03  1.37823331e-03  1.67465687e-03 -9.51825758e-04\n",
            "  -1.61503756e-03  2.14119093e-03  2.22698203e-03 -3.51005071e-03\n",
            "   9.42099025e-04  1.06414617e-03  3.47678876e-03  1.80944835e-03\n",
            "   3.41936247e-03 -9.16598015e-04  2.01425632e-03  4.00257390e-03\n",
            "  -2.49389303e-03 -4.48115665e-04 -1.57511234e-03  4.40346915e-03]\n",
            " [ 4.51264950e-03  1.00307271e-03  2.25340272e-03  3.79554532e-03\n",
            "  -3.09819385e-04  1.78585539e-03  3.77569115e-04  3.38770985e-03\n",
            "   1.19034864e-03 -2.49172747e-03  4.63351578e-04 -1.73898414e-04\n",
            "   2.49814731e-03  1.39154994e-03  9.92217800e-04 -4.00063163e-03\n",
            "   1.69005990e-03 -2.79466301e-04 -6.18758844e-04 -8.92549986e-04\n",
            "  -1.36287080e-03 -2.06076005e-03 -3.48182931e-03  1.65805381e-04\n",
            "  -1.83594658e-03  4.48665116e-04 -4.59266501e-03  2.46645184e-03\n",
            "   2.30505876e-03  2.07365584e-03  8.83587272e-05 -4.33508726e-03\n",
            "   1.28556241e-03 -9.07812733e-04 -2.40328372e-03 -1.70190213e-03\n",
            "  -1.85355952e-03 -1.04987330e-03 -3.41279112e-04 -3.85052618e-03\n",
            "  -1.96839287e-03  1.51356496e-03  9.20114573e-04  4.52956418e-03\n",
            "  -4.30383114e-03 -4.14616987e-03  6.76927622e-04 -3.68834939e-03\n",
            "  -2.24446107e-04  2.92433985e-03  1.24519947e-03 -4.22458444e-03\n",
            "  -2.38472596e-03 -1.28927617e-03 -1.50109688e-03  1.92891748e-03\n",
            "   3.74939293e-04  1.45503029e-03  1.58636004e-03 -1.18005637e-03\n",
            "  -1.90457923e-03  1.86219672e-03  2.79047503e-03  6.23792119e-04\n",
            "  -4.34371037e-03  5.57158748e-03  3.84424464e-03  2.23072781e-03\n",
            "  -4.08412283e-03  3.26483045e-04  2.46435613e-03  3.37466854e-03\n",
            "   1.69648649e-03 -1.35656691e-03  2.41238018e-03  1.42142142e-03\n",
            "   8.02401628e-04  3.56986676e-03 -3.71357822e-03 -1.24163984e-03\n",
            "  -5.94096398e-03  1.67202542e-03 -5.01940667e-04  2.30527855e-03\n",
            "   7.69289152e-04  1.05890573e-03  1.41312613e-03 -3.13478708e-03\n",
            "  -1.40126247e-03  8.32089223e-04  2.84353201e-03 -2.17519444e-03\n",
            "  -1.02545810e-03  3.28534748e-03  8.11645237e-04 -2.64900737e-03\n",
            "  -1.04856945e-03  2.50342092e-03 -6.79588702e-04  2.69745849e-03]]\n"
          ]
        }
      ],
      "source": [
        "# Sample corpus\n",
        "corpus = [\n",
        "    \"The quick brown fox jumps over the lazy dog\",\n",
        "    \"The cat sits on the window sill\",\n",
        "    \"The dog barks loudly in the night\",\n",
        "    \"Birds of a feather flock together\"\n",
        "]\n",
        "\n",
        "embeddings = np.zeros((len(corpus), model.vector_size))\n",
        "\n",
        "for i in range(len(corpus)):\n",
        "    # Tokenize the text\n",
        "    tokens = word_tokenize(corpus[i].lower())\n",
        "\n",
        "    # Encode the text\n",
        "    word_vectors = [model.wv[word] for word in tokens if word in model.wv.key_to_index.keys()]\n",
        "\n",
        "    # Average the word vectors to get the text encoding\n",
        "    if word_vectors:\n",
        "        encoded_text = np.mean(word_vectors, axis=0)\n",
        "    else:\n",
        "        encoded_text = np.zeros(model.vector_size)  # Default encoding for empty text\n",
        "    embeddings[i] = encoded_text\n",
        "\n",
        "print(embeddings)\n"
      ]
    },
    {
      "cell_type": "code",
      "execution_count": null,
      "id": "5957f1e6-4438-41be-91ed-4ce9a49101d0",
      "metadata": {
        "id": "5957f1e6-4438-41be-91ed-4ce9a49101d0",
        "outputId": "e2a30567-0856-4ceb-9491-358638733351"
      },
      "outputs": [
        {
          "name": "stdout",
          "output_type": "stream",
          "text": [
            "Text: The quick brown fox jumps over the lazy dog, \n",
            "The cat sits on the window sill\n",
            "Cosine Similarity: 0.42.\n",
            "\n",
            "Text: The quick brown fox jumps over the lazy dog, \n",
            "The dog barks loudly in the night\n",
            "Cosine Similarity: 0.49.\n",
            "\n",
            "Text: The quick brown fox jumps over the lazy dog, \n",
            "Birds of a feather flock together\n",
            "Cosine Similarity: 0.07.\n",
            "\n",
            "Text: The cat sits on the window sill, \n",
            "The dog barks loudly in the night\n",
            "Cosine Similarity: 0.44.\n",
            "\n",
            "Text: The cat sits on the window sill, \n",
            "Birds of a feather flock together\n",
            "Cosine Similarity: 0.15.\n",
            "\n",
            "Text: The dog barks loudly in the night, \n",
            "Birds of a feather flock together\n",
            "Cosine Similarity: 0.02.\n",
            "\n"
          ]
        }
      ],
      "source": [
        "# Compute cosine similarity\n",
        "cos_sim = cosine_similarity(embeddings)\n",
        "for i in range(len(corpus)):\n",
        "    for j in range(i + 1, len(corpus)):\n",
        "        print(f'Text: {corpus[i]}, \\n{corpus[j]}\\nCosine Similarity: {cos_sim[i, j]:.2f}.\\n')"
      ]
    },
    {
      "cell_type": "code",
      "execution_count": null,
      "id": "663f2a9c-15e2-429a-99ab-7ca0966b8c82",
      "metadata": {
        "id": "663f2a9c-15e2-429a-99ab-7ca0966b8c82",
        "outputId": "9eb46f20-7a28-4fb9-862e-4f23668a6f2b"
      },
      "outputs": [
        {
          "data": {
            "text/plain": [
              "array([[1.        , 0.42434464, 0.48983837, 0.07459558],\n",
              "       [0.42434464, 1.        , 0.43581208, 0.14574678],\n",
              "       [0.48983837, 0.43581208, 1.        , 0.01930317],\n",
              "       [0.07459558, 0.14574678, 0.01930317, 1.        ]])"
            ]
          },
          "execution_count": 40,
          "metadata": {},
          "output_type": "execute_result"
        }
      ],
      "source": [
        "cos_sim"
      ]
    },
    {
      "cell_type": "code",
      "execution_count": null,
      "id": "f4d44063-cd06-4a6a-a586-adf37d907b81",
      "metadata": {
        "id": "f4d44063-cd06-4a6a-a586-adf37d907b81"
      },
      "outputs": [],
      "source": [
        "# Training of Skip-gram model\n",
        "# source: https://colab.research.google.com/drive/1IxAnnFSqk3mL3A8n1PKYWdEzDSd2Y9rF?usp=sharing#scrollTo=13xBa01XEnpb\n",
        "\n",
        "import numpy as np\n",
        "import tensorflow as tf\n",
        "from tensorflow.keras.preprocessing import sequence\n",
        "from tensorflow.keras.models import Sequential\n",
        "from tensorflow.keras.layers import Embedding, Dense, Flatten\n",
        "\n",
        "# Set up the training data\n",
        "sentences = [[\"I\", \"love\", \"machine\", \"learning\"],\n",
        "             [\"I\", \"like\", \"deep\", \"learning\"],\n",
        "             [\"I\", \"enjoy\", \"neural\", \"networks\"]]\n",
        "\n",
        "# Create the skip-gram dataset\n",
        "skip_gram_pairs = []\n",
        "window_size = 2\n",
        "\n",
        "for sentence in sentences:\n",
        "    for i in range(len(sentence)):\n",
        "        target_word = sentence[i]\n",
        "        for j in range(i - window_size, i + window_size + 1):\n",
        "            if j >= 0 and j < len(sentence) and j != i:\n",
        "                context_word = sentence[j]\n",
        "                skip_gram_pairs.append((target_word, context_word))\n",
        "\n",
        "# Create word-to-index and index-to-word mappings\n",
        "word_to_index = {}\n",
        "index_to_word = {}\n",
        "index = 0\n",
        "\n",
        "for sentence in sentences:\n",
        "    for word in sentence:\n",
        "        if word not in word_to_index:\n",
        "            word_to_index[word] = index\n",
        "            index_to_word[index] = word\n",
        "            index += 1\n",
        "\n",
        "# Convert skip-gram pairs to indices\n",
        "skip_gram_pairs_indices = []\n",
        "for pair in skip_gram_pairs:\n",
        "    target_index = word_to_index[pair[0]]\n",
        "    context_index = word_to_index[pair[1]]\n",
        "    skip_gram_pairs_indices.append((target_index, context_index))\n",
        "\n",
        "# Define the model\n",
        "vocab_size = len(word_to_index)\n",
        "embedding_dim = 10\n",
        "\n",
        "model = Sequential()\n",
        "model.add(Embedding(vocab_size, embedding_dim, input_length=1))\n",
        "model.add(Flatten())\n",
        "model.add(Dense(vocab_size, activation='softmax'))\n",
        "\n",
        "# Compile and train the model\n",
        "model.compile(loss='categorical_crossentropy', optimizer='adam')\n",
        "target_words = []\n",
        "context_words = []\n",
        "\n",
        "for pair in skip_gram_pairs_indices:\n",
        "    target_words.append(pair[0])\n",
        "    context_words.append(pair[1])\n",
        "\n",
        "target_words = np.array(target_words)\n",
        "context_words = np.array(context_words)\n",
        "\n",
        "model.fit(target_words, tf.keras.utils.to_categorical(context_words, num_classes=vocab_size), epochs=100)\n",
        "\n",
        "# Get the word embeddings\n",
        "embeddings = model.get_weights()[0]\n",
        "\n",
        "# Print the word embeddings\n",
        "for i in range(vocab_size):\n",
        "    word = index_to_word[i]\n",
        "    embedding = embeddings[i]\n",
        "    print(f\"Word: {word}, Embedding: {embedding}\")"
      ]
    },
    {
      "cell_type": "markdown",
      "id": "ccd764d9-3293-4465-a9bc-4277b0b412eb",
      "metadata": {
        "id": "ccd764d9-3293-4465-a9bc-4277b0b412eb"
      },
      "source": [
        "### Pretrained embeddings: GloVe\n",
        "\n",
        "https://nlp.stanford.edu/projects/glove/\n",
        "\n",
        "https://medium.com/analytics-vidhya/basics-of-using-pre-trained-glove-vectors-in-python-d38905f356db"
      ]
    },
    {
      "cell_type": "code",
      "execution_count": null,
      "id": "01e0e0c4-af44-4d2b-a666-1eb567f137c0",
      "metadata": {
        "id": "01e0e0c4-af44-4d2b-a666-1eb567f137c0"
      },
      "outputs": [],
      "source": [
        "embeddings_dict = {}\n",
        "with open(\"glove.6B.50d.txt\", 'r', encoding=\"utf-8\") as f:\n",
        "    for line in f:\n",
        "        values = line.split()\n",
        "        word = values[0]\n",
        "        vector = np.asarray(values[1:], \"float32\")\n",
        "        embeddings_dict[word] = vector"
      ]
    },
    {
      "cell_type": "code",
      "execution_count": null,
      "id": "cd841a5f-b524-4450-a8db-49dbe79c0edf",
      "metadata": {
        "id": "cd841a5f-b524-4450-a8db-49dbe79c0edf",
        "outputId": "de090d53-ea95-4816-faf2-c0ebe8c79b1b"
      },
      "outputs": [
        {
          "data": {
            "text/plain": [
              "50"
            ]
          },
          "execution_count": 42,
          "metadata": {},
          "output_type": "execute_result"
        }
      ],
      "source": [
        "len(embeddings_dict[\"the\"])"
      ]
    },
    {
      "cell_type": "code",
      "execution_count": null,
      "id": "4fb95a00-fcbc-40d3-8777-3ad8fd2858e0",
      "metadata": {
        "id": "4fb95a00-fcbc-40d3-8777-3ad8fd2858e0"
      },
      "outputs": [],
      "source": [
        "import numpy as np\n",
        "from scipy import spatial\n",
        "import matplotlib.pyplot as plt\n",
        "from sklearn.manifold import TSNE\n",
        "\n",
        "def find_closest_embeddings(embedding):\n",
        "    return sorted(embeddings_dict.keys(), key=lambda word: spatial.distance.euclidean(embeddings_dict[word], embedding))\n"
      ]
    },
    {
      "cell_type": "code",
      "execution_count": null,
      "id": "27818c52-06a9-4eae-b205-abfdc64242a1",
      "metadata": {
        "id": "27818c52-06a9-4eae-b205-abfdc64242a1",
        "outputId": "7634b66d-cfbe-4ae1-b8e0-ed2fb41d8997"
      },
      "outputs": [
        {
          "data": {
            "text/plain": [
              "['prince',\n",
              " 'queen',\n",
              " 'uncle',\n",
              " 'ii',\n",
              " 'grandson',\n",
              " 'brother',\n",
              " 'kingdom',\n",
              " 'son',\n",
              " 'nephew']"
            ]
          },
          "execution_count": 45,
          "metadata": {},
          "output_type": "execute_result"
        }
      ],
      "source": [
        "find_closest_embeddings(embeddings_dict[\"king\"])[1:10]"
      ]
    },
    {
      "cell_type": "code",
      "execution_count": null,
      "id": "7c4b78bd-400e-4a7d-9245-3229e6adea7a",
      "metadata": {
        "id": "7c4b78bd-400e-4a7d-9245-3229e6adea7a",
        "outputId": "365dcb99-d3bc-4cd4-e412-2c41aac5506d"
      },
      "outputs": [
        {
          "data": {
            "text/plain": [
              "['queen', 'prince', 'elizabeth', 'daughter']"
            ]
          },
          "execution_count": 46,
          "metadata": {},
          "output_type": "execute_result"
        }
      ],
      "source": [
        "find_closest_embeddings(\n",
        "        embeddings_dict[\"king\"] - embeddings_dict[\"man\"] + embeddings_dict[\"woman\"]\n",
        ")[1:5]"
      ]
    },
    {
      "cell_type": "code",
      "execution_count": null,
      "id": "018832a5-b9b4-4e1a-ae82-603791a443b7",
      "metadata": {
        "id": "018832a5-b9b4-4e1a-ae82-603791a443b7",
        "outputId": "a70f43b3-6eef-4952-893b-51697425577e"
      },
      "outputs": [
        {
          "data": {
            "text/plain": [
              "['kharkiv', 'bucharest', 'ukraine', 'prague', 'lviv', 'vladivostok']"
            ]
          },
          "execution_count": 49,
          "metadata": {},
          "output_type": "execute_result"
        }
      ],
      "source": [
        "find_closest_embeddings(\n",
        "        embeddings_dict[\"ukraine\"] - embeddings_dict[\"country\"] + embeddings_dict[\"city\"]\n",
        ")[1:7]"
      ]
    },
    {
      "cell_type": "code",
      "execution_count": null,
      "id": "33b6ccfe-5a57-4766-829e-05841aeeb910",
      "metadata": {
        "id": "33b6ccfe-5a57-4766-829e-05841aeeb910",
        "outputId": "a2708817-86b4-4aa9-ec29-aa6625a654df"
      },
      "outputs": [
        {
          "data": {
            "text/plain": [
              "['munich', 'hamburg', 'berlin', 'stuttgart']"
            ]
          },
          "execution_count": 50,
          "metadata": {},
          "output_type": "execute_result"
        }
      ],
      "source": [
        "find_closest_embeddings(\n",
        "        embeddings_dict[\"germany\"] - embeddings_dict[\"country\"] + embeddings_dict[\"city\"]\n",
        ")[1:5]"
      ]
    },
    {
      "cell_type": "code",
      "execution_count": null,
      "id": "a04c21bb-3d75-43d9-8f81-cfc274917b9a",
      "metadata": {
        "id": "a04c21bb-3d75-43d9-8f81-cfc274917b9a",
        "outputId": "579f0ac0-c671-43ce-fe81-729624912fc6"
      },
      "outputs": [
        {
          "data": {
            "text/plain": [
              "['frog', 'shark', 'cat', 'scaredy']"
            ]
          },
          "execution_count": 51,
          "metadata": {},
          "output_type": "execute_result"
        }
      ],
      "source": [
        "find_closest_embeddings(\n",
        "        embeddings_dict[\"cat\"] - embeddings_dict[\"home\"] + embeddings_dict[\"wild\"]\n",
        ")[1:5]"
      ]
    },
    {
      "cell_type": "code",
      "execution_count": null,
      "id": "37bcfd54-17f1-4656-ad4f-b870708f0474",
      "metadata": {
        "id": "37bcfd54-17f1-4656-ad4f-b870708f0474",
        "outputId": "282dcf4b-797a-4686-a40e-7c54c096d547"
      },
      "outputs": [
        {
          "data": {
            "text/plain": [
              "['berlin', 'cologne', 'stuttgart', 'hamburg']"
            ]
          },
          "execution_count": 52,
          "metadata": {},
          "output_type": "execute_result"
        }
      ],
      "source": [
        "find_closest_embeddings(\n",
        "        embeddings_dict[\"kiev\"] - embeddings_dict[\"ukraine\"] + embeddings_dict[\"germany\"]\n",
        ")[1:5]"
      ]
    },
    {
      "cell_type": "code",
      "execution_count": null,
      "id": "0d8c60ee-fcd0-4878-afa1-c8c359ac12d5",
      "metadata": {
        "id": "0d8c60ee-fcd0-4878-afa1-c8c359ac12d5",
        "outputId": "527542fb-8c3d-4c9d-baa6-8f159c24c996"
      },
      "outputs": [
        {
          "data": {
            "text/plain": [
              "['fish', 'tree', 'animal', 'bird']"
            ]
          },
          "execution_count": 53,
          "metadata": {},
          "output_type": "execute_result"
        }
      ],
      "source": [
        "find_closest_embeddings(\n",
        "        embeddings_dict[\"bird\"] - embeddings_dict[\"air\"] + embeddings_dict[\"water\"]\n",
        ")[1:5]"
      ]
    },
    {
      "cell_type": "code",
      "execution_count": null,
      "id": "1a2ba7f9-3571-43b7-9c11-7375ff5d5d30",
      "metadata": {
        "id": "1a2ba7f9-3571-43b7-9c11-7375ff5d5d30",
        "outputId": "62d2b7a2-2989-4d45-c1d7-aef7324bc58b"
      },
      "outputs": [
        {
          "data": {
            "text/plain": [
              "['window', 'boxes', 'cardboard', 'kitchen']"
            ]
          },
          "execution_count": 54,
          "metadata": {},
          "output_type": "execute_result"
        }
      ],
      "source": [
        "find_closest_embeddings(\n",
        "        embeddings_dict[\"windows\"] - embeddings_dict[\"microsoft\"] + embeddings_dict[\"apple\"]\n",
        ")[1:5]"
      ]
    },
    {
      "cell_type": "code",
      "execution_count": null,
      "id": "569d1268-3d6a-4f23-98c4-48e16936b9b9",
      "metadata": {
        "id": "569d1268-3d6a-4f23-98c4-48e16936b9b9",
        "outputId": "62c846d6-e001-40e4-a0eb-c9ceaf07122e"
      },
      "outputs": [
        {
          "name": "stdout",
          "output_type": "stream",
          "text": [
            "[[ 3.93333286e-03 -5.56961149e-02 -1.51158884e-01 -8.01386535e-02\n",
            "   2.62414455e-01  2.65154570e-01 -6.12281084e-01 -1.40996873e-01\n",
            "   1.06377952e-01 -2.16462210e-01 -2.38425493e-01  7.30807930e-02\n",
            "  -1.64806664e-01  3.09114337e-01  1.57798350e-01 -6.94216192e-02\n",
            "   1.78868115e-01 -1.32255793e-01 -7.85085559e-01 -4.17248875e-01\n",
            "  -1.32401779e-01  1.65824682e-01  3.64152253e-01 -3.08002103e-02\n",
            "   2.25197762e-01 -1.31351554e+00 -2.78055459e-01  3.85458469e-01\n",
            "   2.17421904e-01 -2.93188900e-01  2.54780030e+00  1.99565783e-01\n",
            "  -2.43751451e-01  1.56158879e-01 -5.66335246e-02 -8.68625939e-02\n",
            "  -6.80229962e-02 -5.18795587e-02  4.77540046e-02 -5.02376258e-01\n",
            "  -1.74325123e-01  2.78969586e-01 -3.80953640e-01  1.35261834e-01\n",
            "   6.03322200e-02 -2.30638877e-01  2.00752199e-01 -2.52908647e-01\n",
            "   2.02769995e-01  2.08803758e-01]\n",
            " [ 2.36912698e-01  1.68052867e-01 -1.12418585e-01 -1.55812399e-02\n",
            "   5.00544429e-01 -2.33434305e-01 -4.30075705e-01 -9.83011276e-02\n",
            "   7.15592280e-02 -6.65108562e-01 -1.07579999e-01 -1.20228566e-01\n",
            "  -1.95392873e-02  3.24335277e-01 -2.52727102e-02  3.27572286e-01\n",
            "  -2.08199993e-01  5.98585531e-02 -4.92512494e-01 -3.87868583e-01\n",
            "   4.96182963e-02  4.81428858e-03 -3.26679975e-01 -3.71014290e-02\n",
            "   6.13351390e-02 -1.21027780e+00 -2.57116973e-01  7.06433177e-01\n",
            "   4.43645716e-02 -4.47328568e-01  2.54742742e+00 -3.55542868e-01\n",
            "  -2.02627569e-01 -1.22742914e-03  2.11830139e-02  2.87289947e-01\n",
            "   3.28147143e-01 -1.68568581e-01  2.99084574e-01 -2.80880719e-01\n",
            "  -8.79058614e-02  6.91275671e-02 -3.19621414e-01  1.39946863e-01\n",
            "  -1.69257715e-01  1.17459998e-01  4.52997535e-01 -6.85277164e-01\n",
            "   8.53685010e-03 -4.34977114e-01]\n",
            " [ 1.80351421e-01 -1.57721415e-01 -4.10581440e-01 -1.73037127e-01\n",
            "   2.71098882e-01 -1.47605622e-02 -5.73464274e-01  5.16544320e-02\n",
            "  -1.10442467e-01 -3.63351405e-01 -1.76354617e-01 -1.04131445e-01\n",
            "  -1.32530004e-01  1.53000563e-01  3.57114464e-01 -1.66694015e-01\n",
            "  -2.57628590e-01  1.47102833e-01 -7.80875742e-01 -3.78681421e-01\n",
            "   7.18268603e-02  1.18127160e-01  2.79368579e-01  1.03797995e-01\n",
            "   3.12695324e-01 -1.47314286e+00 -5.17289996e-01  3.59631568e-01\n",
            "  -2.63552833e-02 -5.81236541e-01  2.38654852e+00  1.84547141e-01\n",
            "  -2.14964867e-01 -6.50027618e-02 -2.47154668e-01 -5.07351719e-02\n",
            "   2.10186988e-01 -2.36127138e-01 -1.50210196e-02  6.23562820e-02\n",
            "  -2.21840858e-01  1.87171832e-01 -5.31293750e-01  1.35443717e-01\n",
            "   1.84008583e-01  5.44654243e-02  3.99140269e-03 -4.28583711e-01\n",
            "  -2.56148994e-01 -1.31904274e-01]\n",
            " [ 6.43719316e-01  1.89265326e-01 -5.41217148e-01 -3.80465001e-01\n",
            "   5.97667694e-01  4.87293333e-01 -7.03743398e-01 -5.50733805e-01\n",
            "   2.71543354e-01 -3.12434018e-01  9.29925069e-02 -1.44395046e-02\n",
            "   6.34125054e-01  2.04716682e-01  1.85876667e-01  6.18659891e-02\n",
            "   3.17485839e-01 -4.53605056e-02 -7.21236706e-01 -4.15625662e-01\n",
            "  -2.68190175e-01 -1.20615005e-01  1.88975170e-01 -1.06648348e-01\n",
            "   2.19862506e-01 -8.82008314e-01 -3.35828334e-01  2.65553325e-01\n",
            "  -4.40767147e-02 -4.72534984e-01  2.45600510e+00  2.98333317e-01\n",
            "  -1.17135048e-02  6.59450144e-02 -2.28664681e-01  1.70067344e-02\n",
            "  -1.31604984e-01 -2.21960042e-02 -2.25332635e-03  6.08766126e-03\n",
            "  -3.01526666e-01  8.57399926e-02  4.82995100e-02  2.96744019e-01\n",
            "   3.44345182e-01 -7.52132758e-03 -1.08648337e-01 -4.57882017e-01\n",
            "  -2.02555671e-01 -3.38949472e-01]]\n"
          ]
        }
      ],
      "source": [
        "# Sample corpus\n",
        "corpus = [\n",
        "    \"The quick brown fox jumps over the lazy dog\",\n",
        "    \"The cat sits on the window sill\",\n",
        "    \"The dog barks loudly in the night\",\n",
        "    \"Birds of a feather flock together\"\n",
        "]\n",
        "\n",
        "embeddings = np.zeros((len(corpus), 50))\n",
        "\n",
        "for i in range(len(corpus)):\n",
        "    # Tokenize the text\n",
        "    tokens = word_tokenize(corpus[i].lower())\n",
        "\n",
        "    # Encode the text\n",
        "    word_vectors = [embeddings_dict[word] for word in tokens if word in embeddings_dict]\n",
        "\n",
        "    # Average the word vectors to get the text encoding\n",
        "    if word_vectors:\n",
        "        encoded_text = np.mean(word_vectors, axis=0)\n",
        "    else:\n",
        "        encoded_text = np.zeros(model.vector_size)  # Default encoding for empty text\n",
        "    embeddings[i] = encoded_text\n",
        "\n",
        "print(embeddings)"
      ]
    },
    {
      "cell_type": "code",
      "execution_count": null,
      "id": "a831bef8-22e8-457f-a890-b7bce412a1a7",
      "metadata": {
        "id": "a831bef8-22e8-457f-a890-b7bce412a1a7",
        "outputId": "563f4ef3-3e2b-4727-efa1-d1cfade45aa1"
      },
      "outputs": [
        {
          "name": "stdout",
          "output_type": "stream",
          "text": [
            "Text: The quick brown fox jumps over the lazy dog, \n",
            "The cat sits on the window sill\n",
            "Cosine Similarity: 0.85.\n",
            "\n",
            "Text: The quick brown fox jumps over the lazy dog, \n",
            "The dog barks loudly in the night\n",
            "Cosine Similarity: 0.91.\n",
            "\n",
            "Text: The quick brown fox jumps over the lazy dog, \n",
            "Birds of a feather flock together\n",
            "Cosine Similarity: 0.84.\n",
            "\n",
            "Text: The cat sits on the window sill, \n",
            "The dog barks loudly in the night\n",
            "Cosine Similarity: 0.87.\n",
            "\n",
            "Text: The cat sits on the window sill, \n",
            "Birds of a feather flock together\n",
            "Cosine Similarity: 0.79.\n",
            "\n",
            "Text: The dog barks loudly in the night, \n",
            "Birds of a feather flock together\n",
            "Cosine Similarity: 0.84.\n",
            "\n"
          ]
        }
      ],
      "source": [
        "cos_sim = cosine_similarity(embeddings)\n",
        "for i in range(len(corpus)):\n",
        "    for j in range(i + 1, len(corpus)):\n",
        "        print(f'Text: {corpus[i]}, \\n{corpus[j]}\\nCosine Similarity: {cos_sim[i, j]:.2f}.\\n')\n"
      ]
    },
    {
      "cell_type": "code",
      "execution_count": null,
      "id": "a85e0dbb-bcca-41be-86b8-3b8b5a6e6dcb",
      "metadata": {
        "id": "a85e0dbb-bcca-41be-86b8-3b8b5a6e6dcb",
        "outputId": "f62e4f2e-9291-49d9-b2a7-5210336e9ec8"
      },
      "outputs": [
        {
          "data": {
            "image/png": "[encoded data removed]",
            "text/plain": [
              "<Figure size 1500x1000 with 6 Axes>"
            ]
          },
          "metadata": {},
          "output_type": "display_data"
        }
      ],
      "source": [
        "# Perform PCA to reduce dimensions to 2 for visualization\n",
        "pca = PCA(n_components=2)\n",
        "matrix_pca = pca.fit_transform(embeddings)\n",
        "# Compute cosine similarity\n",
        "cos_sim = cosine_similarity(matrix_pca)\n",
        "\n",
        "\n",
        "# Plot one graph per pair of text\n",
        "num_pairs = len(corpus) * (len(corpus) - 1) // 2\n",
        "plt.figure(figsize=(15, 10))\n",
        "subplot_index = 1\n",
        "for i in range(len(corpus)):\n",
        "    for j in range(i + 1, len(corpus)):\n",
        "        plt.subplot(2, num_pairs // 2, subplot_index)\n",
        "        plt.scatter(matrix_pca[:, 0], matrix_pca[:, 1])\n",
        "        plt.plot([0, matrix_pca[i, 0]],\n",
        "                 [0, matrix_pca[i, 1]],\n",
        "                 linestyle='-', color='blue', alpha=0.5)\n",
        "        plt.plot([0, matrix_pca[j, 0]],\n",
        "                 [0, matrix_pca[j, 1]],\n",
        "                 linestyle='-', color='red', alpha=0.5)\n",
        "        plt.xlabel('Principal Component 1')\n",
        "        plt.ylabel('Principal Component 2')\n",
        "        plt.title(f'Cosine Similarity: {cos_sim[i, j]:.2f}.\\nText: {corpus[i]}, \\n{corpus[j]}')\n",
        "        plt.xticks(np.arange(-0.5, 1.5, 0.5))\n",
        "        plt.yticks(np.arange(-0.5, 1.5, 0.5))\n",
        "        subplot_index += 1\n",
        "plt.tight_layout()\n",
        "plt.show()"
      ]
    },
    {
      "cell_type": "code",
      "execution_count": null,
      "id": "dc8467a5-ef7d-4c07-9cf9-c2dddaef851a",
      "metadata": {
        "id": "dc8467a5-ef7d-4c07-9cf9-c2dddaef851a"
      },
      "outputs": [],
      "source": [
        "# Training Glove Embeddings\n",
        "# Source: https://colab.research.google.com/drive/1IxAnnFSqk3mL3A8n1PKYWdEzDSd2Y9rF?usp=sharing#scrollTo=DpONsaktz-8w\n",
        "# https://medium.com/nerd-for-tech/implementing-glove-from-scratch-word-embedding-for-transformers-95503138d65\n",
        "#\n",
        "import numpy as np\n",
        "from collections import defaultdict\n",
        "\n",
        "corpus = [\n",
        "    \"I love chocolate\",\n",
        "    \"I love ice cream\",\n",
        "    \"I enjoy playing tennis\"\n",
        "]\n",
        "# Initialize vocabulary and co-occurrence matrix\n",
        "vocab = set()\n",
        "co_occurrence = defaultdict(float)\n",
        "\n",
        "window_size = 4\n",
        "# Iterate through the corpus to build vocabulary and co-occurrence matrix\n",
        "for sentence in corpus:\n",
        "    words = sentence.split()\n",
        "    for i in range(len(words)):\n",
        "        word = words[i]\n",
        "        vocab.add(word)\n",
        "        for j in range(max(0, i - window_size), min(i + window_size + 1, len(words))):\n",
        "            if i != j:\n",
        "                co_occurrence[(word, words[j])] += 1.0 / abs(i - j)"
      ]
    },
    {
      "cell_type": "code",
      "execution_count": null,
      "id": "d7df9ca0-06d9-4ad3-98d8-b883abeff83e",
      "metadata": {
        "id": "d7df9ca0-06d9-4ad3-98d8-b883abeff83e"
      },
      "outputs": [],
      "source": [
        "co_occurrence"
      ]
    },
    {
      "cell_type": "code",
      "execution_count": null,
      "id": "23c9c9f9-5021-4413-82c0-6e062f6b4488",
      "metadata": {
        "id": "23c9c9f9-5021-4413-82c0-6e062f6b4488"
      },
      "outputs": [],
      "source": [
        "embedding_dim = 10\n",
        "word_embeddings = {\n",
        "    word: np.random.randn(embedding_dim) for word in vocab\n",
        "}\n",
        "\n",
        "learning_rate = 0.1\n",
        "num_epochs = 100\n",
        "\n",
        "# Gradient descent to update word embeddings\n",
        "for epoch in range(num_epochs):\n",
        "    total_loss = 0\n",
        "    for (word_i, word_j), observed_count in co_occurrence.items():\n",
        "        # Calculate dot product of word embeddings\n",
        "        dot_product = np.dot(word_embeddings[word_i], word_embeddings[word_j])\n",
        "\n",
        "        # Calculate difference and update\n",
        "        diff = dot_product - np.log(observed_count)\n",
        "        total_loss += 0.5 * diff**2\n",
        "        gradient = diff * word_embeddings[word_j]\n",
        "        word_embeddings[word_i] -= learning_rate * gradient\n",
        "\n",
        "    print(f\"Epoch: {epoch+1}, Loss: {total_loss}\")"
      ]
    },
    {
      "cell_type": "code",
      "execution_count": null,
      "id": "dff9c0b5-df84-4336-8fe0-a99fa678128e",
      "metadata": {
        "id": "dff9c0b5-df84-4336-8fe0-a99fa678128e"
      },
      "outputs": [],
      "source": []
    }
  ],
  "metadata": {
    "kernelspec": {
      "display_name": "Python 3 (ipykernel)",
      "language": "python",
      "name": "python3"
    },
    "language_info": {
      "codemirror_mode": {
        "name": "ipython",
        "version": 3
      },
      "file_extension": ".py",
      "mimetype": "text/x-python",
      "name": "python",
      "nbconvert_exporter": "python",
      "pygments_lexer": "ipython3",
      "version": "3.11.6"
    },
    "colab": {
      "provenance": [],
      "include_colab_link": true
    }
  },
  "nbformat": 4,
  "nbformat_minor": 5
}