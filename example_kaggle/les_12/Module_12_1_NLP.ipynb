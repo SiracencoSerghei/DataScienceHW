{
 "cells": [
  {
   "cell_type": "markdown",
   "id": "6e99d2d2-015d-4305-a487-7a0d0b36a263",
   "metadata": {},
   "source": [
    "# Introduction to NLP"
   ]
  },
  {
   "cell_type": "markdown",
   "id": "a4967310-0a20-4ac9-a4ea-72b84ab84237",
   "metadata": {},
   "source": [
    "Main building blocks of an NLP application:\n",
    "- tokenization\n",
    "- word embeddings\n",
    "- sequence modeling\n",
    "- common applications"
   ]
  },
  {
   "cell_type": "markdown",
   "id": "1d401f27-7701-44f8-b6bb-0ff5771ee766",
   "metadata": {},
   "source": [
    "### Lemmatization\n",
    " Lemmatization reduces words to their base or dictionary form (i.e., lemma). "
   ]
  },
  {
   "cell_type": "code",
   "execution_count": 1,
   "id": "a7869a56",
   "metadata": {},
   "outputs": [],
   "source": [
    "import nltk\n",
    "from nltk.stem import WordNetLemmatizer"
   ]
  },
  {
   "cell_type": "code",
   "execution_count": 2,
   "id": "5a6d6f60-7b99-46bd-a614-cc3b97261bf1",
   "metadata": {},
   "outputs": [
    {
     "name": "stderr",
     "output_type": "stream",
     "text": [
      "[nltk_data] Downloading package wordnet to /home/sergio/nltk_data...\n",
      "[nltk_data]   Package wordnet is already up-to-date!\n",
      "[nltk_data] Downloading package omw-1.4 to /home/sergio/nltk_data...\n",
      "[nltk_data]   Package omw-1.4 is already up-to-date!\n",
      "[nltk_data] Downloading package punkt to /home/sergio/nltk_data...\n",
      "[nltk_data]   Package punkt is already up-to-date!\n",
      "[nltk_data] Downloading package punkt_tab to /home/sergio/nltk_data...\n",
      "[nltk_data]   Package punkt_tab is already up-to-date!\n"
     ]
    },
    {
     "name": "stdout",
     "output_type": "stream",
     "text": [
      "Original words: ['Running', 'wild', 'cats', 'run', 'in', 'the', 'forest', '.', 'They', 'ran', 'away', 'when', 'they', 'saw', 'a', 'pack', 'of', 'wolves', '.']\n",
      "Lemmatized words: ['Running', 'wild', 'cat', 'run', 'in', 'the', 'forest', '.', 'They', 'ran', 'away', 'when', 'they', 'saw', 'a', 'pack', 'of', 'wolf', '.']\n"
     ]
    }
   ],
   "source": [
    "# Завантаження ресурсів (один раз)\n",
    "nltk.download(\"wordnet\")  # https://www.nltk.org/api/nltk.corpus.reader.wordnet.html\n",
    "nltk.download(\"omw-1.4\")\n",
    "nltk.download(\"punkt\")\n",
    "nltk.download(\"punkt_tab\")\n",
    "\n",
    "# Текст\n",
    "text = (\n",
    "    \"Running wild cats run in the forest. They ran away when they saw a pack of wolves.\"\n",
    ")\n",
    "\n",
    "# Токенізація\n",
    "words = nltk.word_tokenize(text)\n",
    "\n",
    "# Ініціалізація лематизатора\n",
    "lemmatizer = WordNetLemmatizer()\n",
    "\n",
    "# Лематизація\n",
    "lemmatized_words = [lemmatizer.lemmatize(word) for word in words]\n",
    "\n",
    "print(\"Original words:\", words)\n",
    "print(\"Lemmatized words:\", lemmatized_words)"
   ]
  },
  {
   "cell_type": "markdown",
   "id": "a5057eaa-47d4-4774-8a84-0728c85e9416",
   "metadata": {},
   "source": [
    "### Stemming\n",
    "Stemming is a text processing technique that reduces words to their base or root form, called a stem. \n",
    "Stemming removes suffixes and prefixes from words to achieve this normalization."
   ]
  },
  {
   "cell_type": "code",
   "execution_count": 3,
   "id": "363cc498-f594-4b5c-a687-ec6ff22da1bb",
   "metadata": {},
   "outputs": [
    {
     "name": "stdout",
     "output_type": "stream",
     "text": [
      "Original words: ['Running', 'wild', 'cats', 'run', 'in', 'the', 'forest', '.', 'They', 'ran', 'away', 'when', 'they', 'saw', 'a', 'pack', 'of', 'wolves', '.']\n",
      "Stemmed words: ['run', 'wild', 'cat', 'run', 'in', 'the', 'forest', '.', 'they', 'ran', 'away', 'when', 'they', 'saw', 'a', 'pack', 'of', 'wolv', '.']\n"
     ]
    }
   ],
   "source": [
    "import nltk\n",
    "from nltk.stem import SnowballStemmer\n",
    "\n",
    "# Sample text\n",
    "text = \"Running wild cats run in the forest. They ran away when they saw a pack of wolves.\"\n",
    "\n",
    "# Tokenize the text into words\n",
    "words = nltk.word_tokenize(text)\n",
    "\n",
    "# Initialize PorterStemmer\n",
    "stemmer = SnowballStemmer('english')\n",
    "\n",
    "# Stem each word\n",
    "stemmed_words = [stemmer.stem(word) for word in words]\n",
    "\n",
    "print(\"Original words:\", words)\n",
    "print(\"Stemmed words:\", stemmed_words)"
   ]
  },
  {
   "cell_type": "markdown",
   "id": "234187dc-9920-4507-8336-7cba7aec6a6f",
   "metadata": {},
   "source": [
    "## Tokenization\n",
    "\n",
    "Splitting of texts into single unique units (tokens)."
   ]
  },
  {
   "cell_type": "code",
   "execution_count": 4,
   "id": "bae6ab29-41b3-49ea-9bfb-c0658efc68e7",
   "metadata": {},
   "outputs": [
    {
     "name": "stdout",
     "output_type": "stream",
     "text": [
      "Character-level tokenization: ['T', 'o', 'k', 'e', 'n', 'i', 'z', 'a', 't', 'i', 'o', 'n', ' ', 'i', 's', ' ', 'a', 'n', ' ', 'i', 'm', 'p', 'o', 'r', 't', 'a', 'n', 't', ' ', 's', 't', 'e', 'p', ' ', 'i', 'n', ' ', 'n', 'a', 't', 'u', 'r', 'a', 'l', ' ', 'l', 'a', 'n', 'g', 'u', 'a', 'g', 'e', ' ', 'p', 'r', 'o', 'c', 'e', 's', 's', 'i', 'n', 'g', '.']\n",
      "Word level tokenization: ['Tokenization', 'is', 'an', 'important', 'step', 'in', 'natural', 'language', 'processing', '.']\n",
      "N-gram level tokenization (2-grams): [('Tokenization', 'is'), ('is', 'an'), ('an', 'important'), ('important', 'step'), ('step', 'in'), ('in', 'natural'), ('natural', 'language'), ('language', 'processing'), ('processing', '.')]\n"
     ]
    },
    {
     "name": "stderr",
     "output_type": "stream",
     "text": [
      "[nltk_data] Downloading package punkt to /home/sergio/nltk_data...\n",
      "[nltk_data]   Package punkt is already up-to-date!\n"
     ]
    }
   ],
   "source": [
    "import nltk\n",
    "from nltk.tokenize import word_tokenize\n",
    "from nltk.tokenize import WordPunctTokenizer\n",
    "from nltk.util import ngrams\n",
    "nltk.download('punkt')  # https://www.nltk.org/_modules/nltk/tokenize/punkt.html\n",
    "\n",
    "# Sample text\n",
    "text = \"Tokenization is an important step in natural language processing.\"\n",
    "\n",
    "# Character-level tokenization\n",
    "char_tokens = list(text)\n",
    "print(\"Character-level tokenization:\", char_tokens)\n",
    "\n",
    "# Word level tokenization\n",
    "word_tokens = word_tokenize(text)\n",
    "print(\"Word level tokenization:\", word_tokens)\n",
    "\n",
    "# N-gram level tokenization\n",
    "n = 2\n",
    "n_grams = list(ngrams(word_tokenize(text), n))\n",
    "print(\"N-gram level tokenization (2-grams):\", n_grams)\n"
   ]
  },
  {
   "cell_type": "markdown",
   "id": "b45cd957-67ad-4485-b5af-ec9f44057694",
   "metadata": {},
   "source": [
    "ByteLevelBPE as a Trained Tokenizer:\n",
    "https://towardsdatascience.com/byte-pair-encoding-subword-based-tokenization-algorithm-77828a70bee0"
   ]
  },
  {
   "cell_type": "code",
   "execution_count": 5,
   "id": "47f62e32-f98c-4adf-8ab8-4ffb48d9a21a",
   "metadata": {},
   "outputs": [
    {
     "name": "stdout",
     "output_type": "stream",
     "text": [
      "\n",
      "\n",
      "\n",
      "Sub-word level tokenization (Byte-pair encoding): ['Tokenization', 'Ġis', 'Ġan', 'Ġimportant', 'Ġstep', 'Ġin', 'Ġ', 'n', 'at', 'u', 'r', 'a', 'l', 'Ġ', 'l', 'an', 'g', 'u', 'a', 'g', 'e', 'Ġprocess', 'ing', '.', 'Ċ', 'Tokenization', 'Ġis', 'Ġan', 'Ġimportant', 'Ġstep', 'Ġin', 'Ġ', 'N', 'L', 'P', '.', 'Ċ', 'Tokenization', 'Ġis', 'Ġan', 'Ġimportant', 'Ġprocess', '.', 'Ċ', 'P', 'rocess', 'Ġ', 'o', 'f', 'Ġ', 't', 'okeniz', 'ing', 'Ġ', 'te', 'x', 't', 'Ġs', 'e', 'q', 'u', 'en', 'ces', 'Ġis', 'Ġimportant', '.']\n"
     ]
    }
   ],
   "source": [
    "# Trained tokenizer\n",
    "# BPE ensures that the most common words are represented in the vocabulary as a single token while the rare words are broken down \n",
    "# into two or more subword tokens and this is in agreement with what a subword-based tokenization algorithm does.\n",
    "\n",
    "from tokenizers import ByteLevelBPETokenizer\n",
    "\n",
    "# Sample text\n",
    "text = \"\"\"Tokenization is an important step in natural language processing.\n",
    "Tokenization is an important step in NLP.\n",
    "Tokenization is an important process.\n",
    "Process of tokenizing text sequences is important.\"\"\"\n",
    "\n",
    "# Initialize ByteLevelBPETokenizer, used in GPT-2\n",
    "# https://towardsdatascience.com/byte-pair-encoding-subword-based-tokenization-algorithm-77828a70bee0\n",
    "tokenizer = ByteLevelBPETokenizer()\n",
    "\n",
    "# Train tokenizer on text\n",
    "tokenizer.train_from_iterator([text])\n",
    "\n",
    "# Sub-word level tokenization (Byte-pair encoding)\n",
    "subword_tokens = tokenizer.encode(text).tokens\n",
    "print(\"Sub-word level tokenization (Byte-pair encoding):\", subword_tokens)\n"
   ]
  },
  {
   "cell_type": "code",
   "execution_count": 6,
   "id": "fb694052-8b7c-4b15-b4e1-11b42e4c9dde",
   "metadata": {},
   "outputs": [
    {
     "data": {
      "text/plain": [
       "292"
      ]
     },
     "execution_count": 6,
     "metadata": {},
     "output_type": "execute_result"
    }
   ],
   "source": [
    "len(tokenizer.get_vocab())"
   ]
  },
  {
   "cell_type": "code",
   "execution_count": 7,
   "id": "2f295eee-0894-467e-8b52-cfe410905795",
   "metadata": {},
   "outputs": [
    {
     "data": {
      "text/plain": [
       "{'æ': 162,\n",
       " 'Ě': 214,\n",
       " 'å': 161,\n",
       " 'ken': 262,\n",
       " 'M': 44,\n",
       " 'S': 50,\n",
       " '±': 109,\n",
       " 'Ò': 142,\n",
       " 'Â': 126,\n",
       " 'Ï': 139,\n",
       " '/': 14,\n",
       " 'Ķ': 242,\n",
       " 'ß': 155,\n",
       " 'tep': 289,\n",
       " 'Ć': 194,\n",
       " 'Tokenizatio': 282,\n",
       " 'z': 89,\n",
       " 'en': 258,\n",
       " '`': 63,\n",
       " ';': 26,\n",
       " 'L': 43,\n",
       " 'Ŀ': 251,\n",
       " '=': 28,\n",
       " 'atio': 281,\n",
       " '½': 121,\n",
       " 'ģ': 223,\n",
       " '¥': 98,\n",
       " 'ĭ': 233,\n",
       " 't': 83,\n",
       " ',': 11,\n",
       " '^': 61,\n",
       " 'ĳ': 239,\n",
       " '7': 22,\n",
       " '¢': 95,\n",
       " 'Ġimp': 268,\n",
       " '¼': 120,\n",
       " 'D': 35,\n",
       " 'è': 164,\n",
       " 'ĸ': 244,\n",
       " 'Ń': 255,\n",
       " 'u': 84,\n",
       " 'ć': 195,\n",
       " '·': 115,\n",
       " 'w': 86,\n",
       " '_': 62,\n",
       " '´': 112,\n",
       " 'û': 183,\n",
       " 'Ġs': 279,\n",
       " 'Ô': 144,\n",
       " 'Ĝ': 216,\n",
       " 'Ú': 150,\n",
       " 'ø': 180,\n",
       " 'ä': 160,\n",
       " ':': 25,\n",
       " 'Į': 234,\n",
       " 'q': 80,\n",
       " 'Q': 48,\n",
       " 'Ë': 135,\n",
       " 'Å': 129,\n",
       " 'ĥ': 225,\n",
       " 'Ľ': 249,\n",
       " '<': 27,\n",
       " 'ª': 103,\n",
       " 'process': 286,\n",
       " 'ö': 178,\n",
       " 'ċ': 199,\n",
       " 'v': 85,\n",
       " 'X': 55,\n",
       " '.': 13,\n",
       " '÷': 179,\n",
       " 'Ĩ': 228,\n",
       " 'Ĭ': 232,\n",
       " 'Ė': 210,\n",
       " 'Ą': 192,\n",
       " 'ą': 193,\n",
       " 'oken': 265,\n",
       " 'ľ': 250,\n",
       " 'or': 264,\n",
       " '4': 19,\n",
       " 'l': 75,\n",
       " 'O': 46,\n",
       " 'ê': 166,\n",
       " 'Ī': 230,\n",
       " '£': 96,\n",
       " '9': 24,\n",
       " 'É': 133,\n",
       " 'Ļ': 247,\n",
       " 'ó': 175,\n",
       " 'Ħ': 226,\n",
       " 'İ': 236,\n",
       " 'ù': 181,\n",
       " 'ŀ': 252,\n",
       " 'G': 38,\n",
       " 'Ġstep': 290,\n",
       " 'K': 42,\n",
       " 'ĩ': 229,\n",
       " 'Ó': 143,\n",
       " 'Ä': 128,\n",
       " '¡': 94,\n",
       " 'k': 74,\n",
       " 'Ġ': 220,\n",
       " 'at': 259,\n",
       " 'o': 78,\n",
       " '|': 91,\n",
       " 'F': 37,\n",
       " 'Ē': 206,\n",
       " 'j': 73,\n",
       " 'E': 36,\n",
       " 'ĵ': 241,\n",
       " 'c': 66,\n",
       " 'µ': 113,\n",
       " '0': 15,\n",
       " 'ô': 176,\n",
       " '+': 10,\n",
       " 'ü': 184,\n",
       " 'ī': 231,\n",
       " 'Ğ': 218,\n",
       " 'Ġin': 288,\n",
       " 'ĕ': 209,\n",
       " 'B': 33,\n",
       " 'g': 70,\n",
       " 'Ġis': 267,\n",
       " 'y': 88,\n",
       " 'iz': 261,\n",
       " 'ę': 213,\n",
       " 'A': 32,\n",
       " '«': 104,\n",
       " '¨': 101,\n",
       " 'ā': 189,\n",
       " 'Y': 56,\n",
       " 'd': 67,\n",
       " '1': 16,\n",
       " '(': 7,\n",
       " 'm': 76,\n",
       " '&': 5,\n",
       " 'Ĥ': 224,\n",
       " 'Õ': 145,\n",
       " 'io': 275,\n",
       " '©': 102,\n",
       " '\"': 1,\n",
       " 'í': 169,\n",
       " '¬': 105,\n",
       " '¶': 114,\n",
       " 'Ġimportan': 272,\n",
       " 'ġ': 221,\n",
       " 'ò': 174,\n",
       " 'È': 132,\n",
       " '2': 17,\n",
       " 'Û': 151,\n",
       " 'ł': 254,\n",
       " '6': 21,\n",
       " 'ď': 203,\n",
       " 'ķ': 243,\n",
       " 'an': 257,\n",
       " 'Ġprocess': 287,\n",
       " 'mp': 263,\n",
       " 'Ĳ': 238,\n",
       " 'đ': 205,\n",
       " 'ï': 171,\n",
       " 'Ď': 202,\n",
       " 'roces': 277,\n",
       " 'h': 71,\n",
       " '¿': 123,\n",
       " 'ortan': 270,\n",
       " 'ë': 167,\n",
       " 'Ĕ': 208,\n",
       " 'n': 77,\n",
       " ')': 8,\n",
       " 'Î': 138,\n",
       " 'ú': 182,\n",
       " '>': 29,\n",
       " '$': 3,\n",
       " 'i': 72,\n",
       " 'Ġimportant': 273,\n",
       " 'I': 40,\n",
       " 's': 82,\n",
       " '¹': 117,\n",
       " '¯': 107,\n",
       " 'Ý': 153,\n",
       " '!': 0,\n",
       " 'Ü': 152,\n",
       " 'à': 156,\n",
       " 'Ì': 136,\n",
       " 'ħ': 227,\n",
       " 'T': 51,\n",
       " 'Ę': 212,\n",
       " 'N': 45,\n",
       " 'p': 79,\n",
       " 'ã': 159,\n",
       " 'ç': 163,\n",
       " 'ñ': 173,\n",
       " 'H': 39,\n",
       " 'Ø': 148,\n",
       " '5': 20,\n",
       " 'f': 69,\n",
       " '¾': 122,\n",
       " 'č': 201,\n",
       " 'Ł': 253,\n",
       " '*': 9,\n",
       " 'Ç': 131,\n",
       " 'ı': 237,\n",
       " 'P': 47,\n",
       " 'Ĉ': 196,\n",
       " 'þ': 186,\n",
       " '8': 23,\n",
       " '{': 90,\n",
       " 'ğ': 219,\n",
       " 'in': 285,\n",
       " 'okeniz': 271,\n",
       " 'V': 53,\n",
       " 'î': 170,\n",
       " 'Ġi': 256,\n",
       " '»': 119,\n",
       " 'Æ': 130,\n",
       " '®': 106,\n",
       " 'Tokeniz': 274,\n",
       " 'Ĵ': 240,\n",
       " '°': 108,\n",
       " '¤': 97,\n",
       " '~': 93,\n",
       " 'ĺ': 246,\n",
       " '%': 4,\n",
       " 'À': 124,\n",
       " 'º': 118,\n",
       " 'Í': 137,\n",
       " 'Ċ': 198,\n",
       " '§': 100,\n",
       " 'ce': 260,\n",
       " 'ē': 207,\n",
       " 'Č': 200,\n",
       " 'Ģ': 222,\n",
       " 'Ă': 190,\n",
       " 'U': 52,\n",
       " '³': 111,\n",
       " 'ð': 172,\n",
       " 'oces': 276,\n",
       " 'x': 87,\n",
       " '×': 147,\n",
       " 'Z': 57,\n",
       " 'a': 64,\n",
       " 'Ĺ': 245,\n",
       " 'ė': 211,\n",
       " '²': 110,\n",
       " 'ļ': 248,\n",
       " 'Ā': 188,\n",
       " 'Ð': 140,\n",
       " 'e': 68,\n",
       " 'b': 65,\n",
       " 'C': 34,\n",
       " 'Á': 125,\n",
       " 'ě': 215,\n",
       " 'rocess': 283,\n",
       " 'į': 235,\n",
       " 'J': 41,\n",
       " 'ì': 168,\n",
       " 'tan': 266,\n",
       " 'R': 49,\n",
       " 'Đ': 204,\n",
       " 'Ê': 134,\n",
       " 'ces': 269,\n",
       " 'é': 165,\n",
       " '-': 12,\n",
       " 'Ñ': 141,\n",
       " '[': 58,\n",
       " 'ă': 191,\n",
       " '¸': 116,\n",
       " 'Tokenization': 284,\n",
       " \"'\": 6,\n",
       " '\\\\': 59,\n",
       " 'õ': 177,\n",
       " '¦': 99,\n",
       " 'á': 157,\n",
       " 'ĉ': 197,\n",
       " 'Ö': 146,\n",
       " 'ý': 185,\n",
       " 'Þ': 154,\n",
       " 'â': 158,\n",
       " 'ÿ': 187,\n",
       " 'Ù': 149,\n",
       " 'W': 54,\n",
       " 'r': 81,\n",
       " '3': 18,\n",
       " ']': 60,\n",
       " '@': 31,\n",
       " 'ĝ': 217,\n",
       " 'ing': 291,\n",
       " '#': 2,\n",
       " 'Ã': 127,\n",
       " '}': 92,\n",
       " '?': 30,\n",
       " 'Ġan': 280,\n",
       " 'te': 278}"
      ]
     },
     "execution_count": 7,
     "metadata": {},
     "output_type": "execute_result"
    }
   ],
   "source": [
    "tokenizer.get_vocab()"
   ]
  },
  {
   "cell_type": "code",
   "execution_count": 8,
   "id": "8a3209d0-7ebb-47b4-b927-e68f9de6a9dd",
   "metadata": {},
   "outputs": [
    {
     "data": {
      "text/plain": [
       "'ce'"
      ]
     },
     "execution_count": 8,
     "metadata": {},
     "output_type": "execute_result"
    }
   ],
   "source": [
    "tokenizer.id_to_token(260)"
   ]
  },
  {
   "cell_type": "markdown",
   "id": "e39e25dd-7f0e-4356-94b3-8854e8cfddf0",
   "metadata": {},
   "source": [
    "Training your own tokenizer: https://huggingface.co/learn/nlp-course/en/chapter6/8"
   ]
  },
  {
   "cell_type": "code",
   "execution_count": 9,
   "id": "c5aaed23-2116-4bd3-94a0-98a006f18a57",
   "metadata": {},
   "outputs": [
    {
     "name": "stdout",
     "output_type": "stream",
     "text": [
      "hello how are u?\n"
     ]
    }
   ],
   "source": [
    "# Training from scratch\n",
    "## WordPiece Tokenizer: https://huggingface.co/learn/nlp-course/en/chapter6/6\n",
    "\n",
    "from tokenizers import (\n",
    "    decoders,\n",
    "    models,\n",
    "    normalizers,\n",
    "    pre_tokenizers,\n",
    "    processors,\n",
    "    trainers,\n",
    "    Tokenizer,\n",
    ")\n",
    "from tokenizers.pre_tokenizers import Whitespace\n",
    "\n",
    "\n",
    "tokenizer = Tokenizer(models.WordPiece(unk_token=\"[UNK]\"))\n",
    "\n",
    "tokenizer.normalizer = normalizers.Sequence(\n",
    "    [normalizers.NFD(), normalizers.Lowercase(), normalizers.StripAccents()]\n",
    ")\n",
    "\n",
    "print(tokenizer.normalizer.normalize_str(\"Héllò hôw are ü?\"))\n"
   ]
  },
  {
   "cell_type": "code",
   "execution_count": 10,
   "id": "18dd3015-b254-4202-a9af-995b389a84df",
   "metadata": {},
   "outputs": [
    {
     "data": {
      "text/plain": [
       "[('Let', (0, 3)),\n",
       " (\"'\", (3, 4)),\n",
       " ('s', (4, 5)),\n",
       " ('test', (6, 10)),\n",
       " ('my', (11, 13)),\n",
       " ('pre', (14, 17)),\n",
       " ('-', (17, 18)),\n",
       " ('tokenizer', (18, 27)),\n",
       " ('.', (27, 28))]"
      ]
     },
     "execution_count": 10,
     "metadata": {},
     "output_type": "execute_result"
    }
   ],
   "source": [
    "tokenizer.pre_tokenizer = pre_tokenizers.Whitespace()\n",
    "tokenizer.pre_tokenizer.pre_tokenize_str(\"Let's test my pre-tokenizer.\")"
   ]
  },
  {
   "cell_type": "code",
   "execution_count": 11,
   "id": "c438f38d-dfcb-4282-8715-c4d27d31470b",
   "metadata": {},
   "outputs": [
    {
     "name": "stdout",
     "output_type": "stream",
     "text": [
      "\n",
      "\n",
      "\n"
     ]
    }
   ],
   "source": [
    "corpus = [\n",
    "    \"The quick brown fox jumps over the lazy dog\",\n",
    "    \"The cat sits on the window sill\",\n",
    "    \"The dog barks loudly in the night\",\n",
    "    \"Birds of a feather flock together\",\n",
    "    \"Tokenization is an important step in natural language processing.\",\n",
    "    \"Tokenization is an important step in NLP.\",\n",
    "    \"Tokenization is an important process.\",\n",
    "    \"Process of tokenizing text sequences is important.\"\n",
    "]\n",
    "special_tokens = [\"[UNK]\", \"[PAD]\", \"[CLS]\", \"[SEP]\", \"[MASK]\"]  # BERT\n",
    "trainer = trainers.WordPieceTrainer(vocab_size=1000, special_tokens=special_tokens)\n",
    "tokenizer.train_from_iterator(corpus, trainer=trainer)\n",
    "tokenizer.decoder = decoders.WordPiece(prefix=\"##\")\n",
    "tokenizer.save(\"./tokenizer-trained.json\")\n",
    "#tokenizer = Tokenizer.from_file(\"./tokenizer-trained.json\")"
   ]
  },
  {
   "cell_type": "code",
   "execution_count": 12,
   "id": "ef88a6bb-a9c4-4da6-95d8-aa44fb31c462",
   "metadata": {},
   "outputs": [
    {
     "name": "stdout",
     "output_type": "stream",
     "text": [
      "['the', 'quick', 'brown', 'fox']\n"
     ]
    }
   ],
   "source": [
    "encoding = tokenizer.encode(\"The quick brown fox\")\n",
    "print(encoding.tokens)"
   ]
  },
  {
   "cell_type": "code",
   "execution_count": 13,
   "id": "d2061b70-cbb0-4e97-9954-27006a515a6f",
   "metadata": {},
   "outputs": [
    {
     "data": {
      "text/plain": [
       "[57, 162, 150, 153]"
      ]
     },
     "execution_count": 13,
     "metadata": {},
     "output_type": "execute_result"
    }
   ],
   "source": [
    "encoding.ids"
   ]
  },
  {
   "cell_type": "code",
   "execution_count": 14,
   "id": "949c5559-483b-44d0-acac-71586d2fb61c",
   "metadata": {},
   "outputs": [
    {
     "data": {
      "text/plain": [
       "'the quick brown fox'"
      ]
     },
     "execution_count": 14,
     "metadata": {},
     "output_type": "execute_result"
    }
   ],
   "source": [
    "tokenizer.decode(encoding.ids)"
   ]
  },
  {
   "cell_type": "code",
   "execution_count": 15,
   "id": "5ce50c8a-f62d-44a9-8eb3-6d4cb9372937",
   "metadata": {},
   "outputs": [
    {
     "data": {
      "text/plain": [
       "{'##ation': 83,\n",
       " 'bro': 100,\n",
       " 'fe': 102,\n",
       " 'e': 10,\n",
       " '##ing': 95,\n",
       " '##ge': 92,\n",
       " 'loud': 156,\n",
       " '##ck': 93,\n",
       " '##mps': 143,\n",
       " '##ura': 127,\n",
       " '##h': 45,\n",
       " 'dog': 96,\n",
       " 'loudly': 169,\n",
       " 'nl': 109,\n",
       " '##ort': 68,\n",
       " 'o': 20,\n",
       " 'natura': 160,\n",
       " 'v': 27,\n",
       " '##ther': 124,\n",
       " '##ick': 134,\n",
       " 'jumps': 154,\n",
       " '##n': 35,\n",
       " '##c': 48,\n",
       " 'together': 166,\n",
       " 'f': 11,\n",
       " 'imp': 64,\n",
       " 'do': 87,\n",
       " '[CLS]': 2,\n",
       " '##wn': 139,\n",
       " '##at': 58,\n",
       " '##f': 47,\n",
       " 'sits': 146,\n",
       " '##r': 34,\n",
       " '##g': 44,\n",
       " 'natural': 171,\n",
       " '##en': 60,\n",
       " '##ro': 67,\n",
       " '##e': 33,\n",
       " '##ion': 82,\n",
       " '##ts': 123,\n",
       " '[UNK]': 0,\n",
       " '##v': 32,\n",
       " 'j': 15,\n",
       " 'tokenization': 85,\n",
       " 'is': 63,\n",
       " '##w': 53,\n",
       " 'birds': 168,\n",
       " 'lo': 107,\n",
       " 'si': 90,\n",
       " 'the': 57,\n",
       " '##ll': 129,\n",
       " '##l': 39,\n",
       " '##ken': 71,\n",
       " 'night': 170,\n",
       " '##in': 81,\n",
       " 'st': 89,\n",
       " 'tokenizing': 144,\n",
       " 'ba': 98,\n",
       " 'lazy': 155,\n",
       " 'ju': 105,\n",
       " '.': 5,\n",
       " '##quen': 140,\n",
       " 'l': 17,\n",
       " 'in': 78,\n",
       " 'k': 16,\n",
       " 'nigh': 159,\n",
       " '[MASK]': 4,\n",
       " '##i': 42,\n",
       " 'text': 164,\n",
       " '##on': 80,\n",
       " '##ces': 70,\n",
       " '##he': 56,\n",
       " '##cess': 84,\n",
       " 'quick': 162,\n",
       " 'to': 59,\n",
       " 'win': 117,\n",
       " '##ock': 132,\n",
       " '[SEP]': 3,\n",
       " 'processing': 145,\n",
       " 'barks': 167,\n",
       " '##mp': 62,\n",
       " '##ra': 119,\n",
       " 'z': 31,\n",
       " 'on': 113,\n",
       " 'bi': 99,\n",
       " 'feather': 151,\n",
       " 'over': 161,\n",
       " 'import': 74,\n",
       " '##guage': 136,\n",
       " '##rd': 120,\n",
       " 'fo': 104,\n",
       " 'of': 88,\n",
       " 'brown': 150,\n",
       " 'i': 14,\n",
       " 'te': 116,\n",
       " 'an': 77,\n",
       " '##gh': 135,\n",
       " '##iz': 69,\n",
       " 'r': 23,\n",
       " 's': 24,\n",
       " 'fl': 103,\n",
       " '##dow': 137,\n",
       " 'se': 115,\n",
       " 'language': 157,\n",
       " 'w': 28,\n",
       " '##s': 43,\n",
       " 'cat': 101,\n",
       " '##ow': 131,\n",
       " '##uage': 128,\n",
       " 'sequen': 163,\n",
       " 'la': 106,\n",
       " 'sill': 147,\n",
       " 'token': 72,\n",
       " 'fox': 153,\n",
       " 'y': 30,\n",
       " '##q': 54,\n",
       " '##age': 122,\n",
       " 't': 25,\n",
       " '##t': 37,\n",
       " 'ov': 112,\n",
       " '##d': 46,\n",
       " 'lan': 108,\n",
       " 'bird': 149,\n",
       " 'm': 18,\n",
       " 'tokeniz': 75,\n",
       " 'window': 165,\n",
       " 'toge': 142,\n",
       " 'd': 9,\n",
       " 'ni': 110,\n",
       " 'important': 76,\n",
       " 'nlp': 158,\n",
       " 'c': 8,\n",
       " '##er': 118,\n",
       " '##x': 41,\n",
       " 'a': 6,\n",
       " '##rt': 66,\n",
       " 'g': 12,\n",
       " '##ant': 73,\n",
       " '##k': 49,\n",
       " '##an': 61,\n",
       " '##a': 36,\n",
       " '##ep': 91,\n",
       " '##xt': 133,\n",
       " '##ather': 141,\n",
       " 'n': 19,\n",
       " '##z': 50,\n",
       " '##m': 51,\n",
       " '##her': 94,\n",
       " '##ly': 130,\n",
       " 'qu': 114,\n",
       " 'pro': 79,\n",
       " '##y': 55,\n",
       " 'h': 13,\n",
       " '##p': 52,\n",
       " '##o': 40,\n",
       " 'bark': 148,\n",
       " 'process': 86,\n",
       " 'nat': 111,\n",
       " '##ud': 125,\n",
       " 'u': 26,\n",
       " '[PAD]': 1,\n",
       " 'b': 7,\n",
       " 'sequences': 172,\n",
       " 'step': 97,\n",
       " 'p': 21,\n",
       " 'q': 22,\n",
       " '##u': 38,\n",
       " '##rk': 121,\n",
       " '##zy': 138,\n",
       " '##uen': 126,\n",
       " '##es': 65,\n",
       " 'x': 29,\n",
       " 'flock': 152}"
      ]
     },
     "execution_count": 15,
     "metadata": {},
     "output_type": "execute_result"
    }
   ],
   "source": [
    "tokenizer.get_vocab()"
   ]
  },
  {
   "cell_type": "code",
   "execution_count": 16,
   "id": "fd63dae7-9084-4ad6-a161-be3551c351ea",
   "metadata": {},
   "outputs": [
    {
     "data": {
      "text/plain": [
       "173"
      ]
     },
     "execution_count": 16,
     "metadata": {},
     "output_type": "execute_result"
    }
   ],
   "source": [
    "tokenizer.get_vocab_size()"
   ]
  },
  {
   "cell_type": "markdown",
   "id": "fc6b2302-3acd-4c9d-bc74-be65e15798b0",
   "metadata": {},
   "source": [
    "# Text Embeddings\n",
    "\n",
    "https://www.deepset.ai/blog/the-beginners-guide-to-text-embeddings"
   ]
  },
  {
   "cell_type": "markdown",
   "id": "34b9feb1-6368-4405-ae8f-952eb096806b",
   "metadata": {},
   "source": [
    "## Sparse (розріджені) vectors: One hot encoding, Bag of words, Tf-idf"
   ]
  },
  {
   "cell_type": "code",
   "execution_count": 17,
   "id": "d2fb9c95-5dfe-4f66-ab23-120fa9f7429f",
   "metadata": {},
   "outputs": [
    {
     "name": "stdout",
     "output_type": "stream",
     "text": [
      "tokens ['the', 'quick', 'brown', 'fox', 'jumps', 'over', 'the', 'lazy', 'dog']\n",
      "vocab ['brown', 'dog', 'fox', 'jumps', 'lazy', 'over', 'quick', 'the']\n"
     ]
    }
   ],
   "source": [
    "from nltk.tokenize import word_tokenize\n",
    "import numpy as np\n",
    "import nltk\n",
    "\n",
    "# Sample text\n",
    "text = \"The quick brown fox jumps over the lazy dog\"\n",
    "\n",
    "# Tokenize the text\n",
    "tokens = word_tokenize(text.lower())\n",
    "print(\"tokens\", tokens)\n",
    "# Create vocabulary\n",
    "vocab = sorted(set(tokens))\n",
    "print(\"vocab\", vocab)"
   ]
  },
  {
   "cell_type": "code",
   "execution_count": 18,
   "id": "fa728d8a-1d86-44d2-b98f-02d03abf471d",
   "metadata": {},
   "outputs": [
    {
     "data": {
      "text/plain": [
       "[[0, 0, 0, 0, 0, 0, 0, 1],\n",
       " [0, 0, 0, 0, 0, 0, 1, 0],\n",
       " [1, 0, 0, 0, 0, 0, 0, 0],\n",
       " [0, 0, 1, 0, 0, 0, 0, 0],\n",
       " [0, 0, 0, 1, 0, 0, 0, 0],\n",
       " [0, 0, 0, 0, 0, 1, 0, 0],\n",
       " [0, 0, 0, 0, 0, 0, 0, 1],\n",
       " [0, 0, 0, 0, 1, 0, 0, 0],\n",
       " [0, 1, 0, 0, 0, 0, 0, 0]]"
      ]
     },
     "execution_count": 18,
     "metadata": {},
     "output_type": "execute_result"
    }
   ],
   "source": [
    "# Create one-hot encoding\n",
    "one_hot_encoded = []\n",
    "for token in tokens:\n",
    "    one_hot_vector = [0] * len(vocab)\n",
    "    one_hot_vector[vocab.index(token)] = 1\n",
    "    one_hot_encoded.append(one_hot_vector)\n",
    "one_hot_encoded"
   ]
  },
  {
   "cell_type": "code",
   "execution_count": 19,
   "id": "9efe46ba-3fc1-40e3-b4ae-45273a9d7068",
   "metadata": {},
   "outputs": [
    {
     "name": "stdout",
     "output_type": "stream",
     "text": [
      "Original text: The quick brown fox jumps over the lazy dog\n",
      "Tokens: ['the', 'quick', 'brown', 'fox', 'jumps', 'over', 'the', 'lazy', 'dog']\n",
      "Vocabulary: ['brown', 'dog', 'fox', 'jumps', 'lazy', 'over', 'quick', 'the']\n",
      "One-hot encoded text:\n",
      " [[0 0 0 0 0 0 0 1]\n",
      " [0 0 0 0 0 0 1 0]\n",
      " [1 0 0 0 0 0 0 0]\n",
      " [0 0 1 0 0 0 0 0]\n",
      " [0 0 0 1 0 0 0 0]\n",
      " [0 0 0 0 0 1 0 0]\n",
      " [0 0 0 0 0 0 0 1]\n",
      " [0 0 0 0 1 0 0 0]\n",
      " [0 1 0 0 0 0 0 0]]\n"
     ]
    }
   ],
   "source": [
    "# Convert to numpy array for easier manipulation\n",
    "one_hot_encoded = np.array(one_hot_encoded)\n",
    "\n",
    "# Print results\n",
    "print(\"Original text:\", text)\n",
    "print(\"Tokens:\", tokens)\n",
    "print(\"Vocabulary:\", vocab)\n",
    "print(\"One-hot encoded text:\\n\", one_hot_encoded)"
   ]
  },
  {
   "cell_type": "code",
   "execution_count": 20,
   "id": "b62ce7ac-987a-4448-abc6-ec6456918a3c",
   "metadata": {},
   "outputs": [
    {
     "name": "stdout",
     "output_type": "stream",
     "text": [
      "Original text: The quick brown fox jumps over the lazy dog\n",
      "Tokens: ['the', 'quick', 'brown', 'fox', 'jumps', 'over', 'the', 'lazy', 'dog']\n",
      "Vocabulary: ['brown', 'dog', 'fox', 'jumps', 'lazy', 'over', 'quick', 'the']\n",
      "Bag of Words:\n",
      " [1. 1. 1. 1. 1. 1. 1. 2.]\n"
     ]
    }
   ],
   "source": [
    "# Bag of words\n",
    "\n",
    "# Initialize Bag of Words\n",
    "bow = np.zeros(len(vocab))\n",
    "\n",
    "# Count occurrences of each word\n",
    "for token in tokens:\n",
    "    bow[vocab.index(token)] += 1\n",
    "\n",
    "# Print results\n",
    "print(\"Original text:\", text)\n",
    "print(\"Tokens:\", tokens)\n",
    "print(\"Vocabulary:\", vocab)\n",
    "print(\"Bag of Words:\\n\", bow)\n",
    "\n",
    "# And just like that, we have managed to encode our text as a vector \n",
    "# (also known as a “bag of words” or “BoW” embedding — because it ignores the order of the words in the sentence)."
   ]
  },
  {
   "cell_type": "code",
   "execution_count": 21,
   "id": "3310fa21-a40b-4687-9fc8-18acfc7d2c6f",
   "metadata": {},
   "outputs": [
    {
     "name": "stdout",
     "output_type": "stream",
     "text": [
      "Sample corpus: ['The quick brown fox jumps over the lazy dog', 'The cat sits on the window sill', 'The dog barks loudly in the night', 'Birds of a feather flock together']\n",
      "Vocabulary: ['barks' 'birds' 'brown' 'cat' 'dog' 'feather' 'flock' 'fox' 'in' 'jumps'\n",
      " 'lazy' 'loudly' 'night' 'of' 'on' 'over' 'quick' 'sill' 'sits' 'the'\n",
      " 'together' 'window']\n",
      "TF-IDF matrix:\n",
      " [[0.         0.         0.34812928 0.         0.27446912 0.\n",
      "  0.         0.34812928 0.         0.34812928 0.34812928 0.\n",
      "  0.         0.         0.         0.34812928 0.34812928 0.\n",
      "  0.         0.44441281 0.         0.        ]\n",
      " [0.         0.         0.         0.38837832 0.         0.\n",
      "  0.         0.         0.         0.         0.         0.\n",
      "  0.         0.         0.38837832 0.         0.         0.38837832\n",
      "  0.38837832 0.4957937  0.         0.38837832]\n",
      " [0.39996052 0.         0.         0.         0.31533346 0.\n",
      "  0.         0.         0.39996052 0.         0.         0.39996052\n",
      "  0.39996052 0.         0.         0.         0.         0.\n",
      "  0.         0.51057923 0.         0.        ]\n",
      " [0.         0.4472136  0.         0.         0.         0.4472136\n",
      "  0.4472136  0.         0.         0.         0.         0.\n",
      "  0.         0.4472136  0.         0.         0.         0.\n",
      "  0.         0.         0.4472136  0.        ]]\n"
     ]
    }
   ],
   "source": [
    "# TF-idf\n",
    "# see module 7 lesson 1\n",
    "from sklearn.feature_extraction.text import TfidfVectorizer\n",
    "\n",
    "# Sample corpus\n",
    "corpus = [\n",
    "    \"The quick brown fox jumps over the lazy dog\",\n",
    "    \"The cat sits on the window sill\",\n",
    "    \"The dog barks loudly in the night\",\n",
    "    \"Birds of a feather flock together\"\n",
    "]\n",
    "\n",
    "# Initialize TF-IDF vectorizer\n",
    "tfidf_vectorizer = TfidfVectorizer()\n",
    "\n",
    "# Fit and transform the corpus\n",
    "tfidf_matrix = tfidf_vectorizer.fit_transform(corpus)\n",
    "\n",
    "# Get feature names (vocabulary)\n",
    "vocab = tfidf_vectorizer.get_feature_names_out()\n",
    "\n",
    "# Convert TF-IDF matrix to dense array for easier manipulation\n",
    "tfidf_matrix_dense = tfidf_matrix.toarray()\n",
    "\n",
    "# Print results\n",
    "print(\"Sample corpus:\", corpus)\n",
    "print(\"Vocabulary:\", vocab)\n",
    "print(\"TF-IDF matrix:\\n\", tfidf_matrix_dense)\n"
   ]
  },
  {
   "cell_type": "markdown",
   "id": "0f2d2720-f916-43ac-b2c8-cae5360734b7",
   "metadata": {},
   "source": [
    "### Cosine similarity\n"
   ]
  },
  {
   "attachments": {},
   "cell_type": "markdown",
   "id": "e36a7d2c-bc86-4848-83e5-9d4c874a7df9",
   "metadata": {},
   "source": [
    "![cosine](https://storage.googleapis.com/lds-media/images/cosine-similarity-vectors.original.jpg)\n",
    "Source: https://www.learndatasci.com/glossary/cosine-similarity/"
   ]
  },
  {
   "cell_type": "code",
   "execution_count": 22,
   "id": "c1a9e075-7500-4714-a3fd-396ecb8ee86b",
   "metadata": {},
   "outputs": [
    {
     "name": "stdout",
     "output_type": "stream",
     "text": [
      "Vector 1: [[1 2 3]]\n",
      "Vector 2: [[4 5 6]]\n",
      "Cosine similarity: 0.9746318461970762\n"
     ]
    }
   ],
   "source": [
    "# show vector similarity\n",
    "import numpy as np\n",
    "from sklearn.metrics.pairwise import cosine_similarity\n",
    "\n",
    "# Sample vectors\n",
    "vector1 = np.array([1, 2, 3])\n",
    "vector2 = np.array([4, 5, 6])\n",
    "\n",
    "# Reshape the vectors to ensure they are 2D arrays\n",
    "vector1 = vector1.reshape(1, -1)\n",
    "vector2 = vector2.reshape(1, -1)\n",
    "\n",
    "# Compute cosine similarity\n",
    "similarity = cosine_similarity(vector1, vector2)\n",
    "\n",
    "print(\"Vector 1:\", vector1)\n",
    "print(\"Vector 2:\", vector2)\n",
    "print(\"Cosine similarity:\", similarity[0][0])\n"
   ]
  },
  {
   "attachments": {},
   "cell_type": "markdown",
   "id": "43648316-28c7-4fec-a1de-e303ec18c42a",
   "metadata": {},
   "source": [
    "![formula](https://miro.medium.com/v2/resize:fit:1400/format:webp/1*LfW66-WsYkFqWc4XYJbEJg.png)"
   ]
  },
  {
   "cell_type": "code",
   "execution_count": 23,
   "id": "9c49fe42-287e-42a6-975b-2516b1cafdc2",
   "metadata": {},
   "outputs": [],
   "source": [
    "def cosine_similarity(u, v):\n",
    "    \"\"\"\n",
    "    Cosine similarity reflects the degree of similarity between u and v\n",
    "        \n",
    "    Arguments:\n",
    "        u -- a word vector of shape (n,)          \n",
    "        v -- a word vector of shape (n,)\n",
    "\n",
    "    Returns:\n",
    "        cosine_similarity -- the cosine similarity between u and v defined by the formula above.\n",
    "    \"\"\"\n",
    "    \n",
    "    # Special case. Consider the case u = [0, 0], v=[0, 0]\n",
    "    if np.all(u == v):\n",
    "        return 1\n",
    "    \n",
    "    # Compute the dot product between u and v (≈1 line)\n",
    "    dot = np.dot(u, v) \n",
    "    # Compute the L2 norm of u (≈1 line)\n",
    "    norm_u = np.sqrt(np.sum(np.dot(u,u)))\n",
    "    \n",
    "    # Compute the L2 norm of v (≈1 line)\n",
    "    norm_v = np.sqrt(np.sum(np.dot(v,v)))\n",
    "    \n",
    "    # Avoid division by 0\n",
    "    if np.isclose(norm_u * norm_v, 0, atol=1e-32):\n",
    "        return 0\n",
    "    \n",
    "    # Compute the cosine similarity defined by formula (1) (≈1 line)\n",
    "    cosine_similarity = dot / (norm_u * norm_v)\n",
    "\n",
    "    return cosine_similarity"
   ]
  },
  {
   "cell_type": "code",
   "execution_count": 24,
   "id": "d96a5729-c023-4cbb-9359-4c7e0063ff3e",
   "metadata": {},
   "outputs": [
    {
     "data": {
      "image/png": "[encoded data removed]",
      "text/plain": [
       "<Figure size 800x600 with 1 Axes>"
      ]
     },
     "metadata": {},
     "output_type": "display_data"
    }
   ],
   "source": [
    "import numpy as np\n",
    "import matplotlib.pyplot as plt\n",
    "from sklearn.metrics.pairwise import cosine_similarity\n",
    "\n",
    "# Sample text vectors\n",
    "vector1 = np.array([1, 2])\n",
    "vector2 = np.array([4, 5])\n",
    "\n",
    "# Reshape the vectors to ensure they are 2D arrays\n",
    "vector1 = vector1.reshape(1, -1)\n",
    "vector2 = vector2.reshape(1, -1)\n",
    "\n",
    "# Compute cosine similarity\n",
    "similarity = cosine_similarity(vector1, vector2)[0][0]\n",
    "\n",
    "# Plot vectors\n",
    "plt.figure(figsize=(8, 6))\n",
    "plt.plot([0, vector1[0][0]], [0, vector1[0][1]], label='Vector 1', marker='o')\n",
    "plt.plot([0, vector2[0][0]], [0, vector2[0][1]], label='Vector 2', marker='o')\n",
    "plt.xlabel('X')\n",
    "plt.ylabel('Y')\n",
    "plt.title('Visualization of Text Vectors')\n",
    "plt.legend()\n",
    "\n",
    "# Annotate cosine similarity\n",
    "plt.text(1, 4, f'Cosine Similarity: {similarity:.2f}', fontsize=12)\n",
    "\n",
    "# Set aspect ratio to be equal\n",
    "plt.gca().set_aspect('equal', adjustable='box')\n",
    "\n",
    "# Show plot\n",
    "plt.grid()\n",
    "plt.show()\n"
   ]
  },
  {
   "cell_type": "code",
   "execution_count": 25,
   "id": "bb49c273-79fa-437f-8a44-ab94535e5173",
   "metadata": {},
   "outputs": [
    {
     "data": {
      "image/png": "[encoded data removed]",
      "text/plain": [
       "<Figure size 1500x1000 with 6 Axes>"
      ]
     },
     "metadata": {},
     "output_type": "display_data"
    }
   ],
   "source": [
    "import numpy as np\n",
    "import matplotlib.pyplot as plt\n",
    "from sklearn.feature_extraction.text import TfidfVectorizer\n",
    "from sklearn.decomposition import PCA\n",
    "from sklearn.metrics.pairwise import cosine_similarity\n",
    "\n",
    "# Sample corpus\n",
    "corpus = [\n",
    "    \"The quick brown fox jumps over the lazy dog\",\n",
    "    \"The cat sits on the window sill\",\n",
    "    \"The dog barks loudly in the night\",\n",
    "    \"Birds of a feather flock together\"\n",
    "]\n",
    "\n",
    "# Initialize TF-IDF vectorizer\n",
    "tfidf_vectorizer = TfidfVectorizer()\n",
    "\n",
    "# Fit and transform the corpus\n",
    "tfidf_matrix = tfidf_vectorizer.fit_transform(corpus)\n",
    "\n",
    "# Convert TF-IDF matrix to dense array for easier manipulation\n",
    "tfidf_matrix_dense = tfidf_matrix.toarray()\n",
    "\n",
    "# Compute cosine similarity\n",
    "cos_sim = cosine_similarity(tfidf_matrix_dense)\n",
    "\n",
    "# Perform PCA to reduce dimensions to 2 for visualization\n",
    "pca = PCA(n_components=2)\n",
    "tfidf_matrix_pca = pca.fit_transform(tfidf_matrix_dense)\n",
    "\n",
    "# Plot one graph per pair of text\n",
    "num_pairs = len(corpus) * (len(corpus) - 1) // 2\n",
    "plt.figure(figsize=(15, 10))\n",
    "subplot_index = 1\n",
    "for i in range(len(corpus)):\n",
    "    for j in range(i + 1, len(corpus)):\n",
    "        plt.subplot(2, num_pairs // 2, subplot_index)\n",
    "        plt.scatter(tfidf_matrix_pca[:, 0], tfidf_matrix_pca[:, 1])\n",
    "        plt.plot([tfidf_matrix_pca[i, 0], tfidf_matrix_pca[j, 0]], \n",
    "                 [tfidf_matrix_pca[i, 1], tfidf_matrix_pca[j, 1]], \n",
    "                 linestyle='-', color='red')\n",
    "        plt.xlabel('Principal Component 1')\n",
    "        plt.ylabel('Principal Component 2')\n",
    "        plt.title(f'Cosine Similarity: {cos_sim[i, j]:.2f}')\n",
    "        plt.xticks([])\n",
    "        plt.yticks([])\n",
    "        subplot_index += 1\n",
    "plt.tight_layout()\n",
    "plt.show()\n"
   ]
  },
  {
   "cell_type": "code",
   "execution_count": 26,
   "id": "3b6c6036-825a-4277-962a-31f3d8a979ca",
   "metadata": {},
   "outputs": [
    {
     "name": "stdout",
     "output_type": "stream",
     "text": [
      "Text: The quick brown fox jumps over the lazy dog, \n",
      "The cat sits on the window sill\n",
      "Cosine Similarity: 0.22.\n",
      "\n",
      "Text: The quick brown fox jumps over the lazy dog, \n",
      "The dog barks loudly in the night\n",
      "Cosine Similarity: 0.31.\n",
      "\n",
      "Text: The quick brown fox jumps over the lazy dog, \n",
      "Birds of a feather flock together\n",
      "Cosine Similarity: 0.00.\n",
      "\n",
      "Text: The cat sits on the window sill, \n",
      "The dog barks loudly in the night\n",
      "Cosine Similarity: 0.25.\n",
      "\n",
      "Text: The cat sits on the window sill, \n",
      "Birds of a feather flock together\n",
      "Cosine Similarity: 0.00.\n",
      "\n",
      "Text: The dog barks loudly in the night, \n",
      "Birds of a feather flock together\n",
      "Cosine Similarity: 0.00.\n",
      "\n"
     ]
    }
   ],
   "source": [
    "import numpy as np\n",
    "import matplotlib.pyplot as plt\n",
    "from sklearn.feature_extraction.text import TfidfVectorizer\n",
    "from sklearn.decomposition import PCA\n",
    "from sklearn.metrics.pairwise import cosine_similarity\n",
    "\n",
    "# Sample corpus\n",
    "corpus = [\n",
    "    \"The quick brown fox jumps over the lazy dog\",\n",
    "    \"The cat sits on the window sill\",\n",
    "    \"The dog barks loudly in the night\",\n",
    "    \"Birds of a feather flock together\"\n",
    "]\n",
    "\n",
    "# Initialize TF-IDF vectorizer\n",
    "tfidf_vectorizer = TfidfVectorizer()\n",
    "\n",
    "# Fit and transform the corpus\n",
    "tfidf_matrix = tfidf_vectorizer.fit_transform(corpus)\n",
    "\n",
    "# Convert TF-IDF matrix to dense array for easier manipulation\n",
    "tfidf_matrix_dense = tfidf_matrix.toarray()\n",
    "\n",
    "# Compute cosine similarity\n",
    "cos_sim = cosine_similarity(tfidf_matrix_dense)\n",
    "\n",
    "for i in range(len(corpus)):\n",
    "    for j in range(i + 1, len(corpus)):\n",
    "        print(f'Text: {corpus[i]}, \\n{corpus[j]}\\nCosine Similarity: {cos_sim[i, j]:.2f}.\\n')\n",
    "\n"
   ]
  },
  {
   "cell_type": "code",
   "execution_count": 27,
   "id": "08ee51e7-956e-47d8-a738-e1753cd0a43b",
   "metadata": {},
   "outputs": [
    {
     "data": {
      "image/png": "[encoded data removed]",
      "text/plain": [
       "<Figure size 1500x1000 with 6 Axes>"
      ]
     },
     "metadata": {},
     "output_type": "display_data"
    }
   ],
   "source": [
    "import numpy as np\n",
    "import matplotlib.pyplot as plt\n",
    "from sklearn.feature_extraction.text import TfidfVectorizer\n",
    "from sklearn.decomposition import PCA\n",
    "from sklearn.metrics.pairwise import cosine_similarity\n",
    "\n",
    "# Sample corpus\n",
    "corpus = [\n",
    "    \"The quick brown fox jumps over the lazy dog\",\n",
    "    \"The cat sits on the window sill\",\n",
    "    \"The dog barks loudly in the night\",\n",
    "    \"Birds of a feather flock together\"\n",
    "]\n",
    "\n",
    "# Initialize TF-IDF vectorizer\n",
    "tfidf_vectorizer = TfidfVectorizer()\n",
    "\n",
    "# Fit and transform the corpus\n",
    "tfidf_matrix = tfidf_vectorizer.fit_transform(corpus)\n",
    "\n",
    "# Convert TF-IDF matrix to dense array for easier manipulation\n",
    "tfidf_matrix_dense = tfidf_matrix.toarray()\n",
    "\n",
    "# Perform PCA to reduce dimensions to 2 for visualization\n",
    "pca = PCA(n_components=2)\n",
    "tfidf_matrix_pca = pca.fit_transform(tfidf_matrix_dense)\n",
    "\n",
    "# Compute cosine similarity\n",
    "cos_sim = cosine_similarity(tfidf_matrix_pca)\n",
    "\n",
    "# Plot one graph per pair of text\n",
    "num_pairs = len(corpus) * (len(corpus) - 1) // 2\n",
    "plt.figure(figsize=(15, 10))\n",
    "subplot_index = 1\n",
    "for i in range(len(corpus)):\n",
    "    for j in range(i + 1, len(corpus)):\n",
    "        plt.subplot(2, num_pairs // 2, subplot_index)\n",
    "        plt.scatter(tfidf_matrix_pca[:, 0], tfidf_matrix_pca[:, 1])\n",
    "        plt.plot([0, tfidf_matrix_pca[i, 0]], \n",
    "                 [0, tfidf_matrix_pca[i, 1]], \n",
    "                 linestyle='-', color='blue', alpha=0.5)\n",
    "        plt.plot([0, tfidf_matrix_pca[j, 0]], \n",
    "                 [0, tfidf_matrix_pca[j, 1]], \n",
    "                 linestyle='-', color='red', alpha=0.5)\n",
    "        plt.xlabel('Principal Component 1')\n",
    "        plt.ylabel('Principal Component 2')\n",
    "        plt.title(f'Cosine Similarity: {cos_sim[i, j]:.2f}.\\nText: {corpus[i]}, \\n{corpus[j]}')\n",
    "        plt.xticks(np.arange(-0.5, 1.5, 0.5))\n",
    "        plt.yticks(np.arange(-0.5, 1.5, 0.5))\n",
    "        subplot_index += 1\n",
    "plt.tight_layout()\n",
    "plt.show()\n"
   ]
  },
  {
   "cell_type": "markdown",
   "id": "872607d3-09af-4722-b31e-2f34ddc808e4",
   "metadata": {},
   "source": [
    "\n",
    "## Word2Vec\n",
    "https://www.tensorflow.org/text/tutorials/word2vec"
   ]
  },
  {
   "cell_type": "code",
   "execution_count": 28,
   "id": "db4d9f05-7a47-483f-abda-bfef1a850fe0",
   "metadata": {},
   "outputs": [],
   "source": [
    "from gensim.models import Word2Vec\n",
    "from nltk.tokenize import word_tokenize\n",
    "import nltk\n",
    "\n",
    "# Sample corpus\n",
    "corpus = [\n",
    "    \"The quick brown fox jumps over the lazy dog\",\n",
    "    \"The cat sits on the window sill\",\n",
    "    \"The dog barks loudly in the night\",\n",
    "    \"Birds of a feather flock together\"\n",
    "]\n",
    "\n",
    "# Tokenize the corpus\n",
    "tokenized_corpus = [word_tokenize(doc.lower()) for doc in corpus]\n",
    "\n",
    "# Define Word2Vec model parameters\n",
    "vector_size = 100  # Dimensionality of word vectors\n",
    "window_size = 5  # Context window size\n",
    "min_count = 1  # Minimum frequency count of words\n",
    "\n",
    "# Initialize Word2Vec model\n",
    "model = Word2Vec(\n",
    "    sentences=tokenized_corpus,\n",
    "    vector_size=vector_size,\n",
    "    window=window_size,\n",
    "    min_count=min_count,\n",
    "    sg=1  # Use Skip-gram model\n",
    ")\n",
    "\n",
    "# Train Word2Vec model\n",
    "model.train(tokenized_corpus, total_examples=len(tokenized_corpus), epochs=10)\n",
    "\n",
    "# Save trained model\n",
    "model.save(\"word2vec_model.bin\")\n",
    "\n",
    "# To load the trained model:\n",
    "# loaded_model = Word2Vec.load(\"word2vec_model.bin\")\n"
   ]
  },
  {
   "cell_type": "code",
   "execution_count": 29,
   "id": "6e6390a2-fc4b-47ed-a2ea-6443e7753c3b",
   "metadata": {},
   "outputs": [
    {
     "data": {
      "text/plain": [
       "0.0"
      ]
     },
     "execution_count": 29,
     "metadata": {},
     "output_type": "execute_result"
    }
   ],
   "source": [
    "model.get_latest_training_loss()"
   ]
  },
  {
   "cell_type": "code",
   "execution_count": 30,
   "id": "62e49a33-41b4-4b84-bcf6-ce348c59ecb6",
   "metadata": {},
   "outputs": [
    {
     "data": {
      "text/plain": [
       "['the',\n",
       " 'dog',\n",
       " 'together',\n",
       " 'a',\n",
       " 'of',\n",
       " 'flock',\n",
       " 'feather',\n",
       " 'night',\n",
       " 'birds',\n",
       " 'in',\n",
       " 'loudly',\n",
       " 'window',\n",
       " 'on',\n",
       " 'barks',\n",
       " 'sill',\n",
       " 'cat',\n",
       " 'sits',\n",
       " 'over',\n",
       " 'lazy',\n",
       " 'jumps',\n",
       " 'fox',\n",
       " 'brown',\n",
       " 'quick']"
      ]
     },
     "execution_count": 30,
     "metadata": {},
     "output_type": "execute_result"
    }
   ],
   "source": [
    "vocab = model.wv.index_to_key\n",
    "vocab"
   ]
  },
  {
   "cell_type": "code",
   "execution_count": 31,
   "id": "55158a2f-4c74-4ac7-8412-a65a97df6424",
   "metadata": {},
   "outputs": [
    {
     "data": {
      "text/plain": [
       "{'the': 0,\n",
       " 'dog': 1,\n",
       " 'together': 2,\n",
       " 'a': 3,\n",
       " 'of': 4,\n",
       " 'flock': 5,\n",
       " 'feather': 6,\n",
       " 'night': 7,\n",
       " 'birds': 8,\n",
       " 'in': 9,\n",
       " 'loudly': 10,\n",
       " 'window': 11,\n",
       " 'on': 12,\n",
       " 'barks': 13,\n",
       " 'sill': 14,\n",
       " 'cat': 15,\n",
       " 'sits': 16,\n",
       " 'over': 17,\n",
       " 'lazy': 18,\n",
       " 'jumps': 19,\n",
       " 'fox': 20,\n",
       " 'brown': 21,\n",
       " 'quick': 22}"
      ]
     },
     "execution_count": 31,
     "metadata": {},
     "output_type": "execute_result"
    }
   ],
   "source": [
    "model.wv.key_to_index"
   ]
  },
  {
   "cell_type": "code",
   "execution_count": 32,
   "id": "d0b7878d-b1f0-40a9-b635-da38851f23be",
   "metadata": {},
   "outputs": [
    {
     "name": "stdout",
     "output_type": "stream",
     "text": [
      "Encoded text: [-8.3293137e-04  3.8035577e-03 -7.8900036e-04  6.6896062e-03\n",
      "  2.6861897e-03 -3.4418900e-04 -1.9891659e-04  2.7066753e-03\n",
      "  3.9822692e-03 -4.2067464e-03  2.6167543e-03 -8.5690437e-04\n",
      "  5.2051437e-03  1.2417476e-03  5.4620653e-03 -1.5606792e-03\n",
      " -1.6742534e-03  1.4937525e-03 -2.8683532e-03  2.0120498e-03\n",
      "  8.7027345e-04  2.6493692e-03 -4.0516737e-03  9.0593919e-03\n",
      " -1.4621578e-03  9.1136433e-05  1.5048312e-03  1.5456827e-03\n",
      " -1.7181190e-03 -2.4771763e-03 -1.5961041e-03 -4.0973169e-03\n",
      " -3.2131518e-03 -6.3508068e-04  2.4579820e-04  5.5099172e-03\n",
      "  5.7274047e-03  2.4000523e-03 -3.9315638e-03  5.8517978e-03\n",
      "  3.8218547e-03 -7.4054312e-04 -4.8926570e-03  2.1338102e-03\n",
      " -1.4704198e-04 -4.9571460e-03 -2.3560529e-03 -2.6442469e-03\n",
      "  4.2017642e-04  4.2863988e-04  6.4658737e-03 -4.5496067e-03\n",
      " -3.8693387e-03 -1.8835061e-03 -3.5121590e-03  5.6184391e-03\n",
      "  1.3598823e-03 -9.1684348e-04 -2.4944388e-03 -3.9335825e-03\n",
      " -2.6053486e-03  4.7478536e-03  5.7097008e-03 -2.8676251e-03\n",
      " -1.9896687e-03  2.9201698e-03 -2.4744847e-03 -2.7910102e-04\n",
      "  1.2998632e-03 -3.8946706e-03  2.4031168e-03 -5.7872821e-04\n",
      " -4.0775174e-03  8.7664742e-04  8.0603082e-04  4.9199755e-03\n",
      " -2.3099806e-03  4.1002189e-03 -3.2072463e-03  2.0619016e-03\n",
      " -5.8017392e-03  2.9507380e-03  2.6460015e-03 -2.9069989e-03\n",
      " -4.7612470e-03  5.4234248e-03  5.0482634e-03  5.6921074e-04\n",
      " -6.3894247e-04  1.6943832e-03 -4.6258494e-03  8.9275988e-04\n",
      " -1.8469575e-03  4.3376214e-03  6.3289967e-03 -3.7534360e-03\n",
      "  2.5674724e-03 -2.6760013e-03 -5.3556985e-03 -5.1381905e-04]\n"
     ]
    }
   ],
   "source": [
    "# Sample text to encode\n",
    "text = \"This fox is a very quick fox\"\n",
    "\n",
    "# Tokenize the text\n",
    "tokens = word_tokenize(text.lower())\n",
    "\n",
    "# Encode the text\n",
    "word_vectors = [model.wv[word] for word in tokens if word in model.wv.key_to_index.keys()]\n",
    "\n",
    "# Average the word vectors to get the text encoding\n",
    "if word_vectors:\n",
    "    encoded_text = np.mean(word_vectors, axis=0)\n",
    "else:\n",
    "    encoded_text = np.zeros(model.vector_size)  # Default encoding for empty text\n",
    "\n",
    "# Print the encoded text\n",
    "print(\"Encoded text:\", encoded_text)"
   ]
  },
  {
   "cell_type": "code",
   "execution_count": 33,
   "id": "9788fb60-7dcc-4559-8de2-b34908c90147",
   "metadata": {},
   "outputs": [
    {
     "data": {
      "text/plain": [
       "array([ 0.00257213,  0.00084554, -0.00253884,  0.00935984,  0.00275857,\n",
       "        0.00409201, -0.00118103,  0.00090791,  0.00662063, -0.00073159,\n",
       "        0.00334115, -0.00067463,  0.00524853,  0.00364298,  0.00258579,\n",
       "       -0.00530737, -0.00470402,  0.0043109 , -0.00590666, -0.00018275,\n",
       "       -0.00063132,  0.00349136, -0.00844036,  0.00881241, -0.00144759,\n",
       "       -0.00532967,  0.00404997, -0.00193355, -0.0077641 , -0.00449426,\n",
       "       -0.00038436, -0.00894708,  0.00057117,  0.00244037, -0.00322494,\n",
       "        0.00257146,  0.00248132,  0.00999091,  0.00143265,  0.00201964,\n",
       "        0.00278154, -0.0020805 , -0.00869888,  0.00802661, -0.00197591,\n",
       "       -0.00969148, -0.0065538 , -0.00394705,  0.00395808,  0.00503932,\n",
       "        0.00608432, -0.00677428,  0.00068771, -0.00277554, -0.00520815,\n",
       "        0.00698639,  0.00395256, -0.00310465, -0.00827376, -0.00513728,\n",
       "       -0.00065105,  0.00781343,  0.00604564, -0.00845029, -0.00956471,\n",
       "        0.00713903, -0.00232649, -0.00369122,  0.00575078, -0.00584377,\n",
       "        0.00509499, -0.00024398, -0.00687265, -0.00032909,  0.00636157,\n",
       "        0.0092937 ,  0.00222091,  0.00505091, -0.00497546, -0.00080112,\n",
       "       -0.0053214 ,  0.00119046, -0.00179257, -0.0036307 , -0.0070116 ,\n",
       "        0.00965371,  0.00297699, -0.00228199, -0.00418242,  0.00771056,\n",
       "       -0.00647876,  0.00312095,  0.00078762,  0.00832518,  0.00683569,\n",
       "       -0.0029084 ,  0.0025372 , -0.0016682 , -0.00945467, -0.0026122 ],\n",
       "      dtype=float32)"
      ]
     },
     "execution_count": 33,
     "metadata": {},
     "output_type": "execute_result"
    }
   ],
   "source": [
    "model.wv[\"fox\"]"
   ]
  },
  {
   "cell_type": "code",
   "execution_count": 34,
   "id": "8c25601a-0e03-4e0a-8b25-933005d7bd13",
   "metadata": {},
   "outputs": [
    {
     "data": {
      "text/plain": [
       "[array([ 0.00257213,  0.00084554, -0.00253884,  0.00935984,  0.00275857,\n",
       "         0.00409201, -0.00118103,  0.00090791,  0.00662063, -0.00073159,\n",
       "         0.00334115, -0.00067463,  0.00524853,  0.00364298,  0.00258579,\n",
       "        -0.00530737, -0.00470402,  0.0043109 , -0.00590666, -0.00018275,\n",
       "        -0.00063132,  0.00349136, -0.00844036,  0.00881241, -0.00144759,\n",
       "        -0.00532967,  0.00404997, -0.00193355, -0.0077641 , -0.00449426,\n",
       "        -0.00038436, -0.00894708,  0.00057117,  0.00244037, -0.00322494,\n",
       "         0.00257146,  0.00248132,  0.00999091,  0.00143265,  0.00201964,\n",
       "         0.00278154, -0.0020805 , -0.00869888,  0.00802661, -0.00197591,\n",
       "        -0.00969148, -0.0065538 , -0.00394705,  0.00395808,  0.00503932,\n",
       "         0.00608432, -0.00677428,  0.00068771, -0.00277554, -0.00520815,\n",
       "         0.00698639,  0.00395256, -0.00310465, -0.00827376, -0.00513728,\n",
       "        -0.00065105,  0.00781343,  0.00604564, -0.00845029, -0.00956471,\n",
       "         0.00713903, -0.00232649, -0.00369122,  0.00575078, -0.00584377,\n",
       "         0.00509499, -0.00024398, -0.00687265, -0.00032909,  0.00636157,\n",
       "         0.0092937 ,  0.00222091,  0.00505091, -0.00497546, -0.00080112,\n",
       "        -0.0053214 ,  0.00119046, -0.00179257, -0.0036307 , -0.0070116 ,\n",
       "         0.00965371,  0.00297699, -0.00228199, -0.00418242,  0.00771056,\n",
       "        -0.00647876,  0.00312095,  0.00078762,  0.00832518,  0.00683569,\n",
       "        -0.0029084 ,  0.0025372 , -0.0016682 , -0.00945467, -0.0026122 ],\n",
       "       dtype=float32),\n",
       " array([-8.2426779e-03,  9.2993546e-03, -1.9766092e-04, -1.9672764e-03,\n",
       "         4.6036304e-03, -4.0953159e-03,  2.7431143e-03,  6.9399667e-03,\n",
       "         6.0654259e-03, -7.5107943e-03,  9.3823504e-03,  4.6718083e-03,\n",
       "         3.9661205e-03, -6.2435055e-03,  8.4599797e-03, -2.1501649e-03,\n",
       "         8.8251876e-03, -5.3620026e-03, -8.1294188e-03,  6.8245591e-03,\n",
       "         1.6711927e-03, -2.1985089e-03,  9.5136007e-03,  9.4938548e-03,\n",
       "        -9.7740470e-03,  2.5052286e-03,  6.1566923e-03,  3.8724565e-03,\n",
       "         2.0227872e-03,  4.3050171e-04,  6.7363144e-04, -3.8206363e-03,\n",
       "        -7.1402504e-03, -2.0888723e-03,  3.9238976e-03,  8.8186832e-03,\n",
       "         9.2591504e-03, -5.9759365e-03, -9.4026709e-03,  9.7643770e-03,\n",
       "         3.4297847e-03,  5.1661171e-03,  6.2823449e-03, -2.8042626e-03,\n",
       "         7.3227035e-03,  2.8302716e-03,  2.8710044e-03, -2.3803699e-03,\n",
       "        -3.1282497e-03, -2.3701417e-03,  4.2764368e-03,  7.6057913e-05,\n",
       "        -9.5842788e-03, -9.6655441e-03, -6.1481940e-03, -1.2856961e-04,\n",
       "         1.9974159e-03,  9.4319675e-03,  5.5843508e-03, -4.2906962e-03,\n",
       "         2.7831673e-04,  4.9643586e-03,  7.6983096e-03, -1.1442233e-03,\n",
       "         4.3234206e-03, -5.8143795e-03, -8.0419064e-04,  8.1000505e-03,\n",
       "        -2.3600650e-03, -9.6634552e-03,  5.7792603e-03, -3.9298222e-03,\n",
       "        -1.2228728e-03,  9.9805174e-03, -2.2563506e-03, -4.7570644e-03,\n",
       "        -5.3293873e-03,  6.9808899e-03, -5.7088719e-03,  2.1136629e-03,\n",
       "        -5.2556600e-03,  6.1207139e-03,  4.3573068e-03,  2.6063549e-03,\n",
       "        -1.4910829e-03, -2.7460635e-03,  8.9929365e-03,  5.2157748e-03,\n",
       "        -2.1625196e-03, -9.4703101e-03, -7.4260519e-03, -1.0637414e-03,\n",
       "        -7.9494715e-04, -2.5629092e-03,  9.6827205e-03, -4.5852066e-04,\n",
       "         5.8737611e-03, -7.4475873e-03, -2.5060738e-03, -5.5498634e-03],\n",
       "       dtype=float32),\n",
       " array([-2.33310187e-04,  4.22378816e-03,  2.11933069e-03,  1.00060105e-02,\n",
       "         6.23986823e-04, -5.46546141e-03, -1.17672817e-03,  2.07092054e-03,\n",
       "        -3.37760709e-03, -7.85301812e-03, -5.59763564e-03, -6.75015710e-03,\n",
       "         6.35738950e-03,  3.92454164e-03,  8.21669959e-03,  6.52219076e-03,\n",
       "        -6.11415179e-03,  2.71520601e-03,  8.46932456e-03,  1.58913573e-03,\n",
       "         3.07253492e-03,  5.81327314e-03, -8.83957464e-03,  9.11890157e-03,\n",
       "         6.82059722e-03,  8.51865765e-03, -8.23729951e-03,  6.17737044e-03,\n",
       "         6.63293758e-03, -1.35069399e-03, -6.28932798e-03,  5.32553066e-03,\n",
       "        -6.85469201e-03, -5.33219054e-03,  3.50916572e-03,  8.07806291e-03,\n",
       "         8.68782308e-03, -4.40566754e-03, -9.18888021e-03,  9.60354134e-03,\n",
       "         6.29456295e-03, -3.96728981e-03, -8.45521875e-03, -4.71371692e-03,\n",
       "        -3.95904155e-03, -3.27589898e-03,  8.12376209e-04, -3.02520202e-04,\n",
       "        -3.10720736e-03, -5.99393109e-03,  9.41841211e-03, -4.72591771e-03,\n",
       "        -7.26849306e-03,  7.68260332e-03,  2.51586176e-03,  8.62955209e-03,\n",
       "        -4.46299929e-03, -6.89003849e-03,  9.85404360e-04, -1.16906688e-03,\n",
       "        -9.39761382e-03, -1.59980170e-03,  3.04921786e-03,  6.57431083e-03,\n",
       "         6.84733409e-03,  3.21699074e-03, -4.44077328e-03, -1.83401885e-03,\n",
       "        -3.94205144e-03,  5.77231823e-03, -6.35676878e-03,  2.10286211e-03,\n",
       "        -1.34188938e-03, -5.81575790e-03, -7.24267121e-03,  5.84956026e-03,\n",
       "        -8.35235883e-03, -6.81828475e-04,  2.83079734e-03,  7.73618184e-03,\n",
       "        -7.30850548e-03,  3.30132688e-03,  9.81184375e-03, -6.97294902e-03,\n",
       "        -3.53070255e-03,  5.13233198e-03,  5.24613028e-03,  1.62505091e-03,\n",
       "         7.97159504e-03,  8.26722360e-04,  1.88017415e-03, -1.60712574e-03,\n",
       "        -8.16812553e-03,  3.26302950e-03,  1.96189363e-03, -8.73842649e-03,\n",
       "        -6.78266399e-04,  7.99859481e-05, -7.37407345e-06,  8.71899258e-03],\n",
       "       dtype=float32),\n",
       " array([ 0.00257213,  0.00084554, -0.00253884,  0.00935984,  0.00275857,\n",
       "         0.00409201, -0.00118103,  0.00090791,  0.00662063, -0.00073159,\n",
       "         0.00334115, -0.00067463,  0.00524853,  0.00364298,  0.00258579,\n",
       "        -0.00530737, -0.00470402,  0.0043109 , -0.00590666, -0.00018275,\n",
       "        -0.00063132,  0.00349136, -0.00844036,  0.00881241, -0.00144759,\n",
       "        -0.00532967,  0.00404997, -0.00193355, -0.0077641 , -0.00449426,\n",
       "        -0.00038436, -0.00894708,  0.00057117,  0.00244037, -0.00322494,\n",
       "         0.00257146,  0.00248132,  0.00999091,  0.00143265,  0.00201964,\n",
       "         0.00278154, -0.0020805 , -0.00869888,  0.00802661, -0.00197591,\n",
       "        -0.00969148, -0.0065538 , -0.00394705,  0.00395808,  0.00503932,\n",
       "         0.00608432, -0.00677428,  0.00068771, -0.00277554, -0.00520815,\n",
       "         0.00698639,  0.00395256, -0.00310465, -0.00827376, -0.00513728,\n",
       "        -0.00065105,  0.00781343,  0.00604564, -0.00845029, -0.00956471,\n",
       "         0.00713903, -0.00232649, -0.00369122,  0.00575078, -0.00584377,\n",
       "         0.00509499, -0.00024398, -0.00687265, -0.00032909,  0.00636157,\n",
       "         0.0092937 ,  0.00222091,  0.00505091, -0.00497546, -0.00080112,\n",
       "        -0.0053214 ,  0.00119046, -0.00179257, -0.0036307 , -0.0070116 ,\n",
       "         0.00965371,  0.00297699, -0.00228199, -0.00418242,  0.00771056,\n",
       "        -0.00647876,  0.00312095,  0.00078762,  0.00832518,  0.00683569,\n",
       "        -0.0029084 ,  0.0025372 , -0.0016682 , -0.00945467, -0.0026122 ],\n",
       "       dtype=float32)]"
      ]
     },
     "execution_count": 34,
     "metadata": {},
     "output_type": "execute_result"
    }
   ],
   "source": [
    "word_vectors"
   ]
  },
  {
   "cell_type": "code",
   "execution_count": 35,
   "id": "22ec35aa-f805-4964-b7f6-5004e9bf33b5",
   "metadata": {},
   "outputs": [
    {
     "name": "stdout",
     "output_type": "stream",
     "text": [
      "[[ 1.24294136e-03  2.06322805e-03  2.59387167e-03  5.99527545e-03\n",
      "  -1.18522323e-03 -2.24979874e-03  2.99117388e-03  3.77638638e-03\n",
      "  -2.06815661e-03 -3.55113181e-03  9.14662145e-04 -2.37691542e-03\n",
      "   2.87460163e-03  3.97960376e-03  1.70151726e-03 -1.04033086e-03\n",
      "   2.38553528e-03  1.42929377e-03 -1.14246993e-03 -2.36563804e-03\n",
      "   3.14331008e-03  1.27603969e-04 -1.72621536e-03 -4.00996360e-04\n",
      "   2.41280464e-03  5.58046042e-04 -3.45374062e-03  1.60675775e-03\n",
      "   2.83260481e-04  5.89457341e-05 -1.92339634e-04 -1.94719411e-03\n",
      "   1.13883882e-03 -3.89126269e-03 -1.82479445e-04  1.52210833e-03\n",
      "   1.91323319e-03 -1.27970139e-04  1.09256327e-03 -1.35928497e-03\n",
      "   2.26722826e-04 -7.75320572e-04 -2.41473736e-03  1.41968206e-03\n",
      "  -2.32083234e-03 -1.54263759e-03 -3.02405283e-03 -2.77230167e-04\n",
      "   1.94860273e-03  2.18482758e-03  7.09844520e-04 -9.47433407e-04\n",
      "  -3.20862117e-03  2.85481045e-04  2.73053697e-03  2.64428509e-03\n",
      "   2.58761179e-03 -1.16618047e-03 -5.34905237e-04  2.02054600e-03\n",
      "  -3.32789542e-03  1.39826827e-03 -1.08595064e-03 -8.23532755e-04\n",
      "  -2.12558283e-04  4.46272083e-03  9.84959770e-04  1.43250579e-03\n",
      "  -3.34055585e-05  7.68978382e-04  1.70053588e-03  7.69952079e-04\n",
      "   9.03627719e-04 -1.69859373e-03  2.31128512e-03  9.69223445e-04\n",
      "   1.50233239e-03  2.59486889e-03 -2.46731506e-04 -8.90679890e-04\n",
      "  -5.39046340e-03  1.83250115e-03  3.87739809e-03  5.31626807e-04\n",
      "  -2.45739589e-04  2.07845983e-03  3.79934441e-03 -2.59283301e-03\n",
      "   2.38202178e-04  8.60756147e-04  2.80006463e-03 -7.17127463e-04\n",
      "   4.65186633e-04  1.76720368e-03  2.16956739e-03  5.09512356e-05\n",
      "  -2.48862011e-03 -7.00441073e-04 -1.11943588e-03  3.30414879e-03]\n",
      " [ 1.22515473e-03  9.90767963e-04  4.12201695e-03  1.77641690e-03\n",
      "  -4.04949300e-04 -3.11213685e-03  9.42179526e-04  6.98223989e-03\n",
      "   2.77262501e-04 -2.53659743e-03  1.99791021e-03 -4.85226465e-03\n",
      "  -5.46967285e-03  1.88036100e-03 -4.30478435e-03 -9.31743707e-04\n",
      "  -5.80181892e-04  1.29676526e-04 -1.31933764e-03 -5.69798052e-03\n",
      "   2.72514508e-03  3.07890517e-03  1.74269697e-03  2.70305063e-05\n",
      "  -1.44793431e-03  7.78271700e-04 -1.50283799e-03  3.24453623e-03\n",
      "  -1.38186978e-03 -1.81208795e-03 -5.30158821e-03 -2.99346237e-03\n",
      "   3.56459687e-03 -2.73624109e-03 -2.58692494e-03 -1.11477950e-03\n",
      "   4.62473417e-03 -3.23971943e-03 -3.37486272e-03 -1.03736646e-03\n",
      "  -1.96597073e-03  4.29243402e-04 -3.58980824e-03  2.15060404e-03\n",
      "   7.26693426e-04  6.58245350e-04 -2.44454900e-03 -5.53096994e-04\n",
      "   1.67255942e-03  4.37756628e-03 -1.96863897e-03 -1.27787213e-03\n",
      "   2.03653122e-03  5.41130488e-04  1.08920434e-03 -1.69086060e-03\n",
      "   2.67302571e-03 -1.82476721e-03  3.61380691e-04  4.89306031e-03\n",
      "  -1.72711059e-03 -1.39282004e-03  9.57185766e-05 -1.04605360e-03\n",
      "  -2.19702983e-04  2.40780413e-03  1.86705001e-04  4.54592286e-03\n",
      "  -1.95705681e-03  2.39477609e-03  1.03515398e-03  4.64444887e-03\n",
      "   2.41488754e-03 -3.84677039e-03  2.40865140e-03 -1.36658282e-05\n",
      "   4.44060145e-03 -1.33658142e-03 -8.66957183e-04 -4.19452135e-03\n",
      "  -3.93652543e-03  1.73951476e-03 -8.01743532e-04  1.41093880e-03\n",
      "  -2.77010957e-03  1.62563485e-03  1.02524762e-03 -3.96799017e-03\n",
      "  -2.96115788e-04  2.72502215e-03  3.04913474e-03  6.82126847e-04\n",
      "   1.74387975e-03  1.87203754e-04  2.92791752e-03  1.83091953e-03\n",
      "  -2.83543160e-03  5.78206964e-04 -4.43892088e-04  5.52643137e-03]\n",
      " [-1.29351474e-03  1.58632509e-04  2.41436227e-03  4.05972963e-03\n",
      "  -4.36782604e-03 -5.53726777e-03  3.01514345e-04  3.21835512e-03\n",
      "  -4.27811267e-03 -4.83443681e-03  2.66224379e-03 -1.74525648e-03\n",
      "  -1.80723553e-03  1.23672956e-03  5.72520308e-04  3.81130865e-03\n",
      "   4.54093982e-03  1.44175123e-04 -2.45009945e-03 -7.15243956e-03\n",
      "   3.01769585e-03  2.38510221e-03  4.76849684e-03 -2.39551975e-03\n",
      "   3.00718425e-03  1.65893021e-03 -4.13782429e-03  3.03554488e-03\n",
      "  -2.48367293e-03  1.88248022e-03  9.69556058e-05  1.09159958e-03\n",
      "   5.52929519e-03 -2.19899719e-03  5.76664279e-05  5.10043756e-04\n",
      "   1.83846639e-03  6.65209314e-04 -1.81178955e-04  5.46460564e-04\n",
      "  -2.33012790e-04  2.60768313e-04 -4.62410692e-03  2.62822519e-04\n",
      "  -6.02840853e-04 -1.53650774e-03 -3.71413841e-03  2.69466313e-03\n",
      "   3.34446924e-03  3.83370928e-03 -2.86979042e-03  8.09546385e-04\n",
      "  -2.13698507e-03  1.38112134e-03  2.31364626e-03  5.22637216e-04\n",
      "   6.46751374e-04 -1.24175905e-03  3.00680433e-04  6.28645066e-03\n",
      "  -1.44238514e-03  1.74874230e-03 -9.63383354e-05 -3.08454037e-04\n",
      "  -6.43807056e-04  2.23405659e-03 -1.16181758e-03  3.71160771e-04\n",
      "   1.56443170e-03 -5.72642835e-04  2.04337458e-03  2.51325942e-03\n",
      "  -1.26502791e-03 -1.62134611e-03  2.29758141e-03  1.26268074e-03\n",
      "   3.22103384e-03 -2.27595912e-03  1.45720073e-03 -3.77646834e-03\n",
      "  -9.84854414e-04  1.36303622e-03  2.91797728e-03  4.53559682e-03\n",
      "  -1.96582661e-03  2.59844121e-04  1.87542324e-03  3.31608433e-04\n",
      "   2.40268605e-03  1.39058754e-03  1.93709915e-03  1.73585943e-03\n",
      "   7.72628642e-04  1.54832378e-03  1.81976648e-03  3.55969460e-05\n",
      "  -7.30153581e-04 -3.40802455e-03  4.58345283e-04  2.62982515e-03]\n",
      " [-4.24146978e-03  3.37344408e-03 -1.99107942e-03 -7.72789121e-04\n",
      "   2.16616946e-03  1.95509824e-03  3.43661010e-03  1.82620401e-03\n",
      "  -3.82275484e-03  2.89514341e-04  5.11760358e-04 -4.80543822e-05\n",
      "   1.13390724e-03 -1.19226915e-03  2.14552670e-03 -3.47100128e-03\n",
      "   1.28539780e-03  1.55317876e-03 -3.16922064e-03 -2.81365379e-03\n",
      "  -1.89629348e-03 -1.51716534e-03  6.73823198e-03  2.08206824e-03\n",
      "  -1.13246206e-03 -8.39106142e-05  2.34731357e-03 -1.52869616e-03\n",
      "  -1.73118932e-03  2.23719442e-04  5.28301857e-03 -2.44075060e-03\n",
      "  -2.17623822e-03 -1.53898168e-03 -4.06808133e-04  2.74387561e-03\n",
      "   5.15674416e-04  7.59213872e-04 -9.38710757e-04 -1.82102143e-03\n",
      "   2.34237313e-03 -1.57290383e-03 -5.72548131e-04  3.90261324e-04\n",
      "   3.17818741e-03  8.70195683e-04 -1.35078053e-05 -5.29085868e-04\n",
      "  -2.00096797e-03 -3.10901902e-03  2.02492368e-03 -2.52531469e-03\n",
      "  -1.27550762e-03 -2.56562093e-03 -5.02275489e-03 -3.69305816e-03\n",
      "   1.99611914e-05 -3.26604885e-03 -1.65717490e-03 -6.24515302e-03\n",
      "   1.78161112e-03 -2.44098040e-03  7.30063533e-03 -1.17880048e-03\n",
      "  -2.55750795e-03  1.81175547e-03  1.18236162e-03  4.40409966e-03\n",
      "  -6.32186979e-03 -9.32394119e-04 -7.58105482e-04  3.51369916e-03\n",
      "   1.85975118e-03  5.56752272e-03 -6.48311747e-04  8.81836109e-04\n",
      "  -1.61443744e-03  3.52823618e-03 -2.18963460e-03  1.52690525e-04\n",
      "   1.00651290e-04 -5.06654056e-03  7.79309776e-04 -1.04345509e-03\n",
      "  -6.29418762e-04 -4.98346798e-03  2.96286051e-03 -5.58036845e-04\n",
      "  -2.28936342e-03 -1.17240695e-03 -1.24758284e-03  1.73909904e-03\n",
      "   7.99935311e-04 -2.64107739e-03  6.56499714e-03  1.85677793e-03\n",
      "   4.49734414e-03 -1.57157239e-03  2.28154287e-03 -2.70445622e-03]]\n"
     ]
    }
   ],
   "source": [
    "# Sample corpus\n",
    "corpus = [\n",
    "    \"The quick brown fox jumps over the lazy dog\",\n",
    "    \"The cat sits on the window sill\",\n",
    "    \"The dog barks loudly in the night\",\n",
    "    \"Birds of a feather flock together\"\n",
    "]\n",
    "\n",
    "embeddings = np.zeros((len(corpus), model.vector_size))\n",
    "\n",
    "for i in range(len(corpus)):\n",
    "    # Tokenize the text\n",
    "    tokens = word_tokenize(corpus[i].lower())\n",
    "    \n",
    "    # Encode the text\n",
    "    word_vectors = [model.wv[word] for word in tokens if word in model.wv.key_to_index.keys()]\n",
    "    \n",
    "    # Average the word vectors to get the text encoding\n",
    "    if word_vectors:\n",
    "        encoded_text = np.mean(word_vectors, axis=0)\n",
    "    else:\n",
    "        encoded_text = np.zeros(model.vector_size)  # Default encoding for empty text\n",
    "    embeddings[i] = encoded_text\n",
    "\n",
    "print(embeddings)\n"
   ]
  },
  {
   "cell_type": "code",
   "execution_count": 36,
   "id": "5957f1e6-4438-41be-91ed-4ce9a49101d0",
   "metadata": {},
   "outputs": [
    {
     "name": "stdout",
     "output_type": "stream",
     "text": [
      "Text: The quick brown fox jumps over the lazy dog, \n",
      "The cat sits on the window sill\n",
      "Cosine Similarity: 0.53.\n",
      "\n",
      "Text: The quick brown fox jumps over the lazy dog, \n",
      "The dog barks loudly in the night\n",
      "Cosine Similarity: 0.59.\n",
      "\n",
      "Text: The quick brown fox jumps over the lazy dog, \n",
      "Birds of a feather flock together\n",
      "Cosine Similarity: -0.09.\n",
      "\n",
      "Text: The cat sits on the window sill, \n",
      "The dog barks loudly in the night\n",
      "Cosine Similarity: 0.57.\n",
      "\n",
      "Text: The cat sits on the window sill, \n",
      "Birds of a feather flock together\n",
      "Cosine Similarity: -0.09.\n",
      "\n",
      "Text: The dog barks loudly in the night, \n",
      "Birds of a feather flock together\n",
      "Cosine Similarity: -0.15.\n",
      "\n"
     ]
    }
   ],
   "source": [
    "# Compute cosine similarity\n",
    "cos_sim = cosine_similarity(embeddings)\n",
    "for i in range(len(corpus)):\n",
    "    for j in range(i + 1, len(corpus)):\n",
    "        print(f'Text: {corpus[i]}, \\n{corpus[j]}\\nCosine Similarity: {cos_sim[i, j]:.2f}.\\n')"
   ]
  },
  {
   "cell_type": "code",
   "execution_count": 37,
   "id": "663f2a9c-15e2-429a-99ab-7ca0966b8c82",
   "metadata": {},
   "outputs": [
    {
     "data": {
      "text/plain": [
       "array([[ 1.        ,  0.52579893,  0.59190877, -0.08741439],\n",
       "       [ 0.52579893,  1.        ,  0.56873798, -0.09239434],\n",
       "       [ 0.59190877,  0.56873798,  1.        , -0.14716998],\n",
       "       [-0.08741439, -0.09239434, -0.14716998,  1.        ]])"
      ]
     },
     "execution_count": 37,
     "metadata": {},
     "output_type": "execute_result"
    }
   ],
   "source": [
    "cos_sim"
   ]
  },
  {
   "cell_type": "code",
   "execution_count": 39,
   "id": "f4d44063-cd06-4a6a-a586-adf37d907b81",
   "metadata": {},
   "outputs": [
    {
     "name": "stdout",
     "output_type": "stream",
     "text": [
      "Epoch 1/100\n"
     ]
    },
    {
     "name": "stderr",
     "output_type": "stream",
     "text": [
      "/home/sergio/anaconda3/envs/conda_env_example/lib/python3.11/site-packages/keras/src/layers/core/embedding.py:90: UserWarning: Argument `input_length` is deprecated. Just remove it.\n",
      "  warnings.warn(\n",
      "2025-08-01 18:00:35.136106: E external/local_xla/xla/stream_executor/cuda/cuda_platform.cc:51] failed call to cuInit: INTERNAL: CUDA error: Failed call to cuInit: UNKNOWN ERROR (303)\n"
     ]
    },
    {
     "name": "stdout",
     "output_type": "stream",
     "text": [
      "\u001b[1m1/1\u001b[0m \u001b[32m━━━━━━━━━━━━━━━━━━━━\u001b[0m\u001b[37m\u001b[0m \u001b[1m0s\u001b[0m 448ms/step - loss: 2.1998\n",
      "Epoch 2/100\n",
      "\u001b[1m1/1\u001b[0m \u001b[32m━━━━━━━━━━━━━━━━━━━━\u001b[0m\u001b[37m\u001b[0m \u001b[1m0s\u001b[0m 13ms/step - loss: 2.1983\n",
      "Epoch 3/100\n",
      "\u001b[1m1/1\u001b[0m \u001b[32m━━━━━━━━━━━━━━━━━━━━\u001b[0m\u001b[37m\u001b[0m \u001b[1m0s\u001b[0m 13ms/step - loss: 2.1968\n",
      "Epoch 4/100\n",
      "\u001b[1m1/1\u001b[0m \u001b[32m━━━━━━━━━━━━━━━━━━━━\u001b[0m\u001b[37m\u001b[0m \u001b[1m0s\u001b[0m 14ms/step - loss: 2.1953\n",
      "Epoch 5/100\n",
      "\u001b[1m1/1\u001b[0m \u001b[32m━━━━━━━━━━━━━━━━━━━━\u001b[0m\u001b[37m\u001b[0m \u001b[1m0s\u001b[0m 13ms/step - loss: 2.1938\n",
      "Epoch 6/100\n",
      "\u001b[1m1/1\u001b[0m \u001b[32m━━━━━━━━━━━━━━━━━━━━\u001b[0m\u001b[37m\u001b[0m \u001b[1m0s\u001b[0m 13ms/step - loss: 2.1924\n",
      "Epoch 7/100\n",
      "\u001b[1m1/1\u001b[0m \u001b[32m━━━━━━━━━━━━━━━━━━━━\u001b[0m\u001b[37m\u001b[0m \u001b[1m0s\u001b[0m 14ms/step - loss: 2.1909\n",
      "Epoch 8/100\n",
      "\u001b[1m1/1\u001b[0m \u001b[32m━━━━━━━━━━━━━━━━━━━━\u001b[0m\u001b[37m\u001b[0m \u001b[1m0s\u001b[0m 13ms/step - loss: 2.1894\n",
      "Epoch 9/100\n",
      "\u001b[1m1/1\u001b[0m \u001b[32m━━━━━━━━━━━━━━━━━━━━\u001b[0m\u001b[37m\u001b[0m \u001b[1m0s\u001b[0m 15ms/step - loss: 2.1879\n",
      "Epoch 10/100\n",
      "\u001b[1m1/1\u001b[0m \u001b[32m━━━━━━━━━━━━━━━━━━━━\u001b[0m\u001b[37m\u001b[0m \u001b[1m0s\u001b[0m 14ms/step - loss: 2.1864\n",
      "Epoch 11/100\n",
      "\u001b[1m1/1\u001b[0m \u001b[32m━━━━━━━━━━━━━━━━━━━━\u001b[0m\u001b[37m\u001b[0m \u001b[1m0s\u001b[0m 14ms/step - loss: 2.1850\n",
      "Epoch 12/100\n",
      "\u001b[1m1/1\u001b[0m \u001b[32m━━━━━━━━━━━━━━━━━━━━\u001b[0m\u001b[37m\u001b[0m \u001b[1m0s\u001b[0m 15ms/step - loss: 2.1835\n",
      "Epoch 13/100\n",
      "\u001b[1m1/1\u001b[0m \u001b[32m━━━━━━━━━━━━━━━━━━━━\u001b[0m\u001b[37m\u001b[0m \u001b[1m0s\u001b[0m 13ms/step - loss: 2.1820\n",
      "Epoch 14/100\n",
      "\u001b[1m1/1\u001b[0m \u001b[32m━━━━━━━━━━━━━━━━━━━━\u001b[0m\u001b[37m\u001b[0m \u001b[1m0s\u001b[0m 13ms/step - loss: 2.1805\n",
      "Epoch 15/100\n",
      "\u001b[1m1/1\u001b[0m \u001b[32m━━━━━━━━━━━━━━━━━━━━\u001b[0m\u001b[37m\u001b[0m \u001b[1m0s\u001b[0m 13ms/step - loss: 2.1791\n",
      "Epoch 16/100\n",
      "\u001b[1m1/1\u001b[0m \u001b[32m━━━━━━━━━━━━━━━━━━━━\u001b[0m\u001b[37m\u001b[0m \u001b[1m0s\u001b[0m 14ms/step - loss: 2.1776\n",
      "Epoch 17/100\n",
      "\u001b[1m1/1\u001b[0m \u001b[32m━━━━━━━━━━━━━━━━━━━━\u001b[0m\u001b[37m\u001b[0m \u001b[1m0s\u001b[0m 15ms/step - loss: 2.1761\n",
      "Epoch 18/100\n",
      "\u001b[1m1/1\u001b[0m \u001b[32m━━━━━━━━━━━━━━━━━━━━\u001b[0m\u001b[37m\u001b[0m \u001b[1m0s\u001b[0m 13ms/step - loss: 2.1747\n",
      "Epoch 19/100\n",
      "\u001b[1m1/1\u001b[0m \u001b[32m━━━━━━━━━━━━━━━━━━━━\u001b[0m\u001b[37m\u001b[0m \u001b[1m0s\u001b[0m 13ms/step - loss: 2.1732\n",
      "Epoch 20/100\n",
      "\u001b[1m1/1\u001b[0m \u001b[32m━━━━━━━━━━━━━━━━━━━━\u001b[0m\u001b[37m\u001b[0m \u001b[1m0s\u001b[0m 13ms/step - loss: 2.1717\n",
      "Epoch 21/100\n",
      "\u001b[1m1/1\u001b[0m \u001b[32m━━━━━━━━━━━━━━━━━━━━\u001b[0m\u001b[37m\u001b[0m \u001b[1m0s\u001b[0m 12ms/step - loss: 2.1702\n",
      "Epoch 22/100\n",
      "\u001b[1m1/1\u001b[0m \u001b[32m━━━━━━━━━━━━━━━━━━━━\u001b[0m\u001b[37m\u001b[0m \u001b[1m0s\u001b[0m 12ms/step - loss: 2.1688\n",
      "Epoch 23/100\n",
      "\u001b[1m1/1\u001b[0m \u001b[32m━━━━━━━━━━━━━━━━━━━━\u001b[0m\u001b[37m\u001b[0m \u001b[1m0s\u001b[0m 12ms/step - loss: 2.1673\n",
      "Epoch 24/100\n",
      "\u001b[1m1/1\u001b[0m \u001b[32m━━━━━━━━━━━━━━━━━━━━\u001b[0m\u001b[37m\u001b[0m \u001b[1m0s\u001b[0m 14ms/step - loss: 2.1658\n",
      "Epoch 25/100\n",
      "\u001b[1m1/1\u001b[0m \u001b[32m━━━━━━━━━━━━━━━━━━━━\u001b[0m\u001b[37m\u001b[0m \u001b[1m0s\u001b[0m 13ms/step - loss: 2.1643\n",
      "Epoch 26/100\n",
      "\u001b[1m1/1\u001b[0m \u001b[32m━━━━━━━━━━━━━━━━━━━━\u001b[0m\u001b[37m\u001b[0m \u001b[1m0s\u001b[0m 17ms/step - loss: 2.1628\n",
      "Epoch 27/100\n",
      "\u001b[1m1/1\u001b[0m \u001b[32m━━━━━━━━━━━━━━━━━━━━\u001b[0m\u001b[37m\u001b[0m \u001b[1m0s\u001b[0m 14ms/step - loss: 2.1613\n",
      "Epoch 28/100\n",
      "\u001b[1m1/1\u001b[0m \u001b[32m━━━━━━━━━━━━━━━━━━━━\u001b[0m\u001b[37m\u001b[0m \u001b[1m0s\u001b[0m 13ms/step - loss: 2.1598\n",
      "Epoch 29/100\n",
      "\u001b[1m1/1\u001b[0m \u001b[32m━━━━━━━━━━━━━━━━━━━━\u001b[0m\u001b[37m\u001b[0m \u001b[1m0s\u001b[0m 13ms/step - loss: 2.1583\n",
      "Epoch 30/100\n",
      "\u001b[1m1/1\u001b[0m \u001b[32m━━━━━━━━━━━━━━━━━━━━\u001b[0m\u001b[37m\u001b[0m \u001b[1m0s\u001b[0m 12ms/step - loss: 2.1568\n",
      "Epoch 31/100\n",
      "\u001b[1m1/1\u001b[0m \u001b[32m━━━━━━━━━━━━━━━━━━━━\u001b[0m\u001b[37m\u001b[0m \u001b[1m0s\u001b[0m 14ms/step - loss: 2.1553\n",
      "Epoch 32/100\n",
      "\u001b[1m1/1\u001b[0m \u001b[32m━━━━━━━━━━━━━━━━━━━━\u001b[0m\u001b[37m\u001b[0m \u001b[1m0s\u001b[0m 12ms/step - loss: 2.1537\n",
      "Epoch 33/100\n",
      "\u001b[1m1/1\u001b[0m \u001b[32m━━━━━━━━━━━━━━━━━━━━\u001b[0m\u001b[37m\u001b[0m \u001b[1m0s\u001b[0m 13ms/step - loss: 2.1522\n",
      "Epoch 34/100\n",
      "\u001b[1m1/1\u001b[0m \u001b[32m━━━━━━━━━━━━━━━━━━━━\u001b[0m\u001b[37m\u001b[0m \u001b[1m0s\u001b[0m 12ms/step - loss: 2.1507\n",
      "Epoch 35/100\n",
      "\u001b[1m1/1\u001b[0m \u001b[32m━━━━━━━━━━━━━━━━━━━━\u001b[0m\u001b[37m\u001b[0m \u001b[1m0s\u001b[0m 14ms/step - loss: 2.1491\n",
      "Epoch 36/100\n",
      "\u001b[1m1/1\u001b[0m \u001b[32m━━━━━━━━━━━━━━━━━━━━\u001b[0m\u001b[37m\u001b[0m \u001b[1m0s\u001b[0m 13ms/step - loss: 2.1475\n",
      "Epoch 37/100\n",
      "\u001b[1m1/1\u001b[0m \u001b[32m━━━━━━━━━━━━━━━━━━━━\u001b[0m\u001b[37m\u001b[0m \u001b[1m0s\u001b[0m 13ms/step - loss: 2.1460\n",
      "Epoch 38/100\n",
      "\u001b[1m1/1\u001b[0m \u001b[32m━━━━━━━━━━━━━━━━━━━━\u001b[0m\u001b[37m\u001b[0m \u001b[1m0s\u001b[0m 13ms/step - loss: 2.1444\n",
      "Epoch 39/100\n",
      "\u001b[1m1/1\u001b[0m \u001b[32m━━━━━━━━━━━━━━━━━━━━\u001b[0m\u001b[37m\u001b[0m \u001b[1m0s\u001b[0m 13ms/step - loss: 2.1428\n",
      "Epoch 40/100\n",
      "\u001b[1m1/1\u001b[0m \u001b[32m━━━━━━━━━━━━━━━━━━━━\u001b[0m\u001b[37m\u001b[0m \u001b[1m0s\u001b[0m 12ms/step - loss: 2.1412\n",
      "Epoch 41/100\n",
      "\u001b[1m1/1\u001b[0m \u001b[32m━━━━━━━━━━━━━━━━━━━━\u001b[0m\u001b[37m\u001b[0m \u001b[1m0s\u001b[0m 12ms/step - loss: 2.1396\n",
      "Epoch 42/100\n",
      "\u001b[1m1/1\u001b[0m \u001b[32m━━━━━━━━━━━━━━━━━━━━\u001b[0m\u001b[37m\u001b[0m \u001b[1m0s\u001b[0m 13ms/step - loss: 2.1380\n",
      "Epoch 43/100\n",
      "\u001b[1m1/1\u001b[0m \u001b[32m━━━━━━━━━━━━━━━━━━━━\u001b[0m\u001b[37m\u001b[0m \u001b[1m0s\u001b[0m 13ms/step - loss: 2.1364\n",
      "Epoch 44/100\n",
      "\u001b[1m1/1\u001b[0m \u001b[32m━━━━━━━━━━━━━━━━━━━━\u001b[0m\u001b[37m\u001b[0m \u001b[1m0s\u001b[0m 14ms/step - loss: 2.1347\n",
      "Epoch 45/100\n",
      "\u001b[1m1/1\u001b[0m \u001b[32m━━━━━━━━━━━━━━━━━━━━\u001b[0m\u001b[37m\u001b[0m \u001b[1m0s\u001b[0m 14ms/step - loss: 2.1331\n",
      "Epoch 46/100\n",
      "\u001b[1m1/1\u001b[0m \u001b[32m━━━━━━━━━━━━━━━━━━━━\u001b[0m\u001b[37m\u001b[0m \u001b[1m0s\u001b[0m 13ms/step - loss: 2.1314\n",
      "Epoch 47/100\n",
      "\u001b[1m1/1\u001b[0m \u001b[32m━━━━━━━━━━━━━━━━━━━━\u001b[0m\u001b[37m\u001b[0m \u001b[1m0s\u001b[0m 13ms/step - loss: 2.1298\n",
      "Epoch 48/100\n",
      "\u001b[1m1/1\u001b[0m \u001b[32m━━━━━━━━━━━━━━━━━━━━\u001b[0m\u001b[37m\u001b[0m \u001b[1m0s\u001b[0m 13ms/step - loss: 2.1281\n",
      "Epoch 49/100\n",
      "\u001b[1m1/1\u001b[0m \u001b[32m━━━━━━━━━━━━━━━━━━━━\u001b[0m\u001b[37m\u001b[0m \u001b[1m0s\u001b[0m 17ms/step - loss: 2.1264\n",
      "Epoch 50/100\n",
      "\u001b[1m1/1\u001b[0m \u001b[32m━━━━━━━━━━━━━━━━━━━━\u001b[0m\u001b[37m\u001b[0m \u001b[1m0s\u001b[0m 12ms/step - loss: 2.1247\n",
      "Epoch 51/100\n",
      "\u001b[1m1/1\u001b[0m \u001b[32m━━━━━━━━━━━━━━━━━━━━\u001b[0m\u001b[37m\u001b[0m \u001b[1m0s\u001b[0m 12ms/step - loss: 2.1230\n",
      "Epoch 52/100\n",
      "\u001b[1m1/1\u001b[0m \u001b[32m━━━━━━━━━━━━━━━━━━━━\u001b[0m\u001b[37m\u001b[0m \u001b[1m0s\u001b[0m 15ms/step - loss: 2.1213\n",
      "Epoch 53/100\n",
      "\u001b[1m1/1\u001b[0m \u001b[32m━━━━━━━━━━━━━━━━━━━━\u001b[0m\u001b[37m\u001b[0m \u001b[1m0s\u001b[0m 13ms/step - loss: 2.1196\n",
      "Epoch 54/100\n",
      "\u001b[1m1/1\u001b[0m \u001b[32m━━━━━━━━━━━━━━━━━━━━\u001b[0m\u001b[37m\u001b[0m \u001b[1m0s\u001b[0m 13ms/step - loss: 2.1178\n",
      "Epoch 55/100\n",
      "\u001b[1m1/1\u001b[0m \u001b[32m━━━━━━━━━━━━━━━━━━━━\u001b[0m\u001b[37m\u001b[0m \u001b[1m0s\u001b[0m 13ms/step - loss: 2.1161\n",
      "Epoch 56/100\n",
      "\u001b[1m1/1\u001b[0m \u001b[32m━━━━━━━━━━━━━━━━━━━━\u001b[0m\u001b[37m\u001b[0m \u001b[1m0s\u001b[0m 13ms/step - loss: 2.1143\n",
      "Epoch 57/100\n",
      "\u001b[1m1/1\u001b[0m \u001b[32m━━━━━━━━━━━━━━━━━━━━\u001b[0m\u001b[37m\u001b[0m \u001b[1m0s\u001b[0m 13ms/step - loss: 2.1126\n",
      "Epoch 58/100\n",
      "\u001b[1m1/1\u001b[0m \u001b[32m━━━━━━━━━━━━━━━━━━━━\u001b[0m\u001b[37m\u001b[0m \u001b[1m0s\u001b[0m 12ms/step - loss: 2.1108\n",
      "Epoch 59/100\n",
      "\u001b[1m1/1\u001b[0m \u001b[32m━━━━━━━━━━━━━━━━━━━━\u001b[0m\u001b[37m\u001b[0m \u001b[1m0s\u001b[0m 13ms/step - loss: 2.1090\n",
      "Epoch 60/100\n",
      "\u001b[1m1/1\u001b[0m \u001b[32m━━━━━━━━━━━━━━━━━━━━\u001b[0m\u001b[37m\u001b[0m \u001b[1m0s\u001b[0m 13ms/step - loss: 2.1072\n",
      "Epoch 61/100\n",
      "\u001b[1m1/1\u001b[0m \u001b[32m━━━━━━━━━━━━━━━━━━━━\u001b[0m\u001b[37m\u001b[0m \u001b[1m0s\u001b[0m 14ms/step - loss: 2.1054\n",
      "Epoch 62/100\n",
      "\u001b[1m1/1\u001b[0m \u001b[32m━━━━━━━━━━━━━━━━━━━━\u001b[0m\u001b[37m\u001b[0m \u001b[1m0s\u001b[0m 12ms/step - loss: 2.1035\n",
      "Epoch 63/100\n",
      "\u001b[1m1/1\u001b[0m \u001b[32m━━━━━━━━━━━━━━━━━━━━\u001b[0m\u001b[37m\u001b[0m \u001b[1m0s\u001b[0m 12ms/step - loss: 2.1017\n",
      "Epoch 64/100\n",
      "\u001b[1m1/1\u001b[0m \u001b[32m━━━━━━━━━━━━━━━━━━━━\u001b[0m\u001b[37m\u001b[0m \u001b[1m0s\u001b[0m 12ms/step - loss: 2.0999\n",
      "Epoch 65/100\n",
      "\u001b[1m1/1\u001b[0m \u001b[32m━━━━━━━━━━━━━━━━━━━━\u001b[0m\u001b[37m\u001b[0m \u001b[1m0s\u001b[0m 14ms/step - loss: 2.0980\n",
      "Epoch 66/100\n",
      "\u001b[1m1/1\u001b[0m \u001b[32m━━━━━━━━━━━━━━━━━━━━\u001b[0m\u001b[37m\u001b[0m \u001b[1m0s\u001b[0m 14ms/step - loss: 2.0961\n",
      "Epoch 67/100\n",
      "\u001b[1m1/1\u001b[0m \u001b[32m━━━━━━━━━━━━━━━━━━━━\u001b[0m\u001b[37m\u001b[0m \u001b[1m0s\u001b[0m 13ms/step - loss: 2.0943\n",
      "Epoch 68/100\n",
      "\u001b[1m1/1\u001b[0m \u001b[32m━━━━━━━━━━━━━━━━━━━━\u001b[0m\u001b[37m\u001b[0m \u001b[1m0s\u001b[0m 14ms/step - loss: 2.0924\n",
      "Epoch 69/100\n",
      "\u001b[1m1/1\u001b[0m \u001b[32m━━━━━━━━━━━━━━━━━━━━\u001b[0m\u001b[37m\u001b[0m \u001b[1m0s\u001b[0m 12ms/step - loss: 2.0905\n",
      "Epoch 70/100\n",
      "\u001b[1m1/1\u001b[0m \u001b[32m━━━━━━━━━━━━━━━━━━━━\u001b[0m\u001b[37m\u001b[0m \u001b[1m0s\u001b[0m 13ms/step - loss: 2.0886\n",
      "Epoch 71/100\n",
      "\u001b[1m1/1\u001b[0m \u001b[32m━━━━━━━━━━━━━━━━━━━━\u001b[0m\u001b[37m\u001b[0m \u001b[1m0s\u001b[0m 13ms/step - loss: 2.0866\n",
      "Epoch 72/100\n",
      "\u001b[1m1/1\u001b[0m \u001b[32m━━━━━━━━━━━━━━━━━━━━\u001b[0m\u001b[37m\u001b[0m \u001b[1m0s\u001b[0m 13ms/step - loss: 2.0847\n",
      "Epoch 73/100\n",
      "\u001b[1m1/1\u001b[0m \u001b[32m━━━━━━━━━━━━━━━━━━━━\u001b[0m\u001b[37m\u001b[0m \u001b[1m0s\u001b[0m 13ms/step - loss: 2.0828\n",
      "Epoch 74/100\n",
      "\u001b[1m1/1\u001b[0m \u001b[32m━━━━━━━━━━━━━━━━━━━━\u001b[0m\u001b[37m\u001b[0m \u001b[1m0s\u001b[0m 13ms/step - loss: 2.0808\n",
      "Epoch 75/100\n",
      "\u001b[1m1/1\u001b[0m \u001b[32m━━━━━━━━━━━━━━━━━━━━\u001b[0m\u001b[37m\u001b[0m \u001b[1m0s\u001b[0m 15ms/step - loss: 2.0788\n",
      "Epoch 76/100\n",
      "\u001b[1m1/1\u001b[0m \u001b[32m━━━━━━━━━━━━━━━━━━━━\u001b[0m\u001b[37m\u001b[0m \u001b[1m0s\u001b[0m 13ms/step - loss: 2.0769\n",
      "Epoch 77/100\n",
      "\u001b[1m1/1\u001b[0m \u001b[32m━━━━━━━━━━━━━━━━━━━━\u001b[0m\u001b[37m\u001b[0m \u001b[1m0s\u001b[0m 13ms/step - loss: 2.0749\n",
      "Epoch 78/100\n",
      "\u001b[1m1/1\u001b[0m \u001b[32m━━━━━━━━━━━━━━━━━━━━\u001b[0m\u001b[37m\u001b[0m \u001b[1m0s\u001b[0m 12ms/step - loss: 2.0729\n",
      "Epoch 79/100\n",
      "\u001b[1m1/1\u001b[0m \u001b[32m━━━━━━━━━━━━━━━━━━━━\u001b[0m\u001b[37m\u001b[0m \u001b[1m0s\u001b[0m 13ms/step - loss: 2.0709\n",
      "Epoch 80/100\n",
      "\u001b[1m1/1\u001b[0m \u001b[32m━━━━━━━━━━━━━━━━━━━━\u001b[0m\u001b[37m\u001b[0m \u001b[1m0s\u001b[0m 14ms/step - loss: 2.0689\n",
      "Epoch 81/100\n",
      "\u001b[1m1/1\u001b[0m \u001b[32m━━━━━━━━━━━━━━━━━━━━\u001b[0m\u001b[37m\u001b[0m \u001b[1m0s\u001b[0m 13ms/step - loss: 2.0669\n",
      "Epoch 82/100\n",
      "\u001b[1m1/1\u001b[0m \u001b[32m━━━━━━━━━━━━━━━━━━━━\u001b[0m\u001b[37m\u001b[0m \u001b[1m0s\u001b[0m 14ms/step - loss: 2.0648\n",
      "Epoch 83/100\n",
      "\u001b[1m1/1\u001b[0m \u001b[32m━━━━━━━━━━━━━━━━━━━━\u001b[0m\u001b[37m\u001b[0m \u001b[1m0s\u001b[0m 12ms/step - loss: 2.0628\n",
      "Epoch 84/100\n",
      "\u001b[1m1/1\u001b[0m \u001b[32m━━━━━━━━━━━━━━━━━━━━\u001b[0m\u001b[37m\u001b[0m \u001b[1m0s\u001b[0m 13ms/step - loss: 2.0607\n",
      "Epoch 85/100\n",
      "\u001b[1m1/1\u001b[0m \u001b[32m━━━━━━━━━━━━━━━━━━━━\u001b[0m\u001b[37m\u001b[0m \u001b[1m0s\u001b[0m 13ms/step - loss: 2.0587\n",
      "Epoch 86/100\n",
      "\u001b[1m1/1\u001b[0m \u001b[32m━━━━━━━━━━━━━━━━━━━━\u001b[0m\u001b[37m\u001b[0m \u001b[1m0s\u001b[0m 13ms/step - loss: 2.0566\n",
      "Epoch 87/100\n",
      "\u001b[1m1/1\u001b[0m \u001b[32m━━━━━━━━━━━━━━━━━━━━\u001b[0m\u001b[37m\u001b[0m \u001b[1m0s\u001b[0m 13ms/step - loss: 2.0545\n",
      "Epoch 88/100\n",
      "\u001b[1m1/1\u001b[0m \u001b[32m━━━━━━━━━━━━━━━━━━━━\u001b[0m\u001b[37m\u001b[0m \u001b[1m0s\u001b[0m 13ms/step - loss: 2.0524\n",
      "Epoch 89/100\n",
      "\u001b[1m1/1\u001b[0m \u001b[32m━━━━━━━━━━━━━━━━━━━━\u001b[0m\u001b[37m\u001b[0m \u001b[1m0s\u001b[0m 12ms/step - loss: 2.0503\n",
      "Epoch 90/100\n",
      "\u001b[1m1/1\u001b[0m \u001b[32m━━━━━━━━━━━━━━━━━━━━\u001b[0m\u001b[37m\u001b[0m \u001b[1m0s\u001b[0m 12ms/step - loss: 2.0482\n",
      "Epoch 91/100\n",
      "\u001b[1m1/1\u001b[0m \u001b[32m━━━━━━━━━━━━━━━━━━━━\u001b[0m\u001b[37m\u001b[0m \u001b[1m0s\u001b[0m 20ms/step - loss: 2.0461\n",
      "Epoch 92/100\n",
      "\u001b[1m1/1\u001b[0m \u001b[32m━━━━━━━━━━━━━━━━━━━━\u001b[0m\u001b[37m\u001b[0m \u001b[1m0s\u001b[0m 33ms/step - loss: 2.0440\n",
      "Epoch 93/100\n",
      "\u001b[1m1/1\u001b[0m \u001b[32m━━━━━━━━━━━━━━━━━━━━\u001b[0m\u001b[37m\u001b[0m \u001b[1m0s\u001b[0m 18ms/step - loss: 2.0418\n",
      "Epoch 94/100\n",
      "\u001b[1m1/1\u001b[0m \u001b[32m━━━━━━━━━━━━━━━━━━━━\u001b[0m\u001b[37m\u001b[0m \u001b[1m0s\u001b[0m 13ms/step - loss: 2.0397\n",
      "Epoch 95/100\n",
      "\u001b[1m1/1\u001b[0m \u001b[32m━━━━━━━━━━━━━━━━━━━━\u001b[0m\u001b[37m\u001b[0m \u001b[1m0s\u001b[0m 13ms/step - loss: 2.0375\n",
      "Epoch 96/100\n",
      "\u001b[1m1/1\u001b[0m \u001b[32m━━━━━━━━━━━━━━━━━━━━\u001b[0m\u001b[37m\u001b[0m \u001b[1m0s\u001b[0m 12ms/step - loss: 2.0354\n",
      "Epoch 97/100\n",
      "\u001b[1m1/1\u001b[0m \u001b[32m━━━━━━━━━━━━━━━━━━━━\u001b[0m\u001b[37m\u001b[0m \u001b[1m0s\u001b[0m 12ms/step - loss: 2.0332\n",
      "Epoch 98/100\n",
      "\u001b[1m1/1\u001b[0m \u001b[32m━━━━━━━━━━━━━━━━━━━━\u001b[0m\u001b[37m\u001b[0m \u001b[1m0s\u001b[0m 14ms/step - loss: 2.0310\n",
      "Epoch 99/100\n",
      "\u001b[1m1/1\u001b[0m \u001b[32m━━━━━━━━━━━━━━━━━━━━\u001b[0m\u001b[37m\u001b[0m \u001b[1m0s\u001b[0m 13ms/step - loss: 2.0288\n",
      "Epoch 100/100\n",
      "\u001b[1m1/1\u001b[0m \u001b[32m━━━━━━━━━━━━━━━━━━━━\u001b[0m\u001b[37m\u001b[0m \u001b[1m0s\u001b[0m 13ms/step - loss: 2.0266\n",
      "Word: I, Embedding: [ 0.04179852 -0.05503619 -0.03690698  0.14329219  0.14441492  0.02481858\n",
      " -0.08013722  0.13083114  0.07031725 -0.00922631]\n",
      "Word: love, Embedding: [ 0.04471997  0.02297444 -0.03862663 -0.09237766 -0.11586007  0.07101266\n",
      "  0.03994378 -0.04936167 -0.19886659  0.15150842]\n",
      "Word: machine, Embedding: [ 0.00642037  0.14614221  0.11018541 -0.09382837 -0.11166429  0.18586978\n",
      " -0.03379267 -0.12093896 -0.19495416  0.12135492]\n",
      "Word: learning, Embedding: [ 0.03720881 -0.04479331  0.05511292  0.01485922  0.02951464 -0.11864297\n",
      " -0.01588833  0.13727772 -0.03146992 -0.0806411 ]\n",
      "Word: like, Embedding: [-0.10613234  0.09435546 -0.04805003 -0.07089637 -0.05356945 -0.02688259\n",
      "  0.002924   -0.02492755  0.02050149  0.21604791]\n",
      "Word: deep, Embedding: [-0.1775641  -0.0384166   0.09913843 -0.1328619  -0.21739314  0.03530042\n",
      " -0.07501421 -0.10369767  0.01684339  0.04352416]\n",
      "Word: enjoy, Embedding: [-0.02138938 -0.03916739 -0.05987211 -0.09373026  0.03813006  0.04141821\n",
      "  0.21827488  0.00871637  0.02731752  0.04586361]\n",
      "Word: neural, Embedding: [-0.14466318  0.00095488 -0.0491753  -0.04177718 -0.01126922 -0.00512656\n",
      "  0.05292051 -0.09802009  0.05748071 -0.00683299]\n",
      "Word: networks, Embedding: [ 0.01447293  0.16471747 -0.1266926   0.1282107   0.1647343   0.15782495\n",
      " -0.03357789  0.07256867  0.09631187 -0.03019819]\n"
     ]
    }
   ],
   "source": [
    "# Training of Skip-gram model\n",
    "# source: https://colab.research.google.com/drive/1IxAnnFSqk3mL3A8n1PKYWdEzDSd2Y9rF?usp=sharing#scrollTo=13xBa01XEnpb\n",
    "\n",
    "import numpy as np\n",
    "import tensorflow as tf\n",
    "from keras.preprocessing import sequence\n",
    "from keras.models import Sequential\n",
    "from keras.layers import Embedding, Dense, Flatten\n",
    "\n",
    "# Set up the training data\n",
    "sentences = [[\"I\", \"love\", \"machine\", \"learning\"],\n",
    "             [\"I\", \"like\", \"deep\", \"learning\"],\n",
    "             [\"I\", \"enjoy\", \"neural\", \"networks\"]]\n",
    "\n",
    "# Create the skip-gram dataset\n",
    "skip_gram_pairs = []\n",
    "window_size = 2\n",
    "\n",
    "for sentence in sentences:\n",
    "    for i in range(len(sentence)):\n",
    "        target_word = sentence[i]\n",
    "        for j in range(i - window_size, i + window_size + 1):\n",
    "            if j >= 0 and j < len(sentence) and j != i:\n",
    "                context_word = sentence[j]\n",
    "                skip_gram_pairs.append((target_word, context_word))\n",
    "\n",
    "# Create word-to-index and index-to-word mappings\n",
    "word_to_index = {}\n",
    "index_to_word = {}\n",
    "index = 0\n",
    "\n",
    "for sentence in sentences:\n",
    "    for word in sentence:\n",
    "        if word not in word_to_index:\n",
    "            word_to_index[word] = index\n",
    "            index_to_word[index] = word\n",
    "            index += 1\n",
    "\n",
    "# Convert skip-gram pairs to indices\n",
    "skip_gram_pairs_indices = []\n",
    "for pair in skip_gram_pairs:\n",
    "    target_index = word_to_index[pair[0]]\n",
    "    context_index = word_to_index[pair[1]]\n",
    "    skip_gram_pairs_indices.append((target_index, context_index))\n",
    "\n",
    "# Define the model\n",
    "vocab_size = len(word_to_index)\n",
    "embedding_dim = 10\n",
    "\n",
    "model = Sequential()\n",
    "model.add(Embedding(vocab_size, embedding_dim, input_length=1))\n",
    "model.add(Flatten())\n",
    "model.add(Dense(vocab_size, activation='softmax'))\n",
    "\n",
    "# Compile and train the model\n",
    "model.compile(loss='categorical_crossentropy', optimizer='adam')\n",
    "target_words = []\n",
    "context_words = []\n",
    "\n",
    "for pair in skip_gram_pairs_indices:\n",
    "    target_words.append(pair[0])\n",
    "    context_words.append(pair[1])\n",
    "\n",
    "target_words = np.array(target_words)\n",
    "context_words = np.array(context_words)\n",
    "\n",
    "model.fit(target_words, tf.keras.utils.to_categorical(context_words, num_classes=vocab_size), epochs=100)\n",
    "\n",
    "# Get the word embeddings\n",
    "embeddings = model.get_weights()[0]\n",
    "\n",
    "# Print the word embeddings\n",
    "for i in range(vocab_size):\n",
    "    word = index_to_word[i]\n",
    "    embedding = embeddings[i]\n",
    "    print(f\"Word: {word}, Embedding: {embedding}\")"
   ]
  },
  {
   "cell_type": "markdown",
   "id": "ccd764d9-3293-4465-a9bc-4277b0b412eb",
   "metadata": {},
   "source": [
    "### Pretrained embeddings: GloVe\n",
    "\n",
    "https://nlp.stanford.edu/projects/glove/\n",
    "\n",
    "https://medium.com/analytics-vidhya/basics-of-using-pre-trained-glove-vectors-in-python-d38905f356db"
   ]
  },
  {
   "cell_type": "code",
   "execution_count": 41,
   "id": "01e0e0c4-af44-4d2b-a666-1eb567f137c0",
   "metadata": {},
   "outputs": [],
   "source": [
    "embeddings_dict = {}\n",
    "with open(\"glove.6B.50d.txt\", 'r', encoding=\"utf-8\") as f:\n",
    "    for line in f:\n",
    "        values = line.split()\n",
    "        word = values[0]\n",
    "        vector = np.asarray(values[1:], \"float32\")\n",
    "        embeddings_dict[word] = vector"
   ]
  },
  {
   "cell_type": "code",
   "execution_count": 42,
   "id": "cd841a5f-b524-4450-a8db-49dbe79c0edf",
   "metadata": {},
   "outputs": [
    {
     "data": {
      "text/plain": [
       "50"
      ]
     },
     "execution_count": 42,
     "metadata": {},
     "output_type": "execute_result"
    }
   ],
   "source": [
    "len(embeddings_dict[\"the\"])"
   ]
  },
  {
   "cell_type": "code",
   "execution_count": 43,
   "id": "4fb95a00-fcbc-40d3-8777-3ad8fd2858e0",
   "metadata": {},
   "outputs": [],
   "source": [
    "import numpy as np\n",
    "from scipy import spatial\n",
    "import matplotlib.pyplot as plt\n",
    "from sklearn.manifold import TSNE\n",
    "\n",
    "def find_closest_embeddings(embedding):\n",
    "    return sorted(embeddings_dict.keys(), key=lambda word: spatial.distance.euclidean(embeddings_dict[word], embedding))\n"
   ]
  },
  {
   "cell_type": "code",
   "execution_count": 44,
   "id": "27818c52-06a9-4eae-b205-abfdc64242a1",
   "metadata": {},
   "outputs": [
    {
     "data": {
      "text/plain": [
       "['prince',\n",
       " 'queen',\n",
       " 'uncle',\n",
       " 'ii',\n",
       " 'grandson',\n",
       " 'brother',\n",
       " 'kingdom',\n",
       " 'son',\n",
       " 'nephew']"
      ]
     },
     "execution_count": 44,
     "metadata": {},
     "output_type": "execute_result"
    }
   ],
   "source": [
    "find_closest_embeddings(embeddings_dict[\"king\"])[1:10]"
   ]
  },
  {
   "cell_type": "code",
   "execution_count": 45,
   "id": "7c4b78bd-400e-4a7d-9245-3229e6adea7a",
   "metadata": {},
   "outputs": [
    {
     "data": {
      "text/plain": [
       "['queen', 'prince', 'elizabeth', 'daughter']"
      ]
     },
     "execution_count": 45,
     "metadata": {},
     "output_type": "execute_result"
    }
   ],
   "source": [
    "find_closest_embeddings(\n",
    "        embeddings_dict[\"king\"] - embeddings_dict[\"man\"] + embeddings_dict[\"woman\"]\n",
    ")[1:5]"
   ]
  },
  {
   "cell_type": "code",
   "execution_count": 46,
   "id": "018832a5-b9b4-4e1a-ae82-603791a443b7",
   "metadata": {},
   "outputs": [
    {
     "data": {
      "text/plain": [
       "['kharkiv', 'bucharest', 'ukraine', 'prague', 'lviv', 'vladivostok']"
      ]
     },
     "execution_count": 46,
     "metadata": {},
     "output_type": "execute_result"
    }
   ],
   "source": [
    "find_closest_embeddings(\n",
    "        embeddings_dict[\"ukraine\"] - embeddings_dict[\"country\"] + embeddings_dict[\"city\"]\n",
    ")[1:7]"
   ]
  },
  {
   "cell_type": "code",
   "execution_count": 47,
   "id": "33b6ccfe-5a57-4766-829e-05841aeeb910",
   "metadata": {},
   "outputs": [
    {
     "data": {
      "text/plain": [
       "['munich', 'hamburg', 'berlin', 'stuttgart']"
      ]
     },
     "execution_count": 47,
     "metadata": {},
     "output_type": "execute_result"
    }
   ],
   "source": [
    "find_closest_embeddings(\n",
    "        embeddings_dict[\"germany\"] - embeddings_dict[\"country\"] + embeddings_dict[\"city\"]\n",
    ")[1:5]"
   ]
  },
  {
   "cell_type": "code",
   "execution_count": 48,
   "id": "a04c21bb-3d75-43d9-8f81-cfc274917b9a",
   "metadata": {},
   "outputs": [
    {
     "data": {
      "text/plain": [
       "['frog', 'shark', 'cat', 'scaredy']"
      ]
     },
     "execution_count": 48,
     "metadata": {},
     "output_type": "execute_result"
    }
   ],
   "source": [
    "find_closest_embeddings(\n",
    "        embeddings_dict[\"cat\"] - embeddings_dict[\"home\"] + embeddings_dict[\"wild\"]\n",
    ")[1:5]"
   ]
  },
  {
   "cell_type": "code",
   "execution_count": 49,
   "id": "37bcfd54-17f1-4656-ad4f-b870708f0474",
   "metadata": {},
   "outputs": [
    {
     "data": {
      "text/plain": [
       "['berlin', 'cologne', 'stuttgart', 'hamburg']"
      ]
     },
     "execution_count": 49,
     "metadata": {},
     "output_type": "execute_result"
    }
   ],
   "source": [
    "find_closest_embeddings(\n",
    "        embeddings_dict[\"kiev\"] - embeddings_dict[\"ukraine\"] + embeddings_dict[\"germany\"]\n",
    ")[1:5]"
   ]
  },
  {
   "cell_type": "code",
   "execution_count": 50,
   "id": "0d8c60ee-fcd0-4878-afa1-c8c359ac12d5",
   "metadata": {},
   "outputs": [
    {
     "data": {
      "text/plain": [
       "['fish', 'tree', 'animal', 'bird']"
      ]
     },
     "execution_count": 50,
     "metadata": {},
     "output_type": "execute_result"
    }
   ],
   "source": [
    "find_closest_embeddings(\n",
    "        embeddings_dict[\"bird\"] - embeddings_dict[\"air\"] + embeddings_dict[\"water\"]\n",
    ")[1:5]"
   ]
  },
  {
   "cell_type": "code",
   "execution_count": 51,
   "id": "1a2ba7f9-3571-43b7-9c11-7375ff5d5d30",
   "metadata": {},
   "outputs": [
    {
     "data": {
      "text/plain": [
       "['window', 'boxes', 'cardboard', 'kitchen']"
      ]
     },
     "execution_count": 51,
     "metadata": {},
     "output_type": "execute_result"
    }
   ],
   "source": [
    "find_closest_embeddings(\n",
    "        embeddings_dict[\"windows\"] - embeddings_dict[\"microsoft\"] + embeddings_dict[\"apple\"]\n",
    ")[1:5]"
   ]
  },
  {
   "cell_type": "code",
   "execution_count": 52,
   "id": "569d1268-3d6a-4f23-98c4-48e16936b9b9",
   "metadata": {},
   "outputs": [
    {
     "name": "stdout",
     "output_type": "stream",
     "text": [
      "[[ 3.93333286e-03 -5.56961149e-02 -1.51158884e-01 -8.01386535e-02\n",
      "   2.62414455e-01  2.65154570e-01 -6.12281084e-01 -1.40996873e-01\n",
      "   1.06377952e-01 -2.16462210e-01 -2.38425493e-01  7.30807930e-02\n",
      "  -1.64806664e-01  3.09114337e-01  1.57798350e-01 -6.94216192e-02\n",
      "   1.78868115e-01 -1.32255793e-01 -7.85085559e-01 -4.17248875e-01\n",
      "  -1.32401779e-01  1.65824682e-01  3.64152253e-01 -3.08002103e-02\n",
      "   2.25197762e-01 -1.31351554e+00 -2.78055459e-01  3.85458469e-01\n",
      "   2.17421904e-01 -2.93188900e-01  2.54780030e+00  1.99565783e-01\n",
      "  -2.43751451e-01  1.56158879e-01 -5.66335246e-02 -8.68625939e-02\n",
      "  -6.80229962e-02 -5.18795587e-02  4.77540046e-02 -5.02376258e-01\n",
      "  -1.74325123e-01  2.78969586e-01 -3.80953640e-01  1.35261834e-01\n",
      "   6.03322200e-02 -2.30638877e-01  2.00752199e-01 -2.52908647e-01\n",
      "   2.02769995e-01  2.08803758e-01]\n",
      " [ 2.36912698e-01  1.68052867e-01 -1.12418585e-01 -1.55812399e-02\n",
      "   5.00544429e-01 -2.33434305e-01 -4.30075705e-01 -9.83011276e-02\n",
      "   7.15592280e-02 -6.65108562e-01 -1.07579999e-01 -1.20228566e-01\n",
      "  -1.95392873e-02  3.24335277e-01 -2.52727102e-02  3.27572286e-01\n",
      "  -2.08199993e-01  5.98585531e-02 -4.92512494e-01 -3.87868583e-01\n",
      "   4.96182963e-02  4.81428858e-03 -3.26679975e-01 -3.71014290e-02\n",
      "   6.13351390e-02 -1.21027780e+00 -2.57116973e-01  7.06433177e-01\n",
      "   4.43645716e-02 -4.47328568e-01  2.54742742e+00 -3.55542868e-01\n",
      "  -2.02627569e-01 -1.22742914e-03  2.11830139e-02  2.87289947e-01\n",
      "   3.28147143e-01 -1.68568581e-01  2.99084574e-01 -2.80880719e-01\n",
      "  -8.79058614e-02  6.91275671e-02 -3.19621414e-01  1.39946863e-01\n",
      "  -1.69257715e-01  1.17459998e-01  4.52997535e-01 -6.85277164e-01\n",
      "   8.53685010e-03 -4.34977114e-01]\n",
      " [ 1.80351421e-01 -1.57721415e-01 -4.10581440e-01 -1.73037127e-01\n",
      "   2.71098882e-01 -1.47605622e-02 -5.73464274e-01  5.16544320e-02\n",
      "  -1.10442467e-01 -3.63351405e-01 -1.76354617e-01 -1.04131445e-01\n",
      "  -1.32530004e-01  1.53000563e-01  3.57114464e-01 -1.66694015e-01\n",
      "  -2.57628590e-01  1.47102833e-01 -7.80875742e-01 -3.78681421e-01\n",
      "   7.18268603e-02  1.18127160e-01  2.79368579e-01  1.03797995e-01\n",
      "   3.12695324e-01 -1.47314286e+00 -5.17289996e-01  3.59631568e-01\n",
      "  -2.63552833e-02 -5.81236541e-01  2.38654852e+00  1.84547141e-01\n",
      "  -2.14964867e-01 -6.50027618e-02 -2.47154668e-01 -5.07351719e-02\n",
      "   2.10186988e-01 -2.36127138e-01 -1.50210196e-02  6.23562820e-02\n",
      "  -2.21840858e-01  1.87171832e-01 -5.31293750e-01  1.35443717e-01\n",
      "   1.84008583e-01  5.44654243e-02  3.99140269e-03 -4.28583711e-01\n",
      "  -2.56148994e-01 -1.31904274e-01]\n",
      " [ 6.43719316e-01  1.89265326e-01 -5.41217148e-01 -3.80465001e-01\n",
      "   5.97667694e-01  4.87293333e-01 -7.03743398e-01 -5.50733805e-01\n",
      "   2.71543354e-01 -3.12434018e-01  9.29925069e-02 -1.44395046e-02\n",
      "   6.34125054e-01  2.04716682e-01  1.85876667e-01  6.18659891e-02\n",
      "   3.17485839e-01 -4.53605056e-02 -7.21236706e-01 -4.15625662e-01\n",
      "  -2.68190175e-01 -1.20615005e-01  1.88975170e-01 -1.06648348e-01\n",
      "   2.19862506e-01 -8.82008314e-01 -3.35828334e-01  2.65553325e-01\n",
      "  -4.40767147e-02 -4.72534984e-01  2.45600510e+00  2.98333317e-01\n",
      "  -1.17135048e-02  6.59450144e-02 -2.28664681e-01  1.70067344e-02\n",
      "  -1.31604984e-01 -2.21960042e-02 -2.25332635e-03  6.08766126e-03\n",
      "  -3.01526666e-01  8.57399926e-02  4.82995100e-02  2.96744019e-01\n",
      "   3.44345182e-01 -7.52132758e-03 -1.08648337e-01 -4.57882017e-01\n",
      "  -2.02555671e-01 -3.38949472e-01]]\n"
     ]
    }
   ],
   "source": [
    "# Sample corpus\n",
    "corpus = [\n",
    "    \"The quick brown fox jumps over the lazy dog\",\n",
    "    \"The cat sits on the window sill\",\n",
    "    \"The dog barks loudly in the night\",\n",
    "    \"Birds of a feather flock together\"\n",
    "]\n",
    "\n",
    "embeddings = np.zeros((len(corpus), 50))\n",
    "\n",
    "for i in range(len(corpus)):\n",
    "    # Tokenize the text\n",
    "    tokens = word_tokenize(corpus[i].lower())\n",
    "    \n",
    "    # Encode the text\n",
    "    word_vectors = [embeddings_dict[word] for word in tokens if word in embeddings_dict]\n",
    "    \n",
    "    # Average the word vectors to get the text encoding\n",
    "    if word_vectors:\n",
    "        encoded_text = np.mean(word_vectors, axis=0)\n",
    "    else:\n",
    "        encoded_text = np.zeros(model.vector_size)  # Default encoding for empty text\n",
    "    embeddings[i] = encoded_text\n",
    "\n",
    "print(embeddings)"
   ]
  },
  {
   "cell_type": "code",
   "execution_count": 53,
   "id": "a831bef8-22e8-457f-a890-b7bce412a1a7",
   "metadata": {},
   "outputs": [
    {
     "name": "stdout",
     "output_type": "stream",
     "text": [
      "Text: The quick brown fox jumps over the lazy dog, \n",
      "The cat sits on the window sill\n",
      "Cosine Similarity: 0.85.\n",
      "\n",
      "Text: The quick brown fox jumps over the lazy dog, \n",
      "The dog barks loudly in the night\n",
      "Cosine Similarity: 0.91.\n",
      "\n",
      "Text: The quick brown fox jumps over the lazy dog, \n",
      "Birds of a feather flock together\n",
      "Cosine Similarity: 0.84.\n",
      "\n",
      "Text: The cat sits on the window sill, \n",
      "The dog barks loudly in the night\n",
      "Cosine Similarity: 0.87.\n",
      "\n",
      "Text: The cat sits on the window sill, \n",
      "Birds of a feather flock together\n",
      "Cosine Similarity: 0.79.\n",
      "\n",
      "Text: The dog barks loudly in the night, \n",
      "Birds of a feather flock together\n",
      "Cosine Similarity: 0.84.\n",
      "\n"
     ]
    }
   ],
   "source": [
    "cos_sim = cosine_similarity(embeddings)\n",
    "for i in range(len(corpus)):\n",
    "    for j in range(i + 1, len(corpus)):\n",
    "        print(f'Text: {corpus[i]}, \\n{corpus[j]}\\nCosine Similarity: {cos_sim[i, j]:.2f}.\\n')\n"
   ]
  },
  {
   "cell_type": "code",
   "execution_count": 54,
   "id": "a85e0dbb-bcca-41be-86b8-3b8b5a6e6dcb",
   "metadata": {},
   "outputs": [
    {
     "data": {
      "image/png": "[encoded data removed]",
      "text/plain": [
       "<Figure size 1500x1000 with 6 Axes>"
      ]
     },
     "metadata": {},
     "output_type": "display_data"
    }
   ],
   "source": [
    "# Perform PCA to reduce dimensions to 2 for visualization\n",
    "pca = PCA(n_components=2)\n",
    "matrix_pca = pca.fit_transform(embeddings)\n",
    "# Compute cosine similarity\n",
    "cos_sim = cosine_similarity(matrix_pca)\n",
    "\n",
    "\n",
    "# Plot one graph per pair of text\n",
    "num_pairs = len(corpus) * (len(corpus) - 1) // 2\n",
    "plt.figure(figsize=(15, 10))\n",
    "subplot_index = 1\n",
    "for i in range(len(corpus)):\n",
    "    for j in range(i + 1, len(corpus)):\n",
    "        plt.subplot(2, num_pairs // 2, subplot_index)\n",
    "        plt.scatter(matrix_pca[:, 0], matrix_pca[:, 1])\n",
    "        plt.plot([0, matrix_pca[i, 0]], \n",
    "                 [0, matrix_pca[i, 1]], \n",
    "                 linestyle='-', color='blue', alpha=0.5)\n",
    "        plt.plot([0, matrix_pca[j, 0]], \n",
    "                 [0, matrix_pca[j, 1]], \n",
    "                 linestyle='-', color='red', alpha=0.5)\n",
    "        plt.xlabel('Principal Component 1')\n",
    "        plt.ylabel('Principal Component 2')\n",
    "        plt.title(f'Cosine Similarity: {cos_sim[i, j]:.2f}.\\nText: {corpus[i]}, \\n{corpus[j]}')\n",
    "        plt.xticks(np.arange(-0.5, 1.5, 0.5))\n",
    "        plt.yticks(np.arange(-0.5, 1.5, 0.5))\n",
    "        subplot_index += 1\n",
    "plt.tight_layout()\n",
    "plt.show()"
   ]
  },
  {
   "cell_type": "code",
   "execution_count": 55,
   "id": "dc8467a5-ef7d-4c07-9cf9-c2dddaef851a",
   "metadata": {},
   "outputs": [],
   "source": [
    "# Training Glove Embeddings\n",
    "# Source: https://colab.research.google.com/drive/1IxAnnFSqk3mL3A8n1PKYWdEzDSd2Y9rF?usp=sharing#scrollTo=DpONsaktz-8w\n",
    "# https://medium.com/nerd-for-tech/implementing-glove-from-scratch-word-embedding-for-transformers-95503138d65\n",
    "# \n",
    "import numpy as np\n",
    "from collections import defaultdict\n",
    "\n",
    "corpus = [\n",
    "    \"I love chocolate\",\n",
    "    \"I love ice cream\",\n",
    "    \"I enjoy playing tennis\"\n",
    "]\n",
    "# Initialize vocabulary and co-occurrence matrix\n",
    "vocab = set()\n",
    "co_occurrence = defaultdict(float)\n",
    "\n",
    "window_size = 4\n",
    "# Iterate through the corpus to build vocabulary and co-occurrence matrix\n",
    "for sentence in corpus:\n",
    "    words = sentence.split()\n",
    "    for i in range(len(words)):\n",
    "        word = words[i]\n",
    "        vocab.add(word)\n",
    "        for j in range(max(0, i - window_size), min(i + window_size + 1, len(words))):\n",
    "            if i != j:\n",
    "                co_occurrence[(word, words[j])] += 1.0 / abs(i - j)"
   ]
  },
  {
   "cell_type": "code",
   "execution_count": 56,
   "id": "d7df9ca0-06d9-4ad3-98d8-b883abeff83e",
   "metadata": {},
   "outputs": [
    {
     "data": {
      "text/plain": [
       "defaultdict(float,\n",
       "            {('I', 'love'): 2.0,\n",
       "             ('I', 'chocolate'): 0.5,\n",
       "             ('love', 'I'): 2.0,\n",
       "             ('love', 'chocolate'): 1.0,\n",
       "             ('chocolate', 'I'): 0.5,\n",
       "             ('chocolate', 'love'): 1.0,\n",
       "             ('I', 'ice'): 0.5,\n",
       "             ('I', 'cream'): 0.3333333333333333,\n",
       "             ('love', 'ice'): 1.0,\n",
       "             ('love', 'cream'): 0.5,\n",
       "             ('ice', 'I'): 0.5,\n",
       "             ('ice', 'love'): 1.0,\n",
       "             ('ice', 'cream'): 1.0,\n",
       "             ('cream', 'I'): 0.3333333333333333,\n",
       "             ('cream', 'love'): 0.5,\n",
       "             ('cream', 'ice'): 1.0,\n",
       "             ('I', 'enjoy'): 1.0,\n",
       "             ('I', 'playing'): 0.5,\n",
       "             ('I', 'tennis'): 0.3333333333333333,\n",
       "             ('enjoy', 'I'): 1.0,\n",
       "             ('enjoy', 'playing'): 1.0,\n",
       "             ('enjoy', 'tennis'): 0.5,\n",
       "             ('playing', 'I'): 0.5,\n",
       "             ('playing', 'enjoy'): 1.0,\n",
       "             ('playing', 'tennis'): 1.0,\n",
       "             ('tennis', 'I'): 0.3333333333333333,\n",
       "             ('tennis', 'enjoy'): 0.5,\n",
       "             ('tennis', 'playing'): 1.0})"
      ]
     },
     "execution_count": 56,
     "metadata": {},
     "output_type": "execute_result"
    }
   ],
   "source": [
    "co_occurrence"
   ]
  },
  {
   "cell_type": "code",
   "execution_count": 57,
   "id": "23c9c9f9-5021-4413-82c0-6e062f6b4488",
   "metadata": {},
   "outputs": [
    {
     "name": "stdout",
     "output_type": "stream",
     "text": [
      "Epoch: 1, Loss: 39.365947488606075\n",
      "Epoch: 2, Loss: 1.9149512669286366\n",
      "Epoch: 3, Loss: 0.49729823369629306\n",
      "Epoch: 4, Loss: 0.25626873443404424\n",
      "Epoch: 5, Loss: 0.13492074153584865\n",
      "Epoch: 6, Loss: 0.07177637909791297\n",
      "Epoch: 7, Loss: 0.03832690340729321\n",
      "Epoch: 8, Loss: 0.020553047101204078\n",
      "Epoch: 9, Loss: 0.01105695330310373\n",
      "Epoch: 10, Loss: 0.005964461491108246\n",
      "Epoch: 11, Loss: 0.003224560499356721\n",
      "Epoch: 12, Loss: 0.00174644192321435\n",
      "Epoch: 13, Loss: 0.0009472667935481374\n",
      "Epoch: 14, Loss: 0.000514401049957583\n",
      "Epoch: 15, Loss: 0.00027960351566206845\n",
      "Epoch: 16, Loss: 0.00015209464804903544\n",
      "Epoch: 17, Loss: 8.278487613824698e-05\n",
      "Epoch: 18, Loss: 4.508188371981712e-05\n",
      "Epoch: 19, Loss: 2.4559851046221176e-05\n",
      "Epoch: 20, Loss: 1.3384094683046167e-05\n",
      "Epoch: 21, Loss: 7.295674906856275e-06\n",
      "Epoch: 22, Loss: 3.977718221339067e-06\n",
      "Epoch: 23, Loss: 2.169090455176518e-06\n",
      "Epoch: 24, Loss: 1.1829946240660753e-06\n",
      "Epoch: 25, Loss: 6.4526531540145e-07\n",
      "Epoch: 26, Loss: 3.5199410698314477e-07\n",
      "Epoch: 27, Loss: 1.9202896276693246e-07\n",
      "Epoch: 28, Loss: 1.0476746653141829e-07\n",
      "Epoch: 29, Loss: 5.71622976026981e-08\n",
      "Epoch: 30, Loss: 3.1189791664456014e-08\n",
      "Epoch: 31, Loss: 1.7018903243691558e-08\n",
      "Epoch: 32, Loss: 9.286760990914659e-09\n",
      "Epoch: 33, Loss: 5.067670178065845e-09\n",
      "Epoch: 34, Loss: 2.765425346382882e-09\n",
      "Epoch: 35, Loss: 1.5091191224167635e-09\n",
      "Epoch: 36, Loss: 8.235534852174966e-10\n",
      "Epoch: 37, Loss: 4.494338000766519e-10\n",
      "Epoch: 38, Loss: 2.452699777446413e-10\n",
      "Epoch: 39, Loss: 1.338526712556177e-10\n",
      "Epoch: 40, Loss: 7.3048794877079e-11\n",
      "Epoch: 41, Loss: 3.9865930264797933e-11\n",
      "Epoch: 42, Loss: 2.1756705880884628e-11\n",
      "Epoch: 43, Loss: 1.1873708887338966e-11\n",
      "Epoch: 44, Loss: 6.4800947594755555e-12\n",
      "Epoch: 45, Loss: 3.5365333323983494e-12\n",
      "Epoch: 46, Loss: 1.9300802676800255e-12\n",
      "Epoch: 47, Loss: 1.053353184807596e-12\n",
      "Epoch: 48, Loss: 5.748751375706303e-13\n",
      "Epoch: 49, Loss: 3.137428035018568e-13\n",
      "Epoch: 50, Loss: 1.71227944124671e-13\n",
      "Epoch: 51, Loss: 9.344929644025827e-14\n",
      "Epoch: 52, Loss: 5.100090380957096e-14\n",
      "Epoch: 53, Loss: 2.783428632923266e-14\n",
      "Epoch: 54, Loss: 1.5190869355608188e-14\n",
      "Epoch: 55, Loss: 8.290590110801438e-15\n",
      "Epoch: 56, Loss: 4.5246863561419594e-15\n",
      "Epoch: 57, Loss: 2.4694013782249154e-15\n",
      "Epoch: 58, Loss: 1.3477057477282979e-15\n",
      "Epoch: 59, Loss: 7.355269964073766e-16\n",
      "Epoch: 60, Loss: 4.0142302047159907e-16\n",
      "Epoch: 61, Loss: 2.1908164060783809e-16\n",
      "Epoch: 62, Loss: 1.1956658213517272e-16\n",
      "Epoch: 63, Loss: 6.52549955180485e-17\n",
      "Epoch: 64, Loss: 3.5613760116779507e-17\n",
      "Epoch: 65, Loss: 1.9436671379714152e-17\n",
      "Epoch: 66, Loss: 1.0607814421227417e-17\n",
      "Epoch: 67, Loss: 5.789355458500008e-18\n",
      "Epoch: 68, Loss: 3.15961987814023e-18\n",
      "Epoch: 69, Loss: 1.724402555155644e-18\n",
      "Epoch: 70, Loss: 9.411159865724113e-19\n",
      "Epoch: 71, Loss: 5.136260110335183e-19\n",
      "Epoch: 72, Loss: 2.803174914599169e-19\n",
      "Epoch: 73, Loss: 1.5298647214129154e-19\n",
      "Epoch: 74, Loss: 8.34947417453108e-20\n",
      "Epoch: 75, Loss: 4.5568601698211426e-20\n",
      "Epoch: 76, Loss: 2.4870077296994716e-20\n",
      "Epoch: 77, Loss: 1.3573512036531658e-20\n",
      "Epoch: 78, Loss: 7.408024029658434e-21\n",
      "Epoch: 79, Loss: 4.042901632715497e-21\n",
      "Epoch: 80, Loss: 2.2064506194726375e-21\n",
      "Epoch: 81, Loss: 1.2042277118732385e-21\n",
      "Epoch: 82, Loss: 6.572635616298342e-22\n",
      "Epoch: 83, Loss: 3.587095547178655e-22\n",
      "Epoch: 84, Loss: 1.9578043924531158e-22\n",
      "Epoch: 85, Loss: 1.0685122880099646e-22\n",
      "Epoch: 86, Loss: 5.830584298283517e-23\n",
      "Epoch: 87, Loss: 3.181678000102195e-23\n",
      "Epoch: 88, Loss: 1.736041676658603e-23\n",
      "Epoch: 89, Loss: 9.476668025465122e-24\n",
      "Epoch: 90, Loss: 5.173097035823079e-24\n",
      "Epoch: 91, Loss: 2.8259391636826574e-24\n",
      "Epoch: 92, Loss: 1.540506862748427e-24\n",
      "Epoch: 93, Loss: 8.39426290281466e-25\n",
      "Epoch: 94, Loss: 4.589658124193739e-25\n",
      "Epoch: 95, Loss: 2.5252455121951405e-25\n",
      "Epoch: 96, Loss: 1.3827819548102675e-25\n",
      "Epoch: 97, Loss: 7.57090348857532e-26\n",
      "Epoch: 98, Loss: 4.129596589754803e-26\n",
      "Epoch: 99, Loss: 2.2343382352899003e-26\n",
      "Epoch: 100, Loss: 1.2141222606788508e-26\n"
     ]
    }
   ],
   "source": [
    "embedding_dim = 10\n",
    "word_embeddings = {\n",
    "    word: np.random.randn(embedding_dim) for word in vocab\n",
    "}\n",
    "\n",
    "learning_rate = 0.1\n",
    "num_epochs = 100\n",
    "\n",
    "# Gradient descent to update word embeddings\n",
    "for epoch in range(num_epochs):\n",
    "    total_loss = 0\n",
    "    for (word_i, word_j), observed_count in co_occurrence.items():\n",
    "        # Calculate dot product of word embeddings\n",
    "        dot_product = np.dot(word_embeddings[word_i], word_embeddings[word_j])\n",
    "\n",
    "        # Calculate difference and update\n",
    "        diff = dot_product - np.log(observed_count)\n",
    "        total_loss += 0.5 * diff**2\n",
    "        gradient = diff * word_embeddings[word_j]\n",
    "        word_embeddings[word_i] -= learning_rate * gradient\n",
    "\n",
    "    print(f\"Epoch: {epoch+1}, Loss: {total_loss}\")"
   ]
  },
  {
   "cell_type": "code",
   "execution_count": null,
   "id": "dff9c0b5-df84-4336-8fe0-a99fa678128e",
   "metadata": {},
   "outputs": [],
   "source": []
  }
 ],
 "metadata": {
  "kernelspec": {
   "display_name": "conda_env_example",
   "language": "python",
   "name": "python3"
  },
  "language_info": {
   "codemirror_mode": {
    "name": "ipython",
    "version": 3
   },
   "file_extension": ".py",
   "mimetype": "text/x-python",
   "name": "python",
   "nbconvert_exporter": "python",
   "pygments_lexer": "ipython3",
   "version": "3.11.11"
  }
 },
 "nbformat": 4,
 "nbformat_minor": 5
}
