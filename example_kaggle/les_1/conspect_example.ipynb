{
  "cells": [
    {
      "cell_type": "markdown",
      "metadata": {
        "id": "view-in-github",
        "colab_type": "text"
      },
      "source": [
        "<a href=\"https://colab.research.google.com/github/SiracencoSerghei/DataScienceHW/blob/main/example_kaggle/les_1/conspect_example.ipynb\" target=\"_parent\"><img src=\"https://colab.research.google.com/assets/colab-badge.svg\" alt=\"Open In Colab\"/></a>"
      ]
    },
    {
      "cell_type": "markdown",
      "id": "38052423",
      "metadata": {
        "id": "38052423"
      },
      "source": [
        "Для ілюстрації проведемо базовий EDA на прикладі датасету з бібліотеки seaborn."
      ]
    },
    {
      "cell_type": "code",
      "execution_count": null,
      "id": "2e88548f",
      "metadata": {
        "id": "2e88548f"
      },
      "outputs": [],
      "source": [
        "import pandas as pd\n",
        "import numpy as np\n",
        "import seaborn as sns\n",
        "import matplotlib.pyplot as plt\n",
        "\n",
        "# Завантаження датасету\n",
        "\n",
        "df = sns.load_dataset('iris')\n",
        "\n",
        "# Перегляд перших рядків даних\n",
        "\n",
        "print(df.head())\n",
        "\n",
        "# Основні статистичні характеристики\n",
        "\n",
        "print(df.describe())\n",
        "\n",
        "# Перевірка на пропущені значення\n",
        "\n",
        "print('пропущені значення: ', df.isnull().sum())\n",
        "\n",
        "# Візуалізація розподілу змінної\n",
        "\n",
        "sns.histplot(df['sepal_length'], kde=True)\n",
        "plt.show()\n",
        "\n",
        "# Візуалізація взаємозв'язку між змінними\n",
        "\n",
        "sns.pairplot(df, hue='species')\n",
        "plt.show()\n"
      ]
    },
    {
      "cell_type": "markdown",
      "id": "ec0d1323",
      "metadata": {
        "id": "ec0d1323"
      },
      "source": [
        "# Бібліотеки для автоматизації EDA"
      ]
    },
    {
      "cell_type": "markdown",
      "id": "222308c5",
      "metadata": {
        "id": "222308c5"
      },
      "source": [
        "## 1. Pandas Profiling"
      ]
    },
    {
      "cell_type": "code",
      "source": [
        "!pip install -U ydata-profiling"
      ],
      "metadata": {
        "id": "bxJkYI3rE4lI"
      },
      "id": "bxJkYI3rE4lI",
      "execution_count": null,
      "outputs": []
    },
    {
      "cell_type": "code",
      "source": [
        "from ydata_profiling import ProfileReport\n",
        "profile = ProfileReport(df, title=\"Report\")\n",
        "profile\n"
      ],
      "metadata": {
        "id": "HTDlhMZ9F0LI"
      },
      "id": "HTDlhMZ9F0LI",
      "execution_count": null,
      "outputs": []
    },
    {
      "cell_type": "markdown",
      "source": [
        "## 2. SweetViz"
      ],
      "metadata": {
        "id": "gQ0YUVyjGOu0"
      },
      "id": "gQ0YUVyjGOu0"
    },
    {
      "cell_type": "markdown",
      "source": [
        "## 3. dabl (Experimental by scikit-learn team)"
      ],
      "metadata": {
        "id": "LXQ7q27UHGJr"
      },
      "id": "LXQ7q27UHGJr"
    },
    {
      "cell_type": "code",
      "source": [
        "!pip install dabl"
      ],
      "metadata": {
        "id": "6D2s6s_BHigL"
      },
      "id": "6D2s6s_BHigL",
      "execution_count": null,
      "outputs": []
    },
    {
      "cell_type": "code",
      "source": [
        "import dabl\n",
        "from sklearn.datasets import load_iris\n",
        "import pandas as pd\n",
        "\n",
        "iris = load_iris(as_frame=True)\n",
        "df = iris.frame\n",
        "\n",
        "dabl.plot(df, target_col='target')"
      ],
      "metadata": {
        "id": "ySP6nQDjHpTo"
      },
      "id": "ySP6nQDjHpTo",
      "execution_count": null,
      "outputs": []
    },
    {
      "cell_type": "markdown",
      "source": [
        "# Вектори"
      ],
      "metadata": {
        "id": "X5C30yGMLU3g"
      },
      "id": "X5C30yGMLU3g"
    },
    {
      "cell_type": "markdown",
      "source": [
        "## Додавання/віднімання скаляра та вектора"
      ],
      "metadata": {
        "id": "NPuvPFlWLPdG"
      },
      "id": "NPuvPFlWLPdG"
    },
    {
      "cell_type": "code",
      "source": [
        "import numpy as np\n",
        "\n",
        "a = np.array([1, 2, 3, 4, 5], dtype=float)\n",
        "print(a + 2)  # [3. 4. 5. 6. 7.]\n",
        "print(a - 1)  # [0. 1. 2. 3. 4.]"
      ],
      "metadata": {
        "colab": {
          "base_uri": "https://localhost:8080/"
        },
        "id": "SurZLDEXLWJt",
        "outputId": "c44d5a22-6832-413f-9be6-87bb67625469"
      },
      "id": "SurZLDEXLWJt",
      "execution_count": null,
      "outputs": [
        {
          "output_type": "stream",
          "name": "stdout",
          "text": [
            "[3. 4. 5. 6. 7.]\n",
            "[0. 1. 2. 3. 4.]\n"
          ]
        }
      ]
    },
    {
      "cell_type": "markdown",
      "source": [
        "## Множення на скаляр\n",
        "$$\n",
        "\\lambda \\cdot \\vec{a} \\in \\mathbb{R}^{\\vec{a}}\n",
        "$$\n"
      ],
      "metadata": {
        "id": "jgOFfuBtLi7u"
      },
      "id": "jgOFfuBtLi7u"
    },
    {
      "cell_type": "code",
      "source": [
        "import numpy as np\n",
        "\n",
        "a = np.array([1, 2, 3, 4, 5], dtype=float)\n",
        "\n",
        "print(a)  # [1. 2. 3. 4. 5.]\n",
        "\n",
        "b = 5*a\n",
        "\n",
        "print(b)  # [ 5. 10. 15. 20. 25.]\n"
      ],
      "metadata": {
        "colab": {
          "base_uri": "https://localhost:8080/"
        },
        "id": "EcSfx-xhM349",
        "outputId": "222f4a65-add0-4d72-f236-751c5d0da9cc"
      },
      "id": "EcSfx-xhM349",
      "execution_count": null,
      "outputs": [
        {
          "output_type": "stream",
          "name": "stdout",
          "text": [
            "[1. 2. 3. 4. 5.]\n",
            "[ 5. 10. 15. 20. 25.]\n"
          ]
        }
      ]
    },
    {
      "cell_type": "markdown",
      "source": [
        "## Додавання та віднімання двох векторів\n",
        "\n",
        "Дана операція можлива лише у тому випадку, якщо наші вектори однієї розмірності — тобто у них однакова к-сть елементів."
      ],
      "metadata": {
        "id": "Zbb4ZZU4NHeU"
      },
      "id": "Zbb4ZZU4NHeU"
    },
    {
      "cell_type": "code",
      "source": [
        "import numpy as np\n",
        "\n",
        "a = np.array([1, 2, 3, 4, 5], dtype=float)\n",
        "print(a.size)  # 5\n",
        "\n",
        "a = np.array([1, 2, 3])\n",
        "b = np.array([4, 5, 6])\n",
        "print(a + b)  # [5 7 9]\n",
        "print(a - b)  # [-3 -3 -3]"
      ],
      "metadata": {
        "colab": {
          "base_uri": "https://localhost:8080/"
        },
        "id": "oKUXGtmRNKq8",
        "outputId": "a9fdb34d-3ce4-4172-c6eb-8cde49a712be"
      },
      "id": "oKUXGtmRNKq8",
      "execution_count": null,
      "outputs": [
        {
          "output_type": "stream",
          "name": "stdout",
          "text": [
            "5\n",
            "[5 7 9]\n",
            "[-3 -3 -3]\n"
          ]
        }
      ]
    },
    {
      "cell_type": "markdown",
      "source": [],
      "metadata": {
        "id": "0ct0YuadM75Z"
      },
      "id": "0ct0YuadM75Z"
    }
  ],
  "metadata": {
    "kernelspec": {
      "display_name": "base",
      "language": "python",
      "name": "python3"
    },
    "language_info": {
      "codemirror_mode": {
        "name": "ipython",
        "version": 3
      },
      "file_extension": ".py",
      "mimetype": "text/x-python",
      "name": "python",
      "nbconvert_exporter": "python",
      "pygments_lexer": "ipython3",
      "version": "3.11.7"
    },
    "colab": {
      "provenance": [],
      "include_colab_link": true
    }
  },
  "nbformat": 4,
  "nbformat_minor": 5
}