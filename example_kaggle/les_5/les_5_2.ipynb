{
 "cells": [
  {
   "cell_type": "code",
   "execution_count": 56,
   "metadata": {},
   "outputs": [],
   "source": [
    "import pandas as pd\n",
    "import numpy as np\n",
    "import matplotlib.pyplot as plt\n",
    "import seaborn as sns\n",
    "import scipy.io as scio\n",
    "from sklearn.inspection import permutation_importance\n",
    "from sklearn.datasets import make_classification\n",
    "\n",
    "from sklearn import svm\n",
    "from sklearn import datasets\n",
    "from sklearn.preprocessing import StandardScaler\n",
    "from sklearn.model_selection import train_test_split, GridSearchCV, cross_val_score\n",
    "from sklearn.pipeline import Pipeline, make_pipeline\n",
    "from sklearn.compose import ColumnTransformer\n",
    "from sklearn.impute import SimpleImputer\n",
    "\n",
    "from sklearn.ensemble import RandomForestClassifier\n",
    "from sklearn.metrics import classification_report, confusion_matrix, f1_score, accuracy_score"
   ]
  },
  {
   "cell_type": "code",
   "execution_count": 57,
   "metadata": {},
   "outputs": [
    {
     "ename": "NameError",
     "evalue": "name 'S' is not defined",
     "output_type": "error",
     "traceback": [
      "\u001b[0;31m---------------------------------------------------------------------------\u001b[0m",
      "\u001b[0;31mNameError\u001b[0m                                 Traceback (most recent call last)",
      "Cell \u001b[0;32mIn[57], line 3\u001b[0m\n\u001b[1;32m      1\u001b[0m \u001b[38;5;28;01mfrom\u001b[39;00m \u001b[38;5;21;01mpathlib\u001b[39;00m \u001b[38;5;28;01mimport\u001b[39;00m Path\n\u001b[0;32m----> 3\u001b[0m \u001b[43mS\u001b[49m\u001b[38;5;66;03m# Базовий каталог\u001b[39;00m\n\u001b[1;32m      4\u001b[0m SAVED_DATAFRAME_BASE \u001b[38;5;241m=\u001b[39m Path(\u001b[38;5;124m\"\u001b[39m\u001b[38;5;124m/home/sergio/Desktop/DataScienceHW/example_kaggle/les_5/\u001b[39m\u001b[38;5;124m\"\u001b[39m)\n\u001b[1;32m      5\u001b[0m OUTPUT \u001b[38;5;241m=\u001b[39m SAVED_DATAFRAME_BASE \u001b[38;5;241m/\u001b[39m \u001b[38;5;124m\"\u001b[39m\u001b[38;5;124mhomework.zip\u001b[39m\u001b[38;5;124m\"\u001b[39m\n",
      "\u001b[0;31mNameError\u001b[0m: name 'S' is not defined"
     ]
    }
   ],
   "source": [
    "from pathlib import Path\n",
    "\n",
    "S# Базовий каталог\n",
    "SAVED_DATAFRAME_BASE = Path(\"/home/sergio/Desktop/DataScienceHW/example_kaggle/les_5/\")\n",
    "OUTPUT = SAVED_DATAFRAME_BASE / \"homework.zip\"\n",
    "CSV_DATA_PATH = SAVED_DATAFRAME_BASE / \"data\"\n",
    "\n",
    "# ID файлу на Google Drive\n",
    "FILE_ID = \"1ei5hYBbPpfiJElXaeo8H9BlzfwDTQxZw\"\n",
    "GDRIVE_URL = f\"https://drive.google.com/uc?id={FILE_ID}\""
   ]
  },
  {
   "cell_type": "code",
   "execution_count": 46,
   "metadata": {},
   "outputs": [
    {
     "name": "stdout",
     "output_type": "stream",
     "text": [
      "Поточний робочий каталог: /home/sergio/Desktop/DataScienceHW/example_kaggle/les_5\n"
     ]
    }
   ],
   "source": [
    "import os\n",
    "print(\"Поточний робочий каталог:\", os.getcwd())"
   ]
  },
  {
   "cell_type": "code",
   "execution_count": null,
   "metadata": {},
   "outputs": [],
   "source": [
    "import gdown\n",
    "\n",
    "# Завантаження файлу, якщо його ще немає\n",
    "if not OUTPUT.is_file():\n",
    "    print(\"Завантаження файлу...\")\n",
    "    gdown.download(GDRIVE_URL, str(OUTPUT), quiet=False)\n",
    "\n",
    "# Перевірка та розпаковка ZIP-файлу\n",
    "if OUTPUT.is_file() and not CSV_DATA_PATH.is_dir():\n",
    "    print(\"Розпаковка файлу...\")\n",
    "    !unzip -q -o $OUTPUT -d $CSV_DATA_PATH  # Вказуємо папку для розпакування\n",
    "\n",
    "# Перевірка вмісту розпакованої папки\n",
    "if CSV_DATA_PATH.is_dir():\n",
    "    print(f\"Файли в {CSV_DATA_PATH}:\")\n",
    "    print(list(CSV_DATA_PATH.iterdir()))\n",
    "    "
   ]
  },
  {
   "cell_type": "code",
   "execution_count": 48,
   "metadata": {},
   "outputs": [
    {
     "name": "stdout",
     "output_type": "stream",
     "text": [
      "CSV_DATA_PATH.is_dir\n",
      "[]\n"
     ]
    }
   ],
   "source": [
    "if CSV_DATA_PATH.is_dir():\n",
    "  print('CSV_DATA_PATH.is_dir')\n",
    "  class_path = list(CSV_DATA_PATH.iterdir())\n",
    "  class_list = list(d.name for d in class_path)\n",
    "  print(class_list)"
   ]
  },
  {
   "cell_type": "code",
   "execution_count": 52,
   "metadata": {},
   "outputs": [
    {
     "name": "stdout",
     "output_type": "stream",
     "text": [
      " data\t       'les_5 _1.ipynb'   les_5.ipynb\n",
      " homework.zip   les_5_2.ipynb\t  titanic.zip\n"
     ]
    }
   ],
   "source": [
    "!ls "
   ]
  },
  {
   "cell_type": "code",
   "execution_count": null,
   "metadata": {},
   "outputs": [],
   "source": []
  }
 ],
 "metadata": {
  "kernelspec": {
   "display_name": "Python 3",
   "language": "python",
   "name": "python3"
  },
  "language_info": {
   "codemirror_mode": {
    "name": "ipython",
    "version": 3
   },
   "file_extension": ".py",
   "mimetype": "text/x-python",
   "name": "python",
   "nbconvert_exporter": "python",
   "pygments_lexer": "ipython3",
   "version": "3.12.1"
  }
 },
 "nbformat": 4,
 "nbformat_minor": 2
}
