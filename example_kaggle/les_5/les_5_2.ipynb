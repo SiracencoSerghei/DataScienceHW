{
 "cells": [
  {
   "cell_type": "code",
   "execution_count": 9,
   "metadata": {},
   "outputs": [],
   "source": [
    "import pandas as pd\n",
    "import numpy as np\n",
    "import matplotlib.pyplot as plt\n",
    "import seaborn as sns\n",
    "import scipy.io as scio\n",
    "from sklearn.inspection import permutation_importance\n",
    "from sklearn.datasets import make_classification\n",
    "\n",
    "from sklearn import svm\n",
    "from sklearn import datasets\n",
    "from sklearn.preprocessing import StandardScaler\n",
    "from sklearn.model_selection import train_test_split, GridSearchCV, cross_val_score\n",
    "from sklearn.pipeline import Pipeline, make_pipeline\n",
    "from sklearn.compose import ColumnTransformer\n",
    "from sklearn.impute import SimpleImputer\n",
    "\n",
    "from sklearn.ensemble import RandomForestClassifier\n",
    "from sklearn.metrics import classification_report, confusion_matrix, f1_score, accuracy_score"
   ]
  },
  {
   "cell_type": "code",
   "execution_count": 9,
   "metadata": {},
   "outputs": [],
   "source": [
    "from pathlib import Path\n",
    "\n",
    "# Базовий каталог\n",
    "SAVED_DATAFRAME_BASE = Path(\"/home/sergio/Desktop/DataScienceHW/example_kaggle/les_5\")\n",
    "OUTPUT = SAVED_DATAFRAME_BASE / \"homework.zip\"\n",
    "CSV_DATA_PATH = SAVED_DATAFRAME_BASE / \"data\"\n",
    "\n",
    "GDRIVE_URL = \"https://drive.google.com/file/d/1nzrtQpfaHL0OgJ_eXzA7VuEj7XotrSWO/view?usp=sharing\""
   ]
  },
  {
   "cell_type": "code",
   "execution_count": 10,
   "metadata": {},
   "outputs": [
    {
     "name": "stdout",
     "output_type": "stream",
     "text": [
      "Поточний робочий каталог: /home/sergio/Desktop/DataScienceHW/example_kaggle/les_5\n"
     ]
    }
   ],
   "source": [
    "import os\n",
    "print(\"Поточний робочий каталог:\", os.getcwd())"
   ]
  },
  {
   "cell_type": "code",
   "execution_count": 11,
   "metadata": {},
   "outputs": [
    {
     "name": "stdout",
     "output_type": "stream",
     "text": [
      "URL: https://drive.google.com/file/d/1nzrtQpfaHL0OgJ_eXzA7VuEj7XotrSWO/view?usp=sharing\n",
      "OUTPUT: /home/sergio/Desktop/DataScienceHW/example_kaggle/les_5/homework.zip\n"
     ]
    }
   ],
   "source": [
    "print(f\"URL: {GDRIVE_URL}\")\n",
    "print(f\"OUTPUT: {OUTPUT}\")\n"
   ]
  },
  {
   "cell_type": "code",
   "execution_count": 16,
   "metadata": {},
   "outputs": [
    {
     "name": "stdout",
     "output_type": "stream",
     "text": [
      "Розпаковка файлу...\n"
     ]
    }
   ],
   "source": [
    "# Завантажуємо файл, якщо він ще не існує\n",
    "output = Path('/home/sergio/Desktop/DataScienceHW/HW5/homework.zip')\n",
    "if not output.is_file():\n",
    "    print(\"Завантаження файлу...\")\n",
    "    !wget -O $output \"$GDRIVE_URL\"\n",
    "    \n",
    "    # Перевірка, чи файл справді завантажено\n",
    "    if output.is_file():\n",
    "        print(f\"Файл {output} успішно завантажено.\")\n",
    "    else:\n",
    "        print(\"Помилка при завантаженні файлу.\")\n",
    "\n",
    "# Якщо файл існує, розпаковуємо його\n",
    "if output.is_file() and not CSV_DATA_PATH.is_dir():\n",
    "    print(\"Розпаковка файлу...\")\n",
    "    !unzip -q -o $output  # Розпаковуємо файл\n",
    "    # При необхідності можна видалити архів після розпакування\n",
    "    #!rm $output\n",
    "\n",
    "    "
   ]
  },
  {
   "cell_type": "code",
   "execution_count": 17,
   "metadata": {},
   "outputs": [
    {
     "name": "stdout",
     "output_type": "stream",
     "text": [
      "CSV_DATA_PATH.is_dir\n",
      "['running', 'idle', 'walking', 'stairs']\n"
     ]
    }
   ],
   "source": [
    "if CSV_DATA_PATH.is_dir():\n",
    "  print('CSV_DATA_PATH.is_dir')\n",
    "  class_path = list(CSV_DATA_PATH.iterdir())\n",
    "  class_list = list(d.name for d in class_path)\n",
    "  print(class_list)"
   ]
  },
  {
   "cell_type": "code",
   "execution_count": 18,
   "metadata": {},
   "outputs": [
    {
     "name": "stdout",
     "output_type": "stream",
     "text": [
      " data  'les_5 _1.ipynb'   les_5_2.ipynb   les_5.ipynb   titanic.zip\n"
     ]
    }
   ],
   "source": [
    "!ls "
   ]
  },
  {
   "cell_type": "code",
   "execution_count": null,
   "metadata": {},
   "outputs": [],
   "source": []
  }
 ],
 "metadata": {
  "kernelspec": {
   "display_name": "venv",
   "language": "python",
   "name": "python3"
  },
  "language_info": {
   "codemirror_mode": {
    "name": "ipython",
    "version": 3
   },
   "file_extension": ".py",
   "mimetype": "text/x-python",
   "name": "python",
   "nbconvert_exporter": "python",
   "pygments_lexer": "ipython3",
   "version": "3.12.1"
  }
 },
 "nbformat": 4,
 "nbformat_minor": 2
}
