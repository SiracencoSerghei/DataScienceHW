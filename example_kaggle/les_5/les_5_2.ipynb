{
  "cells": [
    {
      "cell_type": "markdown",
      "metadata": {
        "id": "view-in-github",
        "colab_type": "text"
      },
      "source": [
        "<a href=\"https://colab.research.google.com/github/SiracencoSerghei/DataScienceHW/blob/main/example_kaggle/les_5/les_5_2.ipynb\" target=\"_parent\"><img src=\"https://colab.research.google.com/assets/colab-badge.svg\" alt=\"Open In Colab\"/></a>"
      ]
    },
    {
      "cell_type": "code",
      "execution_count": 53,
      "metadata": {
        "id": "SQbA3bDOgM26"
      },
      "outputs": [],
      "source": [
        "import pandas as pd\n",
        "import numpy as np\n",
        "import matplotlib.pyplot as plt\n",
        "import seaborn as sns\n",
        "import scipy.io as scio\n",
        "from sklearn.inspection import permutation_importance\n",
        "from sklearn.datasets import make_classification\n",
        "\n",
        "from sklearn import svm\n",
        "from sklearn import datasets\n",
        "from sklearn.preprocessing import StandardScaler\n",
        "from sklearn.model_selection import train_test_split, GridSearchCV, cross_val_score\n",
        "from sklearn.pipeline import Pipeline, make_pipeline\n",
        "from sklearn.compose import ColumnTransformer\n",
        "from sklearn.impute import SimpleImputer\n",
        "\n",
        "from sklearn.ensemble import RandomForestClassifier\n",
        "from sklearn.metrics import classification_report, confusion_matrix, f1_score, accuracy_score"
      ]
    },
    {
      "cell_type": "markdown",
      "source": [],
      "metadata": {
        "id": "J73f4N7Egw_g"
      }
    },
    {
      "cell_type": "code",
      "execution_count": 54,
      "metadata": {
        "id": "IT4XU4B2gM28"
      },
      "outputs": [],
      "source": [
        "from pathlib import Path\n",
        "\n",
        "# # Базовий каталог\n",
        "# # SAVED_DATAFRAME_BASE = Path(\"/home/sergio/Desktop/DataScienceHW/example_kaggle/les_5\")\n",
        "# SAVED_DATAFRAME_BASE = Path(\"/content/\")\n",
        "# OUTPUT = SAVED_DATAFRAME_BASE / \"homework.zip\"\n",
        "# # OUTPUT = Path('/home/sergio/Desktop/DataScienceHW/HW5/homework.zip')\n",
        "# # CSV_DATA_PATH = SAVED_DATAFRAME_BASE / \"data\"\n",
        "# CSV_DATA_PATH  = Path(\"/content/data\")\n",
        "URL = \"https://drive.google.com/file/d/1nzrtQpfaHL0OgJ_eXzA7VuEj7XotrSWO/view?usp=sharing\"\n",
        "GDRIVE_URL = 'https://drive.google.com/file/d/1nzrtQpfaHL0OgJ_eXzA7VuEj7XotrSWO/view?usp=sharing'\n",
        "\n",
        "\n",
        "\n",
        "SAVED_DATAFRAME_BASE = Path(\"/content/\")\n",
        "OUTPUT = Path(\"/content/homework.zip\")\n",
        "CSV_DATA_PATH  = Path(\"/content/data\")"
      ]
    },
    {
      "cell_type": "code",
      "execution_count": 55,
      "metadata": {
        "id": "8WPS8Yz5gM28",
        "outputId": "8c43f407-8917-465a-bfce-bff0273e154a",
        "colab": {
          "base_uri": "https://localhost:8080/"
        }
      },
      "outputs": [
        {
          "output_type": "stream",
          "name": "stdout",
          "text": [
            "Поточний робочий каталог: /content\n"
          ]
        }
      ],
      "source": [
        "import os\n",
        "print(\"Поточний робочий каталог:\", os.getcwd())"
      ]
    },
    {
      "cell_type": "code",
      "execution_count": 56,
      "metadata": {
        "id": "Aagr5s05gM29",
        "outputId": "a24d268f-7462-4885-d089-e093b63b0089",
        "colab": {
          "base_uri": "https://localhost:8080/"
        }
      },
      "outputs": [
        {
          "output_type": "stream",
          "name": "stdout",
          "text": [
            "URL: https://drive.google.com/file/d/1nzrtQpfaHL0OgJ_eXzA7VuEj7XotrSWO/view?usp=sharing\n",
            "OUTPUT: /content/homework.zip\n"
          ]
        }
      ],
      "source": [
        "print(f\"URL: {URL}\")\n",
        "print(f\"OUTPUT: {OUTPUT}\")\n"
      ]
    },
    {
      "cell_type": "code",
      "execution_count": 57,
      "metadata": {
        "id": "3r0703pEgM29",
        "outputId": "7a2d48de-59d6-47b4-815e-7be1a5845fcd",
        "colab": {
          "base_uri": "https://localhost:8080/"
        }
      },
      "outputs": [
        {
          "output_type": "stream",
          "name": "stdout",
          "text": [
            "[/content/homework.zip]\n",
            "  End-of-central-directory signature not found.  Either this file is not\n",
            "  a zipfile, or it constitutes one disk of a multi-part archive.  In the\n",
            "  latter case the central directory and zipfile comment will be found on\n",
            "  the last disk(s) of this archive.\n",
            "unzip:  cannot find zipfile directory in one of /content/homework.zip or\n",
            "        /content/homework.zip.zip, and cannot find /content/homework.zip.ZIP, period.\n"
          ]
        }
      ],
      "source": [
        "# # Завантажуємо файл, якщо він ще не існує\n",
        "# # output = Path('/home/sergio/Desktop/DataScienceHW/HW5/homework.zip')\n",
        "# output = Path(\"/content/\")\n",
        "# if not output.is_file():\n",
        "#     print(\"Завантаження файлу...\")\n",
        "#     !wget -O $output \"$GDRIVE_URL\"\n",
        "\n",
        "#     # Перевірка, чи файл справді завантажено\n",
        "#     if output.is_file():\n",
        "#         print(f\"Файл {output} успішно завантажено.\")\n",
        "#     else:\n",
        "#         print(\"Помилка при завантаженні файлу.\")\n",
        "\n",
        "# # Якщо файл існує, розпаковуємо його\n",
        "# if output.is_file() and not CSV_DATA_PATH.is_dir():\n",
        "#     print(\"Розпаковка файлу...\")\n",
        "#     !unzip -q -o $output  # Розпаковуємо файл\n",
        "#     # При необхідності можна видалити архів після розпакування\n",
        "#     #!rm $output\n",
        "\n",
        "\n",
        "\n",
        "if not OUTPUT.is_file():\n",
        "  !wget -O $OUTPUT $URL\n",
        "\n",
        "if OUTPUT.is_file() and not CSV_DATA_PATH.is_dir():\n",
        "  !unzip -q -o $OUTPUT\n",
        "  #!rm $OUTPUT\n",
        ""
      ]
    },
    {
      "cell_type": "code",
      "execution_count": 58,
      "metadata": {
        "id": "ix_jLG4XgM29"
      },
      "outputs": [],
      "source": [
        "if CSV_DATA_PATH.is_dir():\n",
        "  print('CSV_DATA_PATH.is_dir')\n",
        "  class_path = list(CSV_DATA_PATH.iterdir())\n",
        "  class_list = list(d.name for d in class_path)\n",
        "  print(class_list)"
      ]
    },
    {
      "cell_type": "code",
      "execution_count": 59,
      "metadata": {
        "id": "rsGPjYumgM2-",
        "outputId": "cc6de160-d858-40df-869a-ac8eca695a4b",
        "colab": {
          "base_uri": "https://localhost:8080/"
        }
      },
      "outputs": [
        {
          "output_type": "stream",
          "name": "stdout",
          "text": [
            "homework.zip  sample_data\n"
          ]
        }
      ],
      "source": [
        "!ls"
      ]
    },
    {
      "cell_type": "code",
      "source": [
        "!file homework.zip"
      ],
      "metadata": {
        "id": "Cbbe5G9Rm4qd",
        "outputId": "99970bfb-cba8-4f83-bc6b-2ba770e605ec",
        "colab": {
          "base_uri": "https://localhost:8080/"
        }
      },
      "execution_count": 60,
      "outputs": [
        {
          "output_type": "stream",
          "name": "stdout",
          "text": [
            "homework.zip: HTML document, ASCII text, with very long lines (2371), with no line terminators\n"
          ]
        }
      ]
    },
    {
      "cell_type": "code",
      "source": [
        "!head -n 20 homework.zip\n"
      ],
      "metadata": {
        "id": "0puBFTz_nK_H",
        "outputId": "31cd268b-2582-4ffa-c1d2-d1800a089afc",
        "colab": {
          "base_uri": "https://localhost:8080/"
        }
      },
      "execution_count": 61,
      "outputs": [
        {
          "output_type": "stream",
          "name": "stdout",
          "text": [
            "<!DOCTYPE html><html><head><title>Google Drive - Virus scan warning</title><meta http-equiv=\"content-type\" content=\"text/html; charset=utf-8\"/><style nonce=\"tE1UvGVow6EY36JnW3kkPQ\">.goog-link-button{position:relative;color:#15c;text-decoration:underline;cursor:pointer}.goog-link-button-disabled{color:#ccc;text-decoration:none;cursor:default}body{color:#222;font:normal 13px/1.4 arial,sans-serif;margin:0}.grecaptcha-badge{visibility:hidden}.uc-main{padding-top:50px;text-align:center}#uc-dl-icon{display:inline-block;margin-top:16px;padding-right:1em;vertical-align:top}#uc-text{display:inline-block;max-width:68ex;text-align:left}.uc-error-caption,.uc-warning-caption{color:#222;font-size:16px}#uc-download-link{text-decoration:none}.uc-name-size a{color:#15c;text-decoration:none}.uc-name-size a:visited{color:#61c;text-decoration:none}.uc-name-size a:active{color:#d14836;text-decoration:none}.uc-footer{color:#777;font-size:11px;padding-bottom:5ex;padding-top:5ex;text-align:center}.uc-footer a{color:#15c}.uc-footer a:visited{color:#61c}.uc-footer a:active{color:#d14836}.uc-footer-divider{color:#ccc;width:100%}.goog-inline-block{position:relative;display:-moz-inline-box;display:inline-block}* html .goog-inline-block{display:inline}*:first-child+html .goog-inline-block{display:inline}sentinel{}</style><link rel=\"icon\" href=\"//ssl.gstatic.com/docs/doclist/images/drive_2022q3_32dp.png\"/></head><body><div class=\"uc-main\"><div id=\"uc-dl-icon\" class=\"image-container\"><div class=\"drive-sprite-aux-download-file\"></div></div><div id=\"uc-text\"><p class=\"uc-warning-caption\">Google Drive can't scan this file for viruses.</p><p class=\"uc-warning-subcaption\">We are experiencing technical difficulties. Would you still like to download this file? <span class=\"uc-name-size\"><a href=\"/open?id=1nzrtQpfaHL0OgJ_eXzA7VuEj7XotrSWO\">homework.zip</a> (4.0M)</span></p><form id=\"download-form\" action=\"https://drive.usercontent.google.com/download\" method=\"get\"><input type=\"submit\" id=\"uc-download-link\" class=\"goog-inline-block jfk-button jfk-button-action\" value=\"Download anyway\"/><input type=\"hidden\" name=\"id\" value=\"1nzrtQpfaHL0OgJ_eXzA7VuEj7XotrSWO\"><input type=\"hidden\" name=\"confirm\" value=\"t\"><input type=\"hidden\" name=\"uuid\" value=\"a5c4b981-9894-42be-a194-91eb99d3ec86\"></form></div></div><div class=\"uc-footer\"><hr class=\"uc-footer-divider\"></div></body></html>"
          ]
        }
      ]
    },
    {
      "cell_type": "code",
      "source": [
        "!ls -lh homework.zip\n"
      ],
      "metadata": {
        "id": "Zj9gcNT6naJR",
        "outputId": "75edfa7e-6ec8-4bd0-92e5-6de814fc9f30",
        "colab": {
          "base_uri": "https://localhost:8080/"
        }
      },
      "execution_count": 62,
      "outputs": [
        {
          "output_type": "stream",
          "name": "stdout",
          "text": [
            "-rw-r--r-- 1 root root 2.4K Feb  7 13:13 homework.zip\n"
          ]
        }
      ]
    },
    {
      "cell_type": "markdown",
      "source": [
        "Висновок: за допомогою посилання на файл не можливо робити роботу тому що воно не дійсне. тому будемо скачивати у ручному режимі..."
      ],
      "metadata": {
        "id": "6cyj7y8yneJr"
      }
    }
  ],
  "metadata": {
    "kernelspec": {
      "display_name": "venv",
      "language": "python",
      "name": "python3"
    },
    "language_info": {
      "codemirror_mode": {
        "name": "ipython",
        "version": 3
      },
      "file_extension": ".py",
      "mimetype": "text/x-python",
      "name": "python",
      "nbconvert_exporter": "python",
      "pygments_lexer": "ipython3",
      "version": "3.12.1"
    },
    "colab": {
      "provenance": [],
      "include_colab_link": true
    }
  },
  "nbformat": 4,
  "nbformat_minor": 0
}