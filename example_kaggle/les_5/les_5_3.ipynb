{
  "cells": [
    {
      "cell_type": "markdown",
      "metadata": {
        "id": "view-in-github",
        "colab_type": "text"
      },
      "source": [
        "<a href=\"https://colab.research.google.com/github/SiracencoSerghei/DataScienceHW/blob/main/example_kaggle/les_5/les_5_3.ipynb\" target=\"_parent\"><img src=\"https://colab.research.google.com/assets/colab-badge.svg\" alt=\"Open In Colab\"/></a>"
      ]
    },
    {
      "cell_type": "code",
      "execution_count": null,
      "metadata": {
        "vscode": {
          "languageId": "plaintext"
        },
        "id": "OlXPBdYoy7D4"
      },
      "outputs": [],
      "source": [
        "import pandas as pd\n",
        "import numpy as np\n",
        "import matplotlib.pyplot as plt\n",
        "import seaborn as sns\n",
        "import os\n",
        "from pathlib import Path\n",
        "import zipfile\n",
        "\n",
        "import scipy.io as scio\n",
        "from scipy.fftpack import fft, rfft\n",
        "from sklearn.svm import SVC\n",
        "\n",
        "from sklearn.inspection import permutation_importance\n",
        "from sklearn.datasets import make_classification\n",
        "\n",
        "from sklearn import svm, datasets, preprocessing\n",
        "from sklearn.preprocessing import StandardScaler\n",
        "from sklearn.model_selection import train_test_split, GridSearchCV, cross_val_score\n",
        "from sklearn.pipeline import Pipeline, make_pipeline\n",
        "from sklearn.compose import ColumnTransformer\n",
        "from sklearn.impute import SimpleImputer\n",
        "from sklearn.ensemble import RandomForestClassifier\n",
        "from sklearn.metrics import mean_squared_error, mean_absolute_error, classification_report, confusion_matrix, f1_score, accuracy_score"
      ]
    },
    {
      "cell_type": "markdown",
      "metadata": {
        "id": "IMHgyCHPy7D5"
      },
      "source": [
        "---\n",
        "# LOAD DATASET\n",
        "---"
      ]
    },
    {
      "cell_type": "code",
      "execution_count": null,
      "metadata": {
        "vscode": {
          "languageId": "plaintext"
        },
        "id": "J33_c3ZGy7D5"
      },
      "outputs": [],
      "source": [
        "# from google.colab import files\n",
        "# uploaded = files.upload()"
      ]
    },
    {
      "cell_type": "code",
      "source": [
        "from google.colab import drive\n",
        "drive.mount('/content/drive')"
      ],
      "metadata": {
        "id": "KdDf7F7I3ml6"
      },
      "execution_count": null,
      "outputs": []
    },
    {
      "cell_type": "code",
      "source": [
        "# !ls '/content/drive/My Drive'"
      ],
      "metadata": {
        "collapsed": true,
        "id": "9izq92s1Tuew"
      },
      "execution_count": null,
      "outputs": []
    },
    {
      "cell_type": "code",
      "source": [
        "!unzip '/content/drive/My Drive/homework.zip' -d /content/homework  # Colab RAM\n",
        "# !unzip '/content/drive/My Drive/homework.zip' -d '/content/drive/My Drive/homework'  # my google Drive"
      ],
      "metadata": {
        "collapsed": true,
        "id": "EbV8kIl4_mT6"
      },
      "execution_count": null,
      "outputs": []
    },
    {
      "cell_type": "code",
      "source": [
        "base_path = '/content/homework/data'\n",
        "!ls {base_path}"
      ],
      "metadata": {
        "id": "1rrn7X4eXDlh"
      },
      "execution_count": null,
      "outputs": []
    },
    {
      "cell_type": "code",
      "source": [
        "activities = os.listdir(base_path)\n",
        "print(activities)"
      ],
      "metadata": {
        "id": "hFZs3XPiX55j"
      },
      "execution_count": null,
      "outputs": []
    },
    {
      "cell_type": "code",
      "source": [
        "\n",
        "for act in activities:\n",
        "    path = os.path.join(base_path, act)\n",
        "\n",
        "    if os.path.isdir(path):  # Переконуємося, що path є папкою\n",
        "        frames = os.listdir(path)\n",
        "        print(f'Folder \"{act}\" has: {len(frames)} files')\n",
        "    else:\n",
        "        print(f'Warning: \"{act}\" is not a valid directory!')"
      ],
      "metadata": {
        "id": "SPh4yqN5Pe5-"
      },
      "execution_count": null,
      "outputs": []
    },
    {
      "cell_type": "code",
      "source": [
        "%%time\n",
        "# Вказуємо шлях до каталогу з даними\n",
        "folder = Path(base_path)\n",
        "data_set = pd.DataFrame()\n",
        "\n",
        "# Проходимо по всіх підкаталогах\n",
        "for activity_folder in folder.iterdir():\n",
        "    if not activity_folder.is_dir():\n",
        "        continue\n",
        "\n",
        "    # Проходимо по всіх файлах в підкаталозі\n",
        "    for file in activity_folder.iterdir():\n",
        "        if file.suffix != '.csv':\n",
        "            continue\n",
        "\n",
        "        # Читаємо CSV файл і додаємо стовпець activity\n",
        "        df = pd.read_csv(file)\n",
        "        df['activity'] = activity_folder.name\n",
        "        data_set = pd.concat([data_set, df], ignore_index=True)\n",
        "\n",
        "data_set"
      ],
      "metadata": {
        "id": "_Z7IC9b6YtpF"
      },
      "execution_count": null,
      "outputs": []
    },
    {
      "cell_type": "code",
      "source": [
        "\n",
        "def get_stat_features(frame):\n",
        "    # Видаляємо текстовий стовпець \"activity\", залишаємо тільки числові дані\n",
        "    frame = frame.drop(columns=['activity'])\n",
        "\n",
        "    # Обчислення статистичних фіч\n",
        "    skewness = frame.skew(axis=0).values\n",
        "    kurtosis = frame.kurt(axis=0).values\n",
        "    maximum = frame.max(axis=0).values\n",
        "    minimum = frame.min(axis=0).values\n",
        "    mean = frame.mean(axis=0).values\n",
        "    stddev = frame.std(axis=0).values\n",
        "    variance = frame.var(axis=0).values\n",
        "    median = frame.median(axis=0).values\n",
        "    idxmax = frame.idxmax(axis=0).values\n",
        "    idxmin = frame.idxmin(axis=0).values\n",
        "\n",
        "    # Список назв статистичних фіч\n",
        "    stat_feature_names = [\n",
        "        'skew_X', 'skew_Y', 'skew_Z',\n",
        "        'kurt_X', 'kurt_Y', 'kurt_Z',\n",
        "        'max_X', 'max_Y', 'max_Z',\n",
        "        'min_X', 'min_Y', 'min_Z',\n",
        "        'mean_X', 'mean_Y', 'mean_Z',\n",
        "        'std_X', 'std_Y', 'std_Z',\n",
        "        'var_X', 'var_Y', 'var_Z',\n",
        "        'median_X', 'median_Y', 'median_Z',\n",
        "        'idxmax_X', 'idxmax_Y', 'idxmax_Z',\n",
        "        'idxmin_X', 'idxmin_Y', 'idxmin_Z'\n",
        "    ]\n",
        "\n",
        "    # Об'єднуємо статистичні значення в один масив\n",
        "    features = np.concatenate([\n",
        "        skewness, kurtosis, maximum, minimum, mean, stddev, variance, median, idxmax, idxmin\n",
        "    ], axis=0)\n",
        "\n",
        "    # Обчислюємо кореляцію між акселерометрами\n",
        "    correlation = frame.corr()\n",
        "    corr_values = [\n",
        "        correlation.loc['accelerometer_X', 'accelerometer_Y'],\n",
        "        correlation.loc['accelerometer_X', 'accelerometer_Z'],\n",
        "        correlation.loc['accelerometer_Y', 'accelerometer_Z']\n",
        "    ]\n",
        "    # Додаємо назви для кореляцій\n",
        "    corr_feature_names = [\n",
        "        'corr_XY', 'corr_XZ', 'corr_YZ'\n",
        "    ]\n",
        "    features = np.concatenate((features, corr_values), axis=0)\n",
        "\n",
        "    # Обчислення MAE та RMSE\n",
        "    mean_values = frame.mean(axis=0)\n",
        "    mae_X = mean_absolute_error(frame['accelerometer_X'], np.full_like(frame['accelerometer_X'], mean_values['accelerometer_X']))\n",
        "    mae_Y = mean_absolute_error(frame['accelerometer_Y'], np.full_like(frame['accelerometer_Y'], mean_values['accelerometer_Y']))\n",
        "    mae_Z = mean_absolute_error(frame['accelerometer_Z'], np.full_like(frame['accelerometer_Z'], mean_values['accelerometer_Z']))\n",
        "\n",
        "    rmse_X = np.sqrt(mean_squared_error(frame['accelerometer_X'], np.full_like(frame['accelerometer_X'], mean_values['accelerometer_X'])))\n",
        "    rmse_Y = np.sqrt(mean_squared_error(frame['accelerometer_Y'], np.full_like(frame['accelerometer_Y'], mean_values['accelerometer_Y'])))\n",
        "    rmse_Z = np.sqrt(mean_squared_error(frame['accelerometer_Z'], np.full_like(frame['accelerometer_Z'], mean_values['accelerometer_Z'])))\n",
        "\n",
        "    metrics = np.array([mae_X, mae_Y, mae_Z, rmse_X, rmse_Y, rmse_Z])\n",
        "    # Додаємо назви для MAE та RMSE\n",
        "    metrics_feature_names = [\n",
        "        'mae_X', 'mae_Y', 'mae_Z',\n",
        "        'rmse_X', 'rmse_Y', 'rmse_Z'\n",
        "    ]\n",
        "    features = np.concatenate((features, metrics), axis=0)\n",
        "\n",
        "    # Об'єднуємо всі назви фіч\n",
        "    all_feature_names = stat_feature_names + corr_feature_names + metrics_feature_names\n",
        "\n",
        "    # Повертаємо словник з назвами та значеннями фіч\n",
        "    feature_dict = dict(zip(all_feature_names, features))\n",
        "    return feature_dict"
      ],
      "metadata": {
        "id": "axiU7AKHUW-S"
      },
      "execution_count": null,
      "outputs": []
    },
    {
      "cell_type": "code",
      "source": [
        "len(get_stat_features(data_set))"
      ],
      "metadata": {
        "id": "PX8Ub_uvXw4o"
      },
      "execution_count": null,
      "outputs": []
    },
    {
      "cell_type": "code",
      "source": [
        "# get_stat_features(data_set)"
      ],
      "metadata": {
        "id": "mqFzKBNUcc78"
      },
      "execution_count": null,
      "outputs": []
    },
    {
      "cell_type": "markdown",
      "source": [
        "---\n",
        "# Data Preraration\n",
        "---"
      ],
      "metadata": {
        "id": "2OrI89nkbU1u"
      }
    },
    {
      "cell_type": "code",
      "source": [
        "data_set.describe()"
      ],
      "metadata": {
        "id": "2OqeiP-tba85"
      },
      "execution_count": null,
      "outputs": []
    },
    {
      "cell_type": "code",
      "source": [
        "data_set.info()"
      ],
      "metadata": {
        "id": "twhvEjKeJuQO"
      },
      "execution_count": null,
      "outputs": []
    },
    {
      "cell_type": "markdown",
      "source": [
        "---\n",
        "# Навчання моделі без часових ознак\n",
        "---"
      ],
      "metadata": {
        "id": "Ef-ORsJ1LBu6"
      }
    },
    {
      "cell_type": "code",
      "source": [
        "# Функція для побудови confusion matrix\n",
        "def plot_confusion_matrix(conf_matrices, classifiers, activities, axes):\n",
        "    custom_cmap = sns.color_palette(\"ch:s=.5,r=-.75\", as_cmap=True)\n",
        "\n",
        "    for i, classifier in enumerate(classifiers):\n",
        "        sns.heatmap(\n",
        "            conf_matrices[i],\n",
        "            annot=True,\n",
        "            fmt='d',\n",
        "            cmap=custom_cmap,\n",
        "            xticklabels=activities,\n",
        "            yticklabels=activities,\n",
        "            ax=axes[i],\n",
        "        )\n",
        "\n",
        "        axes[i].set_title(f\"Confusion Matrix for {classifier} Classifier\")\n",
        "        axes[i].set_xlabel(\"Predicted activity\")\n",
        "        axes[i].set_ylabel(\"True activity\")\n",
        "\n",
        "    plt.show()"
      ],
      "metadata": {
        "id": "iBdzic93ggJv"
      },
      "execution_count": null,
      "outputs": []
    },
    {
      "cell_type": "code",
      "source": [
        "# Основний код\n",
        "features = data_set.columns[:-1]\n",
        "X = data_set[features]\n",
        "y = data_set[data_set.columns[-1]]\n",
        "\n",
        "scaler = StandardScaler()\n",
        "normalized_data = scaler.fit_transform(X)\n",
        "\n",
        "norm_data = data_set.copy()\n",
        "norm_data[features] = normalized_data"
      ],
      "metadata": {
        "id": "zSZLFgAULFSv"
      },
      "execution_count": null,
      "outputs": []
    },
    {
      "cell_type": "code",
      "source": [
        "X_train, X_test, y_train, y_test = train_test_split(norm_data[features], norm_data['activity'], test_size=0.3, stratify=norm_data['activity'])"
      ],
      "metadata": {
        "id": "azwYS2QEg2S1"
      },
      "execution_count": null,
      "outputs": []
    },
    {
      "cell_type": "code",
      "source": [
        "np.array_equal(X, X_fft_stat)"
      ],
      "metadata": {
        "id": "Oaq6dPXfl2Ny"
      },
      "execution_count": null,
      "outputs": []
    },
    {
      "cell_type": "code",
      "source": [
        "print(\"Розмір тренувальної вибірки:\", X_train.shape)\n",
        "print(\"Розмір тестової вибірки:\", X_test.shape\n"
      ],
      "metadata": {
        "id": "r2lM3zVGktLq"
      },
      "execution_count": null,
      "outputs": []
    },
    {
      "cell_type": "code",
      "source": [
        "# Навчання моделей\n",
        "model_svm = SVC(decision_function_shape='ovo', kernel='rbf',gamma=0.005, probability=True)\n",
        "model_svm.fit(X_train, y_train)"
      ],
      "metadata": {
        "id": "HcW9E_gPg9If"
      },
      "execution_count": null,
      "outputs": []
    },
    {
      "cell_type": "code",
      "source": [
        "y_test"
      ],
      "metadata": {
        "id": "E1piWEj6mfoT"
      },
      "execution_count": null,
      "outputs": []
    },
    {
      "cell_type": "code",
      "source": [
        "y_test_pred = model_svm.decision_function(X_test)\n",
        "y_test_pred"
      ],
      "metadata": {
        "id": "ofg3ZoLMm1DP"
      },
      "execution_count": null,
      "outputs": []
    },
    {
      "cell_type": "code",
      "source": [
        "y_test_proba = model_svm.predict_proba(X_test)\n",
        "y_test_proba"
      ],
      "metadata": {
        "id": "bqeaNEWnnFC7"
      },
      "execution_count": null,
      "outputs": []
    },
    {
      "cell_type": "code",
      "source": [
        "y_test_proba = np.argmax(y_test_proba, axis=1)\n",
        "y_test_proba"
      ],
      "metadata": {
        "id": "pBWBf3mPnLnY"
      },
      "execution_count": null,
      "outputs": []
    },
    {
      "cell_type": "code",
      "source": [
        "count_idle = 0\n",
        "count_running = 0\n",
        "count_stairs = 0\n",
        "count_walking = 0\n",
        "for i in y_test_proba:\n",
        "  if i == 0:\n",
        "    count_idle += 1\n",
        "  elif i == 1:\n",
        "    count_running += 1\n",
        "  elif i == 2:\n",
        "    count_stairs += 1\n",
        "  elif i == 3:\n",
        "    count_walking += 1"
      ],
      "metadata": {
        "id": "ErnOLQKEnxK3"
      },
      "execution_count": null,
      "outputs": []
    },
    {
      "cell_type": "code",
      "source": [
        "count_idle"
      ],
      "metadata": {
        "id": "JGo-MgtaoAEh"
      },
      "execution_count": null,
      "outputs": []
    },
    {
      "cell_type": "code",
      "source": [
        "count_running"
      ],
      "metadata": {
        "id": "SXoVFKluoEE_"
      },
      "execution_count": null,
      "outputs": []
    },
    {
      "cell_type": "code",
      "source": [
        "count_stairs"
      ],
      "metadata": {
        "id": "pZfFc7jNoFfn"
      },
      "execution_count": null,
      "outputs": []
    },
    {
      "cell_type": "code",
      "source": [
        "count_walking"
      ],
      "metadata": {
        "id": "oil5VIvfoGl2"
      },
      "execution_count": null,
      "outputs": []
    },
    {
      "cell_type": "code",
      "source": [
        "accuracy = accuracy_score(y_test, y_test_proba)\n",
        "accuracy"
      ],
      "metadata": {
        "id": "EzJIoEO-oLe7"
      },
      "execution_count": null,
      "outputs": []
    },
    {
      "cell_type": "code",
      "source": [
        "%%time\n",
        "model_rf = RandomForestClassifier(n_estimators=100)\n",
        "model_rf.fit(X_train, y_train)"
      ],
      "metadata": {
        "id": "Rqb60dHmjN9y"
      },
      "execution_count": null,
      "outputs": []
    },
    {
      "cell_type": "code",
      "source": [
        "# Оцінка точності\n",
        "score_svm = model_svm.score(X_test, y_test)\n",
        "score_rf = model_rf.score(X_test, y_test)\n",
        "\n",
        "print(\"Точність моделі SVM:\", score_svm)\n",
        "print(\"Точність моделі Random Forest:\", score_rf)"
      ],
      "metadata": {
        "id": "HmN9oSqWhBMQ"
      },
      "execution_count": null,
      "outputs": []
    },
    {
      "cell_type": "code",
      "source": [
        "# Прогнозування\n",
        "y_pred_svm = model_svm.predict(X_test)\n",
        "y_pred_rf = model_rf.predict(X_test)"
      ],
      "metadata": {
        "id": "m27aBJHFhERr"
      },
      "execution_count": null,
      "outputs": []
    },
    {
      "cell_type": "code",
      "source": [
        "# Обчислення confusion matrix\n",
        "conf_matrix_svm = confusion_matrix(y_test, y_pred_svm)\n",
        "conf_matrix_rf = confusion_matrix(y_test, y_pred_rf)\n",
        "\n",
        "# Візуалізація confusion matrix\n",
        "fig, axes = plt.subplots(1, 2, figsize=(11, 4))"
      ],
      "metadata": {
        "id": "KEVM9QHLhIh9"
      },
      "execution_count": null,
      "outputs": []
    },
    {
      "cell_type": "code",
      "source": [
        "# Массив класифікаторів\n",
        "classifiers = [\"SVM\", \"Random Forest\"]\n",
        "# Массив confusion matrix\n",
        "confusion_matrices = [conf_matrix_svm, conf_matrix_rf]\n",
        "# Массив назв активностей\n",
        "activities = ['idle', 'running', 'stairs', 'walking']\n",
        "\n",
        "# Виклик функції для побудови heatmap\n",
        "plot_confusion_matrix(confusion_matrices, classifiers, activities, axes)"
      ],
      "metadata": {
        "id": "qrGjPc1chUkY"
      },
      "execution_count": null,
      "outputs": []
    }
  ],
  "metadata": {
    "language_info": {
      "name": "python"
    },
    "colab": {
      "provenance": [],
      "include_colab_link": true
    },
    "kernelspec": {
      "name": "python3",
      "display_name": "Python 3"
    }
  },
  "nbformat": 4,
  "nbformat_minor": 0
}