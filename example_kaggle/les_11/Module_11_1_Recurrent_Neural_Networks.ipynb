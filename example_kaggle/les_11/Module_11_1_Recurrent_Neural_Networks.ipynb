{
  "cells": [
    {
      "cell_type": "markdown",
      "metadata": {
        "colab_type": "text",
        "id": "view-in-github"
      },
      "source": [
        "<a href=\"https://colab.research.google.com/github/SiracencoSerghei/DataScienceHW/blob/main/example_kaggle/les_11/Module_11_1_Recurrent_Neural_Networks.ipynb\" target=\"_parent\"><img src=\"https://colab.research.google.com/assets/colab-badge.svg\" alt=\"Open In Colab\"/></a>"
      ]
    },
    {
      "cell_type": "markdown",
      "id": "2c8fb7ac-e6e7-4752-a550-2f2edc5e4fef",
      "metadata": {
        "id": "2c8fb7ac-e6e7-4752-a550-2f2edc5e4fef"
      },
      "source": [
        "# Recurrent Neural Networks"
      ]
    },
    {
      "cell_type": "markdown",
      "id": "bae96df3-e7b7-4002-814c-61092fd206a2",
      "metadata": {
        "id": "bae96df3-e7b7-4002-814c-61092fd206a2"
      },
      "source": [
        "https://github.com/saqemlas/deep-learning-specialization/blob/main/5_SequenceModels/week_1/Assignment/Building_a_Recurrent_Neural_Network_Step_by_Step.ipynb"
      ]
    },
    {
      "cell_type": "code",
      "execution_count": 1,
      "id": "d8f5ee6e-fc61-4210-b20c-3a9367f102a6",
      "metadata": {
        "id": "d8f5ee6e-fc61-4210-b20c-3a9367f102a6"
      },
      "outputs": [
        {
          "name": "stderr",
          "output_type": "stream",
          "text": [
            "2025-07-25 14:50:13.929555: I tensorflow/core/util/port.cc:153] oneDNN custom operations are on. You may see slightly different numerical results due to floating-point round-off errors from different computation orders. To turn them off, set the environment variable `TF_ENABLE_ONEDNN_OPTS=0`.\n",
            "2025-07-25 14:50:13.950535: I tensorflow/core/platform/cpu_feature_guard.cc:210] This TensorFlow binary is optimized to use available CPU instructions in performance-critical operations.\n",
            "To enable the following instructions: SSE4.1 SSE4.2 AVX AVX2 AVX512F AVX512_VNNI FMA, in other operations, rebuild TensorFlow with the appropriate compiler flags.\n"
          ]
        }
      ],
      "source": [
        "import matplotlib.pyplot as plt\n",
        "from keras.datasets import imdb\n",
        "from keras.utils import pad_sequences\n",
        "from keras.models import Sequential\n",
        "from keras.layers import Embedding, SimpleRNN, Dense"
      ]
    },
    {
      "cell_type": "code",
      "execution_count": 2,
      "id": "b62aa15d-4891-4958-99fc-8ad52728bb77",
      "metadata": {
        "id": "b62aa15d-4891-4958-99fc-8ad52728bb77"
      },
      "outputs": [],
      "source": [
        "max_features = 10000  # кількість слів, що розглядаються як особливості\n",
        "maxlen = 500  # обмеження кількості слів в тексті\n",
        "batch_size = 32"
      ]
    },
    {
      "cell_type": "code",
      "execution_count": 3,
      "id": "08c33a17-ff61-4aff-9397-ab5a9fe58936",
      "metadata": {
        "id": "08c33a17-ff61-4aff-9397-ab5a9fe58936"
      },
      "outputs": [],
      "source": [
        "start_char = 1\n",
        "oov_char = 2  # out of vocabulary\n",
        "index_from = 3"
      ]
    },
    {
      "cell_type": "code",
      "execution_count": 4,
      "id": "4d73a1a0-d42f-49b7-817d-7362b27afa43",
      "metadata": {
        "colab": {
          "base_uri": "https://localhost:8080/"
        },
        "id": "4d73a1a0-d42f-49b7-817d-7362b27afa43",
        "outputId": "1014ad7a-38e4-42e6-c162-199e318f5223"
      },
      "outputs": [],
      "source": [
        "(input_train, y_train), (input_test, y_test) = imdb.load_data(num_words=max_features, maxlen=maxlen, start_char=start_char, oov_char=oov_char, index_from=index_from)\n",
        "# Завантаження тренувальних та тестових даних зі вказанням обмеження на кількість слів"
      ]
    },
    {
      "cell_type": "code",
      "execution_count": 5,
      "id": "a3bec5d8-80b3-4422-a0cd-2c38dc8da825",
      "metadata": {
        "id": "a3bec5d8-80b3-4422-a0cd-2c38dc8da825"
      },
      "outputs": [
        {
          "data": {
            "text/plain": [
              "[1,\n",
              " 194,\n",
              " 1153,\n",
              " 194,\n",
              " 8255,\n",
              " 78,\n",
              " 228,\n",
              " 5,\n",
              " 6,\n",
              " 1463,\n",
              " 4369,\n",
              " 5012,\n",
              " 134,\n",
              " 26,\n",
              " 4,\n",
              " 715,\n",
              " 8,\n",
              " 118,\n",
              " 1634,\n",
              " 14,\n",
              " 394,\n",
              " 20,\n",
              " 13,\n",
              " 119,\n",
              " 954,\n",
              " 189,\n",
              " 102,\n",
              " 5,\n",
              " 207,\n",
              " 110,\n",
              " 3103,\n",
              " 21,\n",
              " 14,\n",
              " 69,\n",
              " 188,\n",
              " 8,\n",
              " 30,\n",
              " 23,\n",
              " 7,\n",
              " 4,\n",
              " 249,\n",
              " 126,\n",
              " 93,\n",
              " 4,\n",
              " 114,\n",
              " 9,\n",
              " 2300,\n",
              " 1523,\n",
              " 5,\n",
              " 647,\n",
              " 4,\n",
              " 116,\n",
              " 9,\n",
              " 35,\n",
              " 8163,\n",
              " 4,\n",
              " 229,\n",
              " 9,\n",
              " 340,\n",
              " 1322,\n",
              " 4,\n",
              " 118,\n",
              " 9,\n",
              " 4,\n",
              " 130,\n",
              " 4901,\n",
              " 19,\n",
              " 4,\n",
              " 1002,\n",
              " 5,\n",
              " 89,\n",
              " 29,\n",
              " 952,\n",
              " 46,\n",
              " 37,\n",
              " 4,\n",
              " 455,\n",
              " 9,\n",
              " 45,\n",
              " 43,\n",
              " 38,\n",
              " 1543,\n",
              " 1905,\n",
              " 398,\n",
              " 4,\n",
              " 1649,\n",
              " 26,\n",
              " 6853,\n",
              " 5,\n",
              " 163,\n",
              " 11,\n",
              " 3215,\n",
              " 2,\n",
              " 4,\n",
              " 1153,\n",
              " 9,\n",
              " 194,\n",
              " 775,\n",
              " 7,\n",
              " 8255,\n",
              " 2,\n",
              " 349,\n",
              " 2637,\n",
              " 148,\n",
              " 605,\n",
              " 2,\n",
              " 8003,\n",
              " 15,\n",
              " 123,\n",
              " 125,\n",
              " 68,\n",
              " 2,\n",
              " 6853,\n",
              " 15,\n",
              " 349,\n",
              " 165,\n",
              " 4362,\n",
              " 98,\n",
              " 5,\n",
              " 4,\n",
              " 228,\n",
              " 9,\n",
              " 43,\n",
              " 2,\n",
              " 1157,\n",
              " 15,\n",
              " 299,\n",
              " 120,\n",
              " 5,\n",
              " 120,\n",
              " 174,\n",
              " 11,\n",
              " 220,\n",
              " 175,\n",
              " 136,\n",
              " 50,\n",
              " 9,\n",
              " 4373,\n",
              " 228,\n",
              " 8255,\n",
              " 5,\n",
              " 2,\n",
              " 656,\n",
              " 245,\n",
              " 2350,\n",
              " 5,\n",
              " 4,\n",
              " 9837,\n",
              " 131,\n",
              " 152,\n",
              " 491,\n",
              " 18,\n",
              " 2,\n",
              " 32,\n",
              " 7464,\n",
              " 1212,\n",
              " 14,\n",
              " 9,\n",
              " 6,\n",
              " 371,\n",
              " 78,\n",
              " 22,\n",
              " 625,\n",
              " 64,\n",
              " 1382,\n",
              " 9,\n",
              " 8,\n",
              " 168,\n",
              " 145,\n",
              " 23,\n",
              " 4,\n",
              " 1690,\n",
              " 15,\n",
              " 16,\n",
              " 4,\n",
              " 1355,\n",
              " 5,\n",
              " 28,\n",
              " 6,\n",
              " 52,\n",
              " 154,\n",
              " 462,\n",
              " 33,\n",
              " 89,\n",
              " 78,\n",
              " 285,\n",
              " 16,\n",
              " 145,\n",
              " 95]"
            ]
          },
          "execution_count": 5,
          "metadata": {},
          "output_type": "execute_result"
        }
      ],
      "source": [
        "input_train[1]"
      ]
    },
    {
      "cell_type": "code",
      "execution_count": 6,
      "id": "1394e877-217a-4e8f-aa8c-84356b32ac27",
      "metadata": {
        "id": "1394e877-217a-4e8f-aa8c-84356b32ac27",
        "outputId": "6b680716-a5e4-4e6c-cdab-5116c8d99072"
      },
      "outputs": [
        {
          "data": {
            "text/plain": [
              "189"
            ]
          },
          "execution_count": 6,
          "metadata": {},
          "output_type": "execute_result"
        }
      ],
      "source": [
        "len(input_train[1])"
      ]
    },
    {
      "cell_type": "code",
      "execution_count": 7,
      "id": "6ea58070-b6b3-4da7-98f7-df49f1ed41e7",
      "metadata": {
        "colab": {
          "base_uri": "https://localhost:8080/"
        },
        "id": "6ea58070-b6b3-4da7-98f7-df49f1ed41e7",
        "outputId": "1c18ea0a-5cd9-4c54-cd8f-f93c1d49e884"
      },
      "outputs": [],
      "source": [
        "# vocabulary\n",
        "word_index = imdb.get_word_index()\n",
        "# word_index"
      ]
    },
    {
      "cell_type": "code",
      "execution_count": 8,
      "id": "R74DpLsj3Z7Q",
      "metadata": {
        "colab": {
          "base_uri": "https://localhost:8080/"
        },
        "id": "R74DpLsj3Z7Q",
        "outputId": "0063aa7c-0f5f-4763-fbd4-eecab38486d1"
      },
      "outputs": [
        {
          "data": {
            "text/plain": [
              "88584"
            ]
          },
          "execution_count": 8,
          "metadata": {},
          "output_type": "execute_result"
        }
      ],
      "source": [
        "len(word_index)"
      ]
    },
    {
      "cell_type": "code",
      "execution_count": 9,
      "id": "45bf0cda-41bb-4568-9e78-d4beec3b6402",
      "metadata": {
        "id": "45bf0cda-41bb-4568-9e78-d4beec3b6402",
        "outputId": "e9f6f7de-3202-47f4-8e0f-97bd58207b79"
      },
      "outputs": [
        {
          "data": {
            "text/plain": [
              "\"[START] this film was just brilliant casting location scenery story direction everyone's really suited the part they played and you could just imagine being there robert [OOV] is an amazing actor and now the same being director [OOV] father came from the same scottish island as myself so i loved the fact there was a real connection with this film the witty remarks throughout the film were great it was just brilliant so much that i bought the film as soon as it was released for [OOV] and would recommend it to everyone to watch and the fly fishing was amazing really cried at the end it was so sad and you know what they say if you cry at a film it must have been good and this definitely was also [OOV] to the two little boy's that played the [OOV] of norman and paul they were just brilliant children are often left out of the [OOV] list i think because the stars that play them all grown up are such a big profile for the whole film but these children are amazing and should be praised for what they have done don't you think the whole story was so lovely because it was true and was someone's life after all that was shared with us all\""
            ]
          },
          "execution_count": 9,
          "metadata": {},
          "output_type": "execute_result"
        }
      ],
      "source": [
        "# Reverse the word index to obtain a dict mapping indices to words\n",
        "# And add `index_from` to indices to sync with `x_train`\n",
        "inverted_word_index = dict(\n",
        "    (i + index_from, word) for (word, i) in word_index.items()\n",
        ")\n",
        "# Update `inverted_word_index` to include `start_char` and `oov_char`\n",
        "inverted_word_index[start_char] = \"[START]\"\n",
        "inverted_word_index[oov_char] = \"[OOV]\"\n",
        "# Decode the first sequence in the dataset\n",
        "decoded_sequence = \" \".join(inverted_word_index[i] for i in input_train[0])\n",
        "decoded_sequence"
      ]
    },
    {
      "cell_type": "code",
      "execution_count": 10,
      "id": "8057a563-175c-4ff7-a9df-fb4aabf485b2",
      "metadata": {
        "id": "8057a563-175c-4ff7-a9df-fb4aabf485b2"
      },
      "outputs": [],
      "source": [
        "# padding\n",
        "input_train = pad_sequences(input_train, maxlen=maxlen) # доповнення нулями\n",
        "input_test = pad_sequences(input_test, maxlen=maxlen)\n",
        "# truncation - зрізання речення за межами максимальної довжини\n",
        "# Застосування заздалегідь обраної максимальної довжини до послідовних даних тренувального та тестового наборів"
      ]
    },
    {
      "cell_type": "code",
      "execution_count": 11,
      "id": "372004ee-86fc-40b2-8720-cefa0a072078",
      "metadata": {
        "id": "372004ee-86fc-40b2-8720-cefa0a072078",
        "outputId": "6a71e529-7e05-42c5-c6d0-09fcb3487fc1"
      },
      "outputs": [
        {
          "data": {
            "text/plain": [
              "array([   0,    0,    0,    0,    0,    0,    0,    0,    0,    0,    0,\n",
              "          0,    0,    0,    0,    0,    0,    0,    0,    0,    0,    0,\n",
              "          0,    0,    0,    0,    0,    0,    0,    0,    0,    0,    0,\n",
              "          0,    0,    0,    0,    0,    0,    0,    0,    0,    0,    0,\n",
              "          0,    0,    0,    0,    0,    0,    0,    0,    0,    0,    0,\n",
              "          0,    0,    0,    0,    0,    0,    0,    0,    0,    0,    0,\n",
              "          0,    0,    0,    0,    0,    0,    0,    0,    0,    0,    0,\n",
              "          0,    0,    0,    0,    0,    0,    0,    0,    0,    0,    0,\n",
              "          0,    0,    0,    0,    0,    0,    0,    0,    0,    0,    0,\n",
              "          0,    0,    0,    0,    0,    0,    0,    0,    0,    0,    0,\n",
              "          0,    0,    0,    0,    0,    0,    0,    0,    0,    0,    0,\n",
              "          0,    0,    0,    0,    0,    0,    0,    0,    0,    0,    0,\n",
              "          0,    0,    0,    0,    0,    0,    0,    0,    0,    0,    0,\n",
              "          0,    0,    0,    0,    0,    0,    0,    0,    0,    0,    0,\n",
              "          0,    0,    0,    0,    0,    0,    0,    0,    0,    0,    0,\n",
              "          0,    0,    0,    0,    0,    0,    0,    0,    0,    0,    0,\n",
              "          0,    0,    0,    0,    0,    0,    0,    0,    0,    0,    0,\n",
              "          0,    0,    0,    0,    0,    0,    0,    0,    0,    0,    0,\n",
              "          0,    0,    0,    0,    0,    0,    0,    0,    0,    0,    0,\n",
              "          0,    0,    0,    0,    0,    0,    0,    0,    0,    0,    0,\n",
              "          0,    0,    0,    0,    0,    0,    0,    0,    0,    0,    0,\n",
              "          0,    0,    0,    0,    0,    0,    0,    0,    0,    0,    0,\n",
              "          0,    0,    0,    0,    0,    0,    0,    0,    0,    0,    0,\n",
              "          0,    0,    0,    0,    0,    0,    0,    0,    0,    0,    0,\n",
              "          0,    0,    0,    0,    0,    0,    0,    0,    0,    0,    0,\n",
              "          0,    0,    0,    0,    0,    0,    0,    1,   14,   22,   16,\n",
              "         43,  530,  973, 1622, 1385,   65,  458, 4468,   66, 3941,    4,\n",
              "        173,   36,  256,    5,   25,  100,   43,  838,  112,   50,  670,\n",
              "          2,    9,   35,  480,  284,    5,  150,    4,  172,  112,  167,\n",
              "          2,  336,  385,   39,    4,  172, 4536, 1111,   17,  546,   38,\n",
              "         13,  447,    4,  192,   50,   16,    6,  147, 2025,   19,   14,\n",
              "         22,    4, 1920, 4613,  469,    4,   22,   71,   87,   12,   16,\n",
              "         43,  530,   38,   76,   15,   13, 1247,    4,   22,   17,  515,\n",
              "         17,   12,   16,  626,   18,    2,    5,   62,  386,   12,    8,\n",
              "        316,    8,  106,    5,    4, 2223, 5244,   16,  480,   66, 3785,\n",
              "         33,    4,  130,   12,   16,   38,  619,    5,   25,  124,   51,\n",
              "         36,  135,   48,   25, 1415,   33,    6,   22,   12,  215,   28,\n",
              "         77,   52,    5,   14,  407,   16,   82,    2,    8,    4,  107,\n",
              "        117, 5952,   15,  256,    4,    2,    7, 3766,    5,  723,   36,\n",
              "         71,   43,  530,  476,   26,  400,  317,   46,    7,    4,    2,\n",
              "       1029,   13,  104,   88,    4,  381,   15,  297,   98,   32, 2071,\n",
              "         56,   26,  141,    6,  194, 7486,   18,    4,  226,   22,   21,\n",
              "        134,  476,   26,  480,    5,  144,   30, 5535,   18,   51,   36,\n",
              "         28,  224,   92,   25,  104,    4,  226,   65,   16,   38, 1334,\n",
              "         88,   12,   16,  283,    5,   16, 4472,  113,  103,   32,   15,\n",
              "         16, 5345,   19,  178,   32], dtype=int32)"
            ]
          },
          "execution_count": 11,
          "metadata": {},
          "output_type": "execute_result"
        }
      ],
      "source": [
        "input_train[0]"
      ]
    },
    {
      "cell_type": "code",
      "execution_count": 12,
      "id": "dfbe7d52-b231-4887-a5b7-881046423f89",
      "metadata": {
        "id": "dfbe7d52-b231-4887-a5b7-881046423f89",
        "outputId": "9f258db6-3962-477f-bb37-c4488d5e596e"
      },
      "outputs": [
        {
          "data": {
            "text/plain": [
              "500"
            ]
          },
          "execution_count": 12,
          "metadata": {},
          "output_type": "execute_result"
        }
      ],
      "source": [
        "len(input_train[0])"
      ]
    },
    {
      "cell_type": "code",
      "execution_count": 13,
      "id": "41f19b32-0c8e-484e-ab1b-cb31106deb74",
      "metadata": {
        "id": "41f19b32-0c8e-484e-ab1b-cb31106deb74",
        "outputId": "1cbed027-dbac-4c00-b556-0e8cf2485c78"
      },
      "outputs": [
        {
          "data": {
            "text/plain": [
              "array([[   0,    0,    0, ...,   19,  178,   32],\n",
              "       [   0,    0,    0, ...,   16,  145,   95],\n",
              "       [   0,    0,    0, ...,    7,  129,  113],\n",
              "       ...,\n",
              "       [   0,    0,    0, ...,    4, 3586,    2],\n",
              "       [   0,    0,    0, ...,   12,    9,   23],\n",
              "       [   0,    0,    0, ...,  204,  131,    9]], dtype=int32)"
            ]
          },
          "execution_count": 13,
          "metadata": {},
          "output_type": "execute_result"
        }
      ],
      "source": [
        "input_train[:]"
      ]
    },
    {
      "cell_type": "code",
      "execution_count": 14,
      "id": "a998476d-f769-49e4-98a9-244ddb100be0",
      "metadata": {
        "id": "a998476d-f769-49e4-98a9-244ddb100be0"
      },
      "outputs": [],
      "source": [
        "model = Sequential()\n",
        "# Створення порожньої моделі Sequential\n",
        "\n",
        "# Додавання Embedding шар для перетворення слів в вектори фіксованої довжини\n",
        "model.add(Embedding(max_features, 32))\n",
        "# Параметри: кількість слів для розгляду як особливості та розмір вектора, що представляє кожне слово\n",
        "\n",
        "# Додавання SimpleRNN шару з 32 вузлами\n",
        "model.add(SimpleRNN(32))\n",
        "# Параметр: кількість вузлів (розмір прихованого стану)\n",
        "\n",
        "# Додавання Dense шару з одним вузлом та активацією sigmoid\n",
        "model.add(Dense(1, activation='sigmoid'))\n",
        "# Параметри: кількість вузлів (вихідний розмір) та функція активації (sigmoid для бінарної класифікації)"
      ]
    },
    {
      "cell_type": "code",
      "execution_count": 15,
      "id": "cef55fa2-62e4-444f-84d7-f958958af6e2",
      "metadata": {
        "id": "cef55fa2-62e4-444f-84d7-f958958af6e2"
      },
      "outputs": [],
      "source": [
        "model.compile(optimizer='rmsprop', loss='binary_crossentropy', metrics=['acc'])"
      ]
    },
    {
      "cell_type": "code",
      "execution_count": 16,
      "id": "7691ecfd-ba51-4e7b-a6d6-579f0b9aae20",
      "metadata": {
        "id": "7691ecfd-ba51-4e7b-a6d6-579f0b9aae20",
        "outputId": "a2dfb52b-a796-46d6-8644-005a9eaf9eb7"
      },
      "outputs": [
        {
          "data": {
            "text/html": [
              "<pre style=\"white-space:pre;overflow-x:auto;line-height:normal;font-family:Menlo,'DejaVu Sans Mono',consolas,'Courier New',monospace\"><span style=\"font-weight: bold\">Model: \"sequential\"</span>\n",
              "</pre>\n"
            ],
            "text/plain": [
              "\u001b[1mModel: \"sequential\"\u001b[0m\n"
            ]
          },
          "metadata": {},
          "output_type": "display_data"
        },
        {
          "data": {
            "text/html": [
              "<pre style=\"white-space:pre;overflow-x:auto;line-height:normal;font-family:Menlo,'DejaVu Sans Mono',consolas,'Courier New',monospace\">┏━━━━━━━━━━━━━━━━━━━━━━━━━━━━━━━━━┳━━━━━━━━━━━━━━━━━━━━━━━━┳━━━━━━━━━━━━━━━┓\n",
              "┃<span style=\"font-weight: bold\"> Layer (type)                    </span>┃<span style=\"font-weight: bold\"> Output Shape           </span>┃<span style=\"font-weight: bold\">       Param # </span>┃\n",
              "┡━━━━━━━━━━━━━━━━━━━━━━━━━━━━━━━━━╇━━━━━━━━━━━━━━━━━━━━━━━━╇━━━━━━━━━━━━━━━┩\n",
              "│ embedding (<span style=\"color: #0087ff; text-decoration-color: #0087ff\">Embedding</span>)           │ ?                      │   <span style=\"color: #00af00; text-decoration-color: #00af00\">0</span> (unbuilt) │\n",
              "├─────────────────────────────────┼────────────────────────┼───────────────┤\n",
              "│ simple_rnn (<span style=\"color: #0087ff; text-decoration-color: #0087ff\">SimpleRNN</span>)          │ ?                      │   <span style=\"color: #00af00; text-decoration-color: #00af00\">0</span> (unbuilt) │\n",
              "├─────────────────────────────────┼────────────────────────┼───────────────┤\n",
              "│ dense (<span style=\"color: #0087ff; text-decoration-color: #0087ff\">Dense</span>)                   │ ?                      │   <span style=\"color: #00af00; text-decoration-color: #00af00\">0</span> (unbuilt) │\n",
              "└─────────────────────────────────┴────────────────────────┴───────────────┘\n",
              "</pre>\n"
            ],
            "text/plain": [
              "┏━━━━━━━━━━━━━━━━━━━━━━━━━━━━━━━━━┳━━━━━━━━━━━━━━━━━━━━━━━━┳━━━━━━━━━━━━━━━┓\n",
              "┃\u001b[1m \u001b[0m\u001b[1mLayer (type)                   \u001b[0m\u001b[1m \u001b[0m┃\u001b[1m \u001b[0m\u001b[1mOutput Shape          \u001b[0m\u001b[1m \u001b[0m┃\u001b[1m \u001b[0m\u001b[1m      Param #\u001b[0m\u001b[1m \u001b[0m┃\n",
              "┡━━━━━━━━━━━━━━━━━━━━━━━━━━━━━━━━━╇━━━━━━━━━━━━━━━━━━━━━━━━╇━━━━━━━━━━━━━━━┩\n",
              "│ embedding (\u001b[38;5;33mEmbedding\u001b[0m)           │ ?                      │   \u001b[38;5;34m0\u001b[0m (unbuilt) │\n",
              "├─────────────────────────────────┼────────────────────────┼───────────────┤\n",
              "│ simple_rnn (\u001b[38;5;33mSimpleRNN\u001b[0m)          │ ?                      │   \u001b[38;5;34m0\u001b[0m (unbuilt) │\n",
              "├─────────────────────────────────┼────────────────────────┼───────────────┤\n",
              "│ dense (\u001b[38;5;33mDense\u001b[0m)                   │ ?                      │   \u001b[38;5;34m0\u001b[0m (unbuilt) │\n",
              "└─────────────────────────────────┴────────────────────────┴───────────────┘\n"
            ]
          },
          "metadata": {},
          "output_type": "display_data"
        },
        {
          "data": {
            "text/html": [
              "<pre style=\"white-space:pre;overflow-x:auto;line-height:normal;font-family:Menlo,'DejaVu Sans Mono',consolas,'Courier New',monospace\"><span style=\"font-weight: bold\"> Total params: </span><span style=\"color: #00af00; text-decoration-color: #00af00\">0</span> (0.00 B)\n",
              "</pre>\n"
            ],
            "text/plain": [
              "\u001b[1m Total params: \u001b[0m\u001b[38;5;34m0\u001b[0m (0.00 B)\n"
            ]
          },
          "metadata": {},
          "output_type": "display_data"
        },
        {
          "data": {
            "text/html": [
              "<pre style=\"white-space:pre;overflow-x:auto;line-height:normal;font-family:Menlo,'DejaVu Sans Mono',consolas,'Courier New',monospace\"><span style=\"font-weight: bold\"> Trainable params: </span><span style=\"color: #00af00; text-decoration-color: #00af00\">0</span> (0.00 B)\n",
              "</pre>\n"
            ],
            "text/plain": [
              "\u001b[1m Trainable params: \u001b[0m\u001b[38;5;34m0\u001b[0m (0.00 B)\n"
            ]
          },
          "metadata": {},
          "output_type": "display_data"
        },
        {
          "data": {
            "text/html": [
              "<pre style=\"white-space:pre;overflow-x:auto;line-height:normal;font-family:Menlo,'DejaVu Sans Mono',consolas,'Courier New',monospace\"><span style=\"font-weight: bold\"> Non-trainable params: </span><span style=\"color: #00af00; text-decoration-color: #00af00\">0</span> (0.00 B)\n",
              "</pre>\n"
            ],
            "text/plain": [
              "\u001b[1m Non-trainable params: \u001b[0m\u001b[38;5;34m0\u001b[0m (0.00 B)\n"
            ]
          },
          "metadata": {},
          "output_type": "display_data"
        }
      ],
      "source": [
        "model.summary()"
      ]
    },
    {
      "cell_type": "code",
      "execution_count": 17,
      "id": "d51a7550-b2f8-4b1a-b5a6-8a1d2d565c48",
      "metadata": {
        "id": "d51a7550-b2f8-4b1a-b5a6-8a1d2d565c48",
        "outputId": "09bec5ca-9b9c-45ac-d61a-51f70879a101"
      },
      "outputs": [
        {
          "data": {
            "text/plain": [
              "0"
            ]
          },
          "execution_count": 17,
          "metadata": {},
          "output_type": "execute_result"
        }
      ],
      "source": [
        "#len(model.layers[0].weights[0][0])\n",
        "len(model.layers[0].weights)# one vector of length 32 per word -> this is learnt"
      ]
    },
    {
      "cell_type": "code",
      "execution_count": 18,
      "id": "ef9cc598-a527-454c-889a-5e709be51f4e",
      "metadata": {
        "id": "ef9cc598-a527-454c-889a-5e709be51f4e",
        "outputId": "f2c50d41-8e5e-44e0-a658-36419f9ce079"
      },
      "outputs": [
        {
          "name": "stdout",
          "output_type": "stream",
          "text": [
            "Epoch 1/5\n",
            "\u001b[1m126/126\u001b[0m \u001b[32m━━━━━━━━━━━━━━━━━━━━\u001b[0m\u001b[37m\u001b[0m \u001b[1m8s\u001b[0m 57ms/step - acc: 0.5158 - loss: 0.6955 - val_acc: 0.6676 - val_loss: 0.6101\n",
            "Epoch 2/5\n",
            "\u001b[1m126/126\u001b[0m \u001b[32m━━━━━━━━━━━━━━━━━━━━\u001b[0m\u001b[37m\u001b[0m \u001b[1m6s\u001b[0m 51ms/step - acc: 0.7312 - loss: 0.5530 - val_acc: 0.8255 - val_loss: 0.4099\n",
            "Epoch 3/5\n",
            "\u001b[1m126/126\u001b[0m \u001b[32m━━━━━━━━━━━━━━━━━━━━\u001b[0m\u001b[37m\u001b[0m \u001b[1m6s\u001b[0m 51ms/step - acc: 0.8465 - loss: 0.3732 - val_acc: 0.7276 - val_loss: 0.6201\n",
            "Epoch 4/5\n",
            "\u001b[1m126/126\u001b[0m \u001b[32m━━━━━━━━━━━━━━━━━━━━\u001b[0m\u001b[37m\u001b[0m \u001b[1m6s\u001b[0m 50ms/step - acc: 0.8840 - loss: 0.2925 - val_acc: 0.7876 - val_loss: 0.4806\n",
            "Epoch 5/5\n",
            "\u001b[1m126/126\u001b[0m \u001b[32m━━━━━━━━━━━━━━━━━━━━\u001b[0m\u001b[37m\u001b[0m \u001b[1m6s\u001b[0m 51ms/step - acc: 0.9141 - loss: 0.2275 - val_acc: 0.7955 - val_loss: 0.4338\n"
          ]
        }
      ],
      "source": [
        "history = model.fit(input_train, y_train, epochs=5, batch_size=128, validation_split=0.3)\n",
        "# Запускаємо навчання моделі на тренувальних даних для 5 епох з розміром пакету 128 та розбиттям на тренувальну та валідаційну підмножини"
      ]
    },
    {
      "cell_type": "code",
      "execution_count": 44,
      "id": "0fe1bf9f-2883-41a9-bd57-c6a5e65d6c27",
      "metadata": {
        "id": "0fe1bf9f-2883-41a9-bd57-c6a5e65d6c27",
        "outputId": "47c38c10-793f-4e2d-ced9-2060c50a4ee0"
      },
      "outputs": [
        {
          "data": {
            "image/png": "[encoded data removed]",
            "text/plain": [
              "<Figure size 640x480 with 1 Axes>"
            ]
          },
          "metadata": {},
          "output_type": "display_data"
        },
        {
          "data": {
            "image/png": "[encoded data removed]",
            "text/plain": [
              "<Figure size 640x480 with 1 Axes>"
            ]
          },
          "metadata": {},
          "output_type": "display_data"
        }
      ],
      "source": [
        "acc = history.history['acc']\n",
        "val_acc = history.history['val_acc']\n",
        "loss = history.history['loss']\n",
        "val_loss = history.history['val_loss']\n",
        "\n",
        "epochs = range(1, len(acc) + 1)\n",
        "\n",
        "plt.plot(epochs, acc, 'bo', label='Точність на тренуванні')  # Графік точності на тренувальних данних\n",
        "plt.plot(epochs, val_acc, 'b', label='Точність на валідації')  # Графік точності на валідаційних данних\n",
        "plt.title('Точність тренування і валідації')  # Заголовок графіку\n",
        "plt.legend()  # Показати легенду\n",
        "\n",
        "plt.figure()\n",
        "\n",
        "plt.plot(epochs, loss, 'bo', label='Втрати на тренуванні')  # Графік втрат на тренувальних данних\n",
        "plt.plot(epochs, val_loss, 'b', label='Втрати на валідації')  # Графік втрат на валідаційних данних\n",
        "plt.title('Втрати тренування і валідації')  # Заголовок графіку\n",
        "plt.legend()  # Показати легенду\n",
        "\n",
        "plt.show()  # Відобразити графіки"
      ]
    },
    {
      "cell_type": "markdown",
      "id": "3fd374e1-524c-45ff-8b30-e7af28a5a657",
      "metadata": {
        "id": "3fd374e1-524c-45ff-8b30-e7af28a5a657"
      },
      "source": [
        "## Embedding\n",
        "![embedding](https://textbook.edu.goit.global/python/data-science-remaster/v1/img/module-11/example3.png)"
      ]
    },
    {
      "cell_type": "code",
      "execution_count": null,
      "id": "172c4b48-ddba-4836-81c9-9e570b08ffdb",
      "metadata": {
        "id": "172c4b48-ddba-4836-81c9-9e570b08ffdb"
      },
      "outputs": [],
      "source": [
        "# Let's take a detailed look at how the Embedding layer and the SimpleRNN layer can be implemented\n",
        "import numpy as np\n",
        "\n",
        "# Custom implementation of the Embedding layer\n",
        "class CustomEmbedding:\n",
        "    def __init__(self, input_dim, output_dim):  # max_features (10000), vector_size (32)\n",
        "        self.input_dim = input_dim\n",
        "        self.output_dim = output_dim\n",
        "        # Initialize embedding matrix with random values\n",
        "        self.embeddings_matrix = np.random.randn(input_dim, output_dim)\n",
        "\n",
        "    def forward(self, input_sequence):\n",
        "        # Retrieve embeddings for input sequence\n",
        "        embeddings = [self.embeddings_matrix[word_index] for word_index in input_sequence] # input_sequence is a list of word indices\n",
        "        return np.array(embeddings) # Convert list of embeddings to numpy array"
      ]
    },
    {
      "cell_type": "markdown",
      "id": "47aa1964-2214-4927-a31c-71af22984c29",
      "metadata": {
        "id": "47aa1964-2214-4927-a31c-71af22984c29"
      },
      "source": [
        "## RNN and hidden layers\n",
        "\n",
        "## Sequence classification\n",
        "![embedding](https://textbook.edu.goit.global/python/data-science-remaster/v1/img/module-11/example3.png)"
      ]
    },
    {
      "cell_type": "code",
      "execution_count": null,
      "id": "0136d33e-f622-4345-8156-aa3f173a911c",
      "metadata": {
        "id": "0136d33e-f622-4345-8156-aa3f173a911c"
      },
      "outputs": [],
      "source": [
        "# Custom implementation of the SimpleRNN layer\n",
        "class CustomSimpleRNN:\n",
        "    def __init__(self, input_dim, hidden_dim):\n",
        "        self.input_dim = input_dim # max_features (10000)\n",
        "        self.hidden_dim = hidden_dim # 32\n",
        "        # Initialize weights for input-to-hidden and hidden-to-hidden connections\n",
        "        self.Wx = np.random.randn(input_dim, hidden_dim) # input_dim is the size of the input vector (e.g., embedding size)\n",
        "        self.Wh = np.random.randn(hidden_dim, hidden_dim) # hidden_dim is the size of the hidden state\n",
        "        # Initialize bias\n",
        "        self.b = np.zeros((1, hidden_dim)) # bias vector for the hidden state\n",
        "        # Initialize hidden state\n",
        "        self.h = None # hidden state initialized to None\n",
        "\n",
        "    def forward(self, input_sequence):\n",
        "        # Initialize hidden state with zeros\n",
        "        self.h = np.zeros((1, self.hidden_dim)) # hidden state initialized to zeros\n",
        "        # Iterate over each timestep in input sequence\n",
        "        for input_t in input_sequence: # input_sequence is a list of word embeddings\n",
        "            # Compute hidden state at current timestep\n",
        "            self.h = np.tanh(np.dot(input_t, self.Wx) + np.dot(self.h, self.Wh) + self.b)  # tanh activation function\n",
        "        return self.h # hidden state after processing the entire sequence\n",
        "\n"
      ]
    },
    {
      "cell_type": "code",
      "execution_count": null,
      "id": "16b22be0-392e-4f38-a91b-682b473a105e",
      "metadata": {
        "id": "16b22be0-392e-4f38-a91b-682b473a105e"
      },
      "outputs": [],
      "source": [
        "# Custom implementation of the Dense layer - for a sequence classification\n",
        "class CustomDense:\n",
        "    def __init__(self, input_dim, output_dim, activation):\n",
        "        self.input_dim = input_dim # size of the input vector (e.g., hidden state size)\n",
        "        self.output_dim = output_dim # number of output nodes (e.g., 1 for binary classification)\n",
        "        self.activation = activation # activation function ('sigmoid' or 'relu')\n",
        "        # Initialize weights and bias \n",
        "        self.W = np.random.randn(input_dim, output_dim) # input_dim is the size of the input vector (e.g., hidden state size)\n",
        "        self.b = np.zeros((1, output_dim)) # bias vector for the output layer\n",
        "\n",
        "    def forward(self, x):\n",
        "        # Compute affine transformation\n",
        "        z = np.dot(x, self.W) + self.b # input vector x is multiplied by weights W and added to bias b\n",
        "        # Apply activation function\n",
        "        if self.activation == 'sigmoid':\n",
        "            return 1 / (1 + np.exp(-z)) # sigmoid activation function\n",
        "        elif self.activation == 'relu':\n",
        "            return np.maximum(0, z) # ReLU activation function"
      ]
    },
    {
      "cell_type": "code",
      "execution_count": 48,
      "id": "cace5e5c-9052-44a0-af16-19dfc3197909",
      "metadata": {
        "id": "cace5e5c-9052-44a0-af16-19dfc3197909"
      },
      "outputs": [],
      "source": [
        "# Instantiate custom layers\n",
        "custom_embedding_layer = CustomEmbedding(input_dim=max_features, output_dim=32)  # max_features = 10000\n",
        "custom_simple_rnn_layer = CustomSimpleRNN(input_dim=32, hidden_dim=32)\n",
        "custom_dense_layer = CustomDense(input_dim=32, output_dim=1, activation='sigmoid')\n"
      ]
    },
    {
      "cell_type": "code",
      "execution_count": 49,
      "id": "4aeef876-a0a3-413b-9be0-235d9c180de7",
      "metadata": {
        "id": "4aeef876-a0a3-413b-9be0-235d9c180de7",
        "outputId": "8c7040f8-f4ad-40f8-9eff-7926d3ca8fdf"
      },
      "outputs": [
        {
          "data": {
            "text/plain": [
              "array([   0,    0,    0,    0,    0,    0,    0,    0,    0,    0,    0,\n",
              "          0,    0,    0,    0,    0,    0,    0,    0,    0,    0,    0,\n",
              "          0,    0,    0,    0,    0,    0,    0,    0,    0,    0,    0,\n",
              "          0,    0,    0,    0,    0,    0,    0,    0,    0,    0,    0,\n",
              "          0,    0,    0,    0,    0,    0,    0,    0,    0,    0,    0,\n",
              "          0,    0,    0,    0,    0,    0,    0,    0,    0,    0,    0,\n",
              "          0,    0,    0,    0,    0,    0,    0,    0,    0,    0,    0,\n",
              "          0,    0,    0,    0,    0,    0,    0,    0,    0,    0,    0,\n",
              "          0,    0,    0,    0,    0,    0,    0,    0,    0,    0,    0,\n",
              "          0,    0,    0,    0,    0,    0,    0,    0,    0,    0,    0,\n",
              "          0,    0,    0,    0,    0,    0,    0,    0,    0,    0,    0,\n",
              "          0,    0,    0,    0,    0,    0,    0,    0,    0,    0,    0,\n",
              "          0,    0,    0,    0,    0,    0,    0,    0,    0,    0,    0,\n",
              "          0,    0,    0,    0,    0,    0,    0,    0,    0,    0,    0,\n",
              "          0,    0,    0,    0,    0,    0,    0,    0,    0,    0,    0,\n",
              "          0,    0,    0,    0,    0,    0,    0,    0,    0,    0,    0,\n",
              "          0,    0,    0,    0,    0,    0,    0,    0,    0,    0,    0,\n",
              "          0,    0,    0,    0,    0,    0,    0,    0,    0,    0,    0,\n",
              "          0,    0,    0,    0,    0,    0,    0,    0,    0,    0,    0,\n",
              "          0,    0,    0,    0,    0,    0,    0,    0,    0,    0,    0,\n",
              "          0,    0,    0,    0,    0,    0,    0,    0,    0,    0,    0,\n",
              "          0,    0,    0,    0,    0,    0,    0,    0,    0,    0,    0,\n",
              "          0,    0,    0,    0,    0,    0,    0,    0,    0,    0,    0,\n",
              "          0,    0,    0,    0,    0,    0,    0,    0,    0,    0,    0,\n",
              "          0,    0,    0,    0,    0,    0,    0,    0,    0,    0,    0,\n",
              "          0,    0,    0,    0,    0,    0,    0,    1,   14,   22,   16,\n",
              "         43,  530,  973, 1622, 1385,   65,  458, 4468,   66, 3941,    4,\n",
              "        173,   36,  256,    5,   25,  100,   43,  838,  112,   50,  670,\n",
              "          2,    9,   35,  480,  284,    5,  150,    4,  172,  112,  167,\n",
              "          2,  336,  385,   39,    4,  172, 4536, 1111,   17,  546,   38,\n",
              "         13,  447,    4,  192,   50,   16,    6,  147, 2025,   19,   14,\n",
              "         22,    4, 1920, 4613,  469,    4,   22,   71,   87,   12,   16,\n",
              "         43,  530,   38,   76,   15,   13, 1247,    4,   22,   17,  515,\n",
              "         17,   12,   16,  626,   18,    2,    5,   62,  386,   12,    8,\n",
              "        316,    8,  106,    5,    4, 2223, 5244,   16,  480,   66, 3785,\n",
              "         33,    4,  130,   12,   16,   38,  619,    5,   25,  124,   51,\n",
              "         36,  135,   48,   25, 1415,   33,    6,   22,   12,  215,   28,\n",
              "         77,   52,    5,   14,  407,   16,   82,    2,    8,    4,  107,\n",
              "        117, 5952,   15,  256,    4,    2,    7, 3766,    5,  723,   36,\n",
              "         71,   43,  530,  476,   26,  400,  317,   46,    7,    4,    2,\n",
              "       1029,   13,  104,   88,    4,  381,   15,  297,   98,   32, 2071,\n",
              "         56,   26,  141,    6,  194, 7486,   18,    4,  226,   22,   21,\n",
              "        134,  476,   26,  480,    5,  144,   30, 5535,   18,   51,   36,\n",
              "         28,  224,   92,   25,  104,    4,  226,   65,   16,   38, 1334,\n",
              "         88,   12,   16,  283,    5,   16, 4472,  113,  103,   32,   15,\n",
              "         16, 5345,   19,  178,   32], dtype=int32)"
            ]
          },
          "execution_count": 49,
          "metadata": {},
          "output_type": "execute_result"
        }
      ],
      "source": [
        "input_train[0]"
      ]
    },
    {
      "cell_type": "code",
      "execution_count": 50,
      "id": "7fed5def-b114-4575-b757-60ff76d810af",
      "metadata": {
        "id": "7fed5def-b114-4575-b757-60ff76d810af",
        "outputId": "41f69fbd-58ac-4462-90ce-d9f33e707a8e"
      },
      "outputs": [
        {
          "data": {
            "text/plain": [
              "500"
            ]
          },
          "execution_count": 50,
          "metadata": {},
          "output_type": "execute_result"
        }
      ],
      "source": [
        "# Forward pass through custom layers\n",
        "\n",
        "embedded_sequence = custom_embedding_layer.forward(input_train[0])\n",
        "len(embedded_sequence) # each word encoded into a 32-element vector"
      ]
    },
    {
      "cell_type": "code",
      "execution_count": 51,
      "id": "ac1a4ffc-8a42-4a03-9a13-6f9f32d37446",
      "metadata": {
        "id": "ac1a4ffc-8a42-4a03-9a13-6f9f32d37446",
        "outputId": "8f909c66-e32e-4613-d839-7eb9dd254143"
      },
      "outputs": [
        {
          "data": {
            "text/plain": [
              "array([[ 1.42165857,  1.27153646, -0.21509191, ..., -0.50874088,\n",
              "         0.83804468,  1.22794236],\n",
              "       [ 1.42165857,  1.27153646, -0.21509191, ..., -0.50874088,\n",
              "         0.83804468,  1.22794236],\n",
              "       [ 1.42165857,  1.27153646, -0.21509191, ..., -0.50874088,\n",
              "         0.83804468,  1.22794236],\n",
              "       ...,\n",
              "       [-0.86762523,  0.12547271, -0.55500987, ..., -0.90277754,\n",
              "        -0.15998151, -1.23524623],\n",
              "       [ 0.7798671 ,  1.40027815,  0.00771684, ..., -0.41744783,\n",
              "        -0.21348395, -0.00551551],\n",
              "       [-0.09708114,  0.32260988,  1.09697485, ...,  0.78983548,\n",
              "        -1.35198526,  2.93422573]])"
            ]
          },
          "execution_count": 51,
          "metadata": {},
          "output_type": "execute_result"
        }
      ],
      "source": [
        "embedded_sequence"
      ]
    },
    {
      "cell_type": "code",
      "execution_count": 52,
      "id": "7e10afdc-9e5c-47d7-b872-896c2336c02a",
      "metadata": {
        "id": "7e10afdc-9e5c-47d7-b872-896c2336c02a",
        "outputId": "cd06f30b-fa5b-4458-de77-6f3adb0b9e2d"
      },
      "outputs": [
        {
          "data": {
            "text/plain": [
              "array([-0.09708114,  0.32260988,  1.09697485, -0.07244599,  1.60230875,\n",
              "        0.34268179,  0.53613652, -0.42808936, -0.73181315, -0.64196141,\n",
              "       -1.05084125, -0.07153941,  0.17545789,  0.02353566, -0.79051668,\n",
              "        0.91769523,  0.0511232 ,  0.85200906, -0.08657574, -1.49141397,\n",
              "       -0.51929951, -0.46665447, -1.86034599,  2.03518546,  0.55643294,\n",
              "       -1.91857082, -1.80819696,  1.60993048, -0.99217026,  0.78983548,\n",
              "       -1.35198526,  2.93422573])"
            ]
          },
          "execution_count": 52,
          "metadata": {},
          "output_type": "execute_result"
        }
      ],
      "source": [
        "embedded_sequence[-1]"
      ]
    },
    {
      "cell_type": "code",
      "execution_count": 53,
      "id": "d12ab213-c0ae-4a76-929c-af6122647a2c",
      "metadata": {
        "id": "d12ab213-c0ae-4a76-929c-af6122647a2c",
        "outputId": "e4f2e3d0-a1f9-49e9-9e91-acf5af993738"
      },
      "outputs": [
        {
          "data": {
            "text/plain": [
              "array([[ 1.        ,  0.99999998,  0.04035741,  0.99987845,  0.99999961,\n",
              "        -0.99999964, -0.80039669,  0.99798269, -0.99999746,  0.99772088,\n",
              "         0.95712259, -0.99415157,  0.99929093,  0.99995184, -0.99999917,\n",
              "        -0.37215596, -0.99999002,  0.26967949, -0.99383576, -0.98880178,\n",
              "        -0.99999486,  0.99999389, -0.23996507, -1.        , -0.94616494,\n",
              "        -0.99869488,  0.99972386,  0.99999759,  0.99652693,  0.7567997 ,\n",
              "         1.        , -0.99974289]])"
            ]
          },
          "execution_count": 53,
          "metadata": {},
          "output_type": "execute_result"
        }
      ],
      "source": [
        "rnn_output = custom_simple_rnn_layer.forward(embedded_sequence)\n",
        "rnn_output"
      ]
    },
    {
      "cell_type": "code",
      "execution_count": 54,
      "id": "112d0f21-06e7-48be-b949-c15bb3c56936",
      "metadata": {
        "id": "112d0f21-06e7-48be-b949-c15bb3c56936",
        "outputId": "05d2d562-509c-48f2-edd1-6d45e871c4a5"
      },
      "outputs": [
        {
          "data": {
            "text/plain": [
              "array([[0.03337526]])"
            ]
          },
          "execution_count": 54,
          "metadata": {},
          "output_type": "execute_result"
        }
      ],
      "source": [
        "predictions = custom_dense_layer.forward(rnn_output)\n",
        "predictions"
      ]
    },
    {
      "cell_type": "code",
      "execution_count": 56,
      "id": "4d6aa200-59cd-4aef-86d1-a19031ed9d38",
      "metadata": {
        "id": "4d6aa200-59cd-4aef-86d1-a19031ed9d38",
        "outputId": "53438f8b-1072-4636-cad5-a7d95b3de270"
      },
      "outputs": [
        {
          "data": {
            "text/plain": [
              "array([-0.96662474])"
            ]
          },
          "execution_count": 56,
          "metadata": {},
          "output_type": "execute_result"
        }
      ],
      "source": [
        "# Backward pass through custom layers\n",
        "loss = predictions - y_train[0]  # Gradient of loss with respect to dense layer output\n",
        "loss[0]"
      ]
    },
    {
      "cell_type": "code",
      "execution_count": null,
      "id": "6f91a78e-d606-4f72-a86b-f28c37fcfb4d",
      "metadata": {
        "id": "6f91a78e-d606-4f72-a86b-f28c37fcfb4d",
        "outputId": "f98c45db-e133-4dde-d9aa-01bc51959d2f"
      },
      "outputs": [
        {
          "data": {
            "text/plain": [
              "1"
            ]
          },
          "execution_count": 57,
          "metadata": {},
          "output_type": "execute_result"
        }
      ],
      "source": [
        "y_train[0] # Actual label for the first training example"
      ]
    },
    {
      "cell_type": "code",
      "execution_count": null,
      "id": "0a005fd5-ff2f-421d-b913-dc54625aa372",
      "metadata": {
        "id": "0a005fd5-ff2f-421d-b913-dc54625aa372",
        "outputId": "ae7d1511-c9da-44ee-d2b7-376550248a26"
      },
      "outputs": [
        {
          "data": {
            "text/plain": [
              "array([[-0.21958535, -1.17031071, -1.48175984, ..., -0.31608053,\n",
              "         0.0685478 , -0.46655711],\n",
              "       [-0.27730548,  0.5399543 , -0.83797696, ...,  0.18863827,\n",
              "         0.26953053, -1.40429024],\n",
              "       [-0.06226278, -1.21643078, -0.56793855, ..., -0.69396989,\n",
              "        -0.97331162,  0.46727487],\n",
              "       ...,\n",
              "       [ 0.86590921,  0.4373272 ,  1.3155911 , ...,  0.56106974,\n",
              "        -0.16463501,  1.01372743],\n",
              "       [ 0.46631694, -0.95319805,  0.16041295, ...,  0.17153642,\n",
              "         2.62526757,  0.854289  ],\n",
              "       [ 1.58613429,  0.31943306, -0.83353876, ...,  0.45117319,\n",
              "        -0.232623  ,  1.36487563]])"
            ]
          },
          "execution_count": 58,
          "metadata": {},
          "output_type": "execute_result"
        }
      ],
      "source": [
        "custom_simple_rnn_layer.Wx # Input-to-hidden weights"
      ]
    },
    {
      "cell_type": "markdown",
      "id": "bc9e3d59-eb91-4426-9f47-e28d30cdcb21",
      "metadata": {
        "id": "bc9e3d59-eb91-4426-9f47-e28d30cdcb21"
      },
      "source": [
        "### Token classification"
      ]
    },
    {
      "cell_type": "code",
      "execution_count": 59,
      "id": "0f79d17c-9130-48d2-965e-2e58478fdb90",
      "metadata": {
        "id": "0f79d17c-9130-48d2-965e-2e58478fdb90"
      },
      "outputs": [],
      "source": [
        "import numpy as np\n",
        "\n",
        "# для порівняння:\n",
        "\"\"\"\n",
        "class CustomSimpleRNN:\n",
        "    def __init__(self, input_dim, hidden_dim):\n",
        "        self.input_dim = input_dim\n",
        "        self.hidden_dim = hidden_dim\n",
        "        self.Wx = np.random.randn(input_dim, hidden_dim)\n",
        "        self.Wh = np.random.randn(hidden_dim, hidden_dim)\n",
        "        self.b = np.zeros((1, hidden_dim))\n",
        "        self.h = None\n",
        "\n",
        "    def forward(self, input_sequence):\n",
        "        # Initialize hidden state with zeros\n",
        "        self.h = np.zeros((1, self.hidden_dim))\n",
        "        for input_t in input_sequence:\n",
        "            self.h = np.tanh(np.dot(input_t, self.Wx) + np.dot(self.h, self.Wh) + self.b)\n",
        "        return self.h\n",
        "\"\"\"\n",
        "class CustomSimpleRNN:\n",
        "    def __init__(self, input_dim, hidden_dim):\n",
        "        self.input_dim = input_dim\n",
        "        self.hidden_dim = hidden_dim\n",
        "        self.Wx = np.random.randn(input_dim, hidden_dim)\n",
        "        self.Wh = np.random.randn(hidden_dim, hidden_dim)\n",
        "        self.b = np.zeros((1, hidden_dim))\n",
        "        self.h = None\n",
        "\n",
        "    def forward(self, input_sequence):\n",
        "        self.h = np.zeros((len(input_sequence), self.hidden_dim))\n",
        "        for t in range(len(input_sequence)):\n",
        "            self.h[t] = np.tanh(np.dot(input_sequence[t], self.Wx) + np.dot(self.h[t-1], self.Wh) + self.b)\n",
        "        return self.h\n"
      ]
    },
    {
      "cell_type": "code",
      "execution_count": 60,
      "id": "0965ba84-60f8-41f5-89c5-5577d2f6f85d",
      "metadata": {
        "id": "0965ba84-60f8-41f5-89c5-5577d2f6f85d"
      },
      "outputs": [],
      "source": [
        "class CustomDense:\n",
        "    def __init__(self, input_dim, output_dim):\n",
        "        self.input_dim = input_dim\n",
        "        self.output_dim = output_dim\n",
        "        self.W = np.random.randn(input_dim, output_dim)\n",
        "        self.b = np.zeros((1, output_dim))\n",
        "\n",
        "    def layer(self, x):\n",
        "        z = np.dot(x, self.W) + self.b\n",
        "        return z\n",
        "\n",
        "    def softmax(self, z):\n",
        "        exp_z = np.exp(z - np.max(z, axis=1, keepdims=True))\n",
        "        return exp_z / np.sum(exp_z, axis=1, keepdims=True)\n",
        "\n",
        "    def forward(self, x):\n",
        "        z = self.layer(x)\n",
        "        return self.softmax(z)"
      ]
    },
    {
      "cell_type": "code",
      "execution_count": 61,
      "id": "88a6cf85-f065-410d-868d-5ca74238081b",
      "metadata": {
        "id": "88a6cf85-f065-410d-868d-5ca74238081b",
        "outputId": "45685784-fd8e-4656-84ff-0d5136511e86"
      },
      "outputs": [
        {
          "data": {
            "text/plain": [
              "array([[ 1.02894204,  0.68661876,  1.25714752, ...,  1.18325628,\n",
              "        -0.22801233,  0.19912146],\n",
              "       [ 1.02894204,  0.68661876,  1.25714752, ...,  1.18325628,\n",
              "        -0.22801233,  0.19912146],\n",
              "       [ 1.02894204,  0.68661876,  1.25714752, ...,  1.18325628,\n",
              "        -0.22801233,  0.19912146],\n",
              "       ...,\n",
              "       [-1.34426735,  1.06374281, -1.31637812, ..., -1.89342101,\n",
              "        -0.80866614,  0.31416277],\n",
              "       [ 1.42037162,  0.16856871,  0.87834978, ..., -0.44662161,\n",
              "        -0.17325985,  0.00570519],\n",
              "       [-1.18660258,  1.01237233,  0.369131  , ..., -0.08903771,\n",
              "        -1.12500609, -0.32702275]])"
            ]
          },
          "execution_count": 61,
          "metadata": {},
          "output_type": "execute_result"
        }
      ],
      "source": [
        "# Instantiate custom layers\n",
        "custom_embedding_layer = CustomEmbedding(input_dim=max_features, output_dim=32)\n",
        "custom_simple_rnn_layer = CustomSimpleRNN(input_dim=32, hidden_dim=32)\n",
        "# Output dimension is set to the number of tokens in the input sequence\n",
        "num_classes = 2  # Assuming `maxlen` is the maximum length of input sequence\n",
        "custom_dense_layer = CustomDense(input_dim=32, output_dim=num_classes)\n",
        "\n",
        "# Forward pass through custom layers\n",
        "embedded_sequence = custom_embedding_layer.forward(input_train[0])\n",
        "embedded_sequence"
      ]
    },
    {
      "cell_type": "code",
      "execution_count": 62,
      "id": "6609c54d-8e8d-412e-9cbd-1fcfd2abc117",
      "metadata": {
        "id": "6609c54d-8e8d-412e-9cbd-1fcfd2abc117",
        "outputId": "e4a71861-7299-41a7-a90d-26c66751a560"
      },
      "outputs": [
        {
          "data": {
            "text/plain": [
              "32"
            ]
          },
          "execution_count": 62,
          "metadata": {},
          "output_type": "execute_result"
        }
      ],
      "source": [
        "rnn_output = custom_simple_rnn_layer.forward(embedded_sequence)\n",
        "len(rnn_output[0])"
      ]
    },
    {
      "cell_type": "code",
      "execution_count": 63,
      "id": "6bd0ee1f-452d-4f18-adfe-0415fdd1b771",
      "metadata": {
        "id": "6bd0ee1f-452d-4f18-adfe-0415fdd1b771",
        "outputId": "6c00c612-5866-434c-b95f-4829526bc0ee"
      },
      "outputs": [
        {
          "data": {
            "text/plain": [
              "array([[9.96719472e-01, 3.28052825e-03],\n",
              "       [9.99592081e-01, 4.07919114e-04],\n",
              "       [9.94670682e-01, 5.32931816e-03],\n",
              "       [9.98644438e-01, 1.35556213e-03],\n",
              "       [9.99573880e-01, 4.26119830e-04],\n",
              "       [9.94133684e-01, 5.86631610e-03],\n",
              "       [9.97850573e-01, 2.14942697e-03],\n",
              "       [9.99509212e-01, 4.90787740e-04],\n",
              "       [3.33392064e-01, 6.66607936e-01],\n",
              "       [8.71303001e-01, 1.28696999e-01],\n",
              "       [9.99958090e-01, 4.19101742e-05],\n",
              "       [9.95509892e-01, 4.49010844e-03],\n",
              "       [2.93861009e-02, 9.70613899e-01],\n",
              "       [9.98915053e-01, 1.08494663e-03],\n",
              "       [9.97559151e-01, 2.44084935e-03],\n",
              "       [9.98548340e-01, 1.45166040e-03],\n",
              "       [7.63098050e-01, 2.36901950e-01],\n",
              "       [9.99762425e-01, 2.37574926e-04],\n",
              "       [8.78814755e-01, 1.21185245e-01],\n",
              "       [9.41465618e-01, 5.85343815e-02],\n",
              "       [9.82909640e-01, 1.70903596e-02],\n",
              "       [9.99054315e-01, 9.45685064e-04],\n",
              "       [9.99168109e-01, 8.31890784e-04],\n",
              "       [9.92543644e-01, 7.45635619e-03],\n",
              "       [9.96481602e-01, 3.51839845e-03],\n",
              "       [9.99863589e-01, 1.36411414e-04],\n",
              "       [9.54469882e-01, 4.55301182e-02],\n",
              "       [9.99996037e-01, 3.96269350e-06],\n",
              "       [9.94625324e-01, 5.37467580e-03],\n",
              "       [9.98089021e-01, 1.91097940e-03],\n",
              "       [9.99631558e-01, 3.68441961e-04],\n",
              "       [2.37435629e-01, 7.62564371e-01],\n",
              "       [2.88704392e-01, 7.11295608e-01],\n",
              "       [9.99996152e-01, 3.84833079e-06],\n",
              "       [9.03457124e-01, 9.65428760e-02],\n",
              "       [9.16171474e-01, 8.38285262e-02],\n",
              "       [9.99570338e-01, 4.29662000e-04],\n",
              "       [9.98487889e-01, 1.51211057e-03],\n",
              "       [9.95832916e-01, 4.16708390e-03],\n",
              "       [9.99856881e-01, 1.43119351e-04],\n",
              "       [8.88801965e-01, 1.11198035e-01],\n",
              "       [8.60766696e-01, 1.39233304e-01],\n",
              "       [9.96694313e-01, 3.30568718e-03],\n",
              "       [9.84525870e-01, 1.54741303e-02],\n",
              "       [9.00261781e-01, 9.97382193e-02],\n",
              "       [9.98242706e-01, 1.75729402e-03],\n",
              "       [9.98426165e-01, 1.57383473e-03],\n",
              "       [9.92934758e-01, 7.06524171e-03],\n",
              "       [9.98791508e-01, 1.20849213e-03],\n",
              "       [9.99751109e-01, 2.48890528e-04],\n",
              "       [9.77610811e-01, 2.23891885e-02],\n",
              "       [9.99991388e-01, 8.61221978e-06],\n",
              "       [9.95609933e-01, 4.39006714e-03],\n",
              "       [9.97773434e-01, 2.22656616e-03],\n",
              "       [9.99754162e-01, 2.45837697e-04],\n",
              "       [1.43087856e-01, 8.56912144e-01],\n",
              "       [3.83849620e-01, 6.16150380e-01],\n",
              "       [9.99990798e-01, 9.20175592e-06],\n",
              "       [8.26883374e-01, 1.73116626e-01],\n",
              "       [8.87826302e-02, 9.11217370e-01],\n",
              "       [9.97074926e-01, 2.92507428e-03],\n",
              "       [9.99975955e-01, 2.40452736e-05],\n",
              "       [9.99811662e-01, 1.88337904e-04],\n",
              "       [9.97102789e-01, 2.89721103e-03],\n",
              "       [7.02098520e-01, 2.97901480e-01],\n",
              "       [9.98543142e-01, 1.45685754e-03],\n",
              "       [9.34889025e-01, 6.51109749e-02],\n",
              "       [9.93630868e-01, 6.36913226e-03],\n",
              "       [7.87328214e-01, 2.12671786e-01],\n",
              "       [9.99954097e-01, 4.59032702e-05],\n",
              "       [9.96913333e-01, 3.08666695e-03],\n",
              "       [9.94280628e-01, 5.71937247e-03],\n",
              "       [9.94342391e-01, 5.65760886e-03],\n",
              "       [9.86511201e-01, 1.34887994e-02],\n",
              "       [9.42248865e-01, 5.77511347e-02],\n",
              "       [8.03920100e-01, 1.96079900e-01],\n",
              "       [9.99903989e-01, 9.60108875e-05],\n",
              "       [9.97606816e-01, 2.39318385e-03],\n",
              "       [7.50201254e-01, 2.49798746e-01],\n",
              "       [9.89801598e-01, 1.01984017e-02],\n",
              "       [9.74455949e-01, 2.55440506e-02],\n",
              "       [9.62347376e-01, 3.76526240e-02],\n",
              "       [9.73229593e-01, 2.67704070e-02],\n",
              "       [9.81521062e-01, 1.84789382e-02],\n",
              "       [9.66996929e-01, 3.30030707e-02],\n",
              "       [9.64688455e-01, 3.53115450e-02],\n",
              "       [3.59467281e-01, 6.40532719e-01],\n",
              "       [9.96506021e-01, 3.49397855e-03],\n",
              "       [9.90570346e-01, 9.42965416e-03],\n",
              "       [9.94297638e-01, 5.70236232e-03],\n",
              "       [9.98711321e-01, 1.28867887e-03],\n",
              "       [3.10412190e-01, 6.89587810e-01],\n",
              "       [9.59726160e-01, 4.02738398e-02],\n",
              "       [9.73191439e-01, 2.68085615e-02],\n",
              "       [9.90502431e-01, 9.49756936e-03],\n",
              "       [9.77407540e-01, 2.25924597e-02],\n",
              "       [8.92362934e-01, 1.07637066e-01],\n",
              "       [9.75123559e-01, 2.48764413e-02],\n",
              "       [9.88883782e-01, 1.11162183e-02],\n",
              "       [9.93037948e-01, 6.96205171e-03],\n",
              "       [9.83004582e-01, 1.69954175e-02],\n",
              "       [9.37593326e-01, 6.24066743e-02],\n",
              "       [9.95385196e-01, 4.61480396e-03],\n",
              "       [9.93165770e-01, 6.83423044e-03],\n",
              "       [9.93770644e-01, 6.22935592e-03],\n",
              "       [9.97658780e-01, 2.34121984e-03],\n",
              "       [4.45475102e-01, 5.54524898e-01],\n",
              "       [9.91044282e-01, 8.95571807e-03],\n",
              "       [9.93670536e-01, 6.32946449e-03],\n",
              "       [9.94363594e-01, 5.63640577e-03],\n",
              "       [9.82585966e-01, 1.74140338e-02],\n",
              "       [9.80285033e-01, 1.97149669e-02],\n",
              "       [9.57752473e-01, 4.22475269e-02],\n",
              "       [9.95411191e-01, 4.58880912e-03],\n",
              "       [9.89415209e-01, 1.05847913e-02],\n",
              "       [9.99682293e-01, 3.17707159e-04],\n",
              "       [9.94269480e-01, 5.73052008e-03],\n",
              "       [9.48899660e-01, 5.11003403e-02],\n",
              "       [9.99839889e-01, 1.60110641e-04],\n",
              "       [9.97178965e-01, 2.82103546e-03],\n",
              "       [9.96072834e-01, 3.92716617e-03],\n",
              "       [9.96587140e-01, 3.41286035e-03],\n",
              "       [1.33959479e-01, 8.66040521e-01],\n",
              "       [9.95421680e-01, 4.57831990e-03],\n",
              "       [9.98825495e-01, 1.17450486e-03],\n",
              "       [8.98729946e-01, 1.01270054e-01],\n",
              "       [9.98279101e-01, 1.72089886e-03],\n",
              "       [9.96456043e-01, 3.54395691e-03],\n",
              "       [6.67343209e-01, 3.32656791e-01],\n",
              "       [9.96866286e-01, 3.13371416e-03],\n",
              "       [9.80618997e-01, 1.93810028e-02],\n",
              "       [9.93789123e-01, 6.21087661e-03],\n",
              "       [9.79623198e-01, 2.03768020e-02],\n",
              "       [8.38106166e-01, 1.61893834e-01],\n",
              "       [9.90237778e-01, 9.76222241e-03],\n",
              "       [9.87291124e-01, 1.27088756e-02],\n",
              "       [9.94177200e-01, 5.82279983e-03],\n",
              "       [9.82455389e-01, 1.75446114e-02],\n",
              "       [8.38276143e-01, 1.61723857e-01],\n",
              "       [9.89866120e-01, 1.01338798e-02],\n",
              "       [9.91009674e-01, 8.99032590e-03],\n",
              "       [9.93333010e-01, 6.66699018e-03],\n",
              "       [9.85457154e-01, 1.45428457e-02],\n",
              "       [9.36063906e-01, 6.39360941e-02],\n",
              "       [9.95573057e-01, 4.42694258e-03],\n",
              "       [9.93972080e-01, 6.02792023e-03],\n",
              "       [9.93528734e-01, 6.47126572e-03],\n",
              "       [9.97841761e-01, 2.15823856e-03],\n",
              "       [9.10527593e-01, 8.94724073e-02],\n",
              "       [9.88874645e-01, 1.11253549e-02],\n",
              "       [9.45647854e-01, 5.43521456e-02],\n",
              "       [9.93404460e-01, 6.59553972e-03],\n",
              "       [9.96380937e-01, 3.61906307e-03],\n",
              "       [3.25104588e-01, 6.74895412e-01],\n",
              "       [9.97627427e-01, 2.37257319e-03],\n",
              "       [9.99164847e-01, 8.35152824e-04],\n",
              "       [9.98107054e-01, 1.89294565e-03],\n",
              "       [9.97172981e-01, 2.82701930e-03],\n",
              "       [6.23496662e-01, 3.76503338e-01],\n",
              "       [9.99906778e-01, 9.32223815e-05],\n",
              "       [9.31354758e-01, 6.86452419e-02],\n",
              "       [9.98352701e-01, 1.64729873e-03],\n",
              "       [9.82106470e-01, 1.78935297e-02],\n",
              "       [9.46758512e-01, 5.32414875e-02],\n",
              "       [9.95233597e-01, 4.76640347e-03],\n",
              "       [9.90118356e-01, 9.88164394e-03],\n",
              "       [9.78495861e-01, 2.15041394e-02],\n",
              "       [9.21827170e-01, 7.81728295e-02],\n",
              "       [9.75164787e-01, 2.48352130e-02],\n",
              "       [9.89472947e-01, 1.05270531e-02],\n",
              "       [9.93070591e-01, 6.92940891e-03],\n",
              "       [9.85531815e-01, 1.44681847e-02],\n",
              "       [9.25322725e-01, 7.46772749e-02],\n",
              "       [9.95208411e-01, 4.79158913e-03],\n",
              "       [9.93111094e-01, 6.88890632e-03],\n",
              "       [9.93727244e-01, 6.27275576e-03],\n",
              "       [9.97393332e-01, 2.60666792e-03],\n",
              "       [4.59858144e-01, 5.40141856e-01],\n",
              "       [9.91858547e-01, 8.14145338e-03],\n",
              "       [9.96991464e-01, 3.00853604e-03],\n",
              "       [9.93472893e-01, 6.52710664e-03],\n",
              "       [9.88216057e-01, 1.17839430e-02],\n",
              "       [9.91684922e-01, 8.31507792e-03],\n",
              "       [6.98267835e-01, 3.01732165e-01],\n",
              "       [9.99227017e-01, 7.72982865e-04],\n",
              "       [9.79601586e-01, 2.03984140e-02],\n",
              "       [9.98997710e-01, 1.00229013e-03],\n",
              "       [9.98732677e-01, 1.26732347e-03],\n",
              "       [5.64231944e-01, 4.35768056e-01],\n",
              "       [9.99883617e-01, 1.16382529e-04],\n",
              "       [9.87364650e-01, 1.26353496e-02],\n",
              "       [9.94553492e-01, 5.44650776e-03],\n",
              "       [9.99697131e-01, 3.02869192e-04],\n",
              "       [1.62528203e-01, 8.37471797e-01],\n",
              "       [9.83571300e-01, 1.64286999e-02],\n",
              "       [9.92899776e-01, 7.10022446e-03],\n",
              "       [9.81828742e-01, 1.81712579e-02],\n",
              "       [9.82931706e-01, 1.70682940e-02],\n",
              "       [7.89983046e-01, 2.10016954e-01],\n",
              "       [9.99449555e-01, 5.50444851e-04],\n",
              "       [9.85803872e-01, 1.41961283e-02],\n",
              "       [9.92910369e-01, 7.08963146e-03],\n",
              "       [9.88726435e-01, 1.12735654e-02],\n",
              "       [9.91971039e-01, 8.02896137e-03],\n",
              "       [9.97229969e-01, 2.77003074e-03],\n",
              "       [5.77029461e-01, 4.22970539e-01],\n",
              "       [9.92786171e-01, 7.21382916e-03],\n",
              "       [9.66328018e-01, 3.36719816e-02],\n",
              "       [9.89949725e-01, 1.00502750e-02],\n",
              "       [9.90317876e-01, 9.68212353e-03],\n",
              "       [9.34448188e-01, 6.55518125e-02],\n",
              "       [9.92360536e-01, 7.63946367e-03],\n",
              "       [9.84652975e-01, 1.53470253e-02],\n",
              "       [9.94694513e-01, 5.30548696e-03],\n",
              "       [9.85896692e-01, 1.41033082e-02],\n",
              "       [6.03423426e-01, 3.96576574e-01],\n",
              "       [9.86567688e-01, 1.34323125e-02],\n",
              "       [9.86540750e-01, 1.34592501e-02],\n",
              "       [9.92569044e-01, 7.43095590e-03],\n",
              "       [9.83338778e-01, 1.66612217e-02],\n",
              "       [9.27330555e-01, 7.26694453e-02],\n",
              "       [9.85839813e-01, 1.41601871e-02],\n",
              "       [9.89693499e-01, 1.03065007e-02],\n",
              "       [9.93919889e-01, 6.08011104e-03],\n",
              "       [9.89886604e-01, 1.01133959e-02],\n",
              "       [7.84696329e-01, 2.15303671e-01],\n",
              "       [9.90833713e-01, 9.16628657e-03],\n",
              "       [9.93554772e-01, 6.44522805e-03],\n",
              "       [9.92703427e-01, 7.29657275e-03],\n",
              "       [9.88993959e-01, 1.10060410e-02],\n",
              "       [9.83105725e-01, 1.68942748e-02],\n",
              "       [9.96626761e-01, 3.37323868e-03],\n",
              "       [9.93876843e-01, 6.12315741e-03],\n",
              "       [9.93956407e-01, 6.04359295e-03],\n",
              "       [9.98912956e-01, 1.08704446e-03],\n",
              "       [5.75745591e-01, 4.24254409e-01],\n",
              "       [9.90488808e-01, 9.51119216e-03],\n",
              "       [9.81265939e-01, 1.87340607e-02],\n",
              "       [9.92713600e-01, 7.28640013e-03],\n",
              "       [9.89987545e-01, 1.00124548e-02],\n",
              "       [2.92947889e-01, 7.07052111e-01],\n",
              "       [9.99643581e-01, 3.56418735e-04],\n",
              "       [9.91156172e-01, 8.84382784e-03],\n",
              "       [9.24618436e-01, 7.53815637e-02],\n",
              "       [9.87525779e-01, 1.24742209e-02],\n",
              "       [9.85695696e-01, 1.43043037e-02],\n",
              "       [9.44374741e-01, 5.56252592e-02],\n",
              "       [9.36457056e-01, 6.35429442e-02],\n",
              "       [9.75270130e-01, 2.47298704e-02],\n",
              "       [9.81684799e-01, 1.83152010e-02],\n",
              "       [9.65756651e-01, 3.42433491e-02],\n",
              "       [9.69995561e-01, 3.00044385e-02],\n",
              "       [9.88170173e-01, 1.18298267e-02],\n",
              "       [9.89468890e-01, 1.05311097e-02],\n",
              "       [9.94325177e-01, 5.67482266e-03],\n",
              "       [9.98724697e-01, 1.27530320e-03],\n",
              "       [1.79449396e-01, 8.20550604e-01],\n",
              "       [9.80232643e-01, 1.97673570e-02],\n",
              "       [9.95689319e-01, 4.31068124e-03],\n",
              "       [9.87077471e-01, 1.29225294e-02],\n",
              "       [9.73561301e-01, 2.64386991e-02],\n",
              "       [9.40564112e-01, 5.94358878e-02],\n",
              "       [9.98294932e-01, 1.70506780e-03],\n",
              "       [9.87363944e-01, 1.26360559e-02],\n",
              "       [9.92250892e-01, 7.74910771e-03],\n",
              "       [9.95300297e-01, 4.69970314e-03],\n",
              "       [9.87403639e-01, 1.25963606e-02],\n",
              "       [4.92194861e-01, 5.07805139e-01],\n",
              "       [9.84480699e-01, 1.55193008e-02],\n",
              "       [9.63605399e-01, 3.63946013e-02],\n",
              "       [9.91525840e-01, 8.47416039e-03],\n",
              "       [9.92949419e-01, 7.05058091e-03],\n",
              "       [8.67364609e-01, 1.32635391e-01],\n",
              "       [9.92490605e-01, 7.50939451e-03],\n",
              "       [9.83271445e-01, 1.67285551e-02],\n",
              "       [9.94010448e-01, 5.98955158e-03],\n",
              "       [9.87067623e-01, 1.29323769e-02],\n",
              "       [8.20941487e-01, 1.79058513e-01],\n",
              "       [9.88957071e-01, 1.10429295e-02],\n",
              "       [9.84814277e-01, 1.51857231e-02],\n",
              "       [9.94039734e-01, 5.96026590e-03],\n",
              "       [9.85310870e-01, 1.46891298e-02],\n",
              "       [5.29585046e-01, 4.70414954e-01],\n",
              "       [1.14492458e-03, 9.98855075e-01],\n",
              "       [6.38765119e-01, 3.61234881e-01],\n",
              "       [9.90548101e-01, 9.45189853e-03],\n",
              "       [9.83863817e-01, 1.61361826e-02],\n",
              "       [4.52059642e-01, 5.47940358e-01],\n",
              "       [9.95133113e-01, 4.86688678e-03],\n",
              "       [4.51490059e-03, 9.95485099e-01],\n",
              "       [9.98904913e-01, 1.09508675e-03],\n",
              "       [9.13429514e-01, 8.65704855e-02],\n",
              "       [9.00367667e-01, 9.96323328e-02],\n",
              "       [1.47410993e-03, 9.98525890e-01],\n",
              "       [9.97290980e-01, 2.70901975e-03],\n",
              "       [9.41424323e-01, 5.85756766e-02],\n",
              "       [9.97447922e-01, 2.55207779e-03],\n",
              "       [9.97015763e-01, 2.98423664e-03],\n",
              "       [6.27454424e-03, 9.93725456e-01],\n",
              "       [7.75663884e-04, 9.99224336e-01],\n",
              "       [1.66394614e-01, 8.33605386e-01],\n",
              "       [2.14967722e-02, 9.78503228e-01],\n",
              "       [9.65247570e-01, 3.47524304e-02],\n",
              "       [9.99994439e-01, 5.56076391e-06],\n",
              "       [9.32928785e-01, 6.70712151e-02],\n",
              "       [6.36484909e-02, 9.36351509e-01],\n",
              "       [3.72187529e-06, 9.99996278e-01],\n",
              "       [9.87872761e-01, 1.21272388e-02],\n",
              "       [7.52535735e-02, 9.24746426e-01],\n",
              "       [2.51098043e-01, 7.48901957e-01],\n",
              "       [3.05320080e-01, 6.94679920e-01],\n",
              "       [9.52871766e-01, 4.71282335e-02],\n",
              "       [8.00478196e-01, 1.99521804e-01],\n",
              "       [1.51002509e-02, 9.84899749e-01],\n",
              "       [9.03680975e-01, 9.63190254e-02],\n",
              "       [2.31588373e-04, 9.99768412e-01],\n",
              "       [1.55326710e-02, 9.84467329e-01],\n",
              "       [6.29105025e-01, 3.70894975e-01],\n",
              "       [8.72371727e-01, 1.27628273e-01],\n",
              "       [4.47424290e-06, 9.99995526e-01],\n",
              "       [1.33865757e-02, 9.86613424e-01],\n",
              "       [9.99951182e-01, 4.88177087e-05],\n",
              "       [8.72605508e-02, 9.12739449e-01],\n",
              "       [3.30646182e-03, 9.96693538e-01],\n",
              "       [9.58796405e-01, 4.12035952e-02],\n",
              "       [3.06194472e-02, 9.69380553e-01],\n",
              "       [6.28604473e-01, 3.71395527e-01],\n",
              "       [1.56795429e-01, 8.43204571e-01],\n",
              "       [7.50133092e-01, 2.49866908e-01],\n",
              "       [7.19194354e-02, 9.28080565e-01],\n",
              "       [1.74514367e-05, 9.99982549e-01],\n",
              "       [5.10423063e-02, 9.48957694e-01],\n",
              "       [9.95656153e-01, 4.34384667e-03],\n",
              "       [1.30147787e-01, 8.69852213e-01],\n",
              "       [1.74820860e-03, 9.98251791e-01],\n",
              "       [9.68519949e-01, 3.14800514e-02],\n",
              "       [2.94306658e-02, 9.70569334e-01],\n",
              "       [9.85552136e-01, 1.44478636e-02],\n",
              "       [9.61044693e-01, 3.89553068e-02],\n",
              "       [6.44743446e-01, 3.55256554e-01],\n",
              "       [6.87132740e-01, 3.12867260e-01],\n",
              "       [1.65230628e-02, 9.83476937e-01],\n",
              "       [9.87751073e-01, 1.22489268e-02],\n",
              "       [1.02255238e-01, 8.97744762e-01],\n",
              "       [1.47043444e-02, 9.85295656e-01],\n",
              "       [4.22708897e-01, 5.77291103e-01],\n",
              "       [5.23378531e-01, 4.76621469e-01],\n",
              "       [6.42851026e-01, 3.57148974e-01],\n",
              "       [1.19767888e-01, 8.80232112e-01],\n",
              "       [9.98503126e-01, 1.49687385e-03],\n",
              "       [9.99526410e-01, 4.73590154e-04],\n",
              "       [8.60842031e-01, 1.39157969e-01],\n",
              "       [9.07300906e-02, 9.09269909e-01],\n",
              "       [9.04614022e-01, 9.53859782e-02],\n",
              "       [1.50207156e-03, 9.98497928e-01],\n",
              "       [8.06958935e-09, 9.99999992e-01],\n",
              "       [2.96321814e-01, 7.03678186e-01],\n",
              "       [1.64532380e-02, 9.83546762e-01],\n",
              "       [2.71118387e-04, 9.99728882e-01],\n",
              "       [9.71861391e-01, 2.81386090e-02],\n",
              "       [9.99829988e-01, 1.70012180e-04],\n",
              "       [2.34711457e-01, 7.65288543e-01],\n",
              "       [1.25904402e-03, 9.98740956e-01],\n",
              "       [2.88577221e-03, 9.97114228e-01],\n",
              "       [2.30896399e-02, 9.76910360e-01],\n",
              "       [9.79308232e-01, 2.06917680e-02],\n",
              "       [9.85483350e-01, 1.45166496e-02],\n",
              "       [9.99555663e-01, 4.44336608e-04],\n",
              "       [9.73998375e-01, 2.60016255e-02],\n",
              "       [2.03815428e-04, 9.99796185e-01],\n",
              "       [9.84221863e-01, 1.57781374e-02],\n",
              "       [3.27786721e-03, 9.96722133e-01],\n",
              "       [7.30153135e-01, 2.69846865e-01],\n",
              "       [9.42701378e-01, 5.72986218e-02],\n",
              "       [3.73950372e-06, 9.99996260e-01],\n",
              "       [9.99645100e-01, 3.54900083e-04],\n",
              "       [2.50122282e-02, 9.74987772e-01],\n",
              "       [4.84278379e-02, 9.51572162e-01],\n",
              "       [8.45274597e-01, 1.54725403e-01],\n",
              "       [4.37164940e-01, 5.62835060e-01],\n",
              "       [2.19957062e-03, 9.97800429e-01],\n",
              "       [9.99135176e-01, 8.64823895e-04],\n",
              "       [4.60476160e-01, 5.39523840e-01],\n",
              "       [9.99954603e-01, 4.53968953e-05],\n",
              "       [9.99971660e-01, 2.83403049e-05],\n",
              "       [9.99477535e-01, 5.22464750e-04],\n",
              "       [9.60097619e-01, 3.99023811e-02],\n",
              "       [8.94771877e-01, 1.05228123e-01],\n",
              "       [6.12639363e-01, 3.87360637e-01],\n",
              "       [9.96654797e-01, 3.34520295e-03],\n",
              "       [1.54905963e-02, 9.84509404e-01],\n",
              "       [1.27932894e-03, 9.98720671e-01],\n",
              "       [1.07387249e-01, 8.92612751e-01],\n",
              "       [1.69382825e-02, 9.83061718e-01],\n",
              "       [5.01944683e-01, 4.98055317e-01],\n",
              "       [6.33272125e-03, 9.93667279e-01],\n",
              "       [3.08658734e-01, 6.91341266e-01],\n",
              "       [9.61446150e-01, 3.85538502e-02],\n",
              "       [6.48567881e-05, 9.99935143e-01],\n",
              "       [9.41254368e-01, 5.87456321e-02],\n",
              "       [9.99605032e-01, 3.94968072e-04],\n",
              "       [8.44700712e-02, 9.15529929e-01],\n",
              "       [1.04305614e-03, 9.98956944e-01],\n",
              "       [7.87616963e-01, 2.12383037e-01],\n",
              "       [9.61817073e-01, 3.81829270e-02],\n",
              "       [1.97869182e-01, 8.02130818e-01],\n",
              "       [1.27432643e-03, 9.98725674e-01],\n",
              "       [2.37910012e-04, 9.99762090e-01],\n",
              "       [5.17877287e-03, 9.94821227e-01],\n",
              "       [4.16465707e-02, 9.58353429e-01],\n",
              "       [2.44501309e-01, 7.55498691e-01],\n",
              "       [4.26465253e-04, 9.99573535e-01],\n",
              "       [9.72565676e-01, 2.74343238e-02],\n",
              "       [1.16818926e-03, 9.98831811e-01],\n",
              "       [9.98232527e-01, 1.76747263e-03],\n",
              "       [8.45441816e-01, 1.54558184e-01],\n",
              "       [8.05147130e-01, 1.94852870e-01],\n",
              "       [6.86739536e-04, 9.99313260e-01],\n",
              "       [1.57089066e-03, 9.98429109e-01],\n",
              "       [5.76838738e-04, 9.99423161e-01],\n",
              "       [9.99664822e-01, 3.35177559e-04],\n",
              "       [4.59803510e-06, 9.99995402e-01],\n",
              "       [9.99989465e-01, 1.05354211e-05],\n",
              "       [9.86536773e-01, 1.34632268e-02],\n",
              "       [9.97738691e-01, 2.26130902e-03],\n",
              "       [3.14454721e-04, 9.99685545e-01],\n",
              "       [6.09942660e-01, 3.90057340e-01],\n",
              "       [9.98228563e-01, 1.77143744e-03],\n",
              "       [5.92206007e-01, 4.07793993e-01],\n",
              "       [9.99841309e-01, 1.58690675e-04],\n",
              "       [2.17576236e-01, 7.82423764e-01],\n",
              "       [2.68412800e-01, 7.31587200e-01],\n",
              "       [1.36965622e-01, 8.63034378e-01],\n",
              "       [9.44869682e-01, 5.51303178e-02],\n",
              "       [9.98080837e-01, 1.91916285e-03],\n",
              "       [2.77134453e-05, 9.99972287e-01],\n",
              "       [4.23711283e-01, 5.76288717e-01],\n",
              "       [9.09986206e-05, 9.99909001e-01],\n",
              "       [9.47956948e-01, 5.20430520e-02],\n",
              "       [2.77871602e-02, 9.72212840e-01],\n",
              "       [1.98246676e-02, 9.80175332e-01],\n",
              "       [1.50234370e-04, 9.99849766e-01],\n",
              "       [3.86597104e-02, 9.61340290e-01],\n",
              "       [2.03342417e-01, 7.96657583e-01],\n",
              "       [3.25811183e-01, 6.74188817e-01],\n",
              "       [9.12229906e-03, 9.90877701e-01],\n",
              "       [1.24421272e-04, 9.99875579e-01],\n",
              "       [2.04418464e-01, 7.95581536e-01],\n",
              "       [5.33801894e-03, 9.94661981e-01],\n",
              "       [9.99938121e-01, 6.18794016e-05],\n",
              "       [9.00170072e-01, 9.98299281e-02],\n",
              "       [9.98531092e-01, 1.46890822e-03],\n",
              "       [9.94590378e-01, 5.40962220e-03],\n",
              "       [9.97617561e-01, 2.38243926e-03],\n",
              "       [1.26752256e-02, 9.87324774e-01],\n",
              "       [8.29042296e-02, 9.17095770e-01],\n",
              "       [9.95342979e-02, 9.00465702e-01],\n",
              "       [9.14629753e-05, 9.99908537e-01],\n",
              "       [9.33138755e-02, 9.06686124e-01],\n",
              "       [1.46560231e-02, 9.85343977e-01],\n",
              "       [9.97215758e-01, 2.78424226e-03],\n",
              "       [9.99697190e-01, 3.02810040e-04],\n",
              "       [4.51898806e-05, 9.99954810e-01],\n",
              "       [5.96756723e-01, 4.03243277e-01],\n",
              "       [9.98211781e-01, 1.78821856e-03],\n",
              "       [9.64991008e-01, 3.50089920e-02],\n",
              "       [2.11285981e-03, 9.97887140e-01],\n",
              "       [2.31845866e-03, 9.97681541e-01],\n",
              "       [9.98042477e-01, 1.95752316e-03],\n",
              "       [9.94598725e-01, 5.40127540e-03],\n",
              "       [3.29234621e-03, 9.96707654e-01],\n",
              "       [9.87044198e-01, 1.29558021e-02],\n",
              "       [1.75991311e-03, 9.98240087e-01],\n",
              "       [9.99995102e-01, 4.89835435e-06],\n",
              "       [3.79416802e-07, 9.99999621e-01],\n",
              "       [9.99999264e-01, 7.35535826e-07],\n",
              "       [3.18377109e-02, 9.68162289e-01],\n",
              "       [4.74938696e-01, 5.25061304e-01],\n",
              "       [9.24631221e-01, 7.53687793e-02],\n",
              "       [1.17614644e-03, 9.98823854e-01],\n",
              "       [9.77773429e-01, 2.22265708e-02],\n",
              "       [8.53430196e-02, 9.14656980e-01],\n",
              "       [7.33236670e-05, 9.99926676e-01],\n",
              "       [4.12405242e-02, 9.58759476e-01],\n",
              "       [1.67270697e-04, 9.99832729e-01],\n",
              "       [9.60768772e-03, 9.90392312e-01],\n",
              "       [9.89588670e-01, 1.04113301e-02],\n",
              "       [4.05832783e-01, 5.94167217e-01],\n",
              "       [9.99915871e-01, 8.41286611e-05],\n",
              "       [9.99992014e-01, 7.98648318e-06],\n",
              "       [4.41613441e-01, 5.58386559e-01],\n",
              "       [9.56669379e-01, 4.33306214e-02],\n",
              "       [2.49193342e-03, 9.97508067e-01],\n",
              "       [9.99560063e-01, 4.39937158e-04],\n",
              "       [9.85602996e-01, 1.43970042e-02],\n",
              "       [9.99773283e-01, 2.26717125e-04],\n",
              "       [5.70076776e-03, 9.94299232e-01],\n",
              "       [9.98529862e-01, 1.47013825e-03],\n",
              "       [1.60857730e-01, 8.39142270e-01],\n",
              "       [1.52065077e-01, 8.47934923e-01]])"
            ]
          },
          "execution_count": 63,
          "metadata": {},
          "output_type": "execute_result"
        }
      ],
      "source": [
        "predictions = custom_dense_layer.forward(rnn_output)\n",
        "predictions"
      ]
    },
    {
      "cell_type": "markdown",
      "id": "cdbfb614-93ee-482f-9532-a0d6aabe9d54",
      "metadata": {
        "id": "cdbfb614-93ee-482f-9532-a0d6aabe9d54"
      },
      "source": [
        "## Text generation"
      ]
    },
    {
      "cell_type": "code",
      "execution_count": 64,
      "id": "0088af5b-13ac-4250-ab82-2f10af930ce2",
      "metadata": {
        "id": "0088af5b-13ac-4250-ab82-2f10af930ce2",
        "outputId": "7e24f532-f0ac-4ebb-bf7e-dab325a8b862"
      },
      "outputs": [
        {
          "data": {
            "text/plain": [
              "array([[ 1.75129848, -0.59492392, -0.27472621, ...,  0.2467217 ,\n",
              "         0.79608997,  1.03387167],\n",
              "       [ 1.75129848, -0.59492392, -0.27472621, ...,  0.2467217 ,\n",
              "         0.79608997,  1.03387167],\n",
              "       [ 1.75129848, -0.59492392, -0.27472621, ...,  0.2467217 ,\n",
              "         0.79608997,  1.03387167],\n",
              "       ...,\n",
              "       [ 0.90528913, -1.23937975, -0.85778257, ..., -0.52143412,\n",
              "         1.50312086,  1.06386483],\n",
              "       [ 1.58785552,  0.67697574, -1.84050888, ...,  1.54396194,\n",
              "        -0.41714113, -1.03562046],\n",
              "       [-0.46784852, -0.08399711,  0.12919351, ..., -1.1763183 ,\n",
              "         0.55852801,  0.50598425]])"
            ]
          },
          "execution_count": 64,
          "metadata": {},
          "output_type": "execute_result"
        }
      ],
      "source": [
        "class CustomSimpleRNNGeneration:\n",
        "    def __init__(self, input_dim, hidden_dim):\n",
        "        self.input_dim = input_dim\n",
        "        self.hidden_dim = hidden_dim\n",
        "        self.Wx = np.random.randn(input_dim, hidden_dim)\n",
        "        self.Wh = np.random.randn(hidden_dim, hidden_dim)\n",
        "        self.b = np.zeros((1, hidden_dim))\n",
        "        self.h = None\n",
        "\n",
        "    def forward(self, input_sequence):\n",
        "        # Initialize hidden state with zeros\n",
        "        self.h = np.zeros((1, self.hidden_dim))\n",
        "        for input_t in input_sequence:\n",
        "            self.h = np.tanh(np.dot(input_t, self.Wx) + np.dot(self.h, self.Wh) + self.b)\n",
        "        return self.h\n",
        "\n",
        "# Instantiate custom layers\n",
        "custom_embedding_layer = CustomEmbedding(input_dim=max_features, output_dim=32)\n",
        "custom_simple_rnn_layer = CustomSimpleRNNGeneration(input_dim=32, hidden_dim=32)\n",
        "# Output dimension is set to the vocabulary size, representing the probability distribution over characters\n",
        "vocab_size = 10000  # Example vocabulary size\n",
        "custom_dense_layer = CustomDense(input_dim=32, output_dim=vocab_size)\n",
        "\n",
        "# Forward pass through custom layers\n",
        "embedded_sequence = custom_embedding_layer.forward(input_train[0])\n",
        "embedded_sequence"
      ]
    },
    {
      "cell_type": "code",
      "execution_count": 65,
      "id": "8c21c96e-52d2-46c6-a380-72c9ee45adcf",
      "metadata": {
        "id": "8c21c96e-52d2-46c6-a380-72c9ee45adcf",
        "outputId": "68d7c027-913b-4ca2-fc40-505720f94dca"
      },
      "outputs": [
        {
          "data": {
            "text/plain": [
              "array([[-1.        , -0.95302071, -1.        , -0.999091  ,  1.        ,\n",
              "        -0.9982216 ,  1.        , -0.290553  ,  1.        ,  0.99999297,\n",
              "         1.        , -1.        ,  0.99947814,  0.99999881, -1.        ,\n",
              "         0.57518359,  0.99999981,  0.99999771,  0.9957206 ,  0.99999999,\n",
              "         0.98631346, -0.99996461,  0.89816289, -0.99999952, -1.        ,\n",
              "        -0.99999996,  0.99984298, -0.04087515, -1.        , -0.99999997,\n",
              "         1.        , -0.99999999]])"
            ]
          },
          "execution_count": 65,
          "metadata": {},
          "output_type": "execute_result"
        }
      ],
      "source": [
        "rnn_output = custom_simple_rnn_layer.forward(embedded_sequence)\n",
        "rnn_output"
      ]
    },
    {
      "cell_type": "code",
      "execution_count": 66,
      "id": "482ada23-07c0-4d5a-9f3f-fce9f47f9c19",
      "metadata": {
        "id": "482ada23-07c0-4d5a-9f3f-fce9f47f9c19",
        "outputId": "0fb61c6f-0ed9-4086-89d3-64e74798290e"
      },
      "outputs": [
        {
          "data": {
            "text/plain": [
              "10000"
            ]
          },
          "execution_count": 66,
          "metadata": {},
          "output_type": "execute_result"
        }
      ],
      "source": [
        "predictions = custom_dense_layer.forward(rnn_output)\n",
        "len(predictions[0])"
      ]
    },
    {
      "cell_type": "code",
      "execution_count": 67,
      "id": "c84c054c-6799-4cd8-9d2c-8acf92e212ad",
      "metadata": {
        "id": "c84c054c-6799-4cd8-9d2c-8acf92e212ad",
        "outputId": "1f8dce0e-f86d-47eb-f6dd-405b5f711187"
      },
      "outputs": [
        {
          "data": {
            "text/plain": [
              "array([[1.35525716e-12, 9.72492571e-11, 3.23066989e-13, ...,\n",
              "        3.31186605e-11, 3.56153987e-06, 9.85303400e-10]])"
            ]
          },
          "execution_count": 67,
          "metadata": {},
          "output_type": "execute_result"
        }
      ],
      "source": [
        "predictions"
      ]
    },
    {
      "cell_type": "code",
      "execution_count": 68,
      "id": "30cc51ae-062b-4d6c-80bc-83f2dbdac7a7",
      "metadata": {
        "id": "30cc51ae-062b-4d6c-80bc-83f2dbdac7a7",
        "outputId": "2b9b3271-449a-4819-94ba-21e41b6c4805"
      },
      "outputs": [
        {
          "name": "stdout",
          "output_type": "stream",
          "text": [
            "[4822]\n",
            "[4822, 48]\n",
            "[4822, 48, 3120]\n",
            "[4822, 48, 3120, 2925]\n",
            "[4822, 48, 3120, 2925, 6979]\n",
            "[4822, 48, 3120, 2925, 6979, 3627]\n",
            "[4822, 48, 3120, 2925, 6979, 3627, 8392]\n",
            "[4822, 48, 3120, 2925, 6979, 3627, 8392, 1570]\n",
            "[4822, 48, 3120, 2925, 6979, 3627, 8392, 1570, 7591]\n",
            "[4822, 48, 3120, 2925, 6979, 3627, 8392, 1570, 7591, 8909]\n",
            "Generated text: ['hello', 'what', 'medical', 'sleazy', 'drab', 'opposed', 'playful', 'seemingly', 'misty', '1965', 'develop']\n"
          ]
        }
      ],
      "source": [
        "# Assuming `start_sequence` is a seed sequence to start the generation process\n",
        "start_sequence = \"hello\"\n",
        "\n",
        "# Initialize the generated text with the seed sequence\n",
        "generated_text = [start_sequence]\n",
        "\n",
        "# Set the number of words to generate\n",
        "num_words_to_generate = 10\n",
        "\n",
        "# Generate text character by character\n",
        "for _ in range(num_words_to_generate):\n",
        "    # Convert the current generated text to input sequence\n",
        "    input_sequence = [word_index[char] for char in generated_text]\n",
        "    print(input_sequence)\n",
        "    input_sequence = np.array(input_sequence)[np.newaxis, :]  # Add batch dimension\n",
        "\n",
        "    # Forward pass through custom layers\n",
        "    embedded_sequence = custom_embedding_layer.forward(input_sequence)\n",
        "    rnn_output = custom_simple_rnn_layer.forward(embedded_sequence)\n",
        "    predictions = custom_dense_layer.forward(rnn_output)\n",
        "\n",
        "    # Sample the next character based on the output distribution\n",
        "    next_char_index = np.argmax(predictions[-1])\n",
        "    next_char = inverted_word_index[next_char_index]\n",
        "\n",
        "    # Append the next character to the generated text\n",
        "    generated_text.append(next_char)\n",
        "\n",
        "print(\"Generated text:\", generated_text)"
      ]
    },
    {
      "cell_type": "markdown",
      "id": "5b0ec3bf-ef8c-4b6c-8f24-25320d090294",
      "metadata": {
        "id": "5b0ec3bf-ef8c-4b6c-8f24-25320d090294"
      },
      "source": [
        "### Encoder-decoder"
      ]
    },
    {
      "cell_type": "markdown",
      "id": "d2533ac1-c74b-4907-94cf-99948f5557f6",
      "metadata": {
        "id": "d2533ac1-c74b-4907-94cf-99948f5557f6"
      },
      "source": [
        "![encoder-decoder](https://miro.medium.com/v2/resize:fit:1400/format:webp/1*1JcHGUU7rFgtXC_mydUA_Q.jpeg)\n",
        "\n",
        "https://towardsdatascience.com/understanding-encoder-decoder-sequence-to-sequence-model-679e04af4346"
      ]
    },
    {
      "cell_type": "code",
      "execution_count": 69,
      "id": "47fedbe1-7113-4f24-a0c3-6c16939f11d8",
      "metadata": {
        "id": "47fedbe1-7113-4f24-a0c3-6c16939f11d8"
      },
      "outputs": [],
      "source": [
        "from keras.models import Model\n",
        "from keras.layers import Input, Embedding, SimpleRNN, Dense\n",
        "\n",
        "# Define input sequence length and dimensions\n",
        "max_features = 10000\n",
        "input_length = 500\n",
        "embedding_dim = 32\n",
        "hidden_units = 32\n",
        "\n",
        "# Encoder\n",
        "encoder_inputs = Input(shape=(input_length,))\n",
        "encoder_embedding = Embedding(max_features, embedding_dim)(encoder_inputs)\n",
        "encoder_rnn, encoder_state = SimpleRNN(hidden_units, return_state=True)(encoder_embedding)\n",
        "\n",
        "# Decoder\n",
        "decoder_inputs = Input(shape=(input_length,))\n",
        "decoder_embedding = Embedding(max_features, embedding_dim)(decoder_inputs)\n",
        "decoder_rnn = SimpleRNN(hidden_units, return_sequences=True)(decoder_embedding, initial_state=encoder_state)\n",
        "decoder_outputs = Dense(max_features, activation='softmax')(decoder_rnn)\n",
        "\n",
        "# Define the model\n",
        "model = Model([encoder_inputs, decoder_inputs], decoder_outputs)"
      ]
    },
    {
      "cell_type": "code",
      "execution_count": 70,
      "id": "8d378299-5326-4e3e-b717-3f90fc127b3f",
      "metadata": {
        "id": "8d378299-5326-4e3e-b717-3f90fc127b3f",
        "outputId": "81c177e1-c0df-423d-edd8-e7d53b7b40c4"
      },
      "outputs": [
        {
          "data": {
            "text/html": [
              "<pre style=\"white-space:pre;overflow-x:auto;line-height:normal;font-family:Menlo,'DejaVu Sans Mono',consolas,'Courier New',monospace\"><span style=\"font-weight: bold\">Model: \"functional_1\"</span>\n",
              "</pre>\n"
            ],
            "text/plain": [
              "\u001b[1mModel: \"functional_1\"\u001b[0m\n"
            ]
          },
          "metadata": {},
          "output_type": "display_data"
        },
        {
          "data": {
            "text/html": [
              "<pre style=\"white-space:pre;overflow-x:auto;line-height:normal;font-family:Menlo,'DejaVu Sans Mono',consolas,'Courier New',monospace\">┏━━━━━━━━━━━━━━━━━━━━━┳━━━━━━━━━━━━━━━━━━━┳━━━━━━━━━━━━┳━━━━━━━━━━━━━━━━━━━┓\n",
              "┃<span style=\"font-weight: bold\"> Layer (type)        </span>┃<span style=\"font-weight: bold\"> Output Shape      </span>┃<span style=\"font-weight: bold\">    Param # </span>┃<span style=\"font-weight: bold\"> Connected to      </span>┃\n",
              "┡━━━━━━━━━━━━━━━━━━━━━╇━━━━━━━━━━━━━━━━━━━╇━━━━━━━━━━━━╇━━━━━━━━━━━━━━━━━━━┩\n",
              "│ input_layer_1       │ (<span style=\"color: #00d7ff; text-decoration-color: #00d7ff\">None</span>, <span style=\"color: #00af00; text-decoration-color: #00af00\">500</span>)       │          <span style=\"color: #00af00; text-decoration-color: #00af00\">0</span> │ -                 │\n",
              "│ (<span style=\"color: #0087ff; text-decoration-color: #0087ff\">InputLayer</span>)        │                   │            │                   │\n",
              "├─────────────────────┼───────────────────┼────────────┼───────────────────┤\n",
              "│ input_layer_2       │ (<span style=\"color: #00d7ff; text-decoration-color: #00d7ff\">None</span>, <span style=\"color: #00af00; text-decoration-color: #00af00\">500</span>)       │          <span style=\"color: #00af00; text-decoration-color: #00af00\">0</span> │ -                 │\n",
              "│ (<span style=\"color: #0087ff; text-decoration-color: #0087ff\">InputLayer</span>)        │                   │            │                   │\n",
              "├─────────────────────┼───────────────────┼────────────┼───────────────────┤\n",
              "│ embedding_1         │ (<span style=\"color: #00d7ff; text-decoration-color: #00d7ff\">None</span>, <span style=\"color: #00af00; text-decoration-color: #00af00\">500</span>, <span style=\"color: #00af00; text-decoration-color: #00af00\">32</span>)   │    <span style=\"color: #00af00; text-decoration-color: #00af00\">320,000</span> │ input_layer_1[<span style=\"color: #00af00; text-decoration-color: #00af00\">0</span>]… │\n",
              "│ (<span style=\"color: #0087ff; text-decoration-color: #0087ff\">Embedding</span>)         │                   │            │                   │\n",
              "├─────────────────────┼───────────────────┼────────────┼───────────────────┤\n",
              "│ embedding_2         │ (<span style=\"color: #00d7ff; text-decoration-color: #00d7ff\">None</span>, <span style=\"color: #00af00; text-decoration-color: #00af00\">500</span>, <span style=\"color: #00af00; text-decoration-color: #00af00\">32</span>)   │    <span style=\"color: #00af00; text-decoration-color: #00af00\">320,000</span> │ input_layer_2[<span style=\"color: #00af00; text-decoration-color: #00af00\">0</span>]… │\n",
              "│ (<span style=\"color: #0087ff; text-decoration-color: #0087ff\">Embedding</span>)         │                   │            │                   │\n",
              "├─────────────────────┼───────────────────┼────────────┼───────────────────┤\n",
              "│ simple_rnn_1        │ [(<span style=\"color: #00d7ff; text-decoration-color: #00d7ff\">None</span>, <span style=\"color: #00af00; text-decoration-color: #00af00\">32</span>),      │      <span style=\"color: #00af00; text-decoration-color: #00af00\">2,080</span> │ embedding_1[<span style=\"color: #00af00; text-decoration-color: #00af00\">0</span>][<span style=\"color: #00af00; text-decoration-color: #00af00\">0</span>] │\n",
              "│ (<span style=\"color: #0087ff; text-decoration-color: #0087ff\">SimpleRNN</span>)         │ (<span style=\"color: #00d7ff; text-decoration-color: #00d7ff\">None</span>, <span style=\"color: #00af00; text-decoration-color: #00af00\">32</span>)]       │            │                   │\n",
              "├─────────────────────┼───────────────────┼────────────┼───────────────────┤\n",
              "│ simple_rnn_2        │ (<span style=\"color: #00d7ff; text-decoration-color: #00d7ff\">None</span>, <span style=\"color: #00af00; text-decoration-color: #00af00\">500</span>, <span style=\"color: #00af00; text-decoration-color: #00af00\">32</span>)   │      <span style=\"color: #00af00; text-decoration-color: #00af00\">2,080</span> │ embedding_2[<span style=\"color: #00af00; text-decoration-color: #00af00\">0</span>][<span style=\"color: #00af00; text-decoration-color: #00af00\">0</span>… │\n",
              "│ (<span style=\"color: #0087ff; text-decoration-color: #0087ff\">SimpleRNN</span>)         │                   │            │ simple_rnn_1[<span style=\"color: #00af00; text-decoration-color: #00af00\">0</span>][<span style=\"color: #00af00; text-decoration-color: #00af00\">…</span> │\n",
              "├─────────────────────┼───────────────────┼────────────┼───────────────────┤\n",
              "│ dense_1 (<span style=\"color: #0087ff; text-decoration-color: #0087ff\">Dense</span>)     │ (<span style=\"color: #00d7ff; text-decoration-color: #00d7ff\">None</span>, <span style=\"color: #00af00; text-decoration-color: #00af00\">500</span>,       │    <span style=\"color: #00af00; text-decoration-color: #00af00\">330,000</span> │ simple_rnn_2[<span style=\"color: #00af00; text-decoration-color: #00af00\">0</span>][<span style=\"color: #00af00; text-decoration-color: #00af00\">…</span> │\n",
              "│                     │ <span style=\"color: #00af00; text-decoration-color: #00af00\">10000</span>)            │            │                   │\n",
              "└─────────────────────┴───────────────────┴────────────┴───────────────────┘\n",
              "</pre>\n"
            ],
            "text/plain": [
              "┏━━━━━━━━━━━━━━━━━━━━━┳━━━━━━━━━━━━━━━━━━━┳━━━━━━━━━━━━┳━━━━━━━━━━━━━━━━━━━┓\n",
              "┃\u001b[1m \u001b[0m\u001b[1mLayer (type)       \u001b[0m\u001b[1m \u001b[0m┃\u001b[1m \u001b[0m\u001b[1mOutput Shape     \u001b[0m\u001b[1m \u001b[0m┃\u001b[1m \u001b[0m\u001b[1m   Param #\u001b[0m\u001b[1m \u001b[0m┃\u001b[1m \u001b[0m\u001b[1mConnected to     \u001b[0m\u001b[1m \u001b[0m┃\n",
              "┡━━━━━━━━━━━━━━━━━━━━━╇━━━━━━━━━━━━━━━━━━━╇━━━━━━━━━━━━╇━━━━━━━━━━━━━━━━━━━┩\n",
              "│ input_layer_1       │ (\u001b[38;5;45mNone\u001b[0m, \u001b[38;5;34m500\u001b[0m)       │          \u001b[38;5;34m0\u001b[0m │ -                 │\n",
              "│ (\u001b[38;5;33mInputLayer\u001b[0m)        │                   │            │                   │\n",
              "├─────────────────────┼───────────────────┼────────────┼───────────────────┤\n",
              "│ input_layer_2       │ (\u001b[38;5;45mNone\u001b[0m, \u001b[38;5;34m500\u001b[0m)       │          \u001b[38;5;34m0\u001b[0m │ -                 │\n",
              "│ (\u001b[38;5;33mInputLayer\u001b[0m)        │                   │            │                   │\n",
              "├─────────────────────┼───────────────────┼────────────┼───────────────────┤\n",
              "│ embedding_1         │ (\u001b[38;5;45mNone\u001b[0m, \u001b[38;5;34m500\u001b[0m, \u001b[38;5;34m32\u001b[0m)   │    \u001b[38;5;34m320,000\u001b[0m │ input_layer_1[\u001b[38;5;34m0\u001b[0m]… │\n",
              "│ (\u001b[38;5;33mEmbedding\u001b[0m)         │                   │            │                   │\n",
              "├─────────────────────┼───────────────────┼────────────┼───────────────────┤\n",
              "│ embedding_2         │ (\u001b[38;5;45mNone\u001b[0m, \u001b[38;5;34m500\u001b[0m, \u001b[38;5;34m32\u001b[0m)   │    \u001b[38;5;34m320,000\u001b[0m │ input_layer_2[\u001b[38;5;34m0\u001b[0m]… │\n",
              "│ (\u001b[38;5;33mEmbedding\u001b[0m)         │                   │            │                   │\n",
              "├─────────────────────┼───────────────────┼────────────┼───────────────────┤\n",
              "│ simple_rnn_1        │ [(\u001b[38;5;45mNone\u001b[0m, \u001b[38;5;34m32\u001b[0m),      │      \u001b[38;5;34m2,080\u001b[0m │ embedding_1[\u001b[38;5;34m0\u001b[0m][\u001b[38;5;34m0\u001b[0m] │\n",
              "│ (\u001b[38;5;33mSimpleRNN\u001b[0m)         │ (\u001b[38;5;45mNone\u001b[0m, \u001b[38;5;34m32\u001b[0m)]       │            │                   │\n",
              "├─────────────────────┼───────────────────┼────────────┼───────────────────┤\n",
              "│ simple_rnn_2        │ (\u001b[38;5;45mNone\u001b[0m, \u001b[38;5;34m500\u001b[0m, \u001b[38;5;34m32\u001b[0m)   │      \u001b[38;5;34m2,080\u001b[0m │ embedding_2[\u001b[38;5;34m0\u001b[0m][\u001b[38;5;34m0\u001b[0m… │\n",
              "│ (\u001b[38;5;33mSimpleRNN\u001b[0m)         │                   │            │ simple_rnn_1[\u001b[38;5;34m0\u001b[0m][\u001b[38;5;34m…\u001b[0m │\n",
              "├─────────────────────┼───────────────────┼────────────┼───────────────────┤\n",
              "│ dense_1 (\u001b[38;5;33mDense\u001b[0m)     │ (\u001b[38;5;45mNone\u001b[0m, \u001b[38;5;34m500\u001b[0m,       │    \u001b[38;5;34m330,000\u001b[0m │ simple_rnn_2[\u001b[38;5;34m0\u001b[0m][\u001b[38;5;34m…\u001b[0m │\n",
              "│                     │ \u001b[38;5;34m10000\u001b[0m)            │            │                   │\n",
              "└─────────────────────┴───────────────────┴────────────┴───────────────────┘\n"
            ]
          },
          "metadata": {},
          "output_type": "display_data"
        },
        {
          "data": {
            "text/html": [
              "<pre style=\"white-space:pre;overflow-x:auto;line-height:normal;font-family:Menlo,'DejaVu Sans Mono',consolas,'Courier New',monospace\"><span style=\"font-weight: bold\"> Total params: </span><span style=\"color: #00af00; text-decoration-color: #00af00\">974,160</span> (3.72 MB)\n",
              "</pre>\n"
            ],
            "text/plain": [
              "\u001b[1m Total params: \u001b[0m\u001b[38;5;34m974,160\u001b[0m (3.72 MB)\n"
            ]
          },
          "metadata": {},
          "output_type": "display_data"
        },
        {
          "data": {
            "text/html": [
              "<pre style=\"white-space:pre;overflow-x:auto;line-height:normal;font-family:Menlo,'DejaVu Sans Mono',consolas,'Courier New',monospace\"><span style=\"font-weight: bold\"> Trainable params: </span><span style=\"color: #00af00; text-decoration-color: #00af00\">974,160</span> (3.72 MB)\n",
              "</pre>\n"
            ],
            "text/plain": [
              "\u001b[1m Trainable params: \u001b[0m\u001b[38;5;34m974,160\u001b[0m (3.72 MB)\n"
            ]
          },
          "metadata": {},
          "output_type": "display_data"
        },
        {
          "data": {
            "text/html": [
              "<pre style=\"white-space:pre;overflow-x:auto;line-height:normal;font-family:Menlo,'DejaVu Sans Mono',consolas,'Courier New',monospace\"><span style=\"font-weight: bold\"> Non-trainable params: </span><span style=\"color: #00af00; text-decoration-color: #00af00\">0</span> (0.00 B)\n",
              "</pre>\n"
            ],
            "text/plain": [
              "\u001b[1m Non-trainable params: \u001b[0m\u001b[38;5;34m0\u001b[0m (0.00 B)\n"
            ]
          },
          "metadata": {},
          "output_type": "display_data"
        }
      ],
      "source": [
        "# Compile the model\n",
        "model.compile(optimizer='adam', loss='sparse_categorical_crossentropy', metrics=['accuracy'])\n",
        "model.summary()"
      ]
    },
    {
      "cell_type": "code",
      "execution_count": null,
      "id": "4da6302d-e588-4104-831b-5e4b4d0ed04d",
      "metadata": {
        "id": "4da6302d-e588-4104-831b-5e4b4d0ed04d"
      },
      "outputs": [],
      "source": []
    }
  ],
  "metadata": {
    "colab": {
      "include_colab_link": true,
      "provenance": []
    },
    "kernelspec": {
      "display_name": "conda_env_example",
      "language": "python",
      "name": "python3"
    },
    "language_info": {
      "codemirror_mode": {
        "name": "ipython",
        "version": 3
      },
      "file_extension": ".py",
      "mimetype": "text/x-python",
      "name": "python",
      "nbconvert_exporter": "python",
      "pygments_lexer": "ipython3",
      "version": "3.11.11"
    }
  },
  "nbformat": 4,
  "nbformat_minor": 5
}
