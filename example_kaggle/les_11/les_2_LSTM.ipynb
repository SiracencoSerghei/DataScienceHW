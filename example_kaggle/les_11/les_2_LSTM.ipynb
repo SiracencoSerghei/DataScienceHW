{
 "cells": [
  {
   "cell_type": "code",
   "execution_count": 9,
   "id": "ca61fab5",
   "metadata": {},
   "outputs": [],
   "source": [
    "import matplotlib.pyplot as plt\n",
    "from keras.datasets import imdb\n",
    "from keras.utils import pad_sequences\n",
    "from keras.models import Sequential\n",
    "from keras.layers import Embedding, LSTM, Dense"
   ]
  },
  {
   "cell_type": "markdown",
   "id": "d462d6fe",
   "metadata": {},
   "source": [
    "Встановлюємо гіперпараметри:"
   ]
  },
  {
   "cell_type": "code",
   "execution_count": 10,
   "id": "677dd365",
   "metadata": {},
   "outputs": [],
   "source": [
    "max_features = 10000  # кількість слів, що розглядаються як особливості\n",
    "maxlen = 500  # обмеження кількості слів в тексті\n",
    "batch_size = 32"
   ]
  },
  {
   "cell_type": "markdown",
   "id": "f056ba46",
   "metadata": {},
   "source": [
    "Завантаження даних:"
   ]
  },
  {
   "cell_type": "code",
   "execution_count": 11,
   "id": "2ac67c0a",
   "metadata": {},
   "outputs": [],
   "source": [
    "(input_train, y_train), (input_test, y_test) = imdb.load_data(num_words=max_features)\n",
    "# Завантаження тренувальних та тестових даних зі вказанням обмеження на кількість слів"
   ]
  },
  {
   "cell_type": "markdown",
   "id": "34cffae6",
   "metadata": {},
   "source": [
    "Передпроцесинг послідовних даних:"
   ]
  },
  {
   "cell_type": "code",
   "execution_count": 12,
   "id": "fd476792",
   "metadata": {},
   "outputs": [],
   "source": [
    "input_train = pad_sequences(input_train, maxlen=maxlen)\n",
    "input_test = pad_sequences(input_test, maxlen=maxlen)\n",
    "# Застосування заздалегідь обраної максимальної довжини до послідовних даних тренувального та тестового наборів"
   ]
  },
  {
   "cell_type": "markdown",
   "id": "60eb4b40",
   "metadata": {},
   "source": [
    "Побудова моделі LSTM:"
   ]
  },
  {
   "cell_type": "code",
   "execution_count": 13,
   "id": "44ceeabc",
   "metadata": {},
   "outputs": [],
   "source": [
    "model = Sequential()\n",
    "# Створення порожньої моделі Sequential\n",
    "\n",
    "# Додавання Embedding шару для перетворення слів в вектори фіксованої довжини\n",
    "model.add(Embedding(max_features, 32))\n",
    "# Параметри: кількість слів для розгляду як особливості та розмір вектора, що представляє кожне слово\n",
    "\n",
    "# Додавання LSTM шару з 32 вузлами\n",
    "model.add(LSTM(32))\n",
    "# Параметр: кількість вузлів (розмір прихованого стану)\n",
    "\n",
    "# Додавання Dense шару з одним вузлом та активацією sigmoid\n",
    "model.add(Dense(1, activation=\"sigmoid\"))\n",
    "# Параметри: кількість вузлів (вихідний розмір) та функція активації (sigmoid для бінарної класифікації)"
   ]
  },
  {
   "cell_type": "markdown",
   "id": "3651c316",
   "metadata": {},
   "source": [
    "Компіляція моделі:"
   ]
  },
  {
   "cell_type": "code",
   "execution_count": 14,
   "id": "55198fa3",
   "metadata": {},
   "outputs": [],
   "source": [
    "model.build(input_shape=(None, maxlen))"
   ]
  },
  {
   "cell_type": "code",
   "execution_count": 15,
   "id": "d475bb32",
   "metadata": {},
   "outputs": [],
   "source": [
    "model.compile(optimizer=\"rmsprop\", loss=\"binary_crossentropy\", metrics=[\"acc\"])"
   ]
  },
  {
   "cell_type": "code",
   "execution_count": 16,
   "id": "e2e3dc72",
   "metadata": {},
   "outputs": [
    {
     "data": {
      "text/html": [
       "<pre style=\"white-space:pre;overflow-x:auto;line-height:normal;font-family:Menlo,'DejaVu Sans Mono',consolas,'Courier New',monospace\"><span style=\"font-weight: bold\">Model: \"sequential_1\"</span>\n",
       "</pre>\n"
      ],
      "text/plain": [
       "\u001b[1mModel: \"sequential_1\"\u001b[0m\n"
      ]
     },
     "metadata": {},
     "output_type": "display_data"
    },
    {
     "data": {
      "text/html": [
       "<pre style=\"white-space:pre;overflow-x:auto;line-height:normal;font-family:Menlo,'DejaVu Sans Mono',consolas,'Courier New',monospace\">┏━━━━━━━━━━━━━━━━━━━━━━━━━━━━━━━━━┳━━━━━━━━━━━━━━━━━━━━━━━━┳━━━━━━━━━━━━━━━┓\n",
       "┃<span style=\"font-weight: bold\"> Layer (type)                    </span>┃<span style=\"font-weight: bold\"> Output Shape           </span>┃<span style=\"font-weight: bold\">       Param # </span>┃\n",
       "┡━━━━━━━━━━━━━━━━━━━━━━━━━━━━━━━━━╇━━━━━━━━━━━━━━━━━━━━━━━━╇━━━━━━━━━━━━━━━┩\n",
       "│ embedding_1 (<span style=\"color: #0087ff; text-decoration-color: #0087ff\">Embedding</span>)         │ (<span style=\"color: #00d7ff; text-decoration-color: #00d7ff\">None</span>, <span style=\"color: #00af00; text-decoration-color: #00af00\">500</span>, <span style=\"color: #00af00; text-decoration-color: #00af00\">32</span>)        │       <span style=\"color: #00af00; text-decoration-color: #00af00\">320,000</span> │\n",
       "├─────────────────────────────────┼────────────────────────┼───────────────┤\n",
       "│ lstm_1 (<span style=\"color: #0087ff; text-decoration-color: #0087ff\">LSTM</span>)                   │ (<span style=\"color: #00d7ff; text-decoration-color: #00d7ff\">None</span>, <span style=\"color: #00af00; text-decoration-color: #00af00\">32</span>)             │         <span style=\"color: #00af00; text-decoration-color: #00af00\">8,320</span> │\n",
       "├─────────────────────────────────┼────────────────────────┼───────────────┤\n",
       "│ dense_1 (<span style=\"color: #0087ff; text-decoration-color: #0087ff\">Dense</span>)                 │ (<span style=\"color: #00d7ff; text-decoration-color: #00d7ff\">None</span>, <span style=\"color: #00af00; text-decoration-color: #00af00\">1</span>)              │            <span style=\"color: #00af00; text-decoration-color: #00af00\">33</span> │\n",
       "└─────────────────────────────────┴────────────────────────┴───────────────┘\n",
       "</pre>\n"
      ],
      "text/plain": [
       "┏━━━━━━━━━━━━━━━━━━━━━━━━━━━━━━━━━┳━━━━━━━━━━━━━━━━━━━━━━━━┳━━━━━━━━━━━━━━━┓\n",
       "┃\u001b[1m \u001b[0m\u001b[1mLayer (type)                   \u001b[0m\u001b[1m \u001b[0m┃\u001b[1m \u001b[0m\u001b[1mOutput Shape          \u001b[0m\u001b[1m \u001b[0m┃\u001b[1m \u001b[0m\u001b[1m      Param #\u001b[0m\u001b[1m \u001b[0m┃\n",
       "┡━━━━━━━━━━━━━━━━━━━━━━━━━━━━━━━━━╇━━━━━━━━━━━━━━━━━━━━━━━━╇━━━━━━━━━━━━━━━┩\n",
       "│ embedding_1 (\u001b[38;5;33mEmbedding\u001b[0m)         │ (\u001b[38;5;45mNone\u001b[0m, \u001b[38;5;34m500\u001b[0m, \u001b[38;5;34m32\u001b[0m)        │       \u001b[38;5;34m320,000\u001b[0m │\n",
       "├─────────────────────────────────┼────────────────────────┼───────────────┤\n",
       "│ lstm_1 (\u001b[38;5;33mLSTM\u001b[0m)                   │ (\u001b[38;5;45mNone\u001b[0m, \u001b[38;5;34m32\u001b[0m)             │         \u001b[38;5;34m8,320\u001b[0m │\n",
       "├─────────────────────────────────┼────────────────────────┼───────────────┤\n",
       "│ dense_1 (\u001b[38;5;33mDense\u001b[0m)                 │ (\u001b[38;5;45mNone\u001b[0m, \u001b[38;5;34m1\u001b[0m)              │            \u001b[38;5;34m33\u001b[0m │\n",
       "└─────────────────────────────────┴────────────────────────┴───────────────┘\n"
      ]
     },
     "metadata": {},
     "output_type": "display_data"
    },
    {
     "data": {
      "text/html": [
       "<pre style=\"white-space:pre;overflow-x:auto;line-height:normal;font-family:Menlo,'DejaVu Sans Mono',consolas,'Courier New',monospace\"><span style=\"font-weight: bold\"> Total params: </span><span style=\"color: #00af00; text-decoration-color: #00af00\">328,353</span> (1.25 MB)\n",
       "</pre>\n"
      ],
      "text/plain": [
       "\u001b[1m Total params: \u001b[0m\u001b[38;5;34m328,353\u001b[0m (1.25 MB)\n"
      ]
     },
     "metadata": {},
     "output_type": "display_data"
    },
    {
     "data": {
      "text/html": [
       "<pre style=\"white-space:pre;overflow-x:auto;line-height:normal;font-family:Menlo,'DejaVu Sans Mono',consolas,'Courier New',monospace\"><span style=\"font-weight: bold\"> Trainable params: </span><span style=\"color: #00af00; text-decoration-color: #00af00\">328,353</span> (1.25 MB)\n",
       "</pre>\n"
      ],
      "text/plain": [
       "\u001b[1m Trainable params: \u001b[0m\u001b[38;5;34m328,353\u001b[0m (1.25 MB)\n"
      ]
     },
     "metadata": {},
     "output_type": "display_data"
    },
    {
     "data": {
      "text/html": [
       "<pre style=\"white-space:pre;overflow-x:auto;line-height:normal;font-family:Menlo,'DejaVu Sans Mono',consolas,'Courier New',monospace\"><span style=\"font-weight: bold\"> Non-trainable params: </span><span style=\"color: #00af00; text-decoration-color: #00af00\">0</span> (0.00 B)\n",
       "</pre>\n"
      ],
      "text/plain": [
       "\u001b[1m Non-trainable params: \u001b[0m\u001b[38;5;34m0\u001b[0m (0.00 B)\n"
      ]
     },
     "metadata": {},
     "output_type": "display_data"
    }
   ],
   "source": [
    "model.summary()"
   ]
  },
  {
   "cell_type": "markdown",
   "id": "9d83a57c",
   "metadata": {},
   "source": [
    "Навчання моделі:"
   ]
  },
  {
   "cell_type": "code",
   "execution_count": 17,
   "id": "c2b9fa32",
   "metadata": {},
   "outputs": [
    {
     "name": "stdout",
     "output_type": "stream",
     "text": [
      "Epoch 1/5\n",
      "\u001b[1m137/137\u001b[0m \u001b[32m━━━━━━━━━━━━━━━━━━━━\u001b[0m\u001b[37m\u001b[0m \u001b[1m15s\u001b[0m 107ms/step - acc: 0.5525 - loss: 0.6777 - val_acc: 0.7253 - val_loss: 0.5440\n",
      "Epoch 2/5\n",
      "\u001b[1m137/137\u001b[0m \u001b[32m━━━━━━━━━━━━━━━━━━━━\u001b[0m\u001b[37m\u001b[0m \u001b[1m14s\u001b[0m 102ms/step - acc: 0.8065 - loss: 0.4461 - val_acc: 0.8584 - val_loss: 0.3502\n",
      "Epoch 3/5\n",
      "\u001b[1m137/137\u001b[0m \u001b[32m━━━━━━━━━━━━━━━━━━━━\u001b[0m\u001b[37m\u001b[0m \u001b[1m15s\u001b[0m 107ms/step - acc: 0.8590 - loss: 0.3456 - val_acc: 0.8023 - val_loss: 0.5309\n",
      "Epoch 4/5\n",
      "\u001b[1m137/137\u001b[0m \u001b[32m━━━━━━━━━━━━━━━━━━━━\u001b[0m\u001b[37m\u001b[0m \u001b[1m15s\u001b[0m 107ms/step - acc: 0.8657 - loss: 0.3276 - val_acc: 0.8553 - val_loss: 0.3419\n",
      "Epoch 5/5\n",
      "\u001b[1m137/137\u001b[0m \u001b[32m━━━━━━━━━━━━━━━━━━━━\u001b[0m\u001b[37m\u001b[0m \u001b[1m15s\u001b[0m 108ms/step - acc: 0.8821 - loss: 0.3005 - val_acc: 0.8523 - val_loss: 0.3422\n"
     ]
    }
   ],
   "source": [
    "history = model.fit(\n",
    "    input_train, y_train, epochs=5, batch_size=128, validation_split=0.3\n",
    ")\n",
    "# Запускаємо навчання моделі на тренувальних даних для 5 епох з розміром пакету 128 та розбиттям на тренувальну та валідаційну підмножини"
   ]
  },
  {
   "cell_type": "markdown",
   "id": "520d8938",
   "metadata": {},
   "source": [
    "Відображення результатів:"
   ]
  },
  {
   "cell_type": "code",
   "execution_count": 19,
   "id": "87ad6b42",
   "metadata": {},
   "outputs": [
    {
     "data": {
      "image/png": "[encoded data removed]",
      "text/plain": [
       "<Figure size 640x480 with 1 Axes>"
      ]
     },
     "metadata": {},
     "output_type": "display_data"
    },
    {
     "data": {
      "image/png": "[encoded data removed]",
      "text/plain": [
       "<Figure size 640x480 with 1 Axes>"
      ]
     },
     "metadata": {},
     "output_type": "display_data"
    }
   ],
   "source": [
    "acc = history.history[\"acc\"]\n",
    "val_acc = history.history[\"val_acc\"]\n",
    "loss = history.history[\"loss\"]\n",
    "val_loss = history.history[\"val_loss\"]\n",
    "\n",
    "epochs = range(1, len(acc) + 1)\n",
    "\n",
    "plt.plot(\n",
    "    epochs, acc, \"bo\", label=\"Точність на тренуванні\"\n",
    ")  # Графік точності на тренувальних данних\n",
    "plt.plot(\n",
    "    epochs, val_acc, \"b\", label=\"Точність на валідації\"\n",
    ")  # Графік точності на валідаційних данних\n",
    "plt.title(\"Точність тренування і валідації\")  # Заголовок графіку\n",
    "plt.legend()  # Показати легенду\n",
    "\n",
    "plt.figure()\n",
    "\n",
    "plt.plot(\n",
    "    epochs, loss, \"bo\", label=\"Втрати на тренуванні\"\n",
    ")  # Графік втрат на тренувальних данних\n",
    "plt.plot(\n",
    "    epochs, val_loss, \"b\", label=\"Втрати на валідації\"\n",
    ")  # Графік втрат на валідаційних данних\n",
    "plt.title(\"Втрати тренування і валідації\")  # Заголовок графіку\n",
    "plt.legend()  # Показати легенду\n",
    "\n",
    "plt.show()  # Відобразити графіки"
   ]
  },
  {
   "cell_type": "markdown",
   "id": "264b21ec",
   "metadata": {},
   "source": [
    "Прогнозування з використанням навченої моделі:"
   ]
  },
  {
   "cell_type": "code",
   "execution_count": 20,
   "id": "8b468f21",
   "metadata": {},
   "outputs": [
    {
     "name": "stdout",
     "output_type": "stream",
     "text": [
      "\u001b[1m782/782\u001b[0m \u001b[32m━━━━━━━━━━━━━━━━━━━━\u001b[0m\u001b[37m\u001b[0m \u001b[1m12s\u001b[0m 16ms/step\n",
      "Прогнозоване: 1, Фактичне: 0\n",
      "Прогнозоване: 1, Фактичне: 1\n",
      "Прогнозоване: 1, Фактичне: 1\n",
      "Прогнозоване: 1, Фактичне: 0\n",
      "Прогнозоване: 1, Фактичне: 1\n",
      "Прогнозоване: 1, Фактичне: 1\n",
      "Прогнозоване: 1, Фактичне: 1\n",
      "Прогнозоване: 0, Фактичне: 0\n",
      "Прогнозоване: 1, Фактичне: 0\n",
      "Прогнозоване: 1, Фактичне: 1\n",
      "\u001b[1m782/782\u001b[0m \u001b[32m━━━━━━━━━━━━━━━━━━━━\u001b[0m\u001b[37m\u001b[0m \u001b[1m12s\u001b[0m 15ms/step - acc: 0.8492 - loss: 0.3514\n",
      "Test Loss: 0.34581562876701355\n",
      "Test Accuracy: 0.8511199951171875\n"
     ]
    }
   ],
   "source": [
    "predictions = model.predict(input_test)\n",
    "\n",
    "# Для отримання зрозумілішого вигляду прогнозів, їх можна перетворити в бінарний формат:\n",
    "binary_predictions = [1 if pred > 0.5 else 0 for pred in predictions]\n",
    "\n",
    "# Для порівняння можна вивести деякі прогнозовані значення поряд з фактичними значеннями\n",
    "for i in range(10):\n",
    "    print(f\"Прогнозоване: {binary_predictions[i]}, Фактичне: {y_test[i]}\")\n",
    "\n",
    "# Додатковий крок: Оцінка моделі\n",
    "# Це дасть загальну точність моделі на тестових даних\n",
    "test_loss, test_acc = model.evaluate(input_test, y_test)\n",
    "print(\"Test Loss: {}\".format(test_loss))\n",
    "print(\"Test Accuracy: {}\".format(test_acc))"
   ]
  },
  {
   "cell_type": "markdown",
   "id": "83d1dd41",
   "metadata": {},
   "source": [
    "Практика з BRNN за допомогою Keras:"
   ]
  },
  {
   "cell_type": "code",
   "execution_count": 21,
   "id": "5c8642a0",
   "metadata": {},
   "outputs": [],
   "source": [
    "import matplotlib.pyplot as plt\n",
    "from keras.datasets import imdb\n",
    "from keras.utils import pad_sequences\n",
    "from keras.models import Sequential\n",
    "from keras.layers import Embedding, Bidirectional, LSTM, Dense"
   ]
  },
  {
   "cell_type": "markdown",
   "id": "5ce9aa70",
   "metadata": {},
   "source": [
    "Встановлюємо гіперпараметри:"
   ]
  },
  {
   "cell_type": "code",
   "execution_count": 22,
   "id": "4edff756",
   "metadata": {},
   "outputs": [],
   "source": [
    "max_features = 10000  # кількість слів, що розглядаються як особливості\n",
    "maxlen = 500  # обмеження кількості слів в тексті\n",
    "batch_size = 32"
   ]
  },
  {
   "cell_type": "markdown",
   "id": "35f978c6",
   "metadata": {},
   "source": [
    "Завантаження даних:"
   ]
  },
  {
   "cell_type": "code",
   "execution_count": 23,
   "id": "0204e58e",
   "metadata": {},
   "outputs": [],
   "source": [
    "(input_train, y_train), (input_test, y_test) = imdb.load_data(num_words=max_features)\n",
    "# Завантаження тренувальних та тестових даних зі вказанням обмеження на кількість слів"
   ]
  },
  {
   "cell_type": "markdown",
   "id": "8fb4ddd4",
   "metadata": {},
   "source": [
    "Передпроцесинг послідовних даних:"
   ]
  },
  {
   "cell_type": "code",
   "execution_count": 24,
   "id": "e29f3852",
   "metadata": {},
   "outputs": [],
   "source": [
    "input_train = pad_sequences(input_train, maxlen=maxlen)\n",
    "input_test = pad_sequences(input_test, maxlen=maxlen)\n",
    "# Застосування заздалегідь обраної максимальної довжини до послідовних даних тренувального та тестового наборів"
   ]
  },
  {
   "cell_type": "markdown",
   "id": "9e5d6152",
   "metadata": {},
   "source": [
    "Побудова моделі LSTM:"
   ]
  },
  {
   "cell_type": "code",
   "execution_count": 25,
   "id": "3be6c52d",
   "metadata": {},
   "outputs": [],
   "source": [
    "model = Sequential()\n",
    "# Створення порожньої моделі Sequential\n",
    "\n",
    "# Додавання Embedding шару для перетворення слів в вектори фіксованої довжини\n",
    "model.add(Embedding(max_features, 32))\n",
    "# Параметри: кількість слів для розгляду як особливості та розмір вектора, що представляє кожне слово\n",
    "\n",
    "# Додавання Bidirectional LSTM шару з 32 вузлами\n",
    "model.add(Bidirectional(LSTM(32)))\n",
    "# Параметр: кількість вузлів (розмір прихованого стану)\n",
    "\n",
    "# Додавання Dense шару з одним вузлом та активацією sigmoid\n",
    "model.add(Dense(1, activation=\"sigmoid\"))\n",
    "# Параметри: кількість вузлів (вихідний розмір) та функція активації (sigmoid для бінарної класифікації)"
   ]
  },
  {
   "cell_type": "markdown",
   "id": "b5f3d436",
   "metadata": {},
   "source": [
    "Компіляція моделі:"
   ]
  },
  {
   "cell_type": "code",
   "execution_count": 28,
   "id": "80f8bad8",
   "metadata": {},
   "outputs": [],
   "source": [
    "model.build(input_shape=(None, maxlen))"
   ]
  },
  {
   "cell_type": "code",
   "execution_count": 29,
   "id": "cc93b228",
   "metadata": {},
   "outputs": [],
   "source": [
    "model.compile(optimizer=\"rmsprop\", loss=\"binary_crossentropy\", metrics=[\"acc\"])"
   ]
  },
  {
   "cell_type": "code",
   "execution_count": 30,
   "id": "86cb9373",
   "metadata": {},
   "outputs": [
    {
     "data": {
      "text/html": [
       "<pre style=\"white-space:pre;overflow-x:auto;line-height:normal;font-family:Menlo,'DejaVu Sans Mono',consolas,'Courier New',monospace\"><span style=\"font-weight: bold\">Model: \"sequential_2\"</span>\n",
       "</pre>\n"
      ],
      "text/plain": [
       "\u001b[1mModel: \"sequential_2\"\u001b[0m\n"
      ]
     },
     "metadata": {},
     "output_type": "display_data"
    },
    {
     "data": {
      "text/html": [
       "<pre style=\"white-space:pre;overflow-x:auto;line-height:normal;font-family:Menlo,'DejaVu Sans Mono',consolas,'Courier New',monospace\">┏━━━━━━━━━━━━━━━━━━━━━━━━━━━━━━━━━┳━━━━━━━━━━━━━━━━━━━━━━━━┳━━━━━━━━━━━━━━━┓\n",
       "┃<span style=\"font-weight: bold\"> Layer (type)                    </span>┃<span style=\"font-weight: bold\"> Output Shape           </span>┃<span style=\"font-weight: bold\">       Param # </span>┃\n",
       "┡━━━━━━━━━━━━━━━━━━━━━━━━━━━━━━━━━╇━━━━━━━━━━━━━━━━━━━━━━━━╇━━━━━━━━━━━━━━━┩\n",
       "│ embedding_2 (<span style=\"color: #0087ff; text-decoration-color: #0087ff\">Embedding</span>)         │ (<span style=\"color: #00d7ff; text-decoration-color: #00d7ff\">None</span>, <span style=\"color: #00af00; text-decoration-color: #00af00\">500</span>, <span style=\"color: #00af00; text-decoration-color: #00af00\">32</span>)        │       <span style=\"color: #00af00; text-decoration-color: #00af00\">320,000</span> │\n",
       "├─────────────────────────────────┼────────────────────────┼───────────────┤\n",
       "│ bidirectional (<span style=\"color: #0087ff; text-decoration-color: #0087ff\">Bidirectional</span>)   │ (<span style=\"color: #00d7ff; text-decoration-color: #00d7ff\">None</span>, <span style=\"color: #00af00; text-decoration-color: #00af00\">64</span>)             │        <span style=\"color: #00af00; text-decoration-color: #00af00\">16,640</span> │\n",
       "├─────────────────────────────────┼────────────────────────┼───────────────┤\n",
       "│ dense_2 (<span style=\"color: #0087ff; text-decoration-color: #0087ff\">Dense</span>)                 │ (<span style=\"color: #00d7ff; text-decoration-color: #00d7ff\">None</span>, <span style=\"color: #00af00; text-decoration-color: #00af00\">1</span>)              │            <span style=\"color: #00af00; text-decoration-color: #00af00\">65</span> │\n",
       "└─────────────────────────────────┴────────────────────────┴───────────────┘\n",
       "</pre>\n"
      ],
      "text/plain": [
       "┏━━━━━━━━━━━━━━━━━━━━━━━━━━━━━━━━━┳━━━━━━━━━━━━━━━━━━━━━━━━┳━━━━━━━━━━━━━━━┓\n",
       "┃\u001b[1m \u001b[0m\u001b[1mLayer (type)                   \u001b[0m\u001b[1m \u001b[0m┃\u001b[1m \u001b[0m\u001b[1mOutput Shape          \u001b[0m\u001b[1m \u001b[0m┃\u001b[1m \u001b[0m\u001b[1m      Param #\u001b[0m\u001b[1m \u001b[0m┃\n",
       "┡━━━━━━━━━━━━━━━━━━━━━━━━━━━━━━━━━╇━━━━━━━━━━━━━━━━━━━━━━━━╇━━━━━━━━━━━━━━━┩\n",
       "│ embedding_2 (\u001b[38;5;33mEmbedding\u001b[0m)         │ (\u001b[38;5;45mNone\u001b[0m, \u001b[38;5;34m500\u001b[0m, \u001b[38;5;34m32\u001b[0m)        │       \u001b[38;5;34m320,000\u001b[0m │\n",
       "├─────────────────────────────────┼────────────────────────┼───────────────┤\n",
       "│ bidirectional (\u001b[38;5;33mBidirectional\u001b[0m)   │ (\u001b[38;5;45mNone\u001b[0m, \u001b[38;5;34m64\u001b[0m)             │        \u001b[38;5;34m16,640\u001b[0m │\n",
       "├─────────────────────────────────┼────────────────────────┼───────────────┤\n",
       "│ dense_2 (\u001b[38;5;33mDense\u001b[0m)                 │ (\u001b[38;5;45mNone\u001b[0m, \u001b[38;5;34m1\u001b[0m)              │            \u001b[38;5;34m65\u001b[0m │\n",
       "└─────────────────────────────────┴────────────────────────┴───────────────┘\n"
      ]
     },
     "metadata": {},
     "output_type": "display_data"
    },
    {
     "data": {
      "text/html": [
       "<pre style=\"white-space:pre;overflow-x:auto;line-height:normal;font-family:Menlo,'DejaVu Sans Mono',consolas,'Courier New',monospace\"><span style=\"font-weight: bold\"> Total params: </span><span style=\"color: #00af00; text-decoration-color: #00af00\">336,705</span> (1.28 MB)\n",
       "</pre>\n"
      ],
      "text/plain": [
       "\u001b[1m Total params: \u001b[0m\u001b[38;5;34m336,705\u001b[0m (1.28 MB)\n"
      ]
     },
     "metadata": {},
     "output_type": "display_data"
    },
    {
     "data": {
      "text/html": [
       "<pre style=\"white-space:pre;overflow-x:auto;line-height:normal;font-family:Menlo,'DejaVu Sans Mono',consolas,'Courier New',monospace\"><span style=\"font-weight: bold\"> Trainable params: </span><span style=\"color: #00af00; text-decoration-color: #00af00\">336,705</span> (1.28 MB)\n",
       "</pre>\n"
      ],
      "text/plain": [
       "\u001b[1m Trainable params: \u001b[0m\u001b[38;5;34m336,705\u001b[0m (1.28 MB)\n"
      ]
     },
     "metadata": {},
     "output_type": "display_data"
    },
    {
     "data": {
      "text/html": [
       "<pre style=\"white-space:pre;overflow-x:auto;line-height:normal;font-family:Menlo,'DejaVu Sans Mono',consolas,'Courier New',monospace\"><span style=\"font-weight: bold\"> Non-trainable params: </span><span style=\"color: #00af00; text-decoration-color: #00af00\">0</span> (0.00 B)\n",
       "</pre>\n"
      ],
      "text/plain": [
       "\u001b[1m Non-trainable params: \u001b[0m\u001b[38;5;34m0\u001b[0m (0.00 B)\n"
      ]
     },
     "metadata": {},
     "output_type": "display_data"
    }
   ],
   "source": [
    "model.summary()"
   ]
  },
  {
   "cell_type": "markdown",
   "id": "14ebf452",
   "metadata": {},
   "source": [
    "Навчання моделі:"
   ]
  },
  {
   "cell_type": "code",
   "execution_count": 31,
   "id": "1403dc35",
   "metadata": {},
   "outputs": [
    {
     "name": "stdout",
     "output_type": "stream",
     "text": [
      "Epoch 1/5\n",
      "\u001b[1m137/137\u001b[0m \u001b[32m━━━━━━━━━━━━━━━━━━━━\u001b[0m\u001b[37m\u001b[0m \u001b[1m20s\u001b[0m 133ms/step - acc: 0.5489 - loss: 0.6834 - val_acc: 0.7723 - val_loss: 0.5101\n",
      "Epoch 2/5\n",
      "\u001b[1m137/137\u001b[0m \u001b[32m━━━━━━━━━━━━━━━━━━━━\u001b[0m\u001b[37m\u001b[0m \u001b[1m18s\u001b[0m 131ms/step - acc: 0.7868 - loss: 0.4751 - val_acc: 0.8205 - val_loss: 0.4057\n",
      "Epoch 3/5\n",
      "\u001b[1m137/137\u001b[0m \u001b[32m━━━━━━━━━━━━━━━━━━━━\u001b[0m\u001b[37m\u001b[0m \u001b[1m19s\u001b[0m 137ms/step - acc: 0.8462 - loss: 0.3662 - val_acc: 0.8487 - val_loss: 0.3773\n",
      "Epoch 4/5\n",
      "\u001b[1m137/137\u001b[0m \u001b[32m━━━━━━━━━━━━━━━━━━━━\u001b[0m\u001b[37m\u001b[0m \u001b[1m19s\u001b[0m 139ms/step - acc: 0.8724 - loss: 0.3178 - val_acc: 0.8556 - val_loss: 0.3350\n",
      "Epoch 5/5\n",
      "\u001b[1m137/137\u001b[0m \u001b[32m━━━━━━━━━━━━━━━━━━━━\u001b[0m\u001b[37m\u001b[0m \u001b[1m19s\u001b[0m 138ms/step - acc: 0.8862 - loss: 0.2981 - val_acc: 0.8813 - val_loss: 0.2970\n"
     ]
    }
   ],
   "source": [
    "history = model.fit(\n",
    "    input_train, y_train, epochs=5, batch_size=128, validation_split=0.3\n",
    ")\n",
    "# Запускаємо навчання моделі на тренувальних даних для 5 епох з розміром пакету 128 та розбиттям на тренувальну та валідаційну підмножини"
   ]
  },
  {
   "cell_type": "markdown",
   "id": "25fa3130",
   "metadata": {},
   "source": [
    "Відображення результатів:"
   ]
  },
  {
   "cell_type": "code",
   "execution_count": null,
   "id": "172697e4",
   "metadata": {},
   "outputs": [],
   "source": [
    "acc = history.history[\"acc\"]\n",
    "val_acc = history.history[\"val_acc\"]\n",
    "loss = history.history[\"loss\"]\n",
    "val_loss = history.history[\"val_loss\"]\n",
    "\n",
    "epochs = range(1, len(acc) + 1)\n",
    "\n",
    "plt.plot(\n",
    "    epochs, acc, \"bo\", label=\"Точність на тренуванні\"\n",
    ")  # Графік точності на тренувальних данних\n",
    "plt.plot(\n",
    "    epochs, val_acc, \"b\", label=\"Точність на валідації\"\n",
    ")  # Графік точності на валідаційних данних\n",
    "plt.title(\"Точність тренування і валідації\")  # Заголовок графіку\n",
    "plt.legend()  # Показати легенду\n",
    "\n",
    "plt.figure()\n",
    "\n",
    "plt.plot(\n",
    "    epochs, loss, \"bo\", label=\"Втрати на тренуванні\"\n",
    ")  # Графік втрат на тренувальних данних\n",
    "plt.plot(\n",
    "    epochs, val_loss, \"b\", label=\"Втрати на валідації\"\n",
    ")  # Графік втрат на валідаційних данних\n",
    "plt.title(\"Втрати тренування і валідації\")  # Заголовок графіку\n",
    "plt.legend()  # Показати легенду\n",
    "\n",
    "plt.show()  # Відобразити графіки"
   ]
  },
  {
   "cell_type": "markdown",
   "id": "a5609b13",
   "metadata": {},
   "source": [
    "Прогнозування з використанням навченої моделі:"
   ]
  },
  {
   "cell_type": "code",
   "execution_count": null,
   "id": "fbbf640d",
   "metadata": {},
   "outputs": [],
   "source": [
    "predictions = model.predict(input_test)\n",
    "\n",
    "# Для отримання зрозумілішого вигляду прогнозів, їх можна перетворити в бінарний формат:\n",
    "binary_predictions = [1 if pred > 0.5 else 0 for pred in predictions]\n",
    "\n",
    "# Для порівняння можна вивести деякі прогнозовані значення поряд з фактичними значеннями\n",
    "for i in range(10):\n",
    "    print(f\"Прогнозоване: {binary_predictions[i]}, Фактичне: {y_test[i]}\")\n",
    "\n",
    "# Додатковий крок: Оцінка моделі\n",
    "# Це дасть загальну точність моделі на тестових даних\n",
    "test_loss, test_acc = model.evaluate(input_test, y_test)\n",
    "print(\"Test Loss: {}\".format(test_loss))\n",
    "print(\"Test Accuracy: {}\".format(test_acc))"
   ]
  },
  {
   "cell_type": "markdown",
   "id": "d524c660",
   "metadata": {},
   "source": [
    "Практика з Deep BRNN за допомогою Keras:"
   ]
  },
  {
   "cell_type": "code",
   "execution_count": null,
   "id": "9da19597",
   "metadata": {},
   "outputs": [],
   "source": [
    "import matplotlib.pyplot as plt\n",
    "from keras.datasets import imdb\n",
    "from keras.utils import pad_sequences\n",
    "from keras.models import Sequential\n",
    "from keras.layers import Embedding, Bidirectional, LSTM, Dense"
   ]
  },
  {
   "cell_type": "markdown",
   "id": "73ea57ad",
   "metadata": {},
   "source": [
    "Встановлюємо гіперпараметри:"
   ]
  },
  {
   "cell_type": "code",
   "execution_count": null,
   "id": "568bc18e",
   "metadata": {},
   "outputs": [],
   "source": [
    "max_features = 10000  # кількість слів, що розглядаються як особливості\n",
    "maxlen = 500  # обмеження кількості слів в тексті\n",
    "batch_size = 32"
   ]
  },
  {
   "cell_type": "markdown",
   "id": "a2420c02",
   "metadata": {},
   "source": [
    "Завантаження даних:"
   ]
  },
  {
   "cell_type": "code",
   "execution_count": null,
   "id": "833f9050",
   "metadata": {},
   "outputs": [],
   "source": [
    "(input_train, y_train), (input_test, y_test) = imdb.load_data(num_words=max_features)\n",
    "# Завантаження тренувальних та тестових даних зі вказанням обмеження на кількість слів"
   ]
  },
  {
   "cell_type": "markdown",
   "id": "0a223485",
   "metadata": {},
   "source": [
    "Передпроцесинг послідовних даних:"
   ]
  },
  {
   "cell_type": "code",
   "execution_count": null,
   "id": "bc16edbf",
   "metadata": {},
   "outputs": [],
   "source": [
    "input_train = pad_sequences(input_train, maxlen=maxlen)\n",
    "input_test = pad_sequences(input_test, maxlen=maxlen)\n",
    "# Застосування заздалегідь обраної максимальної довжини до послідовних даних тренувального та тестового наборів"
   ]
  },
  {
   "cell_type": "markdown",
   "id": "59b1fee2",
   "metadata": {},
   "source": [
    "Побудова моделі LSTM:"
   ]
  },
  {
   "cell_type": "code",
   "execution_count": null,
   "id": "ccfa6fbf",
   "metadata": {},
   "outputs": [],
   "source": [
    "model = Sequential()\n",
    "# Створення порожньої моделі Sequential\n",
    "\n",
    "# Додавання Embedding шару для перетворення слів в вектори фіксованої довжини\n",
    "model.add(Embedding(max_features, 32))\n",
    "# Параметри: кількість слів для розгляду як особливості та розмір вектора, що представляє кожне слово\n",
    "\n",
    "# Додавання декількох Bidirectional LSTM шару з 32 вузлами\n",
    "model.add(Bidirectional(LSTM(32, return_sequences=True)))\n",
    "model.add(Bidirectional(LSTM(32)))\n",
    "# Параметр: кількість вузлів (розмір прихованого стану) і return_sequences=True для першого шару, щоб надати послідовність як вхід на наступний шар\n",
    "\n",
    "# Додавання Dense шару з одним вузлом та активацією sigmoid\n",
    "model.add(Dense(1, activation=\"sigmoid\"))\n",
    "# Параметри: кількість вузлів (вихідний розмір) та функція активації (sigmoid для бінарної класифікації)"
   ]
  },
  {
   "cell_type": "markdown",
   "id": "84d5972d",
   "metadata": {},
   "source": [
    "Компіляція моделі:"
   ]
  },
  {
   "cell_type": "code",
   "execution_count": null,
   "id": "30d46210",
   "metadata": {},
   "outputs": [],
   "source": [
    "model.compile(optimizer=\"rmsprop\", loss=\"binary_crossentropy\", metrics=[\"acc\"])"
   ]
  },
  {
   "cell_type": "code",
   "execution_count": null,
   "id": "97351a38",
   "metadata": {},
   "outputs": [],
   "source": [
    "model.summary()"
   ]
  },
  {
   "cell_type": "markdown",
   "id": "913a1086",
   "metadata": {},
   "source": [
    "Навчання моделі:"
   ]
  },
  {
   "cell_type": "code",
   "execution_count": null,
   "id": "80d6343d",
   "metadata": {},
   "outputs": [],
   "source": [
    "history = model.fit(\n",
    "    input_train, y_train, epochs=5, batch_size=128, validation_split=0.3\n",
    ")\n",
    "# Запускаємо навчання моделі на тренувальних даних для 5 епох з розміром пакету 128 та розбиттям на тренувальну та валідаційну підмножини"
   ]
  },
  {
   "cell_type": "markdown",
   "id": "e93c5179",
   "metadata": {},
   "source": [
    "Відображення результатів:"
   ]
  },
  {
   "cell_type": "code",
   "execution_count": null,
   "id": "676ec32e",
   "metadata": {},
   "outputs": [],
   "source": [
    "acc = history.history[\"acc\"]\n",
    "val_acc = history.history[\"val_acc\"]\n",
    "loss = history.history[\"loss\"]\n",
    "val_loss = history.history[\"val_loss\"]\n",
    "\n",
    "epochs = range(1, len(acc) + 1)\n",
    "\n",
    "plt.plot(\n",
    "    epochs, acc, \"bo\", label=\"Точність на тренуванні\"\n",
    ")  # Графік точності на тренувальних данних\n",
    "plt.plot(\n",
    "    epochs, val_acc, \"b\", label=\"Точність на валідації\"\n",
    ")  # Графік точності на валідаційних данних\n",
    "plt.title(\"Точність тренування і валідації\")  # Заголовок графіку\n",
    "plt.legend()  # Показати легенду\n",
    "\n",
    "plt.figure()\n",
    "\n",
    "plt.plot(\n",
    "    epochs, loss, \"bo\", label=\"Втрати на тренуванні\"\n",
    ")  # Графік втрат на тренувальних данних\n",
    "plt.plot(\n",
    "    epochs, val_loss, \"b\", label=\"Втрати на валідації\"\n",
    ")  # Графік втрат на валідаційних данних\n",
    "plt.title(\"Втрати тренування і валідації\")  # Заголовок графіку\n",
    "plt.legend()  # Показати легенду\n",
    "\n",
    "plt.show()  # Відобразити графіки"
   ]
  },
  {
   "cell_type": "markdown",
   "id": "240502a1",
   "metadata": {},
   "source": [
    "Прогнозування з використанням навченої моделі:"
   ]
  },
  {
   "cell_type": "code",
   "execution_count": null,
   "id": "2147e2e2",
   "metadata": {},
   "outputs": [],
   "source": [
    "predictions = model.predict(input_test)\n",
    "\n",
    "# Для отримання зрозумілішого вигляду прогнозів, їх можна перетворити в бінарний формат:\n",
    "binary_predictions = [1 if pred > 0.5 else 0 for pred in predictions]\n",
    "\n",
    "# Для порівняння можна вивести деякі прогнозовані значення поряд з фактичними значеннями\n",
    "for i in range(10):\n",
    "    print(f\"Прогнозоване: {binary_predictions[i]}, Фактичне: {y_test[i]}\")\n",
    "\n",
    "# Додатковий крок: Оцінка моделі\n",
    "# Це дасть загальну точність моделі на тестових даних\n",
    "test_loss, test_acc = model.evaluate(input_test, y_test)\n",
    "print(\"Test Loss: {}\".format(test_loss))\n",
    "print(\"Test Accuracy: {}\".format(test_acc))"
   ]
  }
 ],
 "metadata": {
  "kernelspec": {
   "display_name": "conda_env_example",
   "language": "python",
   "name": "python3"
  },
  "language_info": {
   "codemirror_mode": {
    "name": "ipython",
    "version": 3
   },
   "file_extension": ".py",
   "mimetype": "text/x-python",
   "name": "python",
   "nbconvert_exporter": "python",
   "pygments_lexer": "ipython3",
   "version": "3.11.11"
  }
 },
 "nbformat": 4,
 "nbformat_minor": 5
}
