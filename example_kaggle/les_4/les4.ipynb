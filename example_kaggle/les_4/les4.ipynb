{
  "cells": [
    {
      "cell_type": "markdown",
      "metadata": {
        "id": "view-in-github",
        "colab_type": "text"
      },
      "source": [
        "<a href=\"https://colab.research.google.com/github/SiracencoSerghei/DataScienceHW/blob/main/example_kaggle/les_4/les4.ipynb\" target=\"_parent\"><img src=\"https://colab.research.google.com/assets/colab-badge.svg\" alt=\"Open In Colab\"/></a>"
      ]
    },
    {
      "cell_type": "code",
      "execution_count": 12,
      "metadata": {
        "id": "1HO3UWhDkAvw"
      },
      "outputs": [],
      "source": [
        "import pandas as pd\n",
        "import numpy as np\n",
        "from matplotlib import pyplot as plt\n",
        "from sklearn.datasets import load_iris\n",
        "from sklearn.linear_model import LogisticRegression\n",
        "from sklearn.preprocessing import StandardScaler\n",
        "\n",
        "from sklearn.multiclass import OneVsRestClassifier\n",
        "from sklearn.svm import SVC, LinearSVC\n",
        "\n",
        "from sklearn.model_selection import train_test_split\n",
        "from sklearn.multiclass import OneVsOneClassifier\n",
        "\n",
        "%matplotlib inline"
      ]
    },
    {
      "cell_type": "code",
      "source": [
        "# Завантаження даних\n",
        "X, y = load_iris(return_X_y=True)\n",
        "\n",
        "# Навчання моделі\n",
        "clf = LogisticRegression(random_state=0, max_iter=200).fit(X, y)\n",
        "\n",
        "# Оцінка точності\n",
        "print(\"Accuracy:\", clf.score(X, y))\n"
      ],
      "metadata": {
        "id": "MGOA5LJmkDiG",
        "outputId": "b87659a7-5961-47e9-ec87-e0444b5ceacb",
        "colab": {
          "base_uri": "https://localhost:8080/"
        }
      },
      "execution_count": 9,
      "outputs": [
        {
          "output_type": "stream",
          "name": "stdout",
          "text": [
            "Accuracy: 0.9733333333333334\n"
          ]
        }
      ]
    },
    {
      "cell_type": "code",
      "source": [
        "X = np.array([\n",
        "    [10, 10],\n",
        "    [8, 10],\n",
        "    [-5, 5.5],\n",
        "    [-5.4, 5.5],\n",
        "    [-20, -20],\n",
        "    [-15, -20]\n",
        "])\n",
        "y = np.array([0, 0, 1, 1, 2, 2])\n",
        "clf = OneVsRestClassifier(SVC()).fit(X, y)\n",
        "clf.predict([[-19, -20], [9, 9], [-5, 5]])"
      ],
      "metadata": {
        "id": "MnB1hDskkzWM",
        "outputId": "1a86064d-43ef-4288-ba8c-899cb6e1c6ac",
        "colab": {
          "base_uri": "https://localhost:8080/"
        }
      },
      "execution_count": 10,
      "outputs": [
        {
          "output_type": "execute_result",
          "data": {
            "text/plain": [
              "array([2, 0, 1])"
            ]
          },
          "metadata": {},
          "execution_count": 10
        }
      ]
    },
    {
      "cell_type": "code",
      "source": [
        "\n",
        "X, y = load_iris(return_X_y=True)\n",
        "X_train, X_test, y_train, y_test = train_test_split(\n",
        "    X, y, test_size=0.33, shuffle=True, random_state=0)\n",
        "\n",
        "clf = OneVsOneClassifier(\n",
        "    LinearSVC(random_state=0)).fit(X_train, y_train)\n",
        "\n",
        "clf.predict(X_test[:10])"
      ],
      "metadata": {
        "id": "VqY8zJShlZdU",
        "outputId": "19287f9d-bc46-42c3-ca9b-51839446a505",
        "colab": {
          "base_uri": "https://localhost:8080/"
        }
      },
      "execution_count": 13,
      "outputs": [
        {
          "output_type": "execute_result",
          "data": {
            "text/plain": [
              "array([2, 1, 0, 2, 0, 2, 0, 1, 1, 1])"
            ]
          },
          "metadata": {},
          "execution_count": 13
        }
      ]
    }
  ],
  "metadata": {
    "language_info": {
      "name": "python"
    },
    "colab": {
      "provenance": [],
      "include_colab_link": true
    },
    "kernelspec": {
      "name": "python3",
      "display_name": "Python 3"
    }
  },
  "nbformat": 4,
  "nbformat_minor": 0
}