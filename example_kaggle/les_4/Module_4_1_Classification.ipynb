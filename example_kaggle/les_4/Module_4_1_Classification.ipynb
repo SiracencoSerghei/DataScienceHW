{
 "cells": [
  {
   "cell_type": "markdown",
   "id": "e7f6571c-e708-43e6-ad4c-defcd04d78c8",
   "metadata": {},
   "source": [
    "# Lesson 7: Classification"
   ]
  },
  {
   "cell_type": "code",
   "execution_count": 1,
   "id": "73bd70a4-ef0a-461e-aeff-9e18eec1b7fe",
   "metadata": {},
   "outputs": [],
   "source": [
    "import os\n",
    "import math\n",
    "import numpy as np\n",
    "import pandas as pd\n",
    "import matplotlib.pyplot as plt\n",
    "import seaborn as sns\n",
    "\n",
    "# machine learning\n",
    "from sklearn.linear_model import LogisticRegression\n",
    "from sklearn.linear_model import SGDClassifier\n",
    "from sklearn.naive_bayes import GaussianNB\n",
    "from sklearn.metrics import accuracy_score, confusion_matrix, classification_report\n",
    "\n",
    "\n",
    "from sklearn.model_selection import train_test_split\n",
    "\n",
    "pd.options.mode.chained_assignment = None"
   ]
  },
  {
   "cell_type": "markdown",
   "id": "4e2a180a-ee55-4b96-942d-5a983adc6aa2",
   "metadata": {},
   "source": [
    "We will use the Kaggle Titanic data to demonstrate these major steps.\n",
    "- Data: https://www.kaggle.com/competitions/titanic/data\n",
    "- Examples used to compose this notebook: https://www.kaggle.com/code/startupsci/titanic-data-science-solutions"
   ]
  },
  {
   "cell_type": "code",
   "execution_count": 2,
   "id": "9c43fa80-c949-4129-a382-2fbe6ed9ccf7",
   "metadata": {},
   "outputs": [
    {
     "data": {
      "text/html": [
       "<div>\n",
       "<style scoped>\n",
       "    .dataframe tbody tr th:only-of-type {\n",
       "        vertical-align: middle;\n",
       "    }\n",
       "\n",
       "    .dataframe tbody tr th {\n",
       "        vertical-align: top;\n",
       "    }\n",
       "\n",
       "    .dataframe thead th {\n",
       "        text-align: right;\n",
       "    }\n",
       "</style>\n",
       "<table border=\"1\" class=\"dataframe\">\n",
       "  <thead>\n",
       "    <tr style=\"text-align: right;\">\n",
       "      <th></th>\n",
       "      <th>Survived</th>\n",
       "      <th>Pclass</th>\n",
       "      <th>Name</th>\n",
       "      <th>Sex</th>\n",
       "      <th>Age</th>\n",
       "      <th>SibSp</th>\n",
       "      <th>Parch</th>\n",
       "      <th>Ticket</th>\n",
       "      <th>Fare</th>\n",
       "      <th>Embarked</th>\n",
       "    </tr>\n",
       "    <tr>\n",
       "      <th>PassengerId</th>\n",
       "      <th></th>\n",
       "      <th></th>\n",
       "      <th></th>\n",
       "      <th></th>\n",
       "      <th></th>\n",
       "      <th></th>\n",
       "      <th></th>\n",
       "      <th></th>\n",
       "      <th></th>\n",
       "      <th></th>\n",
       "    </tr>\n",
       "  </thead>\n",
       "  <tbody>\n",
       "    <tr>\n",
       "      <th>1</th>\n",
       "      <td>0</td>\n",
       "      <td>3</td>\n",
       "      <td>Braund, Mr. Owen Harris</td>\n",
       "      <td>male</td>\n",
       "      <td>22.0</td>\n",
       "      <td>1</td>\n",
       "      <td>0</td>\n",
       "      <td>A/5 21171</td>\n",
       "      <td>7.2500</td>\n",
       "      <td>S</td>\n",
       "    </tr>\n",
       "    <tr>\n",
       "      <th>2</th>\n",
       "      <td>1</td>\n",
       "      <td>1</td>\n",
       "      <td>Cumings, Mrs. John Bradley (Florence Briggs Th...</td>\n",
       "      <td>female</td>\n",
       "      <td>38.0</td>\n",
       "      <td>1</td>\n",
       "      <td>0</td>\n",
       "      <td>PC 17599</td>\n",
       "      <td>71.2833</td>\n",
       "      <td>C</td>\n",
       "    </tr>\n",
       "    <tr>\n",
       "      <th>3</th>\n",
       "      <td>1</td>\n",
       "      <td>3</td>\n",
       "      <td>Heikkinen, Miss. Laina</td>\n",
       "      <td>female</td>\n",
       "      <td>26.0</td>\n",
       "      <td>0</td>\n",
       "      <td>0</td>\n",
       "      <td>STON/O2. 3101282</td>\n",
       "      <td>7.9250</td>\n",
       "      <td>S</td>\n",
       "    </tr>\n",
       "    <tr>\n",
       "      <th>4</th>\n",
       "      <td>1</td>\n",
       "      <td>1</td>\n",
       "      <td>Futrelle, Mrs. Jacques Heath (Lily May Peel)</td>\n",
       "      <td>female</td>\n",
       "      <td>35.0</td>\n",
       "      <td>1</td>\n",
       "      <td>0</td>\n",
       "      <td>113803</td>\n",
       "      <td>53.1000</td>\n",
       "      <td>S</td>\n",
       "    </tr>\n",
       "    <tr>\n",
       "      <th>5</th>\n",
       "      <td>0</td>\n",
       "      <td>3</td>\n",
       "      <td>Allen, Mr. William Henry</td>\n",
       "      <td>male</td>\n",
       "      <td>35.0</td>\n",
       "      <td>0</td>\n",
       "      <td>0</td>\n",
       "      <td>373450</td>\n",
       "      <td>8.0500</td>\n",
       "      <td>S</td>\n",
       "    </tr>\n",
       "    <tr>\n",
       "      <th>...</th>\n",
       "      <td>...</td>\n",
       "      <td>...</td>\n",
       "      <td>...</td>\n",
       "      <td>...</td>\n",
       "      <td>...</td>\n",
       "      <td>...</td>\n",
       "      <td>...</td>\n",
       "      <td>...</td>\n",
       "      <td>...</td>\n",
       "      <td>...</td>\n",
       "    </tr>\n",
       "    <tr>\n",
       "      <th>887</th>\n",
       "      <td>0</td>\n",
       "      <td>2</td>\n",
       "      <td>Montvila, Rev. Juozas</td>\n",
       "      <td>male</td>\n",
       "      <td>27.0</td>\n",
       "      <td>0</td>\n",
       "      <td>0</td>\n",
       "      <td>211536</td>\n",
       "      <td>13.0000</td>\n",
       "      <td>S</td>\n",
       "    </tr>\n",
       "    <tr>\n",
       "      <th>888</th>\n",
       "      <td>1</td>\n",
       "      <td>1</td>\n",
       "      <td>Graham, Miss. Margaret Edith</td>\n",
       "      <td>female</td>\n",
       "      <td>19.0</td>\n",
       "      <td>0</td>\n",
       "      <td>0</td>\n",
       "      <td>112053</td>\n",
       "      <td>30.0000</td>\n",
       "      <td>S</td>\n",
       "    </tr>\n",
       "    <tr>\n",
       "      <th>889</th>\n",
       "      <td>0</td>\n",
       "      <td>3</td>\n",
       "      <td>Johnston, Miss. Catherine Helen \"Carrie\"</td>\n",
       "      <td>female</td>\n",
       "      <td>NaN</td>\n",
       "      <td>1</td>\n",
       "      <td>2</td>\n",
       "      <td>W./C. 6607</td>\n",
       "      <td>23.4500</td>\n",
       "      <td>S</td>\n",
       "    </tr>\n",
       "    <tr>\n",
       "      <th>890</th>\n",
       "      <td>1</td>\n",
       "      <td>1</td>\n",
       "      <td>Behr, Mr. Karl Howell</td>\n",
       "      <td>male</td>\n",
       "      <td>26.0</td>\n",
       "      <td>0</td>\n",
       "      <td>0</td>\n",
       "      <td>111369</td>\n",
       "      <td>30.0000</td>\n",
       "      <td>C</td>\n",
       "    </tr>\n",
       "    <tr>\n",
       "      <th>891</th>\n",
       "      <td>0</td>\n",
       "      <td>3</td>\n",
       "      <td>Dooley, Mr. Patrick</td>\n",
       "      <td>male</td>\n",
       "      <td>32.0</td>\n",
       "      <td>0</td>\n",
       "      <td>0</td>\n",
       "      <td>370376</td>\n",
       "      <td>7.7500</td>\n",
       "      <td>Q</td>\n",
       "    </tr>\n",
       "  </tbody>\n",
       "</table>\n",
       "<p>889 rows × 10 columns</p>\n",
       "</div>"
      ],
      "text/plain": [
       "             Survived  Pclass  \\\n",
       "PassengerId                     \n",
       "1                   0       3   \n",
       "2                   1       1   \n",
       "3                   1       3   \n",
       "4                   1       1   \n",
       "5                   0       3   \n",
       "...               ...     ...   \n",
       "887                 0       2   \n",
       "888                 1       1   \n",
       "889                 0       3   \n",
       "890                 1       1   \n",
       "891                 0       3   \n",
       "\n",
       "                                                          Name     Sex   Age  \\\n",
       "PassengerId                                                                    \n",
       "1                                      Braund, Mr. Owen Harris    male  22.0   \n",
       "2            Cumings, Mrs. John Bradley (Florence Briggs Th...  female  38.0   \n",
       "3                                       Heikkinen, Miss. Laina  female  26.0   \n",
       "4                 Futrelle, Mrs. Jacques Heath (Lily May Peel)  female  35.0   \n",
       "5                                     Allen, Mr. William Henry    male  35.0   \n",
       "...                                                        ...     ...   ...   \n",
       "887                                      Montvila, Rev. Juozas    male  27.0   \n",
       "888                               Graham, Miss. Margaret Edith  female  19.0   \n",
       "889                   Johnston, Miss. Catherine Helen \"Carrie\"  female   NaN   \n",
       "890                                      Behr, Mr. Karl Howell    male  26.0   \n",
       "891                                        Dooley, Mr. Patrick    male  32.0   \n",
       "\n",
       "             SibSp  Parch            Ticket     Fare Embarked  \n",
       "PassengerId                                                    \n",
       "1                1      0         A/5 21171   7.2500        S  \n",
       "2                1      0          PC 17599  71.2833        C  \n",
       "3                0      0  STON/O2. 3101282   7.9250        S  \n",
       "4                1      0            113803  53.1000        S  \n",
       "5                0      0            373450   8.0500        S  \n",
       "...            ...    ...               ...      ...      ...  \n",
       "887              0      0            211536  13.0000        S  \n",
       "888              0      0            112053  30.0000        S  \n",
       "889              1      2        W./C. 6607  23.4500        S  \n",
       "890              0      0            111369  30.0000        C  \n",
       "891              0      0            370376   7.7500        Q  \n",
       "\n",
       "[889 rows x 10 columns]"
      ]
     },
     "execution_count": 2,
     "metadata": {},
     "output_type": "execute_result"
    }
   ],
   "source": [
    "# Import data from Kaggle Competition\n",
    "PATH = \"./data/titanic\"\n",
    "df = pd.read_csv(os.path.join(PATH, \"train.csv\"), index_col=0)\n",
    "df.drop([\"Cabin\"], axis=1, inplace=True)  # Видаляє зі DataFrame 'df' стовпець з назвою \"Cabin\"\n",
    "df.dropna(subset=[\"Embarked\"], inplace=True)  # Видаляє з DataFrame всі рядки, у яких у стовпці 'Embarked' є пропущені значення (NaN)\n",
    "\n",
    "df"
   ]
  },
  {
   "cell_type": "code",
   "execution_count": 3,
   "id": "a257c948-365a-4542-98c0-fe16dc7fbade",
   "metadata": {},
   "outputs": [],
   "source": [
    "# train-test-split\n",
    "df_train, df_test = train_test_split(df, test_size=0.15, random_state=42, shuffle=True)\n",
    "combine = [df_train, df_test]\n",
    "\n",
    "df_train.reset_index(inplace=True, drop=True)\n",
    "df_test.reset_index(inplace=True, drop=True)"
   ]
  },
  {
   "cell_type": "code",
   "execution_count": 4,
   "id": "539406a3",
   "metadata": {},
   "outputs": [
    {
     "name": "stdout",
     "output_type": "stream",
     "text": [
      "<class 'pandas.core.frame.DataFrame'>\n",
      "RangeIndex: 755 entries, 0 to 754\n",
      "Data columns (total 10 columns):\n",
      " #   Column    Non-Null Count  Dtype  \n",
      "---  ------    --------------  -----  \n",
      " 0   Survived  755 non-null    int64  \n",
      " 1   Pclass    755 non-null    int64  \n",
      " 2   Name      755 non-null    object \n",
      " 3   Sex       755 non-null    object \n",
      " 4   Age       602 non-null    float64\n",
      " 5   SibSp     755 non-null    int64  \n",
      " 6   Parch     755 non-null    int64  \n",
      " 7   Ticket    755 non-null    object \n",
      " 8   Fare      755 non-null    float64\n",
      " 9   Embarked  755 non-null    object \n",
      "dtypes: float64(2), int64(4), object(4)\n",
      "memory usage: 59.1+ KB\n",
      "<class 'pandas.core.frame.DataFrame'>\n",
      "RangeIndex: 134 entries, 0 to 133\n",
      "Data columns (total 10 columns):\n",
      " #   Column    Non-Null Count  Dtype  \n",
      "---  ------    --------------  -----  \n",
      " 0   Survived  134 non-null    int64  \n",
      " 1   Pclass    134 non-null    int64  \n",
      " 2   Name      134 non-null    object \n",
      " 3   Sex       134 non-null    object \n",
      " 4   Age       110 non-null    float64\n",
      " 5   SibSp     134 non-null    int64  \n",
      " 6   Parch     134 non-null    int64  \n",
      " 7   Ticket    134 non-null    object \n",
      " 8   Fare      134 non-null    float64\n",
      " 9   Embarked  134 non-null    object \n",
      "dtypes: float64(2), int64(4), object(4)\n",
      "memory usage: 10.6+ KB\n"
     ]
    }
   ],
   "source": [
    "for dataset in combine:\n",
    "    dataset.info()"
   ]
  },
  {
   "cell_type": "code",
   "execution_count": 5,
   "id": "3a6d2612-9bb0-40f3-9b01-bb0df6d2031b",
   "metadata": {},
   "outputs": [
    {
     "name": "stdout",
     "output_type": "stream",
     "text": [
      "********\n",
      "[[43.  30.  25. ]\n",
      " [35.  29.  21.5]]\n",
      "********\n",
      "[[36.  30.  26.5]\n",
      " [30.  22.5 21.5]]\n"
     ]
    }
   ],
   "source": [
    "# perform data preprocessing separately on each subset:\n",
    "# 1) converting male and female to 0 and 1\n",
    "# 2) imputing age based on median value for given class and sex\n",
    "# 3) converting embarked in S to 0, embarked in C to 1, and embarked in Q to 2\n",
    "\n",
    "for dataset in combine:\n",
    "\n",
    "    # convert categorical features into numbers\n",
    "    # 'Sex': 'female' -> 1, 'male' -> 0, тип змінюємо на int\n",
    "    dataset['Sex'] = dataset['Sex'].map({'female': 1, 'male': 0}).astype(int)\n",
    "    # 'Embarked': 'S' -> 0, 'C' -> 1, 'Q' -> 2, теж перетворюємо у int\n",
    "    dataset['Embarked'] = dataset['Embarked'].map({'S': 0, 'C': 1, 'Q': 2}).astype(int)\n",
    "\n",
    "    # fill the missing values for Age\n",
    "    # створюємо матрицю 2x3 для збереження медіан віку:\n",
    "    # 2 статі (0 і 1), 3 класи (1, 2, 3)\n",
    "    guess_ages = np.zeros((2,3))\n",
    "    for i in range(0, 2):  # по статі (0 - male, 1 - female)\n",
    "        for j in range(0, 3):  # по класу (1, 2, 3)\n",
    "            # беремо всі віки для пасажирів з певною статтю і класом, пропуски виключаємо\n",
    "            guess_df = dataset[(dataset['Sex'] == i) & (dataset['Pclass'] == j+1)]['Age'].dropna()\n",
    "            # рахуємо медіану віку для кожної групи (стать + клас)\n",
    "            guess_ages[i,j] = guess_df.median()\n",
    "    print('********')\n",
    "    print(guess_ages)\n",
    "    # тепер заповнюємо пропуски віку у кожній групі медіаною, яку раніше порахували\n",
    "    for i in range(0, 2):\n",
    "        for j in range(0, 3):\n",
    "            dataset.loc[(dataset.Age.isnull()) & (dataset.Sex == i) & (dataset.Pclass == j+1), 'Age'] = guess_ages[i,j]\n",
    "\n",
    "    # перетворюємо стовпець 'Age' у цілий тип\n",
    "    dataset['Age'] = dataset['Age'].astype(int)"
   ]
  },
  {
   "cell_type": "code",
   "execution_count": 6,
   "id": "6ac31fbf-4ac0-46b1-8285-2a091f29bd4a",
   "metadata": {},
   "outputs": [
    {
     "name": "stdout",
     "output_type": "stream",
     "text": [
      "<class 'pandas.core.frame.DataFrame'>\n",
      "RangeIndex: 755 entries, 0 to 754\n",
      "Data columns (total 10 columns):\n",
      " #   Column    Non-Null Count  Dtype  \n",
      "---  ------    --------------  -----  \n",
      " 0   Survived  755 non-null    int64  \n",
      " 1   Pclass    755 non-null    int64  \n",
      " 2   Name      755 non-null    object \n",
      " 3   Sex       755 non-null    int64  \n",
      " 4   Age       755 non-null    int64  \n",
      " 5   SibSp     755 non-null    int64  \n",
      " 6   Parch     755 non-null    int64  \n",
      " 7   Ticket    755 non-null    object \n",
      " 8   Fare      755 non-null    float64\n",
      " 9   Embarked  755 non-null    int64  \n",
      "dtypes: float64(1), int64(7), object(2)\n",
      "memory usage: 59.1+ KB\n",
      "<class 'pandas.core.frame.DataFrame'>\n",
      "RangeIndex: 134 entries, 0 to 133\n",
      "Data columns (total 10 columns):\n",
      " #   Column    Non-Null Count  Dtype  \n",
      "---  ------    --------------  -----  \n",
      " 0   Survived  134 non-null    int64  \n",
      " 1   Pclass    134 non-null    int64  \n",
      " 2   Name      134 non-null    object \n",
      " 3   Sex       134 non-null    int64  \n",
      " 4   Age       134 non-null    int64  \n",
      " 5   SibSp     134 non-null    int64  \n",
      " 6   Parch     134 non-null    int64  \n",
      " 7   Ticket    134 non-null    object \n",
      " 8   Fare      134 non-null    float64\n",
      " 9   Embarked  134 non-null    int64  \n",
      "dtypes: float64(1), int64(7), object(2)\n",
      "memory usage: 10.6+ KB\n"
     ]
    }
   ],
   "source": [
    "for dataset in combine:\n",
    "    dataset.info()"
   ]
  },
  {
   "cell_type": "code",
   "execution_count": 7,
   "id": "495f6f2d-b131-4ce3-bcf6-8d612102ae00",
   "metadata": {},
   "outputs": [],
   "source": [
    "# drop columns that are irrelevant for prediction\n",
    "\n",
    "for dataset in combine:\n",
    "    dataset.drop(\"Name\", axis=1, inplace=True)\n",
    "    dataset.drop(\"Ticket\", axis=1, inplace=True)"
   ]
  },
  {
   "cell_type": "code",
   "execution_count": 8,
   "id": "a6eeb902-12ed-4298-8b5f-0baf341418ae",
   "metadata": {},
   "outputs": [
    {
     "data": {
      "image/png": "[encoded data removed]",
      "text/plain": [
       "<Figure size 1000x600 with 1 Axes>"
      ]
     },
     "metadata": {},
     "output_type": "display_data"
    }
   ],
   "source": [
    "# Create a new figure and axis to avoid overlapping previous plots (optional but good practice)\n",
    "plt.figure(figsize=(10, 6))\n",
    "\n",
    "# Scatterplot: visualize Age vs Pclass, with color indicating survival (0 = did not survive, 1 = survived)\n",
    "sns.scatterplot(\n",
    "    x=\"Age\",\n",
    "    y=\"Pclass\",\n",
    "    hue=\"Survived\",\n",
    "    data=df_train[[\"Age\", \"Pclass\", \"Survived\"]],\n",
    "    palette=\"Set1\",  # Optional: clearer color palette\n",
    "    alpha=0.6,  # Optional: slight transparency for overlapping points\n",
    ")\n",
    "\n",
    "# Lineplot: draw a line to represent a visual \"boundary\" or trend\n",
    "# This line goes from Age=2.0, Pclass=3.0 to Age=61.0, Pclass=1.0\n",
    "sns.lineplot(\n",
    "    x=np.array([2.0, 61.0]),\n",
    "    y=np.array([3.0, 1.0]),\n",
    "    color=\"black\",  # Make the line stand out\n",
    "    linestyle=\"--\",  # Dashed line style\n",
    "    linewidth=2,  # Thicker line\n",
    ")\n",
    "\n",
    "# Add labels and title for clarity\n",
    "plt.title(\"Age vs Pclass Colored by Survival -> 0 = No, 1 = Yes\")\n",
    "plt.xlabel(\"Age\")\n",
    "plt.ylabel(\"Passenger Class (1 = Upper, 3 = Lower)\")\n",
    "plt.legend(title=\"Survived\")\n",
    "\n",
    "# Show the plot\n",
    "plt.tight_layout()\n",
    "plt.show()"
   ]
  },
  {
   "cell_type": "code",
   "execution_count": 9,
   "id": "4bfcfb62-2e65-44ec-a59b-08c8c1f3bd69",
   "metadata": {},
   "outputs": [
    {
     "data": {
      "text/plain": [
       "((755, 2), (755,), (134, 2), (134,))"
      ]
     },
     "execution_count": 9,
     "metadata": {},
     "output_type": "execute_result"
    }
   ],
   "source": [
    "# create features\n",
    "X_train = df_train[[\"Age\", \"Pclass\"]]\n",
    "y_train = df_train[\"Survived\"]\n",
    "X_test  = df_test[[\"Age\", \"Pclass\"]]\n",
    "y_test = df_test[\"Survived\"]\n",
    "\n",
    "X_train.shape, y_train.shape, X_test.shape, y_test.shape"
   ]
  },
  {
   "cell_type": "markdown",
   "id": "6a64928c-510c-474a-b908-0816eabddedf",
   "metadata": {},
   "source": [
    "## Logistic Regression\n",
    "https://scikit-learn.org/stable/modules/generated/sklearn.linear_model.LogisticRegression.html"
   ]
  },
  {
   "cell_type": "code",
   "execution_count": 10,
   "id": "fa5ae2ba-9e29-4306-acbb-998fa9b7f8a3",
   "metadata": {},
   "outputs": [
    {
     "data": {
      "text/plain": [
       "69.4"
      ]
     },
     "execution_count": 10,
     "metadata": {},
     "output_type": "execute_result"
    }
   ],
   "source": [
    "model = LogisticRegression()\n",
    "model.fit(X_train, y_train)\n",
    "\n",
    "y_pred = model.predict(X_test)\n",
    "acc_log = round(model.score(X_train, y_train) * 100, 2)\n",
    "acc_log\n",
    "# score - відсоток правильних відповідей класифікатора"
   ]
  },
  {
   "cell_type": "code",
   "execution_count": 11,
   "id": "19252153",
   "metadata": {},
   "outputs": [
    {
     "name": "stdout",
     "output_type": "stream",
     "text": [
      "Test Accuracy: 72.39%\n"
     ]
    }
   ],
   "source": [
    "# Обчислюємо точність на тесті\n",
    "test_accuracy = accuracy_score(y_test, y_pred)\n",
    "print(f\"Test Accuracy: {round(test_accuracy * 100, 2)}%\")"
   ]
  },
  {
   "cell_type": "code",
   "execution_count": 12,
   "id": "29c45dfa-5829-4ce9-ae58-7c007c343125",
   "metadata": {},
   "outputs": [
    {
     "data": {
      "text/plain": [
       "(array([[-0.0464081 , -1.19343869]]), array([3.60349275]))"
      ]
     },
     "execution_count": 12,
     "metadata": {},
     "output_type": "execute_result"
    }
   ],
   "source": [
    "model.coef_, model.intercept_"
   ]
  },
  {
   "cell_type": "code",
   "execution_count": 13,
   "id": "eae18abd-dcec-4d62-8e33-587f41caed96",
   "metadata": {},
   "outputs": [
    {
     "data": {
      "text/plain": [
       "3.603492745569915"
      ]
     },
     "execution_count": 13,
     "metadata": {},
     "output_type": "execute_result"
    }
   ],
   "source": [
    "model.intercept_.item()"
   ]
  },
  {
   "cell_type": "code",
   "execution_count": 14,
   "id": "58dc4190-30b7-4225-a774-56c9c98169c4",
   "metadata": {},
   "outputs": [
    {
     "data": {
      "text/plain": [
       "3.019420080615884"
      ]
     },
     "execution_count": 14,
     "metadata": {},
     "output_type": "execute_result"
    }
   ],
   "source": [
    "# f(x_1, x_2) = 0\n",
    "\n",
    "# x_1*model.coef_[0][0] + x_2*model.coef_[0][1] + model.intercept_.item() = 0\n",
    "# x_1*model.coef_[0][0] + x_2*model.coef_[0][1] = - model.intercept_.item()\n",
    "# x_1*(-0.0464081) = - (x_2*(-1.19343869)) - 3.603492745569915\n",
    "\n",
    "# when x_1 = 0:\n",
    "# x_2*1.19343869 - 3.603492745569915 = 0\n",
    "# x_2*1.19343869 = 3.603492745569915\n",
    "x_2_when_x_1_0 = 3.603492745569915/1.19343869\n",
    "x_2_when_x_1_0"
   ]
  },
  {
   "cell_type": "code",
   "execution_count": 15,
   "id": "e927362b-c4df-489a-a523-0bb9ec3a5043",
   "metadata": {},
   "outputs": [
    {
     "data": {
      "text/plain": [
       "77.64792666732563"
      ]
     },
     "execution_count": 15,
     "metadata": {},
     "output_type": "execute_result"
    }
   ],
   "source": [
    "# when x_2 = 0:\n",
    "#x_1*-0.0464081 = -3.603492745569915\n",
    "x_1_when_x_2_0 = -3.603492745569915/-0.0464081\n",
    "x_1_when_x_2_0"
   ]
  },
  {
   "cell_type": "code",
   "execution_count": 16,
   "id": "d8247013-52f7-4959-941a-f1116101c575",
   "metadata": {},
   "outputs": [
    {
     "data": {
      "text/plain": [
       "<Axes: xlabel='Age', ylabel='Pclass'>"
      ]
     },
     "execution_count": 16,
     "metadata": {},
     "output_type": "execute_result"
    },
    {
     "data": {
      "image/png": "[encoded data removed]",
      "text/plain": [
       "<Figure size 640x480 with 1 Axes>"
      ]
     },
     "metadata": {},
     "output_type": "display_data"
    }
   ],
   "source": [
    "sns.scatterplot(x='Age', y='Pclass', hue=\"Survived\", data=df_train[[\"Age\", \"Pclass\", \"Survived\"]])\n",
    "sns.lineplot(x=np.array([0.0, x_1_when_x_2_0]), y=np.array([x_2_when_x_1_0, 0.0]))\n",
    "#sns.lineplot(x=np.array([2.0, 44.0]), y=np.array([3.0, 1.0]))\n",
    "#sns.lineplot(x=np.array([2.0, 61.0]), y=np.array([3.0, 1.0]))"
   ]
  },
  {
   "cell_type": "code",
   "execution_count": 17,
   "id": "65b7cd29",
   "metadata": {},
   "outputs": [
    {
     "data": {
      "text/html": [
       "<div>\n",
       "<style scoped>\n",
       "    .dataframe tbody tr th:only-of-type {\n",
       "        vertical-align: middle;\n",
       "    }\n",
       "\n",
       "    .dataframe tbody tr th {\n",
       "        vertical-align: top;\n",
       "    }\n",
       "\n",
       "    .dataframe thead th {\n",
       "        text-align: right;\n",
       "    }\n",
       "</style>\n",
       "<table border=\"1\" class=\"dataframe\">\n",
       "  <thead>\n",
       "    <tr style=\"text-align: right;\">\n",
       "      <th></th>\n",
       "      <th>Feature</th>\n",
       "      <th>Covariation</th>\n",
       "    </tr>\n",
       "  </thead>\n",
       "  <tbody>\n",
       "    <tr>\n",
       "      <th>0</th>\n",
       "      <td>Age</td>\n",
       "      <td>-0.046408</td>\n",
       "    </tr>\n",
       "    <tr>\n",
       "      <th>1</th>\n",
       "      <td>Pclass</td>\n",
       "      <td>-1.193439</td>\n",
       "    </tr>\n",
       "  </tbody>\n",
       "</table>\n",
       "</div>"
      ],
      "text/plain": [
       "  Feature  Covariation\n",
       "0     Age    -0.046408\n",
       "1  Pclass    -1.193439"
      ]
     },
     "execution_count": 17,
     "metadata": {},
     "output_type": "execute_result"
    }
   ],
   "source": [
    "coeff_df = pd.DataFrame(X_train.columns)\n",
    "coeff_df.columns = [\"Feature\"]\n",
    "coeff_df[\"Covariation\"] = pd.Series(model.coef_[0])\n",
    "\n",
    "coeff_df.sort_values(by=\"Covariation\", ascending=False)"
   ]
  },
  {
   "cell_type": "code",
   "execution_count": 18,
   "id": "dd52a180",
   "metadata": {},
   "outputs": [
    {
     "name": "stdout",
     "output_type": "stream",
     "text": [
      "Survived    1.000000\n",
      "Sex         0.533187\n",
      "Fare        0.244274\n",
      "Embarked    0.094931\n",
      "Parch       0.072032\n",
      "SibSp      -0.044677\n",
      "Age        -0.063430\n",
      "Pclass     -0.326510\n",
      "Name: Survived, dtype: float64\n"
     ]
    }
   ],
   "source": [
    "# Кореляція всіх числових ознак з Survived\n",
    "correlation = df_train.corr(numeric_only=True)[\"Survived\"].sort_values(ascending=False)\n",
    "print(correlation)"
   ]
  },
  {
   "cell_type": "code",
   "execution_count": 19,
   "id": "0c7eac79-d9f9-43df-81fa-02eff6056dcd",
   "metadata": {},
   "outputs": [
    {
     "data": {
      "text/plain": [
       "((755, 7), (755,), (134, 7), (134,))"
      ]
     },
     "execution_count": 19,
     "metadata": {},
     "output_type": "execute_result"
    }
   ],
   "source": [
    "# add more features\n",
    "X_train_df = df_train.drop(\"Survived\", axis=1)\n",
    "X_train = X_train_df.to_numpy()\n",
    "y_train = df_train[\"Survived\"]\n",
    "X_test_df = df_test.drop(\"Survived\", axis=1)\n",
    "X_test  = df_test.drop(\"Survived\", axis=1).to_numpy()\n",
    "y_test = df_test[\"Survived\"]\n",
    "\n",
    "X_train.shape, y_train.shape, X_test.shape, y_test.shape"
   ]
  },
  {
   "cell_type": "code",
   "execution_count": 20,
   "id": "49687228-de7d-47ff-ae51-70965336b52c",
   "metadata": {},
   "outputs": [
    {
     "data": {
      "text/plain": [
       "80.4"
      ]
     },
     "execution_count": 20,
     "metadata": {},
     "output_type": "execute_result"
    }
   ],
   "source": [
    "model = LogisticRegression(max_iter=1000)\n",
    "model.fit(X_train, y_train)\n",
    "\n",
    "y_pred = model.predict(X_test)\n",
    "acc_log = round(model.score(X_train, y_train) * 100, 2)\n",
    "acc_log\n",
    "# score - відсоток правильних відповідей класифікатора"
   ]
  },
  {
   "cell_type": "code",
   "execution_count": 21,
   "id": "c953110d-61ed-4ea1-b285-b2a2bf5e1400",
   "metadata": {},
   "outputs": [],
   "source": [
    "# x_1*model.coef_[0][0] + x_2*model.coef_[0][1] + x_3*model.coef_[0][2] + ... + model.intercept_.item() = 0"
   ]
  },
  {
   "cell_type": "code",
   "execution_count": 22,
   "id": "f439ead9-8551-4042-ab5a-dbefec37aea9",
   "metadata": {},
   "outputs": [
    {
     "data": {
      "text/html": [
       "<div>\n",
       "<style scoped>\n",
       "    .dataframe tbody tr th:only-of-type {\n",
       "        vertical-align: middle;\n",
       "    }\n",
       "\n",
       "    .dataframe tbody tr th {\n",
       "        vertical-align: top;\n",
       "    }\n",
       "\n",
       "    .dataframe thead th {\n",
       "        text-align: right;\n",
       "    }\n",
       "</style>\n",
       "<table border=\"1\" class=\"dataframe\">\n",
       "  <thead>\n",
       "    <tr style=\"text-align: right;\">\n",
       "      <th></th>\n",
       "      <th>Feature</th>\n",
       "      <th>Covariation</th>\n",
       "    </tr>\n",
       "  </thead>\n",
       "  <tbody>\n",
       "    <tr>\n",
       "      <th>1</th>\n",
       "      <td>Sex</td>\n",
       "      <td>2.539042</td>\n",
       "    </tr>\n",
       "    <tr>\n",
       "      <th>6</th>\n",
       "      <td>Embarked</td>\n",
       "      <td>0.196484</td>\n",
       "    </tr>\n",
       "    <tr>\n",
       "      <th>5</th>\n",
       "      <td>Fare</td>\n",
       "      <td>0.001283</td>\n",
       "    </tr>\n",
       "    <tr>\n",
       "      <th>4</th>\n",
       "      <td>Parch</td>\n",
       "      <td>-0.043163</td>\n",
       "    </tr>\n",
       "    <tr>\n",
       "      <th>2</th>\n",
       "      <td>Age</td>\n",
       "      <td>-0.047143</td>\n",
       "    </tr>\n",
       "    <tr>\n",
       "      <th>3</th>\n",
       "      <td>SibSp</td>\n",
       "      <td>-0.365092</td>\n",
       "    </tr>\n",
       "    <tr>\n",
       "      <th>0</th>\n",
       "      <td>Pclass</td>\n",
       "      <td>-1.247458</td>\n",
       "    </tr>\n",
       "  </tbody>\n",
       "</table>\n",
       "</div>"
      ],
      "text/plain": [
       "    Feature  Covariation\n",
       "1       Sex     2.539042\n",
       "6  Embarked     0.196484\n",
       "5      Fare     0.001283\n",
       "4     Parch    -0.043163\n",
       "2       Age    -0.047143\n",
       "3     SibSp    -0.365092\n",
       "0    Pclass    -1.247458"
      ]
     },
     "execution_count": 22,
     "metadata": {},
     "output_type": "execute_result"
    }
   ],
   "source": [
    "coeff_df = pd.DataFrame(X_train_df.columns)\n",
    "coeff_df.columns = ['Feature']\n",
    "coeff_df[\"Covariation\"] = pd.Series(model.coef_[0])\n",
    "\n",
    "coeff_df.sort_values(by='Covariation', ascending=False)"
   ]
  },
  {
   "cell_type": "code",
   "execution_count": 23,
   "id": "a943171c-b568-4180-a3ee-609006fa16cb",
   "metadata": {},
   "outputs": [
    {
     "name": "stdout",
     "output_type": "stream",
     "text": [
      "Pclass 3.0\n",
      "Sex 0.0\n",
      "Age 28.0\n",
      "SibSp 0.0\n",
      "Parch 0.0\n",
      "Fare 7.8542\n",
      "Embarked 0.0\n"
     ]
    }
   ],
   "source": [
    "# take one test example\n",
    "for feature_name, feature in zip(X_test_df.columns, X_test[0]):\n",
    "    print(feature_name, feature)"
   ]
  },
  {
   "cell_type": "code",
   "execution_count": 24,
   "id": "e71878ab-8953-4767-8c0c-ab29e32e7faa",
   "metadata": {},
   "outputs": [
    {
     "data": {
      "text/plain": [
       "array([0, 1, 1, 0, 1, 0, 0, 0, 1, 1, 0, 1, 0, 0, 0, 0, 0, 0, 0, 0, 0, 1,\n",
       "       0, 1, 0, 0, 0, 1, 0, 0, 1, 1, 0, 1, 0, 0, 1, 1, 0, 0, 0, 1, 0, 0,\n",
       "       1, 0, 1, 0, 0, 1, 1, 1, 0, 0, 1, 1, 0, 0, 0, 0, 0, 0, 1, 0, 1, 0,\n",
       "       0, 0, 1, 1, 0, 1, 1, 0, 0, 1, 0, 0, 1, 1, 0, 1, 1, 1, 0, 0, 0, 0,\n",
       "       0, 0, 0, 1, 0, 0, 0, 1, 0, 0, 0, 0, 0, 1, 1, 0, 0, 0, 1, 1, 0, 0,\n",
       "       0, 1, 0, 1, 0, 0, 0, 0, 1, 0, 0, 1, 0, 0, 1, 1, 1, 1, 1, 0, 1, 0,\n",
       "       0, 0])"
      ]
     },
     "execution_count": 24,
     "metadata": {},
     "output_type": "execute_result"
    }
   ],
   "source": [
    "model.predict(X_test)"
   ]
  },
  {
   "cell_type": "code",
   "execution_count": 25,
   "id": "f59c305f-de90-4330-b0a4-64fc96d5ee71",
   "metadata": {},
   "outputs": [
    {
     "name": "stdout",
     "output_type": "stream",
     "text": [
      "Pclass 1.0\n",
      "Sex 1.0\n",
      "Age 14.0\n",
      "SibSp 1.0\n",
      "Parch 2.0\n",
      "Fare 120.0\n",
      "Embarked 0.0\n"
     ]
    }
   ],
   "source": [
    "# take another test example\n",
    "for feature_name, feature in zip(X_train_df.columns, X_test[1]):\n",
    "    print(feature_name, feature)"
   ]
  },
  {
   "cell_type": "code",
   "execution_count": 26,
   "id": "b82fee60-090e-4436-9849-4d89de26601f",
   "metadata": {
    "scrolled": true
   },
   "outputs": [
    {
     "data": {
      "text/plain": [
       "array([[0.89928566, 0.10071434],\n",
       "       [0.03927269, 0.96072731],\n",
       "       [0.30038276, 0.69961724],\n",
       "       [0.73682617, 0.26317383],\n",
       "       [0.03482768, 0.96517232],\n",
       "       [0.8950408 , 0.1049592 ],\n",
       "       [0.68865114, 0.31134886],\n",
       "       [0.86509542, 0.13490458],\n",
       "       [0.09564956, 0.90435044],\n",
       "       [0.04422009, 0.95577991],\n",
       "       [0.58730777, 0.41269223],\n",
       "       [0.45425994, 0.54574006],\n",
       "       [0.96354832, 0.03645168],\n",
       "       [0.90509495, 0.09490505],\n",
       "       [0.90329333, 0.09670667],\n",
       "       [0.89756747, 0.10243253],\n",
       "       [0.68431015, 0.31568985],\n",
       "       [0.86981726, 0.13018274],\n",
       "       [0.77862032, 0.22137968],\n",
       "       [0.89041357, 0.10958643],\n",
       "       [0.72035506, 0.27964494],\n",
       "       [0.05909465, 0.94090535],\n",
       "       [0.9474384 , 0.0525616 ],\n",
       "       [0.46246141, 0.53753859],\n",
       "       [0.89039426, 0.10960574],\n",
       "       [0.50953278, 0.49046722],\n",
       "       [0.75325965, 0.24674035],\n",
       "       [0.09289527, 0.90710473],\n",
       "       [0.5068014 , 0.4931986 ],\n",
       "       [0.69934328, 0.30065672],\n",
       "       [0.41554628, 0.58445372],\n",
       "       [0.2549152 , 0.7450848 ],\n",
       "       [0.89039426, 0.10960574],\n",
       "       [0.4585064 , 0.5414936 ],\n",
       "       [0.96328097, 0.03671903],\n",
       "       [0.60484872, 0.39515128],\n",
       "       [0.29488006, 0.70511994],\n",
       "       [0.30586377, 0.69413623],\n",
       "       [0.86960155, 0.13039845],\n",
       "       [0.89039426, 0.10960574],\n",
       "       [0.85410236, 0.14589764],\n",
       "       [0.46850204, 0.53149796],\n",
       "       [0.66808449, 0.33191551],\n",
       "       [0.89041357, 0.10958643],\n",
       "       [0.48831778, 0.51168222],\n",
       "       [0.50848099, 0.49151901],\n",
       "       [0.21307185, 0.78692815],\n",
       "       [0.88098294, 0.11901706],\n",
       "       [0.77173085, 0.22826915],\n",
       "       [0.09377392, 0.90622608],\n",
       "       [0.07415982, 0.92584018],\n",
       "       [0.23739415, 0.76260585],\n",
       "       [0.87062855, 0.12937145],\n",
       "       [0.88472443, 0.11527557],\n",
       "       [0.09312012, 0.90687988],\n",
       "       [0.11458238, 0.88541762],\n",
       "       [0.57197536, 0.42802464],\n",
       "       [0.93748521, 0.06251479],\n",
       "       [0.83504933, 0.16495067],\n",
       "       [0.73744787, 0.26255213],\n",
       "       [0.66335826, 0.33664174],\n",
       "       [0.51252844, 0.48747156],\n",
       "       [0.22201744, 0.77798256],\n",
       "       [0.83499924, 0.16500076],\n",
       "       [0.16141648, 0.83858352],\n",
       "       [0.61391946, 0.38608054],\n",
       "       [0.96180892, 0.03819108],\n",
       "       [0.893489  , 0.106511  ],\n",
       "       [0.09877205, 0.90122795],\n",
       "       [0.03527863, 0.96472137],\n",
       "       [0.70849945, 0.29150055],\n",
       "       [0.02180921, 0.97819079],\n",
       "       [0.3101589 , 0.6898411 ],\n",
       "       [0.89483717, 0.10516283],\n",
       "       [0.59393511, 0.40606489],\n",
       "       [0.21686065, 0.78313935],\n",
       "       [0.85378891, 0.14621109],\n",
       "       [0.92554938, 0.07445062],\n",
       "       [0.17717006, 0.82282994],\n",
       "       [0.42876748, 0.57123252],\n",
       "       [0.61107663, 0.38892337],\n",
       "       [0.04849668, 0.95150332],\n",
       "       [0.12037352, 0.87962648],\n",
       "       [0.2549152 , 0.7450848 ],\n",
       "       [0.82820157, 0.17179843],\n",
       "       [0.84582075, 0.15417925],\n",
       "       [0.94530364, 0.05469636],\n",
       "       [0.66808449, 0.33191551],\n",
       "       [0.88581195, 0.11418805],\n",
       "       [0.89039426, 0.10960574],\n",
       "       [0.91138397, 0.08861603],\n",
       "       [0.34634715, 0.65365285],\n",
       "       [0.87070743, 0.12929257],\n",
       "       [0.91872367, 0.08127633],\n",
       "       [0.88417752, 0.11582248],\n",
       "       [0.29951703, 0.70048297],\n",
       "       [0.89041357, 0.10958643],\n",
       "       [0.7804794 , 0.2195206 ],\n",
       "       [0.81182614, 0.18817386],\n",
       "       [0.84582075, 0.15417925],\n",
       "       [0.88583791, 0.11416209],\n",
       "       [0.02471075, 0.97528925],\n",
       "       [0.47762048, 0.52237952],\n",
       "       [0.91507468, 0.08492532],\n",
       "       [0.92698897, 0.07301103],\n",
       "       [0.9476588 , 0.0523412 ],\n",
       "       [0.40204203, 0.59795797],\n",
       "       [0.03205608, 0.96794392],\n",
       "       [0.84693694, 0.15306306],\n",
       "       [0.86512974, 0.13487026],\n",
       "       [0.85931475, 0.14068525],\n",
       "       [0.31737228, 0.68262772],\n",
       "       [0.95632272, 0.04367728],\n",
       "       [0.09919445, 0.90080555],\n",
       "       [0.88768236, 0.11231764],\n",
       "       [0.89341748, 0.10658252],\n",
       "       [0.89657108, 0.10342892],\n",
       "       [0.74004866, 0.25995134],\n",
       "       [0.43502612, 0.56497388],\n",
       "       [0.91219656, 0.08780344],\n",
       "       [0.53699201, 0.46300799],\n",
       "       [0.05415253, 0.94584747],\n",
       "       [0.95820073, 0.04179927],\n",
       "       [0.88958378, 0.11041622],\n",
       "       [0.03889797, 0.96110203],\n",
       "       [0.06380289, 0.93619711],\n",
       "       [0.46246141, 0.53753859],\n",
       "       [0.11684634, 0.88315366],\n",
       "       [0.2549152 , 0.7450848 ],\n",
       "       [0.76476585, 0.23523415],\n",
       "       [0.17459002, 0.82540998],\n",
       "       [0.59212081, 0.40787919],\n",
       "       [0.85524694, 0.14475306],\n",
       "       [0.86981787, 0.13018213]])"
      ]
     },
     "execution_count": 26,
     "metadata": {},
     "output_type": "execute_result"
    }
   ],
   "source": [
    "# probabilities\n",
    "model.predict_proba(X_test)"
   ]
  },
  {
   "cell_type": "code",
   "execution_count": 27,
   "id": "5cd102d5-fa3a-4239-a55c-bf0acde4626d",
   "metadata": {},
   "outputs": [
    {
     "data": {
      "text/plain": [
       "2.718281828459045"
      ]
     },
     "execution_count": 27,
     "metadata": {},
     "output_type": "execute_result"
    }
   ],
   "source": [
    "# prob - see formula\n",
    "# prob = 1 / (1 + math.e**-z)\n",
    "import math\n",
    "\n",
    "math.e"
   ]
  },
  {
   "cell_type": "code",
   "execution_count": 28,
   "id": "f96338ff-2d84-4bd1-9d2e-3d848907d9f4",
   "metadata": {},
   "outputs": [
    {
     "data": {
      "text/plain": [
       "0.2689414213699951"
      ]
     },
     "execution_count": 28,
     "metadata": {},
     "output_type": "execute_result"
    }
   ],
   "source": [
    "z = 1\n",
    "1 / (1 + math.e**z)"
   ]
  },
  {
   "cell_type": "code",
   "execution_count": 29,
   "id": "b3520cd6-1588-4095-b02f-818b83857fd5",
   "metadata": {},
   "outputs": [
    {
     "data": {
      "text/plain": [
       "0.11920292202211757"
      ]
     },
     "execution_count": 29,
     "metadata": {},
     "output_type": "execute_result"
    }
   ],
   "source": [
    "z = 2\n",
    "1 / (1 + math.e**z)"
   ]
  },
  {
   "cell_type": "code",
   "execution_count": 30,
   "id": "904ed9b5-7529-4f6e-a089-ef4bc969e2de",
   "metadata": {},
   "outputs": [
    {
     "data": {
      "text/plain": [
       "0.04742587317756679"
      ]
     },
     "execution_count": 30,
     "metadata": {},
     "output_type": "execute_result"
    }
   ],
   "source": [
    "z = 3\n",
    "1 / (1 + math.e**z)"
   ]
  },
  {
   "cell_type": "code",
   "execution_count": 31,
   "id": "f1cc24cb-02f4-4a0c-8777-12889972b2b2",
   "metadata": {},
   "outputs": [
    {
     "data": {
      "text/plain": [
       "0.7310585786300049"
      ]
     },
     "execution_count": 31,
     "metadata": {},
     "output_type": "execute_result"
    }
   ],
   "source": [
    "z = -1\n",
    "1 / (1 + math.e**z)"
   ]
  },
  {
   "cell_type": "code",
   "execution_count": 32,
   "id": "937782cc-2192-4c9e-b9e8-f6636c2fbc4c",
   "metadata": {},
   "outputs": [
    {
     "data": {
      "text/plain": [
       "0.8807970779778823"
      ]
     },
     "execution_count": 32,
     "metadata": {},
     "output_type": "execute_result"
    }
   ],
   "source": [
    "z = -2\n",
    "1 / (1 + math.e**z)"
   ]
  },
  {
   "cell_type": "code",
   "execution_count": 33,
   "id": "ec54a276-aa57-48bc-8afa-a70161a82467",
   "metadata": {},
   "outputs": [
    {
     "data": {
      "text/plain": [
       "0.9525741268224331"
      ]
     },
     "execution_count": 33,
     "metadata": {},
     "output_type": "execute_result"
    }
   ],
   "source": [
    "z = -3\n",
    "1 / (1 + math.e**z)"
   ]
  },
  {
   "cell_type": "code",
   "execution_count": 34,
   "id": "a676a866-e841-4724-9fe0-a7fd44acbf46",
   "metadata": {},
   "outputs": [
    {
     "data": {
      "text/plain": [
       "0.36787944117144233"
      ]
     },
     "execution_count": 34,
     "metadata": {},
     "output_type": "execute_result"
    }
   ],
   "source": [
    "math.e**-1  # inverse\n",
    "1 / math.e"
   ]
  },
  {
   "cell_type": "code",
   "execution_count": 35,
   "id": "f2f99954-c2da-4797-8fe1-e4ce2d7758f8",
   "metadata": {},
   "outputs": [
    {
     "data": {
      "text/plain": [
       "0.1353352832366127"
      ]
     },
     "execution_count": 35,
     "metadata": {},
     "output_type": "execute_result"
    }
   ],
   "source": [
    "math.e**-2  # inverse\n",
    "# 1 / math.e / math.e  \n",
    "1 / (math.e * math.e)"
   ]
  },
  {
   "cell_type": "code",
   "execution_count": 36,
   "id": "b1992bd2-d7d6-4a10-af71-6d53ba8526e7",
   "metadata": {},
   "outputs": [
    {
     "data": {
      "text/plain": [
       "22026.465794806703"
      ]
     },
     "execution_count": 36,
     "metadata": {},
     "output_type": "execute_result"
    }
   ],
   "source": [
    "z = -10\n",
    "math.e**-z"
   ]
  },
  {
   "cell_type": "code",
   "execution_count": 37,
   "id": "d460f8c0-e8cf-47f6-89ba-67f6b61f630f",
   "metadata": {},
   "outputs": [
    {
     "data": {
      "text/plain": [
       "[<matplotlib.lines.Line2D at 0x7981a02fad90>]"
      ]
     },
     "execution_count": 37,
     "metadata": {},
     "output_type": "execute_result"
    },
    {
     "data": {
      "image/png": "[encoded data removed]",
      "text/plain": [
       "<Figure size 640x480 with 1 Axes>"
      ]
     },
     "metadata": {},
     "output_type": "display_data"
    }
   ],
   "source": [
    "x = np.linspace(-10, 10, 100000)\n",
    "y = math.e**-x\n",
    " \n",
    "fig = plt.figure()\n",
    "# Create the plot\n",
    "plt.plot(x, y)"
   ]
  },
  {
   "cell_type": "code",
   "execution_count": 38,
   "id": "673e0824-8524-48fa-a76d-09387259f9ca",
   "metadata": {},
   "outputs": [
    {
     "data": {
      "text/plain": [
       "[<matplotlib.lines.Line2D at 0x7981a0372b90>]"
      ]
     },
     "execution_count": 38,
     "metadata": {},
     "output_type": "execute_result"
    },
    {
     "data": {
      "image/png": "[encoded data removed]",
      "text/plain": [
       "<Figure size 640x480 with 1 Axes>"
      ]
     },
     "metadata": {},
     "output_type": "display_data"
    }
   ],
   "source": [
    "x = np.linspace(-10, 10, 100000)\n",
    "y = 1 / (1 + math.e**-x)\n",
    " \n",
    "fig = plt.figure()\n",
    "# Create the plot\n",
    "plt.plot(x, y)"
   ]
  },
  {
   "cell_type": "code",
   "execution_count": 39,
   "id": "32bd9fa1-054f-4686-9be5-c2ad094bb710",
   "metadata": {},
   "outputs": [
    {
     "data": {
      "text/plain": [
       "0.006692850924284857"
      ]
     },
     "execution_count": 39,
     "metadata": {},
     "output_type": "execute_result"
    }
   ],
   "source": [
    "#y = 1 / (math.e**-1 + 1)\n",
    "y = 1 / (math.e**5.0 + 1)\n",
    "\n",
    "y"
   ]
  },
  {
   "cell_type": "code",
   "execution_count": 40,
   "id": "2fbeaf1b-590c-421f-b5de-d1dc089db566",
   "metadata": {},
   "outputs": [
    {
     "data": {
      "text/plain": [
       "array([[0.89928566, 0.10071434],\n",
       "       [0.03927269, 0.96072731],\n",
       "       [0.30038276, 0.69961724],\n",
       "       [0.73682617, 0.26317383],\n",
       "       [0.03482768, 0.96517232],\n",
       "       [0.8950408 , 0.1049592 ],\n",
       "       [0.68865114, 0.31134886],\n",
       "       [0.86509542, 0.13490458],\n",
       "       [0.09564956, 0.90435044],\n",
       "       [0.04422009, 0.95577991],\n",
       "       [0.58730777, 0.41269223],\n",
       "       [0.45425994, 0.54574006],\n",
       "       [0.96354832, 0.03645168],\n",
       "       [0.90509495, 0.09490505],\n",
       "       [0.90329333, 0.09670667],\n",
       "       [0.89756747, 0.10243253],\n",
       "       [0.68431015, 0.31568985],\n",
       "       [0.86981726, 0.13018274],\n",
       "       [0.77862032, 0.22137968],\n",
       "       [0.89041357, 0.10958643],\n",
       "       [0.72035506, 0.27964494],\n",
       "       [0.05909465, 0.94090535],\n",
       "       [0.9474384 , 0.0525616 ],\n",
       "       [0.46246141, 0.53753859],\n",
       "       [0.89039426, 0.10960574],\n",
       "       [0.50953278, 0.49046722],\n",
       "       [0.75325965, 0.24674035],\n",
       "       [0.09289527, 0.90710473],\n",
       "       [0.5068014 , 0.4931986 ],\n",
       "       [0.69934328, 0.30065672],\n",
       "       [0.41554628, 0.58445372],\n",
       "       [0.2549152 , 0.7450848 ],\n",
       "       [0.89039426, 0.10960574],\n",
       "       [0.4585064 , 0.5414936 ],\n",
       "       [0.96328097, 0.03671903],\n",
       "       [0.60484872, 0.39515128],\n",
       "       [0.29488006, 0.70511994],\n",
       "       [0.30586377, 0.69413623],\n",
       "       [0.86960155, 0.13039845],\n",
       "       [0.89039426, 0.10960574],\n",
       "       [0.85410236, 0.14589764],\n",
       "       [0.46850204, 0.53149796],\n",
       "       [0.66808449, 0.33191551],\n",
       "       [0.89041357, 0.10958643],\n",
       "       [0.48831778, 0.51168222],\n",
       "       [0.50848099, 0.49151901],\n",
       "       [0.21307185, 0.78692815],\n",
       "       [0.88098294, 0.11901706],\n",
       "       [0.77173085, 0.22826915],\n",
       "       [0.09377392, 0.90622608],\n",
       "       [0.07415982, 0.92584018],\n",
       "       [0.23739415, 0.76260585],\n",
       "       [0.87062855, 0.12937145],\n",
       "       [0.88472443, 0.11527557],\n",
       "       [0.09312012, 0.90687988],\n",
       "       [0.11458238, 0.88541762],\n",
       "       [0.57197536, 0.42802464],\n",
       "       [0.93748521, 0.06251479],\n",
       "       [0.83504933, 0.16495067],\n",
       "       [0.73744787, 0.26255213],\n",
       "       [0.66335826, 0.33664174],\n",
       "       [0.51252844, 0.48747156],\n",
       "       [0.22201744, 0.77798256],\n",
       "       [0.83499924, 0.16500076],\n",
       "       [0.16141648, 0.83858352],\n",
       "       [0.61391946, 0.38608054],\n",
       "       [0.96180892, 0.03819108],\n",
       "       [0.893489  , 0.106511  ],\n",
       "       [0.09877205, 0.90122795],\n",
       "       [0.03527863, 0.96472137],\n",
       "       [0.70849945, 0.29150055],\n",
       "       [0.02180921, 0.97819079],\n",
       "       [0.3101589 , 0.6898411 ],\n",
       "       [0.89483717, 0.10516283],\n",
       "       [0.59393511, 0.40606489],\n",
       "       [0.21686065, 0.78313935],\n",
       "       [0.85378891, 0.14621109],\n",
       "       [0.92554938, 0.07445062],\n",
       "       [0.17717006, 0.82282994],\n",
       "       [0.42876748, 0.57123252],\n",
       "       [0.61107663, 0.38892337],\n",
       "       [0.04849668, 0.95150332],\n",
       "       [0.12037352, 0.87962648],\n",
       "       [0.2549152 , 0.7450848 ],\n",
       "       [0.82820157, 0.17179843],\n",
       "       [0.84582075, 0.15417925],\n",
       "       [0.94530364, 0.05469636],\n",
       "       [0.66808449, 0.33191551],\n",
       "       [0.88581195, 0.11418805],\n",
       "       [0.89039426, 0.10960574],\n",
       "       [0.91138397, 0.08861603],\n",
       "       [0.34634715, 0.65365285],\n",
       "       [0.87070743, 0.12929257],\n",
       "       [0.91872367, 0.08127633],\n",
       "       [0.88417752, 0.11582248],\n",
       "       [0.29951703, 0.70048297],\n",
       "       [0.89041357, 0.10958643],\n",
       "       [0.7804794 , 0.2195206 ],\n",
       "       [0.81182614, 0.18817386],\n",
       "       [0.84582075, 0.15417925],\n",
       "       [0.88583791, 0.11416209],\n",
       "       [0.02471075, 0.97528925],\n",
       "       [0.47762048, 0.52237952],\n",
       "       [0.91507468, 0.08492532],\n",
       "       [0.92698897, 0.07301103],\n",
       "       [0.9476588 , 0.0523412 ],\n",
       "       [0.40204203, 0.59795797],\n",
       "       [0.03205608, 0.96794392],\n",
       "       [0.84693694, 0.15306306],\n",
       "       [0.86512974, 0.13487026],\n",
       "       [0.85931475, 0.14068525],\n",
       "       [0.31737228, 0.68262772],\n",
       "       [0.95632272, 0.04367728],\n",
       "       [0.09919445, 0.90080555],\n",
       "       [0.88768236, 0.11231764],\n",
       "       [0.89341748, 0.10658252],\n",
       "       [0.89657108, 0.10342892],\n",
       "       [0.74004866, 0.25995134],\n",
       "       [0.43502612, 0.56497388],\n",
       "       [0.91219656, 0.08780344],\n",
       "       [0.53699201, 0.46300799],\n",
       "       [0.05415253, 0.94584747],\n",
       "       [0.95820073, 0.04179927],\n",
       "       [0.88958378, 0.11041622],\n",
       "       [0.03889797, 0.96110203],\n",
       "       [0.06380289, 0.93619711],\n",
       "       [0.46246141, 0.53753859],\n",
       "       [0.11684634, 0.88315366],\n",
       "       [0.2549152 , 0.7450848 ],\n",
       "       [0.76476585, 0.23523415],\n",
       "       [0.17459002, 0.82540998],\n",
       "       [0.59212081, 0.40787919],\n",
       "       [0.85524694, 0.14475306],\n",
       "       [0.86981787, 0.13018213]])"
      ]
     },
     "execution_count": 40,
     "metadata": {},
     "output_type": "execute_result"
    }
   ],
   "source": [
    "# Loss function\n",
    "\n",
    "probs = model.predict_proba(X_test)\n",
    "probs"
   ]
  },
  {
   "cell_type": "code",
   "execution_count": 41,
   "id": "50ca0d5d-b2c6-4c00-8dce-f7343e8b3755",
   "metadata": {},
   "outputs": [
    {
     "data": {
      "text/plain": [
       "0.10068613000000004"
      ]
     },
     "execution_count": 41,
     "metadata": {},
     "output_type": "execute_result"
    }
   ],
   "source": [
    "1 - 0.89931387"
   ]
  },
  {
   "cell_type": "code",
   "execution_count": 42,
   "id": "f049bafe-22d6-479d-8d03-b8d57520bbcf",
   "metadata": {},
   "outputs": [
    {
     "data": {
      "text/plain": [
       "array([0.10071434, 0.96072731, 0.69961724, 0.26317383, 0.96517232,\n",
       "       0.1049592 , 0.31134886, 0.13490458, 0.90435044, 0.95577991,\n",
       "       0.41269223, 0.54574006, 0.03645168, 0.09490505, 0.09670667,\n",
       "       0.10243253, 0.31568985, 0.13018274, 0.22137968, 0.10958643,\n",
       "       0.27964494, 0.94090535, 0.0525616 , 0.53753859, 0.10960574,\n",
       "       0.49046722, 0.24674035, 0.90710473, 0.4931986 , 0.30065672,\n",
       "       0.58445372, 0.7450848 , 0.10960574, 0.5414936 , 0.03671903,\n",
       "       0.39515128, 0.70511994, 0.69413623, 0.13039845, 0.10960574,\n",
       "       0.14589764, 0.53149796, 0.33191551, 0.10958643, 0.51168222,\n",
       "       0.49151901, 0.78692815, 0.11901706, 0.22826915, 0.90622608,\n",
       "       0.92584018, 0.76260585, 0.12937145, 0.11527557, 0.90687988,\n",
       "       0.88541762, 0.42802464, 0.06251479, 0.16495067, 0.26255213,\n",
       "       0.33664174, 0.48747156, 0.77798256, 0.16500076, 0.83858352,\n",
       "       0.38608054, 0.03819108, 0.106511  , 0.90122795, 0.96472137,\n",
       "       0.29150055, 0.97819079, 0.6898411 , 0.10516283, 0.40606489,\n",
       "       0.78313935, 0.14621109, 0.07445062, 0.82282994, 0.57123252,\n",
       "       0.38892337, 0.95150332, 0.87962648, 0.7450848 , 0.17179843,\n",
       "       0.15417925, 0.05469636, 0.33191551, 0.11418805, 0.10960574,\n",
       "       0.08861603, 0.65365285, 0.12929257, 0.08127633, 0.11582248,\n",
       "       0.70048297, 0.10958643, 0.2195206 , 0.18817386, 0.15417925,\n",
       "       0.11416209, 0.97528925, 0.52237952, 0.08492532, 0.07301103,\n",
       "       0.0523412 , 0.59795797, 0.96794392, 0.15306306, 0.13487026,\n",
       "       0.14068525, 0.68262772, 0.04367728, 0.90080555, 0.11231764,\n",
       "       0.10658252, 0.10342892, 0.25995134, 0.56497388, 0.08780344,\n",
       "       0.46300799, 0.94584747, 0.04179927, 0.11041622, 0.96110203,\n",
       "       0.93619711, 0.53753859, 0.88315366, 0.7450848 , 0.23523415,\n",
       "       0.82540998, 0.40787919, 0.14475306, 0.13018213])"
      ]
     },
     "execution_count": 42,
     "metadata": {},
     "output_type": "execute_result"
    }
   ],
   "source": [
    "probs_1 = probs[:, 1]\n",
    "probs_1"
   ]
  },
  {
   "cell_type": "code",
   "execution_count": null,
   "id": "93d2502a-f78a-4f6a-8d07-d4b0968576f4",
   "metadata": {},
   "outputs": [],
   "source": [
    "# Binary cross entropy: https://www.analyticsvidhya.com/blog/2021/03/binary-cross-entropy-log-loss-for-binary-classification/"
   ]
  },
  {
   "cell_type": "code",
   "execution_count": 43,
   "id": "86a7c551-94ad-473c-9176-51127f33cb28",
   "metadata": {},
   "outputs": [
    {
     "data": {
      "text/plain": [
       "array([0.96072731, 0.69961724, 0.96517232, 0.90435044, 0.95577991,\n",
       "       0.54574006, 0.94090535, 0.53753859, 0.90710473, 0.58445372,\n",
       "       0.7450848 , 0.5414936 , 0.70511994, 0.69413623, 0.53149796,\n",
       "       0.51168222, 0.78692815, 0.90622608, 0.92584018, 0.76260585,\n",
       "       0.90687988, 0.88541762, 0.77798256, 0.83858352, 0.90122795,\n",
       "       0.96472137, 0.97819079, 0.6898411 , 0.78313935, 0.82282994,\n",
       "       0.57123252, 0.95150332, 0.87962648, 0.7450848 , 0.65365285,\n",
       "       0.70048297, 0.97528925, 0.52237952, 0.59795797, 0.96794392,\n",
       "       0.68262772, 0.90080555, 0.56497388, 0.94584747, 0.96110203,\n",
       "       0.93619711, 0.53753859, 0.88315366, 0.7450848 , 0.82540998])"
      ]
     },
     "execution_count": 43,
     "metadata": {},
     "output_type": "execute_result"
    }
   ],
   "source": [
    "condition = probs_1 > 0.5\n",
    "# probability of survival for surviving group\n",
    "probs_1[condition]"
   ]
  },
  {
   "cell_type": "code",
   "execution_count": 44,
   "id": "debb909c-6e09-4cac-b874-32d450974e1d",
   "metadata": {},
   "outputs": [
    {
     "data": {
      "text/plain": [
       "array([0.10071434, 0.26317383, 0.1049592 , 0.31134886, 0.13490458,\n",
       "       0.41269223, 0.03645168, 0.09490505, 0.09670667, 0.10243253,\n",
       "       0.31568985, 0.13018274, 0.22137968, 0.10958643, 0.27964494,\n",
       "       0.0525616 , 0.10960574, 0.49046722, 0.24674035, 0.4931986 ,\n",
       "       0.30065672, 0.10960574, 0.03671903, 0.39515128, 0.13039845,\n",
       "       0.10960574, 0.14589764, 0.33191551, 0.10958643, 0.49151901,\n",
       "       0.11901706, 0.22826915, 0.12937145, 0.11527557, 0.42802464,\n",
       "       0.06251479, 0.16495067, 0.26255213, 0.33664174, 0.48747156,\n",
       "       0.16500076, 0.38608054, 0.03819108, 0.106511  , 0.29150055,\n",
       "       0.10516283, 0.40606489, 0.14621109, 0.07445062, 0.38892337,\n",
       "       0.17179843, 0.15417925, 0.05469636, 0.33191551, 0.11418805,\n",
       "       0.10960574, 0.08861603, 0.12929257, 0.08127633, 0.11582248,\n",
       "       0.10958643, 0.2195206 , 0.18817386, 0.15417925, 0.11416209,\n",
       "       0.08492532, 0.07301103, 0.0523412 , 0.15306306, 0.13487026,\n",
       "       0.14068525, 0.04367728, 0.11231764, 0.10658252, 0.10342892,\n",
       "       0.25995134, 0.08780344, 0.46300799, 0.04179927, 0.11041622,\n",
       "       0.23523415, 0.40787919, 0.14475306, 0.13018213])"
      ]
     },
     "execution_count": 44,
     "metadata": {},
     "output_type": "execute_result"
    }
   ],
   "source": [
    "# probability of survival for non-surviving group\n",
    "probs_1[~condition]"
   ]
  },
  {
   "cell_type": "code",
   "execution_count": 45,
   "id": "fe4d8419-3a82-4f85-b955-cfd515677a61",
   "metadata": {},
   "outputs": [
    {
     "data": {
      "text/plain": [
       "array([0.89928566, 0.73682617, 0.8950408 , 0.68865114, 0.86509542,\n",
       "       0.58730777, 0.96354832, 0.90509495, 0.90329333, 0.89756747,\n",
       "       0.68431015, 0.86981726, 0.77862032, 0.89041357, 0.72035506,\n",
       "       0.9474384 , 0.89039426, 0.50953278, 0.75325965, 0.5068014 ,\n",
       "       0.69934328, 0.89039426, 0.96328097, 0.60484872, 0.86960155,\n",
       "       0.89039426, 0.85410236, 0.66808449, 0.89041357, 0.50848099,\n",
       "       0.88098294, 0.77173085, 0.87062855, 0.88472443, 0.57197536,\n",
       "       0.93748521, 0.83504933, 0.73744787, 0.66335826, 0.51252844,\n",
       "       0.83499924, 0.61391946, 0.96180892, 0.893489  , 0.70849945,\n",
       "       0.89483717, 0.59393511, 0.85378891, 0.92554938, 0.61107663,\n",
       "       0.82820157, 0.84582075, 0.94530364, 0.66808449, 0.88581195,\n",
       "       0.89039426, 0.91138397, 0.87070743, 0.91872367, 0.88417752,\n",
       "       0.89041357, 0.7804794 , 0.81182614, 0.84582075, 0.88583791,\n",
       "       0.91507468, 0.92698897, 0.9476588 , 0.84693694, 0.86512974,\n",
       "       0.85931475, 0.95632272, 0.88768236, 0.89341748, 0.89657108,\n",
       "       0.74004866, 0.91219656, 0.53699201, 0.95820073, 0.88958378,\n",
       "       0.76476585, 0.59212081, 0.85524694, 0.86981787])"
      ]
     },
     "execution_count": 45,
     "metadata": {},
     "output_type": "execute_result"
    }
   ],
   "source": [
    "# probability of non-survival for non-surviving group\n",
    "1 - probs_1[~condition]"
   ]
  },
  {
   "cell_type": "markdown",
   "id": "a562f3ce",
   "metadata": {},
   "source": [
    "https://www.mathsisfun.com/algebra/logarithms.html"
   ]
  },
  {
   "cell_type": "markdown",
   "id": "fc11a6b2",
   "metadata": {},
   "source": [
    "# 📘 Logistic Regression: Log-Likelihood & Binary Cross-Entropy\n",
    "\n",
    "## 🔢 1. General Likelihood\n",
    "\n",
    "Let:\n",
    "\n",
    "- $\\hat{y}^{(i)}$ — predicted probability that the example belongs to class 1  \n",
    "- $\\hat{y}{(i)} \\in \\{0, 1\\}$ — actual class label (0 or 1)\n",
    "\n",
    "Then the total likelihood of the model making correct predictions on the dataset is:\n",
    "\n",
    "$$\n",
    "P(X) = \\prod_{i=1}^{m} \\left( \\hat{y}^{(i)} \\right)^{y^{(i)}} \\cdot \\left( 1 - \\hat{y}^{(i)} \\right)^{1 - y^{(i)}}\n",
    "$$\n",
    "\n",
    "---\n",
    "\n",
    "## 🧮 2. Log-Likelihood\n",
    "\n",
    "To avoid numerical underflow (due to multiplying many small probabilities), take the natural logarithm:\n",
    "\n",
    "$$\n",
    "\\ln(P(X)) = \\sum_{i=1}^{m^+} \\ln\\left( \\hat{y}^{(i)} \\right) + \\sum_{i=1}^{m^-} \\ln\\left( 1 - \\hat{y}^{(i)} \\right)\n",
    "$$\n",
    "\n",
    "$$\n",
    "\\log P(X) = \\sum_{i=1}^{m} \\left[ y^{(i)} \\cdot \\log(\\hat{y}^{(i)}) + (1 - y^{(i)}) \\cdot \\log(1 - \\hat{y}^{(i)}) \\right]\n",
    "$$\n",
    "\n",
    "This is called the **log-likelihood**.\n",
    "\n",
    "---\n",
    "\n",
    "## ❌ 3. Loss Function — Negative Log-Likelihood\n",
    "\n",
    "In practice, we minimize the negative log-likelihood, which becomes the **binary cross-entropy loss**:\n",
    "\n",
    "$$\n",
    "\\mathcal{L} = - \\sum_{i=1}^{m} \\left[ y^{(i)} \\cdot \\log(\\hat{y}^{(i)}) + (1 - y^{(i)}) \\cdot \\log(1 - \\hat{y}^{(i)}) \\right]\n",
    "$$\n"
   ]
  },
  {
   "cell_type": "code",
   "execution_count": 49,
   "id": "4d6f2526-20a7-4b16-af40-ceb011cdbd70",
   "metadata": {},
   "outputs": [
    {
     "data": {
      "text/plain": [
       "np.float64(1.520169188986794e-14)"
      ]
     },
     "execution_count": 49,
     "metadata": {},
     "output_type": "execute_result"
    }
   ],
   "source": [
    "# probability of survival for surviving group * probability of non-survival for non-surviving group\n",
    "(np.prod(probs_1[condition]))*(np.prod(1 - probs_1[~condition]))"
   ]
  },
  {
   "cell_type": "code",
   "execution_count": 71,
   "id": "4b6759f1-1a30-4f7d-a112-102a84b6e112",
   "metadata": {},
   "outputs": [
    {
     "data": {
      "text/plain": [
       "np.float64(-5.388910529486374)"
      ]
     },
     "execution_count": 71,
     "metadata": {},
     "output_type": "execute_result"
    }
   ],
   "source": [
    "-(np.sum(np.log(probs_1[condition])))+(np.sum(np.log(1 - probs_1[~condition])))"
   ]
  },
  {
   "cell_type": "code",
   "execution_count": 51,
   "id": "8ee2229c-dff9-4497-9cd3-5ea50327f3d1",
   "metadata": {},
   "outputs": [
    {
     "data": {
      "text/plain": [
       "array([0, 1, 1, 0, 1, 1, 0, 0, 1, 1, 0, 1, 0, 0, 0, 0, 0, 0, 0, 0, 0, 1,\n",
       "       0, 0, 0, 0, 0, 1, 0, 0, 1, 1, 0, 0, 0, 0, 1, 1, 0, 0, 0, 0, 0, 0,\n",
       "       1, 1, 0, 0, 0, 1, 1, 1, 0, 0, 1, 1, 0, 0, 0, 0, 1, 0, 1, 0, 1, 0,\n",
       "       0, 0, 1, 1, 0, 0, 0, 1, 1, 1, 0, 0, 0, 0, 0, 1, 1, 1, 0, 0, 0, 0,\n",
       "       0, 0, 1, 0, 0, 0, 0, 0, 0, 0, 1, 0, 0, 1, 0, 0, 1, 0, 1, 1, 1, 0,\n",
       "       0, 1, 0, 1, 0, 0, 0, 0, 1, 0, 1, 1, 0, 0, 1, 1, 0, 1, 0, 0, 1, 0,\n",
       "       0, 0])"
      ]
     },
     "execution_count": 51,
     "metadata": {},
     "output_type": "execute_result"
    }
   ],
   "source": [
    "y_test_array = y_test.to_numpy()\n",
    "y_test_array"
   ]
  },
  {
   "cell_type": "code",
   "execution_count": 73,
   "id": "a1a9c3ae",
   "metadata": {},
   "outputs": [
    {
     "data": {
      "text/plain": [
       "np.float64(0.0)"
      ]
     },
     "execution_count": 73,
     "metadata": {},
     "output_type": "execute_result"
    }
   ],
   "source": [
    "probs[0][1]*0"
   ]
  },
  {
   "cell_type": "code",
   "execution_count": 52,
   "id": "79debfdb-5291-4f10-ad37-ab6902784fc3",
   "metadata": {},
   "outputs": [
    {
     "data": {
      "text/plain": [
       "np.float64(0.9607273107802655)"
      ]
     },
     "execution_count": 52,
     "metadata": {},
     "output_type": "execute_result"
    }
   ],
   "source": [
    "probs[1][1]*1"
   ]
  },
  {
   "cell_type": "code",
   "execution_count": 75,
   "id": "a81b1c1a",
   "metadata": {},
   "outputs": [
    {
     "data": {
      "text/plain": [
       "array([False,  True,  True, False,  True, False, False, False,  True,\n",
       "        True, False,  True, False, False, False, False, False, False,\n",
       "       False, False, False,  True, False,  True, False, False, False,\n",
       "        True, False, False,  True,  True, False,  True, False, False,\n",
       "        True,  True, False, False, False,  True, False, False,  True,\n",
       "       False,  True, False, False,  True,  True,  True, False, False,\n",
       "        True,  True, False, False, False, False, False, False,  True,\n",
       "       False,  True, False, False, False,  True,  True, False,  True,\n",
       "        True, False, False,  True, False, False,  True,  True, False,\n",
       "        True,  True,  True, False, False, False, False, False, False,\n",
       "       False,  True, False, False, False,  True, False, False, False,\n",
       "       False, False,  True,  True, False, False, False,  True,  True,\n",
       "       False, False, False,  True, False,  True, False, False, False,\n",
       "       False,  True, False, False,  True, False, False,  True,  True,\n",
       "        True,  True,  True, False,  True, False, False, False])"
      ]
     },
     "execution_count": 75,
     "metadata": {},
     "output_type": "execute_result"
    }
   ],
   "source": [
    "condition"
   ]
  },
  {
   "cell_type": "code",
   "execution_count": 74,
   "id": "ff37d1d5",
   "metadata": {},
   "outputs": [
    {
     "data": {
      "text/plain": [
       "np.False_"
      ]
     },
     "execution_count": 74,
     "metadata": {},
     "output_type": "execute_result"
    }
   ],
   "source": [
    "condition[0]"
   ]
  },
  {
   "cell_type": "code",
   "execution_count": 53,
   "id": "320acbdc-4115-4ded-8f73-a715d24980ab",
   "metadata": {},
   "outputs": [
    {
     "data": {
      "text/plain": [
       "np.True_"
      ]
     },
     "execution_count": 53,
     "metadata": {},
     "output_type": "execute_result"
    }
   ],
   "source": [
    "condition[1]"
   ]
  },
  {
   "cell_type": "code",
   "execution_count": 76,
   "id": "4979348c-b323-4295-a0dc-d788612a3c30",
   "metadata": {},
   "outputs": [
    {
     "data": {
      "text/plain": [
       "np.float64(0.10071434322592744)"
      ]
     },
     "execution_count": 76,
     "metadata": {},
     "output_type": "execute_result"
    }
   ],
   "source": [
    "(1-0)*probs[0][1]"
   ]
  },
  {
   "cell_type": "markdown",
   "id": "b6255126",
   "metadata": {},
   "source": [
    "### Binary Cross-Entropy Loss (Negative Log-Likelihood)\n",
    "$$\n",
    "- \\sum_{i=1}^m \\left[ y^{(i)} \\log \\left( \\hat{p}^{(i)} \\right) + (1 - y^{(i)}) \\log \\left( 1 - \\hat{p}^{(i)} \\right) \\right]\n",
    "$$"
   ]
  },
  {
   "cell_type": "code",
   "execution_count": 55,
   "id": "e6290338-6bca-4ebb-a95f-22941dbd2fd5",
   "metadata": {},
   "outputs": [
    {
     "data": {
      "text/plain": [
       "np.float64(56.3592437202921)"
      ]
     },
     "execution_count": 55,
     "metadata": {},
     "output_type": "execute_result"
    }
   ],
   "source": [
    "# rewrite the formula\n",
    "-np.sum(y_test_array*np.log(probs)[:, 1] + (1 - y_test_array)*(np.log(1 - (probs)[:, 1])))"
   ]
  },
  {
   "cell_type": "markdown",
   "id": "01c8ee28",
   "metadata": {},
   "source": [
    "### Average Binary Cross-Entropy Loss Using Both Classes\n",
    "\n",
    "$$\n",
    "\\mathcal{L} = - \\frac{1}{m} \\sum_{i=1}^m \\left[ y^{(i)} \\log \\left( \\hat{p}_1^{(i)} \\right) + (1 - y^{(i)}) \\log \\left( \\hat{p}_0^{(i)} \\right) \\right]\n",
    "$$"
   ]
  },
  {
   "cell_type": "code",
   "execution_count": 72,
   "id": "a96ce430-1c2c-478a-8890-dfe288abe322",
   "metadata": {},
   "outputs": [
    {
     "data": {
      "text/plain": [
       "np.float64(0.420591371046956)"
      ]
     },
     "execution_count": 72,
     "metadata": {},
     "output_type": "execute_result"
    }
   ],
   "source": [
    "# probability of survival for surviving group + probability of non-survival for non-surviving group\n",
    "-np.sum(y_test_array*np.log(probs)[:, 1] + (1 - y_test_array)*np.log(probs)[:, 0]) / len(probs)"
   ]
  },
  {
   "cell_type": "code",
   "execution_count": 57,
   "id": "68cde9b7-7b56-437e-9fb4-f1218fbb35af",
   "metadata": {},
   "outputs": [
    {
     "data": {
      "text/plain": [
       "0.420591371046956"
      ]
     },
     "execution_count": 57,
     "metadata": {},
     "output_type": "execute_result"
    }
   ],
   "source": [
    "from sklearn.metrics import log_loss\n",
    "log_loss(y_test, probs)#, normalize=False)"
   ]
  },
  {
   "cell_type": "code",
   "execution_count": 58,
   "id": "4900aae9-a3b1-4672-9d65-1da06d9bc5bf",
   "metadata": {},
   "outputs": [],
   "source": [
    "# probability of non-survival for non-surviving group\n",
    "#y_test_array*np.log(probs)[:, 1]"
   ]
  },
  {
   "cell_type": "code",
   "execution_count": 59,
   "id": "62809cf8-e54c-45ae-a198-c00a4768007e",
   "metadata": {},
   "outputs": [
    {
     "data": {
      "text/plain": [
       "array([3.29546705, 0.        , 0.        , 2.33494053, 0.        ,\n",
       "       0.        , 2.16684126, 3.00318754, 0.        , 0.        ,\n",
       "       1.88505318, 0.        , 4.31176765, 3.35487836, 3.33607295,\n",
       "       3.27855095, 2.15299505, 3.03881614, 2.50787605, 3.21104176,\n",
       "       2.27423455, 0.        , 3.94576945, 1.62075473, 3.21086555,\n",
       "       1.71239684, 2.39941871, 0.        , 1.70684335, 2.20178614,\n",
       "       0.        , 0.        , 3.21086555, 1.61342403, 4.30446018,\n",
       "       1.92848659, 0.        , 0.        , 3.0371605 , 3.21086555,\n",
       "       2.92484998, 1.63205591, 2.10287483, 3.21104176, 0.        ,\n",
       "       0.        , 1.23961833, 3.12848846, 2.47722987, 0.        ,\n",
       "       0.        , 0.        , 3.04506755, 3.16042973, 0.        ,\n",
       "       0.        , 1.84857452, 3.77235218, 2.80210882, 2.33730564,\n",
       "       0.        , 1.71852333, 0.        , 2.80180521, 0.        ,\n",
       "       1.95170927, 4.26515318, 3.239507  , 0.        , 0.        ,\n",
       "       2.23271338, 1.02205055, 1.371294  , 0.        , 0.        ,\n",
       "       0.        , 2.92270387, 3.59761922, 1.19500573, 1.55995893,\n",
       "       1.94437296, 0.        , 0.        , 0.        , 2.76143344,\n",
       "       2.86963939, 3.90595813, 2.10287483, 3.16990865, 3.21086555,\n",
       "       0.        , 1.42517887, 3.04567744, 3.50990051, 3.15569658,\n",
       "       1.35598522, 3.21104176, 2.51630918, 0.        , 2.86963939,\n",
       "       3.17013603, 0.        , 1.64936091, 3.46598294, 0.        ,\n",
       "       3.9499714 , 0.        , 0.        , 0.        , 3.00344202,\n",
       "       2.96123014, 0.        , 4.13092725, 0.        , 3.18642438,\n",
       "       3.23883571, 3.26887063, 2.34726083, 0.        , 3.43265463,\n",
       "       0.        , 0.        , 4.17487639, 3.20349827, 0.        ,\n",
       "       0.        , 1.62075473, 0.        , 1.29425724, 2.44717386,\n",
       "       0.        , 1.89678424, 2.93272604, 3.03882083])"
      ]
     },
     "execution_count": 59,
     "metadata": {},
     "output_type": "execute_result"
    }
   ],
   "source": [
    "# probability of non-survival for non-surviving group\n",
    "(1-y_test.to_numpy())*(1-np.log(probs)[:, 1])"
   ]
  },
  {
   "cell_type": "code",
   "execution_count": 60,
   "id": "f87ee343-afbd-447a-a649-7a42a39d1211",
   "metadata": {},
   "outputs": [
    {
     "data": {
      "text/plain": [
       "3.0"
      ]
     },
     "execution_count": 60,
     "metadata": {},
     "output_type": "execute_result"
    }
   ],
   "source": [
    "# Logarithms: https://www.mathsisfun.com/algebra/logarithms.html\n",
    "math.log(8, 2)"
   ]
  },
  {
   "cell_type": "code",
   "execution_count": 61,
   "id": "c9381851-0668-48e3-aaca-48e324758769",
   "metadata": {},
   "outputs": [
    {
     "data": {
      "text/plain": [
       "7.999667673464062"
      ]
     },
     "execution_count": 61,
     "metadata": {},
     "output_type": "execute_result"
    }
   ],
   "source": [
    "math.e ** 2.0794"
   ]
  },
  {
   "cell_type": "code",
   "execution_count": 62,
   "id": "73ad5479-c8d3-4a1b-ba23-93578f31a987",
   "metadata": {},
   "outputs": [
    {
     "data": {
      "text/plain": [
       "True"
      ]
     },
     "execution_count": 62,
     "metadata": {},
     "output_type": "execute_result"
    }
   ],
   "source": [
    "math.log(8, math.e) == math.log(8)"
   ]
  },
  {
   "cell_type": "markdown",
   "id": "38bf2ddf-8b33-43b7-b659-b5c07f869e42",
   "metadata": {},
   "source": [
    "## Other classification models"
   ]
  },
  {
   "cell_type": "code",
   "execution_count": 63,
   "id": "9e1a72ec-e9b1-4979-a195-8383796dc994",
   "metadata": {},
   "outputs": [
    {
     "data": {
      "text/plain": [
       "73.64"
      ]
     },
     "execution_count": 63,
     "metadata": {},
     "output_type": "execute_result"
    }
   ],
   "source": [
    "# Stochastic Gradient Descent\n",
    "\n",
    "sgd = SGDClassifier(loss=\"log_loss\")  # logistic regression\n",
    "sgd.fit(X_train, y_train)\n",
    "Y_pred = sgd.predict(X_test)\n",
    "acc_sgd = round(sgd.score(X_train, y_train) * 100, 2)\n",
    "acc_sgd\n",
    "# score - відсоток правильних відповідей класифікатора"
   ]
  },
  {
   "cell_type": "markdown",
   "id": "c05014aa-35e3-4461-b0e3-f5ab2c2338f9",
   "metadata": {},
   "source": [
    "Gradient Descent\n",
    "![gradient_descent](https://miro.medium.com/v2/resize:fit:1400/format:webp/1*N5WjbzwsCFse-KPjBWZZ6g.jpeg)\n",
    "![gradient_descent_complex](https://miro.medium.com/v2/resize:fit:900/format:webp/1*jeMxJLZz-o5xniDMKqcTAg.jpeg)"
   ]
  },
  {
   "cell_type": "code",
   "execution_count": 64,
   "id": "fe439c8a-719a-4408-b588-dfad6172f14e",
   "metadata": {},
   "outputs": [
    {
     "data": {
      "text/plain": [
       "10.571482313722598"
      ]
     },
     "execution_count": 64,
     "metadata": {},
     "output_type": "execute_result"
    }
   ],
   "source": [
    "probs_sgd = sgd.predict_proba(X_test)\n",
    "log_loss(y_test, probs_sgd)"
   ]
  },
  {
   "cell_type": "code",
   "execution_count": 65,
   "id": "ebda8977-9c79-4fa3-9f7c-76bc2a1732e3",
   "metadata": {},
   "outputs": [
    {
     "data": {
      "text/plain": [
       "79.87"
      ]
     },
     "execution_count": 65,
     "metadata": {},
     "output_type": "execute_result"
    }
   ],
   "source": [
    "# RidgeClassifier\n",
    "from sklearn.linear_model import RidgeClassifier\n",
    "ridge = RidgeClassifier()\n",
    "ridge.fit(X_train, y_train)\n",
    "Y_pred = ridge.predict(X_test)\n",
    "acc_ridge = round(ridge.score(X_train, y_train) * 100, 2)\n",
    "acc_ridge"
   ]
  },
  {
   "cell_type": "markdown",
   "id": "ded57d65-711f-48a2-8833-2ecf9f639d24",
   "metadata": {},
   "source": [
    "## Multi-class classification"
   ]
  },
  {
   "cell_type": "code",
   "execution_count": 66,
   "id": "c3cfc03b-5ac4-4753-8963-0729e1520351",
   "metadata": {},
   "outputs": [
    {
     "data": {
      "text/plain": [
       "array([3, 3, 3, 3, 3, 3, 3, 3, 1, 1, 3, 3, 1, 3, 3, 3, 1, 3, 3, 3, 3, 1,\n",
       "       3, 3, 3, 3, 3, 3, 3, 3, 1, 3, 3, 3, 3, 3, 3, 1, 3, 3, 3, 3, 3, 3,\n",
       "       1, 1, 3, 3, 3, 1, 3, 3, 3, 3, 3, 3, 3, 3, 3, 3, 3, 3, 1, 3, 3, 3,\n",
       "       1, 3, 1, 3, 3, 3, 3, 3, 1, 1, 3, 3, 3, 3, 3, 1, 3, 3, 3, 3, 3, 3,\n",
       "       3, 3, 1, 3, 3, 3, 3, 3, 3, 3, 3, 3, 3, 3, 3, 3, 1, 3, 3, 3, 3, 3,\n",
       "       3, 3, 3, 1, 3, 3, 1, 3, 1, 3, 3, 1, 1, 3, 3, 1, 3, 1, 3, 1, 1, 3,\n",
       "       3, 3])"
      ]
     },
     "execution_count": 66,
     "metadata": {},
     "output_type": "execute_result"
    }
   ],
   "source": [
    "# Стратегія \"один проти всіх\"\n",
    "from sklearn.multiclass import OneVsRestClassifier\n",
    "# create features\n",
    "X_train = df_train[[\"Age\", \"Survived\"]]\n",
    "y_train = df_train[\"Pclass\"]\n",
    "X_test  = df_test[[\"Age\", \"Survived\"]]\n",
    "y_test = df_test[\"Pclass\"]\n",
    "\n",
    "clf = OneVsRestClassifier(LogisticRegression(random_state=0)).fit(X_train, y_train)\n",
    "preds_3 = clf.predict(X_test)\n",
    "preds_3"
   ]
  },
  {
   "cell_type": "code",
   "execution_count": 67,
   "id": "a1927105-0548-43fe-b0e6-ba1ded5c1ec5",
   "metadata": {},
   "outputs": [
    {
     "data": {
      "text/plain": [
       "array([3, 1, 3, 2, 1, 3, 2, 3, 1, 1, 2, 3, 3, 3, 3, 3, 1, 3, 2, 3, 3, 1,\n",
       "       3, 1, 3, 1, 2, 2, 1, 2, 1, 3, 3, 1, 3, 1, 3, 1, 3, 3, 2, 3, 2, 3,\n",
       "       1, 1, 2, 3, 2, 1, 2, 3, 3, 2, 2, 2, 3, 3, 3, 2, 3, 3, 1, 3, 2, 2,\n",
       "       3, 3, 1, 1, 2, 1, 3, 3, 3, 2, 3, 3, 3, 1, 3, 1, 2, 3, 2, 3, 3, 2,\n",
       "       3, 3, 3, 3, 3, 3, 3, 3, 3, 2, 3, 3, 3, 1, 3, 3, 2, 3, 3, 1, 3, 3,\n",
       "       3, 1, 3, 1, 3, 3, 2, 2, 3, 3, 2, 1, 3, 3, 1, 1, 1, 1, 3, 1, 2, 2,\n",
       "       2, 3])"
      ]
     },
     "execution_count": 67,
     "metadata": {},
     "output_type": "execute_result"
    }
   ],
   "source": [
    "y_test.to_numpy()"
   ]
  },
  {
   "cell_type": "code",
   "execution_count": 68,
   "id": "91b004c7-f76c-4687-8481-77fae097802a",
   "metadata": {},
   "outputs": [
    {
     "data": {
      "text/plain": [
       "('Train', 0.6556291390728477, 'Test', 0.6119402985074627)"
      ]
     },
     "execution_count": 68,
     "metadata": {},
     "output_type": "execute_result"
    }
   ],
   "source": [
    "\"Train\", clf.score(X_train, y_train), \"Test\", clf.score(X_test, y_test)"
   ]
  },
  {
   "cell_type": "code",
   "execution_count": 69,
   "id": "dc2f3d05-db7c-4aee-a85b-d812bfabcf58",
   "metadata": {},
   "outputs": [
    {
     "data": {
      "text/plain": [
       "array([3, 3, 3, 3, 3, 3, 3, 3, 1, 1, 3, 3, 1, 3, 3, 3, 1, 3, 3, 3, 3, 1,\n",
       "       3, 3, 3, 3, 3, 3, 3, 3, 1, 3, 3, 3, 3, 3, 3, 1, 3, 3, 3, 3, 3, 3,\n",
       "       1, 1, 3, 3, 3, 1, 3, 3, 3, 3, 3, 3, 3, 3, 3, 3, 3, 3, 1, 3, 3, 3,\n",
       "       1, 3, 1, 3, 3, 3, 3, 3, 1, 1, 3, 3, 3, 3, 3, 1, 3, 3, 3, 3, 3, 3,\n",
       "       3, 3, 1, 3, 3, 3, 3, 3, 3, 3, 3, 3, 3, 3, 3, 3, 1, 3, 3, 3, 3, 3,\n",
       "       3, 3, 3, 1, 3, 3, 1, 3, 1, 3, 3, 1, 1, 3, 3, 1, 3, 1, 3, 1, 1, 3,\n",
       "       3, 3])"
      ]
     },
     "execution_count": 69,
     "metadata": {},
     "output_type": "execute_result"
    }
   ],
   "source": [
    "# Стратегія \"один проти одного\"\n",
    "\n",
    "from sklearn.multiclass import OneVsOneClassifier\n",
    "from sklearn.svm import LinearSVC\n",
    "\n",
    "clf = OneVsOneClassifier(\n",
    "    LogisticRegression(random_state=0)).fit(X_train, y_train)\n",
    "\n",
    "preds_3 = clf.predict(X_test)\n",
    "preds_3"
   ]
  },
  {
   "cell_type": "code",
   "execution_count": 70,
   "id": "d6c8a48d-f7ec-49ea-8075-2664e9a7255f",
   "metadata": {},
   "outputs": [
    {
     "data": {
      "text/plain": [
       "('Train', 0.6569536423841059, 'Test', 0.6119402985074627)"
      ]
     },
     "execution_count": 70,
     "metadata": {},
     "output_type": "execute_result"
    }
   ],
   "source": [
    "\"Train\", clf.score(X_train, y_train), \"Test\", clf.score(X_test, y_test)"
   ]
  },
  {
   "cell_type": "code",
   "execution_count": null,
   "id": "4f6c8324-7b52-4dca-9d3f-63cef1e41db3",
   "metadata": {},
   "outputs": [],
   "source": []
  }
 ],
 "metadata": {
  "kernelspec": {
   "display_name": "conda_env_example",
   "language": "python",
   "name": "python3"
  },
  "language_info": {
   "codemirror_mode": {
    "name": "ipython",
    "version": 3
   },
   "file_extension": ".py",
   "mimetype": "text/x-python",
   "name": "python",
   "nbconvert_exporter": "python",
   "pygments_lexer": "ipython3",
   "version": "3.11.11"
  }
 },
 "nbformat": 4,
 "nbformat_minor": 5
}
