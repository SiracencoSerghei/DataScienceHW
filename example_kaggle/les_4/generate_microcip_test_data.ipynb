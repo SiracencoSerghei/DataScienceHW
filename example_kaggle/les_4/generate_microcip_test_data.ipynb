{
 "cells": [
  {
   "cell_type": "code",
   "execution_count": null,
   "metadata": {},
   "outputs": [],
   "source": [
    "import pandas as pd\n",
    "import numpy as np\n",
    "import matplotlib.pyplot as plt\n",
    "\n",
    "from google.colab import files\n",
    "%matplotlib inline\n",
    "\n",
    "# Встановимо фіксований seed для відтворюваності результатів\n",
    "np.random.seed(42)\n",
    "\n",
    "# Кількість зразків\n",
    "num_samples = 1000\n",
    "\n",
    "# Генерація даних для позитивного класу (успішний мікрочип)\n",
    "positive_radius = np.random.uniform(0, 5, size=num_samples // 2)  # Радіус від 0 до 5\n",
    "positive_angle = np.random.uniform(0, 2 * np.pi, size=num_samples // 2)  # Кути від 0 до 2π\n",
    "positive_test1 = positive_radius * np.cos(positive_angle)  # Test 1 (ось X)\n",
    "positive_test2 = positive_radius * np.sin(positive_angle)  # Test 2 (ось Y)\n",
    "positive_labels = np.ones(num_samples // 2)  # Позитивний клас\n",
    "\n",
    "# Генерація даних для негативного класу (невдалий мікрочип)\n",
    "negative_radius = np.random.uniform(6, 10, size=num_samples // 2)  # Радіус від 6 до 10\n",
    "negative_angle = np.random.uniform(0, 2 * np.pi, size=num_samples // 2)  # Кути від 0 до 2π\n",
    "negative_test1 = negative_radius * np.cos(negative_angle)  # Test 1 (ось X)\n",
    "negative_test2 = negative_radius * np.sin(negative_angle)  # Test 2 (ось Y)\n",
    "negative_labels = np.zeros(num_samples // 2)  # Негативний клас\n",
    "\n",
    "# Об'єднання даних\n",
    "test1 = np.concatenate((positive_test1, negative_test1))\n",
    "test2 = np.concatenate((positive_test2, negative_test2))\n",
    "labels = np.concatenate((positive_labels, negative_labels))\n",
    "\n",
    "# Створення DataFrame\n",
    "data = {\n",
    "    \"Test1\": test1,\n",
    "    \"Test2\": test2,\n",
    "    \"Outcome\": labels  # Результат тесту (1 — успішний, 0 — неуспішний)\n",
    "}\n",
    "df = pd.DataFrame(data)\n"
   ]
  },
  {
   "cell_type": "code",
   "execution_count": null,
   "metadata": {},
   "outputs": [],
   "source": [
    "# Запис у CSV файл\n",
    "output_file = \"chip_test_results.csv\"\n",
    "df.to_csv(output_file, index=False)  # index=False, щоб не зберігати індекси\n",
    "\n",
    "print(f\"Датасет збережено у файл '{output_file}'\")\n",
    "\n",
    "# Завантаження файлу на ваш комп'ютер\n",
    "files.download(output_file)"
   ]
  }
 ],
 "metadata": {
  "language_info": {
   "name": "python"
  }
 },
 "nbformat": 4,
 "nbformat_minor": 2
}
