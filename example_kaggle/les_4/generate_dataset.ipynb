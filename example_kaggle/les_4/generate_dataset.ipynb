{
 "cells": [
  {
   "cell_type": "code",
   "execution_count": null,
   "metadata": {},
   "outputs": [],
   "source": [
    "import pandas as pd\n",
    "import numpy as np\n",
    "\n",
    "# Встановимо фіксований seed для відтворюваності результатів\n",
    "np.random.seed(42)\n",
    "\n",
    "# Генерація даних\n",
    "num_samples = 1000\n",
    "exam1_scores = np.random.randint(40, 100, size=num_samples)  # Результати 1-го іспиту\n",
    "exam2_scores = np.random.randint(40, 100, size=num_samples)  # Результати 2-го іспиту\n",
    "\n",
    "# Логіка для визначення \"Admission\" (1 — бюджет, 0 — не бюджет)\n",
    "# Якщо сума балів за два іспити >= 140, то студент проходить на бюджет\n",
    "admission_status = (exam1_scores + exam2_scores >= 140).astype(int)\n",
    "\n",
    "# Створення DataFrame\n",
    "data = {\n",
    "    \"Index\": range(1, num_samples + 1),\n",
    "    \"Exam1\": exam1_scores,\n",
    "    \"Exam2\": exam2_scores,\n",
    "    \"Admission\": admission_status\n",
    "}\n",
    "\n",
    "df = pd.DataFrame(data)\n",
    "\n",
    "# Збереження в CSV\n",
    "df.to_csv(\"admission_data.csv\", index=False)\n",
    "\n",
    "# Вивід перших 10 рядків\n",
    "print(df.head(10))\n"
   ]
  }
 ],
 "metadata": {
  "language_info": {
   "name": "python"
  }
 },
 "nbformat": 4,
 "nbformat_minor": 2
}
