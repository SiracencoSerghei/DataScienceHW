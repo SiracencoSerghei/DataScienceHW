{
 "cells": [
  {
   "cell_type": "code",
   "execution_count": 2,
   "metadata": {},
   "outputs": [
    {
     "name": "stdout",
     "output_type": "stream",
     "text": [
      "   Exam1  Exam2  Admission\n",
      "0     78     73          1\n",
      "1     91     67          1\n",
      "2     68     70          0\n",
      "3     54     47          0\n",
      "4     82     78          1\n",
      "5     47     65          0\n",
      "6     60     97          1\n",
      "7     78     73          1\n",
      "8     97     93          1\n",
      "9     58     93          1\n"
     ]
    }
   ],
   "source": [
    "import pandas as pd\n",
    "import numpy as np\n",
    "\n",
    "# Встановимо фіксований seed для відтворюваності результатів\n",
    "np.random.seed(42)\n",
    "\n",
    "# Генерація даних\n",
    "num_samples = 1000\n",
    "exam1_scores = np.random.randint(40, 100, size=num_samples)  # Результати 1-го іспиту\n",
    "exam2_scores = np.random.randint(40, 100, size=num_samples)  # Результати 2-го іспиту\n",
    "\n",
    "# Логіка для визначення \"Admission\" (1 — бюджет, 0 — не бюджет)\n",
    "# Якщо сума балів за два іспити >= 140, то студент проходить на бюджет\n",
    "admission_status = (exam1_scores + exam2_scores >= 140).astype(int)\n",
    "\n",
    "# Створення DataFrame\n",
    "data = {\n",
    "#     \"Index\": range(1, num_samples + 1),\n",
    "    \"Exam1\": exam1_scores,\n",
    "    \"Exam2\": exam2_scores,\n",
    "    \"Admission\": admission_status\n",
    "}\n",
    "\n",
    "df = pd.DataFrame(data)\n",
    "\n",
    "# Збереження в CSV\n",
    "df.to_csv(\"admission_data.csv\", index=False)\n",
    "\n",
    "# Вивід перших 10 рядків\n",
    "print(df.head(10))\n"
   ]
  }
 ],
 "metadata": {
  "kernelspec": {
   "display_name": "myenv",
   "language": "python",
   "name": "python3"
  },
  "language_info": {
   "codemirror_mode": {
    "name": "ipython",
    "version": 3
   },
   "file_extension": ".py",
   "mimetype": "text/x-python",
   "name": "python",
   "nbconvert_exporter": "python",
   "pygments_lexer": "ipython3",
   "version": "3.12.1"
  }
 },
 "nbformat": 4,
 "nbformat_minor": 2
}
