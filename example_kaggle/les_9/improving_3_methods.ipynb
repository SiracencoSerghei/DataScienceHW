{
 "cells": [
  {
   "cell_type": "code",
   "execution_count": null,
   "metadata": {
    "vscode": {
     "languageId": "plaintext"
    }
   },
   "outputs": [],
   "source": [
    "import tensorflow as tf\n",
    "import numpy as np\n",
    "import matplotlib.pyplot as plt\n",
    "from tensorflow.keras.datasets import mnist\n",
    "from sklearn.metrics import accuracy_score\n"
   ]
  },
  {
   "cell_type": "code",
   "execution_count": null,
   "metadata": {
    "vscode": {
     "languageId": "plaintext"
    }
   },
   "outputs": [],
   "source": [
    "\n",
    "# Налаштування параметрів\n",
    "num_classes = 10\n",
    "num_features = 784\n",
    "learning_rate = 0.001\n",
    "training_steps = 3000\n",
    "batch_size = 256\n",
    "display_step = 100\n",
    "\n",
    "n_hidden_1 = 128\n",
    "n_hidden_2 = 256\n",
    "\n",
    "# Завантажуємо набір даних MNIST\n",
    "(x_train, y_train), (x_test, y_test) = mnist.load_data()\n",
    "x_train, x_test = np.array(x_train, np.float32), np.array(x_test, np.float32)\n",
    "x_train, x_test = x_train.reshape([-1, num_features]), x_test.reshape([-1, num_features])\n",
    "x_train, x_test = x_train / 255., x_test / 255.\n",
    "\n",
    "# Формуємо датасет для навчання\n",
    "train_data = tf.data.Dataset.from_tensor_slices((x_train, y_train))\n",
    "train_data = train_data.repeat().shuffle(5000).batch(batch_size).prefetch(1)\n",
    "\n",
    "# Клас повнозв'язного шару\n",
    "class DenseLayer(tf.Module):\n",
    "    def __init__(self, in_features, out_features, activation=None):\n",
    "        super().__init__()\n",
    "        self.w = tf.Variable(tf.random.normal([in_features, out_features]), name=\"w\")\n",
    "        self.b = tf.Variable(tf.zeros([out_features]), name=\"b\")\n",
    "        self.activation = activation\n",
    "\n",
    "    def __call__(self, x):\n",
    "        y = tf.matmul(x, self.w) + self.b\n",
    "        return self.activation(y) if self.activation else y\n",
    "\n",
    "# Клас нейромережі\n",
    "class NN(tf.Module):\n",
    "    def __init__(self):\n",
    "        super().__init__()\n",
    "        self.layer1 = DenseLayer(num_features, n_hidden_1, activation=tf.nn.sigmoid)\n",
    "        self.layer2 = DenseLayer(n_hidden_1, n_hidden_2, activation=tf.nn.sigmoid)\n",
    "        self.out_layer = DenseLayer(n_hidden_2, num_classes, activation=tf.nn.softmax)\n",
    "\n",
    "    def __call__(self, x):\n",
    "        x = self.layer1(x)\n",
    "        x = self.layer2(x)\n",
    "        return self.out_layer(x)\n",
    "\n",
    "# Функція втрат\n",
    "def cross_entropy(y_pred, y_true):\n",
    "    y_true = tf.one_hot(y_true, depth=num_classes)\n",
    "    y_pred = tf.clip_by_value(y_pred, 1e-9, 1.)\n",
    "    return tf.reduce_mean(-tf.reduce_sum(y_true * tf.math.log(y_pred), axis=1))\n",
    "\n",
    "# Функція точності\n",
    "def accuracy(y_pred, y_true):\n",
    "    return accuracy_score(y_true, np.argmax(y_pred, axis=1))\n",
    "\n",
    "# Функція навчання\n",
    "def train(neural_net, input_x, output_y, optimizer):\n",
    "    with tf.GradientTape() as g:\n",
    "        pred = neural_net(input_x)\n",
    "        loss = cross_entropy(pred, output_y)\n",
    "    gradients = g.gradient(loss, [neural_net.layer1.w, neural_net.layer1.b,\n",
    "                                  neural_net.layer2.w, neural_net.layer2.b,\n",
    "                                  neural_net.out_layer.w, neural_net.out_layer.b])\n",
    "    optimizer.apply_gradients(zip(gradients, [neural_net.layer1.w, neural_net.layer1.b,\n",
    "                                              neural_net.layer2.w, neural_net.layer2.b,\n",
    "                                              neural_net.out_layer.w, neural_net.out_layer.b]))\n",
    "    return loss\n",
    "\n",
    "# Функція для запуску тренування з вибором методу оптимізації\n",
    "def train_network(optimizer_type):\n",
    "    neural_net = NN()\n",
    "    loss_history = []\n",
    "    accuracy_history = []\n",
    "\n",
    "    if optimizer_type == \"SGD\":\n",
    "        optimizer = tf.optimizers.SGD(learning_rate)\n",
    "    elif optimizer_type == \"BatchGD\":\n",
    "        optimizer = tf.optimizers.Adam(learning_rate)\n",
    "\n",
    "    for step, (batch_x, batch_y) in enumerate(train_data.take(training_steps), 1):\n",
    "        loss = train(neural_net, batch_x, batch_y, optimizer)\n",
    "        if step % display_step == 0:\n",
    "            pred = neural_net(batch_x)\n",
    "            acc = accuracy(pred.numpy(), batch_y.numpy())\n",
    "            loss_history.append(loss.numpy())\n",
    "            accuracy_history.append(acc)\n",
    "            print(f\"{optimizer_type} - Крок {step}, Втрата: {loss.numpy():.4f}, Точність: {acc:.4f}\")\n",
    "\n",
    "    return loss_history, accuracy_history"
   ]
  },
  {
   "cell_type": "code",
   "execution_count": null,
   "metadata": {
    "vscode": {
     "languageId": "plaintext"
    }
   },
   "outputs": [],
   "source": [
    "# Запускаємо тренування для SGD та Batch Gradient Descent\n",
    "loss_sgd, acc_sgd = train_network(\"SGD\")\n",
    "loss_batchgd, acc_batchgd = train_network(\"BatchGD\")"
   ]
  },
  {
   "cell_type": "code",
   "execution_count": null,
   "metadata": {
    "vscode": {
     "languageId": "plaintext"
    }
   },
   "outputs": [],
   "source": [
    "# Візуалізація результатів\n",
    "plt.figure(figsize=(12, 5))\n",
    "\n",
    "plt.subplot(1, 2, 1)\n",
    "plt.plot(loss_sgd, label='Втрати SGD')\n",
    "plt.plot(loss_batchgd, label='Втрати BatchGD')\n",
    "plt.xlabel(\"Кроки (x100)\")\n",
    "plt.ylabel(\"Втрати\")\n",
    "plt.legend()\n",
    "\n",
    "plt.subplot(1, 2, 2)\n",
    "plt.plot(acc_sgd, label='Точність SGD', color='red')\n",
    "plt.plot(acc_batchgd, label='Точність BatchGD', color='blue')\n",
    "plt.xlabel(\"Кроки (x100)\")\n",
    "plt.ylabel(\"Точність\")\n",
    "plt.legend()\n",
    "\n",
    "plt.show()"
   ]
  }
 ],
 "metadata": {
  "language_info": {
   "name": "python"
  }
 },
 "nbformat": 4,
 "nbformat_minor": 2
}
