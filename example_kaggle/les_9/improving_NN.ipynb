{
 "cells": [
  {
   "cell_type": "code",
   "execution_count": null,
   "metadata": {
    "vscode": {
     "languageId": "plaintext"
    }
   },
   "outputs": [],
   "source": [
    "import tensorflow as tf\n",
    "import numpy as np\n",
    "import matplotlib.pyplot as plt\n",
    "import random\n",
    "from keras.datasets import mnist\n",
    "from sklearn.metrics import accuracy_score\n"
   ]
  },
  {
   "cell_type": "code",
   "execution_count": null,
   "metadata": {
    "vscode": {
     "languageId": "plaintext"
    }
   },
   "outputs": [],
   "source": [
    "# Налаштування параметрів нейромережі\n",
    "num_classes = 10  # Кількість класів (цифри від 0 до 9)\n",
    "num_features = 784  # Кількість ознак (28x28 пікселів = 784)\n",
    "\n",
    "learning_rate = 0.001  # Швидкість навчання\n",
    "training_steps = 3000  # Кількість ітерацій навчання\n",
    "batch_size = 256  # Розмір пакету\n",
    "display_step = 100  # Як часто виводити інформацію про прогрес\n",
    "\n",
    "# Розмірність шарів мережі\n",
    "n_hidden_1 = 128  # Кількість нейронів у першому прихованому шарі\n",
    "n_hidden_2 = 256  # Кількість нейронів у другому прихованому шарі\n",
    "\n",
    "# Завантажуємо набір даних MNIST (рукописні цифри)\n",
    "(x_train, y_train), (x_test, y_test) = mnist.load_data()\n",
    "\n",
    "# Перетворюємо дані в формат float32 та нормалізуємо їх у діапазон [0,1]\n",
    "x_train, x_test = np.array(x_train, np.float32), np.array(x_test, np.float32)\n",
    "x_train, x_test = x_train.reshape([-1, num_features]), x_test.reshape([-1, num_features])\n",
    "x_train, x_test = x_train / 255., x_test / 255.  # Нормалізація\n",
    "\n",
    "# Створюємо об'єкт TensorFlow Dataset для ефективної обробки даних\n",
    "train_data = tf.data.Dataset.from_tensor_slices((x_train, y_train))\n",
    "train_data = train_data.repeat().shuffle(5000).batch(batch_size).prefetch(1)"
   ]
  },
  {
   "cell_type": "code",
   "execution_count": null,
   "metadata": {
    "vscode": {
     "languageId": "plaintext"
    }
   },
   "outputs": [],
   "source": [
    "# Оголошуємо клас для повнозв'язного шару\n",
    "class DenseLayer(tf.Module):\n",
    "    def __init__(self, in_features, out_features, activation=None, name=None):\n",
    "        super().__init__(name=name)\n",
    "        self.w = tf.Variable(tf.random.normal([in_features, out_features]), name=\"w\")  # Випадкові ваги\n",
    "        self.b = tf.Variable(tf.zeros([out_features]), name=\"b\")  # Початкові нулі для зміщення (bias)\n",
    "        self.activation = activation  # Функція активації\n",
    "\n",
    "    def __call__(self, x):\n",
    "        y = tf.matmul(x, self.w) + self.b  # Лінійне перетворення\n",
    "        return self.activation(y) if self.activation else y  # Застосовуємо активацію, якщо є\n",
    "\n",
    "# Оголошуємо клас нейромережі\n",
    "class NN(tf.Module):\n",
    "    def __init__(self, name=None):\n",
    "        super().__init__(name=name)\n",
    "        self.layer1 = DenseLayer(num_features, n_hidden_1, activation=tf.nn.sigmoid)\n",
    "        self.layer2 = DenseLayer(n_hidden_1, n_hidden_2, activation=tf.nn.sigmoid)\n",
    "        self.out_layer = DenseLayer(n_hidden_2, num_classes, activation=tf.nn.softmax)  # Softmax для багатокласової класифікації\n",
    "\n",
    "    def __call__(self, x):\n",
    "        x = self.layer1(x)\n",
    "        x = self.layer2(x)\n",
    "        return self.out_layer(x)\n",
    "\n",
    "# Функція крос-ентропії для обчислення втрат\n",
    "def cross_entropy(y_pred, y_true):\n",
    "    y_true = tf.one_hot(y_true, depth=num_classes)  # Перетворюємо y_true у one-hot представлення\n",
    "    y_pred = tf.clip_by_value(y_pred, 1e-9, 1.)  # Уникаємо логарифма від 0\n",
    "    return tf.reduce_mean(-tf.reduce_sum(y_true * tf.math.log(y_pred), axis=1))  # Обчислення втрат\n",
    "\n",
    "# Функція для обчислення точності моделі\n",
    "def accuracy(y_pred, y_true):\n",
    "    return accuracy_score(y_true, np.argmax(y_pred, axis=1))  # Порівнюємо прогноз із реальними значеннями\n",
    "\n",
    "# Створюємо екземпляр нейромережі\n",
    "neural_net = NN(name=\"mnist\")\n",
    "\n",
    "# Функція навчання моделі\n",
    "def train(neural_net, input_x, output_y):\n",
    "    optimizer = tf.optimizers.SGD(learning_rate)  # Стохастичний градієнтний спуск (SGD)\n",
    "    with tf.GradientTape() as g:\n",
    "        pred = neural_net(input_x)  # Прогноз мережі\n",
    "        loss = cross_entropy(pred, output_y)  # Обчислення помилки\n",
    "    # Обчислення градієнтів для кожного шару\n",
    "    gradients = g.gradient(loss, [neural_net.layer1.w, neural_net.layer1.b,\n",
    "                                  neural_net.layer2.w, neural_net.layer2.b,\n",
    "                                  neural_net.out_layer.w, neural_net.out_layer.b])\n",
    "    # Оновлення ваг\n",
    "    optimizer.apply_gradients(zip(gradients, [neural_net.layer1.w, neural_net.layer1.b,\n",
    "                                              neural_net.layer2.w, neural_net.layer2.b,\n",
    "                                              neural_net.out_layer.w, neural_net.out_layer.b]))\n",
    "    return loss"
   ]
  },
  {
   "cell_type": "code",
   "execution_count": null,
   "metadata": {
    "vscode": {
     "languageId": "plaintext"
    }
   },
   "outputs": [],
   "source": [
    "\n",
    "# Історія втрат та точності\n",
    "loss_history = []\n",
    "accuracy_history = []\n",
    "\n",
    "# Процес навчання\n",
    "for step, (batch_x, batch_y) in enumerate(train_data.take(training_steps), 1):\n",
    "    loss = train(neural_net, batch_x, batch_y)  # Навчаємо модель на пакеті даних\n",
    "    if step % display_step == 0:\n",
    "        pred = neural_net(batch_x)  # Робимо прогноз\n",
    "        acc = accuracy(pred.numpy(), batch_y.numpy())  # Обчислюємо точність\n",
    "        loss_history.append(loss.numpy())\n",
    "        accuracy_history.append(acc)\n",
    "        print(f\"Крок {step}, Втрата: {loss.numpy():.4f}, Точність: {acc:.4f}\")\n"
   ]
  },
  {
   "cell_type": "code",
   "execution_count": null,
   "metadata": {
    "vscode": {
     "languageId": "plaintext"
    }
   },
   "outputs": [],
   "source": [
    "# Візуалізація процесу навчання\n",
    "plt.figure(figsize=(12, 5))\n",
    "\n",
    "plt.subplot(1, 2, 1)\n",
    "plt.plot(loss_history, label='Втрати')\n",
    "plt.xlabel(\"Кроки (x100)\")\n",
    "plt.ylabel(\"Втрати\")\n",
    "plt.legend()\n",
    "\n",
    "plt.subplot(1, 2, 2)\n",
    "plt.plot(accuracy_history, label='Точність', color='red')\n",
    "plt.xlabel(\"Кроки (x100)\")\n",
    "plt.ylabel(\"Точність\")\n",
    "plt.legend()\n"
   ]
  }
 ],
 "metadata": {
  "language_info": {
   "name": "python"
  }
 },
 "nbformat": 4,
 "nbformat_minor": 2
}
