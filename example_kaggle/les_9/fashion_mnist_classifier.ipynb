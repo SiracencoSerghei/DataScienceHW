{
 "cells": [
  {
   "cell_type": "markdown",
   "id": "af5236c7",
   "metadata": {},
   "source": [
    "# 🧠 Fashion MNIST Класифікація за допомогою Keras"
   ]
  },
  {
   "cell_type": "markdown",
   "id": "953f6e73",
   "metadata": {},
   "source": [
    "Цей ноутбук реалізує просту нейронну мережу для класифікації зображень одягу з датасету Fashion MNIST. Мета — досягти точності не менше **91%**."
   ]
  },
  {
   "cell_type": "code",
   "execution_count": null,
   "id": "d10b0216",
   "metadata": {},
   "outputs": [],
   "source": [
    "# 📦 Імпорт необхідних бібліотек\n",
    "import numpy as np\n",
    "import tensorflow as tf\n",
    "from tensorflow.keras.datasets import fashion_mnist\n",
    "from tensorflow.keras.models import Sequential\n",
    "from tensorflow.keras.layers import Dense, Flatten, Dropout, BatchNormalization\n",
    "from tensorflow.keras.callbacks import EarlyStopping\n",
    "from tensorflow.keras.optimizers import Adam\n",
    "import matplotlib.pyplot as plt"
   ]
  },
  {
   "cell_type": "code",
   "execution_count": null,
   "id": "f146377a",
   "metadata": {},
   "outputs": [],
   "source": [
    "# 📥 Завантаження та попередня обробка даних\n",
    "(x_train, y_train), (x_test, y_test) = fashion_mnist.load_data()\n",
    "\n",
    "# Нормалізація пікселів\n",
    "x_train = x_train / 255.0\n",
    "x_test = x_test / 255.0"
   ]
  },
  {
   "cell_type": "code",
   "execution_count": null,
   "id": "db891fa4",
   "metadata": {},
   "outputs": [],
   "source": [
    "# 🧠 Побудова моделі\n",
    "model = Sequential([\n",
    "    Flatten(input_shape=(28, 28)),\n",
    "    Dense(256, activation='relu'),\n",
    "    BatchNormalization(),\n",
    "    Dropout(0.3),\n",
    "\n",
    "    Dense(128, activation='relu'),\n",
    "    BatchNormalization(),\n",
    "    Dropout(0.3),\n",
    "\n",
    "    Dense(64, activation='relu'),\n",
    "    Dense(10, activation='softmax')  # 10 класів\n",
    "])"
   ]
  },
  {
   "cell_type": "code",
   "execution_count": null,
   "id": "8adf4dbe",
   "metadata": {},
   "outputs": [],
   "source": [
    "# ⚙️ Компіляція моделі\n",
    "model.compile(\n",
    "    optimizer=Adam(learning_rate=0.001),\n",
    "    loss='sparse_categorical_crossentropy',\n",
    "    metrics=['accuracy']\n",
    ")"
   ]
  },
  {
   "cell_type": "code",
   "execution_count": null,
   "id": "62c1a1fa",
   "metadata": {},
   "outputs": [],
   "source": [
    "# 🛑 EarlyStopping для запобігання перенавчанню\n",
    "early_stop = EarlyStopping(monitor='val_loss', patience=3, restore_best_weights=True)"
   ]
  },
  {
   "cell_type": "code",
   "execution_count": null,
   "id": "92f5783b",
   "metadata": {},
   "outputs": [],
   "source": [
    "# 🚂 Навчання моделі\n",
    "history = model.fit(\n",
    "    x_train, y_train,\n",
    "    validation_split=0.2,\n",
    "    epochs=25,\n",
    "    batch_size=64,\n",
    "    callbacks=[early_stop],\n",
    "    verbose=2\n",
    ")"
   ]
  },
  {
   "cell_type": "code",
   "execution_count": null,
   "id": "04a6d2e7",
   "metadata": {},
   "outputs": [],
   "source": [
    "# 📊 Оцінка моделі\n",
    "test_loss, test_acc = model.evaluate(x_test, y_test, verbose=0)\n",
    "print(f\"✅ Точність на тестових даних: {test_acc:.4f}\")"
   ]
  },
  {
   "cell_type": "code",
   "execution_count": null,
   "id": "fe9ad191",
   "metadata": {},
   "outputs": [],
   "source": [
    "# 📈 Графік точності\n",
    "plt.plot(history.history['accuracy'], label='Навчання')\n",
    "plt.plot(history.history['val_accuracy'], label='Валідація')\n",
    "plt.xlabel(\"Епоха\")\n",
    "plt.ylabel(\"Точність\")\n",
    "plt.legend()\n",
    "plt.grid(True)\n",
    "plt.title(\"Точність навчання\")\n",
    "plt.show()"
   ]
  }
 ],
 "metadata": {},
 "nbformat": 4,
 "nbformat_minor": 5
}
