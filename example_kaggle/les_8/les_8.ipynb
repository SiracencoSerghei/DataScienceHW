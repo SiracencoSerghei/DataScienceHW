{
  "cells": [
    {
      "cell_type": "markdown",
      "metadata": {
        "id": "view-in-github",
        "colab_type": "text"
      },
      "source": [
        "<a href=\"https://colab.research.google.com/github/SiracencoSerghei/DataScienceHW/blob/main/example_kaggle/les_8/les_8.ipynb\" target=\"_parent\"><img src=\"https://colab.research.google.com/assets/colab-badge.svg\" alt=\"Open In Colab\"/></a>"
      ]
    },
    {
      "cell_type": "code",
      "execution_count": 1,
      "metadata": {
        "id": "kPZHVNfb5bqz",
        "outputId": "1dc32216-ba7b-4c41-fac6-549f3dab572b",
        "colab": {
          "base_uri": "https://localhost:8080/"
        }
      },
      "outputs": [
        {
          "output_type": "stream",
          "name": "stdout",
          "text": [
            "2.18.0\n"
          ]
        }
      ],
      "source": [
        "import tensorflow as tf\n",
        "print(tf.__version__)"
      ]
    },
    {
      "cell_type": "markdown",
      "source": [
        "Variable та Tensor(constant)"
      ],
      "metadata": {
        "id": "mv-GvCDn5nXa"
      }
    },
    {
      "cell_type": "code",
      "source": [
        "b = tf.constant([4, 5, 6])"
      ],
      "metadata": {
        "id": "OQt78phT5zW_"
      },
      "execution_count": 2,
      "outputs": []
    },
    {
      "cell_type": "code",
      "source": [
        "c = tf.Variable([1, 2, 3])"
      ],
      "metadata": {
        "id": "RmQDoHwz6vNh"
      },
      "execution_count": 7,
      "outputs": []
    },
    {
      "cell_type": "code",
      "source": [
        "type(b)"
      ],
      "metadata": {
        "id": "fd4CA3_d56BM",
        "outputId": "6ab7d8d6-232e-494a-fded-a8e03867fea1",
        "colab": {
          "base_uri": "https://localhost:8080/"
        }
      },
      "execution_count": 3,
      "outputs": [
        {
          "output_type": "execute_result",
          "data": {
            "text/plain": [
              "tensorflow.python.framework.ops.EagerTensor"
            ]
          },
          "metadata": {},
          "execution_count": 3
        }
      ]
    },
    {
      "cell_type": "code",
      "source": [
        "type(c)"
      ],
      "metadata": {
        "id": "1Dm3RwBX6_yi",
        "outputId": "8604f00f-5214-42e1-f283-947c6c0eeb99",
        "colab": {
          "base_uri": "https://localhost:8080/",
          "height": 187
        }
      },
      "execution_count": 8,
      "outputs": [
        {
          "output_type": "execute_result",
          "data": {
            "text/plain": [
              "tensorflow.python.ops.resource_variable_ops.ResourceVariable"
            ],
            "text/html": [
              "<div style=\"max-width:800px; border: 1px solid var(--colab-border-color);\"><style>\n",
              "      pre.function-repr-contents {\n",
              "        overflow-x: auto;\n",
              "        padding: 8px 12px;\n",
              "        max-height: 500px;\n",
              "      }\n",
              "\n",
              "      pre.function-repr-contents.function-repr-contents-collapsed {\n",
              "        cursor: pointer;\n",
              "        max-height: 100px;\n",
              "      }\n",
              "    </style>\n",
              "    <pre style=\"white-space: initial; background:\n",
              "         var(--colab-secondary-surface-color); padding: 8px 12px;\n",
              "         border-bottom: 1px solid var(--colab-border-color);\"><b>tensorflow.python.ops.resource_variable_ops.ResourceVariable</b><br/>def error_handler(*args, **kwargs)</pre><pre class=\"function-repr-contents function-repr-contents-collapsed\" style=\"\"><a class=\"filepath\" style=\"display:none\" href=\"#\">/usr/local/lib/python3.11/dist-packages/tensorflow/python/ops/resource_variable_ops.py</a>Variable based on resource handles.\n",
              "\n",
              "See the [Variables How To](https://tensorflow.org/guide/variables)\n",
              "for a high level overview.\n",
              "\n",
              "A `ResourceVariable` allows you to maintain state across subsequent calls to\n",
              "session.run.\n",
              "\n",
              "The `ResourceVariable` constructor requires an initial value for the variable,\n",
              "which can be a `Tensor` of any type and shape. The initial value defines the\n",
              "type and shape of the variable. After construction, the type and shape of\n",
              "the variable are fixed. The value can be changed using one of the assign\n",
              "methods.\n",
              "\n",
              "Just like any `Tensor`, variables created with\n",
              "`tf.Variable(use_resource=True)` can be used as inputs for other Ops in the\n",
              "graph. Additionally, all the operators overloaded for the `Tensor` class are\n",
              "carried over to variables, so you can also add nodes to the graph by just\n",
              "doing arithmetic on variables.\n",
              "\n",
              "Unlike ref-based variable, a ResourceVariable has well-defined semantics. Each\n",
              "usage of a ResourceVariable in a TensorFlow graph adds a read_value operation\n",
              "to the graph. The Tensors returned by a read_value operation are guaranteed to\n",
              "see all modifications to the value of the variable which happen in any\n",
              "operation on which the read_value depends on (either directly, indirectly, or\n",
              "via a control dependency) and guaranteed to not see any modification to the\n",
              "value of the variable from operations that depend on the read_value operation.\n",
              "Updates from operations that have no dependency relationship to the read_value\n",
              "operation might or might not be visible to read_value.\n",
              "\n",
              "For example, if there is more than one assignment to a ResourceVariable in\n",
              "a single session.run call there is a well-defined value for each operation\n",
              "which uses the variable&#x27;s value if the assignments and the read are connected\n",
              "by edges in the graph. Consider the following example, in which two writes\n",
              "can cause tf.Variable and tf.ResourceVariable to behave differently:\n",
              "\n",
              "```python\n",
              "a = tf.Variable(1.0, use_resource=True)\n",
              "a.initializer.run()\n",
              "\n",
              "assign = a.assign(2.0)\n",
              "with tf.control_dependencies([assign]):\n",
              "  b = a.read_value()\n",
              "with tf.control_dependencies([b]):\n",
              "  other_assign = a.assign(3.0)\n",
              "with tf.control_dependencies([other_assign]):\n",
              "  # Will print 2.0 because the value was read before other_assign ran. If\n",
              "  # `a` was a tf.Variable instead, 2.0 or 3.0 could be printed.\n",
              "  tf.compat.v1.Print(b, [b]).eval()\n",
              "```</pre>\n",
              "      <script>\n",
              "      if (google.colab.kernel.accessAllowed && google.colab.files && google.colab.files.view) {\n",
              "        for (const element of document.querySelectorAll('.filepath')) {\n",
              "          element.style.display = 'block'\n",
              "          element.onclick = (event) => {\n",
              "            event.preventDefault();\n",
              "            event.stopPropagation();\n",
              "            google.colab.files.view(element.textContent, 1704);\n",
              "          };\n",
              "        }\n",
              "      }\n",
              "      for (const element of document.querySelectorAll('.function-repr-contents')) {\n",
              "        element.onclick = (event) => {\n",
              "          event.preventDefault();\n",
              "          event.stopPropagation();\n",
              "          element.classList.toggle('function-repr-contents-collapsed');\n",
              "        };\n",
              "      }\n",
              "      </script>\n",
              "      </div>"
            ]
          },
          "metadata": {},
          "execution_count": 8
        }
      ]
    },
    {
      "cell_type": "code",
      "source": [
        "c.assign([1, 1, 1])"
      ],
      "metadata": {
        "id": "kpNxXAQz5-4N",
        "outputId": "ead60d80-e396-4f9b-886a-be5f93eec66f",
        "colab": {
          "base_uri": "https://localhost:8080/"
        }
      },
      "execution_count": 9,
      "outputs": [
        {
          "output_type": "execute_result",
          "data": {
            "text/plain": [
              "<tf.Variable 'UnreadVariable' shape=(3,) dtype=int32, numpy=array([1, 1, 1], dtype=int32)>"
            ]
          },
          "metadata": {},
          "execution_count": 9
        }
      ]
    },
    {
      "cell_type": "code",
      "source": [
        "a = tf.Variable([[4,5,6],\n",
        "                 [4,5,6],\n",
        "                 [4,5,6],\n",
        "                 [4,5,6]], name='speed')\n"
      ],
      "metadata": {
        "id": "0nkphFQx705_"
      },
      "execution_count": 31,
      "outputs": []
    },
    {
      "cell_type": "code",
      "source": [
        "a.shape"
      ],
      "metadata": {
        "id": "edwPMk0A8KuR",
        "outputId": "b7f1bc54-04a3-4697-887c-b185a0ab9145",
        "colab": {
          "base_uri": "https://localhost:8080/"
        }
      },
      "execution_count": 32,
      "outputs": [
        {
          "output_type": "execute_result",
          "data": {
            "text/plain": [
              "TensorShape([4, 3])"
            ]
          },
          "metadata": {},
          "execution_count": 32
        }
      ]
    },
    {
      "cell_type": "code",
      "source": [
        "tf.reshape(a, (3, 4))"
      ],
      "metadata": {
        "id": "ebXyvsxw8PTK",
        "outputId": "23838994-4dd2-4e8b-f51f-b9a7aece3bb6",
        "colab": {
          "base_uri": "https://localhost:8080/"
        }
      },
      "execution_count": 25,
      "outputs": [
        {
          "output_type": "execute_result",
          "data": {
            "text/plain": [
              "<tf.Tensor: shape=(3, 4), dtype=int32, numpy=\n",
              "array([[5, 6, 7, 5],\n",
              "       [6, 7, 5, 6],\n",
              "       [7, 5, 6, 7]], dtype=int32)>"
            ]
          },
          "metadata": {},
          "execution_count": 25
        }
      ]
    },
    {
      "cell_type": "code",
      "source": [
        "tf.size(a).numpy()"
      ],
      "metadata": {
        "id": "hcljUTfR8Y9e",
        "outputId": "fd356ab7-f446-4a1a-fc3d-0979c2b1b0f6",
        "colab": {
          "base_uri": "https://localhost:8080/"
        }
      },
      "execution_count": 23,
      "outputs": [
        {
          "output_type": "execute_result",
          "data": {
            "text/plain": [
              "12"
            ]
          },
          "metadata": {},
          "execution_count": 23
        }
      ]
    },
    {
      "cell_type": "code",
      "source": [
        "# a.assign_add([1,1,1])\n",
        "\n",
        "delta = tf.ones((4,3), dtype=a.dtype)  # Міняємо на a.dtype\n",
        "\n",
        "a.assign_add(delta)  # Додаємо значення\n",
        "print(a.numpy())  # Виводимо результат\n",
        "\n",
        "a.assign_add(delta)"
      ],
      "metadata": {
        "id": "UzxH-kRN83c0",
        "outputId": "668c2ea8-6e41-4a34-abcd-24d186fd0b4c",
        "colab": {
          "base_uri": "https://localhost:8080/"
        }
      },
      "execution_count": 35,
      "outputs": [
        {
          "output_type": "stream",
          "name": "stdout",
          "text": [
            "[[7 8 9]\n",
            " [7 8 9]\n",
            " [7 8 9]\n",
            " [7 8 9]]\n"
          ]
        },
        {
          "output_type": "execute_result",
          "data": {
            "text/plain": [
              "<tf.Variable 'UnreadVariable' shape=(4, 3) dtype=int32, numpy=\n",
              "array([[ 8,  9, 10],\n",
              "       [ 8,  9, 10],\n",
              "       [ 8,  9, 10],\n",
              "       [ 8,  9, 10]], dtype=int32)>"
            ]
          },
          "metadata": {},
          "execution_count": 35
        }
      ]
    },
    {
      "cell_type": "code",
      "source": [
        "b = tf.constant([[5.],[5.], [5.], [5.] ])"
      ],
      "metadata": {
        "id": "nRWJgailASlF"
      },
      "execution_count": 36,
      "outputs": []
    },
    {
      "cell_type": "code",
      "source": [
        "b"
      ],
      "metadata": {
        "id": "QvjNYWrAA5iU",
        "outputId": "87716ac7-3275-451b-c0a5-402daee83a23",
        "colab": {
          "base_uri": "https://localhost:8080/"
        }
      },
      "execution_count": 37,
      "outputs": [
        {
          "output_type": "execute_result",
          "data": {
            "text/plain": [
              "<tf.Tensor: shape=(4, 1), dtype=float32, numpy=\n",
              "array([[5.],\n",
              "       [5.],\n",
              "       [5.],\n",
              "       [5.]], dtype=float32)>"
            ]
          },
          "metadata": {},
          "execution_count": 37
        }
      ]
    },
    {
      "cell_type": "code",
      "source": [
        "s = tf.reshape(b, (2,2))"
      ],
      "metadata": {
        "id": "3LguDXvBA6zp"
      },
      "execution_count": 39,
      "outputs": []
    },
    {
      "cell_type": "code",
      "source": [
        "s.numpy()"
      ],
      "metadata": {
        "id": "Arhn7W_CBImA",
        "outputId": "3f55e7ac-ce9d-4c16-c2ee-4f083d7d09e3",
        "colab": {
          "base_uri": "https://localhost:8080/"
        }
      },
      "execution_count": 40,
      "outputs": [
        {
          "output_type": "execute_result",
          "data": {
            "text/plain": [
              "array([[5., 5.],\n",
              "       [5., 5.]], dtype=float32)"
            ]
          },
          "metadata": {},
          "execution_count": 40
        }
      ]
    },
    {
      "cell_type": "code",
      "source": [
        "import numpy as np\n",
        "\n",
        "x_array = np.array([1,2,3])\n",
        "x_tensor = tf.convert_to_tensor(x_array)"
      ],
      "metadata": {
        "id": "rvHQLtpqBOao"
      },
      "execution_count": 41,
      "outputs": []
    },
    {
      "cell_type": "code",
      "source": [
        "x_tensor/3"
      ],
      "metadata": {
        "id": "M0P6uejWBimu",
        "outputId": "f826f610-288a-4573-e91d-e09c23adf555",
        "colab": {
          "base_uri": "https://localhost:8080/"
        }
      },
      "execution_count": 42,
      "outputs": [
        {
          "output_type": "execute_result",
          "data": {
            "text/plain": [
              "<tf.Tensor: shape=(3,), dtype=float64, numpy=array([0.33333333, 0.66666667, 1.        ])>"
            ]
          },
          "metadata": {},
          "execution_count": 42
        }
      ]
    },
    {
      "cell_type": "code",
      "source": [
        "tensor = tf.constant(x_array)\n",
        "zeros = tf.zeros((4, 5))"
      ],
      "metadata": {
        "id": "72R9UvzDBn66"
      },
      "execution_count": 46,
      "outputs": []
    },
    {
      "cell_type": "code",
      "source": [
        "zeros"
      ],
      "metadata": {
        "id": "MiEh3BQOB1YW",
        "outputId": "5101f47f-f8c9-48cc-b5e3-5abaff6a555d",
        "colab": {
          "base_uri": "https://localhost:8080/"
        }
      },
      "execution_count": 47,
      "outputs": [
        {
          "output_type": "execute_result",
          "data": {
            "text/plain": [
              "<tf.Tensor: shape=(4, 5), dtype=float32, numpy=\n",
              "array([[0., 0., 0., 0., 0.],\n",
              "       [0., 0., 0., 0., 0.],\n",
              "       [0., 0., 0., 0., 0.],\n",
              "       [0., 0., 0., 0., 0.]], dtype=float32)>"
            ]
          },
          "metadata": {},
          "execution_count": 47
        }
      ]
    },
    {
      "cell_type": "code",
      "source": [
        "ones = tf.ones(zeros.shape)"
      ],
      "metadata": {
        "id": "vHS8BHWDCqvO"
      },
      "execution_count": 50,
      "outputs": []
    },
    {
      "cell_type": "code",
      "source": [
        "ones"
      ],
      "metadata": {
        "id": "SM_i8fQuCuqs",
        "outputId": "3d3358c0-374a-4bee-84e1-ef3709caf09a",
        "colab": {
          "base_uri": "https://localhost:8080/"
        }
      },
      "execution_count": 51,
      "outputs": [
        {
          "output_type": "execute_result",
          "data": {
            "text/plain": [
              "<tf.Tensor: shape=(4, 5), dtype=float32, numpy=\n",
              "array([[1., 1., 1., 1., 1.],\n",
              "       [1., 1., 1., 1., 1.],\n",
              "       [1., 1., 1., 1., 1.],\n",
              "       [1., 1., 1., 1., 1.]], dtype=float32)>"
            ]
          },
          "metadata": {},
          "execution_count": 51
        }
      ]
    },
    {
      "cell_type": "code",
      "source": [
        "tensor"
      ],
      "metadata": {
        "id": "nerd-1_TB39g",
        "outputId": "7e45af5b-b617-49d4-f6d6-85f048bbfda1",
        "colab": {
          "base_uri": "https://localhost:8080/"
        }
      },
      "execution_count": 45,
      "outputs": [
        {
          "output_type": "execute_result",
          "data": {
            "text/plain": [
              "<tf.Tensor: shape=(3,), dtype=int64, numpy=array([1, 2, 3])>"
            ]
          },
          "metadata": {},
          "execution_count": 45
        }
      ]
    },
    {
      "cell_type": "markdown",
      "source": [
        "---\n",
        "# Поелементне попарне множення\n",
        "---"
      ],
      "metadata": {
        "id": "xiTsvA86CFpb"
      }
    },
    {
      "cell_type": "code",
      "source": [
        "b = tf.Variable([[1, 2],\n",
        "                 [1, 2]])\n",
        "\n",
        "c = tf.Variable([[1, 2],\n",
        "                 [3, 4]])\n",
        "\n",
        "print(b*c)"
      ],
      "metadata": {
        "id": "gqPJ323PCOMA",
        "outputId": "d5f84be9-c7bc-4163-9ce5-5d115d07b967",
        "colab": {
          "base_uri": "https://localhost:8080/"
        }
      },
      "execution_count": 52,
      "outputs": [
        {
          "output_type": "stream",
          "name": "stdout",
          "text": [
            "tf.Tensor(\n",
            "[[1 4]\n",
            " [3 8]], shape=(2, 2), dtype=int32)\n"
          ]
        }
      ]
    },
    {
      "cell_type": "markdown",
      "source": [
        "---\n",
        "# Обчислювальний граф\n",
        "---"
      ],
      "metadata": {
        "id": "a3eytlmVDJ5S"
      }
    },
    {
      "cell_type": "code",
      "source": [
        "import time\n",
        "\n",
        "# Оригінальна функція без графа\n",
        "def formula(x, y, b):\n",
        "    x = tf.matmul(x, y)\n",
        "    x = x + b\n",
        "    return x\n",
        "\n",
        "# Перетворена функція з графом\n",
        "func_that_uses_a_graph = tf.function(formula)\n",
        "\n",
        "# Тестові дані\n",
        "x1 = tf.constant([[1., 2.]])\n",
        "y1 = tf.constant([[2.], [3.]])\n",
        "b1 = tf.constant(4.)\n",
        "\n",
        "# Замір часу для оригінальної функції\n",
        "start_time = time.time()\n",
        "orig_value = formula(x1, y1, b1).numpy()\n",
        "orig_time = time.time() - start_time\n",
        "\n",
        "# Замір часу для функції з графом\n",
        "start_time = time.time()\n",
        "graph_value = func_that_uses_a_graph(x1, y1, b1).numpy()\n",
        "graph_time = time.time() - start_time\n",
        "\n",
        "# Виведення результатів\n",
        "print(f\"Original function result: {orig_value}, Time: {orig_time:.6f} seconds\")\n",
        "print(f\"Graph function result: {graph_value}, Time: {graph_time:.6f} seconds\")\n",
        "\n",
        "# Перевірка рівності результатів\n",
        "print(f\"Are the results the same? {orig_value == graph_value}\")\n"
      ],
      "metadata": {
        "id": "4NmzVcstDPs4",
        "outputId": "8529ce36-5aa1-4427-a3e2-1153bd3a661b",
        "colab": {
          "base_uri": "https://localhost:8080/"
        }
      },
      "execution_count": 68,
      "outputs": [
        {
          "output_type": "stream",
          "name": "stdout",
          "text": [
            "Original function result: [[12.]], Time: 0.001401 seconds\n",
            "Graph function result: [[12.]], Time: 0.015527 seconds\n",
            "Are the results the same? [[ True]]\n"
          ]
        }
      ]
    },
    {
      "cell_type": "code",
      "source": [
        "x1.shape"
      ],
      "metadata": {
        "id": "1ZeWGn4ZEddY",
        "outputId": "474507b4-76bf-44ae-f193-c7f794e2be41",
        "colab": {
          "base_uri": "https://localhost:8080/"
        }
      },
      "execution_count": 56,
      "outputs": [
        {
          "output_type": "execute_result",
          "data": {
            "text/plain": [
              "TensorShape([1, 2])"
            ]
          },
          "metadata": {},
          "execution_count": 56
        }
      ]
    },
    {
      "cell_type": "code",
      "source": [
        "y1.shape"
      ],
      "metadata": {
        "id": "zl5EB_JZGq6Y",
        "outputId": "938a6f85-fff7-4e92-e1a5-b26410df2643",
        "colab": {
          "base_uri": "https://localhost:8080/"
        }
      },
      "execution_count": 66,
      "outputs": [
        {
          "output_type": "execute_result",
          "data": {
            "text/plain": [
              "TensorShape([2, 1])"
            ]
          },
          "metadata": {},
          "execution_count": 66
        }
      ]
    },
    {
      "cell_type": "code",
      "source": [
        "# decoration\n",
        "\n",
        "@tf.function\n",
        "def function_that_uses_a_graph(x, y, b):\n",
        "    x = tf.matmul(x, y)\n",
        "    x = x + b\n",
        "    return x\n",
        "\n",
        "# Тестові дані\n",
        "x1 = tf.constant([[1., 2.]])\n",
        "y1 = tf.constant([[2.], [3.]])\n",
        "b1 = tf.constant(4.)\n",
        "\n",
        "# Замір часу для оригінальної функції\n",
        "start_time = time.time()\n",
        "orig_value = formula(x1, y1, b1).numpy()\n",
        "orig_time = time.time() - start_time\n",
        "\n",
        "# Замір часу для функції з графом\n",
        "start_time = time.time()\n",
        "graph_value = function_that_uses_a_graph(x1, y1, b1).numpy()\n",
        "graph_time = time.time() - start_time\n",
        "\n",
        "# Виведення результатів\n",
        "print(f\"Original function result: {orig_value}, Time: {orig_time:.6f} seconds\")\n",
        "print(f\"Graph function result: {graph_value}, Time: {graph_time:.6f} seconds\")\n",
        "\n",
        "# Перевірка рівності результатів\n",
        "print(f\"Are the results the same? {orig_value == graph_value}\")\n"
      ],
      "metadata": {
        "id": "xegQMzTbGwWz",
        "outputId": "05601868-bfb2-4f5c-e8c8-6b6ca8ee5147",
        "colab": {
          "base_uri": "https://localhost:8080/"
        }
      },
      "execution_count": 67,
      "outputs": [
        {
          "output_type": "stream",
          "name": "stdout",
          "text": [
            "Original function result: [[12.]], Time: 0.001943 seconds\n",
            "Graph function result: [[12.]], Time: 0.060230 seconds\n",
            "Are the results the same? [[ True]]\n"
          ]
        }
      ]
    },
    {
      "cell_type": "markdown",
      "source": [
        "Для маленьких обчислень різниця в часі може бути незначною, але для великих обсягів даних або численних викликів граф обчислень дасть значні переваги в продуктивності.\n",
        "\n",
        "Початковий час для графа може бути більшим через процес компіляції, але він стає набагато швидшим при повторних викликах."
      ],
      "metadata": {
        "id": "KDdWHk9zHo9Q"
      }
    },
    {
      "cell_type": "code",
      "source": [
        "# Оголошення ReLU активації\n",
        "\n",
        "#  @tf.function\n",
        "# def relu_activation(x):\n",
        "#   print(type(x))\n",
        "#   if tf.greater(x, 0):\n",
        "#     return x1\n",
        "#   return 0\n",
        "\n",
        "@tf.function\n",
        "def relu_activation(x):\n",
        "    x = tf.cast(x, tf.float32)  # Приводимо вхід до float32\n",
        "    if tf.greater(x, 0):\n",
        "        return x  # Повертаємо x як float32\n",
        "    return tf.constant(0.0, dtype=tf.float32)  # Повертаємо 0.0 як float32\n",
        "\n",
        "q=tf.constant(1)\n",
        "z = tf.constant(-1)\n",
        "print(relu_activation(q).numpy())\n",
        "print(relu_activation(z).numpy())"
      ],
      "metadata": {
        "id": "MZi7LDtjHhF2",
        "outputId": "39bf24db-9dea-4d08-b689-6929479faa35",
        "colab": {
          "base_uri": "https://localhost:8080/"
        }
      },
      "execution_count": 82,
      "outputs": [
        {
          "output_type": "stream",
          "name": "stdout",
          "text": [
            "1.0\n",
            "0.0\n"
          ]
        }
      ]
    },
    {
      "cell_type": "markdown",
      "source": [
        "---\n",
        "# Автоматичне диференціювання\n",
        "---"
      ],
      "metadata": {
        "id": "-iQ5o1eQLjTz"
      }
    },
    {
      "cell_type": "code",
      "source": [
        "def f(x):\n",
        "  return 1/x**2\n",
        "\n",
        "x = tf.Variable(1.0)\n",
        "with tf.GradientTape() as tape:\n",
        "  y = f(x)\n",
        "  dy_dx = tape.gradient(y, x)\n",
        "  print(dy_dx)"
      ],
      "metadata": {
        "id": "yHmH2kzFLt31",
        "outputId": "7c3fdf42-4875-473d-d617-79dbcd110d2d",
        "colab": {
          "base_uri": "https://localhost:8080/"
        }
      },
      "execution_count": 84,
      "outputs": [
        {
          "output_type": "stream",
          "name": "stdout",
          "text": [
            "tf.Tensor(-2.0, shape=(), dtype=float32)\n"
          ]
        }
      ]
    },
    {
      "cell_type": "markdown",
      "source": [
        "---\n",
        "# Створення нейронної мережи\n",
        "---"
      ],
      "metadata": {
        "id": "sK-FhCkoMklK"
      }
    },
    {
      "cell_type": "markdown",
      "source": [
        "## Linear regression, one parameter(argument)"
      ],
      "metadata": {
        "id": "kl_bQLRbNsbu"
      }
    },
    {
      "cell_type": "code",
      "source": [
        "class SimpleModule(tf.Module):\n",
        "  def __init__(self, name=None):\n",
        "    super().__init__(name=name)\n",
        "    self.w = tf.Variable(5.0)\n",
        "    self.b = tf.Variable(5.0)\n",
        "\n",
        "  def __call__(self, x):\n",
        "    return self.w * x + self.b\n",
        "\n",
        "simple_module = SimpleModule(name=\"simple\")\n",
        "\n",
        "simple_module(tf.constant([5.0, 3.0])).numpy()"
      ],
      "metadata": {
        "id": "WaHQ19wxMkKT",
        "outputId": "626a12ec-5c9b-4969-8f15-77ae5bd28d20",
        "colab": {
          "base_uri": "https://localhost:8080/"
        }
      },
      "execution_count": 85,
      "outputs": [
        {
          "output_type": "execute_result",
          "data": {
            "text/plain": [
              "array([30., 20.], dtype=float32)"
            ]
          },
          "metadata": {},
          "execution_count": 85
        }
      ]
    },
    {
      "cell_type": "code",
      "source": [
        "class DenseLayer(tf.Module):\n",
        "  def __init__(self, in_features, out_features, name=None):\n",
        "    super().__init__(name=name)\n",
        "    self.w = tf.Variable(\n",
        "      tf.random.normal([in_features, out_features]), name='Weights')\n",
        "    self.b = tf.Variable(tf.zeros([out_features]), name='Bias')\n",
        "\n",
        "  def __call__(self, x):\n",
        "    y = tf.matmul(x, self.w) + self.b\n",
        "    return tf.nn.relu(y)\n",
        "\n",
        "class NN(tf.Module):\n",
        "  def __init__(self, name=None):\n",
        "    super().__init__(name=name)\n",
        "    self.layer_2 = DenseLayer(in_features=3, out_features=3)\n",
        "    self.layer_3 = DenseLayer(in_features=3, out_features=1)\n",
        "  def __call__(self, x):\n",
        "    x = self.layer_2(x)\n",
        "    return self.layer_3(x)\n",
        "\n",
        "model = NN(name=\"neural_network\")\n",
        "print(\"results: \", model(tf.constant([[2.0, 2.0, 2.0]])))"
      ],
      "metadata": {
        "id": "EK3ibsyHNcd6",
        "outputId": "ed095245-6feb-4509-e777-19276c6a510a",
        "colab": {
          "base_uri": "https://localhost:8080/"
        }
      },
      "execution_count": 98,
      "outputs": [
        {
          "output_type": "stream",
          "name": "stdout",
          "text": [
            "results:  tf.Tensor([[0.30532917]], shape=(1, 1), dtype=float32)\n"
          ]
        }
      ]
    },
    {
      "cell_type": "markdown",
      "source": [
        "---\n",
        "# Навчання нейронної мережи\n",
        "---"
      ],
      "metadata": {
        "id": "-bRlPpSmRFYL"
      }
    },
    {
      "cell_type": "code",
      "source": [
        "class LinearModel(tf.Module):\n",
        "  def __init__(self, **kwargs):\n",
        "    super().__init__(**kwargs)\n",
        "    self.w = tf.Variable(5.0)\n",
        "    self.b = tf.Variable(0.0)\n",
        "\n",
        "  def __call__(self, x):\n",
        "    return self.w * x + self.b"
      ],
      "metadata": {
        "id": "t8EljZTJRMyL"
      },
      "execution_count": 99,
      "outputs": []
    },
    {
      "cell_type": "code",
      "source": [
        "def loss(target_y, predicted_y):\n",
        "  return tf.reduce_mean(tf.square(target_y - predicted_y))\n",
        "\n",
        "def train(model, x, y, learning_rate):\n",
        "  with tf.GradientTape() as t:\n",
        "    current_loss = loss(y, model(x))\n",
        "    dw, db = t.gradient(current_loss, [model.w, model.b])\n",
        "    model.w.assign_sub(learning_rate * dw)\n",
        "    model.b.assign_sub(learning_rate * db)"
      ],
      "metadata": {
        "id": "75SgZZbZSAv8"
      },
      "execution_count": 100,
      "outputs": []
    },
    {
      "cell_type": "code",
      "source": [
        "def training_loop(model, x, y):\n",
        "  for epoch in range(20):\n",
        "    train(model, x, y, learning_rate=0.1)\n",
        "    current_loss = loss(y, model(x))\n",
        "    print(f\"Epoch {epoch:2d}: W={model.w.numpy():1.2f} b={model.b.numpy():1.2f}, loss={current_loss:2.5f}\")\n"
      ],
      "metadata": {
        "id": "mA9A-2m9S-MN"
      },
      "execution_count": 102,
      "outputs": []
    },
    {
      "cell_type": "markdown",
      "source": [
        "---\n",
        "# Штучні тестові дані\n",
        "---\n",
        "\n",
        "$$\n",
        "y = 3x + 2 + \\text{noise}\n",
        "$$\n"
      ],
      "metadata": {
        "id": "q8EYBDfzUGzK"
      }
    },
    {
      "cell_type": "code",
      "source": [
        "TRUE_W = 3.0\n",
        "TRUE_B = 2.0\n",
        "\n",
        "NUM_EXAMPLES = 1000\n",
        "\n",
        "x = tf.random.normal(shape=[NUM_EXAMPLES])\n",
        "noise = tf.random.normal(shape=[NUM_EXAMPLES])\n",
        "y = x * TRUE_W + TRUE_B + noise"
      ],
      "metadata": {
        "id": "v3S7HACdUlp8"
      },
      "execution_count": 103,
      "outputs": []
    },
    {
      "cell_type": "code",
      "source": [
        "linear_model = LinearModel()\n",
        "training_loop(linear_model, x, y)"
      ],
      "metadata": {
        "id": "EaOId4YiVH4b",
        "outputId": "27376d04-e87c-45e8-ee5b-5e00d0dbfdf3",
        "colab": {
          "base_uri": "https://localhost:8080/"
        }
      },
      "execution_count": 104,
      "outputs": [
        {
          "output_type": "stream",
          "name": "stdout",
          "text": [
            "Epoch  0: W=4.60 b=0.40, loss=6.09588\n",
            "Epoch  1: W=4.27 b=0.72, loss=4.23869\n",
            "Epoch  2: W=4.01 b=0.97, loss=3.05209\n",
            "Epoch  3: W=3.81 b=1.18, loss=2.29394\n",
            "Epoch  4: W=3.64 b=1.34, loss=1.80953\n",
            "Epoch  5: W=3.51 b=1.47, loss=1.50003\n",
            "Epoch  6: W=3.40 b=1.57, loss=1.30228\n",
            "Epoch  7: W=3.32 b=1.65, loss=1.17593\n",
            "Epoch  8: W=3.25 b=1.72, loss=1.09520\n",
            "Epoch  9: W=3.19 b=1.77, loss=1.04361\n",
            "Epoch 10: W=3.15 b=1.82, loss=1.01065\n",
            "Epoch 11: W=3.12 b=1.85, loss=0.98960\n",
            "Epoch 12: W=3.09 b=1.88, loss=0.97614\n",
            "Epoch 13: W=3.07 b=1.90, loss=0.96754\n",
            "Epoch 14: W=3.05 b=1.91, loss=0.96205\n",
            "Epoch 15: W=3.03 b=1.93, loss=0.95854\n",
            "Epoch 16: W=3.02 b=1.94, loss=0.95629\n",
            "Epoch 17: W=3.01 b=1.95, loss=0.95486\n",
            "Epoch 18: W=3.01 b=1.95, loss=0.95395\n",
            "Epoch 19: W=3.00 b=1.96, loss=0.95336\n"
          ]
        }
      ]
    },
    {
      "cell_type": "code",
      "source": [
        "linear_model.w"
      ],
      "metadata": {
        "id": "VwGmG2f6Vwi1",
        "outputId": "7021cd19-5ff4-48c8-e833-4593e0280718",
        "colab": {
          "base_uri": "https://localhost:8080/"
        }
      },
      "execution_count": 105,
      "outputs": [
        {
          "output_type": "execute_result",
          "data": {
            "text/plain": [
              "<tf.Variable 'Variable:0' shape=() dtype=float32, numpy=2.9997596740722656>"
            ]
          },
          "metadata": {},
          "execution_count": 105
        }
      ]
    },
    {
      "cell_type": "code",
      "source": [
        "linear_model.b"
      ],
      "metadata": {
        "id": "gpmYkEy8V0Qh",
        "outputId": "779900ff-6073-456d-aa94-fcaaf7a6c74f",
        "colab": {
          "base_uri": "https://localhost:8080/"
        }
      },
      "execution_count": 106,
      "outputs": [
        {
          "output_type": "execute_result",
          "data": {
            "text/plain": [
              "<tf.Variable 'Variable:0' shape=() dtype=float32, numpy=1.9599982500076294>"
            ]
          },
          "metadata": {},
          "execution_count": 106
        }
      ]
    }
  ],
  "metadata": {
    "kernelspec": {
      "display_name": "myenv",
      "language": "python",
      "name": "python3"
    },
    "language_info": {
      "codemirror_mode": {
        "name": "ipython",
        "version": 3
      },
      "file_extension": ".py",
      "mimetype": "text/x-python",
      "name": "python",
      "nbconvert_exporter": "python",
      "pygments_lexer": "ipython3",
      "version": "3.12.3"
    },
    "colab": {
      "provenance": [],
      "include_colab_link": true
    }
  },
  "nbformat": 4,
  "nbformat_minor": 0
}