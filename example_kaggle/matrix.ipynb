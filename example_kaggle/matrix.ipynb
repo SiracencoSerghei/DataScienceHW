{
  "cells": [
    {
      "cell_type": "code",
      "execution_count": null,
      "id": "0933fef7-7415-45e1-808f-458fd0a00c14",
      "metadata": {
        "tags": [],
        "id": "0933fef7-7415-45e1-808f-458fd0a00c14"
      },
      "outputs": [],
      "source": [
        "#Встaновити numpy\n",
        "#!pip install numpy"
      ]
    },
    {
      "cell_type": "code",
      "source": [
        "# Приклади роботи з матрицями\n",
        "import numpy as np\n",
        "# Отримання версії бібліотеки NumPy\n",
        "numpy_version = np.__version__\n",
        "numpy_version\n"
      ],
      "metadata": {
        "colab": {
          "base_uri": "https://localhost:8080/",
          "height": 36
        },
        "id": "nETPPRQBKp5_",
        "outputId": "bb713c3a-7c51-4fcf-f6fd-e66577b1b047"
      },
      "id": "nETPPRQBKp5_",
      "execution_count": null,
      "outputs": [
        {
          "output_type": "execute_result",
          "data": {
            "text/plain": [
              "'2.0.2'"
            ],
            "application/vnd.google.colaboratory.intrinsic+json": {
              "type": "string"
            }
          },
          "metadata": {},
          "execution_count": 1
        }
      ]
    },
    {
      "cell_type": "code",
      "source": [
        "#1. Задати вектор\n",
        "v = np.array([1, 2, 3, 4, 5], dtype = float)\n",
        "v"
      ],
      "metadata": {
        "colab": {
          "base_uri": "https://localhost:8080/"
        },
        "id": "JCinAxgVxqDm",
        "outputId": "fbf25e4a-2232-4a3f-e0ab-1fda2061ce5a"
      },
      "id": "JCinAxgVxqDm",
      "execution_count": null,
      "outputs": [
        {
          "output_type": "execute_result",
          "data": {
            "text/plain": [
              "array([1., 2., 3., 4., 5.])"
            ]
          },
          "metadata": {},
          "execution_count": 2
        }
      ]
    },
    {
      "cell_type": "code",
      "source": [
        "v[0]"
      ],
      "metadata": {
        "colab": {
          "base_uri": "https://localhost:8080/"
        },
        "id": "OwSegH4LzGg5",
        "outputId": "0f9e40bc-aa92-4edf-f7ad-5f87a9e55612"
      },
      "id": "OwSegH4LzGg5",
      "execution_count": null,
      "outputs": [
        {
          "output_type": "execute_result",
          "data": {
            "text/plain": [
              "np.float64(1.0)"
            ]
          },
          "metadata": {},
          "execution_count": 3
        }
      ]
    },
    {
      "cell_type": "code",
      "source": [
        "v[-1]\n"
      ],
      "metadata": {
        "colab": {
          "base_uri": "https://localhost:8080/"
        },
        "id": "v2mh5GaazKA4",
        "outputId": "803d076d-5de6-45b6-f098-ea19acd94276"
      },
      "id": "v2mh5GaazKA4",
      "execution_count": null,
      "outputs": [
        {
          "output_type": "execute_result",
          "data": {
            "text/plain": [
              "np.float64(5.0)"
            ]
          },
          "metadata": {},
          "execution_count": 4
        }
      ]
    },
    {
      "cell_type": "code",
      "source": [
        "#2. Задати масив (матрицю) 2*3\n",
        "a = np.array([[1, 2, 3],\n",
        "              [4, 5, 6]])\n",
        "a"
      ],
      "metadata": {
        "colab": {
          "base_uri": "https://localhost:8080/"
        },
        "id": "RTTIiIsYywyA",
        "outputId": "6e81a4fc-5121-4252-b73e-d1dd8d6a4c13"
      },
      "id": "RTTIiIsYywyA",
      "execution_count": null,
      "outputs": [
        {
          "output_type": "execute_result",
          "data": {
            "text/plain": [
              "array([[1, 2, 3],\n",
              "       [4, 5, 6]])"
            ]
          },
          "metadata": {},
          "execution_count": 5
        }
      ]
    },
    {
      "cell_type": "code",
      "source": [
        "#3. Вивести елемент a22\n",
        "a[1,1]"
      ],
      "metadata": {
        "colab": {
          "base_uri": "https://localhost:8080/"
        },
        "id": "p1XZcN3izFGi",
        "outputId": "e347879f-1e0f-43c7-b59d-96415b31e810"
      },
      "id": "p1XZcN3izFGi",
      "execution_count": null,
      "outputs": [
        {
          "output_type": "execute_result",
          "data": {
            "text/plain": [
              "np.int64(5)"
            ]
          },
          "metadata": {},
          "execution_count": 6
        }
      ]
    },
    {
      "cell_type": "code",
      "source": [
        "#4. Вивести елемент a11\n",
        "a[0,0]"
      ],
      "metadata": {
        "colab": {
          "base_uri": "https://localhost:8080/"
        },
        "id": "_oZQwPGEzcqw",
        "outputId": "2cffc529-32cc-45c3-e5a7-9c037c557509"
      },
      "id": "_oZQwPGEzcqw",
      "execution_count": null,
      "outputs": [
        {
          "output_type": "execute_result",
          "data": {
            "text/plain": [
              "np.int64(1)"
            ]
          },
          "metadata": {},
          "execution_count": 7
        }
      ]
    },
    {
      "cell_type": "code",
      "source": [
        "#5. Вивести тип елементів\n",
        "a.dtype"
      ],
      "metadata": {
        "colab": {
          "base_uri": "https://localhost:8080/"
        },
        "id": "4FzlKA63zqNb",
        "outputId": "33de43f6-238e-4442-f1d6-b27098719ff3"
      },
      "id": "4FzlKA63zqNb",
      "execution_count": null,
      "outputs": [
        {
          "output_type": "execute_result",
          "data": {
            "text/plain": [
              "dtype('int64')"
            ]
          },
          "metadata": {},
          "execution_count": 8
        }
      ]
    },
    {
      "cell_type": "code",
      "source": [
        "a.size"
      ],
      "metadata": {
        "colab": {
          "base_uri": "https://localhost:8080/"
        },
        "id": "qFWo0-fQBszO",
        "outputId": "94573c43-c42f-4f53-c74f-c73583dfc1b5"
      },
      "id": "qFWo0-fQBszO",
      "execution_count": null,
      "outputs": [
        {
          "output_type": "execute_result",
          "data": {
            "text/plain": [
              "6"
            ]
          },
          "metadata": {},
          "execution_count": 9
        }
      ]
    },
    {
      "cell_type": "code",
      "source": [
        "a.shape"
      ],
      "metadata": {
        "id": "___yIpI-Ch32",
        "outputId": "27019241-c711-4266-8a7b-6509e0a2bc2f",
        "colab": {
          "base_uri": "https://localhost:8080/"
        }
      },
      "id": "___yIpI-Ch32",
      "execution_count": null,
      "outputs": [
        {
          "output_type": "execute_result",
          "data": {
            "text/plain": [
              "(2, 3)"
            ]
          },
          "metadata": {},
          "execution_count": 9
        }
      ]
    },
    {
      "cell_type": "code",
      "execution_count": null,
      "id": "bd680e3e-4a8a-4b2c-9822-4a2c02e4be23",
      "metadata": {
        "tags": [],
        "colab": {
          "base_uri": "https://localhost:8080/"
        },
        "id": "bd680e3e-4a8a-4b2c-9822-4a2c02e4be23",
        "outputId": "bb86f0a6-faef-4a00-e437-211dccfe856a"
      },
      "outputs": [
        {
          "output_type": "execute_result",
          "data": {
            "text/plain": [
              "array([[1, 2, 3],\n",
              "       [4, 5, 6],\n",
              "       [7, 8, 9]])"
            ]
          },
          "metadata": {},
          "execution_count": 10
        }
      ],
      "source": [
        "\n",
        "# 6. Задаємо матрицю 3*3\n",
        "a = np.array([[1, 2, 3], [4, 5, 6], [7, 8, 9]])\n",
        "a"
      ]
    },
    {
      "cell_type": "code",
      "source": [
        "#7 Ще один варіант задати матрицю\n",
        "b = np.matrix([[1, 2, 3], [4, 5, 6], [7, 8, 9]])\n",
        "b"
      ],
      "metadata": {
        "colab": {
          "base_uri": "https://localhost:8080/"
        },
        "id": "NZnZNof-FlE7",
        "outputId": "3e13e067-17e1-4ac0-efae-e9cb1e554049"
      },
      "id": "NZnZNof-FlE7",
      "execution_count": null,
      "outputs": [
        {
          "output_type": "execute_result",
          "data": {
            "text/plain": [
              "matrix([[1, 2, 3],\n",
              "        [4, 5, 6],\n",
              "        [7, 8, 9]])"
            ]
          },
          "metadata": {},
          "execution_count": 11
        }
      ]
    },
    {
      "cell_type": "code",
      "execution_count": null,
      "id": "6550cd09-c6e7-4842-a13f-81c755b38252",
      "metadata": {
        "tags": [],
        "colab": {
          "base_uri": "https://localhost:8080/"
        },
        "id": "6550cd09-c6e7-4842-a13f-81c755b38252",
        "outputId": "e3f37950-2a5e-4123-c348-bb888b198e4b"
      },
      "outputs": [
        {
          "output_type": "execute_result",
          "data": {
            "text/plain": [
              "array([1, 5, 9])"
            ]
          },
          "metadata": {},
          "execution_count": 12
        }
      ],
      "source": [
        "# 8.  Побудуємо діагональ\n",
        "diag = np.diag(a)\n",
        "diag"
      ]
    },
    {
      "cell_type": "code",
      "source": [
        "# 9. Побудуємо діагональну матрицю на основі діагоналі\n",
        "a_diag = np.diag(diag)\n",
        "\n",
        "a_diag"
      ],
      "metadata": {
        "colab": {
          "base_uri": "https://localhost:8080/"
        },
        "id": "e7XLi9ALGHCO",
        "outputId": "4d6d2b8c-c441-4fdf-e9d5-70b646125d17"
      },
      "id": "e7XLi9ALGHCO",
      "execution_count": null,
      "outputs": [
        {
          "output_type": "execute_result",
          "data": {
            "text/plain": [
              "array([[1, 0, 0],\n",
              "       [0, 5, 0],\n",
              "       [0, 0, 9]])"
            ]
          },
          "metadata": {},
          "execution_count": 13
        }
      ]
    },
    {
      "cell_type": "code",
      "source": [
        "#10. Масив, вектор, заповнений нулями\n",
        "np.zeros(2)"
      ],
      "metadata": {
        "colab": {
          "base_uri": "https://localhost:8080/"
        },
        "id": "8LB8UdL7z8VI",
        "outputId": "7a823c73-4fc8-47d1-c2d8-0e7a0ef84b69"
      },
      "id": "8LB8UdL7z8VI",
      "execution_count": null,
      "outputs": [
        {
          "output_type": "execute_result",
          "data": {
            "text/plain": [
              "array([0., 0.])"
            ]
          },
          "metadata": {},
          "execution_count": 14
        }
      ]
    },
    {
      "cell_type": "code",
      "execution_count": null,
      "id": "122d5a0f-9305-4bbb-97c2-95e6351a9e12",
      "metadata": {
        "tags": [],
        "colab": {
          "base_uri": "https://localhost:8080/"
        },
        "id": "122d5a0f-9305-4bbb-97c2-95e6351a9e12",
        "outputId": "843edc6b-460d-4ce2-c284-0a6811b8f550"
      },
      "outputs": [
        {
          "output_type": "execute_result",
          "data": {
            "text/plain": [
              "array([[0, 0, 0],\n",
              "       [0, 0, 0],\n",
              "       [0, 0, 0]])"
            ]
          },
          "metadata": {},
          "execution_count": 15
        }
      ],
      "source": [
        "# 11. Створіть двовимірний масив (матрицю) розміром 3x3, заповніть його нулями та виведіть його значення.\n",
        "np.zeros((3, 3), dtype=int)\n"
      ]
    },
    {
      "cell_type": "code",
      "execution_count": null,
      "id": "a6aebb3e-8897-43c1-80c3-2b3cd741f9b5",
      "metadata": {
        "tags": [],
        "colab": {
          "base_uri": "https://localhost:8080/"
        },
        "id": "a6aebb3e-8897-43c1-80c3-2b3cd741f9b5",
        "outputId": "877a595b-9483-4ce9-aef5-70659edc5bd3"
      },
      "outputs": [
        {
          "output_type": "execute_result",
          "data": {
            "text/plain": [
              "array([[ 1,  4,  0,  3],\n",
              "       [ 0,  6, 10,  2],\n",
              "       [ 4,  8,  9,  7],\n",
              "       [ 3,  1,  0,  4]])"
            ]
          },
          "metadata": {},
          "execution_count": 16
        }
      ],
      "source": [
        "# 12. Створіть масив розміром 4x4, заповніть його випадковими цілими числами в діапазоні від 1 до 10 та виведіть його значення.\n",
        "np.random.randint(11, size=(4,4))\n"
      ]
    },
    {
      "cell_type": "code",
      "source": [
        "#13.  Масив (вектор) заповнений одиницями\n",
        "np.ones(2)"
      ],
      "metadata": {
        "colab": {
          "base_uri": "https://localhost:8080/"
        },
        "id": "7Sbqjcc10H4T",
        "outputId": "2cbe57cc-c022-4a82-f5a0-310a6d1772f3"
      },
      "id": "7Sbqjcc10H4T",
      "execution_count": null,
      "outputs": [
        {
          "output_type": "execute_result",
          "data": {
            "text/plain": [
              "array([1., 1.])"
            ]
          },
          "metadata": {},
          "execution_count": 17
        }
      ]
    },
    {
      "cell_type": "code",
      "source": [
        "# 14. Масив чисел від 2 до 9 з кроком 2\n",
        "np.arange(2, 9, 2)"
      ],
      "metadata": {
        "colab": {
          "base_uri": "https://localhost:8080/"
        },
        "id": "6XnIOqvn0gdi",
        "outputId": "d8d8348f-e651-45c7-b9ec-056a15624316"
      },
      "id": "6XnIOqvn0gdi",
      "execution_count": null,
      "outputs": [
        {
          "output_type": "execute_result",
          "data": {
            "text/plain": [
              "array([2, 4, 6, 8])"
            ]
          },
          "metadata": {},
          "execution_count": 18
        }
      ]
    },
    {
      "cell_type": "code",
      "source": [
        "np.linspace(0, 10, 5)"
      ],
      "metadata": {
        "colab": {
          "base_uri": "https://localhost:8080/"
        },
        "id": "6-BBkBDzOODd",
        "outputId": "cf125458-0e74-4b17-d6d4-3406a7684e92"
      },
      "id": "6-BBkBDzOODd",
      "execution_count": null,
      "outputs": [
        {
          "output_type": "execute_result",
          "data": {
            "text/plain": [
              "array([ 0. ,  2.5,  5. ,  7.5, 10. ])"
            ]
          },
          "metadata": {},
          "execution_count": 19
        }
      ]
    },
    {
      "cell_type": "code",
      "execution_count": null,
      "id": "09aea850-c1e2-435a-a1ec-d3f6dbc93f24",
      "metadata": {
        "tags": [],
        "colab": {
          "base_uri": "https://localhost:8080/"
        },
        "id": "09aea850-c1e2-435a-a1ec-d3f6dbc93f24",
        "outputId": "66afbb71-1197-4e7a-84f2-dbfae04bc6eb"
      },
      "outputs": [
        {
          "output_type": "execute_result",
          "data": {
            "text/plain": [
              "array([[1, 1, 1],\n",
              "       [1, 1, 1],\n",
              "       [1, 1, 1]])"
            ]
          },
          "metadata": {},
          "execution_count": 20
        }
      ],
      "source": [
        "#15. матриця з одиниць розмір 3*3\n",
        "matrix = np.ones((3, 3), dtype=int)\n",
        "matrix"
      ]
    },
    {
      "cell_type": "code",
      "execution_count": null,
      "id": "958777bf-5a19-411b-b825-54be00494482",
      "metadata": {
        "tags": [],
        "colab": {
          "base_uri": "https://localhost:8080/"
        },
        "id": "958777bf-5a19-411b-b825-54be00494482",
        "outputId": "4979213f-3da4-43de-ff19-699477187f9e"
      },
      "outputs": [
        {
          "output_type": "execute_result",
          "data": {
            "text/plain": [
              "array([[1, 2, 3],\n",
              "       [4, 5, 6],\n",
              "       [7, 8, 9]])"
            ]
          },
          "metadata": {},
          "execution_count": 23
        }
      ],
      "source": [
        "# 16. Транспонувати матрицю\n",
        "a = np.array([[1, 2, 3], [4, 5, 6], [7, 8, 9]])\n",
        "a\n"
      ]
    },
    {
      "cell_type": "code",
      "source": [
        " a.transpose()"
      ],
      "metadata": {
        "colab": {
          "base_uri": "https://localhost:8080/"
        },
        "id": "Ic1aUryIInwa",
        "outputId": "00161456-56cb-4d1e-ce9d-673b66447198"
      },
      "id": "Ic1aUryIInwa",
      "execution_count": null,
      "outputs": [
        {
          "output_type": "execute_result",
          "data": {
            "text/plain": [
              "array([[1, 4, 7],\n",
              "       [2, 5, 8],\n",
              "       [3, 6, 9]])"
            ]
          },
          "metadata": {},
          "execution_count": 24
        }
      ]
    },
    {
      "cell_type": "code",
      "source": [
        "a.T"
      ],
      "metadata": {
        "colab": {
          "base_uri": "https://localhost:8080/"
        },
        "id": "YNJzzcKMItmH",
        "outputId": "2de21ff2-c7ca-4b2f-8cd2-8c568f00125f"
      },
      "id": "YNJzzcKMItmH",
      "execution_count": null,
      "outputs": [
        {
          "output_type": "execute_result",
          "data": {
            "text/plain": [
              "array([[1, 4, 7],\n",
              "       [2, 5, 8],\n",
              "       [3, 6, 9]])"
            ]
          },
          "metadata": {},
          "execution_count": 25
        }
      ]
    },
    {
      "cell_type": "code",
      "source": [
        "# 17. Визначник матриці\n",
        "a = np.array([[1, 2], [3, 4]])\n",
        "a"
      ],
      "metadata": {
        "colab": {
          "base_uri": "https://localhost:8080/"
        },
        "id": "nA18b-4fI2dr",
        "outputId": "2a1e5474-41e8-4622-b407-1ee9b243b5f4"
      },
      "id": "nA18b-4fI2dr",
      "execution_count": null,
      "outputs": [
        {
          "output_type": "execute_result",
          "data": {
            "text/plain": [
              "array([[1, 2],\n",
              "       [3, 4]])"
            ]
          },
          "metadata": {},
          "execution_count": 26
        }
      ]
    },
    {
      "cell_type": "code",
      "source": [
        "a_det = np.linalg.det(a)\n",
        "a_det"
      ],
      "metadata": {
        "colab": {
          "base_uri": "https://localhost:8080/"
        },
        "id": "4JP7zq4tl1hv",
        "outputId": "7432bef6-4f8b-4765-b630-b51585250fd8"
      },
      "id": "4JP7zq4tl1hv",
      "execution_count": null,
      "outputs": [
        {
          "output_type": "execute_result",
          "data": {
            "text/plain": [
              "np.float64(-2.0000000000000004)"
            ]
          },
          "metadata": {},
          "execution_count": 27
        }
      ]
    },
    {
      "cell_type": "code",
      "execution_count": null,
      "id": "ca896f36-1ce2-43d7-be73-e3d3c10de1f4",
      "metadata": {
        "tags": [],
        "id": "ca896f36-1ce2-43d7-be73-e3d3c10de1f4",
        "outputId": "39b49a8c-7bf5-4c03-a9ef-a5c440d35cbf",
        "colab": {
          "base_uri": "https://localhost:8080/"
        }
      },
      "outputs": [
        {
          "output_type": "execute_result",
          "data": {
            "text/plain": [
              "matrix([[ 3,  6,  9],\n",
              "        [12, 15, 18]])"
            ]
          },
          "metadata": {},
          "execution_count": 28
        }
      ],
      "source": [
        "# 18. Множення матриці на число\n",
        "a = np.matrix([[1, 2, 3], [4, 5, 6]])\n",
        "c = 3 * a\n",
        "c"
      ]
    },
    {
      "cell_type": "code",
      "execution_count": null,
      "id": "532bc45f-118c-4422-b518-70d105e0ec59",
      "metadata": {
        "tags": [],
        "id": "532bc45f-118c-4422-b518-70d105e0ec59",
        "outputId": "44c95f5d-4428-4eba-efa5-e799d60bc264",
        "colab": {
          "base_uri": "https://localhost:8080/"
        }
      },
      "outputs": [
        {
          "output_type": "execute_result",
          "data": {
            "text/plain": [
              "matrix([[ 9,  7,  8],\n",
              "        [14, 11, 19]])"
            ]
          },
          "metadata": {},
          "execution_count": 29
        }
      ],
      "source": [
        "# 19. Додавання матриць\n",
        "a = np.matrix([[1, 6, 3], [8, 2, 7]])\n",
        "b = np.matrix([[8, 1, 5], [6, 9, 12]])\n",
        "c = a + b\n",
        "c"
      ]
    },
    {
      "cell_type": "code",
      "execution_count": null,
      "id": "8e14ca88-0aac-4eca-8113-32df8572e31e",
      "metadata": {
        "tags": [],
        "id": "8e14ca88-0aac-4eca-8113-32df8572e31e",
        "outputId": "72566360-b3dc-4806-bdc1-f8516e1cfc30",
        "colab": {
          "base_uri": "https://localhost:8080/"
        }
      },
      "outputs": [
        {
          "output_type": "execute_result",
          "data": {
            "text/plain": [
              "matrix([[25, 10],\n",
              "        [73, 37]])"
            ]
          },
          "metadata": {},
          "execution_count": 30
        }
      ],
      "source": [
        "# 20. Добуток матриць\n",
        "a = np.matrix([[1, 2], [4, 5]])\n",
        "b = np.matrix([[7, 8], [9, 1]])\n",
        "c = np.dot(a, b)\n",
        "c"
      ]
    },
    {
      "cell_type": "code",
      "execution_count": null,
      "id": "27c639d7-5615-4049-8cf2-0de1a0e7d333",
      "metadata": {
        "tags": [],
        "id": "27c639d7-5615-4049-8cf2-0de1a0e7d333",
        "outputId": "e342590b-e783-4fea-a17e-5456cefa68c0",
        "colab": {
          "base_uri": "https://localhost:8080/"
        }
      },
      "outputs": [
        {
          "output_type": "execute_result",
          "data": {
            "text/plain": [
              "matrix([[ 0.45454545,  0.27272727],\n",
              "        [-0.18181818,  0.09090909]])"
            ]
          },
          "metadata": {},
          "execution_count": 31
        }
      ],
      "source": [
        "# 21 Обернена матриця\n",
        "a = np.matrix([[1, -3], [2, 5]])\n",
        "a_inv = np.linalg.inv(a)\n",
        "a_inv"
      ]
    },
    {
      "cell_type": "code",
      "execution_count": null,
      "id": "abd80bee-8ecc-490e-af63-ea61f463b6bb",
      "metadata": {
        "tags": [],
        "id": "abd80bee-8ecc-490e-af63-ea61f463b6bb",
        "outputId": "dd848fef-cd5a-4726-9181-5b48e912b9dd",
        "colab": {
          "base_uri": "https://localhost:8080/"
        }
      },
      "outputs": [
        {
          "output_type": "execute_result",
          "data": {
            "text/plain": [
              "np.int64(2)"
            ]
          },
          "metadata": {},
          "execution_count": 32
        }
      ],
      "source": [
        "# 22. Ранг матриці\n",
        "rank = np.linalg.matrix_rank(a)\n",
        "rank"
      ]
    },
    {
      "cell_type": "code",
      "execution_count": null,
      "id": "47978d34-9c95-4917-b882-ecf5b5f54b56",
      "metadata": {
        "tags": [],
        "id": "47978d34-9c95-4917-b882-ecf5b5f54b56",
        "outputId": "94be7604-ccdc-49be-b742-047987bd6f89",
        "colab": {
          "base_uri": "https://localhost:8080/"
        }
      },
      "outputs": [
        {
          "output_type": "stream",
          "name": "stdout",
          "text": [
            "Поелементний добуток матриць:\n",
            "[[ 8  6 15]\n",
            " [48 18 84]]\n"
          ]
        }
      ],
      "source": [
        "a = np.array([[1, 6, 3], [8, 2, 7]])\n",
        "b = np.array([[8, 1, 5], [6, 9, 12]])\n",
        "\n",
        "c1 = a*b\n",
        "print(\"Поелементний добуток матриць:\")\n",
        "print(c1)"
      ]
    },
    {
      "cell_type": "code",
      "execution_count": null,
      "id": "bbe73fcd-1898-4321-afbd-0dfd6bcc5a5d",
      "metadata": {
        "tags": [],
        "id": "bbe73fcd-1898-4321-afbd-0dfd6bcc5a5d",
        "outputId": "c02036ce-362d-4ef3-f158-11d7efc4762b",
        "colab": {
          "base_uri": "https://localhost:8080/"
        }
      },
      "outputs": [
        {
          "output_type": "stream",
          "name": "stdout",
          "text": [
            "Матричний метод: [ 1.   1.2 -1.2]\n",
            "Метод Крамера: [np.float64(1.0), np.float64(1.2), np.float64(-1.2)]\n",
            "Метод Гауса: [ 1.   1.2 -1.2]\n"
          ]
        }
      ],
      "source": [
        "#23 Розв*язання систем лінійних рівнянь.\n",
        "\n",
        "import numpy as np\n",
        "\n",
        "# Матричний метод\n",
        "def matrix_method(coefficients, constants):\n",
        "    inverse_matrix = np.linalg.inv(coefficients)\n",
        "    return np.dot(inverse_matrix, constants)\n",
        "\n",
        "# Метод Крамера\n",
        "def cramer_method(coefficients, constants):\n",
        "    det_coefficients = np.linalg.det(coefficients)\n",
        "    solutions = []\n",
        "    for i in range(len(coefficients)):\n",
        "        modified_coefficients = np.copy(coefficients)\n",
        "        modified_coefficients[:, i] = constants\n",
        "        solutions.append(round(np.linalg.det(modified_coefficients) / det_coefficients, 1))  # Округлюємо до десятих\n",
        "    return solutions\n",
        "\n",
        "#Метод Гауса\n",
        "\n",
        "def gauss_method(a, b):\n",
        "    n = len(b)\n",
        "\n",
        "    for k in range(0, n-1):\n",
        "        for i in range(k+1, n):\n",
        "            if a[i, k] != 0.0:\n",
        "                lam = a[i, k] / a[k, k]\n",
        "                a[i, k+1:n] = a[i, k+1:n] - lam * a[k, k+1:n]\n",
        "                b[i] = b[i] - lam * b[k]\n",
        "\n",
        "    x = np.zeros(n)\n",
        "    for k in range(n-1, -1, -1):\n",
        "        x[k] = (b[k] - np.dot(a[k, k+1:n], x[k+1:n])) / a[k, k]\n",
        "\n",
        "    return x\n",
        "\n",
        "def main():\n",
        "    # Приклад матриці A и вектора B для розв*язку системи рівнянь Ax = B\n",
        "    a = np.array([[1.0, 1.0, 1.0],\n",
        "                  [1.0, -1.0, -1.0],\n",
        "                  [1.0, -2.0, 3.0]])\n",
        "\n",
        "    b = np.array([1.0, 1.0, -5.0])\n",
        "\n",
        "    # Матричний метод\n",
        "    x_matrix = matrix_method(a, b)\n",
        "    print(\"Матричний метод:\", x_matrix)\n",
        "\n",
        "    # Метод Крамера\n",
        "    x_cramer = cramer_method(a, b)\n",
        "    print(\"Метод Крамера:\", x_cramer)\n",
        "\n",
        "    # Метод Гауса\n",
        "    x_gauss = gauss_method(a, b)\n",
        "    print(\"Метод Гауса:\", x_gauss)\n",
        "\n",
        "\n",
        "if __name__ == \"__main__\":\n",
        "    main()\n"
      ]
    },
    {
      "cell_type": "code",
      "execution_count": null,
      "id": "9585fa28-28de-420e-bbae-f6607020300f",
      "metadata": {
        "tags": [],
        "id": "9585fa28-28de-420e-bbae-f6607020300f",
        "outputId": "1df12510-0639-4aff-9250-736a2eafbab6",
        "colab": {
          "base_uri": "https://localhost:8080/"
        }
      },
      "outputs": [
        {
          "output_type": "stream",
          "name": "stdout",
          "text": [
            "Solving a system of linear algebraic equations by Cramer's method:\n",
            "x = [np.float64(506.7), np.float64(566.7), np.float64(426.7)]\n",
            "Solving a system of linear algebraic equations by Gaussian elimination method:\n",
            "x = [506.7 566.7 426.7]\n",
            "Solving a system of linear algebraic equations by matrix method:\n",
            "x = [506.7 566.7 426.7]\n"
          ]
        }
      ],
      "source": [
        "#Приклад 2 Розв*язання систем\n",
        "\n",
        "import numpy as np\n",
        "\n",
        "# Система рівнянь\n",
        "a = np.array([[1, 1, 1], [0, 1, -1], [1, 0, -1]])\n",
        "b = np.array([1500, 140, 80])\n",
        "\n",
        "# Метод Крамера\n",
        "def kramer(a, b):\n",
        "    det_a = np.linalg.det(a)\n",
        "    if det_a != 0:\n",
        "        solutions = []\n",
        "        for i in range(len(a)):\n",
        "            modified_a = np.copy(a)\n",
        "            modified_a[:, i] = b\n",
        "            solutions.append(round(np.linalg.det(modified_a) / det_a, 1))\n",
        "\n",
        "        print('Solving a system of linear algebraic equations by Cramer\\'s method:')\n",
        "        print('x =', solutions)\n",
        "\n",
        "    else:\n",
        "        print('Determinant equals zero, the system has no solutions')\n",
        "    return solutions\n",
        "\n",
        "# Метод Гауса\n",
        "def gaussian_elimination(a, b):\n",
        "    n = len(b)\n",
        "    x = np.zeros(n)\n",
        "\n",
        "    # Прямий хід\n",
        "    for k in range(n-1):\n",
        "        for i in range(k+1, n):\n",
        "            factor = a[i,k] / a[k,k]\n",
        "            for j in range(k, n):\n",
        "                a[i,j] -= factor * a[k,j]\n",
        "            b[i] -= factor * b[k]\n",
        "\n",
        "    # Обернений хід\n",
        "    x[n-1] = b[n-1] / a[n-1, n-1]\n",
        "    for i in range(n-2, -1, -1):\n",
        "        x[i] = (b[i] - np.dot(a[i,i+1:], x[i+1:])) / a[i,i]\n",
        "\n",
        "    print('Solving a system of linear algebraic equations by Gaussian elimination method:')\n",
        "    print('x =', x.round(1))\n",
        "\n",
        "# Матричний метод\n",
        "def matrix_method(a, b):\n",
        "    x = np.linalg.inv(a).dot(b)\n",
        "    print('Solving a system of linear algebraic equations by matrix method:')\n",
        "    print('x =', x.round(1))\n",
        "\n",
        "# Виклик функцій для розв'язання системи\n",
        "kramer(a, b)\n",
        "gaussian_elimination(a, b)\n",
        "matrix_method(a, b)\n"
      ]
    },
    {
      "cell_type": "code",
      "execution_count": null,
      "id": "834813ba-207f-4b01-af14-752ccb0ab67c",
      "metadata": {
        "tags": [],
        "id": "834813ba-207f-4b01-af14-752ccb0ab67c",
        "outputId": "50090929-5dd4-4bf6-bd6d-c18d384d3126",
        "colab": {
          "base_uri": "https://localhost:8080/"
        }
      },
      "outputs": [
        {
          "output_type": "stream",
          "name": "stdout",
          "text": [
            "Перевірка:\n",
            "x = [506.7 566.7 426.7]\n"
          ]
        }
      ],
      "source": [
        "x = np.linalg.solve(a, b)\n",
        "print('Перевірка:')\n",
        "print('x =', x.round(1))"
      ]
    },
    {
      "cell_type": "code",
      "execution_count": null,
      "id": "3627a777-afc8-4f2e-bdbb-65993bade764",
      "metadata": {
        "id": "3627a777-afc8-4f2e-bdbb-65993bade764",
        "colab": {
          "base_uri": "https://localhost:8080/"
        },
        "outputId": "ad3865c3-dc99-42a3-fafa-b34e36f1391c"
      },
      "outputs": [
        {
          "output_type": "stream",
          "name": "stdout",
          "text": [
            "Власні числа:\n",
            "[-4.          1.99999997  2.00000003]\n",
            "\n",
            "Власні вектори:\n",
            "[[-5.57086015e-01  1.11219577e-08 -1.11219579e-08]\n",
            " [-7.42781353e-01  7.07106776e-01  7.07106787e-01]\n",
            " [ 3.71390676e-01  7.07106787e-01  7.07106776e-01]]\n"
          ]
        }
      ],
      "source": [
        "import numpy as np\n",
        "\n",
        "A = np.array([[0, -2, 2],\n",
        "              [-4,  0, 2],\n",
        "              [0, 2, 0]])\n",
        "\n",
        "\n",
        "eigenvalues, eigenvectors = np.linalg.eig(A)\n",
        "\n",
        "\n",
        "print(\"Власні числа:\")\n",
        "print(eigenvalues)\n",
        "print(\"\\nВласні вектори:\")\n",
        "print(eigenvectors)"
      ]
    },
    {
      "cell_type": "code",
      "execution_count": null,
      "id": "35f26819-d76a-45b0-9383-35005eb4f776",
      "metadata": {
        "id": "35f26819-d76a-45b0-9383-35005eb4f776"
      },
      "outputs": [],
      "source": []
    }
  ],
  "metadata": {
    "kernelspec": {
      "display_name": "Python 3 (ipykernel)",
      "language": "python",
      "name": "python3"
    },
    "language_info": {
      "codemirror_mode": {
        "name": "ipython",
        "version": 3
      },
      "file_extension": ".py",
      "mimetype": "text/x-python",
      "name": "python",
      "nbconvert_exporter": "python",
      "pygments_lexer": "ipython3",
      "version": "3.9.2"
    },
    "colab": {
      "provenance": []
    }
  },
  "nbformat": 4,
  "nbformat_minor": 5
}