{
 "cells": [
  {
   "cell_type": "code",
   "execution_count": null,
   "metadata": {
    "vscode": {
     "languageId": "plaintext"
    }
   },
   "outputs": [],
   "source": [
    "from deepfloyd_if.modules import IFModel\n",
    "\n",
    "model = IFModel.from_pretrained(\"DeepFloyd/IF-I-XL-v1.0\", device=\"cuda\")  # або \"cpu\"\n",
    "\n",
    "images = model.generate_text2img(\n",
    "    '''cyberpunk train, 4k photo''',\n",
    "    num_steps=100,\n",
    "    batch_size=1,\n",
    "    guidance_scale=4,\n",
    "    h=768,\n",
    "    w=768,\n",
    "    sampler='p_sampler',\n",
    "    prior_cf_scale=4,\n",
    "    prior_steps=5\n",
    ")\n",
    "\n",
    "images[0].show()"
   ]
  }
 ],
 "metadata": {
  "language_info": {
   "name": "python"
  }
 },
 "nbformat": 4,
 "nbformat_minor": 2
}
