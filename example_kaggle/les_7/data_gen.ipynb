{
 "cells": [
  {
   "cell_type": "code",
   "execution_count": 2,
   "metadata": {},
   "outputs": [],
   "source": [
    "import numpy as np\n",
    "import scipy.io\n",
    "import os"
   ]
  },
  {
   "cell_type": "code",
   "execution_count": 4,
   "metadata": {},
   "outputs": [],
   "source": [
    "# os.chdir('/content')  # закоментуйте або видаліть цей рядок, якщо він не потрібний\n"
   ]
  },
  {
   "cell_type": "code",
   "execution_count": 5,
   "metadata": {},
   "outputs": [
    {
     "name": "stdout",
     "output_type": "stream",
     "text": [
      "Файл movieParams.mat згенеровано.\n",
      "Файл movie_ids.txt згенеровано.\n",
      "Файл movies.mat згенеровано.\n"
     ]
    }
   ],
   "source": [
    "# Встановлюємо робочу директорію, якщо потрібно (наприклад, в Colab це може бути /content)\n",
    "path = '/home/sergio/Desktop/DataScienceHW/example_kaggle/les_7'\n",
    "os.chdir(path)\n",
    "\n",
    "# ===============================\n",
    "# 1. Генерація файлу movieParams.mat\n",
    "# Припустимо, у нас є 5 фільмів, 4 користувача та 3 ознаки\n",
    "num_movies = 5\n",
    "num_users = 4\n",
    "num_features = 3\n",
    "\n",
    "# Генеруємо випадкові дані для ознак фільмів та переваг користувачів\n",
    "X = np.random.rand(num_movies, num_features)\n",
    "Theta = np.random.rand(num_users, num_features)\n",
    "\n",
    "# Пакуємо параметри в словник і зберігаємо у .mat файлі\n",
    "movieParams = {'X': X, 'Theta': Theta}\n",
    "scipy.io.savemat('movieParams.mat', movieParams)\n",
    "print(\"Файл movieParams.mat згенеровано.\")\n",
    "\n",
    "# ===============================\n",
    "# 2. Генерація файлу movie_ids.txt\n",
    "# Створимо прикладний список, де кожен рядок містить ID фільму та його назву\n",
    "movie_ids = [\n",
    "    \"1 Toy Story (1995)\",\n",
    "    \"2 Jumanji (1995)\",\n",
    "    \"3 Grumpier Old Men (1995)\",\n",
    "    \"4 Waiting to Exhale (1995)\",\n",
    "    \"5 Father of the Bride Part II (1995)\"\n",
    "]\n",
    "\n",
    "with open('movie_ids.txt', 'w', encoding='utf-8') as f:\n",
    "    for line in movie_ids:\n",
    "        f.write(line + '\\n')\n",
    "print(\"Файл movie_ids.txt згенеровано.\")\n",
    "\n",
    "# ===============================\n",
    "# 3. Генерація файлу movies.mat\n",
    "# Приклад: створимо матриці оцінок (Y) та індикаторну матрицю (R), де R[i,j] = 1, якщо користувач j оцінив фільм i.\n",
    "Y = np.array([\n",
    "    [5, 4, 0, 0],\n",
    "    [3, 0, 0, 0],\n",
    "    [4, 0, 0, 0],\n",
    "    [3, 0, 0, 0],\n",
    "    [3, 0, 0, 0]\n",
    "])\n",
    "R = (Y != 0).astype(int)  # матриця індикаторів\n",
    "\n",
    "movies_data = {'Y': Y, 'R': R}\n",
    "scipy.io.savemat('movies.mat', movies_data)\n",
    "print(\"Файл movies.mat згенеровано.\")\n"
   ]
  },
  {
   "cell_type": "code",
   "execution_count": null,
   "metadata": {},
   "outputs": [],
   "source": []
  }
 ],
 "metadata": {
  "kernelspec": {
   "display_name": "Python 3",
   "language": "python",
   "name": "python3"
  },
  "language_info": {
   "codemirror_mode": {
    "name": "ipython",
    "version": 3
   },
   "file_extension": ".py",
   "mimetype": "text/x-python",
   "name": "python",
   "nbconvert_exporter": "python",
   "pygments_lexer": "ipython3",
   "version": "3.9.7"
  }
 },
 "nbformat": 4,
 "nbformat_minor": 2
}
