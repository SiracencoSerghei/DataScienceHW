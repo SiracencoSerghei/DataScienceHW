{
  "cells": [
    {
      "cell_type": "markdown",
      "metadata": {
        "id": "view-in-github",
        "colab_type": "text"
      },
      "source": [
        "<a href=\"https://colab.research.google.com/github/SiracencoSerghei/DataScienceHW/blob/main/example_kaggle/les_7/les_7_fashion.ipynb\" target=\"_parent\"><img src=\"https://colab.research.google.com/assets/colab-badge.svg\" alt=\"Open In Colab\"/></a>"
      ]
    },
    {
      "cell_type": "code",
      "source": [
        "!pip install scikit-surprise"
      ],
      "metadata": {
        "id": "7eitL1ZAUPFu",
        "outputId": "2d349f71-ce40-4075-a22e-7bcf7b5d3f94",
        "colab": {
          "base_uri": "https://localhost:8080/"
        }
      },
      "execution_count": 21,
      "outputs": [
        {
          "output_type": "stream",
          "name": "stdout",
          "text": [
            "Requirement already satisfied: scikit-surprise in /usr/local/lib/python3.11/dist-packages (1.1.4)\n",
            "Requirement already satisfied: joblib>=1.2.0 in /usr/local/lib/python3.11/dist-packages (from scikit-surprise) (1.4.2)\n",
            "Requirement already satisfied: numpy>=1.19.5 in /usr/local/lib/python3.11/dist-packages (from scikit-surprise) (1.26.4)\n",
            "Requirement already satisfied: scipy>=1.6.0 in /usr/local/lib/python3.11/dist-packages (from scikit-surprise) (1.13.1)\n"
          ]
        }
      ]
    },
    {
      "cell_type": "code",
      "execution_count": 22,
      "metadata": {
        "id": "UWc9oBs2UE_T"
      },
      "outputs": [],
      "source": [
        "import pandas as pd\n",
        "import os\n",
        "\n",
        "from surprise import Dataset, Reader, SVD\n",
        "from sklearn.feature_extraction.text import TfidfVectorizer\n",
        "from sklearn.metrics.pairwise import linear_kernel\n"
      ]
    },
    {
      "cell_type": "code",
      "execution_count": 23,
      "metadata": {
        "id": "79BFtfV6UE_U"
      },
      "outputs": [],
      "source": [
        "# # Set the path to the base folder containing the \"example_kaggle/les_7/fashion_products\" folder.\n",
        "# # Adjust the path as needed.\n",
        "# path = '/home/sergio/Desktop/DataScienceHW/example_kaggle/les_7'\n",
        "\n",
        "# # Build paths to the MovieLens CSV files\n",
        "# path = os.path.join(path, 'fashion_products')\n",
        "# fashion_file = os.path.join(path, 'fashion_products.csv')\n",
        "# fashion_file\n"
      ]
    },
    {
      "cell_type": "code",
      "source": [
        "from google.colab import files\n",
        "files.upload()"
      ],
      "metadata": {
        "id": "o-1Idc0vV6xY",
        "outputId": "a642f253-8463-4f5d-bb7b-e0faf3a58d7d",
        "colab": {
          "base_uri": "https://localhost:8080/",
          "height": 1000
        }
      },
      "execution_count": 24,
      "outputs": [
        {
          "output_type": "display_data",
          "data": {
            "text/plain": [
              "<IPython.core.display.HTML object>"
            ],
            "text/html": [
              "\n",
              "     <input type=\"file\" id=\"files-231e0433-8c52-457d-925c-1d8671765d0b\" name=\"files[]\" multiple disabled\n",
              "        style=\"border:none\" />\n",
              "     <output id=\"result-231e0433-8c52-457d-925c-1d8671765d0b\">\n",
              "      Upload widget is only available when the cell has been executed in the\n",
              "      current browser session. Please rerun this cell to enable.\n",
              "      </output>\n",
              "      <script>// Copyright 2017 Google LLC\n",
              "//\n",
              "// Licensed under the Apache License, Version 2.0 (the \"License\");\n",
              "// you may not use this file except in compliance with the License.\n",
              "// You may obtain a copy of the License at\n",
              "//\n",
              "//      http://www.apache.org/licenses/LICENSE-2.0\n",
              "//\n",
              "// Unless required by applicable law or agreed to in writing, software\n",
              "// distributed under the License is distributed on an \"AS IS\" BASIS,\n",
              "// WITHOUT WARRANTIES OR CONDITIONS OF ANY KIND, either express or implied.\n",
              "// See the License for the specific language governing permissions and\n",
              "// limitations under the License.\n",
              "\n",
              "/**\n",
              " * @fileoverview Helpers for google.colab Python module.\n",
              " */\n",
              "(function(scope) {\n",
              "function span(text, styleAttributes = {}) {\n",
              "  const element = document.createElement('span');\n",
              "  element.textContent = text;\n",
              "  for (const key of Object.keys(styleAttributes)) {\n",
              "    element.style[key] = styleAttributes[key];\n",
              "  }\n",
              "  return element;\n",
              "}\n",
              "\n",
              "// Max number of bytes which will be uploaded at a time.\n",
              "const MAX_PAYLOAD_SIZE = 100 * 1024;\n",
              "\n",
              "function _uploadFiles(inputId, outputId) {\n",
              "  const steps = uploadFilesStep(inputId, outputId);\n",
              "  const outputElement = document.getElementById(outputId);\n",
              "  // Cache steps on the outputElement to make it available for the next call\n",
              "  // to uploadFilesContinue from Python.\n",
              "  outputElement.steps = steps;\n",
              "\n",
              "  return _uploadFilesContinue(outputId);\n",
              "}\n",
              "\n",
              "// This is roughly an async generator (not supported in the browser yet),\n",
              "// where there are multiple asynchronous steps and the Python side is going\n",
              "// to poll for completion of each step.\n",
              "// This uses a Promise to block the python side on completion of each step,\n",
              "// then passes the result of the previous step as the input to the next step.\n",
              "function _uploadFilesContinue(outputId) {\n",
              "  const outputElement = document.getElementById(outputId);\n",
              "  const steps = outputElement.steps;\n",
              "\n",
              "  const next = steps.next(outputElement.lastPromiseValue);\n",
              "  return Promise.resolve(next.value.promise).then((value) => {\n",
              "    // Cache the last promise value to make it available to the next\n",
              "    // step of the generator.\n",
              "    outputElement.lastPromiseValue = value;\n",
              "    return next.value.response;\n",
              "  });\n",
              "}\n",
              "\n",
              "/**\n",
              " * Generator function which is called between each async step of the upload\n",
              " * process.\n",
              " * @param {string} inputId Element ID of the input file picker element.\n",
              " * @param {string} outputId Element ID of the output display.\n",
              " * @return {!Iterable<!Object>} Iterable of next steps.\n",
              " */\n",
              "function* uploadFilesStep(inputId, outputId) {\n",
              "  const inputElement = document.getElementById(inputId);\n",
              "  inputElement.disabled = false;\n",
              "\n",
              "  const outputElement = document.getElementById(outputId);\n",
              "  outputElement.innerHTML = '';\n",
              "\n",
              "  const pickedPromise = new Promise((resolve) => {\n",
              "    inputElement.addEventListener('change', (e) => {\n",
              "      resolve(e.target.files);\n",
              "    });\n",
              "  });\n",
              "\n",
              "  const cancel = document.createElement('button');\n",
              "  inputElement.parentElement.appendChild(cancel);\n",
              "  cancel.textContent = 'Cancel upload';\n",
              "  const cancelPromise = new Promise((resolve) => {\n",
              "    cancel.onclick = () => {\n",
              "      resolve(null);\n",
              "    };\n",
              "  });\n",
              "\n",
              "  // Wait for the user to pick the files.\n",
              "  const files = yield {\n",
              "    promise: Promise.race([pickedPromise, cancelPromise]),\n",
              "    response: {\n",
              "      action: 'starting',\n",
              "    }\n",
              "  };\n",
              "\n",
              "  cancel.remove();\n",
              "\n",
              "  // Disable the input element since further picks are not allowed.\n",
              "  inputElement.disabled = true;\n",
              "\n",
              "  if (!files) {\n",
              "    return {\n",
              "      response: {\n",
              "        action: 'complete',\n",
              "      }\n",
              "    };\n",
              "  }\n",
              "\n",
              "  for (const file of files) {\n",
              "    const li = document.createElement('li');\n",
              "    li.append(span(file.name, {fontWeight: 'bold'}));\n",
              "    li.append(span(\n",
              "        `(${file.type || 'n/a'}) - ${file.size} bytes, ` +\n",
              "        `last modified: ${\n",
              "            file.lastModifiedDate ? file.lastModifiedDate.toLocaleDateString() :\n",
              "                                    'n/a'} - `));\n",
              "    const percent = span('0% done');\n",
              "    li.appendChild(percent);\n",
              "\n",
              "    outputElement.appendChild(li);\n",
              "\n",
              "    const fileDataPromise = new Promise((resolve) => {\n",
              "      const reader = new FileReader();\n",
              "      reader.onload = (e) => {\n",
              "        resolve(e.target.result);\n",
              "      };\n",
              "      reader.readAsArrayBuffer(file);\n",
              "    });\n",
              "    // Wait for the data to be ready.\n",
              "    let fileData = yield {\n",
              "      promise: fileDataPromise,\n",
              "      response: {\n",
              "        action: 'continue',\n",
              "      }\n",
              "    };\n",
              "\n",
              "    // Use a chunked sending to avoid message size limits. See b/62115660.\n",
              "    let position = 0;\n",
              "    do {\n",
              "      const length = Math.min(fileData.byteLength - position, MAX_PAYLOAD_SIZE);\n",
              "      const chunk = new Uint8Array(fileData, position, length);\n",
              "      position += length;\n",
              "\n",
              "      const base64 = btoa(String.fromCharCode.apply(null, chunk));\n",
              "      yield {\n",
              "        response: {\n",
              "          action: 'append',\n",
              "          file: file.name,\n",
              "          data: base64,\n",
              "        },\n",
              "      };\n",
              "\n",
              "      let percentDone = fileData.byteLength === 0 ?\n",
              "          100 :\n",
              "          Math.round((position / fileData.byteLength) * 100);\n",
              "      percent.textContent = `${percentDone}% done`;\n",
              "\n",
              "    } while (position < fileData.byteLength);\n",
              "  }\n",
              "\n",
              "  // All done.\n",
              "  yield {\n",
              "    response: {\n",
              "      action: 'complete',\n",
              "    }\n",
              "  };\n",
              "}\n",
              "\n",
              "scope.google = scope.google || {};\n",
              "scope.google.colab = scope.google.colab || {};\n",
              "scope.google.colab._files = {\n",
              "  _uploadFiles,\n",
              "  _uploadFilesContinue,\n",
              "};\n",
              "})(self);\n",
              "</script> "
            ]
          },
          "metadata": {}
        },
        {
          "output_type": "stream",
          "name": "stdout",
          "text": [
            "Saving fashion_products.csv to fashion_products (2).csv\n"
          ]
        },
        {
          "output_type": "execute_result",
          "data": {
            "text/plain": [
              "{'fashion_products (2).csv': b\"User ID,Product ID,Product Name,Brand,Category,Price,Rating,Color,Size\\r\\n19,1,Dress,Adidas,Men's Fashion,40,1.0431592108361825,Black,XL\\r\\n97,2,Shoes,H&M,Women's Fashion,82,4.026416271141911,Black,L\\r\\n25,3,Dress,Adidas,Women's Fashion,44,3.337937559377053,Yellow,XL\\r\\n57,4,Shoes,Zara,Men's Fashion,23,1.0495229563128543,White,S\\r\\n79,5,T-shirt,Adidas,Men's Fashion,79,4.302773408398684,Black,M\\r\\n98,6,Dress,Adidas,Men's Fashion,47,1.3795657395330458,Yellow,L\\r\\n16,7,Jeans,Gucci,Men's Fashion,37,1.3567503746842564,White,XL\\r\\n63,8,Sweater,Zara,Kids' Fashion,64,4.36030328941572,Blue,XL\\r\\n96,9,Sweater,H&M,Men's Fashion,53,4.466181876278437,Green,XL\\r\\n36,10,T-shirt,Zara,Kids' Fashion,55,4.093234402033421,White,XL\\r\\n69,11,T-shirt,Adidas,Men's Fashion,51,1.1609879573062742,Red,S\\r\\n87,12,Sweater,Gucci,Kids' Fashion,91,2.699735537578599,Yellow,M\\r\\n9,13,Jeans,Nike,Kids' Fashion,35,1.6011935800534172,Red,M\\r\\n50,14,Dress,Zara,Women's Fashion,34,2.921004203947349,White,L\\r\\n31,15,Shoes,Zara,Men's Fashion,54,3.670412239336502,Yellow,M\\r\\n37,16,Dress,Adidas,Women's Fashion,27,1.4227161428043575,Blue,S\\r\\n41,17,Dress,Gucci,Women's Fashion,75,1.4806321322978917,Blue,XL\\r\\n15,18,Jeans,Gucci,Women's Fashion,73,4.498244680519686,Red,XL\\r\\n84,19,Shoes,Gucci,Women's Fashion,54,3.278340556246379,White,M\\r\\n56,20,Dress,Gucci,Men's Fashion,53,3.7852452454057937,Green,L\\r\\n87,21,Jeans,H&M,Men's Fashion,56,2.6095873530986724,Yellow,S\\r\\n56,22,Jeans,Gucci,Women's Fashion,89,4.568632342868542,Green,L\\r\\n60,23,Jeans,Zara,Kids' Fashion,91,4.072724797078319,Yellow,M\\r\\n64,24,Jeans,Zara,Women's Fashion,15,2.4997562739320434,Yellow,XL\\r\\n65,25,Sweater,H&M,Kids' Fashion,38,1.020492671359242,Green,S\\r\\n26,26,Dress,Gucci,Women's Fashion,21,4.748169005039641,Green,S\\r\\n82,27,T-shirt,Adidas,Kids' Fashion,72,3.3017434083754096,Red,L\\r\\n87,28,Shoes,Zara,Women's Fashion,32,2.822802859802248,Yellow,L\\r\\n98,29,Shoes,Gucci,Women's Fashion,85,4.9409852209868586,Yellow,M\\r\\n20,30,Sweater,Nike,Kids' Fashion,99,3.110113572581459,Green,XL\\r\\n36,31,Jeans,H&M,Kids' Fashion,37,2.755187148705766,Blue,S\\r\\n98,32,T-shirt,Nike,Kids' Fashion,78,3.4472894702794954,White,XL\\r\\n69,33,Jeans,H&M,Kids' Fashion,89,4.799409018709708,Green,XL\\r\\n31,34,Jeans,H&M,Men's Fashion,80,3.9232611597712266,Black,S\\r\\n48,35,Jeans,Zara,Women's Fashion,37,4.173991567921782,Blue,L\\r\\n18,36,Dress,H&M,Kids' Fashion,74,1.0149961280920143,Green,S\\r\\n27,37,Sweater,Zara,Kids' Fashion,48,4.94766478278459,Blue,S\\r\\n60,38,T-shirt,Nike,Kids' Fashion,76,2.663067923739062,Yellow,S\\r\\n46,39,Jeans,Adidas,Men's Fashion,90,1.788771519300072,Yellow,M\\r\\n84,40,Dress,Zara,Women's Fashion,26,2.4356113364040395,Black,XL\\r\\n43,41,Jeans,Gucci,Women's Fashion,40,2.922173645847821,Blue,L\\r\\n43,42,Shoes,Zara,Kids' Fashion,43,1.6719588858059065,Red,S\\r\\n91,43,T-shirt,Adidas,Men's Fashion,39,3.601868546646005,White,M\\r\\n78,44,Jeans,Nike,Kids' Fashion,74,2.039156739091348,White,M\\r\\n60,45,Jeans,Gucci,Women's Fashion,85,4.886711103488975,Red,L\\r\\n44,46,Dress,Zara,Men's Fashion,38,2.82786983124548,Yellow,XL\\r\\n93,47,Jeans,Zara,Men's Fashion,62,1.2807316864746534,Green,S\\r\\n74,48,T-shirt,Gucci,Kids' Fashion,10,1.8369639658885681,Green,M\\r\\n19,49,Sweater,Gucci,Kids' Fashion,52,3.0122407856530597,Green,XL\\r\\n98,50,T-shirt,H&M,Women's Fashion,38,3.0832859328181086,Blue,L\\r\\n51,51,Jeans,Adidas,Women's Fashion,67,3.8429900228918754,Yellow,XL\\r\\n80,52,Dress,Nike,Kids' Fashion,59,3.964195137772806,Red,S\\r\\n39,53,T-shirt,Nike,Men's Fashion,16,1.2923199695786125,Red,M\\r\\n33,54,Shoes,H&M,Men's Fashion,33,2.450522629395141,Blue,S\\r\\n78,55,Sweater,Adidas,Kids' Fashion,76,2.820647079283965,Red,S\\r\\n24,56,Dress,Nike,Women's Fashion,53,2.251328486675961,White,XL\\r\\n99,57,Sweater,Adidas,Women's Fashion,52,3.6131362931746165,Red,M\\r\\n83,58,Shoes,Adidas,Women's Fashion,61,1.6845413743576394,White,L\\r\\n38,59,Dress,Nike,Kids' Fashion,93,3.158493604214389,Blue,M\\r\\n51,60,Shoes,H&M,Kids' Fashion,24,1.5907130702162253,Yellow,XL\\r\\n63,61,Shoes,Adidas,Women's Fashion,25,1.0424088201476893,Yellow,M\\r\\n54,62,T-shirt,Nike,Men's Fashion,66,2.063108734779856,Blue,L\\r\\n53,63,Jeans,Zara,Kids' Fashion,55,4.026271065991512,White,L\\r\\n50,64,Shoes,Gucci,Kids' Fashion,72,1.7792107858467734,Red,M\\r\\n6,65,Shoes,H&M,Kids' Fashion,33,3.0450160025950037,Yellow,XL\\r\\n87,66,Sweater,H&M,Kids' Fashion,59,4.550917310052925,Red,XL\\r\\n84,67,Jeans,Gucci,Women's Fashion,41,4.251683238918625,Green,M\\r\\n43,68,T-shirt,Gucci,Women's Fashion,76,4.3049362401792095,Red,S\\r\\n3,69,Sweater,Gucci,Women's Fashion,74,3.666667399691832,Yellow,M\\r\\n6,70,Dress,Gucci,Women's Fashion,36,2.5386008521607972,Yellow,M\\r\\n15,71,Sweater,Adidas,Women's Fashion,35,4.864999297666657,White,M\\r\\n94,72,T-shirt,H&M,Women's Fashion,51,2.7936258074198936,Yellow,M\\r\\n98,73,T-shirt,Gucci,Men's Fashion,34,2.9239820574485926,Red,M\\r\\n6,74,Dress,Zara,Women's Fashion,68,2.8808081878968665,White,XL\\r\\n42,75,Dress,H&M,Women's Fashion,86,2.889443699732862,Blue,S\\r\\n54,76,Jeans,Adidas,Women's Fashion,39,2.9741393146980504,Black,XL\\r\\n37,77,Sweater,H&M,Kids' Fashion,90,2.2282631651177525,Blue,L\\r\\n9,78,T-shirt,Nike,Men's Fashion,76,1.2972571933246568,White,XL\\r\\n26,79,T-shirt,Nike,Men's Fashion,11,1.3334220867175706,Red,L\\r\\n71,80,Jeans,Nike,Kids' Fashion,21,2.938056289633595,Red,XL\\r\\n72,81,T-shirt,Nike,Women's Fashion,66,2.4034400018052815,Green,S\\r\\n100,82,Dress,H&M,Kids' Fashion,31,4.612706002521094,Blue,S\\r\\n69,83,Shoes,Nike,Women's Fashion,49,1.421790366569129,Blue,L\\r\\n19,84,Sweater,Adidas,Women's Fashion,42,2.5601740446118324,Red,L\\r\\n84,85,Shoes,Nike,Women's Fashion,89,1.107632847390418,Yellow,XL\\r\\n4,86,Sweater,Zara,Men's Fashion,50,3.276221602515569,Yellow,M\\r\\n21,87,Shoes,Nike,Men's Fashion,41,4.126941613678208,Red,S\\r\\n85,88,Dress,Nike,Kids' Fashion,61,2.5578921317942567,White,L\\r\\n10,89,Dress,Gucci,Men's Fashion,66,3.8964369624700685,White,L\\r\\n2,90,Jeans,H&M,Men's Fashion,37,3.961592462639102,Red,XL\\r\\n90,91,Jeans,H&M,Kids' Fashion,85,3.0525558220725153,Green,XL\\r\\n6,92,Jeans,Adidas,Men's Fashion,100,1.8450713044064728,White,M\\r\\n33,93,Shoes,Nike,Men's Fashion,70,4.928128215414036,White,S\\r\\n12,94,Shoes,Zara,Women's Fashion,21,3.941875648194909,Yellow,XL\\r\\n62,95,Shoes,Gucci,Women's Fashion,58,1.971525134654164,Blue,S\\r\\n22,96,Dress,Gucci,Women's Fashion,30,4.655251630403741,Red,L\\r\\n18,97,Jeans,Gucci,Men's Fashion,52,3.7618905512261387,Green,L\\r\\n44,98,Sweater,Gucci,Kids' Fashion,61,4.277089915641023,Black,XL\\r\\n25,99,Shoes,Nike,Kids' Fashion,93,4.280090724853463,Yellow,L\\r\\n79,100,Shoes,Adidas,Kids' Fashion,84,1.83719942156349,Red,L\\r\\n52,101,Jeans,Zara,Women's Fashion,95,1.5017542710399447,Green,XL\\r\\n71,102,Sweater,Gucci,Kids' Fashion,19,4.211889573000041,Red,S\\r\\n57,103,Jeans,Zara,Women's Fashion,84,3.6491707147745664,White,XL\\r\\n64,104,Jeans,H&M,Men's Fashion,24,4.737257324597893,White,M\\r\\n35,105,Jeans,Zara,Women's Fashion,52,1.7509311602979163,Yellow,L\\r\\n63,106,Jeans,H&M,Kids' Fashion,21,2.726230340988483,Red,L\\r\\n19,107,Sweater,Zara,Men's Fashion,23,3.3213469284575607,Red,L\\r\\n80,108,Sweater,Gucci,Men's Fashion,13,4.278042968142891,Green,L\\r\\n77,109,Jeans,Nike,Kids' Fashion,73,2.72765960082044,Black,XL\\r\\n22,110,Sweater,Gucci,Women's Fashion,33,4.665058098805442,Blue,XL\\r\\n99,111,Shoes,Zara,Women's Fashion,55,2.3936845906950563,Green,M\\r\\n92,112,Jeans,Adidas,Men's Fashion,15,2.446269480365057,White,S\\r\\n97,113,T-shirt,Zara,Men's Fashion,60,1.1884917976998355,White,L\\r\\n48,114,Shoes,H&M,Men's Fashion,37,1.457139593656438,Red,M\\r\\n37,115,Dress,Adidas,Kids' Fashion,64,2.8878066008190664,Blue,L\\r\\n77,116,Shoes,Adidas,Women's Fashion,60,3.114797145238716,Green,M\\r\\n52,117,Dress,Zara,Kids' Fashion,75,3.992174604280839,White,M\\r\\n63,118,Dress,Adidas,Men's Fashion,71,3.5173157730835607,Yellow,S\\r\\n10,119,Jeans,Nike,Men's Fashion,73,2.6579250711651237,Yellow,S\\r\\n77,120,T-shirt,H&M,Men's Fashion,12,2.5073106927358912,Green,M\\r\\n95,121,T-shirt,Gucci,Men's Fashion,96,1.6339895968292044,Red,M\\r\\n90,122,Sweater,H&M,Women's Fashion,36,4.425129581852593,Blue,XL\\r\\n80,123,Sweater,Nike,Women's Fashion,65,2.6473934151433265,Yellow,L\\r\\n65,124,Sweater,H&M,Men's Fashion,62,1.0908131501294354,Black,L\\r\\n56,125,Sweater,H&M,Kids' Fashion,56,4.139373022505058,Green,L\\r\\n65,126,T-shirt,Nike,Kids' Fashion,55,4.851703509210904,Green,M\\r\\n7,127,Shoes,Zara,Women's Fashion,47,4.86740352988641,Yellow,M\\r\\n100,128,T-shirt,H&M,Women's Fashion,61,2.3104939634166746,Green,M\\r\\n70,129,T-shirt,Zara,Women's Fashion,85,2.1043220072345936,Yellow,M\\r\\n40,130,Shoes,Nike,Women's Fashion,81,1.0219724847287694,Green,M\\r\\n70,131,T-shirt,H&M,Men's Fashion,50,3.3774933674823044,Blue,M\\r\\n100,132,Sweater,Adidas,Women's Fashion,10,2.9977013284756353,White,M\\r\\n29,133,Shoes,H&M,Kids' Fashion,28,1.6645424017858694,Blue,XL\\r\\n23,134,Sweater,Zara,Women's Fashion,60,3.6336515298115786,Yellow,S\\r\\n94,135,Dress,Adidas,Kids' Fashion,14,3.654703012504208,Blue,L\\r\\n34,136,Shoes,Zara,Men's Fashion,45,1.0176547429590834,Blue,XL\\r\\n44,137,Dress,Gucci,Kids' Fashion,90,3.3205086094093903,Green,S\\r\\n16,138,Dress,H&M,Women's Fashion,23,1.8115782608758955,Yellow,S\\r\\n73,139,Sweater,Gucci,Women's Fashion,45,3.5400818665610037,Blue,XL\\r\\n54,140,Shoes,Zara,Kids' Fashion,40,2.0226430029467686,Green,M\\r\\n58,141,Jeans,Nike,Women's Fashion,28,4.441575547962888,Yellow,L\\r\\n46,142,Shoes,Nike,Men's Fashion,38,4.4039323943697415,White,XL\\r\\n88,143,Shoes,Gucci,Women's Fashion,81,4.922934883340847,White,L\\r\\n75,144,Shoes,Adidas,Kids' Fashion,57,1.0009672354280639,Blue,M\\r\\n34,145,T-shirt,Zara,Kids' Fashion,60,4.821956688936054,Green,S\\r\\n75,146,Shoes,Adidas,Women's Fashion,53,3.4663879810046567,Yellow,M\\r\\n54,147,Shoes,Gucci,Kids' Fashion,48,2.582393026142008,Green,L\\r\\n39,148,Shoes,Adidas,Women's Fashion,82,2.716311659141037,Black,L\\r\\n95,149,Jeans,Adidas,Women's Fashion,56,4.001270462281135,Green,M\\r\\n67,150,T-shirt,Nike,Women's Fashion,43,1.1973307228303791,Green,M\\r\\n5,151,Shoes,Adidas,Men's Fashion,77,2.3520641401819535,Blue,M\\r\\n31,152,Jeans,Nike,Men's Fashion,71,4.815682355275902,Green,S\\r\\n2,153,Shoes,Nike,Kids' Fashion,31,1.946292675520497,Black,S\\r\\n51,154,Dress,Zara,Men's Fashion,11,2.3012246310106845,Blue,L\\r\\n91,155,T-shirt,Gucci,Women's Fashion,48,2.433795361947496,White,L\\r\\n92,156,T-shirt,Adidas,Women's Fashion,21,1.1541873635251334,Red,L\\r\\n39,157,Dress,Adidas,Women's Fashion,67,3.981751297528464,Yellow,S\\r\\n99,158,Shoes,Adidas,Men's Fashion,88,2.923330927137081,Blue,M\\r\\n10,159,Jeans,Nike,Kids' Fashion,50,2.241727301168485,Green,S\\r\\n46,160,Shoes,Gucci,Women's Fashion,35,2.983802720525209,Black,L\\r\\n80,161,Sweater,Adidas,Women's Fashion,67,4.735471556646834,Blue,M\\r\\n40,162,T-shirt,Nike,Women's Fashion,48,2.9816414902965587,Red,L\\r\\n18,163,Dress,Nike,Women's Fashion,93,4.268027667457275,Green,S\\r\\n16,164,T-shirt,Nike,Men's Fashion,68,2.6365948985682017,Red,L\\r\\n34,165,Jeans,Gucci,Women's Fashion,67,2.275472954296478,White,XL\\r\\n100,166,Sweater,Adidas,Kids' Fashion,96,4.743823985146882,White,L\\r\\n92,167,Shoes,Zara,Kids' Fashion,43,4.478061369681752,Blue,S\\r\\n54,168,Sweater,Gucci,Women's Fashion,69,4.4565805986423115,Green,XL\\r\\n62,169,Shoes,Zara,Men's Fashion,98,1.0894623247655315,Black,XL\\r\\n50,170,Sweater,Gucci,Men's Fashion,20,3.46519259419596,Yellow,M\\r\\n24,171,Jeans,Nike,Men's Fashion,42,1.7678665213854097,Blue,S\\r\\n13,172,Jeans,Zara,Women's Fashion,32,4.795455839373563,Yellow,M\\r\\n98,173,Dress,Nike,Kids' Fashion,21,3.1017985541636333,Yellow,S\\r\\n82,174,Jeans,Adidas,Kids' Fashion,80,3.3345388723020903,Black,M\\r\\n48,175,Dress,Adidas,Men's Fashion,55,1.9132709342103413,Blue,S\\r\\n59,176,Dress,H&M,Kids' Fashion,91,1.9981481322231769,Red,XL\\r\\n56,177,Sweater,Nike,Kids' Fashion,12,4.567658316917139,Yellow,M\\r\\n93,178,Jeans,Nike,Women's Fashion,26,1.6878695946892215,Red,XL\\r\\n54,179,Shoes,Adidas,Kids' Fashion,53,1.0283230598341992,Blue,M\\r\\n61,180,T-shirt,Zara,Kids' Fashion,43,2.3664472341396037,Green,M\\r\\n74,181,Shoes,H&M,Kids' Fashion,80,4.829054628124489,Black,L\\r\\n39,182,Jeans,Zara,Men's Fashion,68,4.3589126447175754,Yellow,L\\r\\n20,183,Jeans,Zara,Kids' Fashion,67,2.6752319584021422,Black,M\\r\\n67,184,Sweater,Zara,Women's Fashion,67,3.4485275944733207,Green,L\\r\\n38,185,Sweater,Gucci,Men's Fashion,34,1.5653542085362844,Yellow,L\\r\\n16,186,Jeans,Adidas,Men's Fashion,56,2.434972507006948,Blue,L\\r\\n81,187,Jeans,Zara,Women's Fashion,36,3.0430092025581157,Green,S\\r\\n33,188,Shoes,Nike,Men's Fashion,44,4.359929898806648,Green,XL\\r\\n55,189,Jeans,Adidas,Women's Fashion,15,3.4669204388660257,Blue,L\\r\\n38,190,Sweater,Zara,Kids' Fashion,32,4.0330690744184015,Yellow,XL\\r\\n48,191,T-shirt,Gucci,Kids' Fashion,95,3.23067766700609,Black,M\\r\\n35,192,Sweater,Zara,Kids' Fashion,87,3.961569667170701,White,L\\r\\n8,193,T-shirt,H&M,Women's Fashion,60,2.936956138973573,White,L\\r\\n56,194,Sweater,Adidas,Women's Fashion,92,3.7925562440595955,White,S\\r\\n32,195,Shoes,Zara,Kids' Fashion,60,3.3448666838230343,White,L\\r\\n72,196,Jeans,Gucci,Kids' Fashion,17,1.289426341691518,Red,M\\r\\n48,197,Jeans,Nike,Kids' Fashion,90,2.2990341257073896,Yellow,XL\\r\\n3,198,T-shirt,Zara,Men's Fashion,67,3.0321248414792685,Blue,XL\\r\\n39,199,T-shirt,Zara,Women's Fashion,15,4.9806556343987305,Black,M\\r\\n75,200,Sweater,H&M,Men's Fashion,45,4.1244272181603385,Black,S\\r\\n21,201,Jeans,Zara,Women's Fashion,57,4.246084616936485,Yellow,M\\r\\n84,202,Sweater,Nike,Men's Fashion,40,3.4955016049008285,Green,S\\r\\n53,203,Jeans,Zara,Women's Fashion,75,1.876204845276109,Yellow,S\\r\\n3,204,T-shirt,Zara,Kids' Fashion,81,1.8932431699654888,Black,M\\r\\n41,205,T-shirt,H&M,Men's Fashion,73,2.9765631054892503,Yellow,XL\\r\\n64,206,Jeans,Nike,Kids' Fashion,56,4.360464130624948,Yellow,XL\\r\\n30,207,Sweater,Gucci,Kids' Fashion,53,2.7895407951799887,Black,M\\r\\n9,208,Jeans,Zara,Men's Fashion,79,2.6711519717692216,White,M\\r\\n88,209,Dress,H&M,Women's Fashion,30,1.0286698782988175,Black,XL\\r\\n36,210,Jeans,Adidas,Women's Fashion,42,2.0490395950433924,Yellow,M\\r\\n6,211,Jeans,Zara,Women's Fashion,50,3.1738270630273906,Green,L\\r\\n24,212,T-shirt,Adidas,Women's Fashion,71,3.4395524353488987,White,S\\r\\n76,213,Jeans,Zara,Women's Fashion,80,4.860237045131733,Yellow,XL\\r\\n59,214,Dress,Adidas,Women's Fashion,98,1.7939052012347019,Yellow,XL\\r\\n49,215,T-shirt,Adidas,Men's Fashion,49,3.6232377142189804,Yellow,S\\r\\n87,216,Shoes,Gucci,Kids' Fashion,57,3.8824504946813096,White,M\\r\\n7,217,Sweater,Gucci,Women's Fashion,98,1.438125731490036,Yellow,S\\r\\n94,218,Sweater,Gucci,Men's Fashion,69,3.0770330657690135,Red,M\\r\\n78,219,Dress,H&M,Women's Fashion,97,1.9688359670657714,Green,S\\r\\n35,220,T-shirt,H&M,Kids' Fashion,42,4.505382327331914,Blue,L\\r\\n68,221,T-shirt,Adidas,Men's Fashion,49,2.8591785457881453,Black,L\\r\\n77,222,Dress,Adidas,Kids' Fashion,36,1.1053187388647334,Yellow,S\\r\\n33,223,Jeans,Gucci,Women's Fashion,73,2.970808688030995,White,XL\\r\\n48,224,T-shirt,Adidas,Women's Fashion,88,1.7486279574238806,White,L\\r\\n46,225,Dress,Nike,Men's Fashion,61,1.6351942155874277,Yellow,S\\r\\n6,226,Sweater,H&M,Men's Fashion,16,2.4317364818151574,Green,XL\\r\\n44,227,Dress,Adidas,Kids' Fashion,20,4.144274439239306,Red,S\\r\\n66,228,Shoes,H&M,Men's Fashion,15,1.9674155721785693,Green,S\\r\\n81,229,Shoes,Adidas,Kids' Fashion,65,1.8233129054424029,Red,XL\\r\\n96,230,Shoes,Zara,Men's Fashion,82,4.592905503612744,Black,S\\r\\n92,231,Dress,Zara,Women's Fashion,33,4.738404627787549,Red,L\\r\\n93,232,Jeans,Zara,Men's Fashion,49,1.4143584997172627,Red,S\\r\\n79,233,Shoes,Nike,Kids' Fashion,39,4.706320333423921,Red,M\\r\\n64,234,Sweater,H&M,Kids' Fashion,55,1.6990521973140904,White,S\\r\\n61,235,Shoes,Zara,Women's Fashion,50,1.8145301271666145,Green,L\\r\\n40,236,Shoes,Zara,Men's Fashion,44,1.7182978589840951,White,S\\r\\n68,237,Shoes,Adidas,Men's Fashion,58,3.6620106291965024,White,S\\r\\n10,238,Shoes,Adidas,Kids' Fashion,47,2.146848905757285,White,XL\\r\\n33,239,Shoes,Gucci,Kids' Fashion,93,3.956210591357851,White,L\\r\\n27,240,Dress,H&M,Men's Fashion,10,2.2345268528513578,Black,L\\r\\n55,241,Jeans,Gucci,Men's Fashion,21,2.4049541721748917,Green,S\\r\\n72,242,Dress,H&M,Men's Fashion,52,4.128792274336508,Green,M\\r\\n88,243,Shoes,H&M,Men's Fashion,79,1.0593185895156374,White,XL\\r\\n77,244,Sweater,Zara,Women's Fashion,85,3.4746219003834233,Blue,XL\\r\\n27,245,Dress,H&M,Women's Fashion,15,2.333669709673072,Black,S\\r\\n89,246,Jeans,Gucci,Kids' Fashion,68,3.184283802094046,Green,S\\r\\n32,247,Shoes,Zara,Women's Fashion,72,2.2601921989303704,White,S\\r\\n83,248,Sweater,Zara,Kids' Fashion,81,3.616173282778204,Red,M\\r\\n34,249,Jeans,H&M,Kids' Fashion,41,1.8756187142979175,Black,XL\\r\\n68,250,Dress,H&M,Women's Fashion,21,2.7725214471034425,Yellow,XL\\r\\n46,251,Jeans,Gucci,Kids' Fashion,87,2.1932834273658703,White,L\\r\\n43,252,Dress,H&M,Men's Fashion,25,1.659000334748932,Blue,L\\r\\n65,253,T-shirt,Zara,Kids' Fashion,98,4.23682985311631,White,M\\r\\n20,254,Jeans,Gucci,Kids' Fashion,15,1.393034744449516,Yellow,L\\r\\n74,255,T-shirt,H&M,Kids' Fashion,81,2.5505193540713895,Green,M\\r\\n33,256,Jeans,Gucci,Kids' Fashion,86,2.0597694144917424,Blue,L\\r\\n38,257,Shoes,Nike,Women's Fashion,82,3.4814092331780375,Red,S\\r\\n86,258,Dress,Gucci,Women's Fashion,14,3.563482805805457,Yellow,S\\r\\n44,259,Shoes,Nike,Men's Fashion,27,2.504419165241355,White,L\\r\\n34,260,Dress,Adidas,Kids' Fashion,59,4.154888891923636,Green,S\\r\\n50,261,Dress,Zara,Men's Fashion,49,2.9810815810545708,Yellow,S\\r\\n68,262,Jeans,Gucci,Women's Fashion,94,4.288581440201506,Blue,S\\r\\n5,263,Jeans,Zara,Men's Fashion,71,4.053594853387537,Yellow,XL\\r\\n46,264,Dress,Gucci,Women's Fashion,55,3.1906168836312636,White,XL\\r\\n8,265,T-shirt,H&M,Kids' Fashion,60,2.7467303554625904,Blue,XL\\r\\n51,266,Jeans,Gucci,Kids' Fashion,62,2.3677625608105166,White,XL\\r\\n25,267,Jeans,Adidas,Women's Fashion,53,4.4413371188881605,Black,S\\r\\n32,268,Jeans,Adidas,Kids' Fashion,22,3.9395819315667513,Yellow,L\\r\\n34,269,Shoes,H&M,Kids' Fashion,100,4.743391172218395,Black,S\\r\\n3,270,Sweater,Adidas,Kids' Fashion,60,4.213088306604582,Blue,XL\\r\\n76,271,Jeans,Nike,Men's Fashion,45,4.07521625877933,Blue,L\\r\\n43,272,Dress,Nike,Kids' Fashion,95,2.311251112941413,White,M\\r\\n4,273,Dress,Nike,Men's Fashion,29,1.7646092540562788,White,XL\\r\\n77,274,Dress,Adidas,Women's Fashion,18,1.6572669608916377,Red,S\\r\\n58,275,Jeans,Nike,Men's Fashion,93,3.8094885493690627,Green,XL\\r\\n73,276,Jeans,Nike,Men's Fashion,43,1.393377272783157,Yellow,M\\r\\n50,277,Dress,H&M,Kids' Fashion,49,1.8898813636690384,White,M\\r\\n4,278,Jeans,Gucci,Men's Fashion,98,2.9585049973107247,Black,L\\r\\n3,279,Shoes,Adidas,Kids' Fashion,11,2.191241877131676,Yellow,M\\r\\n31,280,Dress,Gucci,Kids' Fashion,19,2.1297317987919673,White,XL\\r\\n30,281,Jeans,H&M,Women's Fashion,67,2.2565259336221293,Green,S\\r\\n18,282,Jeans,Nike,Men's Fashion,75,1.2665901666885886,Black,M\\r\\n95,283,Sweater,H&M,Men's Fashion,80,4.179828150021965,White,S\\r\\n78,284,T-shirt,Zara,Men's Fashion,23,3.8141521537937284,Black,S\\r\\n49,285,Sweater,Nike,Women's Fashion,80,3.704188789710081,Yellow,L\\r\\n69,286,T-shirt,H&M,Kids' Fashion,13,3.2360642783823703,White,XL\\r\\n71,287,T-shirt,Zara,Kids' Fashion,62,4.5371026787297755,Blue,XL\\r\\n13,288,Sweater,Nike,Men's Fashion,38,2.108827714388503,Black,M\\r\\n88,289,Sweater,Adidas,Kids' Fashion,18,2.805553333530071,Blue,M\\r\\n38,290,Sweater,Zara,Men's Fashion,13,4.883941461573281,White,S\\r\\n3,291,Dress,H&M,Women's Fashion,64,4.818010098109168,White,XL\\r\\n91,292,T-shirt,Nike,Men's Fashion,63,3.075503825550362,Green,S\\r\\n9,293,Sweater,Nike,Men's Fashion,96,2.7696609053376635,Black,XL\\r\\n4,294,Dress,H&M,Women's Fashion,89,4.092572014583608,White,XL\\r\\n39,295,Dress,H&M,Kids' Fashion,56,2.4245426247424473,Black,XL\\r\\n99,296,T-shirt,H&M,Women's Fashion,25,4.10023032339017,White,S\\r\\n30,297,Sweater,Gucci,Kids' Fashion,14,1.8779895082592102,Blue,XL\\r\\n4,298,Shoes,Zara,Women's Fashion,14,1.416317140810032,Red,M\\r\\n69,299,Shoes,Gucci,Kids' Fashion,21,2.9546026555101785,Green,S\\r\\n3,300,Shoes,Adidas,Kids' Fashion,57,4.923508936133672,White,S\\r\\n66,301,Shoes,Adidas,Kids' Fashion,93,2.0449924940500632,Yellow,M\\r\\n49,302,T-shirt,Gucci,Kids' Fashion,37,4.903871565964996,White,M\\r\\n11,303,Jeans,Gucci,Women's Fashion,94,3.6858621434119527,White,XL\\r\\n7,304,Dress,Adidas,Women's Fashion,85,1.3003985626051704,Green,M\\r\\n26,305,Shoes,H&M,Women's Fashion,90,2.330814131685098,White,L\\r\\n73,306,T-shirt,Gucci,Men's Fashion,23,2.8006797532519627,Black,XL\\r\\n62,307,Dress,Zara,Men's Fashion,11,3.8890222533509795,Yellow,S\\r\\n42,308,Jeans,Adidas,Men's Fashion,60,4.4221600804783545,Yellow,S\\r\\n37,309,Jeans,Gucci,Kids' Fashion,17,3.754996802089696,Black,S\\r\\n61,310,Jeans,H&M,Men's Fashion,83,3.9454813487267164,White,XL\\r\\n55,311,Jeans,Nike,Men's Fashion,55,4.803390239313735,Black,L\\r\\n41,312,Jeans,Zara,Men's Fashion,45,2.9279375782508636,White,S\\r\\n97,313,Shoes,H&M,Women's Fashion,76,4.512074442396954,Green,XL\\r\\n13,314,Jeans,Nike,Kids' Fashion,94,2.062362221473407,Red,L\\r\\n90,315,Jeans,Nike,Kids' Fashion,56,1.2179554603430933,White,XL\\r\\n34,316,Jeans,H&M,Women's Fashion,68,2.0985010170637293,Red,S\\r\\n55,317,Dress,Adidas,Women's Fashion,23,4.395249784950678,Red,XL\\r\\n88,318,Sweater,Zara,Men's Fashion,49,1.1558698495007471,Yellow,S\\r\\n39,319,Jeans,H&M,Men's Fashion,61,1.231913046074928,White,L\\r\\n25,320,Sweater,H&M,Kids' Fashion,86,3.146928022843712,Yellow,L\\r\\n34,321,Shoes,Gucci,Kids' Fashion,40,4.452209683354289,Red,S\\r\\n58,322,Shoes,H&M,Kids' Fashion,18,1.7072254279225771,Red,M\\r\\n30,323,Shoes,Zara,Women's Fashion,95,2.3261684524169715,Green,M\\r\\n3,324,Sweater,Gucci,Men's Fashion,18,4.530634427162867,Black,XL\\r\\n67,325,T-shirt,Nike,Men's Fashion,91,2.6680892078074705,Black,XL\\r\\n7,326,Jeans,Zara,Men's Fashion,20,3.3138697518070765,Green,L\\r\\n95,327,Dress,Adidas,Kids' Fashion,72,4.572943412760792,White,L\\r\\n34,328,Jeans,Adidas,Kids' Fashion,12,1.2953162144142518,Blue,L\\r\\n49,329,Jeans,Nike,Women's Fashion,56,3.736030130388548,Blue,XL\\r\\n15,330,T-shirt,Zara,Men's Fashion,26,2.137827815116155,Blue,M\\r\\n61,331,T-shirt,Adidas,Kids' Fashion,25,3.2729014263305336,Black,S\\r\\n25,332,Shoes,Zara,Men's Fashion,75,3.149412945567453,Blue,M\\r\\n60,333,Dress,H&M,Kids' Fashion,70,2.0424289871919465,Yellow,M\\r\\n80,334,Sweater,Zara,Men's Fashion,16,1.855252274126113,Yellow,L\\r\\n25,335,Sweater,Gucci,Men's Fashion,88,3.3966615634688773,Red,XL\\r\\n71,336,T-shirt,Nike,Kids' Fashion,28,4.169716342983278,White,XL\\r\\n1,337,Shoes,Nike,Women's Fashion,80,1.591559597927799,White,L\\r\\n22,338,Sweater,Nike,Women's Fashion,70,1.4441987043717144,Blue,S\\r\\n46,339,Dress,Gucci,Women's Fashion,74,1.8040174178378066,White,M\\r\\n52,340,Sweater,Adidas,Women's Fashion,32,1.24647151363249,Blue,L\\r\\n27,341,Jeans,Gucci,Men's Fashion,91,4.473672898105133,Red,XL\\r\\n69,342,Sweater,Zara,Women's Fashion,27,3.9797174272472913,Yellow,S\\r\\n29,343,T-shirt,Gucci,Women's Fashion,91,4.742029060404385,Yellow,XL\\r\\n42,344,Dress,Nike,Kids' Fashion,44,3.873916154990273,Blue,L\\r\\n97,345,Shoes,H&M,Kids' Fashion,67,1.420409071311115,Yellow,S\\r\\n62,346,Jeans,Adidas,Kids' Fashion,19,4.829417307054634,Yellow,XL\\r\\n76,347,Dress,H&M,Men's Fashion,18,1.1105108476178893,Blue,XL\\r\\n52,348,Shoes,Zara,Kids' Fashion,76,2.9157420591034113,Blue,XL\\r\\n36,349,Dress,Adidas,Kids' Fashion,97,3.150290195689506,White,XL\\r\\n50,350,Jeans,H&M,Kids' Fashion,80,2.797018295763922,Black,XL\\r\\n52,351,Jeans,Nike,Women's Fashion,95,4.471219774888296,Red,XL\\r\\n41,352,Dress,H&M,Men's Fashion,71,1.5032919398927622,Green,XL\\r\\n87,353,Sweater,Nike,Women's Fashion,78,2.9122221673458943,Blue,M\\r\\n7,354,Dress,Gucci,Men's Fashion,74,3.8646659172649107,Red,M\\r\\n59,355,Sweater,Nike,Kids' Fashion,43,2.4895505808124136,Red,XL\\r\\n93,356,Dress,Zara,Kids' Fashion,68,4.330070804344967,Black,S\\r\\n89,357,T-shirt,Adidas,Kids' Fashion,15,3.4120012288399155,Yellow,L\\r\\n66,358,Shoes,Adidas,Men's Fashion,55,1.1749526479520283,Blue,XL\\r\\n55,359,Dress,Nike,Kids' Fashion,68,4.449500337752415,Red,L\\r\\n42,360,Sweater,H&M,Women's Fashion,24,2.257292487112441,Black,XL\\r\\n78,361,Sweater,H&M,Kids' Fashion,62,1.760450533742448,Blue,XL\\r\\n22,362,Jeans,Adidas,Men's Fashion,15,1.2812930533569915,Red,S\\r\\n72,363,Jeans,Nike,Kids' Fashion,33,3.1428849870669953,Yellow,L\\r\\n60,364,Jeans,Nike,Kids' Fashion,65,2.0404569623668447,Black,M\\r\\n92,365,T-shirt,Nike,Men's Fashion,16,3.282472036892723,White,L\\r\\n7,366,Dress,Nike,Women's Fashion,29,4.153341475721546,Yellow,L\\r\\n17,367,Shoes,Nike,Women's Fashion,31,2.7106654151082084,Yellow,S\\r\\n60,368,Shoes,Nike,Women's Fashion,35,1.541757712023375,Blue,XL\\r\\n62,369,Shoes,Nike,Women's Fashion,96,3.7951075822182276,Green,M\\r\\n75,370,T-shirt,Nike,Kids' Fashion,58,2.6342443123316874,White,S\\r\\n65,371,Dress,Nike,Women's Fashion,33,1.0810982815671255,White,XL\\r\\n63,372,Dress,Nike,Men's Fashion,41,1.8439193609858444,White,S\\r\\n87,373,T-shirt,Adidas,Men's Fashion,63,3.1531428229983547,Green,M\\r\\n23,374,Jeans,Nike,Men's Fashion,20,1.4740252153688411,Black,S\\r\\n68,375,Jeans,Zara,Women's Fashion,49,4.268766181323494,Blue,XL\\r\\n16,376,Shoes,H&M,Kids' Fashion,22,3.8331598142926584,Green,S\\r\\n33,377,Shoes,Zara,Women's Fashion,54,3.722545456144456,Black,L\\r\\n55,378,T-shirt,Nike,Men's Fashion,45,3.5712699533249124,Red,S\\r\\n89,379,Jeans,Nike,Women's Fashion,25,3.6375529027327604,White,M\\r\\n73,380,Dress,Gucci,Women's Fashion,23,1.2041756259931802,Red,XL\\r\\n32,381,Shoes,H&M,Men's Fashion,23,3.324489276111087,Green,S\\r\\n97,382,T-shirt,Gucci,Men's Fashion,93,3.584985286068869,Yellow,M\\r\\n32,383,Jeans,H&M,Men's Fashion,86,2.5338537961633807,Black,L\\r\\n90,384,Sweater,H&M,Kids' Fashion,84,1.4619140427922783,Black,L\\r\\n74,385,Shoes,Gucci,Women's Fashion,35,3.6667200515347167,Yellow,L\\r\\n27,386,Dress,Adidas,Women's Fashion,17,3.5783539485125164,Yellow,XL\\r\\n52,387,Dress,Adidas,Women's Fashion,24,1.1699527477743614,Green,XL\\r\\n7,388,T-shirt,H&M,Men's Fashion,86,4.117232750059591,Green,M\\r\\n51,389,T-shirt,Zara,Women's Fashion,91,1.547099791359091,White,XL\\r\\n89,390,Sweater,Adidas,Women's Fashion,86,4.448025481894307,Green,M\\r\\n66,391,Dress,Gucci,Women's Fashion,25,3.8281848127805858,Blue,M\\r\\n73,392,T-shirt,Zara,Men's Fashion,53,2.814820300461843,White,S\\r\\n19,393,Shoes,H&M,Men's Fashion,32,1.7522184719051315,Black,M\\r\\n77,394,T-shirt,Gucci,Men's Fashion,56,3.5320189512362132,Yellow,M\\r\\n90,395,Shoes,Nike,Women's Fashion,14,2.5907494190256406,Yellow,M\\r\\n33,396,Shoes,Zara,Men's Fashion,74,2.865913132404481,Blue,M\\r\\n100,397,Shoes,Zara,Kids' Fashion,94,1.5739434983982155,White,XL\\r\\n39,398,T-shirt,H&M,Men's Fashion,16,2.1909533321531898,White,M\\r\\n36,399,Dress,Adidas,Men's Fashion,37,2.6298403002831896,Yellow,L\\r\\n95,400,Jeans,H&M,Women's Fashion,91,2.4347381893772657,Green,S\\r\\n41,401,Jeans,Gucci,Women's Fashion,93,4.636617389662897,Green,S\\r\\n10,402,Shoes,H&M,Women's Fashion,30,1.5036793599233174,Yellow,M\\r\\n83,403,Shoes,Adidas,Men's Fashion,61,3.4857480490953003,Red,S\\r\\n37,404,Shoes,Adidas,Men's Fashion,71,2.93889156216477,Green,M\\r\\n61,405,Jeans,Adidas,Women's Fashion,30,2.67999252851008,Blue,S\\r\\n89,406,Shoes,Nike,Men's Fashion,54,1.7513915812972516,Black,L\\r\\n50,407,Shoes,Nike,Women's Fashion,78,3.5821012773746967,White,XL\\r\\n54,408,Sweater,H&M,Men's Fashion,62,2.984203036362436,White,L\\r\\n28,409,Shoes,Nike,Kids' Fashion,26,2.0108991958330478,Red,S\\r\\n48,410,Jeans,H&M,Kids' Fashion,64,4.723107547783871,Green,XL\\r\\n35,411,Sweater,Nike,Men's Fashion,67,3.2636472587364875,Red,M\\r\\n66,412,Shoes,Nike,Kids' Fashion,63,3.402409929588457,Black,XL\\r\\n18,413,Jeans,Zara,Women's Fashion,21,4.849343339346474,Green,XL\\r\\n13,414,Dress,Zara,Kids' Fashion,63,2.175163961532831,Black,XL\\r\\n22,415,Jeans,H&M,Kids' Fashion,41,2.7288765346091584,Yellow,L\\r\\n30,416,Sweater,H&M,Women's Fashion,92,3.2515158407055593,Blue,S\\r\\n58,417,Shoes,H&M,Women's Fashion,88,2.8468915044211016,Red,S\\r\\n82,418,Jeans,Zara,Men's Fashion,34,4.986091107444631,Blue,S\\r\\n44,419,T-shirt,H&M,Kids' Fashion,72,3.30257564858351,Yellow,L\\r\\n79,420,Jeans,Adidas,Men's Fashion,81,4.720487413126936,White,M\\r\\n18,421,T-shirt,Nike,Kids' Fashion,89,1.6541333315922553,White,M\\r\\n79,422,Dress,Nike,Kids' Fashion,20,2.1155797847759064,Blue,S\\r\\n56,423,Jeans,Adidas,Men's Fashion,83,4.502435021051873,Black,M\\r\\n52,424,Shoes,Adidas,Women's Fashion,45,3.055542338244526,Yellow,M\\r\\n100,425,Jeans,Nike,Men's Fashion,96,3.8120856705559953,Blue,XL\\r\\n11,426,Jeans,Zara,Men's Fashion,48,4.644768214952789,Black,L\\r\\n8,427,T-shirt,Zara,Kids' Fashion,15,4.717963172509233,Yellow,XL\\r\\n80,428,T-shirt,Gucci,Kids' Fashion,34,1.904094939025006,Green,M\\r\\n57,429,Shoes,Gucci,Women's Fashion,94,3.828901926592884,Black,XL\\r\\n72,430,T-shirt,Nike,Kids' Fashion,92,2.7719447209996972,Black,S\\r\\n46,431,Jeans,H&M,Kids' Fashion,18,2.6213904863913293,Green,S\\r\\n7,432,Jeans,H&M,Kids' Fashion,55,2.2386216273604527,Blue,L\\r\\n10,433,Jeans,H&M,Men's Fashion,59,3.87845410972745,Yellow,M\\r\\n44,434,T-shirt,Zara,Kids' Fashion,22,1.7056582064104377,Yellow,M\\r\\n46,435,T-shirt,Adidas,Men's Fashion,47,2.722706085435669,Blue,XL\\r\\n27,436,T-shirt,Zara,Kids' Fashion,99,2.822618310932883,Black,XL\\r\\n9,437,Shoes,Gucci,Men's Fashion,96,3.129701670696802,Green,XL\\r\\n89,438,T-shirt,Adidas,Kids' Fashion,86,4.685958151653461,Yellow,XL\\r\\n71,439,Jeans,Zara,Men's Fashion,20,2.5740779792568627,White,XL\\r\\n49,440,Dress,Zara,Women's Fashion,83,4.720335237515362,White,L\\r\\n47,441,Sweater,Adidas,Men's Fashion,50,1.8416056192273205,Black,XL\\r\\n88,442,T-shirt,H&M,Men's Fashion,74,3.907727442310226,Red,S\\r\\n37,443,Sweater,Gucci,Men's Fashion,11,3.021282847461632,White,L\\r\\n84,444,Dress,Nike,Men's Fashion,31,1.5645708175729318,White,XL\\r\\n38,445,Sweater,H&M,Kids' Fashion,74,4.199138753626619,Yellow,L\\r\\n18,446,Shoes,Adidas,Kids' Fashion,91,1.129824851276771,Black,L\\r\\n84,447,Shoes,H&M,Kids' Fashion,27,4.730448148414897,Yellow,XL\\r\\n75,448,Shoes,Gucci,Kids' Fashion,53,2.1448474190296,Green,M\\r\\n5,449,Shoes,H&M,Men's Fashion,82,4.547042541741298,Black,XL\\r\\n92,450,Shoes,Nike,Kids' Fashion,59,4.326285345176918,Black,XL\\r\\n42,451,T-shirt,Adidas,Kids' Fashion,69,2.978109187043206,Green,XL\\r\\n43,452,Jeans,H&M,Kids' Fashion,11,3.702569195096641,Green,XL\\r\\n30,453,Shoes,Nike,Men's Fashion,34,2.5738015876842444,Red,S\\r\\n50,454,Shoes,Zara,Kids' Fashion,47,3.6658025844577673,White,L\\r\\n58,455,T-shirt,Gucci,Women's Fashion,51,1.290974737347243,Blue,M\\r\\n93,456,Shoes,Gucci,Men's Fashion,14,4.435460757041129,Blue,M\\r\\n70,457,Jeans,Gucci,Women's Fashion,36,1.5959817015914441,Green,M\\r\\n20,458,T-shirt,Gucci,Kids' Fashion,18,1.1844500332003207,Black,L\\r\\n52,459,Dress,Adidas,Kids' Fashion,10,2.342762727934474,Black,S\\r\\n39,460,Jeans,H&M,Kids' Fashion,94,2.582289276418058,Black,L\\r\\n43,461,Shoes,Zara,Kids' Fashion,93,1.0301270335362465,Red,M\\r\\n65,462,Dress,Zara,Women's Fashion,34,2.0298203635780196,Yellow,M\\r\\n24,463,Dress,Adidas,Men's Fashion,25,3.1823244494605354,Blue,M\\r\\n53,464,Shoes,Zara,Men's Fashion,74,1.3621575462332012,Green,L\\r\\n1,465,T-shirt,Gucci,Women's Fashion,17,1.202302846194363,White,M\\r\\n30,466,Sweater,H&M,Men's Fashion,37,1.06447859153281,Black,L\\r\\n13,467,Jeans,Adidas,Women's Fashion,69,1.7953435567661877,Red,L\\r\\n40,468,Dress,Zara,Women's Fashion,38,1.3147615277086113,White,S\\r\\n83,469,Dress,Nike,Women's Fashion,95,4.906295819601038,Yellow,XL\\r\\n76,470,T-shirt,Adidas,Kids' Fashion,34,4.638343236370082,Blue,S\\r\\n38,471,T-shirt,Nike,Women's Fashion,96,2.3192924301788524,Black,M\\r\\n11,472,Jeans,Adidas,Women's Fashion,67,3.482992747973891,Green,L\\r\\n98,473,Dress,Nike,Women's Fashion,51,1.6885095349101413,Red,S\\r\\n79,474,Dress,H&M,Kids' Fashion,68,1.3706615422107191,Yellow,L\\r\\n73,475,Sweater,H&M,Men's Fashion,69,4.0741937037699305,Yellow,S\\r\\n14,476,Shoes,H&M,Women's Fashion,70,4.077371639485593,White,XL\\r\\n100,477,Sweater,Nike,Men's Fashion,30,1.559270898129546,Black,S\\r\\n77,478,T-shirt,H&M,Women's Fashion,12,1.342996211976295,Green,L\\r\\n1,479,Sweater,Nike,Men's Fashion,51,1.1975723059826162,Green,XL\\r\\n9,480,Dress,Nike,Men's Fashion,70,1.79272710809258,Blue,XL\\r\\n52,481,Jeans,Zara,Women's Fashion,24,1.671659400944899,Blue,XL\\r\\n85,482,Dress,Gucci,Women's Fashion,97,3.57821856011162,Yellow,M\\r\\n86,483,T-shirt,Zara,Women's Fashion,75,2.651376556909944,Black,XL\\r\\n92,484,Sweater,Gucci,Men's Fashion,47,2.124746600420972,Red,XL\\r\\n54,485,Dress,H&M,Women's Fashion,70,2.6381295770145043,Black,S\\r\\n69,486,Jeans,Adidas,Women's Fashion,69,1.202709784321439,Yellow,L\\r\\n21,487,T-shirt,Adidas,Women's Fashion,62,3.69895031182018,Blue,XL\\r\\n30,488,Sweater,H&M,Men's Fashion,81,1.1949983487801799,Yellow,XL\\r\\n45,489,Dress,Adidas,Men's Fashion,37,3.5606684393497297,Black,M\\r\\n12,490,T-shirt,Nike,Men's Fashion,41,1.9797044022936952,Green,L\\r\\n55,491,Dress,Zara,Kids' Fashion,42,3.122132854612722,Black,M\\r\\n30,492,Sweater,Zara,Kids' Fashion,69,1.378184911447914,Blue,M\\r\\n57,493,Shoes,H&M,Kids' Fashion,88,3.126248292620187,White,XL\\r\\n54,494,Sweater,Zara,Kids' Fashion,82,4.680935629078745,Green,M\\r\\n14,495,Jeans,Nike,Women's Fashion,78,1.1296540071029817,Blue,S\\r\\n92,496,T-shirt,Adidas,Kids' Fashion,59,1.7276955895208173,Green,L\\r\\n88,497,Jeans,Gucci,Women's Fashion,30,3.697727095901658,Yellow,M\\r\\n50,498,Dress,Zara,Men's Fashion,59,2.9859824140897167,Yellow,XL\\r\\n60,499,Dress,Adidas,Kids' Fashion,93,2.6014024743552033,White,L\\r\\n36,500,Shoes,Zara,Women's Fashion,88,1.7044395201145366,Red,M\\r\\n20,501,Sweater,Adidas,Kids' Fashion,41,4.322167156198151,Green,S\\r\\n61,502,Dress,Zara,Kids' Fashion,33,4.987964320970842,Blue,M\\r\\n84,503,Sweater,Adidas,Kids' Fashion,16,4.534499079292976,White,XL\\r\\n70,504,Sweater,Zara,Men's Fashion,22,2.096109251633728,Black,XL\\r\\n24,505,Dress,Zara,Women's Fashion,75,1.7297821493407022,Black,S\\r\\n47,506,Shoes,Nike,Women's Fashion,51,3.983456227013783,Blue,M\\r\\n37,507,T-shirt,Zara,Women's Fashion,85,4.056667234732924,White,XL\\r\\n72,508,Dress,Gucci,Men's Fashion,25,4.459064432526452,Blue,M\\r\\n95,509,Dress,Gucci,Men's Fashion,28,1.9577097618973367,Blue,L\\r\\n9,510,Shoes,Nike,Men's Fashion,60,3.108177745483727,Green,L\\r\\n52,511,Jeans,H&M,Kids' Fashion,78,2.93007161400505,Black,S\\r\\n71,512,Shoes,Nike,Men's Fashion,92,2.3623678502610774,Blue,S\\r\\n7,513,Jeans,Zara,Men's Fashion,65,4.061790921507698,Green,M\\r\\n27,514,Dress,Adidas,Kids' Fashion,47,3.432789513884916,White,M\\r\\n1,515,Dress,Nike,Kids' Fashion,64,3.748936698427991,White,S\\r\\n51,516,Shoes,Gucci,Women's Fashion,33,1.6041588640383084,Red,S\\r\\n29,517,T-shirt,Gucci,Men's Fashion,74,2.8489694583537952,Blue,M\\r\\n87,518,Sweater,Gucci,Men's Fashion,56,2.580412062121995,Yellow,S\\r\\n28,519,Sweater,Adidas,Women's Fashion,29,3.475022400933677,Blue,XL\\r\\n8,520,Dress,Zara,Men's Fashion,13,3.070483461986028,Red,L\\r\\n90,521,T-shirt,Adidas,Men's Fashion,19,3.256780571680539,White,M\\r\\n24,522,Sweater,Adidas,Men's Fashion,80,2.9390797234183057,Yellow,S\\r\\n82,523,Sweater,Gucci,Women's Fashion,71,1.2247699594971881,Black,S\\r\\n51,524,T-shirt,Nike,Kids' Fashion,47,1.9344500176750348,Black,S\\r\\n72,525,T-shirt,Adidas,Kids' Fashion,58,2.443379935979906,Blue,M\\r\\n36,526,Jeans,Zara,Women's Fashion,70,2.9296883485274963,Red,L\\r\\n12,527,T-shirt,Nike,Kids' Fashion,31,4.14779066270218,Yellow,M\\r\\n98,528,Shoes,Zara,Men's Fashion,33,2.7147621741886026,Black,M\\r\\n77,529,Shoes,Gucci,Women's Fashion,59,1.995143535362487,White,L\\r\\n7,530,Shoes,Adidas,Kids' Fashion,71,3.3564104018035827,Black,M\\r\\n50,531,Dress,H&M,Women's Fashion,45,2.8930977062148844,Green,L\\r\\n32,532,Shoes,Zara,Men's Fashion,21,2.066029253582321,Blue,L\\r\\n12,533,Shoes,Nike,Kids' Fashion,11,4.825169004349863,Green,S\\r\\n40,534,Dress,Adidas,Kids' Fashion,94,4.508485512596069,Yellow,M\\r\\n24,535,Jeans,Nike,Women's Fashion,87,1.204241994898244,Red,L\\r\\n82,536,Dress,H&M,Kids' Fashion,18,3.3474610739217217,Yellow,S\\r\\n41,537,Jeans,Nike,Men's Fashion,68,2.4059670706428222,Red,M\\r\\n11,538,Dress,Nike,Men's Fashion,94,2.3695275455416125,Blue,M\\r\\n26,539,T-shirt,Nike,Kids' Fashion,10,3.10162343410321,Blue,L\\r\\n26,540,Jeans,H&M,Kids' Fashion,80,1.1656149909013949,Yellow,M\\r\\n48,541,Jeans,Nike,Women's Fashion,17,2.1369267270918972,Green,S\\r\\n35,542,Dress,Adidas,Men's Fashion,92,4.022021188026615,Red,S\\r\\n15,543,Jeans,Gucci,Men's Fashion,86,4.165312333327837,Yellow,M\\r\\n54,544,T-shirt,Nike,Women's Fashion,77,3.556866321338189,Red,L\\r\\n68,545,Shoes,Zara,Men's Fashion,82,2.004271238180019,Red,XL\\r\\n6,546,Shoes,Zara,Women's Fashion,93,1.3562617808119044,Red,L\\r\\n6,547,Sweater,H&M,Kids' Fashion,89,2.544323557095194,Yellow,XL\\r\\n79,548,Sweater,Zara,Kids' Fashion,65,1.4929925625271236,Red,M\\r\\n11,549,Dress,Zara,Women's Fashion,96,4.283951139983333,Blue,XL\\r\\n57,550,T-shirt,Nike,Men's Fashion,69,2.9282577428168195,Yellow,L\\r\\n49,551,Jeans,H&M,Women's Fashion,83,4.073676651771997,Blue,M\\r\\n2,552,Sweater,Adidas,Kids' Fashion,50,4.480168912504218,Blue,M\\r\\n10,553,Shoes,Adidas,Men's Fashion,90,1.1984941197654537,Green,XL\\r\\n11,554,Sweater,Adidas,Men's Fashion,51,4.096963788638659,Blue,L\\r\\n21,555,T-shirt,Adidas,Women's Fashion,67,3.9360871086803644,Blue,L\\r\\n26,556,T-shirt,H&M,Women's Fashion,39,2.600749075535833,Red,L\\r\\n45,557,Shoes,Adidas,Women's Fashion,85,1.5020219983988095,Black,M\\r\\n2,558,Jeans,Adidas,Women's Fashion,23,2.0266822697055793,Red,XL\\r\\n6,559,Shoes,Gucci,Women's Fashion,10,4.233459275828356,Red,XL\\r\\n31,560,Dress,Adidas,Women's Fashion,99,1.002064068673565,Red,XL\\r\\n65,561,Shoes,Zara,Men's Fashion,96,3.9684563446753782,Yellow,M\\r\\n37,562,T-shirt,Zara,Kids' Fashion,29,4.440105990803638,Green,L\\r\\n44,563,Shoes,Adidas,Men's Fashion,39,4.043087202994669,Blue,XL\\r\\n70,564,Shoes,Adidas,Kids' Fashion,31,4.563265489529814,Blue,M\\r\\n13,565,Sweater,Nike,Kids' Fashion,11,2.5928850494829168,White,L\\r\\n100,566,Dress,Gucci,Kids' Fashion,80,4.024158908237746,White,M\\r\\n27,567,Dress,Zara,Kids' Fashion,96,1.2067229460310762,Black,M\\r\\n61,568,Sweater,Gucci,Kids' Fashion,20,3.492861270836571,Red,L\\r\\n92,569,Dress,Nike,Kids' Fashion,55,4.239391099321933,Blue,XL\\r\\n4,570,T-shirt,Adidas,Women's Fashion,54,1.452466381841047,Black,S\\r\\n23,571,Jeans,Nike,Men's Fashion,23,2.6192183691043205,Red,M\\r\\n17,572,Sweater,H&M,Men's Fashion,63,4.051564760911642,Blue,S\\r\\n80,573,Shoes,Zara,Kids' Fashion,78,3.401509067928137,White,L\\r\\n9,574,Jeans,Gucci,Women's Fashion,92,4.491894014291022,Black,L\\r\\n99,575,T-shirt,H&M,Kids' Fashion,72,4.755480007672844,White,L\\r\\n76,576,T-shirt,H&M,Women's Fashion,26,3.089887684926298,White,S\\r\\n41,577,T-shirt,H&M,Women's Fashion,66,2.1606955120415234,White,M\\r\\n65,578,Dress,Gucci,Women's Fashion,48,3.121693130994281,Green,L\\r\\n26,579,Shoes,Gucci,Women's Fashion,57,4.985949918767776,White,XL\\r\\n38,580,Shoes,Adidas,Men's Fashion,92,2.494203848358386,Green,S\\r\\n65,581,Sweater,Zara,Men's Fashion,83,4.715188838618067,Red,L\\r\\n24,582,Dress,Zara,Men's Fashion,70,2.2431035471118395,White,M\\r\\n96,583,Dress,H&M,Kids' Fashion,64,4.454992310265407,Green,L\\r\\n71,584,T-shirt,Gucci,Women's Fashion,17,2.63550072139775,Black,S\\r\\n6,585,Jeans,Adidas,Women's Fashion,68,3.5916888409866767,Yellow,M\\r\\n38,586,Sweater,Nike,Kids' Fashion,99,2.2800763889264375,Yellow,M\\r\\n41,587,T-shirt,Adidas,Women's Fashion,50,1.2529617272688585,Blue,XL\\r\\n46,588,T-shirt,Gucci,Kids' Fashion,24,3.4112877320238266,White,S\\r\\n71,589,T-shirt,Adidas,Women's Fashion,99,1.0242497517145526,Red,L\\r\\n56,590,T-shirt,Nike,Kids' Fashion,65,2.4293298390384206,Green,L\\r\\n61,591,Jeans,Gucci,Women's Fashion,97,2.036236384768328,White,M\\r\\n29,592,Jeans,Nike,Kids' Fashion,47,1.7590751533021205,Yellow,M\\r\\n97,593,Sweater,H&M,Men's Fashion,89,3.1455191481223097,White,S\\r\\n97,594,Sweater,Nike,Kids' Fashion,86,3.842198105236463,Yellow,S\\r\\n53,595,T-shirt,Gucci,Women's Fashion,96,3.633088055124007,Blue,S\\r\\n9,596,Dress,H&M,Women's Fashion,35,3.939543887889841,Black,L\\r\\n95,597,Jeans,H&M,Men's Fashion,38,3.2439759020490424,Blue,M\\r\\n79,598,Shoes,Gucci,Women's Fashion,77,1.4264405009787162,Yellow,XL\\r\\n52,599,T-shirt,H&M,Men's Fashion,80,4.46590120785099,Green,S\\r\\n40,600,T-shirt,Adidas,Men's Fashion,97,1.4973990159023316,Yellow,M\\r\\n80,601,Dress,Adidas,Women's Fashion,44,1.0347072487833082,White,L\\r\\n7,602,Sweater,Zara,Women's Fashion,11,4.34286438934025,White,L\\r\\n26,603,Dress,Zara,Kids' Fashion,13,2.03098840339048,Black,S\\r\\n74,604,T-shirt,Gucci,Men's Fashion,10,3.9765006942974344,Yellow,S\\r\\n92,605,Jeans,Adidas,Women's Fashion,62,2.901295957009731,Red,S\\r\\n35,606,Dress,Nike,Women's Fashion,28,4.214703599908896,White,S\\r\\n40,607,T-shirt,Nike,Women's Fashion,55,1.1788030981565618,Yellow,S\\r\\n90,608,T-shirt,H&M,Women's Fashion,51,2.7110812194367973,Blue,M\\r\\n89,609,Sweater,Adidas,Kids' Fashion,75,4.7855252407598625,Red,S\\r\\n85,610,Shoes,H&M,Women's Fashion,62,2.5328562118891824,Green,M\\r\\n2,611,Shoes,Gucci,Kids' Fashion,85,2.032281097179503,White,L\\r\\n28,612,Shoes,Zara,Men's Fashion,27,2.269794298996219,Blue,XL\\r\\n80,613,Jeans,Gucci,Women's Fashion,37,4.652599021987508,Black,XL\\r\\n89,614,Sweater,Gucci,Men's Fashion,47,1.350981011154583,Green,L\\r\\n44,615,T-shirt,Nike,Kids' Fashion,67,2.8944502999214716,Red,L\\r\\n80,616,Dress,Zara,Women's Fashion,98,4.871838867222296,Red,M\\r\\n19,617,Jeans,Adidas,Kids' Fashion,77,1.7026116692394053,Black,XL\\r\\n51,618,Shoes,Gucci,Kids' Fashion,85,4.728247063334171,Green,L\\r\\n10,619,T-shirt,Nike,Women's Fashion,97,1.2884443396800793,Blue,M\\r\\n68,620,Sweater,Nike,Kids' Fashion,37,3.4621543782315536,White,XL\\r\\n17,621,Shoes,H&M,Men's Fashion,72,2.6500838926647985,Yellow,S\\r\\n30,622,T-shirt,Nike,Men's Fashion,45,3.7846314135843233,Red,XL\\r\\n67,623,Shoes,Adidas,Kids' Fashion,62,1.6105051313860996,Green,L\\r\\n83,624,T-shirt,Nike,Women's Fashion,70,4.450171664877935,White,L\\r\\n75,625,Shoes,Adidas,Kids' Fashion,78,3.4525323674615795,Black,L\\r\\n44,626,Jeans,Adidas,Men's Fashion,29,4.18033034240844,Yellow,S\\r\\n61,627,T-shirt,Adidas,Men's Fashion,94,1.8716496105038987,Green,M\\r\\n93,628,Sweater,Nike,Women's Fashion,64,3.8126764367057873,Red,S\\r\\n80,629,Shoes,Gucci,Men's Fashion,95,3.5793200919655557,White,M\\r\\n74,630,T-shirt,Nike,Women's Fashion,84,1.6614612903928974,White,XL\\r\\n65,631,T-shirt,Zara,Kids' Fashion,32,4.197234004324763,White,S\\r\\n64,632,Dress,Zara,Kids' Fashion,66,3.755337679891101,Yellow,M\\r\\n73,633,Dress,Nike,Women's Fashion,72,3.751515852459196,Red,L\\r\\n9,634,Shoes,Nike,Kids' Fashion,27,1.2952964188326406,Yellow,S\\r\\n34,635,Jeans,Adidas,Women's Fashion,29,2.2350569966689218,Yellow,XL\\r\\n10,636,Shoes,Gucci,Kids' Fashion,96,4.6022106490577865,Yellow,L\\r\\n33,637,Shoes,Zara,Kids' Fashion,55,3.770055014681934,Green,S\\r\\n7,638,Sweater,Adidas,Men's Fashion,22,4.9052804605304665,White,M\\r\\n22,639,Shoes,Zara,Men's Fashion,26,3.5524714785499576,Blue,L\\r\\n11,640,T-shirt,Zara,Kids' Fashion,72,2.7514166708130268,Red,S\\r\\n10,641,Shoes,Zara,Kids' Fashion,20,1.985714887523942,White,M\\r\\n75,642,T-shirt,Gucci,Kids' Fashion,22,4.965199288819955,Black,S\\r\\n63,643,T-shirt,Zara,Kids' Fashion,42,4.62809881985902,Black,L\\r\\n64,644,Shoes,H&M,Kids' Fashion,79,1.0745667225897506,White,M\\r\\n46,645,T-shirt,Zara,Kids' Fashion,98,4.696076856201794,Black,S\\r\\n36,646,Sweater,Zara,Men's Fashion,36,2.8142334990659794,Green,M\\r\\n25,647,Shoes,Adidas,Women's Fashion,60,1.6159672371990217,Black,M\\r\\n74,648,T-shirt,Gucci,Men's Fashion,20,3.260638818293495,White,L\\r\\n82,649,T-shirt,Gucci,Women's Fashion,76,2.4414806576875763,Red,S\\r\\n22,650,Dress,Gucci,Women's Fashion,99,4.3090895745756175,Green,M\\r\\n35,651,Shoes,Gucci,Men's Fashion,16,1.0050871518547542,Yellow,XL\\r\\n8,652,Jeans,Zara,Kids' Fashion,74,1.0625071762655964,Yellow,L\\r\\n65,653,Dress,Gucci,Kids' Fashion,17,4.811990498153584,Red,L\\r\\n34,654,Shoes,Zara,Kids' Fashion,42,4.276502785887214,Blue,S\\r\\n6,655,T-shirt,Zara,Men's Fashion,33,1.9993123102666237,Black,S\\r\\n67,656,Jeans,Nike,Men's Fashion,79,4.660541004440319,White,M\\r\\n36,657,Jeans,Nike,Men's Fashion,87,2.0975454829088953,Yellow,L\\r\\n60,658,Jeans,Adidas,Women's Fashion,40,3.252305172159593,Green,L\\r\\n97,659,Shoes,Zara,Women's Fashion,21,1.024989525670207,White,M\\r\\n11,660,Dress,Adidas,Kids' Fashion,41,2.689886463072138,Blue,S\\r\\n30,661,Jeans,Gucci,Kids' Fashion,71,1.5336121410042902,Blue,XL\\r\\n4,662,Dress,Nike,Women's Fashion,14,3.4567401113945544,Black,S\\r\\n17,663,Sweater,Zara,Women's Fashion,52,1.1949642031700618,Black,L\\r\\n33,664,Shoes,H&M,Kids' Fashion,28,4.464839094994941,White,L\\r\\n89,665,T-shirt,H&M,Women's Fashion,25,3.1717470470668934,Red,S\\r\\n37,666,T-shirt,H&M,Women's Fashion,76,1.9389626420919277,Black,S\\r\\n49,667,Shoes,Nike,Kids' Fashion,64,1.0982353157898852,Blue,XL\\r\\n77,668,Shoes,Zara,Men's Fashion,11,1.8422788671618355,White,S\\r\\n100,669,Shoes,Adidas,Women's Fashion,66,2.92974159743459,White,L\\r\\n48,670,T-shirt,Gucci,Men's Fashion,55,4.268877637646993,Yellow,M\\r\\n8,671,Dress,Adidas,Women's Fashion,16,3.234874806884243,Blue,L\\r\\n31,672,Sweater,Zara,Kids' Fashion,93,2.9582628217520117,Blue,M\\r\\n79,673,T-shirt,Gucci,Kids' Fashion,83,3.1840131431574275,Yellow,M\\r\\n2,674,Shoes,Adidas,Kids' Fashion,72,1.947337779231864,Green,L\\r\\n11,675,Sweater,Nike,Kids' Fashion,29,1.3981317924093761,Green,XL\\r\\n25,676,Shoes,Nike,Women's Fashion,11,2.7794240447717073,Black,L\\r\\n74,677,Shoes,Gucci,Women's Fashion,68,4.565208378666075,Blue,L\\r\\n11,678,Dress,H&M,Men's Fashion,85,2.8629809334068224,Black,L\\r\\n99,679,Jeans,Adidas,Kids' Fashion,19,1.179131481313553,Yellow,L\\r\\n5,680,Dress,Nike,Women's Fashion,55,4.049538098056264,Red,XL\\r\\n59,681,Shoes,Zara,Kids' Fashion,24,3.809658143846299,Black,L\\r\\n13,682,Jeans,Adidas,Women's Fashion,52,4.351322209527126,Blue,XL\\r\\n75,683,Jeans,Gucci,Men's Fashion,31,2.4103074868321754,White,XL\\r\\n31,684,Dress,Adidas,Women's Fashion,12,3.9413154716573753,White,S\\r\\n37,685,Jeans,Nike,Men's Fashion,19,1.269435004559401,White,M\\r\\n9,686,Jeans,H&M,Women's Fashion,75,2.9465056423202856,Green,M\\r\\n35,687,Sweater,H&M,Kids' Fashion,74,4.174085420293045,Blue,L\\r\\n19,688,Sweater,H&M,Kids' Fashion,91,1.3736199668115425,White,XL\\r\\n5,689,Jeans,H&M,Kids' Fashion,32,3.221341779752774,Black,L\\r\\n11,690,Jeans,H&M,Kids' Fashion,34,2.152949486013709,White,L\\r\\n38,691,T-shirt,Adidas,Kids' Fashion,13,3.2684278173110495,Blue,XL\\r\\n91,692,Dress,Nike,Women's Fashion,39,4.70535477909077,Red,XL\\r\\n44,693,Shoes,Nike,Men's Fashion,62,2.5543032033922044,Green,L\\r\\n98,694,T-shirt,Adidas,Kids' Fashion,51,2.0500639939058307,Red,L\\r\\n45,695,Dress,Zara,Women's Fashion,78,4.734713083950378,Red,XL\\r\\n81,696,Sweater,Adidas,Men's Fashion,39,4.5927665608080135,Green,XL\\r\\n61,697,T-shirt,Nike,Women's Fashion,99,4.804098158293213,Green,L\\r\\n82,698,Sweater,Zara,Men's Fashion,85,1.8043967645785433,White,XL\\r\\n52,699,T-shirt,Adidas,Men's Fashion,50,1.6536231320458272,Green,S\\r\\n96,700,Dress,H&M,Women's Fashion,78,4.8246492753207,Yellow,S\\r\\n34,701,Jeans,Nike,Women's Fashion,17,2.258849244950669,Blue,XL\\r\\n46,702,Shoes,Gucci,Kids' Fashion,58,4.794781603103964,Blue,L\\r\\n27,703,Shoes,Gucci,Men's Fashion,21,3.4251803311051345,Blue,S\\r\\n6,704,T-shirt,Adidas,Kids' Fashion,38,4.9796782936579325,Green,M\\r\\n32,705,Dress,Nike,Kids' Fashion,67,2.1969046712990146,Black,L\\r\\n91,706,Jeans,Gucci,Women's Fashion,69,1.0500462578370575,Green,S\\r\\n100,707,Dress,Adidas,Women's Fashion,68,4.295812637312633,Green,M\\r\\n17,708,T-shirt,Nike,Kids' Fashion,76,4.448919722567996,Black,M\\r\\n57,709,T-shirt,Adidas,Men's Fashion,53,1.683155281482577,White,XL\\r\\n50,710,Sweater,Zara,Men's Fashion,58,2.1690901308446637,Red,S\\r\\n37,711,Jeans,Adidas,Men's Fashion,34,3.4839397351205137,Red,M\\r\\n76,712,Shoes,Gucci,Kids' Fashion,100,4.610941929179471,Green,S\\r\\n25,713,Jeans,Gucci,Men's Fashion,75,4.44012016300772,Blue,XL\\r\\n91,714,Shoes,Zara,Men's Fashion,35,2.4914951406785892,White,S\\r\\n48,715,Shoes,Nike,Women's Fashion,84,4.868671075928118,Yellow,L\\r\\n11,716,Shoes,Adidas,Men's Fashion,68,3.9283382928868344,Red,S\\r\\n8,717,Sweater,Nike,Women's Fashion,34,4.22690922306324,Yellow,M\\r\\n73,718,T-shirt,Zara,Women's Fashion,30,1.373331833878399,White,L\\r\\n59,719,Dress,H&M,Women's Fashion,34,1.9399615985868692,Blue,M\\r\\n97,720,Shoes,Adidas,Men's Fashion,27,2.573743469300905,Black,S\\r\\n42,721,Shoes,Zara,Kids' Fashion,77,2.2061699390445635,Blue,M\\r\\n78,722,Dress,Adidas,Women's Fashion,73,3.9579915106733106,Blue,L\\r\\n55,723,T-shirt,Nike,Men's Fashion,97,1.109084447881032,White,S\\r\\n82,724,Shoes,Adidas,Women's Fashion,57,3.16532405890063,Yellow,S\\r\\n87,725,Jeans,Gucci,Women's Fashion,12,3.8051212257285916,Black,XL\\r\\n40,726,T-shirt,Nike,Men's Fashion,10,3.2062574418554957,Red,XL\\r\\n72,727,Jeans,Adidas,Women's Fashion,11,4.420346267104071,White,S\\r\\n95,728,Dress,Zara,Men's Fashion,63,2.409415897427331,Yellow,S\\r\\n26,729,Sweater,Gucci,Kids' Fashion,10,2.7286888209350737,Yellow,XL\\r\\n72,730,Jeans,Zara,Kids' Fashion,68,1.6073116824226394,Green,M\\r\\n20,731,Sweater,Adidas,Men's Fashion,62,4.898212137949798,White,XL\\r\\n48,732,Shoes,Zara,Women's Fashion,28,2.6450588124304923,Blue,S\\r\\n89,733,Sweater,Adidas,Women's Fashion,75,4.891155555210273,Black,M\\r\\n89,734,Dress,Zara,Women's Fashion,80,1.5925635946790164,Blue,XL\\r\\n65,735,Sweater,H&M,Men's Fashion,28,3.902509392279671,Yellow,L\\r\\n11,736,T-shirt,Adidas,Men's Fashion,94,2.7616943109060967,White,L\\r\\n20,737,T-shirt,Adidas,Kids' Fashion,78,1.1267956152974978,Blue,S\\r\\n30,738,Jeans,H&M,Men's Fashion,100,1.0338431929963692,Blue,L\\r\\n24,739,Sweater,Gucci,Kids' Fashion,80,1.2308176117373901,Red,M\\r\\n68,740,Dress,Nike,Women's Fashion,72,3.6911349613556084,White,XL\\r\\n49,741,Shoes,Nike,Women's Fashion,81,3.3868368182647823,Blue,XL\\r\\n54,742,Dress,H&M,Men's Fashion,85,3.4628026111593266,Yellow,L\\r\\n15,743,Jeans,H&M,Women's Fashion,55,1.729135622303739,Red,XL\\r\\n21,744,Shoes,Zara,Men's Fashion,97,2.999073582628465,Black,XL\\r\\n73,745,Sweater,Zara,Men's Fashion,40,3.753972994332569,Blue,L\\r\\n13,746,Shoes,Gucci,Kids' Fashion,21,1.2506412464341623,Black,S\\r\\n37,747,Jeans,Adidas,Kids' Fashion,73,1.41973993323154,White,XL\\r\\n87,748,Sweater,Zara,Kids' Fashion,45,3.346345375193649,Red,S\\r\\n31,749,Shoes,Gucci,Women's Fashion,43,2.386806405486635,Black,L\\r\\n71,750,Shoes,Nike,Kids' Fashion,57,3.7275939913548717,Red,L\\r\\n65,751,Jeans,Gucci,Kids' Fashion,72,2.0975251732194695,Blue,S\\r\\n14,752,Dress,Gucci,Men's Fashion,72,1.9733009657894285,Blue,L\\r\\n17,753,Jeans,Zara,Kids' Fashion,86,4.2090982166451685,Yellow,S\\r\\n63,754,Jeans,Gucci,Kids' Fashion,79,1.8938237440768177,Red,L\\r\\n99,755,T-shirt,Zara,Women's Fashion,90,3.4672099396707865,White,S\\r\\n37,756,Jeans,Adidas,Men's Fashion,34,1.669924032380525,Black,XL\\r\\n66,757,Shoes,Gucci,Kids' Fashion,61,4.188203485333442,Black,L\\r\\n32,758,Jeans,Nike,Women's Fashion,51,4.222293805556814,Green,M\\r\\n39,759,Shoes,Gucci,Kids' Fashion,65,1.8292858750432148,Black,S\\r\\n35,760,Jeans,Nike,Women's Fashion,57,3.458410207272511,Green,S\\r\\n86,761,Dress,H&M,Men's Fashion,92,3.643455853546427,Black,L\\r\\n8,762,Jeans,Nike,Kids' Fashion,50,3.8043586435245174,Blue,XL\\r\\n71,763,T-shirt,Nike,Men's Fashion,25,2.0855466420967725,Green,S\\r\\n10,764,Dress,H&M,Women's Fashion,30,2.0614920730034725,Black,M\\r\\n25,765,Sweater,H&M,Kids' Fashion,86,4.826714567008198,Blue,S\\r\\n25,766,Jeans,Zara,Men's Fashion,40,4.461908067214153,Green,M\\r\\n83,767,Shoes,H&M,Men's Fashion,72,4.630137819988413,Yellow,L\\r\\n12,768,Shoes,H&M,Women's Fashion,95,4.599817817388383,White,M\\r\\n71,769,Sweater,Zara,Men's Fashion,28,4.47617222178992,White,S\\r\\n93,770,T-shirt,H&M,Kids' Fashion,14,4.680516842481243,Yellow,S\\r\\n71,771,T-shirt,Zara,Men's Fashion,82,1.5658426086441128,Red,XL\\r\\n34,772,Shoes,Gucci,Men's Fashion,24,4.773680198551219,Black,XL\\r\\n70,773,Shoes,Nike,Women's Fashion,74,2.5048761629214176,Black,XL\\r\\n74,774,Dress,H&M,Men's Fashion,94,2.9773552563375367,White,L\\r\\n39,775,Dress,H&M,Men's Fashion,60,3.2011460725396317,White,M\\r\\n73,776,Dress,Nike,Men's Fashion,86,2.21938430393718,Red,M\\r\\n40,777,Jeans,Adidas,Kids' Fashion,88,1.7981290963364325,Green,M\\r\\n25,778,Dress,Nike,Kids' Fashion,80,3.975467677830078,White,L\\r\\n98,779,Jeans,Nike,Kids' Fashion,94,3.7260358743068207,Yellow,XL\\r\\n46,780,T-shirt,Gucci,Kids' Fashion,89,1.7214787839333945,Blue,XL\\r\\n83,781,Sweater,Nike,Men's Fashion,85,4.828402784929459,Green,L\\r\\n23,782,T-shirt,Adidas,Men's Fashion,31,1.9480869398705125,White,M\\r\\n76,783,Jeans,H&M,Women's Fashion,59,2.197254325025513,Red,S\\r\\n95,784,Sweater,Zara,Men's Fashion,46,3.0739062223182816,White,M\\r\\n77,785,T-shirt,H&M,Men's Fashion,57,1.2698340276554738,Red,S\\r\\n65,786,T-shirt,H&M,Kids' Fashion,73,3.958356667730027,White,L\\r\\n91,787,Dress,H&M,Women's Fashion,96,3.255146989828646,Blue,XL\\r\\n34,788,Jeans,Adidas,Kids' Fashion,74,3.1438729248635977,Red,S\\r\\n22,789,Jeans,Nike,Women's Fashion,99,2.51420491178642,Yellow,XL\\r\\n31,790,Shoes,Adidas,Men's Fashion,34,1.0985673797241886,Red,S\\r\\n73,791,Jeans,Gucci,Women's Fashion,58,3.648417121296503,Green,L\\r\\n88,792,Sweater,Adidas,Kids' Fashion,88,4.645175946919393,Yellow,XL\\r\\n28,793,T-shirt,Zara,Kids' Fashion,82,1.3204700723008638,Black,XL\\r\\n9,794,Jeans,H&M,Women's Fashion,68,4.293960350544236,Black,M\\r\\n2,795,Jeans,Gucci,Kids' Fashion,30,1.4819665724485276,Black,S\\r\\n3,796,Jeans,H&M,Women's Fashion,86,1.856397460211856,Black,M\\r\\n68,797,Sweater,H&M,Kids' Fashion,62,1.117533503515248,Red,XL\\r\\n28,798,Jeans,H&M,Kids' Fashion,75,1.7967267212576012,Blue,M\\r\\n48,799,Shoes,Adidas,Men's Fashion,20,2.3278871226154085,Yellow,XL\\r\\n61,800,T-shirt,H&M,Men's Fashion,38,4.782806321628216,Red,S\\r\\n33,801,Jeans,Zara,Men's Fashion,39,3.513026866310333,Black,XL\\r\\n66,802,Shoes,Gucci,Men's Fashion,26,2.6429528634451596,Green,XL\\r\\n56,803,Sweater,Nike,Men's Fashion,13,1.6154252144956214,Blue,XL\\r\\n66,804,T-shirt,Zara,Kids' Fashion,91,2.6307266412853325,Black,M\\r\\n53,805,Dress,H&M,Men's Fashion,84,3.3897458628353414,Blue,XL\\r\\n100,806,Jeans,Zara,Women's Fashion,11,3.7786305270389233,Green,L\\r\\n74,807,Jeans,Zara,Men's Fashion,31,2.003227448848981,Blue,S\\r\\n20,808,T-shirt,Adidas,Women's Fashion,26,4.324805158780109,Yellow,L\\r\\n5,809,Jeans,Adidas,Men's Fashion,22,3.1425952778540425,White,XL\\r\\n31,810,Jeans,Zara,Kids' Fashion,39,1.0669133706371694,Black,M\\r\\n9,811,Jeans,Gucci,Kids' Fashion,63,1.8430967807499492,White,M\\r\\n9,812,Dress,Nike,Women's Fashion,23,1.1767334992926166,Blue,M\\r\\n42,813,Sweater,Zara,Men's Fashion,97,3.0508326297176045,Blue,M\\r\\n62,814,Sweater,Zara,Women's Fashion,48,2.7959801706610983,Yellow,XL\\r\\n78,815,Sweater,Zara,Women's Fashion,16,3.127369463710594,Black,S\\r\\n24,816,Jeans,Nike,Kids' Fashion,86,1.09083862383619,Blue,XL\\r\\n51,817,T-shirt,Adidas,Kids' Fashion,15,1.1605006718708668,Black,XL\\r\\n42,818,Dress,Nike,Women's Fashion,36,4.02293820181525,Blue,L\\r\\n45,819,T-shirt,Zara,Men's Fashion,41,3.443916707036098,White,XL\\r\\n91,820,T-shirt,Nike,Women's Fashion,49,3.159661540408299,White,L\\r\\n65,821,Dress,H&M,Women's Fashion,30,3.6377439313698314,Blue,XL\\r\\n75,822,T-shirt,Gucci,Kids' Fashion,48,4.743995465955004,Green,XL\\r\\n65,823,T-shirt,H&M,Kids' Fashion,77,2.883007250473137,White,L\\r\\n3,824,Shoes,Zara,Women's Fashion,17,1.080282826533863,White,L\\r\\n32,825,T-shirt,Zara,Men's Fashion,12,1.8513957128994623,White,M\\r\\n35,826,Shoes,Adidas,Women's Fashion,92,4.775265822835174,Red,S\\r\\n13,827,Shoes,Nike,Women's Fashion,92,1.7803086713602094,Red,XL\\r\\n94,828,Sweater,H&M,Women's Fashion,29,4.401707974274554,Green,S\\r\\n18,829,Dress,Adidas,Men's Fashion,19,4.2570846480415545,Black,XL\\r\\n94,830,Jeans,Gucci,Kids' Fashion,54,3.729791859161868,Green,S\\r\\n19,831,Jeans,Gucci,Kids' Fashion,37,2.5483012287895255,Black,S\\r\\n96,832,Jeans,Nike,Women's Fashion,87,2.3573407480614743,Blue,L\\r\\n70,833,Sweater,H&M,Kids' Fashion,82,1.1000558840751022,Yellow,L\\r\\n99,834,Shoes,H&M,Women's Fashion,98,3.7763247617105797,Yellow,S\\r\\n15,835,T-shirt,Nike,Kids' Fashion,84,2.8910926350514212,Yellow,XL\\r\\n93,836,Jeans,Gucci,Women's Fashion,21,4.24899805965906,White,L\\r\\n59,837,Shoes,Nike,Kids' Fashion,50,2.406013133937443,Black,M\\r\\n33,838,Jeans,Zara,Men's Fashion,60,2.6772891068056395,Blue,S\\r\\n26,839,Dress,Nike,Kids' Fashion,68,2.655170363155884,Blue,S\\r\\n73,840,Shoes,Zara,Kids' Fashion,84,3.154720588404741,Red,S\\r\\n56,841,Dress,Zara,Men's Fashion,37,3.0051642079844783,Blue,M\\r\\n59,842,Jeans,Adidas,Men's Fashion,44,3.0622732805232724,White,XL\\r\\n52,843,Shoes,Nike,Kids' Fashion,91,2.7230129635792886,Red,M\\r\\n1,844,Sweater,Zara,Kids' Fashion,11,2.8851093739325293,Blue,M\\r\\n66,845,Sweater,Gucci,Men's Fashion,92,2.1024246005977343,Green,M\\r\\n82,846,T-shirt,Nike,Kids' Fashion,26,4.304919133983496,Yellow,M\\r\\n88,847,T-shirt,Gucci,Women's Fashion,10,1.3749819296285328,Green,S\\r\\n78,848,Shoes,Nike,Kids' Fashion,31,3.763596384540637,White,L\\r\\n14,849,Dress,Nike,Kids' Fashion,60,3.6429906907382983,Green,S\\r\\n2,850,T-shirt,Nike,Kids' Fashion,73,1.270582725054258,Yellow,L\\r\\n24,851,Jeans,Nike,Men's Fashion,46,2.685204468362614,Yellow,XL\\r\\n38,852,Jeans,H&M,Kids' Fashion,83,3.0112484967640607,Red,XL\\r\\n5,853,Dress,H&M,Kids' Fashion,20,3.0097729483212037,Green,L\\r\\n72,854,T-shirt,Adidas,Kids' Fashion,83,3.709391012428488,Green,M\\r\\n96,855,Jeans,H&M,Kids' Fashion,88,1.9022367224903864,Red,L\\r\\n55,856,Jeans,Gucci,Women's Fashion,93,1.8010346338961636,Green,XL\\r\\n37,857,Dress,H&M,Men's Fashion,93,4.350896543360726,Blue,M\\r\\n64,858,T-shirt,Zara,Kids' Fashion,96,4.451841228617943,Yellow,M\\r\\n48,859,T-shirt,Adidas,Women's Fashion,44,1.4002166758874734,Red,L\\r\\n75,860,Dress,Nike,Kids' Fashion,43,4.027847421729146,Blue,S\\r\\n60,861,Shoes,Gucci,Men's Fashion,98,4.660135925497219,White,XL\\r\\n61,862,Sweater,Adidas,Kids' Fashion,14,1.57892056272944,Blue,S\\r\\n49,863,Shoes,Gucci,Men's Fashion,99,1.4330252244999713,Red,S\\r\\n22,864,Sweater,Nike,Men's Fashion,48,3.9409459682084598,Yellow,L\\r\\n54,865,Jeans,Gucci,Women's Fashion,80,1.6728649930714936,Yellow,M\\r\\n89,866,Shoes,H&M,Men's Fashion,66,4.550095005978127,White,S\\r\\n3,867,Jeans,Nike,Men's Fashion,90,4.235108869512084,Black,S\\r\\n84,868,Sweater,Gucci,Kids' Fashion,72,3.9294719588990894,Red,L\\r\\n98,869,Jeans,Zara,Men's Fashion,100,1.839078604510107,Black,XL\\r\\n100,870,Jeans,Nike,Kids' Fashion,26,2.7080091380488724,Yellow,S\\r\\n56,871,Shoes,H&M,Men's Fashion,66,2.6223709153220285,White,XL\\r\\n94,872,Jeans,H&M,Women's Fashion,96,4.646393153602185,Black,M\\r\\n16,873,T-shirt,Gucci,Kids' Fashion,27,3.338711160454985,Red,L\\r\\n54,874,Dress,Gucci,Kids' Fashion,45,4.163516573017342,Yellow,XL\\r\\n74,875,Jeans,Adidas,Kids' Fashion,52,3.275055379255416,Black,L\\r\\n26,876,Dress,Nike,Kids' Fashion,82,1.2981686337719855,Green,M\\r\\n92,877,Sweater,Zara,Women's Fashion,29,4.5004308727166284,Red,L\\r\\n34,878,Sweater,Nike,Women's Fashion,59,4.023961130050301,Yellow,XL\\r\\n1,879,T-shirt,Nike,Kids' Fashion,67,4.3014616705889335,Red,S\\r\\n18,880,Sweater,Zara,Kids' Fashion,48,1.9378068143090594,White,L\\r\\n25,881,Shoes,H&M,Men's Fashion,20,2.763920221496355,Red,XL\\r\\n35,882,Sweater,Gucci,Women's Fashion,57,2.4145047667618633,Yellow,XL\\r\\n73,883,Shoes,Nike,Kids' Fashion,49,1.9337976626029563,Yellow,L\\r\\n94,884,Dress,Zara,Men's Fashion,51,2.894494254484225,Green,L\\r\\n90,885,T-shirt,Zara,Kids' Fashion,94,3.031971531896187,White,XL\\r\\n38,886,Dress,Gucci,Men's Fashion,27,3.416143045780282,Blue,M\\r\\n79,887,Sweater,Adidas,Men's Fashion,88,3.645241825230726,Blue,XL\\r\\n39,888,Sweater,Gucci,Kids' Fashion,73,4.953445889820932,Blue,S\\r\\n60,889,Shoes,Adidas,Kids' Fashion,25,4.596019469844858,Yellow,XL\\r\\n67,890,T-shirt,H&M,Men's Fashion,42,1.0411063244871301,Black,M\\r\\n32,891,Dress,H&M,Women's Fashion,84,1.444006995711216,White,XL\\r\\n63,892,T-shirt,Adidas,Women's Fashion,62,3.942359066241472,Blue,M\\r\\n98,893,Shoes,H&M,Kids' Fashion,76,2.072747671924219,Red,S\\r\\n22,894,Shoes,Adidas,Men's Fashion,37,1.4113573958981478,Black,S\\r\\n89,895,Jeans,Gucci,Women's Fashion,88,2.1043282771105507,Yellow,L\\r\\n41,896,Jeans,Gucci,Men's Fashion,80,4.369727156652768,Black,S\\r\\n84,897,Jeans,H&M,Women's Fashion,22,3.816709538284177,White,S\\r\\n98,898,Dress,Nike,Women's Fashion,44,4.21062020474198,Green,M\\r\\n83,899,Shoes,Gucci,Men's Fashion,85,2.4017897775191543,Red,XL\\r\\n94,900,T-shirt,Nike,Men's Fashion,91,1.6081447651913567,Blue,XL\\r\\n44,901,Jeans,Zara,Men's Fashion,41,4.640523706049213,Red,XL\\r\\n91,902,Shoes,Gucci,Women's Fashion,40,3.1874602653963753,Black,XL\\r\\n27,903,Sweater,Nike,Women's Fashion,99,2.1908077348511608,Yellow,M\\r\\n80,904,Sweater,Zara,Women's Fashion,27,1.766195133761789,Yellow,M\\r\\n87,905,Jeans,Nike,Women's Fashion,83,1.0503324676804544,Red,XL\\r\\n5,906,Shoes,Nike,Kids' Fashion,23,2.5470224755839097,Yellow,M\\r\\n38,907,T-shirt,Adidas,Men's Fashion,27,1.5733527814685795,Yellow,L\\r\\n32,908,Shoes,Zara,Kids' Fashion,36,3.1944873957491,White,M\\r\\n80,909,Jeans,Nike,Women's Fashion,32,3.3256505576714024,Green,XL\\r\\n45,910,Sweater,Adidas,Kids' Fashion,34,1.2026522123965377,Green,S\\r\\n63,911,Jeans,Nike,Kids' Fashion,89,2.0999224599916895,White,S\\r\\n40,912,Dress,Adidas,Men's Fashion,22,3.287389527049684,Blue,L\\r\\n25,913,Shoes,Gucci,Kids' Fashion,56,3.9690079201222677,Black,S\\r\\n11,914,T-shirt,H&M,Kids' Fashion,46,4.057433315782728,Red,L\\r\\n14,915,Shoes,Adidas,Kids' Fashion,35,2.9307547175844437,White,M\\r\\n89,916,Sweater,Nike,Men's Fashion,91,3.456679608274945,Black,M\\r\\n8,917,Jeans,Zara,Men's Fashion,23,2.835769686780922,Red,M\\r\\n76,918,Shoes,H&M,Kids' Fashion,73,3.803150907795694,Red,XL\\r\\n83,919,Shoes,Adidas,Women's Fashion,96,3.35679762370069,Red,S\\r\\n21,920,T-shirt,Gucci,Women's Fashion,95,3.8049406413640665,Red,M\\r\\n13,921,Jeans,Gucci,Men's Fashion,24,2.9164895937776456,Green,S\\r\\n81,922,Jeans,Gucci,Men's Fashion,45,4.575139766805076,Green,L\\r\\n13,923,Sweater,Zara,Men's Fashion,79,2.8298935832831686,White,L\\r\\n92,924,Sweater,Nike,Men's Fashion,80,3.7032654446554023,Black,M\\r\\n40,925,Sweater,H&M,Women's Fashion,69,3.2838810491974546,Blue,S\\r\\n37,926,Dress,Zara,Women's Fashion,73,2.1903764841810616,Blue,L\\r\\n29,927,T-shirt,Adidas,Men's Fashion,71,4.9467575476089305,White,XL\\r\\n37,928,Sweater,Adidas,Kids' Fashion,10,4.585559724465988,Black,L\\r\\n64,929,Shoes,Gucci,Kids' Fashion,33,3.9899683448849235,Blue,S\\r\\n49,930,T-shirt,Adidas,Women's Fashion,31,3.012986785664934,White,M\\r\\n19,931,Dress,Zara,Kids' Fashion,73,3.8557693202705123,Blue,XL\\r\\n64,932,Jeans,H&M,Kids' Fashion,68,2.56370069288509,Yellow,L\\r\\n16,933,Sweater,Adidas,Kids' Fashion,76,3.3918882615322623,Blue,L\\r\\n98,934,T-shirt,Nike,Women's Fashion,82,2.6368318868376974,Green,XL\\r\\n77,935,Sweater,Adidas,Men's Fashion,60,1.883630518503253,Black,S\\r\\n72,936,Sweater,Gucci,Men's Fashion,33,1.8814469253327668,White,M\\r\\n80,937,T-shirt,Gucci,Men's Fashion,38,1.1232397856633063,Red,S\\r\\n30,938,T-shirt,Gucci,Kids' Fashion,100,3.217890048418737,Blue,S\\r\\n81,939,Jeans,H&M,Men's Fashion,93,4.945684190748571,White,M\\r\\n63,940,T-shirt,Gucci,Kids' Fashion,77,3.721576137398128,White,XL\\r\\n24,941,Jeans,Zara,Men's Fashion,70,1.659599165583011,White,XL\\r\\n60,942,Shoes,Adidas,Men's Fashion,49,1.9688774221860599,Green,L\\r\\n37,943,Jeans,Gucci,Kids' Fashion,71,4.056119883016917,Blue,L\\r\\n65,944,Sweater,H&M,Kids' Fashion,49,3.077371474451204,Black,S\\r\\n72,945,Jeans,Gucci,Kids' Fashion,58,2.0130725520669435,Red,L\\r\\n78,946,Sweater,H&M,Women's Fashion,15,1.6682707967091797,Red,S\\r\\n1,947,T-shirt,Zara,Kids' Fashion,48,3.155635638047163,White,S\\r\\n37,948,Sweater,Gucci,Women's Fashion,83,3.5517657049232025,Yellow,XL\\r\\n4,949,T-shirt,Zara,Kids' Fashion,96,4.472837069105822,Green,M\\r\\n4,950,T-shirt,Zara,Men's Fashion,86,1.7063112011635617,Green,L\\r\\n61,951,Sweater,Nike,Kids' Fashion,62,2.948747205567807,Black,L\\r\\n17,952,Dress,Zara,Women's Fashion,60,2.554289246651599,Black,L\\r\\n88,953,Jeans,Nike,Kids' Fashion,19,1.5419846980617407,Blue,L\\r\\n61,954,T-shirt,Gucci,Women's Fashion,74,2.8022966526242867,Green,L\\r\\n81,955,Jeans,Nike,Kids' Fashion,64,1.7977229968853874,White,XL\\r\\n39,956,Sweater,H&M,Men's Fashion,88,3.912168791848424,Black,M\\r\\n2,957,Jeans,Nike,Men's Fashion,57,4.928868618068378,White,L\\r\\n46,958,Shoes,Adidas,Men's Fashion,16,2.204637505868551,Green,M\\r\\n100,959,Sweater,H&M,Kids' Fashion,45,2.5655731426176587,Yellow,XL\\r\\n94,960,Jeans,Gucci,Men's Fashion,50,4.139661022212959,Red,M\\r\\n62,961,Jeans,Nike,Women's Fashion,40,1.7300712787520611,White,L\\r\\n4,962,Shoes,Adidas,Women's Fashion,97,2.6083587646499815,Green,L\\r\\n85,963,Shoes,H&M,Men's Fashion,21,4.284576208971265,Black,XL\\r\\n1,964,Dress,Nike,Women's Fashion,31,4.541801542689294,White,S\\r\\n21,965,Sweater,Nike,Men's Fashion,55,3.5048915386512896,Yellow,S\\r\\n6,966,Jeans,Gucci,Kids' Fashion,66,4.8659129945938355,Black,S\\r\\n92,967,Shoes,Gucci,Kids' Fashion,85,4.003376676880102,Blue,M\\r\\n84,968,Sweater,Gucci,Kids' Fashion,46,1.339532011577433,Black,S\\r\\n12,969,T-shirt,Gucci,Kids' Fashion,26,2.3083121191885643,Red,L\\r\\n78,970,Sweater,H&M,Kids' Fashion,19,4.976832450404386,White,L\\r\\n82,971,Shoes,H&M,Men's Fashion,45,3.3757177663871096,Green,XL\\r\\n84,972,Jeans,Gucci,Men's Fashion,14,4.783297802985486,White,XL\\r\\n4,973,Jeans,H&M,Kids' Fashion,20,3.7406712330563376,Red,L\\r\\n56,974,Shoes,Gucci,Kids' Fashion,72,3.10045761118194,Black,XL\\r\\n46,975,Dress,Zara,Men's Fashion,19,3.1010542669038688,Black,L\\r\\n82,976,Dress,Nike,Kids' Fashion,42,1.535476919818875,White,M\\r\\n4,977,T-shirt,Nike,Men's Fashion,91,4.040697715971895,Red,XL\\r\\n23,978,T-shirt,Zara,Men's Fashion,98,4.176305463989147,Black,M\\r\\n77,979,T-shirt,Nike,Men's Fashion,96,1.8932888458452153,Blue,S\\r\\n28,980,T-shirt,H&M,Kids' Fashion,50,4.812332538501465,Blue,XL\\r\\n35,981,Shoes,Nike,Women's Fashion,97,3.4449676228113724,White,XL\\r\\n50,982,Jeans,Nike,Kids' Fashion,11,4.038688935203389,Green,S\\r\\n94,983,Dress,Zara,Men's Fashion,50,4.457362281598346,Red,XL\\r\\n70,984,Dress,Gucci,Men's Fashion,64,2.9060201819420155,Green,XL\\r\\n57,985,T-shirt,H&M,Women's Fashion,36,2.512345782355948,Green,S\\r\\n1,986,Shoes,Gucci,Men's Fashion,11,4.614652815655338,Blue,M\\r\\n77,987,Shoes,H&M,Women's Fashion,42,3.2490771632599875,Red,M\\r\\n80,988,T-shirt,H&M,Men's Fashion,56,2.5739645481483446,Blue,XL\\r\\n67,989,T-shirt,Adidas,Men's Fashion,78,4.715256873865723,Black,S\\r\\n51,990,T-shirt,Gucci,Men's Fashion,16,3.3925667395337236,Yellow,S\\r\\n60,991,Shoes,Nike,Kids' Fashion,25,4.972677491285118,Red,L\\r\\n42,992,T-shirt,Gucci,Women's Fashion,91,4.922173018868103,Black,M\\r\\n89,993,Shoes,H&M,Women's Fashion,33,4.000541835824288,Yellow,S\\r\\n59,994,Sweater,H&M,Men's Fashion,89,4.440832869904192,Green,L\\r\\n34,995,Sweater,Adidas,Kids' Fashion,58,4.3951116186697625,Red,S\\r\\n20,996,Shoes,Zara,Women's Fashion,55,1.6200805921533727,Black,M\\r\\n42,997,Sweater,Nike,Kids' Fashion,13,1.5444639343864255,Green,L\\r\\n9,998,Sweater,Zara,Men's Fashion,47,3.9619130755560916,White,L\\r\\n8,999,T-shirt,Zara,Women's Fashion,68,3.089721517884114,Blue,S\\r\\n91,1000,Shoes,Adidas,Women's Fashion,79,3.0935529876473913,White,L\\r\\n\"}"
            ]
          },
          "metadata": {},
          "execution_count": 24
        }
      ]
    },
    {
      "cell_type": "code",
      "execution_count": 34,
      "metadata": {
        "id": "5oVd3btOUE_U",
        "outputId": "7076f5e8-694e-4f4b-fa22-9edbc5b2bf79",
        "colab": {
          "base_uri": "https://localhost:8080/"
        }
      },
      "outputs": [
        {
          "output_type": "stream",
          "name": "stdout",
          "text": [
            "   User ID  Product ID Product Name   Brand         Category  Price    Rating  \\\n",
            "0       19           1        Dress  Adidas    Men's Fashion     40  1.043159   \n",
            "1       97           2        Shoes     H&M  Women's Fashion     82  4.026416   \n",
            "2       25           3        Dress  Adidas  Women's Fashion     44  3.337938   \n",
            "3       57           4        Shoes    Zara    Men's Fashion     23  1.049523   \n",
            "4       79           5      T-shirt  Adidas    Men's Fashion     79  4.302773   \n",
            "\n",
            "    Color Size  \n",
            "0   Black   XL  \n",
            "1   Black    L  \n",
            "2  Yellow   XL  \n",
            "3   White    S  \n",
            "4   Black    M  \n"
          ]
        }
      ],
      "source": [
        "# data = pd.read_csv(fashion_file)\n",
        "data = pd.read_csv('fashion_products.csv')\n",
        "data = pd.DataFrame(data)\n",
        "print(data.head())"
      ]
    },
    {
      "cell_type": "markdown",
      "source": [
        "---\n",
        "# First Approach: Content-Based Filtering\n",
        "---"
      ],
      "metadata": {
        "id": "zgljL0jmXr_h"
      }
    },
    {
      "cell_type": "code",
      "source": [
        "type(data)\n"
      ],
      "metadata": {
        "id": "-3e-PsSoY4OK",
        "outputId": "6e030e6f-1ecf-438f-be8e-5ae3600171bd",
        "colab": {
          "base_uri": "https://localhost:8080/",
          "height": 204
        }
      },
      "execution_count": 35,
      "outputs": [
        {
          "output_type": "execute_result",
          "data": {
            "text/plain": [
              "pandas.core.frame.DataFrame"
            ],
            "text/html": [
              "<div style=\"max-width:800px; border: 1px solid var(--colab-border-color);\"><style>\n",
              "      pre.function-repr-contents {\n",
              "        overflow-x: auto;\n",
              "        padding: 8px 12px;\n",
              "        max-height: 500px;\n",
              "      }\n",
              "\n",
              "      pre.function-repr-contents.function-repr-contents-collapsed {\n",
              "        cursor: pointer;\n",
              "        max-height: 100px;\n",
              "      }\n",
              "    </style>\n",
              "    <pre style=\"white-space: initial; background:\n",
              "         var(--colab-secondary-surface-color); padding: 8px 12px;\n",
              "         border-bottom: 1px solid var(--colab-border-color);\"><b>pandas.core.frame.DataFrame</b><br/>def __init__(data=None, index: Axes | None=None, columns: Axes | None=None, dtype: Dtype | None=None, copy: bool | None=None) -&gt; None</pre><pre class=\"function-repr-contents function-repr-contents-collapsed\" style=\"\"><a class=\"filepath\" style=\"display:none\" href=\"#\">/usr/local/lib/python3.11/dist-packages/pandas/core/frame.py</a>Two-dimensional, size-mutable, potentially heterogeneous tabular data.\n",
              "\n",
              "Data structure also contains labeled axes (rows and columns).\n",
              "Arithmetic operations align on both row and column labels. Can be\n",
              "thought of as a dict-like container for Series objects. The primary\n",
              "pandas data structure.\n",
              "\n",
              "Parameters\n",
              "----------\n",
              "data : ndarray (structured or homogeneous), Iterable, dict, or DataFrame\n",
              "    Dict can contain Series, arrays, constants, dataclass or list-like objects. If\n",
              "    data is a dict, column order follows insertion-order. If a dict contains Series\n",
              "    which have an index defined, it is aligned by its index. This alignment also\n",
              "    occurs if data is a Series or a DataFrame itself. Alignment is done on\n",
              "    Series/DataFrame inputs.\n",
              "\n",
              "    If data is a list of dicts, column order follows insertion-order.\n",
              "\n",
              "index : Index or array-like\n",
              "    Index to use for resulting frame. Will default to RangeIndex if\n",
              "    no indexing information part of input data and no index provided.\n",
              "columns : Index or array-like\n",
              "    Column labels to use for resulting frame when data does not have them,\n",
              "    defaulting to RangeIndex(0, 1, 2, ..., n). If data contains column labels,\n",
              "    will perform column selection instead.\n",
              "dtype : dtype, default None\n",
              "    Data type to force. Only a single dtype is allowed. If None, infer.\n",
              "copy : bool or None, default None\n",
              "    Copy data from inputs.\n",
              "    For dict data, the default of None behaves like ``copy=True``.  For DataFrame\n",
              "    or 2d ndarray input, the default of None behaves like ``copy=False``.\n",
              "    If data is a dict containing one or more Series (possibly of different dtypes),\n",
              "    ``copy=False`` will ensure that these inputs are not copied.\n",
              "\n",
              "    .. versionchanged:: 1.3.0\n",
              "\n",
              "See Also\n",
              "--------\n",
              "DataFrame.from_records : Constructor from tuples, also record arrays.\n",
              "DataFrame.from_dict : From dicts of Series, arrays, or dicts.\n",
              "read_csv : Read a comma-separated values (csv) file into DataFrame.\n",
              "read_table : Read general delimited file into DataFrame.\n",
              "read_clipboard : Read text from clipboard into DataFrame.\n",
              "\n",
              "Notes\n",
              "-----\n",
              "Please reference the :ref:`User Guide &lt;basics.dataframe&gt;` for more information.\n",
              "\n",
              "Examples\n",
              "--------\n",
              "Constructing DataFrame from a dictionary.\n",
              "\n",
              "&gt;&gt;&gt; d = {&#x27;col1&#x27;: [1, 2], &#x27;col2&#x27;: [3, 4]}\n",
              "&gt;&gt;&gt; df = pd.DataFrame(data=d)\n",
              "&gt;&gt;&gt; df\n",
              "   col1  col2\n",
              "0     1     3\n",
              "1     2     4\n",
              "\n",
              "Notice that the inferred dtype is int64.\n",
              "\n",
              "&gt;&gt;&gt; df.dtypes\n",
              "col1    int64\n",
              "col2    int64\n",
              "dtype: object\n",
              "\n",
              "To enforce a single dtype:\n",
              "\n",
              "&gt;&gt;&gt; df = pd.DataFrame(data=d, dtype=np.int8)\n",
              "&gt;&gt;&gt; df.dtypes\n",
              "col1    int8\n",
              "col2    int8\n",
              "dtype: object\n",
              "\n",
              "Constructing DataFrame from a dictionary including Series:\n",
              "\n",
              "&gt;&gt;&gt; d = {&#x27;col1&#x27;: [0, 1, 2, 3], &#x27;col2&#x27;: pd.Series([2, 3], index=[2, 3])}\n",
              "&gt;&gt;&gt; pd.DataFrame(data=d, index=[0, 1, 2, 3])\n",
              "   col1  col2\n",
              "0     0   NaN\n",
              "1     1   NaN\n",
              "2     2   2.0\n",
              "3     3   3.0\n",
              "\n",
              "Constructing DataFrame from numpy ndarray:\n",
              "\n",
              "&gt;&gt;&gt; df2 = pd.DataFrame(np.array([[1, 2, 3], [4, 5, 6], [7, 8, 9]]),\n",
              "...                    columns=[&#x27;a&#x27;, &#x27;b&#x27;, &#x27;c&#x27;])\n",
              "&gt;&gt;&gt; df2\n",
              "   a  b  c\n",
              "0  1  2  3\n",
              "1  4  5  6\n",
              "2  7  8  9\n",
              "\n",
              "Constructing DataFrame from a numpy ndarray that has labeled columns:\n",
              "\n",
              "&gt;&gt;&gt; data = np.array([(1, 2, 3), (4, 5, 6), (7, 8, 9)],\n",
              "...                 dtype=[(&quot;a&quot;, &quot;i4&quot;), (&quot;b&quot;, &quot;i4&quot;), (&quot;c&quot;, &quot;i4&quot;)])\n",
              "&gt;&gt;&gt; df3 = pd.DataFrame(data, columns=[&#x27;c&#x27;, &#x27;a&#x27;])\n",
              "...\n",
              "&gt;&gt;&gt; df3\n",
              "   c  a\n",
              "0  3  1\n",
              "1  6  4\n",
              "2  9  7\n",
              "\n",
              "Constructing DataFrame from dataclass:\n",
              "\n",
              "&gt;&gt;&gt; from dataclasses import make_dataclass\n",
              "&gt;&gt;&gt; Point = make_dataclass(&quot;Point&quot;, [(&quot;x&quot;, int), (&quot;y&quot;, int)])\n",
              "&gt;&gt;&gt; pd.DataFrame([Point(0, 0), Point(0, 3), Point(2, 3)])\n",
              "   x  y\n",
              "0  0  0\n",
              "1  0  3\n",
              "2  2  3\n",
              "\n",
              "Constructing DataFrame from Series/DataFrame:\n",
              "\n",
              "&gt;&gt;&gt; ser = pd.Series([1, 2, 3], index=[&quot;a&quot;, &quot;b&quot;, &quot;c&quot;])\n",
              "&gt;&gt;&gt; df = pd.DataFrame(data=ser, index=[&quot;a&quot;, &quot;c&quot;])\n",
              "&gt;&gt;&gt; df\n",
              "   0\n",
              "a  1\n",
              "c  3\n",
              "\n",
              "&gt;&gt;&gt; df1 = pd.DataFrame([1, 2, 3], index=[&quot;a&quot;, &quot;b&quot;, &quot;c&quot;], columns=[&quot;x&quot;])\n",
              "&gt;&gt;&gt; df2 = pd.DataFrame(data=df1, index=[&quot;a&quot;, &quot;c&quot;])\n",
              "&gt;&gt;&gt; df2\n",
              "   x\n",
              "a  1\n",
              "c  3</pre>\n",
              "      <script>\n",
              "      if (google.colab.kernel.accessAllowed && google.colab.files && google.colab.files.view) {\n",
              "        for (const element of document.querySelectorAll('.filepath')) {\n",
              "          element.style.display = 'block'\n",
              "          element.onclick = (event) => {\n",
              "            event.preventDefault();\n",
              "            event.stopPropagation();\n",
              "            google.colab.files.view(element.textContent, 509);\n",
              "          };\n",
              "        }\n",
              "      }\n",
              "      for (const element of document.querySelectorAll('.function-repr-contents')) {\n",
              "        element.onclick = (event) => {\n",
              "          event.preventDefault();\n",
              "          event.stopPropagation();\n",
              "          element.classList.toggle('function-repr-contents-collapsed');\n",
              "        };\n",
              "      }\n",
              "      </script>\n",
              "      </div>"
            ]
          },
          "metadata": {},
          "execution_count": 35
        }
      ]
    },
    {
      "cell_type": "code",
      "execution_count": 36,
      "metadata": {
        "id": "2G501FciUE_V"
      },
      "outputs": [],
      "source": [
        "content_df = data[['Product ID', 'Product Name', 'Brand',\n",
        "                   'Category', 'Color', 'Size']]\n",
        "content_df = content_df.copy()\n",
        "# content_df['Content'] = content_df.apply(lambda row: ' '.join(row.dropna().astype(str)), axis=1)\n",
        "content_df.loc[:, 'Content'] = content_df.apply(lambda row: ' '.join(row.dropna().astype(str)), axis=1)\n",
        "\n",
        "\n",
        "# Use TF-IDF vectorizer to convert content into a matrix of TF-IDF features\n",
        "tfidf_vectorizer = TfidfVectorizer()\n",
        "content_matrix = tfidf_vectorizer.fit_transform(content_df['Content'])\n",
        "\n",
        "content_similarity = linear_kernel(content_matrix, content_matrix)\n",
        "\n",
        "reader = Reader(rating_scale=(1, 5))\n",
        "data = Dataset.load_from_df(data[['User ID',\n",
        "                                  'Product ID',\n",
        "                                  'Rating']], reader)\n",
        "\n",
        "def get_content_based_recommendations(product_id, top_n):\n",
        "    index = content_df[content_df['Product ID'] == product_id].index[0]\n",
        "    similarity_scores = content_similarity[index]\n",
        "    similar_indices = similarity_scores.argsort()[::-1][1:top_n + 1]\n",
        "    recommendations = content_df.loc[similar_indices, 'Product ID'].values\n",
        "    return recommendations"
      ]
    },
    {
      "cell_type": "markdown",
      "source": [
        "---\n",
        "# Second Approach: Collaborative Filtering\n",
        "---"
      ],
      "metadata": {
        "id": "RMrc2gZFZ4WT"
      }
    },
    {
      "cell_type": "code",
      "source": [
        "algo = SVD()\n",
        "trainset = data.build_full_trainset()\n",
        "algo.fit(trainset)\n",
        "\n",
        "def get_collaborative_filtering_recommendations(user_id, top_n):\n",
        "    testset = trainset.build_anti_testset()\n",
        "    testset = filter(lambda x: x[0] == user_id, testset)\n",
        "    predictions = algo.test(testset)\n",
        "    predictions.sort(key=lambda x: x.est, reverse=True)\n",
        "    recommendations = [prediction.iid for prediction in predictions[:top_n]]\n",
        "    return recommendations"
      ],
      "metadata": {
        "id": "-WGIz87qaAA8"
      },
      "execution_count": 37,
      "outputs": []
    }
  ],
  "metadata": {
    "kernelspec": {
      "display_name": "Python 3",
      "language": "python",
      "name": "python3"
    },
    "language_info": {
      "codemirror_mode": {
        "name": "ipython",
        "version": 3
      },
      "file_extension": ".py",
      "mimetype": "text/x-python",
      "name": "python",
      "nbconvert_exporter": "python",
      "pygments_lexer": "ipython3",
      "version": "3.9.7"
    },
    "colab": {
      "provenance": [],
      "include_colab_link": true
    }
  },
  "nbformat": 4,
  "nbformat_minor": 0
}