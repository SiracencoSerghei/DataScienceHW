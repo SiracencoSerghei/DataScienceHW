{
 "cells": [
  {
   "cell_type": "code",
   "execution_count": null,
   "metadata": {},
   "outputs": [],
   "source": [
    "import pandas as pd\n",
    "import os\n",
    "\n",
    "from surprise import Dataset, Reader, SVD\n",
    "from sklearn.feature_extraction.text import TfidfVectorizer\n",
    "from sklearn.metrics.pairwise import linear_kernel\n"
   ]
  },
  {
   "cell_type": "code",
   "execution_count": 8,
   "metadata": {},
   "outputs": [],
   "source": [
    "# Set the path to the base folder containing the \"example_kaggle/les_7/fashion_products\" folder.\n",
    "# Adjust the path as needed.\n",
    "path = '/home/sergio/Desktop/DataScienceHW/example_kaggle/les_7'\n",
    "\n",
    "# Build paths to the MovieLens CSV files\n",
    "path = os.path.join(path, 'fashion_products')\n",
    "fashion_file = os.path.join(path, 'fashion_products.csv')\n"
   ]
  },
  {
   "cell_type": "code",
   "execution_count": 10,
   "metadata": {},
   "outputs": [
    {
     "name": "stdout",
     "output_type": "stream",
     "text": [
      "   User ID  Product ID Product Name   Brand         Category  Price    Rating  \\\n",
      "0       19           1        Dress  Adidas    Men's Fashion     40  1.043159   \n",
      "1       97           2        Shoes     H&M  Women's Fashion     82  4.026416   \n",
      "2       25           3        Dress  Adidas  Women's Fashion     44  3.337938   \n",
      "3       57           4        Shoes    Zara    Men's Fashion     23  1.049523   \n",
      "4       79           5      T-shirt  Adidas    Men's Fashion     79  4.302773   \n",
      "\n",
      "    Color Size  \n",
      "0   Black   XL  \n",
      "1   Black    L  \n",
      "2  Yellow   XL  \n",
      "3   White    S  \n",
      "4   Black    M  \n"
     ]
    }
   ],
   "source": [
    "\n",
    "data = pd.read_csv(fashion_file)\n",
    "print(data.head())"
   ]
  },
  {
   "cell_type": "code",
   "execution_count": null,
   "metadata": {},
   "outputs": [],
   "source": []
  }
 ],
 "metadata": {
  "kernelspec": {
   "display_name": "Python 3",
   "language": "python",
   "name": "python3"
  },
  "language_info": {
   "codemirror_mode": {
    "name": "ipython",
    "version": 3
   },
   "file_extension": ".py",
   "mimetype": "text/x-python",
   "name": "python",
   "nbconvert_exporter": "python",
   "pygments_lexer": "ipython3",
   "version": "3.9.7"
  }
 },
 "nbformat": 4,
 "nbformat_minor": 2
}
