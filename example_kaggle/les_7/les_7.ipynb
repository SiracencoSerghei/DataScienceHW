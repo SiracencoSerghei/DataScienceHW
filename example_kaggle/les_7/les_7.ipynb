{
 "cells": [
  {
   "cell_type": "code",
   "execution_count": null,
   "metadata": {
    "vscode": {
     "languageId": "plaintext"
    }
   },
   "outputs": [],
   "source": [
    "import numpy as numpy\n",
    "import pandas as pandas\n",
    "\n",
    "from surprise import accuracy, Dataset, Reader, SVD\n",
    "from surprise.model_selection import cross_validate, train_test_split\n"
   ]
  }
 ],
 "metadata": {
  "language_info": {
   "name": "python"
  }
 },
 "nbformat": 4,
 "nbformat_minor": 2
}
