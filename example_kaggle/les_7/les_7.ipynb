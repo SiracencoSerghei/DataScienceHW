{
 "cells": [
  {
   "cell_type": "code",
   "execution_count": null,
   "metadata": {},
   "outputs": [],
   "source": [
    "import numpy as np\n",
    "import pandas as pd\n",
    "\n",
    "from surprise import accuracy, Dataset, Reader, SVD\n",
    "from surprise.model_selection import cross_validate, train_test_split\n"
   ]
  },
  {
   "cell_type": "markdown",
   "metadata": {},
   "source": [
    "---\n",
    "# 1. Завантаження даних\n",
    "---"
   ]
  },
  {
   "cell_type": "code",
   "execution_count": null,
   "metadata": {},
   "outputs": [],
   "source": [
    "# Завантажуємо датасет MovieLens (файл ratings.csv)\n",
    "df = pd.read_csv(\"ratings.csv\")\n",
    "\n",
    "# Налаштовуємо формат даних для Surprise\n",
    "reader = Reader(rating_scale=(0.5, 5.0))\n",
    "data = Dataset.load_from_df(df[['userId', 'movieId', 'rating']], reader)\n",
    "\n",
    "# Розділяємо дані на тренувальний та тестовий набори\n",
    "trainset, testset = train_test_split(data, test_size=0.2, random_state=42)"
   ]
  },
  {
   "cell_type": "markdown",
   "metadata": {},
   "source": [
    "---\n",
    "# 2. Тренування моделі\n",
    "---"
   ]
  },
  {
   "cell_type": "code",
   "execution_count": null,
   "metadata": {},
   "outputs": [],
   "source": [
    "# Тренуємо модель SVD\n",
    "model = SVD()\n",
    "model.fit(trainset)\n"
   ]
  },
  {
   "cell_type": "markdown",
   "metadata": {},
   "source": [
    "---\n",
    "# 3. Вирішення Cold Start (новий користувач)\n",
    "---\n",
    "\n",
    "Якщо в нас з’являється новий користувач, ми можемо порекомендувати йому найпопулярніші фільми або кращі за середнім рейтингом."
   ]
  },
  {
   "cell_type": "code",
   "execution_count": null,
   "metadata": {},
   "outputs": [],
   "source": [
    "# Рахуємо середній рейтинг для кожного фільму\n",
    "movie_means = df.groupby(\"movieId\")[\"rating\"].mean()\n",
    "\n",
    "# Вибираємо топ-10 найкращих фільмів\n",
    "top_movies = movie_means.sort_values(ascending=False).head(10)\n",
    "\n",
    "print(\"Рекомендовані фільми для нового користувача:\")\n",
    "print(top_movies)\n"
   ]
  },
  {
   "cell_type": "markdown",
   "metadata": {},
   "source": [
    "---\n",
    "# 4. Вирішення Cold Start (новий фільм)\n",
    "---\n",
    "\n",
    "Якщо додано новий фільм без оцінок, можна рекомендувати його схожим користувачам за жанром або контент-орієнтованими методами."
   ]
  },
  {
   "cell_type": "code",
   "execution_count": null,
   "metadata": {},
   "outputs": [],
   "source": [
    "# Припустимо, що у нас є новий фільм movieId = 99999\n",
    "new_movie_id = 99999\n",
    "\n",
    "# Якщо немає рейтингу, рекомендуємо цей фільм схожим користувачам\n",
    "if new_movie_id not in df[\"movieId\"].values:\n",
    "    print(f\"Новий фільм {new_movie_id} рекомендується користувачам, які оцінили схожі фільми!\")\n"
   ]
  }
 ],
 "metadata": {
  "kernelspec": {
   "display_name": "Python (venv)",
   "language": "python",
   "name": "venv"
  },
  "language_info": {
   "codemirror_mode": {
    "name": "ipython",
    "version": 3
   },
   "file_extension": ".py",
   "mimetype": "text/x-python",
   "name": "python",
   "nbconvert_exporter": "python",
   "pygments_lexer": "ipython3",
   "version": "3.12.1"
  }
 },
 "nbformat": 4,
 "nbformat_minor": 2
}
