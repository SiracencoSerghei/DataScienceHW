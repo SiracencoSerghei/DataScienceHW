{
 "cells": [
  {
   "cell_type": "code",
   "execution_count": 2,
   "metadata": {},
   "outputs": [],
   "source": [
    "import numpy as np\n",
    "import pandas as pd"
   ]
  },
  {
   "cell_type": "markdown",
   "metadata": {},
   "source": [
    "---\n",
    "# pandas.Series\n",
    "---"
   ]
  },
  {
   "cell_type": "code",
   "execution_count": 3,
   "metadata": {},
   "outputs": [],
   "source": [
    "my_data = ['linear regression', 'Logistic regresiion', 'SVM', 'PCA']"
   ]
  },
  {
   "cell_type": "code",
   "execution_count": 4,
   "metadata": {},
   "outputs": [],
   "source": [
    "mySeries1 = pd.Series(my_data)"
   ]
  },
  {
   "cell_type": "code",
   "execution_count": 5,
   "metadata": {},
   "outputs": [
    {
     "name": "stdout",
     "output_type": "stream",
     "text": [
      "0      linear regression\n",
      "1    Logistic regresiion\n",
      "2                    SVM\n",
      "3                    PCA\n",
      "dtype: object\n",
      "<class 'pandas.core.series.Series'>\n"
     ]
    },
    {
     "data": {
      "text/plain": [
       "'linear regression'"
      ]
     },
     "execution_count": 5,
     "metadata": {},
     "output_type": "execute_result"
    }
   ],
   "source": [
    "print(mySeries1)\n",
    "print(type(mySeries1))\n",
    "mySeries1[0]"
   ]
  },
  {
   "cell_type": "code",
   "execution_count": 6,
   "metadata": {},
   "outputs": [],
   "source": [
    "\n",
    "# для індексування за замовчуванням використовується послідовність цілих чисел (починаючи з 0)\n",
    "\n",
    "data = [34, 2, 5, 45]\n",
    "mySeries2 = pd.Series(data = data, index = my_data, name = 'statistic, methods')"
   ]
  },
  {
   "cell_type": "code",
   "execution_count": 8,
   "metadata": {},
   "outputs": [
    {
     "name": "stdout",
     "output_type": "stream",
     "text": [
      "linear regression      34\n",
      "Logistic regresiion     2\n",
      "SVM                     5\n",
      "PCA                    45\n",
      "Name: statistic, methods, dtype: int64\n",
      "<class 'pandas.core.series.Series'>\n",
      "[0] =  34\n",
      "SVM =  5\n"
     ]
    },
    {
     "name": "stderr",
     "output_type": "stream",
     "text": [
      "/tmp/ipykernel_143926/3900739549.py:3: FutureWarning: Series.__getitem__ treating keys as positions is deprecated. In a future version, integer keys will always be treated as labels (consistent with DataFrame behavior). To access a value by position, use `ser.iloc[pos]`\n",
      "  print('[0] = ', mySeries2[0])\n"
     ]
    }
   ],
   "source": [
    "print(mySeries2)\n",
    "print(type(mySeries2))\n",
    "print('[0] = ', mySeries2[0])\n",
    "print('SVM = ', mySeries2['SVM'])"
   ]
  },
  {
   "cell_type": "markdown",
   "metadata": {},
   "source": [
    "---\n",
    "# pandas.DataFrame\n",
    "---"
   ]
  },
  {
   "cell_type": "code",
   "execution_count": 9,
   "metadata": {},
   "outputs": [
    {
     "data": {
      "text/html": [
       "<div>\n",
       "<style scoped>\n",
       "    .dataframe tbody tr th:only-of-type {\n",
       "        vertical-align: middle;\n",
       "    }\n",
       "\n",
       "    .dataframe tbody tr th {\n",
       "        vertical-align: top;\n",
       "    }\n",
       "\n",
       "    .dataframe thead th {\n",
       "        text-align: right;\n",
       "    }\n",
       "</style>\n",
       "<table border=\"1\" class=\"dataframe\">\n",
       "  <thead>\n",
       "    <tr style=\"text-align: right;\">\n",
       "      <th></th>\n",
       "      <th>Algo_name</th>\n",
       "      <th>Number</th>\n",
       "    </tr>\n",
       "  </thead>\n",
       "  <tbody>\n",
       "    <tr>\n",
       "      <th>0</th>\n",
       "      <td>linear regression</td>\n",
       "      <td>34</td>\n",
       "    </tr>\n",
       "    <tr>\n",
       "      <th>1</th>\n",
       "      <td>Logistic regresiion</td>\n",
       "      <td>2</td>\n",
       "    </tr>\n",
       "    <tr>\n",
       "      <th>2</th>\n",
       "      <td>SVM</td>\n",
       "      <td>5</td>\n",
       "    </tr>\n",
       "    <tr>\n",
       "      <th>3</th>\n",
       "      <td>PCA</td>\n",
       "      <td>45</td>\n",
       "    </tr>\n",
       "  </tbody>\n",
       "</table>\n",
       "</div>"
      ],
      "text/plain": [
       "             Algo_name  Number\n",
       "0    linear regression      34\n",
       "1  Logistic regresiion       2\n",
       "2                  SVM       5\n",
       "3                  PCA      45"
      ]
     },
     "execution_count": 9,
     "metadata": {},
     "output_type": "execute_result"
    }
   ],
   "source": [
    "# створення датафрейму\n",
    "my_df_data = [('linear regression', 34), ('Logistic regresiion', 2), ('SVM', 5), ('PCA', 45)]\n",
    "mydf = pd.DataFrame(my_df_data, columns = ['Algo_name', 'Number'])\n",
    "mydf"
   ]
  },
  {
   "cell_type": "code",
   "execution_count": 10,
   "metadata": {},
   "outputs": [
    {
     "name": "stdout",
     "output_type": "stream",
     "text": [
      "<class 'pandas.core.frame.DataFrame'>\n",
      "<class 'pandas.core.series.Series'>\n"
     ]
    }
   ],
   "source": [
    "print(type(mydf))\n",
    "print(type(mydf['Algo_name']))"
   ]
  },
  {
   "cell_type": "code",
   "execution_count": 11,
   "metadata": {},
   "outputs": [
    {
     "data": {
      "text/plain": [
       "0      linear regression\n",
       "1    Logistic regresiion\n",
       "2                    SVM\n",
       "3                    PCA\n",
       "Name: Algo_name, dtype: object"
      ]
     },
     "execution_count": 11,
     "metadata": {},
     "output_type": "execute_result"
    }
   ],
   "source": [
    "mydf.Algo_name"
   ]
  },
  {
   "cell_type": "code",
   "execution_count": 13,
   "metadata": {},
   "outputs": [
    {
     "name": "stdout",
     "output_type": "stream",
     "text": [
      "            name                          email           phone  favorite\n",
      "1  Allen Raymond      nulla.ante@vestibul.co.uk  (992) 914-3792     False\n",
      "2    Chaim Lewis            dui.in@egetlacus.ca  (294) 840-6685     False\n",
      "3   Kennedy Lane  mattis.Cras@nonenimMauris.net  (542) 451-7038      True\n",
      "4     Wylie Pope              est@utquamvel.net  (692) 802-2949     False\n",
      "5  Cyrus Jackson         nibh@semsempererat.com  (501) 472-5218      True\n"
     ]
    }
   ],
   "source": [
    "contacts = pd.DataFrame(\n",
    "    {\n",
    "        \"name\": [\n",
    "            \"Allen Raymond\",\n",
    "            \"Chaim Lewis\",\n",
    "            \"Kennedy Lane\",\n",
    "            \"Wylie Pope\",\n",
    "            \"Cyrus Jackson\",\n",
    "        ],\n",
    "        \"email\": [\n",
    "            \"nulla.ante@vestibul.co.uk\",\n",
    "            \"dui.in@egetlacus.ca\",\n",
    "            \"mattis.Cras@nonenimMauris.net\",\n",
    "            \"est@utquamvel.net\",\n",
    "            \"nibh@semsempererat.com\",\n",
    "        ],\n",
    "        \"phone\": [\n",
    "            \"(992) 914-3792\",\n",
    "            \"(294) 840-6685\",\n",
    "            \"(542) 451-7038\",\n",
    "            \"(692) 802-2949\",\n",
    "            \"(501) 472-5218\",\n",
    "        ],\n",
    "        \"favorite\": [False, False, True, False, True],\n",
    "    },\n",
    "    index=[1, 2, 3, 4, 5],\n",
    ")\n",
    "\n",
    "print(contacts)"
   ]
  },
  {
   "cell_type": "code",
   "execution_count": 14,
   "metadata": {},
   "outputs": [
    {
     "name": "stdout",
     "output_type": "stream",
     "text": [
      "name                 Cyrus Jackson\n",
      "email       nibh@semsempererat.com\n",
      "phone               (501) 472-5218\n",
      "favorite                      True\n",
      "Name: 5, dtype: object\n"
     ]
    }
   ],
   "source": [
    "# вибір рядка за індексом\n",
    "\n",
    "# print(contacts.iloc[5])  # IndexError  => 0,1,2,3,4\n",
    "print(contacts.iloc[4])"
   ]
  },
  {
   "cell_type": "code",
   "execution_count": 15,
   "metadata": {},
   "outputs": [
    {
     "name": "stdout",
     "output_type": "stream",
     "text": [
      "1    Allen Raymond\n",
      "2      Chaim Lewis\n",
      "3     Kennedy Lane\n",
      "4       Wylie Pope\n",
      "5    Cyrus Jackson\n",
      "Name: name, dtype: object\n"
     ]
    }
   ],
   "source": [
    "# вибір стовпця\n",
    "print(contacts['name'])"
   ]
  },
  {
   "cell_type": "code",
   "execution_count": 16,
   "metadata": {},
   "outputs": [
    {
     "data": {
      "text/plain": [
       "name                 Cyrus Jackson\n",
       "email       nibh@semsempererat.com\n",
       "phone               (501) 472-5218\n",
       "favorite                      True\n",
       "Name: 5, dtype: object"
      ]
     },
     "execution_count": 16,
     "metadata": {},
     "output_type": "execute_result"
    }
   ],
   "source": [
    "# вибір стовпця за міткою\n",
    "contacts.loc[5]   # немає IndexError  => index = 1,2,3,4,5 => мітка"
   ]
  },
  {
   "cell_type": "code",
   "execution_count": 17,
   "metadata": {},
   "outputs": [
    {
     "data": {
      "text/html": [
       "<div>\n",
       "<style scoped>\n",
       "    .dataframe tbody tr th:only-of-type {\n",
       "        vertical-align: middle;\n",
       "    }\n",
       "\n",
       "    .dataframe tbody tr th {\n",
       "        vertical-align: top;\n",
       "    }\n",
       "\n",
       "    .dataframe thead th {\n",
       "        text-align: right;\n",
       "    }\n",
       "</style>\n",
       "<table border=\"1\" class=\"dataframe\">\n",
       "  <thead>\n",
       "    <tr style=\"text-align: right;\">\n",
       "      <th></th>\n",
       "      <th>name</th>\n",
       "      <th>email</th>\n",
       "      <th>phone</th>\n",
       "      <th>favorite</th>\n",
       "    </tr>\n",
       "  </thead>\n",
       "  <tbody>\n",
       "    <tr>\n",
       "      <th>2</th>\n",
       "      <td>Chaim Lewis</td>\n",
       "      <td>dui.in@egetlacus.ca</td>\n",
       "      <td>(294) 840-6685</td>\n",
       "      <td>False</td>\n",
       "    </tr>\n",
       "    <tr>\n",
       "      <th>3</th>\n",
       "      <td>Kennedy Lane</td>\n",
       "      <td>mattis.Cras@nonenimMauris.net</td>\n",
       "      <td>(542) 451-7038</td>\n",
       "      <td>True</td>\n",
       "    </tr>\n",
       "  </tbody>\n",
       "</table>\n",
       "</div>"
      ],
      "text/plain": [
       "           name                          email           phone  favorite\n",
       "2   Chaim Lewis            dui.in@egetlacus.ca  (294) 840-6685     False\n",
       "3  Kennedy Lane  mattis.Cras@nonenimMauris.net  (542) 451-7038      True"
      ]
     },
     "execution_count": 17,
     "metadata": {},
     "output_type": "execute_result"
    }
   ],
   "source": [
    "# зріз за рядкамі\n",
    "\n",
    "contacts[1:3] # index from 1 to 3 not included\n",
    "# returned DataFrame"
   ]
  },
  {
   "cell_type": "code",
   "execution_count": 18,
   "metadata": {},
   "outputs": [
    {
     "name": "stdout",
     "output_type": "stream",
     "text": [
      "            name                      email           phone  favorite\n",
      "1  Allen Raymond  nulla.ante@vestibul.co.uk  (992) 914-3792     False\n",
      "2    Chaim Lewis        dui.in@egetlacus.ca  (294) 840-6685     False\n",
      "4     Wylie Pope          est@utquamvel.net  (692) 802-2949     False\n",
      "*****\n",
      "            name                          email           phone  favorite\n",
      "3   Kennedy Lane  mattis.Cras@nonenimMauris.net  (542) 451-7038      True\n",
      "5  Cyrus Jackson         nibh@semsempererat.com  (501) 472-5218      True\n"
     ]
    }
   ],
   "source": [
    "# вибір рядків які відповідають умові\n",
    "print(contacts[contacts[\"favorite\"] == False])\n",
    "print('*****')\n",
    "print(contacts[contacts[\"favorite\"]])\n",
    "# returned DataFrame"
   ]
  },
  {
   "cell_type": "markdown",
   "metadata": {},
   "source": [
    "---\n",
    "# прочитаємо CSV\n",
    "---"
   ]
  },
  {
   "cell_type": "markdown",
   "metadata": {},
   "source": [
    "Для читання текстових файлів з даними у форматі `CSV` в об'єкті `DataFrame` існує метод `read_csv`.\n",
    "Метод приймає велику кількість можливих аргументів, але ми розберемо тільки основні, які стануть у пригоді нам у роботі:\n",
    "\n",
    "`filepath_or_buffer` — шлях до зчитуваного файлу. Є обов'язковим параметром. Шлях може вказувати як локальний файл, так і URL для завантажування даних з мережі;\n",
    "\n",
    "`sep` — роздільник стовпців. За замовчуванням кома ,, але можна використовувати значення:\n",
    "`/s+` для стовпців, розділених пробільними символами;\n",
    "`\\t` для роздільників-табуляцій;\n",
    "`None`, щоб бібліотека pandas сама спробувала логічно визначити символ-роздільник.\n",
    "\n",
    "`delimiter` — псевдонім для аргументу sep;\n",
    "\n",
    "`header` — номери рядків (індекси), які використовуються для імен стовпців. За замовчуванням header=0, що говорить про використання першого рядка для імен стовпців. Іноді у файлі немає заголовка, тоді потрібно присвоїти значення header=None і визначити імена стовпців в аргументі names;\n",
    "\n",
    "`names` — послідовність неповторюваних імен стовпців, які використовуватимуться під час читання файлу;\n",
    "\n",
    "`nrows` — кількість рядків, які зчитуються з файлу. Буває необхідно під час читання декількох рядків з дуже великого файлу для тестування або дослідження даних, що містяться в ньому;\n",
    "\n",
    "`comment` — визначає символ, наприклад #, який при виявленні на початку рядка повідомляє про те, що весь рядок необхідно пропустити;\n",
    "\n",
    "`skip_blank_lines` — за замовчуванням встановлено значення True – пропуск порожніх рядків у вхідному файлі. При встановленні значення False порожні рядки інтерпретуються як рядки із значень NaN;\n",
    "\n",
    "`delim_whitespace` — можна встановити для цього аргумента значення True, замість визначення аргумента sep='\\s+', щоб встановити, що стовпці даних розділяються символами пробілів.\n"
   ]
  },
  {
   "cell_type": "code",
   "execution_count": 19,
   "metadata": {},
   "outputs": [
    {
     "name": "stdout",
     "output_type": "stream",
     "text": [
      "            name                          email           phone  favorite\n",
      "0  Allen Raymond      nulla.ante@vestibul.co.uk  (992) 914-3792     False\n",
      "1    Chaim Lewis            dui.in@egetlacus.ca  (294) 840-6685     False\n",
      "2   Kennedy Lane  mattis.Cras@nonenimMauris.net  (542) 451-7038      True\n",
      "3     Wylie Pope              est@utquamvel.net  (692) 802-2949     False\n",
      "4  Cyrus Jackson         nibh@semsempererat.com  (501) 472-5218      True\n"
     ]
    }
   ],
   "source": [
    "\n",
    "users = pd.read_csv(\"users.csv\")\n",
    "\n",
    "print(users)"
   ]
  },
  {
   "cell_type": "code",
   "execution_count": null,
   "metadata": {},
   "outputs": [],
   "source": [
    "mrBeast = pd.read_csv('MrBeast_youtube_stats.csv')\n",
    "print(mrBeast)"
   ]
  }
 ],
 "metadata": {
  "kernelspec": {
   "display_name": "Python 3",
   "language": "python",
   "name": "python3"
  },
  "language_info": {
   "codemirror_mode": {
    "name": "ipython",
    "version": 3
   },
   "file_extension": ".py",
   "mimetype": "text/x-python",
   "name": "python",
   "nbconvert_exporter": "python",
   "pygments_lexer": "ipython3",
   "version": "3.12.1"
  }
 },
 "nbformat": 4,
 "nbformat_minor": 2
}
