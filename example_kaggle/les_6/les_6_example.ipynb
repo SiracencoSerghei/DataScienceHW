{
 "cells": [
  {
   "cell_type": "code",
   "execution_count": null,
   "metadata": {
    "vscode": {
     "languageId": "plaintext"
    }
   },
   "outputs": [],
   "source": [
    "import numpy as np\n",
    "import pandas as pd\n",
    "import matplotlib.pyplot as plt\n",
    "import seaborn as sns\n",
    "from sklearn.cluster import KMeans\n",
    "from sklearn.decomposition import PCA\n",
    "from sklearn.preprocessing import StandardScaler\n",
    "from scipy.io import loadmat\n",
    "\n"
   ]
  },
  {
   "cell_type": "code",
   "execution_count": null,
   "metadata": {
    "vscode": {
     "languageId": "plaintext"
    }
   },
   "outputs": [],
   "source": [
    "\n",
    "# Налаштування стилю для гарного відображення графіків\n",
    "sns.set(style=\"whitegrid\")\n",
    "\n",
    "# Завантаження датасетів\n",
    "data_2d = loadmat(\"data_2d.mat\")['X']\n",
    "data_mnist = loadmat(\"data_mnist.mat\")['X']\n",
    "\n",
    "# Функція для пошуку оптимальної кількості кластерів методом \"ліктя\"\n",
    "def plot_elbow_method(data, max_clusters=10):\n",
    "    distortions = []\n",
    "    for k in range(1, max_clusters + 1):\n",
    "        kmeans = KMeans(n_clusters=k, random_state=42, n_init=10)\n",
    "        kmeans.fit(data)\n",
    "        distortions.append(kmeans.inertia_)\n",
    "    \n",
    "    plt.figure(figsize=(8, 5))\n",
    "    plt.plot(range(1, max_clusters + 1), distortions, marker='o', linestyle='--', color='b')\n",
    "    plt.xlabel('Кількість кластерів')\n",
    "    plt.ylabel('Інерція')\n",
    "    plt.title('Метод \"ліктя\" для визначення оптимальної кількості кластерів')\n",
    "    plt.show()\n",
    "\n",
    "# Визначення оптимальної кількості кластерів\n",
    "plot_elbow_method(data_2d)\n",
    "plot_elbow_method(data_mnist)\n",
    "\n",
    "# Кластеризація K-means для 2D датасету\n",
    "kmeans_2d = KMeans(n_clusters=3, random_state=42, n_init=10)\n",
    "kmeans_2d.fit(data_2d)\n",
    "labels_2d = kmeans_2d.labels_\n",
    "\n",
    "# Візуалізація кластеризації для 2D датасету\n",
    "plt.figure(figsize=(8, 6))\n",
    "sns.scatterplot(x=data_2d[:, 0], y=data_2d[:, 1], hue=labels_2d, palette='viridis', alpha=0.7)\n",
    "plt.scatter(kmeans_2d.cluster_centers_[:, 0], kmeans_2d.cluster_centers_[:, 1], c='red', marker='X', s=200, label='Центри кластерів')\n",
    "plt.title('Кластеризація 2D датасету методом K-means')\n",
    "plt.legend()\n",
    "plt.show()\n",
    "\n",
    "# Масштабування MNIST перед PCA\n",
    "scaler = StandardScaler()\n",
    "data_mnist_scaled = scaler.fit_transform(data_mnist)\n",
    "\n",
    "# Зменшення розмірності MNIST до 2D за допомогою PCA\n",
    "pca = PCA(n_components=2)\n",
    "data_mnist_pca = pca.fit_transform(data_mnist_scaled)\n",
    "\n",
    "# Кластеризація K-means після PCA\n",
    "kmeans_mnist = KMeans(n_clusters=10, random_state=42, n_init=10)\n",
    "kmeans_mnist.fit(data_mnist_pca)\n",
    "labels_mnist = kmeans_mnist.labels_\n",
    "\n",
    "# Візуалізація кластеризації MNIST після PCA\n",
    "plt.figure(figsize=(8, 6))\n",
    "sns.scatterplot(x=data_mnist_pca[:, 0], y=data_mnist_pca[:, 1], hue=labels_mnist, palette='tab10', alpha=0.7)\n",
    "plt.scatter(kmeans_mnist.cluster_centers_[:, 0], kmeans_mnist.cluster_centers_[:, 1], c='red', marker='X', s=200, label='Центри кластерів')\n",
    "plt.title('Кластеризація MNIST після PCA методом K-means')\n",
    "plt.legend()\n",
    "plt.show()"
   ]
  }
 ],
 "metadata": {
  "language_info": {
   "name": "python"
  }
 },
 "nbformat": 4,
 "nbformat_minor": 2
}
