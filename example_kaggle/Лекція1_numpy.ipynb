{
  "cells": [
    {
      "cell_type": "markdown",
      "metadata": {
        "id": "Ie_4rd9EqMY4"
      },
      "source": [
        "# Numpy\n"
      ]
    },
    {
      "cell_type": "code",
      "execution_count": null,
      "metadata": {
        "colab": {
          "base_uri": "https://localhost:8080/"
        },
        "id": "LVt_cy5gp8r3",
        "outputId": "e87e996e-e1e8-4f95-ae1c-1e0964cb46ac"
      },
      "outputs": [
        {
          "output_type": "stream",
          "name": "stdout",
          "text": [
            "Requirement already satisfied: numpy in /usr/local/lib/python3.12/dist-packages (2.0.2)\n"
          ]
        }
      ],
      "source": [
        "#!pip install numpy"
      ]
    },
    {
      "cell_type": "code",
      "execution_count": null,
      "metadata": {
        "id": "YHPRBxngqLtF"
      },
      "outputs": [],
      "source": [
        "import numpy as np"
      ]
    },
    {
      "cell_type": "markdown",
      "metadata": {
        "id": "mq8Q_DfEr9Ik"
      },
      "source": [
        "## Масиви та матриці\n",
        "`ndarray`\n",
        "`dtype`"
      ]
    },
    {
      "cell_type": "code",
      "execution_count": null,
      "metadata": {
        "colab": {
          "base_uri": "https://localhost:8080/"
        },
        "id": "BWOayIxSqLw9",
        "outputId": "15c960ca-860f-4898-a8d9-c2486bf99671"
      },
      "outputs": [
        {
          "output_type": "execute_result",
          "data": {
            "text/plain": [
              "array([1., 2., 3., 4., 5.])"
            ]
          },
          "metadata": {},
          "execution_count": 2
        }
      ],
      "source": [
        "a = np.array([1, 2, 3, 4, 5], dtype=float)\n",
        "a"
      ]
    },
    {
      "cell_type": "code",
      "execution_count": null,
      "metadata": {
        "colab": {
          "base_uri": "https://localhost:8080/"
        },
        "id": "D9nMgDiBqLzx",
        "outputId": "b311c68e-80d4-40c3-b35d-5d3aafe5bf34"
      },
      "outputs": [
        {
          "output_type": "execute_result",
          "data": {
            "text/plain": [
              "array([[1, 2, 3],\n",
              "       [4, 5, 6]])"
            ]
          },
          "metadata": {},
          "execution_count": 3
        }
      ],
      "source": [
        "b = np.array([\n",
        "              [1, 2, 3],\n",
        "              [4, 5, 6]\n",
        "              ],\n",
        "    dtype=int)\n",
        "b"
      ]
    },
    {
      "cell_type": "code",
      "execution_count": null,
      "metadata": {
        "colab": {
          "base_uri": "https://localhost:8080/"
        },
        "id": "5CbTvBTkqL2B",
        "outputId": "480ffd1e-4eba-4dfc-fb01-41cf274316fe"
      },
      "outputs": [
        {
          "output_type": "execute_result",
          "data": {
            "text/plain": [
              "(5,)"
            ]
          },
          "metadata": {},
          "execution_count": 4
        }
      ],
      "source": [
        "a.shape"
      ]
    },
    {
      "cell_type": "code",
      "execution_count": null,
      "metadata": {
        "colab": {
          "base_uri": "https://localhost:8080/"
        },
        "id": "fVof7K6oqL4e",
        "outputId": "5fb4777f-89be-4139-c9cb-96a9a2a0a1f2"
      },
      "outputs": [
        {
          "output_type": "execute_result",
          "data": {
            "text/plain": [
              "(2, 3)"
            ]
          },
          "metadata": {},
          "execution_count": 5
        }
      ],
      "source": [
        "b.shape"
      ]
    },
    {
      "cell_type": "code",
      "execution_count": null,
      "metadata": {
        "colab": {
          "base_uri": "https://localhost:8080/"
        },
        "id": "wa6SmmLzuNgz",
        "outputId": "e75f04d0-6f85-435a-9172-3408bb743c25"
      },
      "outputs": [
        {
          "output_type": "execute_result",
          "data": {
            "text/plain": [
              "2"
            ]
          },
          "metadata": {},
          "execution_count": 6
        }
      ],
      "source": [
        "b.ndim"
      ]
    },
    {
      "cell_type": "code",
      "execution_count": null,
      "metadata": {
        "colab": {
          "base_uri": "https://localhost:8080/"
        },
        "id": "U4GI2GY8udvT",
        "outputId": "e3917cf7-7181-43a0-efcd-a409f38c1be5"
      },
      "outputs": [
        {
          "output_type": "execute_result",
          "data": {
            "text/plain": [
              "5"
            ]
          },
          "metadata": {},
          "execution_count": 7
        }
      ],
      "source": [
        "a.size"
      ]
    },
    {
      "cell_type": "code",
      "execution_count": null,
      "metadata": {
        "colab": {
          "base_uri": "https://localhost:8080/"
        },
        "id": "O9O5Tbj8uwWE",
        "outputId": "c6eb79a0-9c03-4389-d1cc-659cfce24ca1"
      },
      "outputs": [
        {
          "output_type": "execute_result",
          "data": {
            "text/plain": [
              "<memory at 0x7a92d0340040>"
            ]
          },
          "metadata": {},
          "execution_count": 8
        }
      ],
      "source": [
        "a.data"
      ]
    },
    {
      "cell_type": "code",
      "execution_count": null,
      "metadata": {
        "colab": {
          "base_uri": "https://localhost:8080/"
        },
        "id": "QTPkgL_evFVL",
        "outputId": "04d987c2-9f58-4089-bc7e-3ffb5441d548"
      },
      "outputs": [
        {
          "output_type": "execute_result",
          "data": {
            "text/plain": [
              "8"
            ]
          },
          "metadata": {},
          "execution_count": 9
        }
      ],
      "source": [
        "b.itemsize"
      ]
    },
    {
      "cell_type": "markdown",
      "metadata": {
        "id": "O023TWKmt5S8"
      },
      "source": [
        "`shape` - виміри масиву\n",
        "\n",
        "`ndim` - кількість осей (`ndim == len(shape)`)\n",
        "\n",
        "`size` - загальна кількісь елем.\n",
        "\n",
        "`dtype` - тип даних масиву\n",
        "\n",
        "`data` - буфер в пам'яті, де знаходяться елементи масиву\n",
        "\n",
        "`itemsize` - розмір у байтах кожного елем."
      ]
    },
    {
      "cell_type": "code",
      "execution_count": null,
      "metadata": {
        "colab": {
          "base_uri": "https://localhost:8080/"
        },
        "id": "0qqItcW7vVSt",
        "outputId": "7ad457cd-0ea4-4242-a0a8-93dc42e40904"
      },
      "outputs": [
        {
          "output_type": "execute_result",
          "data": {
            "text/plain": [
              "array([1., 1., 1., 1., 1.])"
            ]
          },
          "metadata": {},
          "execution_count": 10
        }
      ],
      "source": [
        "np.ones((5,), dtype=float)"
      ]
    },
    {
      "cell_type": "code",
      "execution_count": null,
      "metadata": {
        "colab": {
          "base_uri": "https://localhost:8080/"
        },
        "id": "Gqd5r6B8vpi0",
        "outputId": "d6573bbb-f7be-4d3b-b64f-13d8607e67ed"
      },
      "outputs": [
        {
          "output_type": "execute_result",
          "data": {
            "text/plain": [
              "array([[1, 1, 1, 1],\n",
              "       [1, 1, 1, 1]])"
            ]
          },
          "metadata": {},
          "execution_count": 11
        }
      ],
      "source": [
        "np.ones((2, 4), dtype=int)"
      ]
    },
    {
      "cell_type": "code",
      "execution_count": null,
      "metadata": {
        "colab": {
          "base_uri": "https://localhost:8080/"
        },
        "id": "2NAvoRYzv1av",
        "outputId": "756e59c9-60cd-4379-c1f9-a95f0f217a07"
      },
      "outputs": [
        {
          "output_type": "execute_result",
          "data": {
            "text/plain": [
              "array([0., 0., 0., 0., 0.])"
            ]
          },
          "metadata": {},
          "execution_count": 12
        }
      ],
      "source": [
        "np.zeros((5,), dtype=float)"
      ]
    },
    {
      "cell_type": "code",
      "execution_count": null,
      "metadata": {
        "colab": {
          "base_uri": "https://localhost:8080/"
        },
        "id": "oCDJ9gwdv4ks",
        "outputId": "466ac6cb-79e2-4ff6-be17-45a5f907fb53"
      },
      "outputs": [
        {
          "output_type": "execute_result",
          "data": {
            "text/plain": [
              "array([[0, 0, 0, 0],\n",
              "       [0, 0, 0, 0]])"
            ]
          },
          "metadata": {},
          "execution_count": 13
        }
      ],
      "source": [
        "np.zeros((2, 4), dtype=int)"
      ]
    },
    {
      "cell_type": "code",
      "execution_count": null,
      "metadata": {
        "colab": {
          "base_uri": "https://localhost:8080/"
        },
        "id": "8u0nuA-kwZnk",
        "outputId": "570be247-2546-446c-829d-35835d46386e"
      },
      "outputs": [
        {
          "output_type": "execute_result",
          "data": {
            "text/plain": [
              "array([[1, 0, 0, 0],\n",
              "       [0, 1, 0, 0],\n",
              "       [0, 0, 1, 0],\n",
              "       [0, 0, 0, 1]])"
            ]
          },
          "metadata": {},
          "execution_count": 14
        }
      ],
      "source": [
        "np.identity(4, dtype=int)"
      ]
    },
    {
      "cell_type": "code",
      "execution_count": null,
      "metadata": {
        "colab": {
          "base_uri": "https://localhost:8080/"
        },
        "id": "y91z5w5zwxs7",
        "outputId": "aa72b1b8-3598-48e1-a733-be14addfcfa9"
      },
      "outputs": [
        {
          "output_type": "stream",
          "name": "stdout",
          "text": [
            "[0 1 2 3 4]\n",
            "[1.  1.5 2.  2.5]\n"
          ]
        }
      ],
      "source": [
        "a = np.arange(5)\n",
        "b = np.arange(1, 3, 0.5)\n",
        "print(a)\n",
        "print(b)"
      ]
    },
    {
      "cell_type": "code",
      "execution_count": null,
      "metadata": {
        "colab": {
          "base_uri": "https://localhost:8080/"
        },
        "id": "iid1JtnExT6E",
        "outputId": "b112cbb2-f5f5-47c4-a1ff-ee8df317b037"
      },
      "outputs": [
        {
          "output_type": "stream",
          "name": "stdout",
          "text": [
            "[1. 2. 3. 4. 5.]\n",
            "[1. 2. 3.]\n"
          ]
        }
      ],
      "source": [
        "a = np.linspace(1, 5, num=5)\n",
        "b = np.linspace(1, 3, num=3)\n",
        "print(a)\n",
        "print(b)"
      ]
    },
    {
      "cell_type": "code",
      "execution_count": null,
      "metadata": {
        "colab": {
          "base_uri": "https://localhost:8080/"
        },
        "id": "u9PMUhCax6IJ",
        "outputId": "3fb3f1bc-ebf9-4feb-c7fa-3f305449aed8"
      },
      "outputs": [
        {
          "output_type": "stream",
          "name": "stdout",
          "text": [
            "[0.93153089 0.69852505 0.07013856]\n",
            "\n",
            "[[0.94202308 0.06764488 0.07153966]\n",
            " [0.619995   0.05384441 0.70386433]\n",
            " [0.069732   0.45480726 0.41030504]]\n"
          ]
        }
      ],
      "source": [
        "a = np.random.random(3)\n",
        "b = np.random.random((3, 3))\n",
        "print(a)\n",
        "print()\n",
        "print(b)"
      ]
    },
    {
      "cell_type": "markdown",
      "metadata": {
        "id": "7acqf_qOyeDf"
      },
      "source": [
        "## Індексація\n"
      ]
    },
    {
      "cell_type": "code",
      "execution_count": null,
      "metadata": {
        "colab": {
          "base_uri": "https://localhost:8080/"
        },
        "id": "XqyOawVgygs3",
        "outputId": "09350b35-9248-4b06-c379-044e33270952"
      },
      "outputs": [
        {
          "output_type": "stream",
          "name": "stdout",
          "text": [
            "1\n",
            "[2 3 4 5]\n",
            "[1 2]\n"
          ]
        }
      ],
      "source": [
        "a = np.array([1, 2, 3, 4, 5])\n",
        "print(a[0])\n",
        "print(a[1:])\n",
        "print(a[:2])"
      ]
    },
    {
      "cell_type": "markdown",
      "metadata": {
        "id": "9djyPadSy9EU"
      },
      "source": [
        "`m[i][j]` -> `m[i, j]`"
      ]
    },
    {
      "cell_type": "code",
      "execution_count": null,
      "metadata": {
        "colab": {
          "base_uri": "https://localhost:8080/"
        },
        "id": "4x83lmhLzEud",
        "outputId": "d79d45c5-04f9-4cc1-fb5d-293c7358223d"
      },
      "outputs": [
        {
          "output_type": "stream",
          "name": "stdout",
          "text": [
            "5\n",
            "[5 8]\n",
            "[1 2]\n"
          ]
        }
      ],
      "source": [
        "a = np.array([\n",
        "    [1, 2, 3],\n",
        "    [4, 5, 6],\n",
        "    [7, 8, 9]\n",
        "])\n",
        "print(a[1, 1])\n",
        "print(a[1:, 1])\n",
        "print(a[0, :2])"
      ]
    },
    {
      "cell_type": "markdown",
      "metadata": {
        "id": "ImU8B1a10Vz8"
      },
      "source": [
        "## `dtype`\n"
      ]
    },
    {
      "cell_type": "code",
      "execution_count": null,
      "metadata": {
        "colab": {
          "base_uri": "https://localhost:8080/"
        },
        "id": "TGfndOXx0VL1",
        "outputId": "9a798044-c118-4751-9d4c-5bf0be12142d"
      },
      "outputs": [
        {
          "output_type": "execute_result",
          "data": {
            "text/plain": [
              "numpy.bool"
            ]
          },
          "metadata": {},
          "execution_count": 20
        }
      ],
      "source": [
        "np.uint16\n",
        "np.int_\n",
        "np.bool_"
      ]
    },
    {
      "cell_type": "markdown",
      "metadata": {
        "id": "tqs1drO_0_3p"
      },
      "source": [
        "`int_` - long C\n",
        "\n",
        "`int8` - 1 byte [-128, 127]\n",
        "\n",
        "`int16` - 2 byte [-32768, 32767]\n",
        "\n",
        "`int32` - 4 byte [-2^31, 2^31 - 1]\n",
        "\n",
        "`int64` - 8 byte [-2^63, 2^63 - 1]\n",
        "\n",
        "`uint8` - 1 byte [0, 255]\n",
        "\n",
        "`uint16` - 2 byte [0, 65535]\n",
        "\n",
        "`uint32` - 4 byte [0, 2^32 - 1]\n",
        "\n",
        "`uint64` - 8 byte [0, 2^64 - 1]\n",
        "\n",
        "`float_` - float64\n",
        "\n",
        "`float32` - [10^-38, 10^38] 7 знаків після коми\n",
        "\n",
        "`float64` - [10^-308, 10^308] 15 знаків після коми\n",
        "\n",
        "`complex_` - complex128\n",
        "\n",
        "`complex64`, `complex128`\n",
        "\n",
        "`bool_` - логічний тип даних, 1 байт"
      ]
    },
    {
      "cell_type": "code",
      "execution_count": null,
      "metadata": {
        "colab": {
          "base_uri": "https://localhost:8080/"
        },
        "id": "ntV6vFSd3mTK",
        "outputId": "6f1134c3-2eb8-4d6e-f63c-95814bff4642"
      },
      "outputs": [
        {
          "output_type": "execute_result",
          "data": {
            "text/plain": [
              "array([[0, 0, 0],\n",
              "       [0, 0, 0],\n",
              "       [0, 0, 0]], dtype=uint32)"
            ]
          },
          "metadata": {},
          "execution_count": 21
        }
      ],
      "source": [
        "b = np.zeros((3, 3), dtype=\"u4\")\n",
        "# i - int\n",
        "# u - uint\n",
        "# f - float\n",
        "# c - complex\n",
        "# b - bool\n",
        "# S, a - str\n",
        "# U - unicode symbols\n",
        "b"
      ]
    },
    {
      "cell_type": "code",
      "execution_count": null,
      "metadata": {
        "colab": {
          "base_uri": "https://localhost:8080/"
        },
        "id": "y3d9BBnU5WnC",
        "outputId": "d76b8609-dcc5-4b37-943d-03638e3fbb0d"
      },
      "outputs": [
        {
          "output_type": "execute_result",
          "data": {
            "text/plain": [
              "array(['∑', '∏'], dtype='<U1')"
            ]
          },
          "metadata": {},
          "execution_count": 22
        }
      ],
      "source": [
        "a = np.array([u\"\\u2211\", u\"\\u220F\"], dtype=\"U\")\n",
        "a"
      ]
    },
    {
      "cell_type": "markdown",
      "metadata": {
        "id": "kAuq7hiw5xbu"
      },
      "source": [
        "## Арифметичні операції"
      ]
    },
    {
      "cell_type": "code",
      "execution_count": null,
      "metadata": {
        "colab": {
          "base_uri": "https://localhost:8080/"
        },
        "id": "gD1mGqp354gt",
        "outputId": "1ad80649-c411-4497-a1ef-f511bcabb6e2"
      },
      "outputs": [
        {
          "output_type": "stream",
          "name": "stdout",
          "text": [
            "[5 7 9]\n",
            "[-3 -3 -3]\n",
            "[ 4 10 18]\n",
            "[0.25 0.4  0.5 ]\n"
          ]
        }
      ],
      "source": [
        "a = np.array([1, 2, 3])\n",
        "b = np.array([4, 5, 6])\n",
        "\n",
        "print(a + b)\n",
        "print(a - b)\n",
        "print(a * b)\n",
        "print(a / b)"
      ]
    },
    {
      "cell_type": "code",
      "execution_count": null,
      "metadata": {
        "colab": {
          "base_uri": "https://localhost:8080/"
        },
        "id": "e5EiaTxG54lJ",
        "outputId": "4f3f12f7-c7b1-45f8-f01b-e15d5b93ca14"
      },
      "outputs": [
        {
          "output_type": "stream",
          "name": "stdout",
          "text": [
            "uint8\n",
            "uint8\n",
            "[[ 3  4  5]\n",
            " [ 7  8  9]\n",
            " [11 12 13]]\n",
            "[[255   0   1]\n",
            " [  1   2   3]\n",
            " [  3   4   5]]\n",
            "[[ 2  4  6]\n",
            " [12 15 18]\n",
            " [28 32 36]]\n",
            "[[0.5        1.         1.5       ]\n",
            " [1.33333333 1.66666667 2.        ]\n",
            " [1.75       2.         2.25      ]]\n"
          ]
        }
      ],
      "source": [
        "a = np.array([[1, 2, 3], [4, 5, 6], [7, 8, 9]], dtype=np.uint8)\n",
        "b = np.array([[2, 2, 2], [3, 3, 3], [4, 4, 4]], dtype=np.uint8)\n",
        "\n",
        "print(a.dtype)\n",
        "print(b.dtype)\n",
        "print(a + b)\n",
        "print(a - b)\n",
        "print(a * b)\n",
        "print(a / b)"
      ]
    },
    {
      "cell_type": "markdown",
      "metadata": {
        "id": "d3Vhhp5x7Xb0"
      },
      "source": [
        "## Агрегування даних"
      ]
    },
    {
      "cell_type": "code",
      "execution_count": null,
      "metadata": {
        "colab": {
          "base_uri": "https://localhost:8080/"
        },
        "id": "w1LOllbk54nm",
        "outputId": "662af271-fa00-43f9-8d79-642eb8305cad"
      },
      "outputs": [
        {
          "output_type": "stream",
          "name": "stdout",
          "text": [
            "1\n",
            "5\n",
            "15\n",
            "3.0\n",
            "120\n"
          ]
        }
      ],
      "source": [
        "a = np.array([1, 2, 3, 4, 5])\n",
        "print(a.min())\n",
        "print(a.max())\n",
        "print(a.sum())\n",
        "print(a.mean())\n",
        "print(a.prod())"
      ]
    },
    {
      "cell_type": "code",
      "execution_count": null,
      "metadata": {
        "colab": {
          "base_uri": "https://localhost:8080/"
        },
        "id": "DyjgEhA654p6",
        "outputId": "af1089b2-ea26-4075-ed0e-668096de0f8d"
      },
      "outputs": [
        {
          "output_type": "stream",
          "name": "stdout",
          "text": [
            "1\n",
            "100\n",
            "141\n",
            "15.666666666666666\n",
            "6.0\n",
            "9072000\n"
          ]
        }
      ],
      "source": [
        "a = np.array([[1, 2, 3], [100, 5, 6], [7, 8, 9]])\n",
        "print(a.min())\n",
        "print(a.max())\n",
        "print(a.sum())\n",
        "print(a.mean())\n",
        "print(np.median(a))\n",
        "print(a.prod())"
      ]
    },
    {
      "cell_type": "markdown",
      "metadata": {
        "id": "E-iTvdEH8xzu"
      },
      "source": [
        "## Лінійна алгебра"
      ]
    },
    {
      "cell_type": "code",
      "execution_count": null,
      "metadata": {
        "colab": {
          "base_uri": "https://localhost:8080/"
        },
        "id": "7zY0LVq98w6w",
        "outputId": "db8e3e14-ffa9-452b-93a4-064c45563a9c"
      },
      "outputs": [
        {
          "output_type": "execute_result",
          "data": {
            "text/plain": [
              "matrix([[1, 2, 3],\n",
              "        [4, 5, 6],\n",
              "        [7, 8, 9]])"
            ]
          },
          "metadata": {},
          "execution_count": 27
        }
      ],
      "source": [
        "a = np.matrix([[1, 2, 3], [4, 5, 6], [7, 8, 9]])\n",
        "a"
      ]
    },
    {
      "cell_type": "code",
      "execution_count": null,
      "metadata": {
        "colab": {
          "base_uri": "https://localhost:8080/"
        },
        "id": "1IBMCIYR54sS",
        "outputId": "243a23ae-1e1d-44f5-d5d5-8a1a4530ef70"
      },
      "outputs": [
        {
          "output_type": "execute_result",
          "data": {
            "text/plain": [
              "array([1, 5, 9])"
            ]
          },
          "metadata": {},
          "execution_count": 28
        }
      ],
      "source": [
        "diag = np.diag(a)\n",
        "diag"
      ]
    },
    {
      "cell_type": "code",
      "execution_count": null,
      "metadata": {
        "colab": {
          "base_uri": "https://localhost:8080/"
        },
        "id": "W-S4AukH54uG",
        "outputId": "b93c37c7-25ed-4b68-85d9-30f3ae660837"
      },
      "outputs": [
        {
          "output_type": "execute_result",
          "data": {
            "text/plain": [
              "array([[1, 0, 0],\n",
              "       [0, 5, 0],\n",
              "       [0, 0, 9]])"
            ]
          },
          "metadata": {},
          "execution_count": 29
        }
      ],
      "source": [
        "b = np.diag(diag)\n",
        "b"
      ]
    },
    {
      "cell_type": "code",
      "execution_count": null,
      "metadata": {
        "colab": {
          "base_uri": "https://localhost:8080/"
        },
        "id": "Dn6KQp5Z54wJ",
        "outputId": "209a454e-ec66-4899-f7f9-e29130d8ed32"
      },
      "outputs": [
        {
          "output_type": "execute_result",
          "data": {
            "text/plain": [
              "array([[0, 0, 0, 0],\n",
              "       [1, 0, 0, 0],\n",
              "       [0, 1, 0, 0],\n",
              "       [0, 0, 1, 0]])"
            ]
          },
          "metadata": {},
          "execution_count": 30
        }
      ],
      "source": [
        "np.eye(4, k=-1, dtype=int)"
      ]
    },
    {
      "cell_type": "markdown",
      "metadata": {
        "id": "o0Qn3emr-V7Y"
      },
      "source": [
        "## Транспонування та зміна форми"
      ]
    },
    {
      "cell_type": "code",
      "execution_count": null,
      "metadata": {
        "colab": {
          "base_uri": "https://localhost:8080/"
        },
        "id": "mh4L0KLC-atH",
        "outputId": "6830a2b6-3c4d-402c-9e40-6efe88f4f94f"
      },
      "outputs": [
        {
          "output_type": "execute_result",
          "data": {
            "text/plain": [
              "matrix([[1, 4, 7],\n",
              "        [2, 5, 8],\n",
              "        [3, 6, 9]])"
            ]
          },
          "metadata": {},
          "execution_count": 32
        }
      ],
      "source": [
        "a = np.matrix('1,2,3;4,5,6;7,8,9')\n",
        "b = a.T\n",
        "b"
      ]
    },
    {
      "cell_type": "code",
      "execution_count": null,
      "metadata": {
        "colab": {
          "base_uri": "https://localhost:8080/"
        },
        "id": "In5S62Q5-axb",
        "outputId": "6776be22-9142-4658-9d6b-8d04d77c97e8"
      },
      "outputs": [
        {
          "output_type": "execute_result",
          "data": {
            "text/plain": [
              "matrix([[1, 2],\n",
              "        [3, 4],\n",
              "        [5, 6]])"
            ]
          },
          "metadata": {},
          "execution_count": 33
        }
      ],
      "source": [
        "a = np.matrix('1,2,3;4,5,6')\n",
        "b = a.reshape((3, 2))\n",
        "b"
      ]
    },
    {
      "cell_type": "code",
      "execution_count": null,
      "metadata": {
        "colab": {
          "base_uri": "https://localhost:8080/"
        },
        "id": "MNwQU_me-a1f",
        "outputId": "9f6d59da-a8da-4633-c418-8948ffc9b2c3"
      },
      "outputs": [
        {
          "output_type": "execute_result",
          "data": {
            "text/plain": [
              "matrix([[1, 2, 3, 4, 5, 6, 7, 8, 9]])"
            ]
          },
          "metadata": {},
          "execution_count": 34
        }
      ],
      "source": [
        "a = np.matrix('1,2,3;4,5,6;7,8,9')\n",
        "b = a.flatten()\n",
        "b"
      ]
    },
    {
      "cell_type": "markdown",
      "metadata": {
        "id": "LYfqpyelAKjM"
      },
      "source": [
        "## Множення матриць"
      ]
    },
    {
      "cell_type": "code",
      "execution_count": null,
      "metadata": {
        "colab": {
          "base_uri": "https://localhost:8080/"
        },
        "id": "blOOwGlK-a5h",
        "outputId": "5a786bc0-cd77-4b5c-b223-9f13a704f1c4"
      },
      "outputs": [
        {
          "output_type": "execute_result",
          "data": {
            "text/plain": [
              "matrix([[-2, 10],\n",
              "        [-2,  4]])"
            ]
          },
          "metadata": {},
          "execution_count": 35
        }
      ],
      "source": [
        "a = np.matrix('1,2,3;0,1,2')\n",
        "b = np.matrix('1,2;0,4;-1,0')\n",
        "\n",
        "c = a.dot(b)\n",
        "c"
      ]
    },
    {
      "cell_type": "markdown",
      "metadata": {
        "id": "aTEGDRLwB_r3"
      },
      "source": [
        "## Визначник"
      ]
    },
    {
      "cell_type": "code",
      "execution_count": null,
      "metadata": {
        "colab": {
          "base_uri": "https://localhost:8080/"
        },
        "id": "FkVTrX90-a9J",
        "outputId": "f516b050-0ce7-429b-ccec-d70b7c90551e"
      },
      "outputs": [
        {
          "output_type": "execute_result",
          "data": {
            "text/plain": [
              "-8"
            ]
          },
          "metadata": {},
          "execution_count": 36
        }
      ],
      "source": [
        "a = np.matrix('1,2,3;0,1,2;4,7,2')\n",
        "det = round(np.linalg.det(a))\n",
        "det"
      ]
    },
    {
      "cell_type": "markdown",
      "metadata": {
        "id": "lD2E34B_ELqZ"
      },
      "source": [
        " Обернена матриця"
      ]
    },
    {
      "cell_type": "code",
      "execution_count": null,
      "metadata": {
        "colab": {
          "base_uri": "https://localhost:8080/"
        },
        "id": "5U5rPogHELL6",
        "outputId": "5ed03c13-5c83-4dc4-a15e-a4ad6b8ce686"
      },
      "outputs": [
        {
          "output_type": "execute_result",
          "data": {
            "text/plain": [
              "matrix([[1., 0., 0.],\n",
              "        [0., 1., 0.],\n",
              "        [0., 0., 1.]])"
            ]
          },
          "metadata": {},
          "execution_count": 37
        }
      ],
      "source": [
        "a = np.matrix('1,2,3;0,1,2;4,7,2')\n",
        "b = np.linalg.inv(a)\n",
        "\n",
        "a.dot(b)"
      ]
    },
    {
      "cell_type": "code",
      "source": [],
      "metadata": {
        "id": "O8Tx31vKwukh"
      },
      "execution_count": null,
      "outputs": []
    },
    {
      "cell_type": "markdown",
      "metadata": {
        "id": "Sheano01EmAW"
      },
      "source": [
        "## Розв'язання лінійних алгебраїчних рівнянь"
      ]
    },
    {
      "cell_type": "code",
      "execution_count": null,
      "metadata": {
        "colab": {
          "base_uri": "https://localhost:8080/"
        },
        "id": "zcZVea1WEmHi",
        "outputId": "cb2037d9-c6f5-4ba5-873b-c7cbcae37c19"
      },
      "outputs": [
        {
          "output_type": "execute_result",
          "data": {
            "text/plain": [
              "matrix([[ 2.],\n",
              "        [-3.],\n",
              "        [-1.]])"
            ]
          },
          "metadata": {},
          "execution_count": 38
        }
      ],
      "source": [
        "a = np.matrix('1,2,5;1,-1,3;3,-6,-1')\n",
        "b = np.matrix('-9;2;25')\n",
        "a_inv = np.linalg.inv(a)\n",
        "x = a_inv.dot(b)\n",
        "x"
      ]
    },
    {
      "cell_type": "code",
      "execution_count": null,
      "metadata": {
        "colab": {
          "base_uri": "https://localhost:8080/"
        },
        "id": "xh22nZ3DG9WL",
        "outputId": "558f5c8a-079a-4e1f-fbc5-557158b48183"
      },
      "outputs": [
        {
          "output_type": "execute_result",
          "data": {
            "text/plain": [
              "matrix([[ 2.],\n",
              "        [-3.],\n",
              "        [-1.]])"
            ]
          },
          "metadata": {},
          "execution_count": 39
        }
      ],
      "source": [
        "x = np.linalg.solve(a, b)\n",
        "x"
      ]
    }
  ],
  "metadata": {
    "colab": {
      "provenance": []
    },
    "kernelspec": {
      "display_name": "Python 3 (ipykernel)",
      "language": "python",
      "name": "python3"
    },
    "language_info": {
      "codemirror_mode": {
        "name": "ipython",
        "version": 3
      },
      "file_extension": ".py",
      "mimetype": "text/x-python",
      "name": "python",
      "nbconvert_exporter": "python",
      "pygments_lexer": "ipython3",
      "version": "3.9.2"
    }
  },
  "nbformat": 4,
  "nbformat_minor": 0
}