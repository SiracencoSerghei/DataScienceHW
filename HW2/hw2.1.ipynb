{
 "cells": [
  {
   "cell_type": "code",
   "execution_count": 2,
   "metadata": {},
   "outputs": [],
   "source": [
    "import numpy as np\n",
    "import pandas as pd"
   ]
  },
  {
   "cell_type": "markdown",
   "metadata": {},
   "source": [
    "---\n",
    "# Дані з таблиці таблиці \"Коефіцієнт народжуваності в регіонах України (1950—2019)\"\n",
    "---"
   ]
  },
  {
   "cell_type": "code",
   "execution_count": 3,
   "metadata": {},
   "outputs": [
    {
     "name": "stdout",
     "output_type": "stream",
     "text": [
      "               Регіон   1950   1960   1970  1990  2000  2012 2014 2019\n",
      "0                Крим  230.0  206.0  160.0   130    73   126    —    —\n",
      "1           Вінницька  224.0  192.0  142.0   124    84   112  109   76\n",
      "2           Волинська  247.0  250.0  179.0   153   112   148  141  101\n",
      "3    Дніпропетровська  204.0  204.0  151.0   123    71   112  111   71\n",
      "4            Донецька  271.0  214.0  140.0   109    61    98   82    —\n",
      "5         Житомирська  261.0  223.0  159.0   129    89   122  120   79\n",
      "6        Закарпатська  314.0  273.0  207.0   168   115   151  146  104\n",
      "7          Запорізька  219.0  197.0  150.0   124    71   106  106   68\n",
      "8   Івано-Франківська  243.0  248.0  182.0   155   103   124  122   88\n",
      "9            Київська  204.0  189.0  156.0   123    73   122  121   80\n",
      "10     Кіровоградська  216.0  171.0  145.0   126    79   110  108   68\n",
      "11          Луганська  262.0  235.0  144.0   116    62    96   51    —\n",
      "12          Львівська  234.0  240.0  171.0   140    91   119  119   87\n",
      "13       Миколаївська  211.0  194.0  155.0   137    80   115  112   71\n",
      "14            Одеська  241.0  192.0  148.0   126    80   127  123   88\n",
      "15         Полтавська  186.0  163.0  131.0   118    70    99  100   65\n",
      "16         Рівненська  269.0  267.0  193.0   158   118   159  148  107\n",
      "17            Сумська  216.0  184.0  132.0   115    70    97   92   60\n",
      "18      Тернопільська  213.0  216.0  157.0   142    92   113  109   76\n",
      "19         Харківська  197.0  173.0  140.0   114    68    99  101   68\n",
      "20         Херсонська  208.0  214.0  166.0   143    85   117  115   81\n",
      "21        Хмельницька  234.0  198.0  148.0   129    85   113  112   79\n",
      "22          Черкаська  205.0  179.0  144.0   123    75   100   98   64\n",
      "23        Чернівецька  247.0  218.0  170.0   148   101   128  129   92\n",
      "24       Чернігівська  220.0  183.0  127.0   108    69    94   90   61\n",
      "25               Київ    NaN  174.0  159.0   120    73   120  121  110\n",
      "26        Севастополь    NaN    NaN    NaN   125    70   120    —    —\n",
      "27            Україна  228.0  205.0  152.0   126    78   114  111   81\n"
     ]
    }
   ],
   "source": [
    "url = 'https://uk.wikipedia.org/wiki/%D0%9D%D0%B0%D1%81%D0%B5%D0%BB%D0%B5%D0%BD%D0%BD%D1%8F_%D0%A3%D0%BA%D1%80%D0%B0%D1%97%D0%BD%D0%B8'\n",
    "\n",
    "df = pd.read_html(url, match='Коефіцієнт народжуваності в регіонах України')[0]\n",
    "print(df)"
   ]
  },
  {
   "cell_type": "markdown",
   "metadata": {},
   "source": [
    "#1 Вивести перші рядки таблиці за допомогою методу head"
   ]
  },
  {
   "cell_type": "code",
   "execution_count": 5,
   "metadata": {},
   "outputs": [
    {
     "data": {
      "text/html": [
       "<div>\n",
       "<style scoped>\n",
       "    .dataframe tbody tr th:only-of-type {\n",
       "        vertical-align: middle;\n",
       "    }\n",
       "\n",
       "    .dataframe tbody tr th {\n",
       "        vertical-align: top;\n",
       "    }\n",
       "\n",
       "    .dataframe thead th {\n",
       "        text-align: right;\n",
       "    }\n",
       "</style>\n",
       "<table border=\"1\" class=\"dataframe\">\n",
       "  <thead>\n",
       "    <tr style=\"text-align: right;\">\n",
       "      <th></th>\n",
       "      <th>Регіон</th>\n",
       "      <th>1950</th>\n",
       "      <th>1960</th>\n",
       "      <th>1970</th>\n",
       "      <th>1990</th>\n",
       "      <th>2000</th>\n",
       "      <th>2012</th>\n",
       "      <th>2014</th>\n",
       "      <th>2019</th>\n",
       "    </tr>\n",
       "  </thead>\n",
       "  <tbody>\n",
       "    <tr>\n",
       "      <th>0</th>\n",
       "      <td>Крим</td>\n",
       "      <td>230.0</td>\n",
       "      <td>206.0</td>\n",
       "      <td>160.0</td>\n",
       "      <td>130</td>\n",
       "      <td>73</td>\n",
       "      <td>126</td>\n",
       "      <td>—</td>\n",
       "      <td>—</td>\n",
       "    </tr>\n",
       "    <tr>\n",
       "      <th>1</th>\n",
       "      <td>Вінницька</td>\n",
       "      <td>224.0</td>\n",
       "      <td>192.0</td>\n",
       "      <td>142.0</td>\n",
       "      <td>124</td>\n",
       "      <td>84</td>\n",
       "      <td>112</td>\n",
       "      <td>109</td>\n",
       "      <td>76</td>\n",
       "    </tr>\n",
       "    <tr>\n",
       "      <th>2</th>\n",
       "      <td>Волинська</td>\n",
       "      <td>247.0</td>\n",
       "      <td>250.0</td>\n",
       "      <td>179.0</td>\n",
       "      <td>153</td>\n",
       "      <td>112</td>\n",
       "      <td>148</td>\n",
       "      <td>141</td>\n",
       "      <td>101</td>\n",
       "    </tr>\n",
       "  </tbody>\n",
       "</table>\n",
       "</div>"
      ],
      "text/plain": [
       "      Регіон   1950   1960   1970  1990  2000  2012 2014 2019\n",
       "0       Крим  230.0  206.0  160.0   130    73   126    —    —\n",
       "1  Вінницька  224.0  192.0  142.0   124    84   112  109   76\n",
       "2  Волинська  247.0  250.0  179.0   153   112   148  141  101"
      ]
     },
     "execution_count": 5,
     "metadata": {},
     "output_type": "execute_result"
    }
   ],
   "source": [
    "df.head(3)"
   ]
  },
  {
   "cell_type": "markdown",
   "metadata": {},
   "source": [
    "#2 Визначте кількість рядків та стовпців у датафреймі (атрибут shape)"
   ]
  },
  {
   "cell_type": "code",
   "execution_count": 6,
   "metadata": {},
   "outputs": [
    {
     "name": "stdout",
     "output_type": "stream",
     "text": [
      "Кількість рядків: 28\n",
      "Кількість стовпців: 9\n"
     ]
    }
   ],
   "source": [
    "rows = df.shape[0]\n",
    "columns = df.shape[1]\n",
    "print(f\"Кількість рядків: {rows}\\nКількість стовпців: {columns}\")"
   ]
  },
  {
   "cell_type": "markdown",
   "metadata": {},
   "source": [
    "#3 Замініть у таблиці значення \"**—**\" на значення NaN"
   ]
  },
  {
   "cell_type": "code",
   "execution_count": 7,
   "metadata": {},
   "outputs": [
    {
     "name": "stdout",
     "output_type": "stream",
     "text": [
      "             Регіон   1950   1960   1970  1990  2000  2012 2014 2019\n",
      "0              Крим  230.0  206.0  160.0   130    73   126  NaN  NaN\n",
      "1         Вінницька  224.0  192.0  142.0   124    84   112  109   76\n",
      "2         Волинська  247.0  250.0  179.0   153   112   148  141  101\n",
      "3  Дніпропетровська  204.0  204.0  151.0   123    71   112  111   71\n",
      "4          Донецька  271.0  214.0  140.0   109    61    98   82  NaN\n"
     ]
    }
   ],
   "source": [
    "df = df.replace('—', np.nan)\n",
    "print(df.head())"
   ]
  },
  {
   "cell_type": "markdown",
   "metadata": {},
   "source": [
    "#4 Визначте типи всіх стовпців за допомогою dataframe.dtypes"
   ]
  },
  {
   "cell_type": "code",
   "execution_count": 8,
   "metadata": {},
   "outputs": [
    {
     "data": {
      "text/plain": [
       "Регіон     object\n",
       "1950      float64\n",
       "1960      float64\n",
       "1970      float64\n",
       "1990        int64\n",
       "2000        int64\n",
       "2012        int64\n",
       "2014       object\n",
       "2019       object\n",
       "dtype: object"
      ]
     },
     "execution_count": 8,
     "metadata": {},
     "output_type": "execute_result"
    }
   ],
   "source": [
    "df.dtypes"
   ]
  },
  {
   "cell_type": "markdown",
   "metadata": {},
   "source": [
    "#5 Замініть типи нечислових колонок на числові. Підказка - це колонки, де знаходився символ \"—\""
   ]
  },
  {
   "cell_type": "code",
   "execution_count": 10,
   "metadata": {},
   "outputs": [
    {
     "name": "stdout",
     "output_type": "stream",
     "text": [
      "      Регіон   1950   1960   1970  1990  2000  2012   2014   2019\n",
      "0       Крим  230.0  206.0  160.0   130    73   126    NaN    NaN\n",
      "1  Вінницька  224.0  192.0  142.0   124    84   112  109.0   76.0\n",
      "2  Волинська  247.0  250.0  179.0   153   112   148  141.0  101.0\n",
      "Регіон     object\n",
      "1950      float64\n",
      "1960      float64\n",
      "1970      float64\n",
      "1990        int64\n",
      "2000        int64\n",
      "2012        int64\n",
      "2014      float64\n",
      "2019      float64\n",
      "dtype: object\n"
     ]
    }
   ],
   "source": [
    "df[\"2014\"] = df[\"2014\"].apply(pd.to_numeric, errors='coerce')\n",
    "df[\"2019\"] = df[\"2019\"].apply(pd.to_numeric, errors='coerce')\n",
    "\n",
    "# years = df.columns[1:].tolist()\n",
    "\n",
    "\n",
    "# df[years] = df[years].apply(pd.to_numeric, errors='coerce')\n",
    "# filled_data =  df.fillna(df[years].mean())\n",
    "# df[years] = df[years].astype(float).round(1)\n",
    "# filled_data = filled_data[years].astype(float).round(1)\n",
    "\n",
    "print(df.head(3))\n",
    "# print(filled_data.head(3))\n",
    "print(df.dtypes)\n",
    "# print(filled_data.dtypes)\n"
   ]
  },
  {
   "cell_type": "markdown",
   "metadata": {},
   "source": [
    "#6 Порахуйте, яка частка пропусків міститься в кожній колонці (використовуйте методи isnull та sum)"
   ]
  },
  {
   "cell_type": "code",
   "execution_count": 11,
   "metadata": {},
   "outputs": [
    {
     "data": {
      "text/plain": [
       "Регіон    0\n",
       "1950      2\n",
       "1960      1\n",
       "1970      1\n",
       "1990      0\n",
       "2000      0\n",
       "2012      0\n",
       "2014      2\n",
       "2019      4\n",
       "dtype: int64"
      ]
     },
     "execution_count": 11,
     "metadata": {},
     "output_type": "execute_result"
    }
   ],
   "source": [
    "df.isnull().sum()"
   ]
  },
  {
   "cell_type": "code",
   "execution_count": 13,
   "metadata": {},
   "outputs": [],
   "source": [
    "# filled_data.isnull().sum()"
   ]
  },
  {
   "cell_type": "markdown",
   "metadata": {},
   "source": [
    "#7 Видаліть з таблиці дані по всій країні, останній рядок таблиці"
   ]
  },
  {
   "cell_type": "code",
   "execution_count": 14,
   "metadata": {},
   "outputs": [
    {
     "name": "stdout",
     "output_type": "stream",
     "text": [
      "         Регіон  1950   1960   1970  1990  2000  2012   2014   2019\n",
      "25         Київ   NaN  174.0  159.0   120    73   120  121.0  110.0\n",
      "26  Севастополь   NaN    NaN    NaN   125    70   120    NaN    NaN\n"
     ]
    }
   ],
   "source": [
    "df.drop(df.index[-1], inplace=True)\n",
    "print(df.tail(2))\n"
   ]
  },
  {
   "cell_type": "markdown",
   "metadata": {},
   "source": [
    "#8 Замініть відсутні дані в стовпцях середніми значеннями цих стовпців (метод fillna)"
   ]
  },
  {
   "cell_type": "code",
   "execution_count": 15,
   "metadata": {},
   "outputs": [
    {
     "name": "stdout",
     "output_type": "stream",
     "text": [
      "     1950   1960   1970   1990   2000   2012   2014   2019\n",
      "0   230.0  206.0  160.0  130.0   73.0  126.0  111.4   80.2\n",
      "1   224.0  192.0  142.0  124.0   84.0  112.0  109.0   76.0\n",
      "2   247.0  250.0  179.0  153.0  112.0  148.0  141.0  101.0\n",
      "3   204.0  204.0  151.0  123.0   71.0  112.0  111.0   71.0\n",
      "4   271.0  214.0  140.0  109.0   61.0   98.0   82.0   80.2\n",
      "5   261.0  223.0  159.0  129.0   89.0  122.0  120.0   79.0\n",
      "6   314.0  273.0  207.0  168.0  115.0  151.0  146.0  104.0\n",
      "7   219.0  197.0  150.0  124.0   71.0  106.0  106.0   68.0\n",
      "8   243.0  248.0  182.0  155.0  103.0  124.0  122.0   88.0\n",
      "9   204.0  189.0  156.0  123.0   73.0  122.0  121.0   80.0\n",
      "10  216.0  171.0  145.0  126.0   79.0  110.0  108.0   68.0\n",
      "11  262.0  235.0  144.0  116.0   62.0   96.0   51.0   80.2\n",
      "12  234.0  240.0  171.0  140.0   91.0  119.0  119.0   87.0\n",
      "13  211.0  194.0  155.0  137.0   80.0  115.0  112.0   71.0\n",
      "14  241.0  192.0  148.0  126.0   80.0  127.0  123.0   88.0\n",
      "15  186.0  163.0  131.0  118.0   70.0   99.0  100.0   65.0\n",
      "16  269.0  267.0  193.0  158.0  118.0  159.0  148.0  107.0\n",
      "17  216.0  184.0  132.0  115.0   70.0   97.0   92.0   60.0\n",
      "18  213.0  216.0  157.0  142.0   92.0  113.0  109.0   76.0\n",
      "19  197.0  173.0  140.0  114.0   68.0   99.0  101.0   68.0\n",
      "20  208.0  214.0  166.0  143.0   85.0  117.0  115.0   81.0\n",
      "21  234.0  198.0  148.0  129.0   85.0  113.0  112.0   79.0\n",
      "22  205.0  179.0  144.0  123.0   75.0  100.0   98.0   64.0\n",
      "23  247.0  218.0  170.0  148.0  101.0  128.0  129.0   92.0\n",
      "24  220.0  183.0  127.0  108.0   69.0   94.0   90.0   61.0\n",
      "25  231.0  174.0  159.0  120.0   73.0  120.0  121.0  110.0\n",
      "26  231.0  207.6  156.0  125.0   70.0  120.0  111.4   80.2\n"
     ]
    }
   ],
   "source": [
    "years = df.columns[1:].tolist()\n",
    "\n",
    "filled_data =  df.fillna(df[years].mean())\n",
    "filled_data = filled_data[years].astype(float).round(1)\n",
    "print(filled_data)"
   ]
  }
 ],
 "metadata": {
  "kernelspec": {
   "display_name": "Python 3",
   "language": "python",
   "name": "python3"
  },
  "language_info": {
   "codemirror_mode": {
    "name": "ipython",
    "version": 3
   },
   "file_extension": ".py",
   "mimetype": "text/x-python",
   "name": "python",
   "nbconvert_exporter": "python",
   "pygments_lexer": "ipython3",
   "version": "3.12.1"
  }
 },
 "nbformat": 4,
 "nbformat_minor": 2
}
