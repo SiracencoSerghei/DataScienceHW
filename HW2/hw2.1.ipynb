{
 "cells": [
  {
   "cell_type": "code",
   "execution_count": 45,
   "metadata": {},
   "outputs": [],
   "source": [
    "import numpy as np\n",
    "import pandas as pd"
   ]
  },
  {
   "cell_type": "markdown",
   "metadata": {},
   "source": [
    "---\n",
    "# Дані з таблиці таблиці \"Коефіцієнт народжуваності в регіонах України (1950—2019)\"\n",
    "---"
   ]
  },
  {
   "cell_type": "code",
   "execution_count": 46,
   "metadata": {},
   "outputs": [
    {
     "name": "stdout",
     "output_type": "stream",
     "text": [
      "               Регіон  1950  1960  1970  1990  2000  2012  2014  2019\n",
      "0                Крим  23.0  20.6  16.0  13.0   7.3  12.6     —     —\n",
      "1           Вінницька  22.4  19.2  14.2  12.4   8.4  11.2  10.9   7.6\n",
      "2           Волинська  24.7  25.0  17.9  15.3  11.2  14.8  14.1  10.1\n",
      "3    Дніпропетровська  20.4  20.4  15.1  12.3   7.1  11.2  11.1   7.1\n",
      "4            Донецька  27.1  21.4  14.0  10.9   6.1   9.8   8.2     —\n",
      "5         Житомирська  26.1  22.3  15.9  12.9   8.9  12.2  12.0   7.9\n",
      "6        Закарпатська  31.4  27.3  20.7  16.8  11.5  15.1  14.6  10.4\n",
      "7          Запорізька  21.9  19.7  15.0  12.4   7.1  10.6  10.6   6.8\n",
      "8   Івано-Франківська  24.3  24.8  18.2  15.5  10.3  12.4  12.2   8.8\n",
      "9            Київська  20.4  18.9  15.6  12.3   7.3  12.2  12.1   8.0\n",
      "10     Кіровоградська  21.6  17.1  14.5  12.6   7.9  11.0  10.8   6.8\n",
      "11          Луганська  26.2  23.5  14.4  11.6   6.2   9.6   5.1     —\n",
      "12          Львівська  23.4  24.0  17.1  14.0   9.1  11.9  11.9   8.7\n",
      "13       Миколаївська  21.1  19.4  15.5  13.7   8.0  11.5  11.2   7.1\n",
      "14            Одеська  24.1  19.2  14.8  12.6   8.0  12.7  12.3   8.8\n",
      "15         Полтавська  18.6  16.3  13.1  11.8   7.0   9.9  10.0   6.5\n",
      "16         Рівненська  26.9  26.7  19.3  15.8  11.8  15.9  14.8  10.7\n",
      "17            Сумська  21.6  18.4  13.2  11.5   7.0   9.7   9.2   6.0\n",
      "18      Тернопільська  21.3  21.6  15.7  14.2   9.2  11.3  10.9   7.6\n",
      "19         Харківська  19.7  17.3  14.0  11.4   6.8   9.9  10.1   6.8\n",
      "20         Херсонська  20.8  21.4  16.6  14.3   8.5  11.7  11.5   8.1\n",
      "21        Хмельницька  23.4  19.8  14.8  12.9   8.5  11.3  11.2   7.9\n",
      "22          Черкаська  20.5  17.9  14.4  12.3   7.5  10.0   9.8   6.4\n",
      "23        Чернівецька  24.7  21.8  17.0  14.8  10.1  12.8  12.9   9.2\n",
      "24       Чернігівська  22.0  18.3  12.7  10.8   6.9   9.4   9.0   6.1\n",
      "25               Київ   NaN  17.4  15.9  12.0   7.3  12.0  12.1  11.0\n",
      "26        Севастополь   NaN   NaN   NaN  12.5   7.0  12.0     —     —\n",
      "27            Україна  22.8  20.5  15.2  12.6   7.8  11.4  11.1   8.1\n"
     ]
    }
   ],
   "source": [
    "url = 'https://uk.wikipedia.org/wiki/%D0%9D%D0%B0%D1%81%D0%B5%D0%BB%D0%B5%D0%BD%D0%BD%D1%8F_%D0%A3%D0%BA%D1%80%D0%B0%D1%97%D0%BD%D0%B8'\n",
    "\n",
    "df = pd.read_html(url, match='Коефіцієнт народжуваності в регіонах України', decimal=',', thousands='.')[0]\n",
    "print(df)"
   ]
  },
  {
   "cell_type": "markdown",
   "metadata": {},
   "source": [
    "#1. Вивести перші рядки таблиці за допомогою методу head"
   ]
  },
  {
   "cell_type": "code",
   "execution_count": 47,
   "metadata": {},
   "outputs": [
    {
     "data": {
      "text/html": [
       "<div>\n",
       "<style scoped>\n",
       "    .dataframe tbody tr th:only-of-type {\n",
       "        vertical-align: middle;\n",
       "    }\n",
       "\n",
       "    .dataframe tbody tr th {\n",
       "        vertical-align: top;\n",
       "    }\n",
       "\n",
       "    .dataframe thead th {\n",
       "        text-align: right;\n",
       "    }\n",
       "</style>\n",
       "<table border=\"1\" class=\"dataframe\">\n",
       "  <thead>\n",
       "    <tr style=\"text-align: right;\">\n",
       "      <th></th>\n",
       "      <th>Регіон</th>\n",
       "      <th>1950</th>\n",
       "      <th>1960</th>\n",
       "      <th>1970</th>\n",
       "      <th>1990</th>\n",
       "      <th>2000</th>\n",
       "      <th>2012</th>\n",
       "      <th>2014</th>\n",
       "      <th>2019</th>\n",
       "    </tr>\n",
       "  </thead>\n",
       "  <tbody>\n",
       "    <tr>\n",
       "      <th>0</th>\n",
       "      <td>Крим</td>\n",
       "      <td>23.0</td>\n",
       "      <td>20.6</td>\n",
       "      <td>16.0</td>\n",
       "      <td>13.0</td>\n",
       "      <td>7.3</td>\n",
       "      <td>12.6</td>\n",
       "      <td>—</td>\n",
       "      <td>—</td>\n",
       "    </tr>\n",
       "    <tr>\n",
       "      <th>1</th>\n",
       "      <td>Вінницька</td>\n",
       "      <td>22.4</td>\n",
       "      <td>19.2</td>\n",
       "      <td>14.2</td>\n",
       "      <td>12.4</td>\n",
       "      <td>8.4</td>\n",
       "      <td>11.2</td>\n",
       "      <td>10.9</td>\n",
       "      <td>7.6</td>\n",
       "    </tr>\n",
       "    <tr>\n",
       "      <th>2</th>\n",
       "      <td>Волинська</td>\n",
       "      <td>24.7</td>\n",
       "      <td>25.0</td>\n",
       "      <td>17.9</td>\n",
       "      <td>15.3</td>\n",
       "      <td>11.2</td>\n",
       "      <td>14.8</td>\n",
       "      <td>14.1</td>\n",
       "      <td>10.1</td>\n",
       "    </tr>\n",
       "  </tbody>\n",
       "</table>\n",
       "</div>"
      ],
      "text/plain": [
       "      Регіон  1950  1960  1970  1990  2000  2012  2014  2019\n",
       "0       Крим  23.0  20.6  16.0  13.0   7.3  12.6     —     —\n",
       "1  Вінницька  22.4  19.2  14.2  12.4   8.4  11.2  10.9   7.6\n",
       "2  Волинська  24.7  25.0  17.9  15.3  11.2  14.8  14.1  10.1"
      ]
     },
     "execution_count": 47,
     "metadata": {},
     "output_type": "execute_result"
    }
   ],
   "source": [
    "df.head(3)"
   ]
  },
  {
   "cell_type": "markdown",
   "metadata": {},
   "source": [
    "#2. Визначте кількість рядків та стовпців у датафреймі (атрибут shape)"
   ]
  },
  {
   "cell_type": "code",
   "execution_count": 48,
   "metadata": {},
   "outputs": [
    {
     "name": "stdout",
     "output_type": "stream",
     "text": [
      "Кількість рядків: 28\n",
      "Кількість стовпців: 9\n"
     ]
    }
   ],
   "source": [
    "rows = df.shape[0]\n",
    "columns = df.shape[1]\n",
    "print(f\"Кількість рядків: {rows}\\nКількість стовпців: {columns}\")"
   ]
  },
  {
   "cell_type": "markdown",
   "metadata": {},
   "source": [
    "#3. Замініть у таблиці значення \"**—**\" на значення NaN"
   ]
  },
  {
   "cell_type": "code",
   "execution_count": 49,
   "metadata": {},
   "outputs": [
    {
     "name": "stdout",
     "output_type": "stream",
     "text": [
      "             Регіон  1950  1960  1970  1990  2000  2012  2014  2019\n",
      "0              Крим  23.0  20.6  16.0  13.0   7.3  12.6   NaN   NaN\n",
      "1         Вінницька  22.4  19.2  14.2  12.4   8.4  11.2  10.9   7.6\n",
      "2         Волинська  24.7  25.0  17.9  15.3  11.2  14.8  14.1  10.1\n",
      "3  Дніпропетровська  20.4  20.4  15.1  12.3   7.1  11.2  11.1   7.1\n",
      "4          Донецька  27.1  21.4  14.0  10.9   6.1   9.8   8.2   NaN\n"
     ]
    }
   ],
   "source": [
    "df = df.replace('—', np.nan)\n",
    "print(df.head())"
   ]
  },
  {
   "cell_type": "markdown",
   "metadata": {},
   "source": [
    "#4. Визначте типи всіх стовпців за допомогою dataframe.dtypes"
   ]
  },
  {
   "cell_type": "code",
   "execution_count": 50,
   "metadata": {},
   "outputs": [
    {
     "data": {
      "text/plain": [
       "Регіон     object\n",
       "1950      float64\n",
       "1960      float64\n",
       "1970      float64\n",
       "1990      float64\n",
       "2000      float64\n",
       "2012      float64\n",
       "2014       object\n",
       "2019       object\n",
       "dtype: object"
      ]
     },
     "execution_count": 50,
     "metadata": {},
     "output_type": "execute_result"
    }
   ],
   "source": [
    "df.dtypes"
   ]
  },
  {
   "cell_type": "markdown",
   "metadata": {},
   "source": [
    "#5. Замініть типи нечислових колонок на числові. Підказка - це колонки, де знаходився символ \"—\""
   ]
  },
  {
   "cell_type": "code",
   "execution_count": 52,
   "metadata": {},
   "outputs": [
    {
     "data": {
      "text/plain": [
       "Регіон     object\n",
       "1950      float64\n",
       "1960      float64\n",
       "1970      float64\n",
       "1990      float64\n",
       "2000      float64\n",
       "2012      float64\n",
       "2014      float64\n",
       "2019      float64\n",
       "dtype: object"
      ]
     },
     "execution_count": 52,
     "metadata": {},
     "output_type": "execute_result"
    }
   ],
   "source": [
    "df[\"2014\"] = df[\"2014\"].apply(pd.to_numeric, errors='coerce')\n",
    "df[\"2019\"] = df[\"2019\"].apply(pd.to_numeric, errors='coerce')\n",
    "\n",
    "# years = df.columns[1:].tolist()\n",
    "# df[years] = df[years].astype(float)\n",
    "\n",
    "df.dtypes"
   ]
  },
  {
   "cell_type": "markdown",
   "metadata": {},
   "source": [
    "#6. Порахуйте, яка частка пропусків міститься в кожній колонці (використовуйте методи isnull та sum)"
   ]
  },
  {
   "cell_type": "code",
   "execution_count": 55,
   "metadata": {},
   "outputs": [
    {
     "data": {
      "text/plain": [
       "Регіон    0\n",
       "1950      2\n",
       "1960      1\n",
       "1970      1\n",
       "1990      0\n",
       "2000      0\n",
       "2012      0\n",
       "2014      2\n",
       "2019      4\n",
       "dtype: int64"
      ]
     },
     "execution_count": 55,
     "metadata": {},
     "output_type": "execute_result"
    }
   ],
   "source": [
    "df.isnull().sum()"
   ]
  },
  {
   "cell_type": "markdown",
   "metadata": {},
   "source": [
    "#7. Видаліть з таблиці дані по всій країні, останній рядок таблиці"
   ]
  },
  {
   "cell_type": "code",
   "execution_count": 54,
   "metadata": {},
   "outputs": [
    {
     "name": "stdout",
     "output_type": "stream",
     "text": [
      "         Регіон  1950  1960  1970  1990  2000  2012  2014  2019\n",
      "25         Київ   NaN  17.4  15.9  12.0   7.3  12.0  12.1  11.0\n",
      "26  Севастополь   NaN   NaN   NaN  12.5   7.0  12.0   NaN   NaN\n"
     ]
    }
   ],
   "source": [
    "df.drop(df.index[-1], inplace=True)\n",
    "print(df.tail(2))\n"
   ]
  },
  {
   "cell_type": "markdown",
   "metadata": {},
   "source": [
    "#8. Замініть відсутні дані в стовпцях середніми значеннями цих стовпців (метод fillna)"
   ]
  },
  {
   "cell_type": "code",
   "execution_count": 79,
   "metadata": {},
   "outputs": [
    {
     "name": "stdout",
     "output_type": "stream",
     "text": [
      "               Регіон  1950  1960  1970  1990  2000  2012  2014  2019\n",
      "0                Крим  23.0  20.6  16.0  13.0   7.3  12.6  11.1   8.0\n",
      "1           Вінницька  22.4  19.2  14.2  12.4   8.4  11.2  10.9   7.6\n",
      "2           Волинська  24.7  25.0  17.9  15.3  11.2  14.8  14.1  10.1\n",
      "3    Дніпропетровська  20.4  20.4  15.1  12.3   7.1  11.2  11.1   7.1\n",
      "4            Донецька  27.1  21.4  14.0  10.9   6.1   9.8   8.2   8.0\n",
      "5         Житомирська  26.1  22.3  15.9  12.9   8.9  12.2  12.0   7.9\n",
      "6        Закарпатська  31.4  27.3  20.7  16.8  11.5  15.1  14.6  10.4\n",
      "7          Запорізька  21.9  19.7  15.0  12.4   7.1  10.6  10.6   6.8\n",
      "8   Івано-Франківська  24.3  24.8  18.2  15.5  10.3  12.4  12.2   8.8\n",
      "9            Київська  20.4  18.9  15.6  12.3   7.3  12.2  12.1   8.0\n",
      "10     Кіровоградська  21.6  17.1  14.5  12.6   7.9  11.0  10.8   6.8\n",
      "11          Луганська  26.2  23.5  14.4  11.6   6.2   9.6   5.1   8.0\n",
      "12          Львівська  23.4  24.0  17.1  14.0   9.1  11.9  11.9   8.7\n",
      "13       Миколаївська  21.1  19.4  15.5  13.7   8.0  11.5  11.2   7.1\n",
      "14            Одеська  24.1  19.2  14.8  12.6   8.0  12.7  12.3   8.8\n",
      "15         Полтавська  18.6  16.3  13.1  11.8   7.0   9.9  10.0   6.5\n",
      "16         Рівненська  26.9  26.7  19.3  15.8  11.8  15.9  14.8  10.7\n",
      "17            Сумська  21.6  18.4  13.2  11.5   7.0   9.7   9.2   6.0\n",
      "18      Тернопільська  21.3  21.6  15.7  14.2   9.2  11.3  10.9   7.6\n",
      "19         Харківська  19.7  17.3  14.0  11.4   6.8   9.9  10.1   6.8\n",
      "20         Херсонська  20.8  21.4  16.6  14.3   8.5  11.7  11.5   8.1\n",
      "21        Хмельницька  23.4  19.8  14.8  12.9   8.5  11.3  11.2   7.9\n",
      "22          Черкаська  20.5  17.9  14.4  12.3   7.5  10.0   9.8   6.4\n",
      "23        Чернівецька  24.7  21.8  17.0  14.8  10.1  12.8  12.9   9.2\n",
      "24       Чернігівська  22.0  18.3  12.7  10.8   6.9   9.4   9.0   6.1\n",
      "25               Київ  23.1  17.4  15.9  12.0   7.3  12.0  12.1  11.0\n",
      "26        Севастополь  23.1  20.8  15.6  12.5   7.0  12.0  11.1   8.0\n"
     ]
    }
   ],
   "source": [
    "years = df.columns[1:].tolist()\n",
    "\n",
    "df[years] = df[years].apply(pd.to_numeric, errors='coerce')\n",
    "df =  df.fillna(df[years].mean()).round(1)\n",
    "\n",
    "print(df)"
   ]
  },
  {
   "cell_type": "markdown",
   "metadata": {},
   "source": [
    "#9. Отримайте список регіонів, де рівень народжуваності у 2019 році був вищим за середній по Україні"
   ]
  },
  {
   "cell_type": "code",
   "execution_count": 80,
   "metadata": {},
   "outputs": [
    {
     "name": "stdout",
     "output_type": "stream",
     "text": [
      "mean = 8.015\n",
      "Region: Волинська, 2019 value: 10.1\n",
      "Region: Закарпатська, 2019 value: 10.4\n",
      "Region: Івано-Франківська, 2019 value: 8.8\n",
      "Region: Львівська, 2019 value: 8.7\n",
      "Region: Одеська, 2019 value: 8.8\n",
      "Region: Рівненська, 2019 value: 10.7\n",
      "Region: Херсонська, 2019 value: 8.1\n",
      "Region: Чернівецька, 2019 value: 9.2\n",
      "Region: Київ, 2019 value: 11.0\n"
     ]
    }
   ],
   "source": [
    "mean_data = df['2019'].mean().round(3)\n",
    "above_average = df['2019'] > mean_data\n",
    "\n",
    "regions = df.loc[above_average, 'Регіон'].tolist()\n",
    "print(f'mean = {mean_data}')\n",
    "for region in regions:\n",
    "    region_value = df.loc[df['Регіон'] == region, '2019'].values[0]\n",
    "    print(f'Region: {region}, 2019 value: {region_value}')"
   ]
  },
  {
   "cell_type": "markdown",
   "metadata": {},
   "source": [
    "#10. У якому регіоні була найвища народжуваність у 2014 році?"
   ]
  },
  {
   "cell_type": "code",
   "execution_count": 81,
   "metadata": {},
   "outputs": [
    {
     "name": "stdout",
     "output_type": "stream",
     "text": [
      "Найвища народжуваність у 2014 році була у регіоні - Рівненська\n"
     ]
    }
   ],
   "source": [
    "max_region_2014 = df.loc[df['2014'] == df['2014'].max(), \"Регіон\"]\n",
    "region_name = max_region_2014.iloc[0]\n",
    "print(f'Найвища народжуваність у 2014 році була у регіоні - {region_name}')"
   ]
  },
  {
   "cell_type": "markdown",
   "metadata": {},
   "source": [
    "#11. Побудуйте стовпчикову діаграму народжуваності по регіонах у 2019 році"
   ]
  },
  {
   "cell_type": "code",
   "execution_count": 105,
   "metadata": {},
   "outputs": [
    {
     "data": {
      "image/png": "[encoded data removed]",
      "text/plain": [
       "<Figure size 1200x800 with 1 Axes>"
      ]
     },
     "metadata": {},
     "output_type": "display_data"
    }
   ],
   "source": [
    "import matplotlib.pyplot as plt\n",
    "import seaborn as sns\n",
    "\n",
    "# null_values = df.isnull().sum()\n",
    "# print(f'We have null values in: {null_values}')\n",
    "\n",
    "regions = df['Регіон']\n",
    "birth_2019 = df['2019']\n",
    "\n",
    "plt.figure(figsize=(12, 8))\n",
    "\n",
    "sns.barplot(x=regions, y=birth_2019, estimator='mean', palette='colorblind', hue='Регіон', data=df)\n",
    "\n",
    "plt.title('Народжуваність по регіонах у 2019 році', fontsize=16)\n",
    "\n",
    "plt.xlabel('Регіон', fontsize=12)\n",
    "plt.ylabel('Народжуваність', fontsize=12)\n",
    "\n",
    "plt.xticks(rotation=90)\n",
    "\n",
    "plt.grid(axis='y', linestyle='--', alpha=0.7)\n",
    "\n",
    "plt.tight_layout()\n",
    "plt.show()"
   ]
  }
 ],
 "metadata": {
  "kernelspec": {
   "display_name": "Python 3",
   "language": "python",
   "name": "python3"
  },
  "language_info": {
   "codemirror_mode": {
    "name": "ipython",
    "version": 3
   },
   "file_extension": ".py",
   "mimetype": "text/x-python",
   "name": "python",
   "nbconvert_exporter": "python",
   "pygments_lexer": "ipython3",
   "version": "3.12.1"
  }
 },
 "nbformat": 4,
 "nbformat_minor": 2
}
