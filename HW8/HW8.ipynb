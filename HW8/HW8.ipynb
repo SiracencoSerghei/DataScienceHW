{
  "cells": [
    {
      "cell_type": "markdown",
      "metadata": {
        "id": "view-in-github",
        "colab_type": "text"
      },
      "source": [
        "<a href=\"https://colab.research.google.com/github/SiracencoSerghei/DataScienceHW/blob/main/HW8/HW8.ipynb\" target=\"_parent\"><img src=\"https://colab.research.google.com/assets/colab-badge.svg\" alt=\"Open In Colab\"/></a>"
      ]
    },
    {
      "cell_type": "markdown",
      "metadata": {
        "id": "b0Yf4NBJUSNM"
      },
      "source": [
        "# Створення нейронної мережі\n",
        "\n",
        "У цьому завданні ми створимо повнозв'язну нейронну мережу, використовуючи при цьому низькорівневі механізми tensorflow.\n",
        "\n",
        "Архітектура нейромережі представлена на наступному малюнку. Як бачиш, у ній є один вхідний шар, два приховані, а також вихідний шар. В якості активаційної функції у прихованих шарах буде використовуватись сигмоїда. На вихідному шарі ми використовуємо softmax.\n",
        "\n",
        "Частина коду зі створення мережі вже написана, тобі потрібно заповнити пропуски у вказаних місцях."
      ]
    },
    {
      "cell_type": "markdown",
      "metadata": {
        "id": "01rZWUu0USNQ"
      },
      "source": [
        "## Архітектура нейронної мережі\n",
        "\n",
        "<img src=\"http://cs231n.github.io/assets/nn1/neural_net2.jpeg\" alt=\"nn\" style=\"width: 400px;\"/>\n"
      ]
    },
    {
      "cell_type": "markdown",
      "metadata": {
        "id": "LLvIZ705Qw_V"
      },
      "source": [
        "## Про датасет MNIST\n",
        "\n",
        "Дану нейромережу ми будемо вивчати на датасеті MNIST. Цей датасет являє собою велику кількість зображень рукописних цифр розміром $28 \\times 28$ пікселів. Кожен піксель приймає значення від 0 до 255.\n",
        "\n",
        "Як і раніше, датасет буде розділений на навчальну та тестову вибірки. При цьому ми виконаємо нормалізацію всіх зображень, щоб значення пікселів знаходилось у проміжку від 0 до 1, розділивши яскравість кожного пікселя на 255.\n",
        "\n",
        "Окрім того, архітектура нейронної мережі очікує на вхід вектор. У нашому ж випадку кожен об'єкт вибірки являє собою матрицю. Що ж робити? У цьому завданні ми \"розтягнемо\" матрицю $28 \\times 28$, отримавши при цьому вектор, що складається з 784 елементів.\n",
        "\n",
        "![MNIST Dataset](https://www.researchgate.net/profile/Steven-Young-5/publication/306056875/figure/fig1/AS:393921575309346@1470929630835/Example-images-from-the-MNIST-dataset.png)\n",
        "\n",
        "Більше інформації про датасет можна знайти [тут](https://en.wikipedia.org/wiki/MNIST_database), або [тут](https://www.tensorflow.org/datasets/catalog/mnist), a [також тут](https://www.kaggle.com/datasets/oddrationale/mnist-in-csv)"
      ]
    },
    {
      "cell_type": "code",
      "execution_count": 1,
      "metadata": {
        "id": "il_0_5OyUSNR"
      },
      "outputs": [],
      "source": [
        "import tensorflow as tf\n",
        "import numpy as np\n",
        "import pandas as pd\n",
        "import matplotlib.pyplot as plt\n",
        "import random\n",
        "import keras as K\n",
        "import seaborn as sns\n",
        "from sklearn.metrics import confusion_matrix"
      ]
    },
    {
      "cell_type": "code",
      "execution_count": 2,
      "metadata": {
        "id": "cd-1_abTUSNS"
      },
      "outputs": [],
      "source": [
        "num_classes = 10 # загальна кількість класів, у нашому випадку це цифри від 0 до 9\n",
        "num_features = 784 # кількість атрибутів вхідного вектора 28 * 28 = 784\n",
        "\n",
        "learning_rate = 0.001 # швидкість навчання нейронної мережі\n",
        "training_steps = 3000 # максимальне число епох\n",
        "batch_size = 256 # перераховувати ваги мережі ми будемо не на всій вибірці, а на її випадковій підмножині з batch_size елементів\n",
        "display_step = 100 # кожні 100 ітерацій ми будемо показувати поточне значення функції втрат і точності\n",
        "\n",
        "n_hidden_1 = 128 # кількість нейронів 1-го шару\n",
        "n_hidden_2 = 256 # кількість нейронів 2-го шару"
      ]
    },
    {
      "cell_type": "code",
      "execution_count": 3,
      "metadata": {
        "id": "pGTXiRyTUSNT",
        "outputId": "82585570-73a2-4f62-c849-6e1c890030ff",
        "colab": {
          "base_uri": "https://localhost:8080/"
        }
      },
      "outputs": [
        {
          "output_type": "stream",
          "name": "stdout",
          "text": [
            "Downloading data from https://storage.googleapis.com/tensorflow/tf-keras-datasets/mnist.npz\n",
            "\u001b[1m11490434/11490434\u001b[0m \u001b[32m━━━━━━━━━━━━━━━━━━━━\u001b[0m\u001b[37m\u001b[0m \u001b[1m1s\u001b[0m 0us/step\n"
          ]
        }
      ],
      "source": [
        "# from tensorflow.keras.datasets import mnist\n",
        "from keras.datasets import mnist\n",
        "\n",
        "# Завантажуємо датасет\n",
        "(x_train, y_train), (x_test, y_test) = mnist.load_data()\n",
        "\n",
        "# Перетворюємо цілочисельні пікселі на тип float32\n",
        "x_train, x_test = np.array(x_train, np.float32), np.array(x_test, np.float32)\n",
        "\n",
        "# Перетворюємо матриці розміром 28x28 пікселів у вектор з 784 елементів\n",
        "x_train, x_test = x_train.reshape([-1, num_features]), x_test.reshape([-1, num_features])\n",
        "\n",
        "# Нормалізуємо значення пікселів\n",
        "x_train, x_test = x_train / 255., x_test / 255.\n",
        "\n",
        "# Перемішаємо тренувальні дані\n",
        "train_data = tf.data.Dataset.from_tensor_slices((x_train, y_train))\n",
        "train_data = train_data.repeat().shuffle(5000).batch(batch_size).prefetch(1)"
      ]
    },
    {
      "cell_type": "code",
      "execution_count": 4,
      "metadata": {
        "id": "FkRmCQjnUSNV"
      },
      "outputs": [],
      "source": [
        "# Створимо нейронну мережу\n",
        "\n",
        "class DenseLayer(tf.Module):\n",
        "    def __init__(self, in_features, out_features, name=None):\n",
        "        super().__init__(name=name)\n",
        "        self.w = tf.Variable(\n",
        "            tf.random.normal([in_features, out_features]), name=\"w\"\n",
        "        )\n",
        "        self.b = tf.Variable(tf.zeros([out_features]), name=\"b\")\n",
        "\n",
        "    def __call__(self, x, activation=0):\n",
        "        y = tf.matmul(x, self.w) + self.b\n",
        "        if activation != 0:\n",
        "            return tf.nn.softmax(y)\n",
        "        else:\n",
        "            return tf.nn.sigmoid(y)\n",
        "\n",
        "class NN(tf.Module):\n",
        "  def __init__(self, name=None):\n",
        "    super().__init__(name=name)\n",
        "    # Перший шар, який складається з 128 нейронів\n",
        "    self.layer1 = DenseLayer(num_features, n_hidden_1)\n",
        "    # Другий шар, який складається з 256 нейронів\n",
        "    self.layer2 = DenseLayer(n_hidden_1, n_hidden_2)\n",
        "    # Вихідний шар\n",
        "    self.output_layer = DenseLayer(n_hidden_2, num_classes)\n",
        "\n",
        "\n",
        "  def __call__(self, x):\n",
        "    # Передача даних через перші два шари та вихідний шар з функцією активації softmax\n",
        "    x = self.layer1(x, activation=0)  # Сигмоїда для першого шару\n",
        "    x = self.layer2(x, activation=0)  # Сигмоїда для другого шару\n",
        "    x = self.output_layer(x, activation=1)  # Softmax для вихідного шару\n",
        "    return x"
      ]
    },
    {
      "cell_type": "code",
      "execution_count": 5,
      "metadata": {
        "id": "LIf3o7VAUSNV"
      },
      "outputs": [],
      "source": [
        "# В якості функції помилки в даному випадку зручно взяти крос-ентропію\n",
        "def cross_entropy(y_pred, y_true):\n",
        "    # Закодувати label в one hot vector\n",
        "    y_true = tf.one_hot(y_true, depth=num_classes)\n",
        "\n",
        "    # Значення передбачення, щоб уникнути помилки log(0).\n",
        "    y_pred = tf.clip_by_value(y_pred, 1e-9, 1.)\n",
        "\n",
        "    # Обчислення крос-ентропії\n",
        "    return tf.reduce_mean(-tf.reduce_sum(y_true * tf.math.log(y_pred)))\n",
        "\n",
        "# Як метрику якості використовуємо точність\n",
        "def accuracy(y_pred, y_true):\n",
        "    # Місце для вашого коду\n",
        "    correct_prediction = tf.equal(tf.argmax(y_pred, 1), tf.cast(y_true, tf.int64))\n",
        "    # Обчислюємо точність\n",
        "    accuracy = tf.reduce_mean(tf.cast(correct_prediction, tf.float32))\n",
        "\n",
        "    # Виводимо результат\n",
        "    print(\"Точність моделі:\", accuracy.numpy())\n",
        "\n",
        "    return accuracy"
      ]
    },
    {
      "cell_type": "code",
      "execution_count": 6,
      "metadata": {
        "id": "MQeT1yatUSNW"
      },
      "outputs": [],
      "source": [
        "# Створимо екземпляр нейронної мережі\n",
        "neural_net = NN(name=\"mnist\")\n",
        "\n",
        "# Функція навчання нейромережі\n",
        "def train(neural_net, input_x, output_y):\n",
        "  # Для налаштування вагів мережі будемо використовувати стохастичний градієнтний спуск\n",
        "  optimizer = tf.optimizers.SGD(learning_rate)\n",
        "\n",
        "  # Активація автоматичного диференціювання\n",
        "  with tf.GradientTape() as g:\n",
        "    pred = neural_net(input_x)\n",
        "    loss = cross_entropy(pred, output_y)\n",
        "\n",
        "    # Отримаємо список оптимізованих параметрів\n",
        "    trainable_variables = neural_net.trainable_variables\n",
        "    # Обчислимо за ними значення градієнта\n",
        "    gradients = g.gradient(loss, trainable_variables)\n",
        "\n",
        "    # Модифікуємо параметри\n",
        "    optimizer.apply_gradients(zip(gradients, trainable_variables))"
      ]
    },
    {
      "cell_type": "code",
      "execution_count": 7,
      "metadata": {
        "id": "fnyns9lBfpQZ",
        "colab": {
          "base_uri": "https://localhost:8080/"
        },
        "outputId": "80c8869d-2042-4916-ddee-0c9f9b7c125e"
      },
      "outputs": [
        {
          "output_type": "stream",
          "name": "stdout",
          "text": [
            "Точність моделі: 0.703125\n",
            "Step: 100, Loss: 307.62, Accuracy: 0.70\n",
            "Точність моделі: 0.796875\n",
            "Step: 200, Loss: 186.18, Accuracy: 0.80\n",
            "Точність моделі: 0.78125\n",
            "Step: 300, Loss: 177.22, Accuracy: 0.78\n",
            "Точність моделі: 0.8046875\n",
            "Step: 400, Loss: 200.11, Accuracy: 0.80\n",
            "Точність моделі: 0.87890625\n",
            "Step: 500, Loss: 104.27, Accuracy: 0.88\n",
            "Точність моделі: 0.85546875\n",
            "Step: 600, Loss: 123.07, Accuracy: 0.86\n",
            "Точність моделі: 0.87890625\n",
            "Step: 700, Loss: 102.97, Accuracy: 0.88\n",
            "Точність моделі: 0.90625\n",
            "Step: 800, Loss: 76.85, Accuracy: 0.91\n",
            "Точність моделі: 0.890625\n",
            "Step: 900, Loss: 87.95, Accuracy: 0.89\n",
            "Точність моделі: 0.85546875\n",
            "Step: 1000, Loss: 133.95, Accuracy: 0.86\n",
            "Точність моделі: 0.90625\n",
            "Step: 1100, Loss: 96.46, Accuracy: 0.91\n",
            "Точність моделі: 0.88671875\n",
            "Step: 1200, Loss: 78.42, Accuracy: 0.89\n",
            "Точність моделі: 0.875\n",
            "Step: 1300, Loss: 100.93, Accuracy: 0.88\n",
            "Точність моделі: 0.88671875\n",
            "Step: 1400, Loss: 98.48, Accuracy: 0.89\n",
            "Точність моделі: 0.92578125\n",
            "Step: 1500, Loss: 74.62, Accuracy: 0.93\n",
            "Точність моделі: 0.890625\n",
            "Step: 1600, Loss: 95.36, Accuracy: 0.89\n",
            "Точність моделі: 0.87109375\n",
            "Step: 1700, Loss: 116.53, Accuracy: 0.87\n",
            "Точність моделі: 0.9140625\n",
            "Step: 1800, Loss: 81.46, Accuracy: 0.91\n",
            "Точність моделі: 0.9140625\n",
            "Step: 1900, Loss: 58.85, Accuracy: 0.91\n",
            "Точність моделі: 0.90625\n",
            "Step: 2000, Loss: 67.67, Accuracy: 0.91\n",
            "Точність моделі: 0.89453125\n",
            "Step: 2100, Loss: 89.22, Accuracy: 0.89\n",
            "Точність моделі: 0.91015625\n",
            "Step: 2200, Loss: 64.81, Accuracy: 0.91\n",
            "Точність моделі: 0.93359375\n",
            "Step: 2300, Loss: 68.43, Accuracy: 0.93\n",
            "Точність моделі: 0.9140625\n",
            "Step: 2400, Loss: 65.20, Accuracy: 0.91\n",
            "Точність моделі: 0.9453125\n",
            "Step: 2500, Loss: 46.12, Accuracy: 0.95\n",
            "Точність моделі: 0.95703125\n",
            "Step: 2600, Loss: 32.61, Accuracy: 0.96\n",
            "Точність моделі: 0.93359375\n",
            "Step: 2700, Loss: 51.59, Accuracy: 0.93\n",
            "Точність моделі: 0.9140625\n",
            "Step: 2800, Loss: 65.27, Accuracy: 0.91\n",
            "Точність моделі: 0.90625\n",
            "Step: 2900, Loss: 64.99, Accuracy: 0.91\n",
            "Точність моделі: 0.90234375\n",
            "Step: 3000, Loss: 74.54, Accuracy: 0.90\n"
          ]
        }
      ],
      "source": [
        "# Тренування мережі\n",
        "\n",
        "loss_history = []  # кожні display_step кроків зберігай в цьому списку поточну помилку нейромережі\n",
        "accuracy_history = [] # кожні display_step кроків зберігай в цьому списку поточну точність нейромережі\n",
        "\n",
        "# У цьому циклі ми будемо проводити навчання нейронної мережі\n",
        "# із тренувального датасета train_data вилучи випадкову підмножину, на якій\n",
        "# відбудеться тренування. Використовуй метод take, доступний для тренувального датасета.\n",
        "for step, (batch_x, batch_y) in enumerate(train_data.take(training_steps), 1):\n",
        "    # Оновлюємо ваги нейронної мережі\n",
        "    # Місце для вашого коду\n",
        "    train(neural_net, batch_x, batch_y)\n",
        "\n",
        "    if step % display_step == 0:\n",
        "        pred = neural_net(batch_x)\n",
        "        # Місце для вашого коду\n",
        "        loss = cross_entropy(pred, batch_y)\n",
        "        acc = accuracy(pred, batch_y)\n",
        "        loss_history.append(loss.numpy())\n",
        "        accuracy_history.append(acc.numpy())\n",
        "        print(f\"Step: {step}, Loss: {loss:.2f}, Accuracy: {acc:.2f}\")\n"
      ]
    },
    {
      "cell_type": "code",
      "execution_count": 8,
      "metadata": {
        "id": "_yCBfG6MbQB2",
        "colab": {
          "base_uri": "https://localhost:8080/",
          "height": 472
        },
        "outputId": "d5aaacdf-5257-457e-daae-8190fe0b8629"
      },
      "outputs": [
        {
          "output_type": "display_data",
          "data": {
            "text/plain": [
              "<Figure size 640x480 with 2 Axes>"
            ],
            "image/png": "[encoded data removed]"
          },
          "metadata": {}
        }
      ],
      "source": [
        "# Виведіть графіки залежності зміни точності і втрат від кроку\n",
        "# Якщо все зроблено правильно, то точність повинна зростати, а втрати зменшуватись\n",
        "\n",
        "import matplotlib.pyplot as plt\n",
        "\n",
        "# Виведіть графік функції втрат\n",
        "# Місце для вашого коду\n",
        "plt.subplot(1, 2, 1)\n",
        "plt.plot(loss_history, label='Loss')\n",
        "plt.xlabel('Step')\n",
        "plt.ylabel('Loss')\n",
        "plt.title('Loss over Steps')\n",
        "plt.legend()\n",
        "# Виведіть графік точності\n",
        "# Місце для вашого коду\n",
        "plt.subplot(1, 2, 2)\n",
        "plt.plot(accuracy_history, label='Accuracy')\n",
        "plt.xlabel('Step')\n",
        "plt.ylabel('Accuracy')\n",
        "plt.title('Accuracy over Steps')\n",
        "plt.legend()\n",
        "\n",
        "plt.show()"
      ]
    },
    {
      "cell_type": "code",
      "execution_count": 9,
      "metadata": {
        "id": "LE3g4gDyUSNY",
        "colab": {
          "base_uri": "https://localhost:8080/"
        },
        "outputId": "af0d07c3-c523-4d55-dafc-5e8d5614d6cd"
      },
      "outputs": [
        {
          "output_type": "stream",
          "name": "stdout",
          "text": [
            "Точність моделі: 0.9018\n",
            "Test Accuracy: 0.9017999768257141\n"
          ]
        }
      ],
      "source": [
        "# Обчисліть точність навченої нейромережі\n",
        "# Місце для вашого коду\n",
        "test_pred = neural_net(x_test)\n",
        "\n",
        "# Тестування моделі на тестових даних\n",
        "# Місце для вашого коду\n",
        "test_acc = accuracy(test_pred, y_test)\n",
        "print(f\"Test Accuracy: {test_acc.numpy()}\")\n"
      ]
    },
    {
      "cell_type": "code",
      "execution_count": 13,
      "metadata": {
        "id": "_EEHAubOUSNY",
        "colab": {
          "base_uri": "https://localhost:8080/",
          "height": 374
        },
        "outputId": "1c04769f-9239-4359-c547-13f6bfc4ef10"
      },
      "outputs": [
        {
          "output_type": "display_data",
          "data": {
            "text/plain": [
              "<Figure size 2000x400 with 10 Axes>"
            ],
            "image/png": "[encoded data removed]"
          },
          "metadata": {}
        },
        {
          "output_type": "stream",
          "name": "stdout",
          "text": [
            "Кількість правильних передбачень: 10 з 10\n",
            "Точність на цих 10 зображеннях: 100.00%\n"
          ]
        }
      ],
      "source": [
        "# Протестуйте навчену нейромережу на 10 зображеннях. З тестової вибірки візьміть 5\n",
        "# випадкових зображень і передайте їх у нейронну мережу.\n",
        "# Виведіть зображення та випишіть  поруч відповідь нейромережі.\n",
        "# Зробіть висновок про те, чи помиляється твоя нейронна мережа, і якщо так, то як часто?\n",
        "\n",
        "# Місце для вашого коду\n",
        "random_indices = random.sample(range(len(x_test)), 10)\n",
        "\n",
        "# Створимо графік для відображення 10 зображень\n",
        "plt.figure(figsize=(20, 4))\n",
        "\n",
        "for i, idx in enumerate(random_indices):\n",
        "    # Відобразимо зображення\n",
        "    plt.subplot(2, 5, i + 1)\n",
        "    plt.imshow(x_test[idx].reshape(28, 28), cmap='gray')\n",
        "\n",
        "    # Отримаємо передбачення нейронної мережі\n",
        "    pred_label = tf.argmax(neural_net(x_test[idx:idx+1]), 1).numpy()[0]\n",
        "    true_label = y_test[idx]\n",
        "\n",
        "    # Додамо заголовок з передбаченням та правильною міткою\n",
        "    plt.title(f\"Pred: {pred_label}, True: {true_label}\")\n",
        "    plt.axis('off')\n",
        "\n",
        "plt.tight_layout()\n",
        "plt.show()\n",
        "\n",
        "# Зробимо висновок про помилки\n",
        "correct_predictions = 0\n",
        "for i, idx in enumerate(random_indices):\n",
        "    pred_label = tf.argmax(neural_net(x_test[idx:idx+1]), 1).numpy()[0]\n",
        "    true_label = y_test[idx]\n",
        "    if pred_label == true_label:\n",
        "        correct_predictions += 1\n",
        "\n",
        "print(f\"Кількість правильних передбачень: {correct_predictions} з 10\")\n",
        "print(f\"Точність на цих 10 зображеннях: {(correct_predictions / 10) * 100:.2f}%\")"
      ]
    },
    {
      "cell_type": "markdown",
      "source": [
        "---\n",
        "# Висновки\n",
        "---\n",
        "\n",
        "У деяких випадках модель досягає точності 100%, а на інших — 90% чи 80%. Це досить високі показники, які підходять для багатьох реальних застосунків.\n",
        "\n",
        "Однак, якщо задачі вимагають ще кращих результатів, можна підвищити точність, збільшивши обсяг навчальної вибірки або змінюючи архітектуру нейронної мережі."
      ],
      "metadata": {
        "id": "fDQLiM9RKpjA"
      }
    }
  ],
  "metadata": {
    "colab": {
      "provenance": [],
      "include_colab_link": true
    },
    "kernelspec": {
      "display_name": "Python 3 (ipykernel)",
      "language": "python",
      "name": "python3"
    },
    "language_info": {
      "codemirror_mode": {
        "name": "ipython",
        "version": 3
      },
      "file_extension": ".py",
      "mimetype": "text/x-python",
      "name": "python",
      "nbconvert_exporter": "python",
      "pygments_lexer": "ipython3",
      "version": "3.9.2"
    }
  },
  "nbformat": 4,
  "nbformat_minor": 0
}